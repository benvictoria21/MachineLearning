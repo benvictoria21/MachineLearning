{
  "nbformat": 4,
  "nbformat_minor": 0,
  "metadata": {
    "kernelspec": {
      "name": "python3",
      "display_name": "Python 3",
      "language": "python"
    },
    "language_info": {
      "name": "python",
      "version": "3.7.9",
      "mimetype": "text/x-python",
      "codemirror_mode": {
        "name": "ipython",
        "version": 3
      },
      "pygments_lexer": "ipython3",
      "nbconvert_exporter": "python",
      "file_extension": ".py"
    },
    "colab": {
      "name": "Solar_Prediction .ipynb",
      "provenance": []
    }
  },
  "cells": [
    {
      "cell_type": "code",
      "metadata": {
        "id": "74EWlYtPt9Dq"
      },
      "source": [
        "import numpy as np\n",
        "import pandas as pd\n",
        "import matplotlib.pyplot as plt"
      ],
      "execution_count": 10,
      "outputs": []
    },
    {
      "cell_type": "code",
      "metadata": {
        "colab": {
          "base_uri": "https://localhost:8080/",
          "height": 391
        },
        "id": "NMBlSGbIt9GO",
        "outputId": "7688b38f-e3ff-42df-e735-e9d47f6bf783"
      },
      "source": [
        "df = pd.read_csv(\"https://raw.githubusercontent.com/benvictoria17/MachineLearning/master/dataset/SolarPrediction.csv\")\n",
        "df.head()"
      ],
      "execution_count": 11,
      "outputs": [
        {
          "output_type": "execute_result",
          "data": {
            "text/html": [
              "<div>\n",
              "<style scoped>\n",
              "    .dataframe tbody tr th:only-of-type {\n",
              "        vertical-align: middle;\n",
              "    }\n",
              "\n",
              "    .dataframe tbody tr th {\n",
              "        vertical-align: top;\n",
              "    }\n",
              "\n",
              "    .dataframe thead th {\n",
              "        text-align: right;\n",
              "    }\n",
              "</style>\n",
              "<table border=\"1\" class=\"dataframe\">\n",
              "  <thead>\n",
              "    <tr style=\"text-align: right;\">\n",
              "      <th></th>\n",
              "      <th>UNIXTime</th>\n",
              "      <th>Data</th>\n",
              "      <th>Time</th>\n",
              "      <th>Radiation</th>\n",
              "      <th>Temperature</th>\n",
              "      <th>Pressure</th>\n",
              "      <th>Humidity</th>\n",
              "      <th>WindDirection(Degrees)</th>\n",
              "      <th>Speed</th>\n",
              "      <th>TimeSunRise</th>\n",
              "      <th>TimeSunSet</th>\n",
              "    </tr>\n",
              "  </thead>\n",
              "  <tbody>\n",
              "    <tr>\n",
              "      <th>0</th>\n",
              "      <td>1475229326</td>\n",
              "      <td>9/29/2016 12:00:00 AM</td>\n",
              "      <td>23:55:26</td>\n",
              "      <td>1.21</td>\n",
              "      <td>48</td>\n",
              "      <td>30.46</td>\n",
              "      <td>59</td>\n",
              "      <td>177.39</td>\n",
              "      <td>5.62</td>\n",
              "      <td>06:13:00</td>\n",
              "      <td>18:13:00</td>\n",
              "    </tr>\n",
              "    <tr>\n",
              "      <th>1</th>\n",
              "      <td>1475229023</td>\n",
              "      <td>9/29/2016 12:00:00 AM</td>\n",
              "      <td>23:50:23</td>\n",
              "      <td>1.21</td>\n",
              "      <td>48</td>\n",
              "      <td>30.46</td>\n",
              "      <td>58</td>\n",
              "      <td>176.78</td>\n",
              "      <td>3.37</td>\n",
              "      <td>06:13:00</td>\n",
              "      <td>18:13:00</td>\n",
              "    </tr>\n",
              "    <tr>\n",
              "      <th>2</th>\n",
              "      <td>1475228726</td>\n",
              "      <td>9/29/2016 12:00:00 AM</td>\n",
              "      <td>23:45:26</td>\n",
              "      <td>1.23</td>\n",
              "      <td>48</td>\n",
              "      <td>30.46</td>\n",
              "      <td>57</td>\n",
              "      <td>158.75</td>\n",
              "      <td>3.37</td>\n",
              "      <td>06:13:00</td>\n",
              "      <td>18:13:00</td>\n",
              "    </tr>\n",
              "    <tr>\n",
              "      <th>3</th>\n",
              "      <td>1475228421</td>\n",
              "      <td>9/29/2016 12:00:00 AM</td>\n",
              "      <td>23:40:21</td>\n",
              "      <td>1.21</td>\n",
              "      <td>48</td>\n",
              "      <td>30.46</td>\n",
              "      <td>60</td>\n",
              "      <td>137.71</td>\n",
              "      <td>3.37</td>\n",
              "      <td>06:13:00</td>\n",
              "      <td>18:13:00</td>\n",
              "    </tr>\n",
              "    <tr>\n",
              "      <th>4</th>\n",
              "      <td>1475228124</td>\n",
              "      <td>9/29/2016 12:00:00 AM</td>\n",
              "      <td>23:35:24</td>\n",
              "      <td>1.17</td>\n",
              "      <td>48</td>\n",
              "      <td>30.46</td>\n",
              "      <td>62</td>\n",
              "      <td>104.95</td>\n",
              "      <td>5.62</td>\n",
              "      <td>06:13:00</td>\n",
              "      <td>18:13:00</td>\n",
              "    </tr>\n",
              "  </tbody>\n",
              "</table>\n",
              "</div>"
            ],
            "text/plain": [
              "     UNIXTime                   Data      Time  ...  Speed  TimeSunRise  TimeSunSet\n",
              "0  1475229326  9/29/2016 12:00:00 AM  23:55:26  ...   5.62     06:13:00    18:13:00\n",
              "1  1475229023  9/29/2016 12:00:00 AM  23:50:23  ...   3.37     06:13:00    18:13:00\n",
              "2  1475228726  9/29/2016 12:00:00 AM  23:45:26  ...   3.37     06:13:00    18:13:00\n",
              "3  1475228421  9/29/2016 12:00:00 AM  23:40:21  ...   3.37     06:13:00    18:13:00\n",
              "4  1475228124  9/29/2016 12:00:00 AM  23:35:24  ...   5.62     06:13:00    18:13:00\n",
              "\n",
              "[5 rows x 11 columns]"
            ]
          },
          "metadata": {
            "tags": []
          },
          "execution_count": 11
        }
      ]
    },
    {
      "cell_type": "code",
      "metadata": {
        "colab": {
          "base_uri": "https://localhost:8080/",
          "height": 296
        },
        "id": "aNAdnCg8t9I2",
        "outputId": "c372ac5a-d776-4e3c-fd4f-9b5c9550f7ee"
      },
      "source": [
        "from sklearn.linear_model import LinearRegression\n",
        "Linear_Reg = LinearRegression()\n",
        "x=df.Humidity.values.reshape(-1,1)\n",
        "y=df.Radiation.values.reshape(-1,1)\n",
        "Linear_Reg.fit(x,y)\n",
        "y_head=Linear_Reg.predict(x)\n",
        "plt.scatter(df.Humidity,df.Radiation)\n",
        "plt.xlabel(\"Humidity\")\n",
        "plt.ylabel(\"Radiation\")\n",
        "plt.plot(x,y_head,color=\"orange\")"
      ],
      "execution_count": 12,
      "outputs": [
        {
          "output_type": "execute_result",
          "data": {
            "text/plain": [
              "[<matplotlib.lines.Line2D at 0x7f9713240f90>]"
            ]
          },
          "metadata": {
            "tags": []
          },
          "execution_count": 12
        },
        {
          "output_type": "display_data",
          "data": {
            "image/png": "[encoded data removed]",
            "text/plain": [
              "<Figure size 432x288 with 1 Axes>"
            ]
          },
          "metadata": {
            "tags": [],
            "needs_background": "light"
          }
        }
      ]
    },
    {
      "cell_type": "code",
      "metadata": {
        "colab": {
          "base_uri": "https://localhost:8080/"
        },
        "id": "x8K1e0XaupI8",
        "outputId": "ebf97c76-f0de-42c7-8b74-0710b58638e4"
      },
      "source": [
        "from sklearn.metrics import r2_score\n",
        "print(\"r2_score\",r2_score(y,y_head))"
      ],
      "execution_count": 13,
      "outputs": [
        {
          "output_type": "stream",
          "text": [
            "r2_score 0.05115316162229189\n"
          ],
          "name": "stdout"
        }
      ]
    },
    {
      "cell_type": "code",
      "metadata": {
        "colab": {
          "base_uri": "https://localhost:8080/"
        },
        "id": "MpZOFDl8upKo",
        "outputId": "b6cea015-fb7b-413a-a628-3063990c14b1"
      },
      "source": [
        "from sklearn.linear_model import LinearRegression\n",
        "Multi_Linear_Reg = LinearRegression()\n",
        "x=df.iloc[:,[4,5,6,7,8]].values\n",
        "y=df.Radiation.values.reshape(-1,1)\n",
        "Multi_Linear_Reg.fit(x,y)\n",
        "y_head=Multi_Linear_Reg.predict(x)\n",
        "print(\"b is:\",Multi_Linear_Reg.intercept_)\n",
        "print(\"k1,k2,k3,k4,k5 are:\",Multi_Linear_Reg.coef_)"
      ],
      "execution_count": 14,
      "outputs": [
        {
          "output_type": "stream",
          "text": [
            "b is: [20983.84349734]\n",
            "k1,k2,k3,k4,k5 are: [[ 3.83721364e+01 -7.47068686e+02 -2.69100502e-01 -2.69444468e-01\n",
            "   7.87488444e+00]]\n"
          ],
          "name": "stdout"
        }
      ]
    },
    {
      "cell_type": "code",
      "metadata": {
        "colab": {
          "base_uri": "https://localhost:8080/"
        },
        "id": "G2ZRy-sCupQj",
        "outputId": "c76e2080-1909-4a9a-d746-2bf3a05f4ef6"
      },
      "source": [
        "from sklearn.metrics import r2_score\n",
        "print(\"r2_score\",r2_score(y,y_head))"
      ],
      "execution_count": 15,
      "outputs": [
        {
          "output_type": "stream",
          "text": [
            "r2_score 0.5659393036276534\n"
          ],
          "name": "stdout"
        }
      ]
    },
    {
      "cell_type": "code",
      "metadata": {
        "colab": {
          "base_uri": "https://localhost:8080/",
          "height": 265
        },
        "id": "uMNG0wayuzm9",
        "outputId": "0d6e1adb-30cc-4adb-95d3-bc1ecf6bb11b"
      },
      "source": [
        "from sklearn.preprocessing import PolynomialFeatures\n",
        "from sklearn.linear_model import LinearRegression\n",
        "\n",
        "polyno_reg=PolynomialFeatures(degree=4)\n",
        "x_polyno=polyno_reg.fit_transform(x)\n",
        "\n",
        "poly_reg=LinearRegression()\n",
        "poly_reg.fit(x_polyno,y)\n",
        "y_head=poly_reg.predict(x_polyno)\n",
        "plt.plot(x,y_head,color=\"red\")\n",
        "plt.show()"
      ],
      "execution_count": 16,
      "outputs": [
        {
          "output_type": "display_data",
          "data": {
            "image/png": "[encoded data removed]",
            "text/plain": [
              "<Figure size 432x288 with 1 Axes>"
            ]
          },
          "metadata": {
            "tags": [],
            "needs_background": "light"
          }
        }
      ]
    },
    {
      "cell_type": "code",
      "metadata": {
        "colab": {
          "base_uri": "https://localhost:8080/"
        },
        "id": "2Vszrf9tuzpm",
        "outputId": "65ee1b82-f45a-47cb-d242-c6d5fb99e5b6"
      },
      "source": [
        "from sklearn.metrics import r2_score\n",
        "print(\"r2_score\",r2_score(y,y_head))"
      ],
      "execution_count": 17,
      "outputs": [
        {
          "output_type": "stream",
          "text": [
            "r2_score 0.6910122920405233\n"
          ],
          "name": "stdout"
        }
      ]
    },
    {
      "cell_type": "code",
      "metadata": {
        "colab": {
          "base_uri": "https://localhost:8080/",
          "height": 265
        },
        "id": "pKxCA15euzr6",
        "outputId": "e5ac0e97-85c1-4d99-8cf3-53be88d89b43"
      },
      "source": [
        "from sklearn.tree import DecisionTreeRegressor\n",
        "Decision_Tree=DecisionTreeRegressor()\n",
        "x=df.Humidity.values.reshape(-1,1)\n",
        "y=df.Radiation.values.reshape(-1,1)\n",
        "Decision_Tree.fit(x,y)\n",
        "x_=np.arange(min(x),max(x),0.01).reshape(-1,1)\n",
        "y_head=Decision_Tree.predict(x_)\n",
        "plt.plot(x_,y_head,color=\"blue\")\n",
        "plt.show()"
      ],
      "execution_count": 18,
      "outputs": [
        {
          "output_type": "display_data",
          "data": {
            "image/png": "[encoded data removed]",
            "text/plain": [
              "<Figure size 432x288 with 1 Axes>"
            ]
          },
          "metadata": {
            "tags": [],
            "needs_background": "light"
          }
        }
      ]
    },
    {
      "cell_type": "code",
      "metadata": {
        "colab": {
          "base_uri": "https://localhost:8080/",
          "height": 319
        },
        "id": "x6zYjApjvMrx",
        "outputId": "4eb4a50d-3ce3-4b06-8a21-8cc26c7b6638"
      },
      "source": [
        "from sklearn.ensemble import RandomForestRegressor\n",
        "Rand_forest=RandomForestRegressor(n_estimators=200,random_state=42)\n",
        "Rand_forest.fit(x,y)\n",
        "x_=np.arange(min(x),max(x),0.01).reshape(-1,1)\n",
        "y_head=Rand_forest.predict(x_)\n",
        "plt.plot(x_,y_head,color=\"brown\")\n",
        "plt.show()"
      ],
      "execution_count": 19,
      "outputs": [
        {
          "output_type": "stream",
          "text": [
            "/usr/local/lib/python3.7/dist-packages/ipykernel_launcher.py:3: DataConversionWarning: A column-vector y was passed when a 1d array was expected. Please change the shape of y to (n_samples,), for example using ravel().\n",
            "  This is separate from the ipykernel package so we can avoid doing imports until\n"
          ],
          "name": "stderr"
        },
        {
          "output_type": "display_data",
          "data": {
            "image/png": "[encoded data removed]",
            "text/plain": [
              "<Figure size 432x288 with 1 Axes>"
            ]
          },
          "metadata": {
            "tags": [],
            "needs_background": "light"
          }
        }
      ]
    }
  ]
}