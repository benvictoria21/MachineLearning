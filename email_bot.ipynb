{
  "nbformat": 4,
  "nbformat_minor": 0,
  "metadata": {
    "colab": {
      "name": "email bot.ipynb",
      "provenance": [],
      "private_outputs": true
    },
    "kernelspec": {
      "name": "python3",
      "display_name": "Python 3"
    }
  },
  "cells": [
    {
      "cell_type": "code",
      "metadata": {
        "id": "hfL9rLINEDtq",
        "colab_type": "code",
        "colab": {}
      },
      "source": [
        "import os\n",
        "import smtplib\n",
        "import imghdr\n",
        "from email.message import EmailMessage"
      ],
      "execution_count": null,
      "outputs": []
    },
    {
      "cell_type": "code",
      "metadata": {
        "id": "bw5ePtw2EeU0",
        "colab_type": "code",
        "colab": {}
      },
      "source": [
        "EMAIL_ADDRESS = os.environ.get('EMAIL_USER')\n",
        "EMAIL_PASSWORD = os.environ.get('EMAIL_PASS')"
      ],
      "execution_count": null,
      "outputs": []
    },
    {
      "cell_type": "code",
      "metadata": {
        "id": "jReZmIU8Egnv",
        "colab_type": "code",
        "colab": {}
      },
      "source": [
        "contacts = ['YourAddress@gmail.com', 'test@example.com']\n",
        "\n",
        "msg = EmailMessage()\n",
        "msg['Subject'] = 'Check out Bronx as a puppy!'\n",
        "msg['From'] = EMAIL_ADDRESS\n",
        "msg['To'] = 'YourAddress@gmail.com'"
      ],
      "execution_count": null,
      "outputs": []
    },
    {
      "cell_type": "code",
      "metadata": {
        "id": "Wr4XQ09zEjlW",
        "colab_type": "code",
        "colab": {}
      },
      "source": [
        "msg.set_content('This is a plain text email')\n",
        "\n",
        "msg.add_alternative(\"\"\"\\\n",
        "<!DOCTYPE html>\n",
        "<html>\n",
        "    <body>\n",
        "        <h1 style=\"color:SlateGray;\">This is an HTML Email!</h1>\n",
        "    </body>\n",
        "</html>\n",
        "\"\"\", subtype='html')\n",
        "\n",
        "\n",
        "with smtplib.SMTP_SSL('smtp.gmail.com', 465) as smtp:\n",
        "    smtp.login(EMAIL_ADDRESS, EMAIL_PASSWORD)\n",
        "    smtp.send_message(msg)"
      ],
      "execution_count": null,
      "outputs": []
    }
  ]
}