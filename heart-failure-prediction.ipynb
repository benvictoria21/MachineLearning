{
 "cells": [
  {
   "cell_type": "code",
   "execution_count": 1,
   "id": "understanding-quarterly",
   "metadata": {
    "_cell_guid": "b1076dfc-b9ad-4769-8c92-a6c4dae69d19",
    "_uuid": "8f2839f25d086af736a60e9eeb907d3b93b6e0e5",
    "execution": {
     "iopub.execute_input": "2021-04-25T02:23:09.544686Z",
     "iopub.status.busy": "2021-04-25T02:23:09.544032Z",
     "iopub.status.idle": "2021-04-25T02:23:12.008694Z",
     "shell.execute_reply": "2021-04-25T02:23:12.007720Z"
    },
    "papermill": {
     "duration": 2.50858,
     "end_time": "2021-04-25T02:23:12.008894",
     "exception": false,
     "start_time": "2021-04-25T02:23:09.500314",
     "status": "completed"
    },
    "tags": []
   },
   "outputs": [],
   "source": [
    "import pandas as pd\n",
    "import numpy as np\n",
    "\n",
    "#visualiation data\n",
    "import matplotlib.pyplot as plt\n",
    "import seaborn as sns \n",
    "import matplotlib\n",
    "import plotly.graph_objects as go\n",
    "import plotly.express as px\n",
    "\n",
    "#default theme\n",
    "sns.set(context='notebook', style='darkgrid', palette='colorblind', font='sans-serif', font_scale=1, rc=None)\n",
    "matplotlib.rcParams['figure.figsize'] =[8,8]\n",
    "matplotlib.rcParams.update({'font.size': 15})\n",
    "matplotlib.rcParams['font.family'] = 'sans-serif'"
   ]
  },
  {
   "cell_type": "code",
   "execution_count": 2,
   "id": "dressed-contrary",
   "metadata": {
    "execution": {
     "iopub.execute_input": "2021-04-25T02:23:12.090959Z",
     "iopub.status.busy": "2021-04-25T02:23:12.090119Z",
     "iopub.status.idle": "2021-04-25T02:23:12.388608Z",
     "shell.execute_reply": "2021-04-25T02:23:12.387816Z"
    },
    "papermill": {
     "duration": 0.346323,
     "end_time": "2021-04-25T02:23:12.388800",
     "exception": false,
     "start_time": "2021-04-25T02:23:12.042477",
     "status": "completed"
    },
    "tags": []
   },
   "outputs": [
    {
     "data": {
      "text/html": [
       "<div>\n",
       "<style scoped>\n",
       "    .dataframe tbody tr th:only-of-type {\n",
       "        vertical-align: middle;\n",
       "    }\n",
       "\n",
       "    .dataframe tbody tr th {\n",
       "        vertical-align: top;\n",
       "    }\n",
       "\n",
       "    .dataframe thead th {\n",
       "        text-align: right;\n",
       "    }\n",
       "</style>\n",
       "<table border=\"1\" class=\"dataframe\">\n",
       "  <thead>\n",
       "    <tr style=\"text-align: right;\">\n",
       "      <th></th>\n",
       "      <th>age</th>\n",
       "      <th>anaemia</th>\n",
       "      <th>creatinine_phosphokinase</th>\n",
       "      <th>diabetes</th>\n",
       "      <th>ejection_fraction</th>\n",
       "      <th>high_blood_pressure</th>\n",
       "      <th>platelets</th>\n",
       "      <th>serum_creatinine</th>\n",
       "      <th>serum_sodium</th>\n",
       "      <th>sex</th>\n",
       "      <th>smoking</th>\n",
       "      <th>time</th>\n",
       "      <th>DEATH_EVENT</th>\n",
       "    </tr>\n",
       "  </thead>\n",
       "  <tbody>\n",
       "    <tr>\n",
       "      <th>0</th>\n",
       "      <td>75.0</td>\n",
       "      <td>0</td>\n",
       "      <td>582</td>\n",
       "      <td>0</td>\n",
       "      <td>20</td>\n",
       "      <td>1</td>\n",
       "      <td>265000.00</td>\n",
       "      <td>1.9</td>\n",
       "      <td>130</td>\n",
       "      <td>1</td>\n",
       "      <td>0</td>\n",
       "      <td>4</td>\n",
       "      <td>1</td>\n",
       "    </tr>\n",
       "    <tr>\n",
       "      <th>1</th>\n",
       "      <td>55.0</td>\n",
       "      <td>0</td>\n",
       "      <td>7861</td>\n",
       "      <td>0</td>\n",
       "      <td>38</td>\n",
       "      <td>0</td>\n",
       "      <td>263358.03</td>\n",
       "      <td>1.1</td>\n",
       "      <td>136</td>\n",
       "      <td>1</td>\n",
       "      <td>0</td>\n",
       "      <td>6</td>\n",
       "      <td>1</td>\n",
       "    </tr>\n",
       "    <tr>\n",
       "      <th>2</th>\n",
       "      <td>65.0</td>\n",
       "      <td>0</td>\n",
       "      <td>146</td>\n",
       "      <td>0</td>\n",
       "      <td>20</td>\n",
       "      <td>0</td>\n",
       "      <td>162000.00</td>\n",
       "      <td>1.3</td>\n",
       "      <td>129</td>\n",
       "      <td>1</td>\n",
       "      <td>1</td>\n",
       "      <td>7</td>\n",
       "      <td>1</td>\n",
       "    </tr>\n",
       "    <tr>\n",
       "      <th>3</th>\n",
       "      <td>50.0</td>\n",
       "      <td>1</td>\n",
       "      <td>111</td>\n",
       "      <td>0</td>\n",
       "      <td>20</td>\n",
       "      <td>0</td>\n",
       "      <td>210000.00</td>\n",
       "      <td>1.9</td>\n",
       "      <td>137</td>\n",
       "      <td>1</td>\n",
       "      <td>0</td>\n",
       "      <td>7</td>\n",
       "      <td>1</td>\n",
       "    </tr>\n",
       "    <tr>\n",
       "      <th>4</th>\n",
       "      <td>65.0</td>\n",
       "      <td>1</td>\n",
       "      <td>160</td>\n",
       "      <td>1</td>\n",
       "      <td>20</td>\n",
       "      <td>0</td>\n",
       "      <td>327000.00</td>\n",
       "      <td>2.7</td>\n",
       "      <td>116</td>\n",
       "      <td>0</td>\n",
       "      <td>0</td>\n",
       "      <td>8</td>\n",
       "      <td>1</td>\n",
       "    </tr>\n",
       "    <tr>\n",
       "      <th>5</th>\n",
       "      <td>90.0</td>\n",
       "      <td>1</td>\n",
       "      <td>47</td>\n",
       "      <td>0</td>\n",
       "      <td>40</td>\n",
       "      <td>1</td>\n",
       "      <td>204000.00</td>\n",
       "      <td>2.1</td>\n",
       "      <td>132</td>\n",
       "      <td>1</td>\n",
       "      <td>1</td>\n",
       "      <td>8</td>\n",
       "      <td>1</td>\n",
       "    </tr>\n",
       "  </tbody>\n",
       "</table>\n",
       "</div>"
      ],
      "text/plain": [
       "    age  anaemia  creatinine_phosphokinase  diabetes  ejection_fraction  \\\n",
       "0  75.0        0                       582         0                 20   \n",
       "1  55.0        0                      7861         0                 38   \n",
       "2  65.0        0                       146         0                 20   \n",
       "3  50.0        1                       111         0                 20   \n",
       "4  65.0        1                       160         1                 20   \n",
       "5  90.0        1                        47         0                 40   \n",
       "\n",
       "   high_blood_pressure  platelets  serum_creatinine  serum_sodium  sex  \\\n",
       "0                    1  265000.00               1.9           130    1   \n",
       "1                    0  263358.03               1.1           136    1   \n",
       "2                    0  162000.00               1.3           129    1   \n",
       "3                    0  210000.00               1.9           137    1   \n",
       "4                    0  327000.00               2.7           116    0   \n",
       "5                    1  204000.00               2.1           132    1   \n",
       "\n",
       "   smoking  time  DEATH_EVENT  \n",
       "0        0     4            1  \n",
       "1        0     6            1  \n",
       "2        1     7            1  \n",
       "3        0     7            1  \n",
       "4        0     8            1  \n",
       "5        1     8            1  "
      ]
     },
     "execution_count": 2,
     "metadata": {},
     "output_type": "execute_result"
    }
   ],
   "source": [
    "train = pd.read_csv('https://raw.githubusercontent.com/benvictoria17/DataVisualization/master/dataset/heart_failure_clinical_records_dataset.csv')\n",
    "train.head(6)"
   ]
  },
  {
   "cell_type": "code",
   "execution_count": 3,
   "id": "greenhouse-manor",
   "metadata": {
    "execution": {
     "iopub.execute_input": "2021-04-25T02:23:12.480756Z",
     "iopub.status.busy": "2021-04-25T02:23:12.479897Z",
     "iopub.status.idle": "2021-04-25T02:23:12.485575Z",
     "shell.execute_reply": "2021-04-25T02:23:12.484623Z"
    },
    "papermill": {
     "duration": 0.062812,
     "end_time": "2021-04-25T02:23:12.486012",
     "exception": false,
     "start_time": "2021-04-25T02:23:12.423200",
     "status": "completed"
    },
    "tags": []
   },
   "outputs": [
    {
     "name": "stdout",
     "output_type": "stream",
     "text": [
      "<class 'pandas.core.frame.DataFrame'>\n",
      "RangeIndex: 299 entries, 0 to 298\n",
      "Data columns (total 13 columns):\n",
      " #   Column                    Non-Null Count  Dtype  \n",
      "---  ------                    --------------  -----  \n",
      " 0   age                       299 non-null    float64\n",
      " 1   anaemia                   299 non-null    int64  \n",
      " 2   creatinine_phosphokinase  299 non-null    int64  \n",
      " 3   diabetes                  299 non-null    int64  \n",
      " 4   ejection_fraction         299 non-null    int64  \n",
      " 5   high_blood_pressure       299 non-null    int64  \n",
      " 6   platelets                 299 non-null    float64\n",
      " 7   serum_creatinine          299 non-null    float64\n",
      " 8   serum_sodium              299 non-null    int64  \n",
      " 9   sex                       299 non-null    int64  \n",
      " 10  smoking                   299 non-null    int64  \n",
      " 11  time                      299 non-null    int64  \n",
      " 12  DEATH_EVENT               299 non-null    int64  \n",
      "dtypes: float64(3), int64(10)\n",
      "memory usage: 30.5 KB\n"
     ]
    }
   ],
   "source": [
    "train.info()"
   ]
  },
  {
   "cell_type": "code",
   "execution_count": 4,
   "id": "critical-harvest",
   "metadata": {
    "execution": {
     "iopub.execute_input": "2021-04-25T02:23:12.563216Z",
     "iopub.status.busy": "2021-04-25T02:23:12.562460Z",
     "iopub.status.idle": "2021-04-25T02:23:12.805239Z",
     "shell.execute_reply": "2021-04-25T02:23:12.804530Z"
    },
    "papermill": {
     "duration": 0.283542,
     "end_time": "2021-04-25T02:23:12.805400",
     "exception": false,
     "start_time": "2021-04-25T02:23:12.521858",
     "status": "completed"
    },
    "tags": []
   },
   "outputs": [
    {
     "data": {
      "image/png": "[encoded data removed]",
      "text/plain": [
       "<Figure size 576x576 with 1 Axes>"
      ]
     },
     "metadata": {},
     "output_type": "display_data"
    }
   ],
   "source": [
    "train.dtypes.value_counts().plot.pie(explode=[0.1,0.1],autopct='%1.1f%%',shadow=True)\n",
    "plt.title('type of our data');"
   ]
  },
  {
   "cell_type": "code",
   "execution_count": 5,
   "id": "psychological-terrace",
   "metadata": {
    "execution": {
     "iopub.execute_input": "2021-04-25T02:23:12.884435Z",
     "iopub.status.busy": "2021-04-25T02:23:12.883564Z",
     "iopub.status.idle": "2021-04-25T02:23:12.888959Z",
     "shell.execute_reply": "2021-04-25T02:23:12.888316Z"
    },
    "papermill": {
     "duration": 0.046922,
     "end_time": "2021-04-25T02:23:12.889116",
     "exception": false,
     "start_time": "2021-04-25T02:23:12.842194",
     "status": "completed"
    },
    "tags": []
   },
   "outputs": [
    {
     "data": {
      "text/plain": [
       "Index(['age', 'anaemia', 'creatinine_phosphokinase', 'diabetes',\n",
       "       'ejection_fraction', 'high_blood_pressure', 'platelets',\n",
       "       'serum_creatinine', 'serum_sodium', 'sex', 'smoking', 'time',\n",
       "       'DEATH_EVENT'],\n",
       "      dtype='object')"
      ]
     },
     "execution_count": 5,
     "metadata": {},
     "output_type": "execute_result"
    }
   ],
   "source": [
    "train.columns"
   ]
  },
  {
   "cell_type": "code",
   "execution_count": 6,
   "id": "intensive-portsmouth",
   "metadata": {
    "execution": {
     "iopub.execute_input": "2021-04-25T02:23:12.972093Z",
     "iopub.status.busy": "2021-04-25T02:23:12.971234Z",
     "iopub.status.idle": "2021-04-25T02:23:13.020812Z",
     "shell.execute_reply": "2021-04-25T02:23:13.021486Z"
    },
    "papermill": {
     "duration": 0.096635,
     "end_time": "2021-04-25T02:23:13.021712",
     "exception": false,
     "start_time": "2021-04-25T02:23:12.925077",
     "status": "completed"
    },
    "tags": []
   },
   "outputs": [
    {
     "data": {
      "text/html": [
       "<div>\n",
       "<style scoped>\n",
       "    .dataframe tbody tr th:only-of-type {\n",
       "        vertical-align: middle;\n",
       "    }\n",
       "\n",
       "    .dataframe tbody tr th {\n",
       "        vertical-align: top;\n",
       "    }\n",
       "\n",
       "    .dataframe thead th {\n",
       "        text-align: right;\n",
       "    }\n",
       "</style>\n",
       "<table border=\"1\" class=\"dataframe\">\n",
       "  <thead>\n",
       "    <tr style=\"text-align: right;\">\n",
       "      <th></th>\n",
       "      <th>age</th>\n",
       "      <th>anaemia</th>\n",
       "      <th>creatinine_phosphokinase</th>\n",
       "      <th>diabetes</th>\n",
       "      <th>ejection_fraction</th>\n",
       "      <th>high_blood_pressure</th>\n",
       "      <th>platelets</th>\n",
       "      <th>serum_creatinine</th>\n",
       "      <th>serum_sodium</th>\n",
       "      <th>sex</th>\n",
       "      <th>smoking</th>\n",
       "      <th>time</th>\n",
       "      <th>DEATH_EVENT</th>\n",
       "    </tr>\n",
       "  </thead>\n",
       "  <tbody>\n",
       "    <tr>\n",
       "      <th>count</th>\n",
       "      <td>299.000000</td>\n",
       "      <td>299.000000</td>\n",
       "      <td>299.000000</td>\n",
       "      <td>299.000000</td>\n",
       "      <td>299.000000</td>\n",
       "      <td>299.000000</td>\n",
       "      <td>299.000000</td>\n",
       "      <td>299.00000</td>\n",
       "      <td>299.000000</td>\n",
       "      <td>299.000000</td>\n",
       "      <td>299.00000</td>\n",
       "      <td>299.000000</td>\n",
       "      <td>299.00000</td>\n",
       "    </tr>\n",
       "    <tr>\n",
       "      <th>mean</th>\n",
       "      <td>60.833893</td>\n",
       "      <td>0.431438</td>\n",
       "      <td>581.839465</td>\n",
       "      <td>0.418060</td>\n",
       "      <td>38.083612</td>\n",
       "      <td>0.351171</td>\n",
       "      <td>263358.029264</td>\n",
       "      <td>1.39388</td>\n",
       "      <td>136.625418</td>\n",
       "      <td>0.648829</td>\n",
       "      <td>0.32107</td>\n",
       "      <td>130.260870</td>\n",
       "      <td>0.32107</td>\n",
       "    </tr>\n",
       "    <tr>\n",
       "      <th>std</th>\n",
       "      <td>11.894809</td>\n",
       "      <td>0.496107</td>\n",
       "      <td>970.287881</td>\n",
       "      <td>0.494067</td>\n",
       "      <td>11.834841</td>\n",
       "      <td>0.478136</td>\n",
       "      <td>97804.236869</td>\n",
       "      <td>1.03451</td>\n",
       "      <td>4.412477</td>\n",
       "      <td>0.478136</td>\n",
       "      <td>0.46767</td>\n",
       "      <td>77.614208</td>\n",
       "      <td>0.46767</td>\n",
       "    </tr>\n",
       "    <tr>\n",
       "      <th>min</th>\n",
       "      <td>40.000000</td>\n",
       "      <td>0.000000</td>\n",
       "      <td>23.000000</td>\n",
       "      <td>0.000000</td>\n",
       "      <td>14.000000</td>\n",
       "      <td>0.000000</td>\n",
       "      <td>25100.000000</td>\n",
       "      <td>0.50000</td>\n",
       "      <td>113.000000</td>\n",
       "      <td>0.000000</td>\n",
       "      <td>0.00000</td>\n",
       "      <td>4.000000</td>\n",
       "      <td>0.00000</td>\n",
       "    </tr>\n",
       "    <tr>\n",
       "      <th>25%</th>\n",
       "      <td>51.000000</td>\n",
       "      <td>0.000000</td>\n",
       "      <td>116.500000</td>\n",
       "      <td>0.000000</td>\n",
       "      <td>30.000000</td>\n",
       "      <td>0.000000</td>\n",
       "      <td>212500.000000</td>\n",
       "      <td>0.90000</td>\n",
       "      <td>134.000000</td>\n",
       "      <td>0.000000</td>\n",
       "      <td>0.00000</td>\n",
       "      <td>73.000000</td>\n",
       "      <td>0.00000</td>\n",
       "    </tr>\n",
       "    <tr>\n",
       "      <th>50%</th>\n",
       "      <td>60.000000</td>\n",
       "      <td>0.000000</td>\n",
       "      <td>250.000000</td>\n",
       "      <td>0.000000</td>\n",
       "      <td>38.000000</td>\n",
       "      <td>0.000000</td>\n",
       "      <td>262000.000000</td>\n",
       "      <td>1.10000</td>\n",
       "      <td>137.000000</td>\n",
       "      <td>1.000000</td>\n",
       "      <td>0.00000</td>\n",
       "      <td>115.000000</td>\n",
       "      <td>0.00000</td>\n",
       "    </tr>\n",
       "    <tr>\n",
       "      <th>75%</th>\n",
       "      <td>70.000000</td>\n",
       "      <td>1.000000</td>\n",
       "      <td>582.000000</td>\n",
       "      <td>1.000000</td>\n",
       "      <td>45.000000</td>\n",
       "      <td>1.000000</td>\n",
       "      <td>303500.000000</td>\n",
       "      <td>1.40000</td>\n",
       "      <td>140.000000</td>\n",
       "      <td>1.000000</td>\n",
       "      <td>1.00000</td>\n",
       "      <td>203.000000</td>\n",
       "      <td>1.00000</td>\n",
       "    </tr>\n",
       "    <tr>\n",
       "      <th>max</th>\n",
       "      <td>95.000000</td>\n",
       "      <td>1.000000</td>\n",
       "      <td>7861.000000</td>\n",
       "      <td>1.000000</td>\n",
       "      <td>80.000000</td>\n",
       "      <td>1.000000</td>\n",
       "      <td>850000.000000</td>\n",
       "      <td>9.40000</td>\n",
       "      <td>148.000000</td>\n",
       "      <td>1.000000</td>\n",
       "      <td>1.00000</td>\n",
       "      <td>285.000000</td>\n",
       "      <td>1.00000</td>\n",
       "    </tr>\n",
       "  </tbody>\n",
       "</table>\n",
       "</div>"
      ],
      "text/plain": [
       "              age     anaemia  creatinine_phosphokinase    diabetes  \\\n",
       "count  299.000000  299.000000                299.000000  299.000000   \n",
       "mean    60.833893    0.431438                581.839465    0.418060   \n",
       "std     11.894809    0.496107                970.287881    0.494067   \n",
       "min     40.000000    0.000000                 23.000000    0.000000   \n",
       "25%     51.000000    0.000000                116.500000    0.000000   \n",
       "50%     60.000000    0.000000                250.000000    0.000000   \n",
       "75%     70.000000    1.000000                582.000000    1.000000   \n",
       "max     95.000000    1.000000               7861.000000    1.000000   \n",
       "\n",
       "       ejection_fraction  high_blood_pressure      platelets  \\\n",
       "count         299.000000           299.000000     299.000000   \n",
       "mean           38.083612             0.351171  263358.029264   \n",
       "std            11.834841             0.478136   97804.236869   \n",
       "min            14.000000             0.000000   25100.000000   \n",
       "25%            30.000000             0.000000  212500.000000   \n",
       "50%            38.000000             0.000000  262000.000000   \n",
       "75%            45.000000             1.000000  303500.000000   \n",
       "max            80.000000             1.000000  850000.000000   \n",
       "\n",
       "       serum_creatinine  serum_sodium         sex    smoking        time  \\\n",
       "count         299.00000    299.000000  299.000000  299.00000  299.000000   \n",
       "mean            1.39388    136.625418    0.648829    0.32107  130.260870   \n",
       "std             1.03451      4.412477    0.478136    0.46767   77.614208   \n",
       "min             0.50000    113.000000    0.000000    0.00000    4.000000   \n",
       "25%             0.90000    134.000000    0.000000    0.00000   73.000000   \n",
       "50%             1.10000    137.000000    1.000000    0.00000  115.000000   \n",
       "75%             1.40000    140.000000    1.000000    1.00000  203.000000   \n",
       "max             9.40000    148.000000    1.000000    1.00000  285.000000   \n",
       "\n",
       "       DEATH_EVENT  \n",
       "count    299.00000  \n",
       "mean       0.32107  \n",
       "std        0.46767  \n",
       "min        0.00000  \n",
       "25%        0.00000  \n",
       "50%        0.00000  \n",
       "75%        1.00000  \n",
       "max        1.00000  "
      ]
     },
     "execution_count": 6,
     "metadata": {},
     "output_type": "execute_result"
    }
   ],
   "source": [
    "train.describe()"
   ]
  },
  {
   "cell_type": "code",
   "execution_count": 7,
   "id": "mechanical-department",
   "metadata": {
    "execution": {
     "iopub.execute_input": "2021-04-25T02:23:13.106303Z",
     "iopub.status.busy": "2021-04-25T02:23:13.105565Z",
     "iopub.status.idle": "2021-04-25T02:23:13.111002Z",
     "shell.execute_reply": "2021-04-25T02:23:13.110272Z"
    },
    "papermill": {
     "duration": 0.051911,
     "end_time": "2021-04-25T02:23:13.111170",
     "exception": false,
     "start_time": "2021-04-25T02:23:13.059259",
     "status": "completed"
    },
    "tags": []
   },
   "outputs": [
    {
     "data": {
      "text/plain": [
       "age                         0\n",
       "anaemia                     0\n",
       "creatinine_phosphokinase    0\n",
       "diabetes                    0\n",
       "ejection_fraction           0\n",
       "high_blood_pressure         0\n",
       "platelets                   0\n",
       "serum_creatinine            0\n",
       "serum_sodium                0\n",
       "sex                         0\n",
       "smoking                     0\n",
       "time                        0\n",
       "DEATH_EVENT                 0\n",
       "dtype: int64"
      ]
     },
     "execution_count": 7,
     "metadata": {},
     "output_type": "execute_result"
    }
   ],
   "source": [
    "train.isnull().sum()"
   ]
  },
  {
   "cell_type": "code",
   "execution_count": 8,
   "id": "italic-package",
   "metadata": {
    "execution": {
     "iopub.execute_input": "2021-04-25T02:23:13.211771Z",
     "iopub.status.busy": "2021-04-25T02:23:13.210755Z",
     "iopub.status.idle": "2021-04-25T02:23:15.484724Z",
     "shell.execute_reply": "2021-04-25T02:23:15.484041Z"
    },
    "papermill": {
     "duration": 2.336402,
     "end_time": "2021-04-25T02:23:15.484878",
     "exception": false,
     "start_time": "2021-04-25T02:23:13.148476",
     "status": "completed"
    },
    "tags": []
   },
   "outputs": [
    {
     "name": "stderr",
     "output_type": "stream",
     "text": [
      "/opt/conda/lib/python3.7/site-packages/pandas/plotting/_matplotlib/tools.py:400: MatplotlibDeprecationWarning: \n",
      "The is_first_col function was deprecated in Matplotlib 3.4 and will be removed two minor releases later. Use ax.get_subplotspec().is_first_col() instead.\n",
      "  if ax.is_first_col():\n"
     ]
    },
    {
     "data": {
      "image/png": "[encoded data removed]",
      "text/plain": [
       "<Figure size 1080x1080 with 16 Axes>"
      ]
     },
     "metadata": {},
     "output_type": "display_data"
    }
   ],
   "source": [
    "train.hist(figsize=(15,15),edgecolor='black');"
   ]
  },
  {
   "cell_type": "code",
   "execution_count": 9,
   "id": "peaceful-exploration",
   "metadata": {
    "execution": {
     "iopub.execute_input": "2021-04-25T02:23:15.590326Z",
     "iopub.status.busy": "2021-04-25T02:23:15.586983Z",
     "iopub.status.idle": "2021-04-25T02:23:15.708482Z",
     "shell.execute_reply": "2021-04-25T02:23:15.707744Z"
    },
    "papermill": {
     "duration": 0.184108,
     "end_time": "2021-04-25T02:23:15.708661",
     "exception": false,
     "start_time": "2021-04-25T02:23:15.524553",
     "status": "completed"
    },
    "tags": []
   },
   "outputs": [
    {
     "data": {
      "text/plain": [
       "Text(0.5, 1.0, 'the % of deaths')"
      ]
     },
     "execution_count": 9,
     "metadata": {},
     "output_type": "execute_result"
    },
    {
     "data": {
      "image/png": "[encoded data removed]",
      "text/plain": [
       "<Figure size 576x576 with 1 Axes>"
      ]
     },
     "metadata": {},
     "output_type": "display_data"
    }
   ],
   "source": [
    "train.DEATH_EVENT.value_counts().plot.pie(explode=[0.1,0.1],autopct='%1.1f%%',shadow=True)\n",
    "plt.title('the % of deaths')"
   ]
  },
  {
   "cell_type": "code",
   "execution_count": 10,
   "id": "talented-cable",
   "metadata": {
    "execution": {
     "iopub.execute_input": "2021-04-25T02:23:16.021107Z",
     "iopub.status.busy": "2021-04-25T02:23:16.014888Z",
     "iopub.status.idle": "2021-04-25T02:23:16.766453Z",
     "shell.execute_reply": "2021-04-25T02:23:16.765802Z"
    },
    "papermill": {
     "duration": 1.014582,
     "end_time": "2021-04-25T02:23:16.766609",
     "exception": false,
     "start_time": "2021-04-25T02:23:15.752027",
     "status": "completed"
    },
    "tags": []
   },
   "outputs": [
    {
     "data": {
      "text/plain": [
       "Text(0.5, 1.0, 'the ages of our persone')"
      ]
     },
     "execution_count": 10,
     "metadata": {},
     "output_type": "execute_result"
    },
    {
     "data": {
      "image/png": "[encoded data removed]",
      "text/plain": [
       "<Figure size 1440x432 with 1 Axes>"
      ]
     },
     "metadata": {},
     "output_type": "display_data"
    }
   ],
   "source": [
    "plt.figure(figsize=(20,6))\n",
    "sns.countplot(x='age',data=train)\n",
    "plt.xticks(rotation=90)\n",
    "plt.title('the ages of our persone')"
   ]
  },
  {
   "cell_type": "code",
   "execution_count": 11,
   "id": "pleased-account",
   "metadata": {
    "execution": {
     "iopub.execute_input": "2021-04-25T02:23:16.860791Z",
     "iopub.status.busy": "2021-04-25T02:23:16.860108Z",
     "iopub.status.idle": "2021-04-25T02:23:17.246653Z",
     "shell.execute_reply": "2021-04-25T02:23:17.246069Z"
    },
    "papermill": {
     "duration": 0.437367,
     "end_time": "2021-04-25T02:23:17.246808",
     "exception": false,
     "start_time": "2021-04-25T02:23:16.809441",
     "status": "completed"
    },
    "tags": []
   },
   "outputs": [
    {
     "data": {
      "text/html": [
       "        <script type=\"text/javascript\">\n",
       "        window.PlotlyConfig = {MathJaxConfig: 'local'};\n",
       "        if (window.MathJax) {MathJax.Hub.Config({SVG: {font: \"STIX-Web\"}});}\n",
       "        if (typeof require !== 'undefined') {\n",
       "        require.undef(\"plotly\");\n",
       "        requirejs.config({\n",
       "            paths: {\n",
       "                'plotly': ['https://cdn.plot.ly/plotly-latest.min']\n",
       "            }\n",
       "        });\n",
       "        require(['plotly'], function(Plotly) {\n",
       "            window._Plotly = Plotly;\n",
       "        });\n",
       "        }\n",
       "        </script>\n",
       "        "
      ]
     },
     "metadata": {},
     "output_type": "display_data"
    },
    {
     "data": {
      "text/html": [
       "<div>                            <div id=\"5cc089cc-bc40-473b-9538-f6a9750bf764\" class=\"plotly-graph-div\" style=\"height:525px; width:100%;\"></div>            <script type=\"text/javascript\">                require([\"plotly\"], function(Plotly) {                    window.PLOTLYENV=window.PLOTLYENV || {};                                    if (document.getElementById(\"5cc089cc-bc40-473b-9538-f6a9750bf764\")) {                    Plotly.newPlot(                        \"5cc089cc-bc40-473b-9538-f6a9750bf764\",                        [{\"marker\": {\"color\": \"#e8ab60\"}, \"opacity\": 1, \"type\": \"histogram\", \"x\": [75.0, 55.0, 65.0, 50.0, 65.0, 90.0, 75.0, 60.0, 65.0, 80.0, 75.0, 62.0, 45.0, 50.0, 49.0, 82.0, 87.0, 45.0, 70.0, 48.0, 65.0, 65.0, 68.0, 53.0, 75.0, 80.0, 95.0, 70.0, 58.0, 82.0, 94.0, 85.0, 50.0, 50.0, 65.0, 69.0, 90.0, 82.0, 60.0, 60.0, 70.0, 50.0, 70.0, 72.0, 60.0, 50.0, 51.0, 60.0, 80.0, 57.0, 68.0, 53.0, 60.0, 70.0, 60.0, 95.0, 70.0, 60.0, 49.0, 72.0, 45.0, 50.0, 55.0, 45.0, 45.0, 60.0, 42.0, 72.0, 70.0, 65.0, 41.0, 58.0, 85.0, 65.0, 69.0, 60.0, 70.0, 42.0, 75.0, 55.0, 70.0, 67.0, 60.0, 79.0, 59.0, 51.0, 55.0, 65.0, 44.0, 57.0, 70.0, 60.0, 42.0, 60.0, 58.0, 58.0, 63.0, 70.0, 60.0, 63.0, 65.0, 75.0, 80.0, 42.0, 60.0, 72.0, 55.0, 45.0, 63.0, 45.0, 85.0, 55.0, 50.0, 70.0, 60.0, 58.0, 60.0, 85.0, 65.0, 86.0, 60.0, 66.0, 60.0, 60.0, 60.0, 43.0, 46.0, 58.0, 61.0, 53.0, 53.0, 60.0, 46.0, 63.0, 81.0, 75.0, 65.0, 68.0, 62.0, 50.0, 80.0, 46.0, 50.0, 61.0, 72.0, 50.0, 52.0, 64.0, 75.0, 60.0, 72.0, 62.0, 50.0, 50.0, 65.0, 60.0, 52.0, 50.0, 85.0, 59.0, 66.0, 45.0, 63.0, 50.0, 45.0, 80.0, 53.0, 59.0, 65.0, 70.0, 51.0, 52.0, 70.0, 50.0, 65.0, 60.0, 69.0, 49.0, 63.0, 55.0, 40.0, 59.0, 65.0, 75.0, 58.0, 60.667, 50.0, 60.0, 60.667, 40.0, 80.0, 64.0, 50.0, 73.0, 45.0, 77.0, 45.0, 65.0, 50.0, 60.0, 63.0, 45.0, 70.0, 60.0, 78.0, 50.0, 40.0, 85.0, 60.0, 49.0, 70.0, 50.0, 78.0, 48.0, 65.0, 73.0, 70.0, 54.0, 68.0, 55.0, 73.0, 65.0, 42.0, 47.0, 58.0, 75.0, 58.0, 55.0, 65.0, 72.0, 60.0, 70.0, 40.0, 53.0, 53.0, 77.0, 75.0, 70.0, 65.0, 55.0, 70.0, 65.0, 40.0, 73.0, 54.0, 61.0, 55.0, 64.0, 40.0, 53.0, 50.0, 55.0, 50.0, 70.0, 53.0, 52.0, 65.0, 58.0, 45.0, 53.0, 55.0, 62.0, 65.0, 68.0, 61.0, 50.0, 55.0, 56.0, 45.0, 40.0, 44.0, 51.0, 67.0, 42.0, 60.0, 45.0, 70.0, 70.0, 50.0, 55.0, 70.0, 70.0, 42.0, 65.0, 50.0, 55.0, 60.0, 45.0, 65.0, 90.0, 45.0, 60.0, 52.0, 63.0, 62.0, 55.0, 45.0, 45.0, 50.0], \"xbins\": {\"end\": 95, \"size\": 2, \"start\": 40}}],                        {\"bargap\": 0.05, \"template\": {\"data\": {\"pie\": [{\"automargin\": true, \"type\": \"pie\"}], \"scatter\": [{\"line\": {\"width\": 3}, \"marker\": {\"size\": 9}, \"type\": \"scatter\"}], \"scatter3d\": [{\"line\": {\"width\": 3}, \"marker\": {\"size\": 9}, \"type\": \"scatter3d\"}], \"scattergeo\": [{\"line\": {\"width\": 3}, \"marker\": {\"size\": 9}, \"type\": \"scattergeo\"}], \"scattergl\": [{\"line\": {\"width\": 3}, \"marker\": {\"size\": 9}, \"type\": \"scattergl\"}], \"scatterpolar\": [{\"line\": {\"width\": 3}, \"marker\": {\"size\": 9}, \"type\": \"scatterpolar\"}], \"scatterpolargl\": [{\"line\": {\"width\": 3}, \"marker\": {\"size\": 9}, \"type\": \"scatterpolargl\"}], \"scatterternary\": [{\"line\": {\"width\": 3}, \"marker\": {\"size\": 9}, \"type\": \"scatterternary\"}], \"table\": [{\"cells\": {\"height\": 30}, \"header\": {\"height\": 36}, \"type\": \"table\"}]}, \"layout\": {\"font\": {\"size\": 18}, \"xaxis\": {\"title\": {\"standoff\": 15}}, \"yaxis\": {\"title\": {\"standoff\": 15}}}}, \"title\": {\"text\": \"Distribution of Age\"}, \"xaxis\": {\"showgrid\": false, \"title\": {\"text\": \"AGE\"}}, \"yaxis\": {\"showgrid\": false, \"title\": {\"text\": \"COUNT\"}}},                        {\"responsive\": true}                    ).then(function(){\n",
       "                            \n",
       "var gd = document.getElementById('5cc089cc-bc40-473b-9538-f6a9750bf764');\n",
       "var x = new MutationObserver(function (mutations, observer) {{\n",
       "        var display = window.getComputedStyle(gd).display;\n",
       "        if (!display || display === 'none') {{\n",
       "            console.log([gd, 'removed!']);\n",
       "            Plotly.purge(gd);\n",
       "            observer.disconnect();\n",
       "        }}\n",
       "}});\n",
       "\n",
       "// Listen for the removal of the full notebook cells\n",
       "var notebookContainer = gd.closest('#notebook-container');\n",
       "if (notebookContainer) {{\n",
       "    x.observe(notebookContainer, {childList: true});\n",
       "}}\n",
       "\n",
       "// Listen for the clearing of the current output cell\n",
       "var outputEl = gd.closest('.output');\n",
       "if (outputEl) {{\n",
       "    x.observe(outputEl, {childList: true});\n",
       "}}\n",
       "\n",
       "                        })                };                });            </script>        </div>"
      ]
     },
     "metadata": {},
     "output_type": "display_data"
    }
   ],
   "source": [
    "\n",
    "fig = go.Figure()\n",
    "fig.add_trace(go.Histogram(\n",
    "    x = train['age'],\n",
    "    xbins=dict( # bins used for histogram\n",
    "        start=40,\n",
    "        end=95,\n",
    "        size=2\n",
    "    ),\n",
    "    marker_color='#e8ab60',\n",
    "    opacity=1\n",
    "))\n",
    "\n",
    "fig.update_layout(\n",
    "    title_text='Distribution of Age',\n",
    "    xaxis_title_text='AGE',\n",
    "    yaxis_title_text='COUNT', \n",
    "    bargap=0.05, # gap between bars of adjacent location coordinates\n",
    "    xaxis =  {'showgrid': False },\n",
    "    yaxis = {'showgrid': False },\n",
    "    template = 'presentation'\n",
    ")\n",
    "\n",
    "fig.show()"
   ]
  },
  {
   "cell_type": "code",
   "execution_count": 12,
   "id": "pending-harassment",
   "metadata": {
    "execution": {
     "iopub.execute_input": "2021-04-25T02:23:17.343197Z",
     "iopub.status.busy": "2021-04-25T02:23:17.342222Z",
     "iopub.status.idle": "2021-04-25T02:23:18.347378Z",
     "shell.execute_reply": "2021-04-25T02:23:18.347893Z"
    },
    "papermill": {
     "duration": 1.056362,
     "end_time": "2021-04-25T02:23:18.348081",
     "exception": false,
     "start_time": "2021-04-25T02:23:17.291719",
     "status": "completed"
    },
    "tags": []
   },
   "outputs": [
    {
     "data": {
      "text/html": [
       "<div>                            <div id=\"eb6d9491-6a63-49ef-b305-564ab8965c78\" class=\"plotly-graph-div\" style=\"height:525px; width:100%;\"></div>            <script type=\"text/javascript\">                require([\"plotly\"], function(Plotly) {                    window.PLOTLYENV=window.PLOTLYENV || {};                                    if (document.getElementById(\"eb6d9491-6a63-49ef-b305-564ab8965c78\")) {                    Plotly.newPlot(                        \"eb6d9491-6a63-49ef-b305-564ab8965c78\",                        [{\"alignmentgroup\": \"True\", \"bingroup\": \"x\", \"hovertemplate\": \"DEATH_EVENT=1<br>AGE=%{x}<br>count=%{y}<extra></extra>\", \"legendgroup\": \"1\", \"marker\": {\"color\": \"#636efa\"}, \"name\": \"1\", \"offsetgroup\": \"1\", \"orientation\": \"v\", \"showlegend\": true, \"type\": \"histogram\", \"x\": [75.0, 55.0, 65.0, 50.0, 65.0, 90.0, 75.0, 60.0, 65.0, 80.0, 75.0, 62.0, 45.0, 50.0, 82.0, 87.0, 45.0, 70.0, 48.0, 65.0, 68.0, 75.0, 80.0, 95.0, 70.0, 58.0, 82.0, 94.0, 85.0, 50.0, 65.0, 69.0, 90.0, 82.0, 60.0, 70.0, 50.0, 70.0, 60.0, 50.0, 51.0, 60.0, 80.0, 57.0, 68.0, 53.0, 60.0, 70.0, 60.0, 95.0, 49.0, 72.0, 45.0, 50.0, 45.0, 60.0, 42.0, 72.0, 70.0, 65.0, 85.0, 69.0, 60.0, 60.0, 59.0, 60.0, 72.0, 85.0, 70.0, 86.0, 60.0, 46.0, 80.0, 72.0, 75.0, 72.0, 50.0, 45.0, 80.0, 59.0, 59.0, 65.0, 75.0, 58.0, 60.667, 50.0, 60.0, 45.0, 77.0, 48.0, 54.0, 73.0, 60.0, 55.0, 65.0, 55.0], \"xaxis\": \"x\", \"yaxis\": \"y\"}, {\"alignmentgroup\": \"True\", \"customdata\": [[0.0, 582.0, 0.0, 20.0, 1.0, 265000.0, 1.9, 130.0, 1.0, 0.0, 4.0, 1.0], [0.0, 7861.0, 0.0, 38.0, 0.0, 263358.03, 1.1, 136.0, 1.0, 0.0, 6.0, 1.0], [0.0, 146.0, 0.0, 20.0, 0.0, 162000.0, 1.3, 129.0, 1.0, 1.0, 7.0, 1.0], [1.0, 111.0, 0.0, 20.0, 0.0, 210000.0, 1.9, 137.0, 1.0, 0.0, 7.0, 1.0], [1.0, 160.0, 1.0, 20.0, 0.0, 327000.0, 2.7, 116.0, 0.0, 0.0, 8.0, 1.0], [1.0, 47.0, 0.0, 40.0, 1.0, 204000.0, 2.1, 132.0, 1.0, 1.0, 8.0, 1.0], [1.0, 246.0, 0.0, 15.0, 0.0, 127000.0, 1.2, 137.0, 1.0, 0.0, 10.0, 1.0], [1.0, 315.0, 1.0, 60.0, 0.0, 454000.0, 1.1, 131.0, 1.0, 1.0, 10.0, 1.0], [0.0, 157.0, 0.0, 65.0, 0.0, 263358.03, 1.5, 138.0, 0.0, 0.0, 10.0, 1.0], [1.0, 123.0, 0.0, 35.0, 1.0, 388000.0, 9.4, 133.0, 1.0, 1.0, 10.0, 1.0], [1.0, 81.0, 0.0, 38.0, 1.0, 368000.0, 4.0, 131.0, 1.0, 1.0, 10.0, 1.0], [0.0, 231.0, 0.0, 25.0, 1.0, 253000.0, 0.9, 140.0, 1.0, 1.0, 10.0, 1.0], [1.0, 981.0, 0.0, 30.0, 0.0, 136000.0, 1.1, 137.0, 1.0, 0.0, 11.0, 1.0], [1.0, 168.0, 0.0, 38.0, 1.0, 276000.0, 1.1, 137.0, 1.0, 0.0, 11.0, 1.0], [1.0, 379.0, 0.0, 50.0, 0.0, 47000.0, 1.3, 136.0, 1.0, 0.0, 13.0, 1.0], [1.0, 149.0, 0.0, 38.0, 0.0, 262000.0, 0.9, 140.0, 1.0, 0.0, 14.0, 1.0], [0.0, 582.0, 0.0, 14.0, 0.0, 166000.0, 0.8, 127.0, 1.0, 0.0, 14.0, 1.0], [1.0, 125.0, 0.0, 25.0, 1.0, 237000.0, 1.0, 140.0, 0.0, 0.0, 15.0, 1.0], [1.0, 582.0, 1.0, 55.0, 0.0, 87000.0, 1.9, 121.0, 0.0, 0.0, 15.0, 1.0], [1.0, 128.0, 1.0, 30.0, 1.0, 297000.0, 1.6, 136.0, 0.0, 0.0, 20.0, 1.0], [1.0, 220.0, 0.0, 35.0, 1.0, 289000.0, 0.9, 140.0, 1.0, 1.0, 20.0, 1.0], [0.0, 582.0, 1.0, 30.0, 1.0, 263358.03, 1.83, 134.0, 0.0, 0.0, 23.0, 1.0], [0.0, 148.0, 1.0, 38.0, 0.0, 149000.0, 1.9, 144.0, 1.0, 1.0, 23.0, 1.0], [1.0, 112.0, 0.0, 40.0, 1.0, 196000.0, 1.0, 138.0, 0.0, 0.0, 24.0, 1.0], [0.0, 122.0, 1.0, 45.0, 1.0, 284000.0, 1.3, 136.0, 1.0, 1.0, 26.0, 1.0], [1.0, 60.0, 0.0, 38.0, 0.0, 153000.0, 5.8, 134.0, 1.0, 0.0, 26.0, 1.0], [0.0, 70.0, 1.0, 30.0, 0.0, 200000.0, 1.2, 132.0, 1.0, 1.0, 26.0, 1.0], [0.0, 582.0, 1.0, 38.0, 1.0, 263358.03, 1.83, 134.0, 1.0, 0.0, 27.0, 1.0], [0.0, 23.0, 0.0, 45.0, 0.0, 360000.0, 3.0, 132.0, 1.0, 0.0, 28.0, 1.0], [1.0, 249.0, 1.0, 35.0, 1.0, 319000.0, 1.0, 128.0, 0.0, 0.0, 28.0, 1.0], [0.0, 94.0, 1.0, 50.0, 1.0, 188000.0, 1.0, 140.0, 1.0, 0.0, 29.0, 1.0], [0.0, 582.0, 1.0, 35.0, 0.0, 228000.0, 3.5, 134.0, 1.0, 0.0, 30.0, 1.0], [1.0, 60.0, 1.0, 50.0, 0.0, 226000.0, 1.0, 134.0, 1.0, 0.0, 30.0, 1.0], [1.0, 855.0, 1.0, 50.0, 1.0, 321000.0, 1.0, 145.0, 0.0, 0.0, 30.0, 1.0], [0.0, 235.0, 1.0, 38.0, 0.0, 329000.0, 3.0, 142.0, 0.0, 0.0, 30.0, 1.0], [0.0, 582.0, 0.0, 20.0, 1.0, 263358.03, 1.83, 134.0, 1.0, 1.0, 31.0, 1.0], [0.0, 124.0, 1.0, 30.0, 1.0, 153000.0, 1.2, 136.0, 0.0, 1.0, 32.0, 1.0], [0.0, 571.0, 1.0, 45.0, 1.0, 185000.0, 1.2, 139.0, 1.0, 1.0, 33.0, 1.0], [1.0, 588.0, 1.0, 60.0, 0.0, 194000.0, 1.1, 142.0, 0.0, 0.0, 33.0, 1.0], [0.0, 582.0, 1.0, 38.0, 0.0, 310000.0, 1.9, 135.0, 1.0, 1.0, 35.0, 1.0], [0.0, 1380.0, 0.0, 25.0, 1.0, 271000.0, 0.9, 130.0, 1.0, 0.0, 38.0, 1.0], [0.0, 582.0, 1.0, 38.0, 1.0, 451000.0, 0.6, 138.0, 1.0, 1.0, 40.0, 1.0], [1.0, 553.0, 0.0, 20.0, 1.0, 140000.0, 4.4, 133.0, 1.0, 0.0, 41.0, 1.0], [1.0, 129.0, 0.0, 30.0, 0.0, 395000.0, 1.0, 140.0, 0.0, 0.0, 42.0, 1.0], [1.0, 577.0, 0.0, 25.0, 1.0, 166000.0, 1.0, 138.0, 1.0, 0.0, 43.0, 1.0], [1.0, 91.0, 0.0, 20.0, 1.0, 418000.0, 1.4, 139.0, 0.0, 0.0, 43.0, 1.0], [0.0, 3964.0, 1.0, 62.0, 0.0, 263358.03, 6.8, 146.0, 0.0, 0.0, 43.0, 1.0], [1.0, 69.0, 1.0, 50.0, 1.0, 351000.0, 1.0, 134.0, 0.0, 0.0, 44.0, 1.0], [1.0, 260.0, 1.0, 38.0, 0.0, 255000.0, 2.2, 132.0, 0.0, 1.0, 45.0, 1.0], [1.0, 371.0, 0.0, 30.0, 0.0, 461000.0, 2.0, 132.0, 1.0, 0.0, 50.0, 1.0], [0.0, 789.0, 0.0, 20.0, 1.0, 319000.0, 1.1, 136.0, 1.0, 1.0, 55.0, 1.0], [0.0, 364.0, 1.0, 20.0, 1.0, 254000.0, 1.3, 136.0, 1.0, 1.0, 59.0, 1.0], [0.0, 7702.0, 1.0, 25.0, 1.0, 390000.0, 1.0, 139.0, 1.0, 0.0, 60.0, 1.0], [0.0, 318.0, 0.0, 40.0, 1.0, 216000.0, 2.3, 131.0, 0.0, 0.0, 60.0, 1.0], [0.0, 582.0, 0.0, 35.0, 0.0, 385000.0, 1.0, 145.0, 1.0, 0.0, 61.0, 1.0], [0.0, 68.0, 0.0, 20.0, 0.0, 119000.0, 2.9, 127.0, 1.0, 1.0, 64.0, 1.0], [1.0, 250.0, 1.0, 15.0, 0.0, 213000.0, 1.3, 136.0, 0.0, 0.0, 65.0, 1.0], [1.0, 110.0, 0.0, 25.0, 0.0, 274000.0, 1.0, 140.0, 1.0, 1.0, 65.0, 1.0], [0.0, 161.0, 0.0, 25.0, 0.0, 244000.0, 1.2, 142.0, 0.0, 0.0, 66.0, 1.0], [0.0, 113.0, 1.0, 25.0, 0.0, 497000.0, 1.83, 135.0, 1.0, 0.0, 67.0, 1.0], [0.0, 5882.0, 0.0, 35.0, 0.0, 243000.0, 1.0, 132.0, 1.0, 1.0, 72.0, 1.0], [0.0, 582.0, 0.0, 20.0, 0.0, 266000.0, 1.2, 134.0, 1.0, 1.0, 73.0, 1.0], [1.0, 47.0, 0.0, 20.0, 0.0, 204000.0, 0.7, 139.0, 1.0, 1.0, 73.0, 1.0], [1.0, 76.0, 1.0, 25.0, 0.0, 196000.0, 2.5, 132.0, 0.0, 0.0, 77.0, 1.0], [1.0, 280.0, 1.0, 25.0, 1.0, 302000.0, 1.0, 141.0, 0.0, 0.0, 78.0, 1.0], [1.0, 154.0, 0.0, 25.0, 0.0, 210000.0, 1.7, 135.0, 1.0, 0.0, 82.0, 1.0], [1.0, 328.0, 0.0, 30.0, 1.0, 621000.0, 1.7, 138.0, 0.0, 1.0, 88.0, 1.0], [0.0, 129.0, 0.0, 60.0, 0.0, 306000.0, 1.2, 132.0, 1.0, 1.0, 90.0, 1.0], [1.0, 143.0, 0.0, 60.0, 0.0, 351000.0, 1.3, 137.0, 0.0, 0.0, 90.0, 1.0], [0.0, 582.0, 0.0, 38.0, 0.0, 263358.03, 1.83, 134.0, 0.0, 0.0, 95.0, 1.0], [0.0, 582.0, 0.0, 40.0, 0.0, 217000.0, 3.7, 134.0, 1.0, 0.0, 96.0, 1.0], [0.0, 168.0, 1.0, 17.0, 1.0, 271000.0, 2.1, 124.0, 0.0, 0.0, 100.0, 1.0], [0.0, 805.0, 0.0, 38.0, 0.0, 263358.03, 1.1, 134.0, 1.0, 0.0, 109.0, 1.0], [1.0, 943.0, 0.0, 25.0, 1.0, 338000.0, 1.7, 139.0, 1.0, 1.0, 111.0, 1.0], [1.0, 582.0, 0.0, 30.0, 0.0, 225000.0, 1.83, 134.0, 1.0, 0.0, 113.0, 1.0], [0.0, 233.0, 0.0, 45.0, 1.0, 235000.0, 2.5, 135.0, 0.0, 0.0, 115.0, 1.0], [1.0, 2334.0, 1.0, 35.0, 0.0, 75000.0, 0.9, 142.0, 0.0, 0.0, 126.0, 1.0], [0.0, 2442.0, 1.0, 30.0, 0.0, 334000.0, 1.1, 139.0, 1.0, 0.0, 129.0, 1.0], [0.0, 776.0, 1.0, 38.0, 1.0, 192000.0, 1.3, 135.0, 0.0, 0.0, 130.0, 1.0], [0.0, 66.0, 1.0, 20.0, 0.0, 70000.0, 2.4, 134.0, 1.0, 0.0, 135.0, 1.0], [1.0, 176.0, 1.0, 25.0, 0.0, 221000.0, 1.0, 136.0, 1.0, 1.0, 150.0, 1.0], [0.0, 395.0, 1.0, 25.0, 0.0, 265000.0, 1.2, 136.0, 1.0, 1.0, 154.0, 1.0], [0.0, 99.0, 0.0, 38.0, 1.0, 224000.0, 2.5, 134.0, 1.0, 0.0, 162.0, 1.0], [1.0, 145.0, 0.0, 25.0, 0.0, 219000.0, 1.2, 137.0, 1.0, 1.0, 170.0, 1.0], [1.0, 104.0, 1.0, 30.0, 0.0, 389000.0, 1.5, 136.0, 1.0, 0.0, 171.0, 1.0], [0.0, 582.0, 0.0, 50.0, 0.0, 153000.0, 0.6, 134.0, 0.0, 0.0, 172.0, 1.0], [0.0, 1896.0, 1.0, 25.0, 0.0, 365000.0, 2.1, 144.0, 0.0, 0.0, 172.0, 1.0], [0.0, 582.0, 0.0, 20.0, 1.0, 126000.0, 1.6, 135.0, 1.0, 0.0, 180.0, 1.0], [1.0, 418.0, 0.0, 45.0, 0.0, 223000.0, 1.8, 145.0, 1.0, 0.0, 180.0, 1.0], [1.0, 131.0, 1.0, 30.0, 1.0, 244000.0, 1.6, 130.0, 0.0, 0.0, 193.0, 1.0], [1.0, 427.0, 0.0, 70.0, 1.0, 151000.0, 9.0, 137.0, 0.0, 0.0, 196.0, 1.0], [0.0, 582.0, 0.0, 20.0, 0.0, 263358.03, 1.83, 134.0, 1.0, 0.0, 198.0, 1.0], [0.0, 166.0, 0.0, 30.0, 0.0, 62000.0, 1.7, 127.0, 0.0, 0.0, 207.0, 1.0], [0.0, 2017.0, 0.0, 25.0, 0.0, 314000.0, 1.1, 138.0, 1.0, 0.0, 214.0, 1.0], [1.0, 258.0, 1.0, 25.0, 0.0, 198000.0, 1.4, 129.0, 1.0, 0.0, 235.0, 1.0], [0.0, 1199.0, 0.0, 20.0, 0.0, 263358.03, 1.83, 134.0, 1.0, 1.0, 241.0, 1.0]], \"hovertemplate\": \"DEATH_EVENT=%{customdata[11]}<br>AGE=%{x}<br>anaemia=%{customdata[0]}<br>creatinine_phosphokinase=%{customdata[1]}<br>diabetes=%{customdata[2]}<br>ejection_fraction=%{customdata[3]}<br>high_blood_pressure=%{customdata[4]}<br>platelets=%{customdata[5]}<br>serum_creatinine=%{customdata[6]}<br>serum_sodium=%{customdata[7]}<br>sex=%{customdata[8]}<br>smoking=%{customdata[9]}<br>time=%{customdata[10]}<extra></extra>\", \"legendgroup\": \"1\", \"marker\": {\"color\": \"#636efa\"}, \"name\": \"1\", \"offsetgroup\": \"1\", \"scalegroup\": \"x\", \"showlegend\": false, \"type\": \"violin\", \"x\": [75.0, 55.0, 65.0, 50.0, 65.0, 90.0, 75.0, 60.0, 65.0, 80.0, 75.0, 62.0, 45.0, 50.0, 82.0, 87.0, 45.0, 70.0, 48.0, 65.0, 68.0, 75.0, 80.0, 95.0, 70.0, 58.0, 82.0, 94.0, 85.0, 50.0, 65.0, 69.0, 90.0, 82.0, 60.0, 70.0, 50.0, 70.0, 60.0, 50.0, 51.0, 60.0, 80.0, 57.0, 68.0, 53.0, 60.0, 70.0, 60.0, 95.0, 49.0, 72.0, 45.0, 50.0, 45.0, 60.0, 42.0, 72.0, 70.0, 65.0, 85.0, 69.0, 60.0, 60.0, 59.0, 60.0, 72.0, 85.0, 70.0, 86.0, 60.0, 46.0, 80.0, 72.0, 75.0, 72.0, 50.0, 45.0, 80.0, 59.0, 59.0, 65.0, 75.0, 58.0, 60.667, 50.0, 60.0, 45.0, 77.0, 48.0, 54.0, 73.0, 60.0, 55.0, 65.0, 55.0], \"xaxis\": \"x2\", \"yaxis\": \"y2\"}, {\"alignmentgroup\": \"True\", \"bingroup\": \"x\", \"hovertemplate\": \"DEATH_EVENT=0<br>AGE=%{x}<br>count=%{y}<extra></extra>\", \"legendgroup\": \"0\", \"marker\": {\"color\": \"#EF553B\"}, \"name\": \"0\", \"offsetgroup\": \"0\", \"orientation\": \"v\", \"showlegend\": true, \"type\": \"histogram\", \"x\": [49.0, 65.0, 53.0, 50.0, 60.0, 72.0, 70.0, 60.0, 55.0, 45.0, 41.0, 58.0, 65.0, 70.0, 42.0, 75.0, 55.0, 70.0, 67.0, 79.0, 51.0, 55.0, 65.0, 44.0, 57.0, 70.0, 60.0, 42.0, 58.0, 58.0, 63.0, 70.0, 60.0, 63.0, 65.0, 75.0, 80.0, 42.0, 60.0, 55.0, 45.0, 63.0, 45.0, 55.0, 50.0, 60.0, 58.0, 60.0, 85.0, 65.0, 60.0, 66.0, 60.0, 60.0, 43.0, 58.0, 61.0, 53.0, 53.0, 60.0, 46.0, 63.0, 81.0, 75.0, 65.0, 68.0, 62.0, 50.0, 46.0, 50.0, 61.0, 50.0, 52.0, 64.0, 60.0, 62.0, 50.0, 50.0, 65.0, 60.0, 52.0, 50.0, 85.0, 59.0, 66.0, 45.0, 63.0, 53.0, 65.0, 70.0, 51.0, 52.0, 70.0, 50.0, 65.0, 60.0, 69.0, 49.0, 63.0, 55.0, 40.0, 60.667, 40.0, 80.0, 64.0, 50.0, 73.0, 45.0, 65.0, 50.0, 60.0, 63.0, 45.0, 70.0, 60.0, 78.0, 50.0, 40.0, 85.0, 60.0, 49.0, 70.0, 50.0, 78.0, 65.0, 73.0, 70.0, 68.0, 55.0, 65.0, 42.0, 47.0, 58.0, 75.0, 58.0, 55.0, 65.0, 72.0, 70.0, 40.0, 53.0, 53.0, 77.0, 75.0, 70.0, 65.0, 55.0, 70.0, 65.0, 40.0, 73.0, 54.0, 61.0, 64.0, 40.0, 53.0, 50.0, 55.0, 50.0, 70.0, 53.0, 52.0, 65.0, 58.0, 45.0, 53.0, 55.0, 62.0, 68.0, 61.0, 50.0, 56.0, 45.0, 40.0, 44.0, 51.0, 67.0, 42.0, 60.0, 45.0, 70.0, 70.0, 50.0, 55.0, 70.0, 70.0, 42.0, 65.0, 50.0, 55.0, 60.0, 45.0, 65.0, 90.0, 45.0, 60.0, 52.0, 63.0, 62.0, 55.0, 45.0, 45.0, 50.0], \"xaxis\": \"x\", \"yaxis\": \"y\"}, {\"alignmentgroup\": \"True\", \"customdata\": [[1.0, 80.0, 0.0, 30.0, 1.0, 427000.0, 1.0, 138.0, 0.0, 0.0, 12.0, 0.0], [1.0, 52.0, 0.0, 25.0, 1.0, 276000.0, 1.3, 137.0, 0.0, 0.0, 16.0, 0.0], [0.0, 63.0, 1.0, 60.0, 0.0, 368000.0, 0.8, 135.0, 1.0, 0.0, 22.0, 0.0], [1.0, 159.0, 1.0, 30.0, 0.0, 302000.0, 1.2, 138.0, 0.0, 0.0, 29.0, 0.0], [0.0, 2656.0, 1.0, 30.0, 0.0, 305000.0, 2.3, 137.0, 1.0, 0.0, 30.0, 0.0], [0.0, 127.0, 1.0, 50.0, 1.0, 218000.0, 1.0, 134.0, 1.0, 0.0, 33.0, 0.0], [1.0, 75.0, 0.0, 35.0, 0.0, 223000.0, 2.7, 138.0, 1.0, 1.0, 54.0, 0.0], [1.0, 607.0, 0.0, 40.0, 0.0, 216000.0, 0.6, 138.0, 1.0, 1.0, 54.0, 0.0], [0.0, 109.0, 0.0, 35.0, 0.0, 254000.0, 1.1, 139.0, 1.0, 1.0, 60.0, 0.0], [0.0, 582.0, 0.0, 80.0, 0.0, 263358.03, 1.18, 137.0, 0.0, 0.0, 63.0, 0.0], [0.0, 148.0, 0.0, 40.0, 0.0, 374000.0, 0.8, 140.0, 1.0, 1.0, 68.0, 0.0], [0.0, 582.0, 1.0, 35.0, 0.0, 122000.0, 0.9, 139.0, 1.0, 1.0, 71.0, 0.0], [0.0, 224.0, 1.0, 50.0, 0.0, 149000.0, 1.3, 137.0, 1.0, 1.0, 72.0, 0.0], [0.0, 92.0, 0.0, 60.0, 1.0, 317000.0, 0.8, 140.0, 0.0, 1.0, 74.0, 0.0], [0.0, 102.0, 1.0, 40.0, 0.0, 237000.0, 1.2, 140.0, 1.0, 0.0, 74.0, 0.0], [1.0, 203.0, 1.0, 38.0, 1.0, 283000.0, 0.6, 131.0, 1.0, 1.0, 74.0, 0.0], [0.0, 336.0, 0.0, 45.0, 1.0, 324000.0, 0.9, 140.0, 0.0, 0.0, 74.0, 0.0], [0.0, 69.0, 0.0, 40.0, 0.0, 293000.0, 1.7, 136.0, 0.0, 0.0, 75.0, 0.0], [0.0, 582.0, 0.0, 50.0, 0.0, 263358.03, 1.18, 137.0, 1.0, 1.0, 76.0, 0.0], [1.0, 55.0, 0.0, 50.0, 1.0, 172000.0, 1.8, 133.0, 1.0, 0.0, 78.0, 0.0], [0.0, 78.0, 0.0, 50.0, 0.0, 406000.0, 0.7, 140.0, 1.0, 0.0, 79.0, 0.0], [0.0, 47.0, 0.0, 35.0, 1.0, 173000.0, 1.1, 137.0, 1.0, 0.0, 79.0, 0.0], [1.0, 68.0, 1.0, 60.0, 1.0, 304000.0, 0.8, 140.0, 1.0, 0.0, 79.0, 0.0], [0.0, 84.0, 1.0, 40.0, 1.0, 235000.0, 0.7, 139.0, 1.0, 0.0, 79.0, 0.0], [1.0, 115.0, 0.0, 25.0, 1.0, 181000.0, 1.1, 144.0, 1.0, 0.0, 79.0, 0.0], [0.0, 66.0, 1.0, 45.0, 0.0, 249000.0, 0.8, 136.0, 1.0, 1.0, 80.0, 0.0], [0.0, 897.0, 1.0, 45.0, 0.0, 297000.0, 1.0, 133.0, 1.0, 0.0, 80.0, 0.0], [0.0, 582.0, 0.0, 60.0, 0.0, 263358.03, 1.18, 137.0, 0.0, 0.0, 82.0, 0.0], [0.0, 144.0, 1.0, 38.0, 1.0, 327000.0, 0.7, 142.0, 0.0, 0.0, 83.0, 0.0], [1.0, 133.0, 0.0, 60.0, 1.0, 219000.0, 1.0, 141.0, 1.0, 0.0, 83.0, 0.0], [1.0, 514.0, 1.0, 25.0, 1.0, 254000.0, 1.3, 134.0, 1.0, 0.0, 83.0, 0.0], [1.0, 59.0, 0.0, 60.0, 0.0, 255000.0, 1.1, 136.0, 0.0, 0.0, 85.0, 0.0], [1.0, 156.0, 1.0, 25.0, 1.0, 318000.0, 1.2, 137.0, 0.0, 0.0, 85.0, 0.0], [1.0, 61.0, 1.0, 40.0, 0.0, 221000.0, 1.1, 140.0, 0.0, 0.0, 86.0, 0.0], [1.0, 305.0, 0.0, 25.0, 0.0, 298000.0, 1.1, 141.0, 1.0, 0.0, 87.0, 0.0], [0.0, 582.0, 0.0, 45.0, 1.0, 263358.03, 1.18, 137.0, 1.0, 0.0, 87.0, 0.0], [0.0, 898.0, 0.0, 25.0, 0.0, 149000.0, 1.1, 144.0, 1.0, 1.0, 87.0, 0.0], [0.0, 5209.0, 0.0, 30.0, 0.0, 226000.0, 1.0, 140.0, 1.0, 1.0, 87.0, 0.0], [0.0, 53.0, 0.0, 50.0, 1.0, 286000.0, 2.3, 143.0, 0.0, 0.0, 87.0, 0.0], [0.0, 748.0, 0.0, 45.0, 0.0, 263000.0, 1.3, 137.0, 1.0, 0.0, 88.0, 0.0], [1.0, 1876.0, 1.0, 35.0, 0.0, 226000.0, 0.9, 138.0, 1.0, 0.0, 88.0, 0.0], [0.0, 936.0, 0.0, 38.0, 0.0, 304000.0, 1.1, 133.0, 1.0, 1.0, 88.0, 0.0], [0.0, 292.0, 1.0, 35.0, 0.0, 850000.0, 1.3, 142.0, 1.0, 1.0, 88.0, 0.0], [0.0, 60.0, 0.0, 35.0, 0.0, 228000.0, 1.2, 135.0, 1.0, 1.0, 90.0, 0.0], [0.0, 369.0, 1.0, 25.0, 0.0, 252000.0, 1.6, 136.0, 1.0, 0.0, 90.0, 0.0], [1.0, 754.0, 1.0, 40.0, 1.0, 328000.0, 1.2, 126.0, 1.0, 0.0, 91.0, 0.0], [1.0, 400.0, 0.0, 40.0, 0.0, 164000.0, 1.0, 139.0, 0.0, 0.0, 91.0, 0.0], [1.0, 96.0, 1.0, 60.0, 1.0, 271000.0, 0.7, 136.0, 0.0, 0.0, 94.0, 0.0], [1.0, 102.0, 0.0, 60.0, 0.0, 507000.0, 3.2, 138.0, 0.0, 0.0, 94.0, 0.0], [1.0, 113.0, 1.0, 60.0, 1.0, 203000.0, 0.9, 140.0, 0.0, 0.0, 94.0, 0.0], [1.0, 737.0, 0.0, 60.0, 1.0, 210000.0, 1.5, 135.0, 1.0, 1.0, 95.0, 0.0], [1.0, 68.0, 1.0, 38.0, 1.0, 162000.0, 1.0, 136.0, 0.0, 0.0, 95.0, 0.0], [0.0, 96.0, 1.0, 38.0, 0.0, 228000.0, 0.75, 140.0, 0.0, 0.0, 95.0, 0.0], [1.0, 582.0, 0.0, 30.0, 1.0, 127000.0, 0.9, 145.0, 0.0, 0.0, 95.0, 0.0], [1.0, 358.0, 0.0, 50.0, 0.0, 237000.0, 1.3, 135.0, 0.0, 0.0, 97.0, 0.0], [1.0, 200.0, 1.0, 60.0, 0.0, 300000.0, 0.8, 137.0, 0.0, 0.0, 104.0, 0.0], [0.0, 248.0, 0.0, 30.0, 1.0, 267000.0, 0.7, 136.0, 1.0, 1.0, 104.0, 0.0], [1.0, 270.0, 1.0, 35.0, 0.0, 227000.0, 3.4, 145.0, 1.0, 0.0, 105.0, 0.0], [1.0, 1808.0, 0.0, 60.0, 1.0, 249000.0, 0.7, 138.0, 1.0, 1.0, 106.0, 0.0], [1.0, 1082.0, 1.0, 45.0, 0.0, 250000.0, 6.1, 131.0, 1.0, 0.0, 107.0, 0.0], [0.0, 719.0, 0.0, 40.0, 1.0, 263358.03, 1.18, 137.0, 0.0, 0.0, 107.0, 0.0], [0.0, 193.0, 0.0, 60.0, 1.0, 295000.0, 1.3, 145.0, 1.0, 1.0, 107.0, 0.0], [0.0, 4540.0, 0.0, 35.0, 0.0, 231000.0, 1.18, 137.0, 1.0, 1.0, 107.0, 0.0], [0.0, 582.0, 0.0, 40.0, 0.0, 263358.03, 1.18, 137.0, 1.0, 0.0, 107.0, 0.0], [1.0, 59.0, 1.0, 60.0, 0.0, 172000.0, 0.9, 137.0, 0.0, 0.0, 107.0, 0.0], [1.0, 646.0, 0.0, 25.0, 0.0, 305000.0, 2.1, 130.0, 1.0, 0.0, 108.0, 0.0], [0.0, 281.0, 1.0, 35.0, 0.0, 221000.0, 1.0, 136.0, 0.0, 0.0, 108.0, 0.0], [0.0, 1548.0, 0.0, 30.0, 1.0, 211000.0, 0.8, 138.0, 1.0, 0.0, 108.0, 0.0], [1.0, 291.0, 0.0, 35.0, 0.0, 348000.0, 0.9, 140.0, 0.0, 0.0, 109.0, 0.0], [0.0, 482.0, 1.0, 30.0, 0.0, 329000.0, 0.9, 132.0, 0.0, 0.0, 109.0, 0.0], [1.0, 84.0, 0.0, 40.0, 1.0, 229000.0, 0.9, 141.0, 0.0, 0.0, 110.0, 0.0], [0.0, 185.0, 0.0, 30.0, 0.0, 266000.0, 0.7, 141.0, 1.0, 1.0, 112.0, 0.0], [0.0, 132.0, 0.0, 30.0, 0.0, 218000.0, 0.7, 136.0, 1.0, 1.0, 112.0, 0.0], [0.0, 1610.0, 0.0, 60.0, 0.0, 242000.0, 1.0, 137.0, 1.0, 0.0, 113.0, 0.0], [0.0, 2261.0, 0.0, 35.0, 1.0, 228000.0, 0.9, 136.0, 1.0, 0.0, 115.0, 0.0], [0.0, 30.0, 1.0, 60.0, 1.0, 244000.0, 0.9, 139.0, 1.0, 0.0, 117.0, 0.0], [0.0, 115.0, 0.0, 45.0, 1.0, 184000.0, 0.9, 134.0, 1.0, 1.0, 118.0, 0.0], [0.0, 1846.0, 1.0, 35.0, 0.0, 263358.03, 1.18, 137.0, 1.0, 1.0, 119.0, 0.0], [1.0, 335.0, 0.0, 35.0, 1.0, 235000.0, 0.8, 136.0, 0.0, 0.0, 120.0, 0.0], [1.0, 231.0, 1.0, 25.0, 0.0, 194000.0, 1.7, 140.0, 1.0, 0.0, 120.0, 0.0], [1.0, 58.0, 0.0, 35.0, 0.0, 277000.0, 1.4, 136.0, 0.0, 0.0, 120.0, 0.0], [0.0, 250.0, 0.0, 25.0, 0.0, 262000.0, 1.0, 136.0, 1.0, 1.0, 120.0, 0.0], [1.0, 910.0, 0.0, 50.0, 0.0, 235000.0, 1.3, 134.0, 1.0, 0.0, 121.0, 0.0], [1.0, 129.0, 0.0, 45.0, 1.0, 362000.0, 1.1, 139.0, 1.0, 1.0, 121.0, 0.0], [1.0, 72.0, 0.0, 40.0, 1.0, 242000.0, 1.2, 134.0, 1.0, 0.0, 121.0, 0.0], [1.0, 130.0, 0.0, 35.0, 0.0, 174000.0, 0.8, 139.0, 1.0, 1.0, 121.0, 0.0], [1.0, 582.0, 0.0, 40.0, 0.0, 448000.0, 0.9, 137.0, 1.0, 1.0, 123.0, 0.0], [0.0, 196.0, 0.0, 60.0, 0.0, 220000.0, 0.7, 133.0, 1.0, 1.0, 134.0, 0.0], [0.0, 582.0, 1.0, 40.0, 0.0, 270000.0, 1.0, 138.0, 0.0, 0.0, 140.0, 0.0], [0.0, 835.0, 0.0, 35.0, 1.0, 305000.0, 0.8, 133.0, 0.0, 0.0, 145.0, 0.0], [1.0, 582.0, 1.0, 35.0, 0.0, 263358.03, 1.5, 136.0, 1.0, 1.0, 145.0, 0.0], [0.0, 3966.0, 0.0, 40.0, 0.0, 325000.0, 0.9, 140.0, 1.0, 1.0, 146.0, 0.0], [1.0, 171.0, 0.0, 60.0, 1.0, 176000.0, 1.1, 145.0, 1.0, 1.0, 146.0, 0.0], [1.0, 115.0, 0.0, 20.0, 0.0, 189000.0, 0.8, 139.0, 1.0, 0.0, 146.0, 0.0], [0.0, 198.0, 1.0, 35.0, 1.0, 281000.0, 0.9, 137.0, 1.0, 1.0, 146.0, 0.0], [1.0, 95.0, 0.0, 60.0, 0.0, 337000.0, 1.0, 138.0, 1.0, 1.0, 146.0, 0.0], [0.0, 1419.0, 0.0, 40.0, 0.0, 105000.0, 1.0, 135.0, 1.0, 1.0, 147.0, 0.0], [1.0, 69.0, 0.0, 50.0, 0.0, 132000.0, 1.0, 140.0, 0.0, 0.0, 147.0, 0.0], [1.0, 122.0, 1.0, 60.0, 0.0, 267000.0, 1.2, 145.0, 1.0, 0.0, 147.0, 0.0], [0.0, 835.0, 0.0, 40.0, 0.0, 279000.0, 0.7, 140.0, 1.0, 1.0, 147.0, 0.0], [0.0, 478.0, 1.0, 30.0, 0.0, 303000.0, 0.9, 136.0, 1.0, 0.0, 148.0, 0.0], [1.0, 151.0, 1.0, 40.0, 1.0, 201000.0, 1.0, 136.0, 0.0, 0.0, 172.0, 0.0], [0.0, 244.0, 0.0, 45.0, 1.0, 275000.0, 0.9, 140.0, 0.0, 0.0, 174.0, 0.0], [0.0, 582.0, 1.0, 35.0, 0.0, 350000.0, 2.1, 134.0, 1.0, 0.0, 174.0, 0.0], [1.0, 62.0, 0.0, 60.0, 0.0, 309000.0, 1.5, 135.0, 0.0, 0.0, 174.0, 0.0], [1.0, 121.0, 1.0, 40.0, 0.0, 260000.0, 0.7, 130.0, 1.0, 0.0, 175.0, 0.0], [1.0, 231.0, 1.0, 30.0, 0.0, 160000.0, 1.18, 142.0, 1.0, 1.0, 180.0, 0.0], [0.0, 582.0, 1.0, 38.0, 1.0, 263358.03, 1.18, 137.0, 0.0, 0.0, 185.0, 0.0], [0.0, 167.0, 0.0, 30.0, 0.0, 259000.0, 0.8, 138.0, 0.0, 0.0, 186.0, 0.0], [1.0, 582.0, 1.0, 20.0, 1.0, 279000.0, 1.0, 134.0, 0.0, 0.0, 186.0, 0.0], [0.0, 1211.0, 1.0, 35.0, 0.0, 263358.03, 1.8, 113.0, 1.0, 1.0, 186.0, 0.0], [1.0, 1767.0, 0.0, 45.0, 0.0, 73000.0, 0.7, 137.0, 1.0, 0.0, 186.0, 0.0], [0.0, 308.0, 1.0, 60.0, 1.0, 377000.0, 1.0, 136.0, 1.0, 0.0, 186.0, 0.0], [0.0, 97.0, 0.0, 60.0, 1.0, 220000.0, 0.9, 138.0, 1.0, 0.0, 186.0, 0.0], [0.0, 59.0, 0.0, 25.0, 1.0, 212000.0, 3.5, 136.0, 1.0, 1.0, 187.0, 0.0], [1.0, 64.0, 0.0, 40.0, 0.0, 277000.0, 0.7, 137.0, 1.0, 1.0, 187.0, 0.0], [1.0, 167.0, 1.0, 45.0, 0.0, 362000.0, 1.0, 136.0, 0.0, 0.0, 187.0, 0.0], [1.0, 101.0, 0.0, 40.0, 0.0, 226000.0, 0.8, 141.0, 0.0, 0.0, 187.0, 0.0], [0.0, 212.0, 0.0, 38.0, 0.0, 186000.0, 0.9, 136.0, 1.0, 0.0, 187.0, 0.0], [1.0, 2281.0, 1.0, 40.0, 0.0, 283000.0, 1.0, 141.0, 0.0, 0.0, 187.0, 0.0], [0.0, 972.0, 1.0, 35.0, 1.0, 268000.0, 0.8, 130.0, 0.0, 0.0, 187.0, 0.0], [0.0, 212.0, 1.0, 17.0, 1.0, 389000.0, 1.0, 136.0, 1.0, 1.0, 188.0, 0.0], [0.0, 582.0, 0.0, 62.0, 1.0, 147000.0, 0.8, 140.0, 1.0, 1.0, 192.0, 0.0], [0.0, 224.0, 0.0, 50.0, 0.0, 481000.0, 1.4, 138.0, 1.0, 1.0, 192.0, 0.0], [1.0, 135.0, 0.0, 35.0, 1.0, 290000.0, 0.8, 134.0, 1.0, 0.0, 194.0, 0.0], [0.0, 582.0, 0.0, 35.0, 1.0, 203000.0, 1.3, 134.0, 1.0, 0.0, 195.0, 0.0], [0.0, 1202.0, 0.0, 50.0, 1.0, 358000.0, 0.9, 141.0, 0.0, 0.0, 196.0, 0.0], [1.0, 1021.0, 1.0, 35.0, 0.0, 271000.0, 1.1, 134.0, 1.0, 0.0, 197.0, 0.0], [0.0, 582.0, 1.0, 35.0, 1.0, 371000.0, 0.7, 140.0, 0.0, 0.0, 197.0, 0.0], [0.0, 118.0, 0.0, 50.0, 0.0, 194000.0, 1.1, 145.0, 1.0, 1.0, 200.0, 0.0], [1.0, 86.0, 0.0, 35.0, 0.0, 365000.0, 1.1, 139.0, 1.0, 1.0, 201.0, 0.0], [0.0, 582.0, 0.0, 25.0, 0.0, 130000.0, 0.8, 134.0, 1.0, 0.0, 201.0, 0.0], [0.0, 582.0, 1.0, 25.0, 0.0, 504000.0, 1.0, 138.0, 1.0, 0.0, 205.0, 0.0], [0.0, 675.0, 1.0, 60.0, 0.0, 265000.0, 1.4, 125.0, 0.0, 0.0, 205.0, 0.0], [1.0, 57.0, 0.0, 25.0, 0.0, 189000.0, 1.3, 132.0, 1.0, 1.0, 205.0, 0.0], [1.0, 2794.0, 0.0, 35.0, 1.0, 141000.0, 1.0, 140.0, 1.0, 0.0, 206.0, 0.0], [0.0, 56.0, 0.0, 25.0, 0.0, 237000.0, 5.0, 130.0, 0.0, 0.0, 207.0, 0.0], [0.0, 211.0, 0.0, 25.0, 0.0, 274000.0, 1.2, 134.0, 0.0, 0.0, 207.0, 0.0], [0.0, 93.0, 0.0, 35.0, 0.0, 185000.0, 1.1, 134.0, 1.0, 1.0, 208.0, 0.0], [1.0, 129.0, 0.0, 35.0, 0.0, 255000.0, 0.9, 137.0, 1.0, 0.0, 209.0, 0.0], [1.0, 707.0, 0.0, 38.0, 0.0, 330000.0, 1.4, 137.0, 1.0, 1.0, 209.0, 0.0], [1.0, 582.0, 0.0, 45.0, 0.0, 305000.0, 1.1, 137.0, 1.0, 1.0, 209.0, 0.0], [1.0, 109.0, 0.0, 50.0, 1.0, 406000.0, 1.1, 137.0, 1.0, 0.0, 209.0, 0.0], [0.0, 119.0, 0.0, 50.0, 1.0, 248000.0, 1.1, 148.0, 1.0, 0.0, 209.0, 0.0], [0.0, 232.0, 0.0, 30.0, 0.0, 173000.0, 1.2, 132.0, 1.0, 0.0, 210.0, 0.0], [1.0, 720.0, 1.0, 40.0, 0.0, 257000.0, 1.0, 136.0, 0.0, 0.0, 210.0, 0.0], [1.0, 180.0, 0.0, 45.0, 0.0, 263358.03, 1.18, 137.0, 1.0, 1.0, 211.0, 0.0], [0.0, 81.0, 1.0, 35.0, 1.0, 533000.0, 1.3, 139.0, 0.0, 0.0, 212.0, 0.0], [0.0, 582.0, 1.0, 30.0, 0.0, 249000.0, 1.3, 136.0, 1.0, 1.0, 212.0, 0.0], [0.0, 90.0, 0.0, 35.0, 0.0, 255000.0, 1.1, 136.0, 1.0, 1.0, 212.0, 0.0], [1.0, 1185.0, 0.0, 40.0, 1.0, 220000.0, 0.9, 141.0, 0.0, 0.0, 213.0, 0.0], [0.0, 582.0, 1.0, 38.0, 0.0, 264000.0, 1.8, 134.0, 1.0, 0.0, 213.0, 0.0], [1.0, 80.0, 1.0, 38.0, 0.0, 282000.0, 1.4, 137.0, 1.0, 0.0, 213.0, 0.0], [0.0, 143.0, 0.0, 25.0, 0.0, 246000.0, 2.4, 135.0, 1.0, 0.0, 214.0, 0.0], [0.0, 624.0, 0.0, 35.0, 0.0, 301000.0, 1.0, 142.0, 1.0, 1.0, 214.0, 0.0], [0.0, 207.0, 1.0, 40.0, 0.0, 223000.0, 1.2, 130.0, 0.0, 0.0, 214.0, 0.0], [0.0, 2522.0, 0.0, 30.0, 1.0, 404000.0, 0.5, 139.0, 0.0, 0.0, 214.0, 0.0], [0.0, 572.0, 1.0, 35.0, 0.0, 231000.0, 0.8, 143.0, 0.0, 0.0, 215.0, 0.0], [0.0, 245.0, 0.0, 45.0, 1.0, 274000.0, 1.0, 133.0, 1.0, 0.0, 215.0, 0.0], [0.0, 88.0, 1.0, 35.0, 1.0, 236000.0, 1.2, 132.0, 0.0, 0.0, 215.0, 0.0], [1.0, 446.0, 0.0, 60.0, 1.0, 263358.03, 1.0, 139.0, 1.0, 0.0, 215.0, 0.0], [1.0, 191.0, 1.0, 30.0, 1.0, 334000.0, 1.0, 142.0, 1.0, 1.0, 216.0, 0.0], [0.0, 326.0, 0.0, 38.0, 0.0, 294000.0, 1.7, 139.0, 0.0, 0.0, 220.0, 0.0], [0.0, 132.0, 1.0, 38.0, 1.0, 253000.0, 1.0, 139.0, 1.0, 0.0, 230.0, 0.0], [1.0, 66.0, 1.0, 25.0, 0.0, 233000.0, 0.8, 135.0, 1.0, 0.0, 230.0, 0.0], [0.0, 56.0, 0.0, 50.0, 0.0, 308000.0, 0.7, 135.0, 1.0, 1.0, 231.0, 0.0], [0.0, 66.0, 0.0, 40.0, 0.0, 203000.0, 1.0, 138.0, 1.0, 0.0, 233.0, 0.0], [1.0, 655.0, 0.0, 40.0, 0.0, 283000.0, 0.7, 133.0, 0.0, 0.0, 233.0, 0.0], [1.0, 157.0, 1.0, 60.0, 0.0, 208000.0, 1.0, 140.0, 0.0, 0.0, 237.0, 0.0], [0.0, 582.0, 1.0, 38.0, 0.0, 147000.0, 1.2, 141.0, 1.0, 0.0, 237.0, 0.0], [1.0, 298.0, 0.0, 35.0, 0.0, 362000.0, 0.9, 140.0, 1.0, 1.0, 240.0, 0.0], [1.0, 135.0, 1.0, 38.0, 0.0, 133000.0, 1.7, 140.0, 1.0, 0.0, 244.0, 0.0], [0.0, 582.0, 1.0, 38.0, 0.0, 302000.0, 0.9, 140.0, 0.0, 0.0, 244.0, 0.0], [0.0, 582.0, 1.0, 35.0, 0.0, 222000.0, 1.0, 132.0, 1.0, 0.0, 244.0, 0.0], [0.0, 582.0, 1.0, 30.0, 1.0, 263358.03, 1.6, 130.0, 1.0, 1.0, 244.0, 0.0], [0.0, 582.0, 1.0, 40.0, 0.0, 221000.0, 0.9, 134.0, 0.0, 0.0, 244.0, 0.0], [0.0, 213.0, 0.0, 38.0, 0.0, 215000.0, 1.2, 133.0, 0.0, 0.0, 245.0, 0.0], [0.0, 64.0, 0.0, 40.0, 0.0, 189000.0, 0.7, 140.0, 1.0, 0.0, 245.0, 0.0], [1.0, 257.0, 1.0, 30.0, 0.0, 150000.0, 1.0, 137.0, 1.0, 1.0, 245.0, 0.0], [0.0, 582.0, 0.0, 38.0, 1.0, 422000.0, 0.8, 137.0, 0.0, 0.0, 245.0, 0.0], [0.0, 618.0, 0.0, 35.0, 0.0, 327000.0, 1.1, 142.0, 0.0, 0.0, 245.0, 0.0], [0.0, 582.0, 1.0, 38.0, 0.0, 25100.0, 1.1, 140.0, 1.0, 0.0, 246.0, 0.0], [1.0, 1051.0, 1.0, 30.0, 0.0, 232000.0, 0.7, 136.0, 0.0, 0.0, 246.0, 0.0], [0.0, 84.0, 1.0, 38.0, 0.0, 451000.0, 1.3, 136.0, 0.0, 0.0, 246.0, 0.0], [0.0, 2695.0, 1.0, 40.0, 0.0, 241000.0, 1.0, 137.0, 1.0, 0.0, 247.0, 0.0], [0.0, 582.0, 0.0, 40.0, 0.0, 51000.0, 2.7, 136.0, 1.0, 1.0, 250.0, 0.0], [0.0, 64.0, 0.0, 30.0, 0.0, 215000.0, 3.8, 128.0, 1.0, 1.0, 250.0, 0.0], [0.0, 1688.0, 0.0, 38.0, 0.0, 263358.03, 1.1, 138.0, 1.0, 1.0, 250.0, 0.0], [1.0, 54.0, 0.0, 40.0, 0.0, 279000.0, 0.8, 141.0, 1.0, 0.0, 250.0, 0.0], [1.0, 170.0, 1.0, 40.0, 0.0, 336000.0, 1.2, 135.0, 1.0, 0.0, 250.0, 0.0], [0.0, 253.0, 0.0, 35.0, 0.0, 279000.0, 1.7, 140.0, 1.0, 0.0, 250.0, 0.0], [0.0, 582.0, 1.0, 55.0, 0.0, 543000.0, 1.0, 132.0, 0.0, 0.0, 250.0, 0.0], [0.0, 892.0, 1.0, 35.0, 0.0, 263358.03, 1.1, 142.0, 0.0, 0.0, 256.0, 0.0], [1.0, 337.0, 0.0, 38.0, 0.0, 390000.0, 0.9, 144.0, 0.0, 0.0, 256.0, 0.0], [0.0, 615.0, 1.0, 55.0, 0.0, 222000.0, 0.8, 141.0, 0.0, 0.0, 257.0, 0.0], [0.0, 320.0, 0.0, 35.0, 0.0, 133000.0, 1.4, 139.0, 1.0, 0.0, 258.0, 0.0], [0.0, 190.0, 1.0, 38.0, 0.0, 382000.0, 1.0, 140.0, 1.0, 1.0, 258.0, 0.0], [1.0, 103.0, 1.0, 35.0, 0.0, 179000.0, 0.9, 136.0, 1.0, 1.0, 270.0, 0.0], [0.0, 61.0, 1.0, 38.0, 1.0, 155000.0, 1.1, 143.0, 1.0, 1.0, 270.0, 0.0], [0.0, 1820.0, 0.0, 38.0, 0.0, 270000.0, 1.2, 139.0, 0.0, 0.0, 271.0, 0.0], [0.0, 2060.0, 1.0, 60.0, 0.0, 742000.0, 0.8, 138.0, 0.0, 0.0, 278.0, 0.0], [0.0, 2413.0, 0.0, 38.0, 0.0, 140000.0, 1.4, 140.0, 1.0, 1.0, 280.0, 0.0], [0.0, 196.0, 0.0, 45.0, 0.0, 395000.0, 1.6, 136.0, 1.0, 1.0, 285.0, 0.0]], \"hovertemplate\": \"DEATH_EVENT=%{customdata[11]}<br>AGE=%{x}<br>anaemia=%{customdata[0]}<br>creatinine_phosphokinase=%{customdata[1]}<br>diabetes=%{customdata[2]}<br>ejection_fraction=%{customdata[3]}<br>high_blood_pressure=%{customdata[4]}<br>platelets=%{customdata[5]}<br>serum_creatinine=%{customdata[6]}<br>serum_sodium=%{customdata[7]}<br>sex=%{customdata[8]}<br>smoking=%{customdata[9]}<br>time=%{customdata[10]}<extra></extra>\", \"legendgroup\": \"0\", \"marker\": {\"color\": \"#EF553B\"}, \"name\": \"0\", \"offsetgroup\": \"0\", \"scalegroup\": \"x\", \"showlegend\": false, \"type\": \"violin\", \"x\": [49.0, 65.0, 53.0, 50.0, 60.0, 72.0, 70.0, 60.0, 55.0, 45.0, 41.0, 58.0, 65.0, 70.0, 42.0, 75.0, 55.0, 70.0, 67.0, 79.0, 51.0, 55.0, 65.0, 44.0, 57.0, 70.0, 60.0, 42.0, 58.0, 58.0, 63.0, 70.0, 60.0, 63.0, 65.0, 75.0, 80.0, 42.0, 60.0, 55.0, 45.0, 63.0, 45.0, 55.0, 50.0, 60.0, 58.0, 60.0, 85.0, 65.0, 60.0, 66.0, 60.0, 60.0, 43.0, 58.0, 61.0, 53.0, 53.0, 60.0, 46.0, 63.0, 81.0, 75.0, 65.0, 68.0, 62.0, 50.0, 46.0, 50.0, 61.0, 50.0, 52.0, 64.0, 60.0, 62.0, 50.0, 50.0, 65.0, 60.0, 52.0, 50.0, 85.0, 59.0, 66.0, 45.0, 63.0, 53.0, 65.0, 70.0, 51.0, 52.0, 70.0, 50.0, 65.0, 60.0, 69.0, 49.0, 63.0, 55.0, 40.0, 60.667, 40.0, 80.0, 64.0, 50.0, 73.0, 45.0, 65.0, 50.0, 60.0, 63.0, 45.0, 70.0, 60.0, 78.0, 50.0, 40.0, 85.0, 60.0, 49.0, 70.0, 50.0, 78.0, 65.0, 73.0, 70.0, 68.0, 55.0, 65.0, 42.0, 47.0, 58.0, 75.0, 58.0, 55.0, 65.0, 72.0, 70.0, 40.0, 53.0, 53.0, 77.0, 75.0, 70.0, 65.0, 55.0, 70.0, 65.0, 40.0, 73.0, 54.0, 61.0, 64.0, 40.0, 53.0, 50.0, 55.0, 50.0, 70.0, 53.0, 52.0, 65.0, 58.0, 45.0, 53.0, 55.0, 62.0, 68.0, 61.0, 50.0, 56.0, 45.0, 40.0, 44.0, 51.0, 67.0, 42.0, 60.0, 45.0, 70.0, 70.0, 50.0, 55.0, 70.0, 70.0, 42.0, 65.0, 50.0, 55.0, 60.0, 45.0, 65.0, 90.0, 45.0, 60.0, 52.0, 63.0, 62.0, 55.0, 45.0, 45.0, 50.0], \"xaxis\": \"x2\", \"yaxis\": \"y2\"}],                        {\"barmode\": \"relative\", \"legend\": {\"title\": {\"text\": \"DEATH_EVENT\"}, \"tracegroupgap\": 0}, \"template\": {\"data\": {\"bar\": [{\"error_x\": {\"color\": \"#2a3f5f\"}, \"error_y\": {\"color\": \"#2a3f5f\"}, \"marker\": {\"line\": {\"color\": \"#E5ECF6\", \"width\": 0.5}}, \"type\": \"bar\"}], \"barpolar\": [{\"marker\": {\"line\": {\"color\": \"#E5ECF6\", \"width\": 0.5}}, \"type\": \"barpolar\"}], \"carpet\": [{\"aaxis\": {\"endlinecolor\": \"#2a3f5f\", \"gridcolor\": \"white\", \"linecolor\": \"white\", \"minorgridcolor\": \"white\", \"startlinecolor\": \"#2a3f5f\"}, \"baxis\": {\"endlinecolor\": \"#2a3f5f\", \"gridcolor\": \"white\", \"linecolor\": \"white\", \"minorgridcolor\": \"white\", \"startlinecolor\": \"#2a3f5f\"}, \"type\": \"carpet\"}], \"choropleth\": [{\"colorbar\": {\"outlinewidth\": 0, \"ticks\": \"\"}, \"type\": \"choropleth\"}], \"contour\": [{\"colorbar\": {\"outlinewidth\": 0, \"ticks\": \"\"}, \"colorscale\": [[0.0, \"#0d0887\"], [0.1111111111111111, \"#46039f\"], [0.2222222222222222, \"#7201a8\"], [0.3333333333333333, \"#9c179e\"], [0.4444444444444444, \"#bd3786\"], [0.5555555555555556, \"#d8576b\"], [0.6666666666666666, \"#ed7953\"], [0.7777777777777778, \"#fb9f3a\"], [0.8888888888888888, \"#fdca26\"], [1.0, \"#f0f921\"]], \"type\": \"contour\"}], \"contourcarpet\": [{\"colorbar\": {\"outlinewidth\": 0, \"ticks\": \"\"}, \"type\": \"contourcarpet\"}], \"heatmap\": [{\"colorbar\": {\"outlinewidth\": 0, \"ticks\": \"\"}, \"colorscale\": [[0.0, \"#0d0887\"], [0.1111111111111111, \"#46039f\"], [0.2222222222222222, \"#7201a8\"], [0.3333333333333333, \"#9c179e\"], [0.4444444444444444, \"#bd3786\"], [0.5555555555555556, \"#d8576b\"], [0.6666666666666666, \"#ed7953\"], [0.7777777777777778, \"#fb9f3a\"], [0.8888888888888888, \"#fdca26\"], [1.0, \"#f0f921\"]], \"type\": \"heatmap\"}], \"heatmapgl\": [{\"colorbar\": {\"outlinewidth\": 0, \"ticks\": \"\"}, \"colorscale\": [[0.0, \"#0d0887\"], [0.1111111111111111, \"#46039f\"], [0.2222222222222222, \"#7201a8\"], [0.3333333333333333, \"#9c179e\"], [0.4444444444444444, \"#bd3786\"], [0.5555555555555556, \"#d8576b\"], [0.6666666666666666, \"#ed7953\"], [0.7777777777777778, \"#fb9f3a\"], [0.8888888888888888, \"#fdca26\"], [1.0, \"#f0f921\"]], \"type\": \"heatmapgl\"}], \"histogram\": [{\"marker\": {\"colorbar\": {\"outlinewidth\": 0, \"ticks\": \"\"}}, \"type\": \"histogram\"}], \"histogram2d\": [{\"colorbar\": {\"outlinewidth\": 0, \"ticks\": \"\"}, \"colorscale\": [[0.0, \"#0d0887\"], [0.1111111111111111, \"#46039f\"], [0.2222222222222222, \"#7201a8\"], [0.3333333333333333, \"#9c179e\"], [0.4444444444444444, \"#bd3786\"], [0.5555555555555556, \"#d8576b\"], [0.6666666666666666, \"#ed7953\"], [0.7777777777777778, \"#fb9f3a\"], [0.8888888888888888, \"#fdca26\"], [1.0, \"#f0f921\"]], \"type\": \"histogram2d\"}], \"histogram2dcontour\": [{\"colorbar\": {\"outlinewidth\": 0, \"ticks\": \"\"}, \"colorscale\": [[0.0, \"#0d0887\"], [0.1111111111111111, \"#46039f\"], [0.2222222222222222, \"#7201a8\"], [0.3333333333333333, \"#9c179e\"], [0.4444444444444444, \"#bd3786\"], [0.5555555555555556, \"#d8576b\"], [0.6666666666666666, \"#ed7953\"], [0.7777777777777778, \"#fb9f3a\"], [0.8888888888888888, \"#fdca26\"], [1.0, \"#f0f921\"]], \"type\": \"histogram2dcontour\"}], \"mesh3d\": [{\"colorbar\": {\"outlinewidth\": 0, \"ticks\": \"\"}, \"type\": \"mesh3d\"}], \"parcoords\": [{\"line\": {\"colorbar\": {\"outlinewidth\": 0, \"ticks\": \"\"}}, \"type\": \"parcoords\"}], \"pie\": [{\"automargin\": true, \"type\": \"pie\"}], \"scatter\": [{\"marker\": {\"colorbar\": {\"outlinewidth\": 0, \"ticks\": \"\"}}, \"type\": \"scatter\"}], \"scatter3d\": [{\"line\": {\"colorbar\": {\"outlinewidth\": 0, \"ticks\": \"\"}}, \"marker\": {\"colorbar\": {\"outlinewidth\": 0, \"ticks\": \"\"}}, \"type\": \"scatter3d\"}], \"scattercarpet\": [{\"marker\": {\"colorbar\": {\"outlinewidth\": 0, \"ticks\": \"\"}}, \"type\": \"scattercarpet\"}], \"scattergeo\": [{\"marker\": {\"colorbar\": {\"outlinewidth\": 0, \"ticks\": \"\"}}, \"type\": \"scattergeo\"}], \"scattergl\": [{\"marker\": {\"colorbar\": {\"outlinewidth\": 0, \"ticks\": \"\"}}, \"type\": \"scattergl\"}], \"scattermapbox\": [{\"marker\": {\"colorbar\": {\"outlinewidth\": 0, \"ticks\": \"\"}}, \"type\": \"scattermapbox\"}], \"scatterpolar\": [{\"marker\": {\"colorbar\": {\"outlinewidth\": 0, \"ticks\": \"\"}}, \"type\": \"scatterpolar\"}], \"scatterpolargl\": [{\"marker\": {\"colorbar\": {\"outlinewidth\": 0, \"ticks\": \"\"}}, \"type\": \"scatterpolargl\"}], \"scatterternary\": [{\"marker\": {\"colorbar\": {\"outlinewidth\": 0, \"ticks\": \"\"}}, \"type\": \"scatterternary\"}], \"surface\": [{\"colorbar\": {\"outlinewidth\": 0, \"ticks\": \"\"}, \"colorscale\": [[0.0, \"#0d0887\"], [0.1111111111111111, \"#46039f\"], [0.2222222222222222, \"#7201a8\"], [0.3333333333333333, \"#9c179e\"], [0.4444444444444444, \"#bd3786\"], [0.5555555555555556, \"#d8576b\"], [0.6666666666666666, \"#ed7953\"], [0.7777777777777778, \"#fb9f3a\"], [0.8888888888888888, \"#fdca26\"], [1.0, \"#f0f921\"]], \"type\": \"surface\"}], \"table\": [{\"cells\": {\"fill\": {\"color\": \"#EBF0F8\"}, \"line\": {\"color\": \"white\"}}, \"header\": {\"fill\": {\"color\": \"#C8D4E3\"}, \"line\": {\"color\": \"white\"}}, \"type\": \"table\"}]}, \"layout\": {\"annotationdefaults\": {\"arrowcolor\": \"#2a3f5f\", \"arrowhead\": 0, \"arrowwidth\": 1}, \"autotypenumbers\": \"strict\", \"coloraxis\": {\"colorbar\": {\"outlinewidth\": 0, \"ticks\": \"\"}}, \"colorscale\": {\"diverging\": [[0, \"#8e0152\"], [0.1, \"#c51b7d\"], [0.2, \"#de77ae\"], [0.3, \"#f1b6da\"], [0.4, \"#fde0ef\"], [0.5, \"#f7f7f7\"], [0.6, \"#e6f5d0\"], [0.7, \"#b8e186\"], [0.8, \"#7fbc41\"], [0.9, \"#4d9221\"], [1, \"#276419\"]], \"sequential\": [[0.0, \"#0d0887\"], [0.1111111111111111, \"#46039f\"], [0.2222222222222222, \"#7201a8\"], [0.3333333333333333, \"#9c179e\"], [0.4444444444444444, \"#bd3786\"], [0.5555555555555556, \"#d8576b\"], [0.6666666666666666, \"#ed7953\"], [0.7777777777777778, \"#fb9f3a\"], [0.8888888888888888, \"#fdca26\"], [1.0, \"#f0f921\"]], \"sequentialminus\": [[0.0, \"#0d0887\"], [0.1111111111111111, \"#46039f\"], [0.2222222222222222, \"#7201a8\"], [0.3333333333333333, \"#9c179e\"], [0.4444444444444444, \"#bd3786\"], [0.5555555555555556, \"#d8576b\"], [0.6666666666666666, \"#ed7953\"], [0.7777777777777778, \"#fb9f3a\"], [0.8888888888888888, \"#fdca26\"], [1.0, \"#f0f921\"]]}, \"colorway\": [\"#636efa\", \"#EF553B\", \"#00cc96\", \"#ab63fa\", \"#FFA15A\", \"#19d3f3\", \"#FF6692\", \"#B6E880\", \"#FF97FF\", \"#FECB52\"], \"font\": {\"color\": \"#2a3f5f\"}, \"geo\": {\"bgcolor\": \"white\", \"lakecolor\": \"white\", \"landcolor\": \"#E5ECF6\", \"showlakes\": true, \"showland\": true, \"subunitcolor\": \"white\"}, \"hoverlabel\": {\"align\": \"left\"}, \"hovermode\": \"closest\", \"mapbox\": {\"style\": \"light\"}, \"paper_bgcolor\": \"white\", \"plot_bgcolor\": \"#E5ECF6\", \"polar\": {\"angularaxis\": {\"gridcolor\": \"white\", \"linecolor\": \"white\", \"ticks\": \"\"}, \"bgcolor\": \"#E5ECF6\", \"radialaxis\": {\"gridcolor\": \"white\", \"linecolor\": \"white\", \"ticks\": \"\"}}, \"scene\": {\"xaxis\": {\"backgroundcolor\": \"#E5ECF6\", \"gridcolor\": \"white\", \"gridwidth\": 2, \"linecolor\": \"white\", \"showbackground\": true, \"ticks\": \"\", \"zerolinecolor\": \"white\"}, \"yaxis\": {\"backgroundcolor\": \"#E5ECF6\", \"gridcolor\": \"white\", \"gridwidth\": 2, \"linecolor\": \"white\", \"showbackground\": true, \"ticks\": \"\", \"zerolinecolor\": \"white\"}, \"zaxis\": {\"backgroundcolor\": \"#E5ECF6\", \"gridcolor\": \"white\", \"gridwidth\": 2, \"linecolor\": \"white\", \"showbackground\": true, \"ticks\": \"\", \"zerolinecolor\": \"white\"}}, \"shapedefaults\": {\"line\": {\"color\": \"#2a3f5f\"}}, \"ternary\": {\"aaxis\": {\"gridcolor\": \"white\", \"linecolor\": \"white\", \"ticks\": \"\"}, \"baxis\": {\"gridcolor\": \"white\", \"linecolor\": \"white\", \"ticks\": \"\"}, \"bgcolor\": \"#E5ECF6\", \"caxis\": {\"gridcolor\": \"white\", \"linecolor\": \"white\", \"ticks\": \"\"}}, \"title\": {\"x\": 0.05}, \"xaxis\": {\"automargin\": true, \"gridcolor\": \"white\", \"linecolor\": \"white\", \"ticks\": \"\", \"title\": {\"standoff\": 15}, \"zerolinecolor\": \"white\", \"zerolinewidth\": 2}, \"yaxis\": {\"automargin\": true, \"gridcolor\": \"white\", \"linecolor\": \"white\", \"ticks\": \"\", \"title\": {\"standoff\": 15}, \"zerolinecolor\": \"white\", \"zerolinewidth\": 2}}}, \"title\": {\"text\": \"Distribution of AGE Vs DEATH_EVENT\"}, \"xaxis\": {\"anchor\": \"y\", \"domain\": [0.0, 1.0], \"title\": {\"text\": \"AGE\"}}, \"xaxis2\": {\"anchor\": \"y2\", \"domain\": [0.0, 1.0], \"matches\": \"x\", \"showgrid\": true, \"showticklabels\": false}, \"yaxis\": {\"anchor\": \"x\", \"domain\": [0.0, 0.7326], \"title\": {\"text\": \"count\"}}, \"yaxis2\": {\"anchor\": \"x2\", \"domain\": [0.7426, 1.0], \"matches\": \"y2\", \"showgrid\": false, \"showline\": false, \"showticklabels\": false, \"ticks\": \"\"}},                        {\"responsive\": true}                    ).then(function(){\n",
       "                            \n",
       "var gd = document.getElementById('eb6d9491-6a63-49ef-b305-564ab8965c78');\n",
       "var x = new MutationObserver(function (mutations, observer) {{\n",
       "        var display = window.getComputedStyle(gd).display;\n",
       "        if (!display || display === 'none') {{\n",
       "            console.log([gd, 'removed!']);\n",
       "            Plotly.purge(gd);\n",
       "            observer.disconnect();\n",
       "        }}\n",
       "}});\n",
       "\n",
       "// Listen for the removal of the full notebook cells\n",
       "var notebookContainer = gd.closest('#notebook-container');\n",
       "if (notebookContainer) {{\n",
       "    x.observe(notebookContainer, {childList: true});\n",
       "}}\n",
       "\n",
       "// Listen for the clearing of the current output cell\n",
       "var outputEl = gd.closest('.output');\n",
       "if (outputEl) {{\n",
       "    x.observe(outputEl, {childList: true});\n",
       "}}\n",
       "\n",
       "                        })                };                });            </script>        </div>"
      ]
     },
     "metadata": {},
     "output_type": "display_data"
    }
   ],
   "source": [
    "fig = px.histogram(train, x=\"age\", color=\"DEATH_EVENT\", marginal=\"violin\", hover_data=train.columns, \n",
    "                   title =\"Distribution of AGE Vs DEATH_EVENT\", \n",
    "                   labels={\"age\": \"AGE\"},\n",
    "                   template=\"plotly\",\n",
    "                   \n",
    "                   \n",
    "                  )\n",
    "fig.show()"
   ]
  },
  {
   "cell_type": "code",
   "execution_count": 13,
   "id": "steady-union",
   "metadata": {
    "execution": {
     "iopub.execute_input": "2021-04-25T02:23:18.444164Z",
     "iopub.status.busy": "2021-04-25T02:23:18.443264Z",
     "iopub.status.idle": "2021-04-25T02:23:18.569563Z",
     "shell.execute_reply": "2021-04-25T02:23:18.570171Z"
    },
    "papermill": {
     "duration": 0.175275,
     "end_time": "2021-04-25T02:23:18.570338",
     "exception": false,
     "start_time": "2021-04-25T02:23:18.395063",
     "status": "completed"
    },
    "tags": []
   },
   "outputs": [
    {
     "data": {
      "text/plain": [
       "<AxesSubplot:ylabel='sex'>"
      ]
     },
     "execution_count": 13,
     "metadata": {},
     "output_type": "execute_result"
    },
    {
     "data": {
      "image/png": "[encoded data removed]",
      "text/plain": [
       "<Figure size 576x576 with 1 Axes>"
      ]
     },
     "metadata": {},
     "output_type": "display_data"
    }
   ],
   "source": [
    "train.sex.value_counts().plot.pie(explode=[0.1,0.1],autopct='%1.1f%%',shadow=True)"
   ]
  },
  {
   "cell_type": "code",
   "execution_count": 14,
   "id": "naughty-malaysia",
   "metadata": {
    "execution": {
     "iopub.execute_input": "2021-04-25T02:23:18.674355Z",
     "iopub.status.busy": "2021-04-25T02:23:18.673366Z",
     "iopub.status.idle": "2021-04-25T02:23:18.842740Z",
     "shell.execute_reply": "2021-04-25T02:23:18.843232Z"
    },
    "papermill": {
     "duration": 0.225294,
     "end_time": "2021-04-25T02:23:18.843399",
     "exception": false,
     "start_time": "2021-04-25T02:23:18.618105",
     "status": "completed"
    },
    "tags": []
   },
   "outputs": [
    {
     "data": {
      "text/plain": [
       "<matplotlib.legend.Legend at 0x7f22f125f410>"
      ]
     },
     "execution_count": 14,
     "metadata": {},
     "output_type": "execute_result"
    },
    {
     "data": {
      "image/png": "[encoded data removed]",
      "text/plain": [
       "<Figure size 576x576 with 1 Axes>"
      ]
     },
     "metadata": {},
     "output_type": "display_data"
    }
   ],
   "source": [
    "sns.countplot(x='sex',hue='DEATH_EVENT',data=train)\n",
    "plt.legend(['yes','no'])"
   ]
  },
  {
   "cell_type": "code",
   "execution_count": 15,
   "id": "weird-latino",
   "metadata": {
    "execution": {
     "iopub.execute_input": "2021-04-25T02:23:18.946009Z",
     "iopub.status.busy": "2021-04-25T02:23:18.944996Z",
     "iopub.status.idle": "2021-04-25T02:23:19.013444Z",
     "shell.execute_reply": "2021-04-25T02:23:19.013963Z"
    },
    "papermill": {
     "duration": 0.122786,
     "end_time": "2021-04-25T02:23:19.014155",
     "exception": false,
     "start_time": "2021-04-25T02:23:18.891369",
     "status": "completed"
    },
    "tags": []
   },
   "outputs": [
    {
     "data": {
      "text/html": [
       "<div>                            <div id=\"1231e923-9d33-4dc4-adf9-60b2c0d44a9d\" class=\"plotly-graph-div\" style=\"height:500px; width:1200px;\"></div>            <script type=\"text/javascript\">                require([\"plotly\"], function(Plotly) {                    window.PLOTLYENV=window.PLOTLYENV || {};                                    if (document.getElementById(\"1231e923-9d33-4dc4-adf9-60b2c0d44a9d\")) {                    Plotly.newPlot(                        \"1231e923-9d33-4dc4-adf9-60b2c0d44a9d\",                        [{\"domain\": {\"x\": [0.0, 0.45], \"y\": [0.0, 1.0]}, \"hole\": 0.4, \"hoverinfo\": \"label+percent\", \"labels\": [\"Male\", \"Female\"], \"name\": \"GENDER\", \"type\": \"pie\", \"values\": [194, 105]}, {\"domain\": {\"x\": [0.55, 1.0], \"y\": [0.0, 1.0]}, \"hole\": 0.4, \"hoverinfo\": \"label+percent\", \"labels\": [\"Male - Survived\", \"Male - Died\", \"Female -  Survived\", \"Female - Died\"], \"name\": \"GENDER VS DEATH_EVENT\", \"type\": \"pie\", \"values\": [132, 62, 71, 34]}],                        {\"annotations\": [{\"font\": {\"size\": 10}, \"showarrow\": false, \"text\": \"GENDER\", \"x\": 0.19, \"y\": 0.5}, {\"font\": {\"size\": 9}, \"showarrow\": false, \"text\": \"GENDER VS DEATH_EVENT\", \"x\": 0.84, \"y\": 0.5}], \"autosize\": false, \"height\": 500, \"paper_bgcolor\": \"white\", \"template\": {\"data\": {\"bar\": [{\"error_x\": {\"color\": \"#2a3f5f\"}, \"error_y\": {\"color\": \"#2a3f5f\"}, \"marker\": {\"line\": {\"color\": \"#E5ECF6\", \"width\": 0.5}}, \"type\": \"bar\"}], \"barpolar\": [{\"marker\": {\"line\": {\"color\": \"#E5ECF6\", \"width\": 0.5}}, \"type\": \"barpolar\"}], \"carpet\": [{\"aaxis\": {\"endlinecolor\": \"#2a3f5f\", \"gridcolor\": \"white\", \"linecolor\": \"white\", \"minorgridcolor\": \"white\", \"startlinecolor\": \"#2a3f5f\"}, \"baxis\": {\"endlinecolor\": \"#2a3f5f\", \"gridcolor\": \"white\", \"linecolor\": \"white\", \"minorgridcolor\": \"white\", \"startlinecolor\": \"#2a3f5f\"}, \"type\": \"carpet\"}], \"choropleth\": [{\"colorbar\": {\"outlinewidth\": 0, \"ticks\": \"\"}, \"type\": \"choropleth\"}], \"contour\": [{\"colorbar\": {\"outlinewidth\": 0, \"ticks\": \"\"}, \"colorscale\": [[0.0, \"#0d0887\"], [0.1111111111111111, \"#46039f\"], [0.2222222222222222, \"#7201a8\"], [0.3333333333333333, \"#9c179e\"], [0.4444444444444444, \"#bd3786\"], [0.5555555555555556, \"#d8576b\"], [0.6666666666666666, \"#ed7953\"], [0.7777777777777778, \"#fb9f3a\"], [0.8888888888888888, \"#fdca26\"], [1.0, \"#f0f921\"]], \"type\": \"contour\"}], \"contourcarpet\": [{\"colorbar\": {\"outlinewidth\": 0, \"ticks\": \"\"}, \"type\": \"contourcarpet\"}], \"heatmap\": [{\"colorbar\": {\"outlinewidth\": 0, \"ticks\": \"\"}, \"colorscale\": [[0.0, \"#0d0887\"], [0.1111111111111111, \"#46039f\"], [0.2222222222222222, \"#7201a8\"], [0.3333333333333333, \"#9c179e\"], [0.4444444444444444, \"#bd3786\"], [0.5555555555555556, \"#d8576b\"], [0.6666666666666666, \"#ed7953\"], [0.7777777777777778, \"#fb9f3a\"], [0.8888888888888888, \"#fdca26\"], [1.0, \"#f0f921\"]], \"type\": \"heatmap\"}], \"heatmapgl\": [{\"colorbar\": {\"outlinewidth\": 0, \"ticks\": \"\"}, \"colorscale\": [[0.0, \"#0d0887\"], [0.1111111111111111, \"#46039f\"], [0.2222222222222222, \"#7201a8\"], [0.3333333333333333, \"#9c179e\"], [0.4444444444444444, \"#bd3786\"], [0.5555555555555556, \"#d8576b\"], [0.6666666666666666, \"#ed7953\"], [0.7777777777777778, \"#fb9f3a\"], [0.8888888888888888, \"#fdca26\"], [1.0, \"#f0f921\"]], \"type\": \"heatmapgl\"}], \"histogram\": [{\"marker\": {\"colorbar\": {\"outlinewidth\": 0, \"ticks\": \"\"}}, \"type\": \"histogram\"}], \"histogram2d\": [{\"colorbar\": {\"outlinewidth\": 0, \"ticks\": \"\"}, \"colorscale\": [[0.0, \"#0d0887\"], [0.1111111111111111, \"#46039f\"], [0.2222222222222222, \"#7201a8\"], [0.3333333333333333, \"#9c179e\"], [0.4444444444444444, \"#bd3786\"], [0.5555555555555556, \"#d8576b\"], [0.6666666666666666, \"#ed7953\"], [0.7777777777777778, \"#fb9f3a\"], [0.8888888888888888, \"#fdca26\"], [1.0, \"#f0f921\"]], \"type\": \"histogram2d\"}], \"histogram2dcontour\": [{\"colorbar\": {\"outlinewidth\": 0, \"ticks\": \"\"}, \"colorscale\": [[0.0, \"#0d0887\"], [0.1111111111111111, \"#46039f\"], [0.2222222222222222, \"#7201a8\"], [0.3333333333333333, \"#9c179e\"], [0.4444444444444444, \"#bd3786\"], [0.5555555555555556, \"#d8576b\"], [0.6666666666666666, \"#ed7953\"], [0.7777777777777778, \"#fb9f3a\"], [0.8888888888888888, \"#fdca26\"], [1.0, \"#f0f921\"]], \"type\": \"histogram2dcontour\"}], \"mesh3d\": [{\"colorbar\": {\"outlinewidth\": 0, \"ticks\": \"\"}, \"type\": \"mesh3d\"}], \"parcoords\": [{\"line\": {\"colorbar\": {\"outlinewidth\": 0, \"ticks\": \"\"}}, \"type\": \"parcoords\"}], \"pie\": [{\"automargin\": true, \"type\": \"pie\"}], \"scatter\": [{\"marker\": {\"colorbar\": {\"outlinewidth\": 0, \"ticks\": \"\"}}, \"type\": \"scatter\"}], \"scatter3d\": [{\"line\": {\"colorbar\": {\"outlinewidth\": 0, \"ticks\": \"\"}}, \"marker\": {\"colorbar\": {\"outlinewidth\": 0, \"ticks\": \"\"}}, \"type\": \"scatter3d\"}], \"scattercarpet\": [{\"marker\": {\"colorbar\": {\"outlinewidth\": 0, \"ticks\": \"\"}}, \"type\": \"scattercarpet\"}], \"scattergeo\": [{\"marker\": {\"colorbar\": {\"outlinewidth\": 0, \"ticks\": \"\"}}, \"type\": \"scattergeo\"}], \"scattergl\": [{\"marker\": {\"colorbar\": {\"outlinewidth\": 0, \"ticks\": \"\"}}, \"type\": \"scattergl\"}], \"scattermapbox\": [{\"marker\": {\"colorbar\": {\"outlinewidth\": 0, \"ticks\": \"\"}}, \"type\": \"scattermapbox\"}], \"scatterpolar\": [{\"marker\": {\"colorbar\": {\"outlinewidth\": 0, \"ticks\": \"\"}}, \"type\": \"scatterpolar\"}], \"scatterpolargl\": [{\"marker\": {\"colorbar\": {\"outlinewidth\": 0, \"ticks\": \"\"}}, \"type\": \"scatterpolargl\"}], \"scatterternary\": [{\"marker\": {\"colorbar\": {\"outlinewidth\": 0, \"ticks\": \"\"}}, \"type\": \"scatterternary\"}], \"surface\": [{\"colorbar\": {\"outlinewidth\": 0, \"ticks\": \"\"}, \"colorscale\": [[0.0, \"#0d0887\"], [0.1111111111111111, \"#46039f\"], [0.2222222222222222, \"#7201a8\"], [0.3333333333333333, \"#9c179e\"], [0.4444444444444444, \"#bd3786\"], [0.5555555555555556, \"#d8576b\"], [0.6666666666666666, \"#ed7953\"], [0.7777777777777778, \"#fb9f3a\"], [0.8888888888888888, \"#fdca26\"], [1.0, \"#f0f921\"]], \"type\": \"surface\"}], \"table\": [{\"cells\": {\"fill\": {\"color\": \"#EBF0F8\"}, \"line\": {\"color\": \"white\"}}, \"header\": {\"fill\": {\"color\": \"#C8D4E3\"}, \"line\": {\"color\": \"white\"}}, \"type\": \"table\"}]}, \"layout\": {\"annotationdefaults\": {\"arrowcolor\": \"#2a3f5f\", \"arrowhead\": 0, \"arrowwidth\": 1}, \"autotypenumbers\": \"strict\", \"coloraxis\": {\"colorbar\": {\"outlinewidth\": 0, \"ticks\": \"\"}}, \"colorscale\": {\"diverging\": [[0, \"#8e0152\"], [0.1, \"#c51b7d\"], [0.2, \"#de77ae\"], [0.3, \"#f1b6da\"], [0.4, \"#fde0ef\"], [0.5, \"#f7f7f7\"], [0.6, \"#e6f5d0\"], [0.7, \"#b8e186\"], [0.8, \"#7fbc41\"], [0.9, \"#4d9221\"], [1, \"#276419\"]], \"sequential\": [[0.0, \"#0d0887\"], [0.1111111111111111, \"#46039f\"], [0.2222222222222222, \"#7201a8\"], [0.3333333333333333, \"#9c179e\"], [0.4444444444444444, \"#bd3786\"], [0.5555555555555556, \"#d8576b\"], [0.6666666666666666, \"#ed7953\"], [0.7777777777777778, \"#fb9f3a\"], [0.8888888888888888, \"#fdca26\"], [1.0, \"#f0f921\"]], \"sequentialminus\": [[0.0, \"#0d0887\"], [0.1111111111111111, \"#46039f\"], [0.2222222222222222, \"#7201a8\"], [0.3333333333333333, \"#9c179e\"], [0.4444444444444444, \"#bd3786\"], [0.5555555555555556, \"#d8576b\"], [0.6666666666666666, \"#ed7953\"], [0.7777777777777778, \"#fb9f3a\"], [0.8888888888888888, \"#fdca26\"], [1.0, \"#f0f921\"]]}, \"colorway\": [\"#636efa\", \"#EF553B\", \"#00cc96\", \"#ab63fa\", \"#FFA15A\", \"#19d3f3\", \"#FF6692\", \"#B6E880\", \"#FF97FF\", \"#FECB52\"], \"font\": {\"color\": \"#2a3f5f\"}, \"geo\": {\"bgcolor\": \"white\", \"lakecolor\": \"white\", \"landcolor\": \"#E5ECF6\", \"showlakes\": true, \"showland\": true, \"subunitcolor\": \"white\"}, \"hoverlabel\": {\"align\": \"left\"}, \"hovermode\": \"closest\", \"mapbox\": {\"style\": \"light\"}, \"paper_bgcolor\": \"white\", \"plot_bgcolor\": \"#E5ECF6\", \"polar\": {\"angularaxis\": {\"gridcolor\": \"white\", \"linecolor\": \"white\", \"ticks\": \"\"}, \"bgcolor\": \"#E5ECF6\", \"radialaxis\": {\"gridcolor\": \"white\", \"linecolor\": \"white\", \"ticks\": \"\"}}, \"scene\": {\"xaxis\": {\"backgroundcolor\": \"#E5ECF6\", \"gridcolor\": \"white\", \"gridwidth\": 2, \"linecolor\": \"white\", \"showbackground\": true, \"ticks\": \"\", \"zerolinecolor\": \"white\"}, \"yaxis\": {\"backgroundcolor\": \"#E5ECF6\", \"gridcolor\": \"white\", \"gridwidth\": 2, \"linecolor\": \"white\", \"showbackground\": true, \"ticks\": \"\", \"zerolinecolor\": \"white\"}, \"zaxis\": {\"backgroundcolor\": \"#E5ECF6\", \"gridcolor\": \"white\", \"gridwidth\": 2, \"linecolor\": \"white\", \"showbackground\": true, \"ticks\": \"\", \"zerolinecolor\": \"white\"}}, \"shapedefaults\": {\"line\": {\"color\": \"#2a3f5f\"}}, \"ternary\": {\"aaxis\": {\"gridcolor\": \"white\", \"linecolor\": \"white\", \"ticks\": \"\"}, \"baxis\": {\"gridcolor\": \"white\", \"linecolor\": \"white\", \"ticks\": \"\"}, \"bgcolor\": \"#E5ECF6\", \"caxis\": {\"gridcolor\": \"white\", \"linecolor\": \"white\", \"ticks\": \"\"}}, \"title\": {\"x\": 0.05}, \"xaxis\": {\"automargin\": true, \"gridcolor\": \"white\", \"linecolor\": \"white\", \"ticks\": \"\", \"title\": {\"standoff\": 15}, \"zerolinecolor\": \"white\", \"zerolinewidth\": 2}, \"yaxis\": {\"automargin\": true, \"gridcolor\": \"white\", \"linecolor\": \"white\", \"ticks\": \"\", \"title\": {\"standoff\": 15}, \"zerolinecolor\": \"white\", \"zerolinewidth\": 2}}}, \"title\": {\"text\": \"GENDER DISTRIBUTION IN THE DATASET                     GENDER VS DEATH_EVENT\"}, \"width\": 1200},                        {\"responsive\": true}                    ).then(function(){\n",
       "                            \n",
       "var gd = document.getElementById('1231e923-9d33-4dc4-adf9-60b2c0d44a9d');\n",
       "var x = new MutationObserver(function (mutations, observer) {{\n",
       "        var display = window.getComputedStyle(gd).display;\n",
       "        if (!display || display === 'none') {{\n",
       "            console.log([gd, 'removed!']);\n",
       "            Plotly.purge(gd);\n",
       "            observer.disconnect();\n",
       "        }}\n",
       "}});\n",
       "\n",
       "// Listen for the removal of the full notebook cells\n",
       "var notebookContainer = gd.closest('#notebook-container');\n",
       "if (notebookContainer) {{\n",
       "    x.observe(notebookContainer, {childList: true});\n",
       "}}\n",
       "\n",
       "// Listen for the clearing of the current output cell\n",
       "var outputEl = gd.closest('.output');\n",
       "if (outputEl) {{\n",
       "    x.observe(outputEl, {childList: true});\n",
       "}}\n",
       "\n",
       "                        })                };                });            </script>        </div>"
      ]
     },
     "metadata": {},
     "output_type": "display_data"
    }
   ],
   "source": [
    "import plotly.graph_objects as go\n",
    "from plotly.subplots import make_subplots\n",
    "\n",
    "d1 = train[(train[\"DEATH_EVENT\"]==0) & (train[\"sex\"]==1)]\n",
    "d2 = train[(train[\"DEATH_EVENT\"]==1) & (train[\"sex\"]==1)]\n",
    "d3 = train[(train[\"DEATH_EVENT\"]==0) & (train[\"sex\"]==0)]\n",
    "d4 = train[(train[\"DEATH_EVENT\"]==1) & (train[\"sex\"]==0)]\n",
    "\n",
    "label1 = [\"Male\",\"Female\"]\n",
    "label2 = ['Male - Survived','Male - Died', \"Female -  Survived\", \"Female - Died\"]\n",
    "\n",
    "values1 = [(len(d1)+len(d2)), (len(d3)+len(d4))]\n",
    "values2 = [len(d1),len(d2),len(d3),len(d4)]\n",
    "\n",
    "# Create subplots: use 'domain' type for Pie subplot\n",
    "fig = make_subplots(rows=1, cols=2, specs=[[{'type':'domain'}, {'type':'domain'}]])\n",
    "fig.add_trace(go.Pie(labels=label1, values=values1, name=\"GENDER\"),\n",
    "              1, 1)\n",
    "fig.add_trace(go.Pie(labels=label2, values=values2, name=\"GENDER VS DEATH_EVENT\"),\n",
    "              1, 2)\n",
    "\n",
    "# Use `hole` to create a donut-like pie chart\n",
    "fig.update_traces(hole=.4, hoverinfo=\"label+percent\")\n",
    "\n",
    "fig.update_layout(\n",
    "    title_text=\"GENDER DISTRIBUTION IN THE DATASET  \\\n",
    "                   GENDER VS DEATH_EVENT\",\n",
    "    # Add annotations in the center of the donut pies.\n",
    "    annotations=[dict(text='GENDER', x=0.19, y=0.5, font_size=10, showarrow=False),\n",
    "                 dict(text='GENDER VS DEATH_EVENT', x=0.84, y=0.5, font_size=9, showarrow=False)],\n",
    "    autosize=False,width=1200, height=500, paper_bgcolor=\"white\")\n",
    "\n",
    "fig.show()"
   ]
  },
  {
   "cell_type": "code",
   "execution_count": 16,
   "id": "spiritual-economics",
   "metadata": {
    "execution": {
     "iopub.execute_input": "2021-04-25T02:23:19.154340Z",
     "iopub.status.busy": "2021-04-25T02:23:19.126352Z",
     "iopub.status.idle": "2021-04-25T02:23:19.442363Z",
     "shell.execute_reply": "2021-04-25T02:23:19.441270Z"
    },
    "papermill": {
     "duration": 0.378697,
     "end_time": "2021-04-25T02:23:19.442522",
     "exception": false,
     "start_time": "2021-04-25T02:23:19.063825",
     "status": "completed"
    },
    "tags": []
   },
   "outputs": [
    {
     "data": {
      "image/png": "[encoded data removed]",
      "text/plain": [
       "<Figure size 576x576 with 1 Axes>"
      ]
     },
     "metadata": {},
     "output_type": "display_data"
    }
   ],
   "source": [
    "sns.barplot(x='sex',y='smoking',hue='DEATH_EVENT',data=train);"
   ]
  },
  {
   "cell_type": "code",
   "execution_count": 17,
   "id": "animal-minneapolis",
   "metadata": {
    "execution": {
     "iopub.execute_input": "2021-04-25T02:23:19.552440Z",
     "iopub.status.busy": "2021-04-25T02:23:19.551482Z",
     "iopub.status.idle": "2021-04-25T02:23:19.705340Z",
     "shell.execute_reply": "2021-04-25T02:23:19.705807Z"
    },
    "papermill": {
     "duration": 0.21354,
     "end_time": "2021-04-25T02:23:19.705984",
     "exception": false,
     "start_time": "2021-04-25T02:23:19.492444",
     "status": "completed"
    },
    "tags": []
   },
   "outputs": [
    {
     "data": {
      "image/png": "[encoded data removed]",
      "text/plain": [
       "<Figure size 576x576 with 1 Axes>"
      ]
     },
     "metadata": {},
     "output_type": "display_data"
    }
   ],
   "source": [
    "sns.countplot(x='sex',hue='smoking',data=train)\n",
    "plt.legend(['yes','no']);"
   ]
  },
  {
   "cell_type": "code",
   "execution_count": 18,
   "id": "urban-brave",
   "metadata": {
    "execution": {
     "iopub.execute_input": "2021-04-25T02:23:19.811952Z",
     "iopub.status.busy": "2021-04-25T02:23:19.810962Z",
     "iopub.status.idle": "2021-04-25T02:23:19.975546Z",
     "shell.execute_reply": "2021-04-25T02:23:19.974972Z"
    },
    "papermill": {
     "duration": 0.218428,
     "end_time": "2021-04-25T02:23:19.975741",
     "exception": false,
     "start_time": "2021-04-25T02:23:19.757313",
     "status": "completed"
    },
    "tags": []
   },
   "outputs": [
    {
     "data": {
      "image/png": "[encoded data removed]",
      "text/plain": [
       "<Figure size 576x576 with 1 Axes>"
      ]
     },
     "metadata": {},
     "output_type": "display_data"
    }
   ],
   "source": [
    "sns.countplot(x='sex',hue='diabetes',data=train)\n",
    "plt.legend(['yes','no']);"
   ]
  },
  {
   "cell_type": "code",
   "execution_count": 19,
   "id": "female-package",
   "metadata": {
    "execution": {
     "iopub.execute_input": "2021-04-25T02:23:20.146256Z",
     "iopub.status.busy": "2021-04-25T02:23:20.145529Z",
     "iopub.status.idle": "2021-04-25T02:23:20.261251Z",
     "shell.execute_reply": "2021-04-25T02:23:20.261778Z"
    },
    "papermill": {
     "duration": 0.212347,
     "end_time": "2021-04-25T02:23:20.261973",
     "exception": false,
     "start_time": "2021-04-25T02:23:20.049626",
     "status": "completed"
    },
    "tags": []
   },
   "outputs": [
    {
     "data": {
      "text/plain": [
       "<AxesSubplot:ylabel='diabetes'>"
      ]
     },
     "execution_count": 19,
     "metadata": {},
     "output_type": "execute_result"
    },
    {
     "data": {
      "image/png": "[encoded data removed]",
      "text/plain": [
       "<Figure size 576x576 with 1 Axes>"
      ]
     },
     "metadata": {},
     "output_type": "display_data"
    }
   ],
   "source": [
    "train.diabetes.value_counts().plot.pie(explode=[0.1,0.1],autopct='%2.2f%%',shadow=True)"
   ]
  },
  {
   "cell_type": "code",
   "execution_count": 20,
   "id": "green-jordan",
   "metadata": {
    "execution": {
     "iopub.execute_input": "2021-04-25T02:23:20.378189Z",
     "iopub.status.busy": "2021-04-25T02:23:20.377508Z",
     "iopub.status.idle": "2021-04-25T02:23:20.542907Z",
     "shell.execute_reply": "2021-04-25T02:23:20.542224Z"
    },
    "papermill": {
     "duration": 0.227158,
     "end_time": "2021-04-25T02:23:20.543056",
     "exception": false,
     "start_time": "2021-04-25T02:23:20.315898",
     "status": "completed"
    },
    "tags": []
   },
   "outputs": [
    {
     "data": {
      "image/png": "[encoded data removed]",
      "text/plain": [
       "<Figure size 576x576 with 1 Axes>"
      ]
     },
     "metadata": {},
     "output_type": "display_data"
    }
   ],
   "source": [
    "sns.countplot(x='diabetes',hue='DEATH_EVENT',data=train)\n",
    "plt.legend(['yes','no']);"
   ]
  },
  {
   "cell_type": "code",
   "execution_count": 21,
   "id": "coordinate-leather",
   "metadata": {
    "execution": {
     "iopub.execute_input": "2021-04-25T02:23:20.661471Z",
     "iopub.status.busy": "2021-04-25T02:23:20.660831Z",
     "iopub.status.idle": "2021-04-25T02:23:20.832450Z",
     "shell.execute_reply": "2021-04-25T02:23:20.833036Z"
    },
    "papermill": {
     "duration": 0.234951,
     "end_time": "2021-04-25T02:23:20.833229",
     "exception": false,
     "start_time": "2021-04-25T02:23:20.598278",
     "status": "completed"
    },
    "tags": []
   },
   "outputs": [
    {
     "data": {
      "image/png": "[encoded data removed]",
      "text/plain": [
       "<Figure size 576x576 with 1 Axes>"
      ]
     },
     "metadata": {},
     "output_type": "display_data"
    }
   ],
   "source": [
    "sns.boxplot(x = train.ejection_fraction, color = 'green')\n",
    "plt.show()"
   ]
  },
  {
   "cell_type": "code",
   "execution_count": 22,
   "id": "administrative-penalty",
   "metadata": {
    "execution": {
     "iopub.execute_input": "2021-04-25T02:23:20.949166Z",
     "iopub.status.busy": "2021-04-25T02:23:20.948343Z",
     "iopub.status.idle": "2021-04-25T02:23:20.964044Z",
     "shell.execute_reply": "2021-04-25T02:23:20.964526Z"
    },
    "papermill": {
     "duration": 0.075765,
     "end_time": "2021-04-25T02:23:20.964759",
     "exception": false,
     "start_time": "2021-04-25T02:23:20.888994",
     "status": "completed"
    },
    "tags": []
   },
   "outputs": [
    {
     "data": {
      "text/html": [
       "<div>\n",
       "<style scoped>\n",
       "    .dataframe tbody tr th:only-of-type {\n",
       "        vertical-align: middle;\n",
       "    }\n",
       "\n",
       "    .dataframe tbody tr th {\n",
       "        vertical-align: top;\n",
       "    }\n",
       "\n",
       "    .dataframe thead th {\n",
       "        text-align: right;\n",
       "    }\n",
       "</style>\n",
       "<table border=\"1\" class=\"dataframe\">\n",
       "  <thead>\n",
       "    <tr style=\"text-align: right;\">\n",
       "      <th></th>\n",
       "      <th>age</th>\n",
       "      <th>anaemia</th>\n",
       "      <th>creatinine_phosphokinase</th>\n",
       "      <th>diabetes</th>\n",
       "      <th>ejection_fraction</th>\n",
       "      <th>high_blood_pressure</th>\n",
       "      <th>platelets</th>\n",
       "      <th>serum_creatinine</th>\n",
       "      <th>serum_sodium</th>\n",
       "      <th>sex</th>\n",
       "      <th>smoking</th>\n",
       "      <th>time</th>\n",
       "      <th>DEATH_EVENT</th>\n",
       "    </tr>\n",
       "  </thead>\n",
       "  <tbody>\n",
       "    <tr>\n",
       "      <th>64</th>\n",
       "      <td>45.0</td>\n",
       "      <td>0</td>\n",
       "      <td>582</td>\n",
       "      <td>0</td>\n",
       "      <td>80</td>\n",
       "      <td>0</td>\n",
       "      <td>263358.03</td>\n",
       "      <td>1.18</td>\n",
       "      <td>137</td>\n",
       "      <td>0</td>\n",
       "      <td>0</td>\n",
       "      <td>63</td>\n",
       "      <td>0</td>\n",
       "    </tr>\n",
       "    <tr>\n",
       "      <th>217</th>\n",
       "      <td>54.0</td>\n",
       "      <td>1</td>\n",
       "      <td>427</td>\n",
       "      <td>0</td>\n",
       "      <td>70</td>\n",
       "      <td>1</td>\n",
       "      <td>151000.00</td>\n",
       "      <td>9.00</td>\n",
       "      <td>137</td>\n",
       "      <td>0</td>\n",
       "      <td>0</td>\n",
       "      <td>196</td>\n",
       "      <td>1</td>\n",
       "    </tr>\n",
       "  </tbody>\n",
       "</table>\n",
       "</div>"
      ],
      "text/plain": [
       "      age  anaemia  creatinine_phosphokinase  diabetes  ejection_fraction  \\\n",
       "64   45.0        0                       582         0                 80   \n",
       "217  54.0        1                       427         0                 70   \n",
       "\n",
       "     high_blood_pressure  platelets  serum_creatinine  serum_sodium  sex  \\\n",
       "64                     0  263358.03              1.18           137    0   \n",
       "217                    1  151000.00              9.00           137    0   \n",
       "\n",
       "     smoking  time  DEATH_EVENT  \n",
       "64         0    63            0  \n",
       "217        0   196            1  "
      ]
     },
     "execution_count": 22,
     "metadata": {},
     "output_type": "execute_result"
    }
   ],
   "source": [
    "train[train['ejection_fraction']>=70]"
   ]
  },
  {
   "cell_type": "code",
   "execution_count": 23,
   "id": "female-poultry",
   "metadata": {
    "execution": {
     "iopub.execute_input": "2021-04-25T02:23:21.083031Z",
     "iopub.status.busy": "2021-04-25T02:23:21.082266Z",
     "iopub.status.idle": "2021-04-25T02:23:21.156418Z",
     "shell.execute_reply": "2021-04-25T02:23:21.156932Z"
    },
    "papermill": {
     "duration": 0.134764,
     "end_time": "2021-04-25T02:23:21.157115",
     "exception": false,
     "start_time": "2021-04-25T02:23:21.022351",
     "status": "completed"
    },
    "tags": []
   },
   "outputs": [
    {
     "data": {
      "text/html": [
       "<div>                            <div id=\"796b4150-54ae-4cee-a57f-8a5af10de860\" class=\"plotly-graph-div\" style=\"height:525px; width:100%;\"></div>            <script type=\"text/javascript\">                require([\"plotly\"], function(Plotly) {                    window.PLOTLYENV=window.PLOTLYENV || {};                                    if (document.getElementById(\"796b4150-54ae-4cee-a57f-8a5af10de860\")) {                    Plotly.newPlot(                        \"796b4150-54ae-4cee-a57f-8a5af10de860\",                        [{\"marker\": {\"color\": \"#A7F432\"}, \"opacity\": 1, \"type\": \"histogram\", \"x\": [20, 38, 20, 20, 20, 40, 15, 60, 65, 35, 38, 25, 30, 38, 30, 50, 38, 14, 25, 55, 25, 30, 35, 60, 30, 38, 40, 45, 38, 30, 38, 45, 35, 30, 50, 35, 50, 50, 30, 38, 20, 30, 45, 50, 60, 38, 25, 38, 20, 30, 25, 20, 62, 50, 38, 30, 35, 40, 20, 20, 25, 40, 35, 35, 20, 15, 25, 25, 25, 40, 35, 35, 50, 20, 20, 60, 40, 38, 45, 40, 50, 25, 50, 25, 50, 35, 60, 40, 25, 45, 45, 60, 25, 38, 60, 25, 60, 25, 40, 25, 45, 25, 30, 50, 30, 45, 35, 38, 35, 60, 35, 25, 60, 40, 40, 60, 60, 60, 38, 60, 38, 38, 30, 40, 50, 17, 60, 30, 35, 60, 45, 40, 60, 35, 40, 60, 25, 35, 30, 38, 35, 30, 40, 25, 30, 30, 60, 30, 35, 45, 60, 45, 35, 35, 25, 35, 25, 50, 45, 40, 35, 40, 35, 30, 38, 60, 20, 40, 35, 35, 40, 60, 20, 35, 60, 40, 50, 60, 40, 30, 25, 25, 38, 25, 30, 50, 25, 40, 45, 35, 60, 40, 30, 20, 45, 38, 30, 20, 35, 45, 60, 60, 25, 40, 45, 40, 38, 40, 35, 17, 62, 50, 30, 35, 35, 50, 35, 35, 20, 50, 35, 25, 25, 60, 25, 35, 25, 25, 30, 35, 35, 38, 45, 50, 50, 30, 40, 45, 35, 30, 35, 40, 38, 38, 25, 25, 35, 40, 30, 35, 45, 35, 60, 30, 38, 38, 25, 50, 40, 40, 25, 60, 38, 35, 20, 38, 38, 35, 30, 40, 38, 40, 30, 38, 35, 38, 30, 38, 40, 40, 30, 38, 40, 40, 35, 55, 35, 38, 55, 35, 38, 35, 38, 38, 60, 38, 45], \"xbins\": {\"end\": 80, \"size\": 2, \"start\": 14}}],                        {\"bargap\": 0.05, \"template\": {\"data\": {\"bar\": [{\"error_x\": {\"color\": \"#f2f5fa\"}, \"error_y\": {\"color\": \"#f2f5fa\"}, \"marker\": {\"line\": {\"color\": \"rgb(17,17,17)\", \"width\": 0.5}}, \"type\": \"bar\"}], \"barpolar\": [{\"marker\": {\"line\": {\"color\": \"rgb(17,17,17)\", \"width\": 0.5}}, \"type\": \"barpolar\"}], \"carpet\": [{\"aaxis\": {\"endlinecolor\": \"#A2B1C6\", \"gridcolor\": \"#506784\", \"linecolor\": \"#506784\", \"minorgridcolor\": \"#506784\", \"startlinecolor\": \"#A2B1C6\"}, \"baxis\": {\"endlinecolor\": \"#A2B1C6\", \"gridcolor\": \"#506784\", \"linecolor\": \"#506784\", \"minorgridcolor\": \"#506784\", \"startlinecolor\": \"#A2B1C6\"}, \"type\": \"carpet\"}], \"choropleth\": [{\"colorbar\": {\"outlinewidth\": 0, \"ticks\": \"\"}, \"type\": \"choropleth\"}], \"contour\": [{\"colorbar\": {\"outlinewidth\": 0, \"ticks\": \"\"}, \"colorscale\": [[0.0, \"#0d0887\"], [0.1111111111111111, \"#46039f\"], [0.2222222222222222, \"#7201a8\"], [0.3333333333333333, \"#9c179e\"], [0.4444444444444444, \"#bd3786\"], [0.5555555555555556, \"#d8576b\"], [0.6666666666666666, \"#ed7953\"], [0.7777777777777778, \"#fb9f3a\"], [0.8888888888888888, \"#fdca26\"], [1.0, \"#f0f921\"]], \"type\": \"contour\"}], \"contourcarpet\": [{\"colorbar\": {\"outlinewidth\": 0, \"ticks\": \"\"}, \"type\": \"contourcarpet\"}], \"heatmap\": [{\"colorbar\": {\"outlinewidth\": 0, \"ticks\": \"\"}, \"colorscale\": [[0.0, \"#0d0887\"], [0.1111111111111111, \"#46039f\"], [0.2222222222222222, \"#7201a8\"], [0.3333333333333333, \"#9c179e\"], [0.4444444444444444, \"#bd3786\"], [0.5555555555555556, \"#d8576b\"], [0.6666666666666666, \"#ed7953\"], [0.7777777777777778, \"#fb9f3a\"], [0.8888888888888888, \"#fdca26\"], [1.0, \"#f0f921\"]], \"type\": \"heatmap\"}], \"heatmapgl\": [{\"colorbar\": {\"outlinewidth\": 0, \"ticks\": \"\"}, \"colorscale\": [[0.0, \"#0d0887\"], [0.1111111111111111, \"#46039f\"], [0.2222222222222222, \"#7201a8\"], [0.3333333333333333, \"#9c179e\"], [0.4444444444444444, \"#bd3786\"], [0.5555555555555556, \"#d8576b\"], [0.6666666666666666, \"#ed7953\"], [0.7777777777777778, \"#fb9f3a\"], [0.8888888888888888, \"#fdca26\"], [1.0, \"#f0f921\"]], \"type\": \"heatmapgl\"}], \"histogram\": [{\"marker\": {\"colorbar\": {\"outlinewidth\": 0, \"ticks\": \"\"}}, \"type\": \"histogram\"}], \"histogram2d\": [{\"colorbar\": {\"outlinewidth\": 0, \"ticks\": \"\"}, \"colorscale\": [[0.0, \"#0d0887\"], [0.1111111111111111, \"#46039f\"], [0.2222222222222222, \"#7201a8\"], [0.3333333333333333, \"#9c179e\"], [0.4444444444444444, \"#bd3786\"], [0.5555555555555556, \"#d8576b\"], [0.6666666666666666, \"#ed7953\"], [0.7777777777777778, \"#fb9f3a\"], [0.8888888888888888, \"#fdca26\"], [1.0, \"#f0f921\"]], \"type\": \"histogram2d\"}], \"histogram2dcontour\": [{\"colorbar\": {\"outlinewidth\": 0, \"ticks\": \"\"}, \"colorscale\": [[0.0, \"#0d0887\"], [0.1111111111111111, \"#46039f\"], [0.2222222222222222, \"#7201a8\"], [0.3333333333333333, \"#9c179e\"], [0.4444444444444444, \"#bd3786\"], [0.5555555555555556, \"#d8576b\"], [0.6666666666666666, \"#ed7953\"], [0.7777777777777778, \"#fb9f3a\"], [0.8888888888888888, \"#fdca26\"], [1.0, \"#f0f921\"]], \"type\": \"histogram2dcontour\"}], \"mesh3d\": [{\"colorbar\": {\"outlinewidth\": 0, \"ticks\": \"\"}, \"type\": \"mesh3d\"}], \"parcoords\": [{\"line\": {\"colorbar\": {\"outlinewidth\": 0, \"ticks\": \"\"}}, \"type\": \"parcoords\"}], \"pie\": [{\"automargin\": true, \"type\": \"pie\"}], \"scatter\": [{\"marker\": {\"line\": {\"color\": \"#283442\"}}, \"type\": \"scatter\"}], \"scatter3d\": [{\"line\": {\"colorbar\": {\"outlinewidth\": 0, \"ticks\": \"\"}}, \"marker\": {\"colorbar\": {\"outlinewidth\": 0, \"ticks\": \"\"}}, \"type\": \"scatter3d\"}], \"scattercarpet\": [{\"marker\": {\"colorbar\": {\"outlinewidth\": 0, \"ticks\": \"\"}}, \"type\": \"scattercarpet\"}], \"scattergeo\": [{\"marker\": {\"colorbar\": {\"outlinewidth\": 0, \"ticks\": \"\"}}, \"type\": \"scattergeo\"}], \"scattergl\": [{\"marker\": {\"line\": {\"color\": \"#283442\"}}, \"type\": \"scattergl\"}], \"scattermapbox\": [{\"marker\": {\"colorbar\": {\"outlinewidth\": 0, \"ticks\": \"\"}}, \"type\": \"scattermapbox\"}], \"scatterpolar\": [{\"marker\": {\"colorbar\": {\"outlinewidth\": 0, \"ticks\": \"\"}}, \"type\": \"scatterpolar\"}], \"scatterpolargl\": [{\"marker\": {\"colorbar\": {\"outlinewidth\": 0, \"ticks\": \"\"}}, \"type\": \"scatterpolargl\"}], \"scatterternary\": [{\"marker\": {\"colorbar\": {\"outlinewidth\": 0, \"ticks\": \"\"}}, \"type\": \"scatterternary\"}], \"surface\": [{\"colorbar\": {\"outlinewidth\": 0, \"ticks\": \"\"}, \"colorscale\": [[0.0, \"#0d0887\"], [0.1111111111111111, \"#46039f\"], [0.2222222222222222, \"#7201a8\"], [0.3333333333333333, \"#9c179e\"], [0.4444444444444444, \"#bd3786\"], [0.5555555555555556, \"#d8576b\"], [0.6666666666666666, \"#ed7953\"], [0.7777777777777778, \"#fb9f3a\"], [0.8888888888888888, \"#fdca26\"], [1.0, \"#f0f921\"]], \"type\": \"surface\"}], \"table\": [{\"cells\": {\"fill\": {\"color\": \"#506784\"}, \"line\": {\"color\": \"rgb(17,17,17)\"}}, \"header\": {\"fill\": {\"color\": \"#2a3f5f\"}, \"line\": {\"color\": \"rgb(17,17,17)\"}}, \"type\": \"table\"}]}, \"layout\": {\"annotationdefaults\": {\"arrowcolor\": \"#f2f5fa\", \"arrowhead\": 0, \"arrowwidth\": 1}, \"autotypenumbers\": \"strict\", \"coloraxis\": {\"colorbar\": {\"outlinewidth\": 0, \"ticks\": \"\"}}, \"colorscale\": {\"diverging\": [[0, \"#8e0152\"], [0.1, \"#c51b7d\"], [0.2, \"#de77ae\"], [0.3, \"#f1b6da\"], [0.4, \"#fde0ef\"], [0.5, \"#f7f7f7\"], [0.6, \"#e6f5d0\"], [0.7, \"#b8e186\"], [0.8, \"#7fbc41\"], [0.9, \"#4d9221\"], [1, \"#276419\"]], \"sequential\": [[0.0, \"#0d0887\"], [0.1111111111111111, \"#46039f\"], [0.2222222222222222, \"#7201a8\"], [0.3333333333333333, \"#9c179e\"], [0.4444444444444444, \"#bd3786\"], [0.5555555555555556, \"#d8576b\"], [0.6666666666666666, \"#ed7953\"], [0.7777777777777778, \"#fb9f3a\"], [0.8888888888888888, \"#fdca26\"], [1.0, \"#f0f921\"]], \"sequentialminus\": [[0.0, \"#0d0887\"], [0.1111111111111111, \"#46039f\"], [0.2222222222222222, \"#7201a8\"], [0.3333333333333333, \"#9c179e\"], [0.4444444444444444, \"#bd3786\"], [0.5555555555555556, \"#d8576b\"], [0.6666666666666666, \"#ed7953\"], [0.7777777777777778, \"#fb9f3a\"], [0.8888888888888888, \"#fdca26\"], [1.0, \"#f0f921\"]]}, \"colorway\": [\"#636efa\", \"#EF553B\", \"#00cc96\", \"#ab63fa\", \"#FFA15A\", \"#19d3f3\", \"#FF6692\", \"#B6E880\", \"#FF97FF\", \"#FECB52\"], \"font\": {\"color\": \"#f2f5fa\"}, \"geo\": {\"bgcolor\": \"rgb(17,17,17)\", \"lakecolor\": \"rgb(17,17,17)\", \"landcolor\": \"rgb(17,17,17)\", \"showlakes\": true, \"showland\": true, \"subunitcolor\": \"#506784\"}, \"hoverlabel\": {\"align\": \"left\"}, \"hovermode\": \"closest\", \"mapbox\": {\"style\": \"dark\"}, \"paper_bgcolor\": \"rgb(17,17,17)\", \"plot_bgcolor\": \"rgb(17,17,17)\", \"polar\": {\"angularaxis\": {\"gridcolor\": \"#506784\", \"linecolor\": \"#506784\", \"ticks\": \"\"}, \"bgcolor\": \"rgb(17,17,17)\", \"radialaxis\": {\"gridcolor\": \"#506784\", \"linecolor\": \"#506784\", \"ticks\": \"\"}}, \"scene\": {\"xaxis\": {\"backgroundcolor\": \"rgb(17,17,17)\", \"gridcolor\": \"#506784\", \"gridwidth\": 2, \"linecolor\": \"#506784\", \"showbackground\": true, \"ticks\": \"\", \"zerolinecolor\": \"#C8D4E3\"}, \"yaxis\": {\"backgroundcolor\": \"rgb(17,17,17)\", \"gridcolor\": \"#506784\", \"gridwidth\": 2, \"linecolor\": \"#506784\", \"showbackground\": true, \"ticks\": \"\", \"zerolinecolor\": \"#C8D4E3\"}, \"zaxis\": {\"backgroundcolor\": \"rgb(17,17,17)\", \"gridcolor\": \"#506784\", \"gridwidth\": 2, \"linecolor\": \"#506784\", \"showbackground\": true, \"ticks\": \"\", \"zerolinecolor\": \"#C8D4E3\"}}, \"shapedefaults\": {\"line\": {\"color\": \"#f2f5fa\"}}, \"sliderdefaults\": {\"bgcolor\": \"#C8D4E3\", \"bordercolor\": \"rgb(17,17,17)\", \"borderwidth\": 1, \"tickwidth\": 0}, \"ternary\": {\"aaxis\": {\"gridcolor\": \"#506784\", \"linecolor\": \"#506784\", \"ticks\": \"\"}, \"baxis\": {\"gridcolor\": \"#506784\", \"linecolor\": \"#506784\", \"ticks\": \"\"}, \"bgcolor\": \"rgb(17,17,17)\", \"caxis\": {\"gridcolor\": \"#506784\", \"linecolor\": \"#506784\", \"ticks\": \"\"}}, \"title\": {\"x\": 0.05}, \"updatemenudefaults\": {\"bgcolor\": \"#506784\", \"borderwidth\": 0}, \"xaxis\": {\"automargin\": true, \"gridcolor\": \"#283442\", \"linecolor\": \"#506784\", \"ticks\": \"\", \"title\": {\"standoff\": 15}, \"zerolinecolor\": \"#283442\", \"zerolinewidth\": 2}, \"yaxis\": {\"automargin\": true, \"gridcolor\": \"#283442\", \"linecolor\": \"#506784\", \"ticks\": \"\", \"title\": {\"standoff\": 15}, \"zerolinecolor\": \"#283442\", \"zerolinewidth\": 2}}}, \"title\": {\"text\": \"EJECTION FRACTION DISTRIBUTION\"}, \"xaxis\": {\"title\": {\"text\": \"EJECTION FRACTION\"}}, \"yaxis\": {\"title\": {\"text\": \"COUNT\"}}},                        {\"responsive\": true}                    ).then(function(){\n",
       "                            \n",
       "var gd = document.getElementById('796b4150-54ae-4cee-a57f-8a5af10de860');\n",
       "var x = new MutationObserver(function (mutations, observer) {{\n",
       "        var display = window.getComputedStyle(gd).display;\n",
       "        if (!display || display === 'none') {{\n",
       "            console.log([gd, 'removed!']);\n",
       "            Plotly.purge(gd);\n",
       "            observer.disconnect();\n",
       "        }}\n",
       "}});\n",
       "\n",
       "// Listen for the removal of the full notebook cells\n",
       "var notebookContainer = gd.closest('#notebook-container');\n",
       "if (notebookContainer) {{\n",
       "    x.observe(notebookContainer, {childList: true});\n",
       "}}\n",
       "\n",
       "// Listen for the clearing of the current output cell\n",
       "var outputEl = gd.closest('.output');\n",
       "if (outputEl) {{\n",
       "    x.observe(outputEl, {childList: true});\n",
       "}}\n",
       "\n",
       "                        })                };                });            </script>        </div>"
      ]
     },
     "metadata": {},
     "output_type": "display_data"
    }
   ],
   "source": [
    "train = train[train['ejection_fraction']<70]\n",
    "import plotly.graph_objects as go\n",
    "\n",
    "fig = go.Figure()\n",
    "fig.add_trace(go.Histogram(\n",
    "    x = train['ejection_fraction'],\n",
    "    xbins=dict( # bins used for histogram\n",
    "        start=14,\n",
    "        end=80,\n",
    "        size=2\n",
    "    ),\n",
    "    marker_color='#A7F432',\n",
    "    opacity=1\n",
    "))\n",
    "\n",
    "fig.update_layout(\n",
    "    title_text='EJECTION FRACTION DISTRIBUTION',\n",
    "    xaxis_title_text='EJECTION FRACTION',\n",
    "    yaxis_title_text='COUNT', \n",
    "    bargap=0.05, # gap between bars of adjacent location coordinates\n",
    "\n",
    "    template = 'plotly_dark'\n",
    ")\n",
    "\n",
    "fig.show()"
   ]
  },
  {
   "cell_type": "code",
   "execution_count": 24,
   "id": "fleet-latino",
   "metadata": {
    "execution": {
     "iopub.execute_input": "2021-04-25T02:23:21.298113Z",
     "iopub.status.busy": "2021-04-25T02:23:21.297397Z",
     "iopub.status.idle": "2021-04-25T02:23:21.450360Z",
     "shell.execute_reply": "2021-04-25T02:23:21.449338Z"
    },
    "papermill": {
     "duration": 0.236596,
     "end_time": "2021-04-25T02:23:21.450514",
     "exception": false,
     "start_time": "2021-04-25T02:23:21.213918",
     "status": "completed"
    },
    "tags": []
   },
   "outputs": [
    {
     "data": {
      "image/png": "[encoded data removed]",
      "text/plain": [
       "<Figure size 576x576 with 1 Axes>"
      ]
     },
     "metadata": {},
     "output_type": "display_data"
    }
   ],
   "source": [
    "sns.boxplot(x=train.time, color = 'yellow')\n",
    "plt.show()"
   ]
  },
  {
   "cell_type": "code",
   "execution_count": 25,
   "id": "exact-weekend",
   "metadata": {
    "execution": {
     "iopub.execute_input": "2021-04-25T02:23:21.589916Z",
     "iopub.status.busy": "2021-04-25T02:23:21.589249Z",
     "iopub.status.idle": "2021-04-25T02:23:21.719859Z",
     "shell.execute_reply": "2021-04-25T02:23:21.720353Z"
    },
    "papermill": {
     "duration": 0.211575,
     "end_time": "2021-04-25T02:23:21.720521",
     "exception": false,
     "start_time": "2021-04-25T02:23:21.508946",
     "status": "completed"
    },
    "tags": []
   },
   "outputs": [
    {
     "data": {
      "image/png": "[encoded data removed]",
      "text/plain": [
       "<Figure size 576x576 with 1 Axes>"
      ]
     },
     "metadata": {},
     "output_type": "display_data"
    }
   ],
   "source": [
    "sns.boxplot(x=train.serum_creatinine, color = 'red')\n",
    "plt.show()"
   ]
  },
  {
   "cell_type": "code",
   "execution_count": 26,
   "id": "surgical-valuable",
   "metadata": {
    "execution": {
     "iopub.execute_input": "2021-04-25T02:23:21.843052Z",
     "iopub.status.busy": "2021-04-25T02:23:21.842417Z",
     "iopub.status.idle": "2021-04-25T02:23:22.135006Z",
     "shell.execute_reply": "2021-04-25T02:23:22.134457Z"
    },
    "papermill": {
     "duration": 0.356421,
     "end_time": "2021-04-25T02:23:22.135150",
     "exception": false,
     "start_time": "2021-04-25T02:23:21.778729",
     "status": "completed"
    },
    "tags": []
   },
   "outputs": [
    {
     "data": {
      "text/html": [
       "<style  type=\"text/css\" >\n",
       "#T_fab65_row0_col0,#T_fab65_row1_col1,#T_fab65_row2_col2,#T_fab65_row3_col3,#T_fab65_row4_col4,#T_fab65_row5_col5,#T_fab65_row6_col6,#T_fab65_row7_col7,#T_fab65_row8_col8,#T_fab65_row9_col9,#T_fab65_row10_col10,#T_fab65_row11_col11,#T_fab65_row12_col12{\n",
       "            background-color:  #b40426;\n",
       "            color:  #f1f1f1;\n",
       "        }#T_fab65_row0_col1,#T_fab65_row3_col4,#T_fab65_row9_col0{\n",
       "            background-color:  #86a9fc;\n",
       "            color:  #000000;\n",
       "        }#T_fab65_row0_col2{\n",
       "            background-color:  #5673e0;\n",
       "            color:  #000000;\n",
       "        }#T_fab65_row0_col3{\n",
       "            background-color:  #4a63d3;\n",
       "            color:  #f1f1f1;\n",
       "        }#T_fab65_row0_col4,#T_fab65_row6_col4{\n",
       "            background-color:  #9abbff;\n",
       "            color:  #000000;\n",
       "        }#T_fab65_row0_col5,#T_fab65_row1_col4,#T_fab65_row11_col8{\n",
       "            background-color:  #8caffe;\n",
       "            color:  #000000;\n",
       "        }#T_fab65_row0_col6,#T_fab65_row8_col3,#T_fab65_row10_col1{\n",
       "            background-color:  #4f69d9;\n",
       "            color:  #000000;\n",
       "        }#T_fab65_row0_col7,#T_fab65_row10_col11{\n",
       "            background-color:  #aac7fd;\n",
       "            color:  #000000;\n",
       "        }#T_fab65_row0_col8,#T_fab65_row2_col6,#T_fab65_row5_col7,#T_fab65_row10_col6{\n",
       "            background-color:  #6687ed;\n",
       "            color:  #000000;\n",
       "        }#T_fab65_row0_col9,#T_fab65_row1_col5,#T_fab65_row3_col6,#T_fab65_row4_col6{\n",
       "            background-color:  #799cf8;\n",
       "            color:  #000000;\n",
       "        }#T_fab65_row0_col10,#T_fab65_row6_col0,#T_fab65_row12_col3,#T_fab65_row12_col9{\n",
       "            background-color:  #6788ee;\n",
       "            color:  #000000;\n",
       "        }#T_fab65_row0_col11,#T_fab65_row8_col5{\n",
       "            background-color:  #7b9ff9;\n",
       "            color:  #000000;\n",
       "        }#T_fab65_row0_col12{\n",
       "            background-color:  #e0dbd8;\n",
       "            color:  #000000;\n",
       "        }#T_fab65_row1_col0,#T_fab65_row4_col0,#T_fab65_row11_col4{\n",
       "            background-color:  #8fb1fe;\n",
       "            color:  #000000;\n",
       "        }#T_fab65_row1_col2,#T_fab65_row2_col1,#T_fab65_row3_col9,#T_fab65_row3_col10,#T_fab65_row7_col8,#T_fab65_row8_col7,#T_fab65_row9_col3,#T_fab65_row9_col6,#T_fab65_row11_col0,#T_fab65_row11_col5,#T_fab65_row11_col12,#T_fab65_row12_col4,#T_fab65_row12_col11{\n",
       "            background-color:  #3b4cc0;\n",
       "            color:  #f1f1f1;\n",
       "        }#T_fab65_row1_col3,#T_fab65_row11_col9{\n",
       "            background-color:  #6384eb;\n",
       "            color:  #000000;\n",
       "        }#T_fab65_row1_col6,#T_fab65_row9_col1{\n",
       "            background-color:  #536edd;\n",
       "            color:  #000000;\n",
       "        }#T_fab65_row1_col7,#T_fab65_row8_col1,#T_fab65_row10_col0{\n",
       "            background-color:  #7a9df8;\n",
       "            color:  #000000;\n",
       "        }#T_fab65_row1_col8,#T_fab65_row8_col2,#T_fab65_row12_col1{\n",
       "            background-color:  #7ea1fa;\n",
       "            color:  #000000;\n",
       "        }#T_fab65_row1_col9{\n",
       "            background-color:  #4c66d6;\n",
       "            color:  #000000;\n",
       "        }#T_fab65_row1_col10,#T_fab65_row4_col9,#T_fab65_row11_col1{\n",
       "            background-color:  #455cce;\n",
       "            color:  #f1f1f1;\n",
       "        }#T_fab65_row1_col11{\n",
       "            background-color:  #8db0fe;\n",
       "            color:  #000000;\n",
       "        }#T_fab65_row1_col12{\n",
       "            background-color:  #bcd2f7;\n",
       "            color:  #000000;\n",
       "        }#T_fab65_row2_col0,#T_fab65_row7_col3,#T_fab65_row8_col9{\n",
       "            background-color:  #5f7fe8;\n",
       "            color:  #000000;\n",
       "        }#T_fab65_row2_col3,#T_fab65_row2_col10,#T_fab65_row5_col3,#T_fab65_row7_col5,#T_fab65_row8_col10{\n",
       "            background-color:  #6485ec;\n",
       "            color:  #000000;\n",
       "        }#T_fab65_row2_col4,#T_fab65_row4_col5,#T_fab65_row5_col1{\n",
       "            background-color:  #7699f6;\n",
       "            color:  #000000;\n",
       "        }#T_fab65_row2_col5,#T_fab65_row11_col10{\n",
       "            background-color:  #5d7ce6;\n",
       "            color:  #000000;\n",
       "        }#T_fab65_row2_col7,#T_fab65_row6_col7,#T_fab65_row10_col2{\n",
       "            background-color:  #6e90f2;\n",
       "            color:  #000000;\n",
       "        }#T_fab65_row2_col8,#T_fab65_row6_col8,#T_fab65_row7_col11{\n",
       "            background-color:  #84a7fc;\n",
       "            color:  #000000;\n",
       "        }#T_fab65_row2_col9,#T_fab65_row9_col7,#T_fab65_row12_col2{\n",
       "            background-color:  #80a3fa;\n",
       "            color:  #000000;\n",
       "        }#T_fab65_row2_col11,#T_fab65_row7_col0,#T_fab65_row10_col12{\n",
       "            background-color:  #adc9fd;\n",
       "            color:  #000000;\n",
       "        }#T_fab65_row2_col12,#T_fab65_row12_col0{\n",
       "            background-color:  #bed2f6;\n",
       "            color:  #000000;\n",
       "        }#T_fab65_row3_col0,#T_fab65_row3_col8,#T_fab65_row5_col2{\n",
       "            background-color:  #5977e3;\n",
       "            color:  #000000;\n",
       "        }#T_fab65_row3_col1,#T_fab65_row3_col2,#T_fab65_row3_col7,#T_fab65_row7_col2,#T_fab65_row9_col8{\n",
       "            background-color:  #6a8bef;\n",
       "            color:  #000000;\n",
       "        }#T_fab65_row3_col5{\n",
       "            background-color:  #6c8ff1;\n",
       "            color:  #000000;\n",
       "        }#T_fab65_row3_col11{\n",
       "            background-color:  #b7cff9;\n",
       "            color:  #000000;\n",
       "        }#T_fab65_row3_col12,#T_fab65_row9_col12{\n",
       "            background-color:  #afcafc;\n",
       "            color:  #000000;\n",
       "        }#T_fab65_row4_col1{\n",
       "            background-color:  #779af7;\n",
       "            color:  #000000;\n",
       "        }#T_fab65_row4_col2,#T_fab65_row7_col10,#T_fab65_row9_col4,#T_fab65_row10_col5,#T_fab65_row12_col10{\n",
       "            background-color:  #6180e9;\n",
       "            color:  #000000;\n",
       "        }#T_fab65_row4_col3,#T_fab65_row6_col10,#T_fab65_row7_col4,#T_fab65_row11_col2{\n",
       "            background-color:  #6b8df0;\n",
       "            color:  #000000;\n",
       "        }#T_fab65_row4_col7,#T_fab65_row7_col6{\n",
       "            background-color:  #5a78e4;\n",
       "            color:  #000000;\n",
       "        }#T_fab65_row4_col8,#T_fab65_row6_col12{\n",
       "            background-color:  #a6c4fe;\n",
       "            color:  #000000;\n",
       "        }#T_fab65_row4_col10,#T_fab65_row5_col10,#T_fab65_row9_col5{\n",
       "            background-color:  #5470de;\n",
       "            color:  #000000;\n",
       "        }#T_fab65_row4_col11{\n",
       "            background-color:  #bad0f8;\n",
       "            color:  #000000;\n",
       "        }#T_fab65_row4_col12,#T_fab65_row5_col6,#T_fab65_row10_col7{\n",
       "            background-color:  #6f92f3;\n",
       "            color:  #000000;\n",
       "        }#T_fab65_row5_col0{\n",
       "            background-color:  #90b2fe;\n",
       "            color:  #000000;\n",
       "        }#T_fab65_row5_col4{\n",
       "            background-color:  #89acfd;\n",
       "            color:  #000000;\n",
       "        }#T_fab65_row5_col8{\n",
       "            background-color:  #7da0f9;\n",
       "            color:  #000000;\n",
       "        }#T_fab65_row5_col9{\n",
       "            background-color:  #4b64d5;\n",
       "            color:  #f1f1f1;\n",
       "        }#T_fab65_row5_col11,#T_fab65_row6_col5{\n",
       "            background-color:  #81a4fb;\n",
       "            color:  #000000;\n",
       "        }#T_fab65_row5_col12{\n",
       "            background-color:  #bfd3f6;\n",
       "            color:  #000000;\n",
       "        }#T_fab65_row6_col1,#T_fab65_row11_col6{\n",
       "            background-color:  #6282ea;\n",
       "            color:  #000000;\n",
       "        }#T_fab65_row6_col2,#T_fab65_row7_col1,#T_fab65_row7_col9{\n",
       "            background-color:  #7597f6;\n",
       "            color:  #000000;\n",
       "        }#T_fab65_row6_col3,#T_fab65_row8_col12{\n",
       "            background-color:  #82a6fb;\n",
       "            color:  #000000;\n",
       "        }#T_fab65_row6_col9{\n",
       "            background-color:  #4358cb;\n",
       "            color:  #f1f1f1;\n",
       "        }#T_fab65_row6_col11{\n",
       "            background-color:  #b2ccfb;\n",
       "            color:  #000000;\n",
       "        }#T_fab65_row7_col12{\n",
       "            background-color:  #e6d7cf;\n",
       "            color:  #000000;\n",
       "        }#T_fab65_row8_col0{\n",
       "            background-color:  #688aef;\n",
       "            color:  #000000;\n",
       "        }#T_fab65_row8_col4{\n",
       "            background-color:  #b3cdfb;\n",
       "            color:  #000000;\n",
       "        }#T_fab65_row8_col6{\n",
       "            background-color:  #7093f3;\n",
       "            color:  #000000;\n",
       "        }#T_fab65_row8_col11{\n",
       "            background-color:  #c3d5f4;\n",
       "            color:  #000000;\n",
       "        }#T_fab65_row9_col2,#T_fab65_row12_col5{\n",
       "            background-color:  #85a8fc;\n",
       "            color:  #000000;\n",
       "        }#T_fab65_row9_col10{\n",
       "            background-color:  #e1dad6;\n",
       "            color:  #000000;\n",
       "        }#T_fab65_row9_col11{\n",
       "            background-color:  #abc8fd;\n",
       "            color:  #000000;\n",
       "        }#T_fab65_row10_col3,#T_fab65_row12_col8{\n",
       "            background-color:  #3e51c5;\n",
       "            color:  #f1f1f1;\n",
       "        }#T_fab65_row10_col4,#T_fab65_row10_col8{\n",
       "            background-color:  #7396f5;\n",
       "            color:  #000000;\n",
       "        }#T_fab65_row10_col9{\n",
       "            background-color:  #e2dad5;\n",
       "            color:  #000000;\n",
       "        }#T_fab65_row11_col3{\n",
       "            background-color:  #7295f4;\n",
       "            color:  #000000;\n",
       "        }#T_fab65_row11_col7{\n",
       "            background-color:  #3f53c6;\n",
       "            color:  #f1f1f1;\n",
       "        }#T_fab65_row12_col6{\n",
       "            background-color:  #516ddb;\n",
       "            color:  #000000;\n",
       "        }#T_fab65_row12_col7{\n",
       "            background-color:  #c4d5f3;\n",
       "            color:  #000000;\n",
       "        }</style><table id=\"T_fab65_\" ><thead>    <tr>        <th class=\"blank level0\" ></th>        <th class=\"col_heading level0 col0\" >age</th>        <th class=\"col_heading level0 col1\" >anaemia</th>        <th class=\"col_heading level0 col2\" >creatinine_phosphokinase</th>        <th class=\"col_heading level0 col3\" >diabetes</th>        <th class=\"col_heading level0 col4\" >ejection_fraction</th>        <th class=\"col_heading level0 col5\" >high_blood_pressure</th>        <th class=\"col_heading level0 col6\" >platelets</th>        <th class=\"col_heading level0 col7\" >serum_creatinine</th>        <th class=\"col_heading level0 col8\" >serum_sodium</th>        <th class=\"col_heading level0 col9\" >sex</th>        <th class=\"col_heading level0 col10\" >smoking</th>        <th class=\"col_heading level0 col11\" >time</th>        <th class=\"col_heading level0 col12\" >DEATH_EVENT</th>    </tr></thead><tbody>\n",
       "                <tr>\n",
       "                        <th id=\"T_fab65_level0_row0\" class=\"row_heading level0 row0\" >age</th>\n",
       "                        <td id=\"T_fab65_row0_col0\" class=\"data row0 col0\" >1.00</td>\n",
       "                        <td id=\"T_fab65_row0_col1\" class=\"data row0 col1\" >0.09</td>\n",
       "                        <td id=\"T_fab65_row0_col2\" class=\"data row0 col2\" >-0.08</td>\n",
       "                        <td id=\"T_fab65_row0_col3\" class=\"data row0 col3\" >-0.11</td>\n",
       "                        <td id=\"T_fab65_row0_col4\" class=\"data row0 col4\" >0.08</td>\n",
       "                        <td id=\"T_fab65_row0_col5\" class=\"data row0 col5\" >0.09</td>\n",
       "                        <td id=\"T_fab65_row0_col6\" class=\"data row0 col6\" >-0.05</td>\n",
       "                        <td id=\"T_fab65_row0_col7\" class=\"data row0 col7\" >0.19</td>\n",
       "                        <td id=\"T_fab65_row0_col8\" class=\"data row0 col8\" >-0.05</td>\n",
       "                        <td id=\"T_fab65_row0_col9\" class=\"data row0 col9\" >0.06</td>\n",
       "                        <td id=\"T_fab65_row0_col10\" class=\"data row0 col10\" >0.01</td>\n",
       "                        <td id=\"T_fab65_row0_col11\" class=\"data row0 col11\" >-0.23</td>\n",
       "                        <td id=\"T_fab65_row0_col12\" class=\"data row0 col12\" >0.26</td>\n",
       "            </tr>\n",
       "            <tr>\n",
       "                        <th id=\"T_fab65_level0_row1\" class=\"row_heading level0 row1\" >anaemia</th>\n",
       "                        <td id=\"T_fab65_row1_col0\" class=\"data row1 col0\" >0.09</td>\n",
       "                        <td id=\"T_fab65_row1_col1\" class=\"data row1 col1\" >1.00</td>\n",
       "                        <td id=\"T_fab65_row1_col2\" class=\"data row1 col2\" >-0.19</td>\n",
       "                        <td id=\"T_fab65_row1_col3\" class=\"data row1 col3\" >-0.01</td>\n",
       "                        <td id=\"T_fab65_row1_col4\" class=\"data row1 col4\" >0.03</td>\n",
       "                        <td id=\"T_fab65_row1_col5\" class=\"data row1 col5\" >0.03</td>\n",
       "                        <td id=\"T_fab65_row1_col6\" class=\"data row1 col6\" >-0.04</td>\n",
       "                        <td id=\"T_fab65_row1_col7\" class=\"data row1 col7\" >0.03</td>\n",
       "                        <td id=\"T_fab65_row1_col8\" class=\"data row1 col8\" >0.04</td>\n",
       "                        <td id=\"T_fab65_row1_col9\" class=\"data row1 col9\" >-0.09</td>\n",
       "                        <td id=\"T_fab65_row1_col10\" class=\"data row1 col10\" >-0.11</td>\n",
       "                        <td id=\"T_fab65_row1_col11\" class=\"data row1 col11\" >-0.15</td>\n",
       "                        <td id=\"T_fab65_row1_col12\" class=\"data row1 col12\" >0.06</td>\n",
       "            </tr>\n",
       "            <tr>\n",
       "                        <th id=\"T_fab65_level0_row2\" class=\"row_heading level0 row2\" >creatinine_phosphokinase</th>\n",
       "                        <td id=\"T_fab65_row2_col0\" class=\"data row2 col0\" >-0.08</td>\n",
       "                        <td id=\"T_fab65_row2_col1\" class=\"data row2 col1\" >-0.19</td>\n",
       "                        <td id=\"T_fab65_row2_col2\" class=\"data row2 col2\" >1.00</td>\n",
       "                        <td id=\"T_fab65_row2_col3\" class=\"data row2 col3\" >-0.01</td>\n",
       "                        <td id=\"T_fab65_row2_col4\" class=\"data row2 col4\" >-0.04</td>\n",
       "                        <td id=\"T_fab65_row2_col5\" class=\"data row2 col5\" >-0.07</td>\n",
       "                        <td id=\"T_fab65_row2_col6\" class=\"data row2 col6\" >0.02</td>\n",
       "                        <td id=\"T_fab65_row2_col7\" class=\"data row2 col7\" >-0.01</td>\n",
       "                        <td id=\"T_fab65_row2_col8\" class=\"data row2 col8\" >0.06</td>\n",
       "                        <td id=\"T_fab65_row2_col9\" class=\"data row2 col9\" >0.08</td>\n",
       "                        <td id=\"T_fab65_row2_col10\" class=\"data row2 col10\" >0.00</td>\n",
       "                        <td id=\"T_fab65_row2_col11\" class=\"data row2 col11\" >-0.01</td>\n",
       "                        <td id=\"T_fab65_row2_col12\" class=\"data row2 col12\" >0.06</td>\n",
       "            </tr>\n",
       "            <tr>\n",
       "                        <th id=\"T_fab65_level0_row3\" class=\"row_heading level0 row3\" >diabetes</th>\n",
       "                        <td id=\"T_fab65_row3_col0\" class=\"data row3 col0\" >-0.11</td>\n",
       "                        <td id=\"T_fab65_row3_col1\" class=\"data row3 col1\" >-0.01</td>\n",
       "                        <td id=\"T_fab65_row3_col2\" class=\"data row3 col2\" >-0.01</td>\n",
       "                        <td id=\"T_fab65_row3_col3\" class=\"data row3 col3\" >1.00</td>\n",
       "                        <td id=\"T_fab65_row3_col4\" class=\"data row3 col4\" >0.01</td>\n",
       "                        <td id=\"T_fab65_row3_col5\" class=\"data row3 col5\" >-0.01</td>\n",
       "                        <td id=\"T_fab65_row3_col6\" class=\"data row3 col6\" >0.09</td>\n",
       "                        <td id=\"T_fab65_row3_col7\" class=\"data row3 col7\" >-0.03</td>\n",
       "                        <td id=\"T_fab65_row3_col8\" class=\"data row3 col8\" >-0.09</td>\n",
       "                        <td id=\"T_fab65_row3_col9\" class=\"data row3 col9\" >-0.17</td>\n",
       "                        <td id=\"T_fab65_row3_col10\" class=\"data row3 col10\" >-0.15</td>\n",
       "                        <td id=\"T_fab65_row3_col11\" class=\"data row3 col11\" >0.03</td>\n",
       "                        <td id=\"T_fab65_row3_col12\" class=\"data row3 col12\" >0.00</td>\n",
       "            </tr>\n",
       "            <tr>\n",
       "                        <th id=\"T_fab65_level0_row4\" class=\"row_heading level0 row4\" >ejection_fraction</th>\n",
       "                        <td id=\"T_fab65_row4_col0\" class=\"data row4 col0\" >0.08</td>\n",
       "                        <td id=\"T_fab65_row4_col1\" class=\"data row4 col1\" >0.03</td>\n",
       "                        <td id=\"T_fab65_row4_col2\" class=\"data row4 col2\" >-0.04</td>\n",
       "                        <td id=\"T_fab65_row4_col3\" class=\"data row4 col3\" >0.01</td>\n",
       "                        <td id=\"T_fab65_row4_col4\" class=\"data row4 col4\" >1.00</td>\n",
       "                        <td id=\"T_fab65_row4_col5\" class=\"data row4 col5\" >0.02</td>\n",
       "                        <td id=\"T_fab65_row4_col6\" class=\"data row4 col6\" >0.09</td>\n",
       "                        <td id=\"T_fab65_row4_col7\" class=\"data row4 col7\" >-0.09</td>\n",
       "                        <td id=\"T_fab65_row4_col8\" class=\"data row4 col8\" >0.18</td>\n",
       "                        <td id=\"T_fab65_row4_col9\" class=\"data row4 col9\" >-0.12</td>\n",
       "                        <td id=\"T_fab65_row4_col10\" class=\"data row4 col10\" >-0.05</td>\n",
       "                        <td id=\"T_fab65_row4_col11\" class=\"data row4 col11\" >0.05</td>\n",
       "                        <td id=\"T_fab65_row4_col12\" class=\"data row4 col12\" >-0.28</td>\n",
       "            </tr>\n",
       "            <tr>\n",
       "                        <th id=\"T_fab65_level0_row5\" class=\"row_heading level0 row5\" >high_blood_pressure</th>\n",
       "                        <td id=\"T_fab65_row5_col0\" class=\"data row5 col0\" >0.09</td>\n",
       "                        <td id=\"T_fab65_row5_col1\" class=\"data row5 col1\" >0.03</td>\n",
       "                        <td id=\"T_fab65_row5_col2\" class=\"data row5 col2\" >-0.07</td>\n",
       "                        <td id=\"T_fab65_row5_col3\" class=\"data row5 col3\" >-0.01</td>\n",
       "                        <td id=\"T_fab65_row5_col4\" class=\"data row5 col4\" >0.02</td>\n",
       "                        <td id=\"T_fab65_row5_col5\" class=\"data row5 col5\" >1.00</td>\n",
       "                        <td id=\"T_fab65_row5_col6\" class=\"data row5 col6\" >0.06</td>\n",
       "                        <td id=\"T_fab65_row5_col7\" class=\"data row5 col7\" >-0.04</td>\n",
       "                        <td id=\"T_fab65_row5_col8\" class=\"data row5 col8\" >0.04</td>\n",
       "                        <td id=\"T_fab65_row5_col9\" class=\"data row5 col9\" >-0.10</td>\n",
       "                        <td id=\"T_fab65_row5_col10\" class=\"data row5 col10\" >-0.05</td>\n",
       "                        <td id=\"T_fab65_row5_col11\" class=\"data row5 col11\" >-0.20</td>\n",
       "                        <td id=\"T_fab65_row5_col12\" class=\"data row5 col12\" >0.07</td>\n",
       "            </tr>\n",
       "            <tr>\n",
       "                        <th id=\"T_fab65_level0_row6\" class=\"row_heading level0 row6\" >platelets</th>\n",
       "                        <td id=\"T_fab65_row6_col0\" class=\"data row6 col0\" >-0.05</td>\n",
       "                        <td id=\"T_fab65_row6_col1\" class=\"data row6 col1\" >-0.04</td>\n",
       "                        <td id=\"T_fab65_row6_col2\" class=\"data row6 col2\" >0.02</td>\n",
       "                        <td id=\"T_fab65_row6_col3\" class=\"data row6 col3\" >0.09</td>\n",
       "                        <td id=\"T_fab65_row6_col4\" class=\"data row6 col4\" >0.09</td>\n",
       "                        <td id=\"T_fab65_row6_col5\" class=\"data row6 col5\" >0.06</td>\n",
       "                        <td id=\"T_fab65_row6_col6\" class=\"data row6 col6\" >1.00</td>\n",
       "                        <td id=\"T_fab65_row6_col7\" class=\"data row6 col7\" >-0.01</td>\n",
       "                        <td id=\"T_fab65_row6_col8\" class=\"data row6 col8\" >0.06</td>\n",
       "                        <td id=\"T_fab65_row6_col9\" class=\"data row6 col9\" >-0.13</td>\n",
       "                        <td id=\"T_fab65_row6_col10\" class=\"data row6 col10\" >0.03</td>\n",
       "                        <td id=\"T_fab65_row6_col11\" class=\"data row6 col11\" >0.01</td>\n",
       "                        <td id=\"T_fab65_row6_col12\" class=\"data row6 col12\" >-0.04</td>\n",
       "            </tr>\n",
       "            <tr>\n",
       "                        <th id=\"T_fab65_level0_row7\" class=\"row_heading level0 row7\" >serum_creatinine</th>\n",
       "                        <td id=\"T_fab65_row7_col0\" class=\"data row7 col0\" >0.19</td>\n",
       "                        <td id=\"T_fab65_row7_col1\" class=\"data row7 col1\" >0.03</td>\n",
       "                        <td id=\"T_fab65_row7_col2\" class=\"data row7 col2\" >-0.01</td>\n",
       "                        <td id=\"T_fab65_row7_col3\" class=\"data row7 col3\" >-0.03</td>\n",
       "                        <td id=\"T_fab65_row7_col4\" class=\"data row7 col4\" >-0.09</td>\n",
       "                        <td id=\"T_fab65_row7_col5\" class=\"data row7 col5\" >-0.04</td>\n",
       "                        <td id=\"T_fab65_row7_col6\" class=\"data row7 col6\" >-0.01</td>\n",
       "                        <td id=\"T_fab65_row7_col7\" class=\"data row7 col7\" >1.00</td>\n",
       "                        <td id=\"T_fab65_row7_col8\" class=\"data row7 col8\" >-0.21</td>\n",
       "                        <td id=\"T_fab65_row7_col9\" class=\"data row7 col9\" >0.04</td>\n",
       "                        <td id=\"T_fab65_row7_col10\" class=\"data row7 col10\" >-0.01</td>\n",
       "                        <td id=\"T_fab65_row7_col11\" class=\"data row7 col11\" >-0.19</td>\n",
       "                        <td id=\"T_fab65_row7_col12\" class=\"data row7 col12\" >0.29</td>\n",
       "            </tr>\n",
       "            <tr>\n",
       "                        <th id=\"T_fab65_level0_row8\" class=\"row_heading level0 row8\" >serum_sodium</th>\n",
       "                        <td id=\"T_fab65_row8_col0\" class=\"data row8 col0\" >-0.05</td>\n",
       "                        <td id=\"T_fab65_row8_col1\" class=\"data row8 col1\" >0.04</td>\n",
       "                        <td id=\"T_fab65_row8_col2\" class=\"data row8 col2\" >0.06</td>\n",
       "                        <td id=\"T_fab65_row8_col3\" class=\"data row8 col3\" >-0.09</td>\n",
       "                        <td id=\"T_fab65_row8_col4\" class=\"data row8 col4\" >0.18</td>\n",
       "                        <td id=\"T_fab65_row8_col5\" class=\"data row8 col5\" >0.04</td>\n",
       "                        <td id=\"T_fab65_row8_col6\" class=\"data row8 col6\" >0.06</td>\n",
       "                        <td id=\"T_fab65_row8_col7\" class=\"data row8 col7\" >-0.21</td>\n",
       "                        <td id=\"T_fab65_row8_col8\" class=\"data row8 col8\" >1.00</td>\n",
       "                        <td id=\"T_fab65_row8_col9\" class=\"data row8 col9\" >-0.03</td>\n",
       "                        <td id=\"T_fab65_row8_col10\" class=\"data row8 col10\" >0.01</td>\n",
       "                        <td id=\"T_fab65_row8_col11\" class=\"data row8 col11\" >0.09</td>\n",
       "                        <td id=\"T_fab65_row8_col12\" class=\"data row8 col12\" >-0.20</td>\n",
       "            </tr>\n",
       "            <tr>\n",
       "                        <th id=\"T_fab65_level0_row9\" class=\"row_heading level0 row9\" >sex</th>\n",
       "                        <td id=\"T_fab65_row9_col0\" class=\"data row9 col0\" >0.06</td>\n",
       "                        <td id=\"T_fab65_row9_col1\" class=\"data row9 col1\" >-0.09</td>\n",
       "                        <td id=\"T_fab65_row9_col2\" class=\"data row9 col2\" >0.08</td>\n",
       "                        <td id=\"T_fab65_row9_col3\" class=\"data row9 col3\" >-0.17</td>\n",
       "                        <td id=\"T_fab65_row9_col4\" class=\"data row9 col4\" >-0.12</td>\n",
       "                        <td id=\"T_fab65_row9_col5\" class=\"data row9 col5\" >-0.10</td>\n",
       "                        <td id=\"T_fab65_row9_col6\" class=\"data row9 col6\" >-0.13</td>\n",
       "                        <td id=\"T_fab65_row9_col7\" class=\"data row9 col7\" >0.04</td>\n",
       "                        <td id=\"T_fab65_row9_col8\" class=\"data row9 col8\" >-0.03</td>\n",
       "                        <td id=\"T_fab65_row9_col9\" class=\"data row9 col9\" >1.00</td>\n",
       "                        <td id=\"T_fab65_row9_col10\" class=\"data row9 col10\" >0.44</td>\n",
       "                        <td id=\"T_fab65_row9_col11\" class=\"data row9 col11\" >-0.02</td>\n",
       "                        <td id=\"T_fab65_row9_col12\" class=\"data row9 col12\" >-0.00</td>\n",
       "            </tr>\n",
       "            <tr>\n",
       "                        <th id=\"T_fab65_level0_row10\" class=\"row_heading level0 row10\" >smoking</th>\n",
       "                        <td id=\"T_fab65_row10_col0\" class=\"data row10 col0\" >0.01</td>\n",
       "                        <td id=\"T_fab65_row10_col1\" class=\"data row10 col1\" >-0.11</td>\n",
       "                        <td id=\"T_fab65_row10_col2\" class=\"data row10 col2\" >0.00</td>\n",
       "                        <td id=\"T_fab65_row10_col3\" class=\"data row10 col3\" >-0.15</td>\n",
       "                        <td id=\"T_fab65_row10_col4\" class=\"data row10 col4\" >-0.05</td>\n",
       "                        <td id=\"T_fab65_row10_col5\" class=\"data row10 col5\" >-0.05</td>\n",
       "                        <td id=\"T_fab65_row10_col6\" class=\"data row10 col6\" >0.03</td>\n",
       "                        <td id=\"T_fab65_row10_col7\" class=\"data row10 col7\" >-0.01</td>\n",
       "                        <td id=\"T_fab65_row10_col8\" class=\"data row10 col8\" >0.01</td>\n",
       "                        <td id=\"T_fab65_row10_col9\" class=\"data row10 col9\" >0.44</td>\n",
       "                        <td id=\"T_fab65_row10_col10\" class=\"data row10 col10\" >1.00</td>\n",
       "                        <td id=\"T_fab65_row10_col11\" class=\"data row10 col11\" >-0.02</td>\n",
       "                        <td id=\"T_fab65_row10_col12\" class=\"data row10 col12\" >-0.01</td>\n",
       "            </tr>\n",
       "            <tr>\n",
       "                        <th id=\"T_fab65_level0_row11\" class=\"row_heading level0 row11\" >time</th>\n",
       "                        <td id=\"T_fab65_row11_col0\" class=\"data row11 col0\" >-0.23</td>\n",
       "                        <td id=\"T_fab65_row11_col1\" class=\"data row11 col1\" >-0.15</td>\n",
       "                        <td id=\"T_fab65_row11_col2\" class=\"data row11 col2\" >-0.01</td>\n",
       "                        <td id=\"T_fab65_row11_col3\" class=\"data row11 col3\" >0.03</td>\n",
       "                        <td id=\"T_fab65_row11_col4\" class=\"data row11 col4\" >0.05</td>\n",
       "                        <td id=\"T_fab65_row11_col5\" class=\"data row11 col5\" >-0.20</td>\n",
       "                        <td id=\"T_fab65_row11_col6\" class=\"data row11 col6\" >0.01</td>\n",
       "                        <td id=\"T_fab65_row11_col7\" class=\"data row11 col7\" >-0.19</td>\n",
       "                        <td id=\"T_fab65_row11_col8\" class=\"data row11 col8\" >0.09</td>\n",
       "                        <td id=\"T_fab65_row11_col9\" class=\"data row11 col9\" >-0.02</td>\n",
       "                        <td id=\"T_fab65_row11_col10\" class=\"data row11 col10\" >-0.02</td>\n",
       "                        <td id=\"T_fab65_row11_col11\" class=\"data row11 col11\" >1.00</td>\n",
       "                        <td id=\"T_fab65_row11_col12\" class=\"data row11 col12\" >-0.54</td>\n",
       "            </tr>\n",
       "            <tr>\n",
       "                        <th id=\"T_fab65_level0_row12\" class=\"row_heading level0 row12\" >DEATH_EVENT</th>\n",
       "                        <td id=\"T_fab65_row12_col0\" class=\"data row12 col0\" >0.26</td>\n",
       "                        <td id=\"T_fab65_row12_col1\" class=\"data row12 col1\" >0.06</td>\n",
       "                        <td id=\"T_fab65_row12_col2\" class=\"data row12 col2\" >0.06</td>\n",
       "                        <td id=\"T_fab65_row12_col3\" class=\"data row12 col3\" >0.00</td>\n",
       "                        <td id=\"T_fab65_row12_col4\" class=\"data row12 col4\" >-0.28</td>\n",
       "                        <td id=\"T_fab65_row12_col5\" class=\"data row12 col5\" >0.07</td>\n",
       "                        <td id=\"T_fab65_row12_col6\" class=\"data row12 col6\" >-0.04</td>\n",
       "                        <td id=\"T_fab65_row12_col7\" class=\"data row12 col7\" >0.29</td>\n",
       "                        <td id=\"T_fab65_row12_col8\" class=\"data row12 col8\" >-0.20</td>\n",
       "                        <td id=\"T_fab65_row12_col9\" class=\"data row12 col9\" >-0.00</td>\n",
       "                        <td id=\"T_fab65_row12_col10\" class=\"data row12 col10\" >-0.01</td>\n",
       "                        <td id=\"T_fab65_row12_col11\" class=\"data row12 col11\" >-0.54</td>\n",
       "                        <td id=\"T_fab65_row12_col12\" class=\"data row12 col12\" >1.00</td>\n",
       "            </tr>\n",
       "    </tbody></table>"
      ],
      "text/plain": [
       "<pandas.io.formats.style.Styler at 0x7f22f0bdad10>"
      ]
     },
     "execution_count": 26,
     "metadata": {},
     "output_type": "execute_result"
    }
   ],
   "source": [
    "train.corr().style.background_gradient(cmap='coolwarm').set_precision(2)"
   ]
  },
  {
   "cell_type": "code",
   "execution_count": 27,
   "id": "embedded-falls",
   "metadata": {
    "execution": {
     "iopub.execute_input": "2021-04-25T02:23:22.262860Z",
     "iopub.status.busy": "2021-04-25T02:23:22.262215Z",
     "iopub.status.idle": "2021-04-25T02:23:23.151416Z",
     "shell.execute_reply": "2021-04-25T02:23:23.150894Z"
    },
    "papermill": {
     "duration": 0.957026,
     "end_time": "2021-04-25T02:23:23.151579",
     "exception": false,
     "start_time": "2021-04-25T02:23:22.194553",
     "status": "completed"
    },
    "tags": []
   },
   "outputs": [
    {
     "name": "stdout",
     "output_type": "stream",
     "text": [
      "[0.09917356 0.02687987 0.07525053 0.02750444 0.14471138 0.02395855\n",
      " 0.07157878 0.11176541 0.08328325 0.0262562  0.02569339 0.28394462]\n"
     ]
    },
    {
     "data": {
      "image/png": "[encoded data removed]",
      "text/plain": [
       "<Figure size 1080x432 with 1 Axes>"
      ]
     },
     "metadata": {},
     "output_type": "display_data"
    }
   ],
   "source": [
    "plt.rcParams['figure.figsize']=15,6 \n",
    "sns.set_style(\"darkgrid\")\n",
    "\n",
    "x = train.iloc[:, :-1]\n",
    "y = train.iloc[:,-1]\n",
    "\n",
    "from sklearn.ensemble import ExtraTreesClassifier\n",
    "\n",
    "model = ExtraTreesClassifier()\n",
    "model.fit(x,y)\n",
    "print(model.feature_importances_) \n",
    "feat_importances = pd.Series(model.feature_importances_, index=x.columns)\n",
    "feat_importances.nlargest(12).plot(kind='barh')\n",
    "plt.show()"
   ]
  },
  {
   "cell_type": "code",
   "execution_count": 28,
   "id": "beneficial-trace",
   "metadata": {
    "execution": {
     "iopub.execute_input": "2021-04-25T02:23:23.292777Z",
     "iopub.status.busy": "2021-04-25T02:23:23.291994Z",
     "iopub.status.idle": "2021-04-25T02:23:23.296536Z",
     "shell.execute_reply": "2021-04-25T02:23:23.296025Z"
    },
    "papermill": {
     "duration": 0.084152,
     "end_time": "2021-04-25T02:23:23.296709",
     "exception": false,
     "start_time": "2021-04-25T02:23:23.212557",
     "status": "completed"
    },
    "tags": []
   },
   "outputs": [
    {
     "data": {
      "text/html": [
       "<div>\n",
       "<style scoped>\n",
       "    .dataframe tbody tr th:only-of-type {\n",
       "        vertical-align: middle;\n",
       "    }\n",
       "\n",
       "    .dataframe tbody tr th {\n",
       "        vertical-align: top;\n",
       "    }\n",
       "\n",
       "    .dataframe thead th {\n",
       "        text-align: right;\n",
       "    }\n",
       "</style>\n",
       "<table border=\"1\" class=\"dataframe\">\n",
       "  <thead>\n",
       "    <tr style=\"text-align: right;\">\n",
       "      <th></th>\n",
       "      <th>ejection_fraction</th>\n",
       "      <th>serum_creatinine</th>\n",
       "      <th>serum_sodium</th>\n",
       "      <th>time</th>\n",
       "      <th>DEATH_EVENT</th>\n",
       "    </tr>\n",
       "  </thead>\n",
       "  <tbody>\n",
       "    <tr>\n",
       "      <th>0</th>\n",
       "      <td>20</td>\n",
       "      <td>1.9</td>\n",
       "      <td>130</td>\n",
       "      <td>4</td>\n",
       "      <td>1</td>\n",
       "    </tr>\n",
       "    <tr>\n",
       "      <th>1</th>\n",
       "      <td>38</td>\n",
       "      <td>1.1</td>\n",
       "      <td>136</td>\n",
       "      <td>6</td>\n",
       "      <td>1</td>\n",
       "    </tr>\n",
       "    <tr>\n",
       "      <th>2</th>\n",
       "      <td>20</td>\n",
       "      <td>1.3</td>\n",
       "      <td>129</td>\n",
       "      <td>7</td>\n",
       "      <td>1</td>\n",
       "    </tr>\n",
       "    <tr>\n",
       "      <th>3</th>\n",
       "      <td>20</td>\n",
       "      <td>1.9</td>\n",
       "      <td>137</td>\n",
       "      <td>7</td>\n",
       "      <td>1</td>\n",
       "    </tr>\n",
       "    <tr>\n",
       "      <th>4</th>\n",
       "      <td>20</td>\n",
       "      <td>2.7</td>\n",
       "      <td>116</td>\n",
       "      <td>8</td>\n",
       "      <td>1</td>\n",
       "    </tr>\n",
       "    <tr>\n",
       "      <th>...</th>\n",
       "      <td>...</td>\n",
       "      <td>...</td>\n",
       "      <td>...</td>\n",
       "      <td>...</td>\n",
       "      <td>...</td>\n",
       "    </tr>\n",
       "    <tr>\n",
       "      <th>294</th>\n",
       "      <td>38</td>\n",
       "      <td>1.1</td>\n",
       "      <td>143</td>\n",
       "      <td>270</td>\n",
       "      <td>0</td>\n",
       "    </tr>\n",
       "    <tr>\n",
       "      <th>295</th>\n",
       "      <td>38</td>\n",
       "      <td>1.2</td>\n",
       "      <td>139</td>\n",
       "      <td>271</td>\n",
       "      <td>0</td>\n",
       "    </tr>\n",
       "    <tr>\n",
       "      <th>296</th>\n",
       "      <td>60</td>\n",
       "      <td>0.8</td>\n",
       "      <td>138</td>\n",
       "      <td>278</td>\n",
       "      <td>0</td>\n",
       "    </tr>\n",
       "    <tr>\n",
       "      <th>297</th>\n",
       "      <td>38</td>\n",
       "      <td>1.4</td>\n",
       "      <td>140</td>\n",
       "      <td>280</td>\n",
       "      <td>0</td>\n",
       "    </tr>\n",
       "    <tr>\n",
       "      <th>298</th>\n",
       "      <td>45</td>\n",
       "      <td>1.6</td>\n",
       "      <td>136</td>\n",
       "      <td>285</td>\n",
       "      <td>0</td>\n",
       "    </tr>\n",
       "  </tbody>\n",
       "</table>\n",
       "<p>297 rows × 5 columns</p>\n",
       "</div>"
      ],
      "text/plain": [
       "     ejection_fraction  serum_creatinine  serum_sodium  time  DEATH_EVENT\n",
       "0                   20               1.9           130     4            1\n",
       "1                   38               1.1           136     6            1\n",
       "2                   20               1.3           129     7            1\n",
       "3                   20               1.9           137     7            1\n",
       "4                   20               2.7           116     8            1\n",
       "..                 ...               ...           ...   ...          ...\n",
       "294                 38               1.1           143   270            0\n",
       "295                 38               1.2           139   271            0\n",
       "296                 60               0.8           138   278            0\n",
       "297                 38               1.4           140   280            0\n",
       "298                 45               1.6           136   285            0\n",
       "\n",
       "[297 rows x 5 columns]"
      ]
     },
     "execution_count": 28,
     "metadata": {},
     "output_type": "execute_result"
    }
   ],
   "source": [
    "train=train.drop(['anaemia','creatinine_phosphokinase','diabetes','high_blood_pressure','platelets','sex','smoking','age'],axis=1)\n",
    "train"
   ]
  },
  {
   "cell_type": "code",
   "execution_count": 29,
   "id": "coastal-estate",
   "metadata": {
    "execution": {
     "iopub.execute_input": "2021-04-25T02:23:23.445774Z",
     "iopub.status.busy": "2021-04-25T02:23:23.427170Z",
     "iopub.status.idle": "2021-04-25T02:23:23.450178Z",
     "shell.execute_reply": "2021-04-25T02:23:23.449677Z"
    },
    "papermill": {
     "duration": 0.091084,
     "end_time": "2021-04-25T02:23:23.450360",
     "exception": false,
     "start_time": "2021-04-25T02:23:23.359276",
     "status": "completed"
    },
    "tags": []
   },
   "outputs": [
    {
     "data": {
      "text/html": [
       "<style  type=\"text/css\" >\n",
       "#T_5cb08_row0_col0,#T_5cb08_row1_col1,#T_5cb08_row2_col2,#T_5cb08_row3_col3,#T_5cb08_row4_col4{\n",
       "            background-color:  #b40426;\n",
       "            color:  #f1f1f1;\n",
       "        }#T_5cb08_row0_col1{\n",
       "            background-color:  #5a78e4;\n",
       "            color:  #000000;\n",
       "        }#T_5cb08_row0_col2{\n",
       "            background-color:  #a6c4fe;\n",
       "            color:  #000000;\n",
       "        }#T_5cb08_row0_col3{\n",
       "            background-color:  #bad0f8;\n",
       "            color:  #000000;\n",
       "        }#T_5cb08_row0_col4{\n",
       "            background-color:  #6f92f3;\n",
       "            color:  #000000;\n",
       "        }#T_5cb08_row1_col0{\n",
       "            background-color:  #6b8df0;\n",
       "            color:  #000000;\n",
       "        }#T_5cb08_row1_col2,#T_5cb08_row2_col1,#T_5cb08_row3_col4,#T_5cb08_row4_col0,#T_5cb08_row4_col3{\n",
       "            background-color:  #3b4cc0;\n",
       "            color:  #f1f1f1;\n",
       "        }#T_5cb08_row1_col3{\n",
       "            background-color:  #84a7fc;\n",
       "            color:  #000000;\n",
       "        }#T_5cb08_row1_col4{\n",
       "            background-color:  #e6d7cf;\n",
       "            color:  #000000;\n",
       "        }#T_5cb08_row2_col0{\n",
       "            background-color:  #b3cdfb;\n",
       "            color:  #000000;\n",
       "        }#T_5cb08_row2_col3{\n",
       "            background-color:  #c3d5f4;\n",
       "            color:  #000000;\n",
       "        }#T_5cb08_row2_col4{\n",
       "            background-color:  #82a6fb;\n",
       "            color:  #000000;\n",
       "        }#T_5cb08_row3_col0{\n",
       "            background-color:  #8fb1fe;\n",
       "            color:  #000000;\n",
       "        }#T_5cb08_row3_col1{\n",
       "            background-color:  #3f53c6;\n",
       "            color:  #f1f1f1;\n",
       "        }#T_5cb08_row3_col2{\n",
       "            background-color:  #8caffe;\n",
       "            color:  #000000;\n",
       "        }#T_5cb08_row4_col1{\n",
       "            background-color:  #c4d5f3;\n",
       "            color:  #000000;\n",
       "        }#T_5cb08_row4_col2{\n",
       "            background-color:  #3e51c5;\n",
       "            color:  #f1f1f1;\n",
       "        }</style><table id=\"T_5cb08_\" ><thead>    <tr>        <th class=\"blank level0\" ></th>        <th class=\"col_heading level0 col0\" >ejection_fraction</th>        <th class=\"col_heading level0 col1\" >serum_creatinine</th>        <th class=\"col_heading level0 col2\" >serum_sodium</th>        <th class=\"col_heading level0 col3\" >time</th>        <th class=\"col_heading level0 col4\" >DEATH_EVENT</th>    </tr></thead><tbody>\n",
       "                <tr>\n",
       "                        <th id=\"T_5cb08_level0_row0\" class=\"row_heading level0 row0\" >ejection_fraction</th>\n",
       "                        <td id=\"T_5cb08_row0_col0\" class=\"data row0 col0\" >1.000</td>\n",
       "                        <td id=\"T_5cb08_row0_col1\" class=\"data row0 col1\" >-0.087</td>\n",
       "                        <td id=\"T_5cb08_row0_col2\" class=\"data row0 col2\" >0.180</td>\n",
       "                        <td id=\"T_5cb08_row0_col3\" class=\"data row0 col3\" >0.046</td>\n",
       "                        <td id=\"T_5cb08_row0_col4\" class=\"data row0 col4\" >-0.285</td>\n",
       "            </tr>\n",
       "            <tr>\n",
       "                        <th id=\"T_5cb08_level0_row1\" class=\"row_heading level0 row1\" >serum_creatinine</th>\n",
       "                        <td id=\"T_5cb08_row1_col0\" class=\"data row1 col0\" >-0.087</td>\n",
       "                        <td id=\"T_5cb08_row1_col1\" class=\"data row1 col1\" >1.000</td>\n",
       "                        <td id=\"T_5cb08_row1_col2\" class=\"data row1 col2\" >-0.211</td>\n",
       "                        <td id=\"T_5cb08_row1_col3\" class=\"data row1 col3\" >-0.189</td>\n",
       "                        <td id=\"T_5cb08_row1_col4\" class=\"data row1 col4\" >0.286</td>\n",
       "            </tr>\n",
       "            <tr>\n",
       "                        <th id=\"T_5cb08_level0_row2\" class=\"row_heading level0 row2\" >serum_sodium</th>\n",
       "                        <td id=\"T_5cb08_row2_col0\" class=\"data row2 col0\" >0.180</td>\n",
       "                        <td id=\"T_5cb08_row2_col1\" class=\"data row2 col1\" >-0.211</td>\n",
       "                        <td id=\"T_5cb08_row2_col2\" class=\"data row2 col2\" >1.000</td>\n",
       "                        <td id=\"T_5cb08_row2_col3\" class=\"data row2 col3\" >0.088</td>\n",
       "                        <td id=\"T_5cb08_row2_col4\" class=\"data row2 col4\" >-0.196</td>\n",
       "            </tr>\n",
       "            <tr>\n",
       "                        <th id=\"T_5cb08_level0_row3\" class=\"row_heading level0 row3\" >time</th>\n",
       "                        <td id=\"T_5cb08_row3_col0\" class=\"data row3 col0\" >0.046</td>\n",
       "                        <td id=\"T_5cb08_row3_col1\" class=\"data row3 col1\" >-0.189</td>\n",
       "                        <td id=\"T_5cb08_row3_col2\" class=\"data row3 col2\" >0.088</td>\n",
       "                        <td id=\"T_5cb08_row3_col3\" class=\"data row3 col3\" >1.000</td>\n",
       "                        <td id=\"T_5cb08_row3_col4\" class=\"data row3 col4\" >-0.537</td>\n",
       "            </tr>\n",
       "            <tr>\n",
       "                        <th id=\"T_5cb08_level0_row4\" class=\"row_heading level0 row4\" >DEATH_EVENT</th>\n",
       "                        <td id=\"T_5cb08_row4_col0\" class=\"data row4 col0\" >-0.285</td>\n",
       "                        <td id=\"T_5cb08_row4_col1\" class=\"data row4 col1\" >0.286</td>\n",
       "                        <td id=\"T_5cb08_row4_col2\" class=\"data row4 col2\" >-0.196</td>\n",
       "                        <td id=\"T_5cb08_row4_col3\" class=\"data row4 col3\" >-0.537</td>\n",
       "                        <td id=\"T_5cb08_row4_col4\" class=\"data row4 col4\" >1.000</td>\n",
       "            </tr>\n",
       "    </tbody></table>"
      ],
      "text/plain": [
       "<pandas.io.formats.style.Styler at 0x7f22f0ccd290>"
      ]
     },
     "execution_count": 29,
     "metadata": {},
     "output_type": "execute_result"
    }
   ],
   "source": [
    "train.corr().style.background_gradient(cmap='coolwarm').set_precision(3)"
   ]
  },
  {
   "cell_type": "code",
   "execution_count": 30,
   "id": "incorrect-interview",
   "metadata": {
    "execution": {
     "iopub.execute_input": "2021-04-25T02:23:23.585288Z",
     "iopub.status.busy": "2021-04-25T02:23:23.584616Z",
     "iopub.status.idle": "2021-04-25T02:23:23.589391Z",
     "shell.execute_reply": "2021-04-25T02:23:23.588710Z"
    },
    "papermill": {
     "duration": 0.075469,
     "end_time": "2021-04-25T02:23:23.589538",
     "exception": false,
     "start_time": "2021-04-25T02:23:23.514069",
     "status": "completed"
    },
    "tags": []
   },
   "outputs": [
    {
     "name": "stdout",
     "output_type": "stream",
     "text": [
      "(297, 4)\n",
      "(297,)\n"
     ]
    }
   ],
   "source": [
    "from sklearn.model_selection import train_test_split\n",
    "from sklearn import metrics\n",
    "from sklearn.metrics import accuracy_score\n",
    "x=train.drop('DEATH_EVENT',axis=1)\n",
    "y=train.DEATH_EVENT\n",
    "print(x.shape)\n",
    "print(y.shape)"
   ]
  },
  {
   "cell_type": "code",
   "execution_count": 31,
   "id": "greek-patio",
   "metadata": {
    "execution": {
     "iopub.execute_input": "2021-04-25T02:23:23.731456Z",
     "iopub.status.busy": "2021-04-25T02:23:23.723875Z",
     "iopub.status.idle": "2021-04-25T02:23:23.736460Z",
     "shell.execute_reply": "2021-04-25T02:23:23.736985Z"
    },
    "papermill": {
     "duration": 0.084477,
     "end_time": "2021-04-25T02:23:23.737190",
     "exception": false,
     "start_time": "2021-04-25T02:23:23.652713",
     "status": "completed"
    },
    "tags": []
   },
   "outputs": [
    {
     "name": "stdout",
     "output_type": "stream",
     "text": [
      "     ejection_fraction  serum_creatinine  serum_sodium  time\n",
      "145                 30              0.70           141   112\n",
      "98                  25              1.20           137    85\n",
      "196                 38              1.18           137   185\n",
      "97                  60              1.10           136    85\n",
      "16                  38              0.90           140    14\n",
      "..                 ...               ...           ...   ...\n",
      "91                  45              1.00           133    80\n",
      "203                 25              3.50           136   187\n",
      "253                 35              1.20           132   215\n",
      "127                 60              0.80           137   104\n",
      "279                 38              1.30           136   246\n",
      "\n",
      "[207 rows x 4 columns]\n",
      "256    0\n",
      "50     1\n",
      "229    0\n",
      "65     1\n",
      "36     1\n",
      "      ..\n",
      "102    0\n",
      "147    0\n",
      "282    0\n",
      "37     1\n",
      "264    0\n",
      "Name: DEATH_EVENT, Length: 90, dtype: int64\n"
     ]
    }
   ],
   "source": [
    "x_train,x_test,y_train,y_test = train_test_split(x,y,test_size=0.3)\n",
    "print(x_train)\n",
    "print(y_test)"
   ]
  },
  {
   "cell_type": "code",
   "execution_count": 32,
   "id": "olive-creation",
   "metadata": {
    "execution": {
     "iopub.execute_input": "2021-04-25T02:23:23.878460Z",
     "iopub.status.busy": "2021-04-25T02:23:23.873575Z",
     "iopub.status.idle": "2021-04-25T02:23:23.881290Z",
     "shell.execute_reply": "2021-04-25T02:23:23.881767Z"
    },
    "papermill": {
     "duration": 0.079694,
     "end_time": "2021-04-25T02:23:23.881984",
     "exception": false,
     "start_time": "2021-04-25T02:23:23.802290",
     "status": "completed"
    },
    "tags": []
   },
   "outputs": [],
   "source": [
    "from sklearn.preprocessing import StandardScaler\n",
    "sc = StandardScaler()\n",
    "x_train = sc.fit_transform(x_train)\n",
    "x_test = sc.transform(x_test)"
   ]
  },
  {
   "cell_type": "code",
   "execution_count": 33,
   "id": "protective-directive",
   "metadata": {
    "execution": {
     "iopub.execute_input": "2021-04-25T02:23:24.034323Z",
     "iopub.status.busy": "2021-04-25T02:23:24.033464Z",
     "iopub.status.idle": "2021-04-25T02:23:24.037456Z",
     "shell.execute_reply": "2021-04-25T02:23:24.036827Z"
    },
    "papermill": {
     "duration": 0.091115,
     "end_time": "2021-04-25T02:23:24.037601",
     "exception": false,
     "start_time": "2021-04-25T02:23:23.946486",
     "status": "completed"
    },
    "tags": []
   },
   "outputs": [
    {
     "name": "stdout",
     "output_type": "stream",
     "text": [
      "[[56  2]\n",
      " [14 18]]\n",
      "0.8222222222222222\n"
     ]
    }
   ],
   "source": [
    "\n",
    "from sklearn.linear_model import LogisticRegression\n",
    "from sklearn.metrics import confusion_matrix, accuracy_score\n",
    "\n",
    "model = LogisticRegression()\n",
    "\n",
    "#Fit the model\n",
    "model.fit(x_train, y_train)\n",
    "y_pred = model.predict(x_test)\n",
    "\n",
    "mylist = []\n",
    "# Confusion Matrix\n",
    "cm = confusion_matrix(y_test, y_pred)\n",
    "# accuracy score\n",
    "acc_logreg = accuracy_score(y_test, y_pred)\n",
    "\n",
    "mylist.append(acc_logreg)\n",
    "print(cm)\n",
    "print(acc_logreg)"
   ]
  },
  {
   "cell_type": "code",
   "execution_count": 34,
   "id": "utility-cartoon",
   "metadata": {
    "execution": {
     "iopub.execute_input": "2021-04-25T02:23:24.180312Z",
     "iopub.status.busy": "2021-04-25T02:23:24.179289Z",
     "iopub.status.idle": "2021-04-25T02:23:24.427000Z",
     "shell.execute_reply": "2021-04-25T02:23:24.426285Z"
    },
    "papermill": {
     "duration": 0.322638,
     "end_time": "2021-04-25T02:23:24.427174",
     "exception": false,
     "start_time": "2021-04-25T02:23:24.104536",
     "status": "completed"
    },
    "tags": []
   },
   "outputs": [
    {
     "data": {
      "image/png": "[encoded data removed]",
      "text/plain": [
       "<Figure size 1080x432 with 1 Axes>"
      ]
     },
     "metadata": {},
     "output_type": "display_data"
    }
   ],
   "source": [
    "from sklearn.neighbors import KNeighborsClassifier\n",
    "from sklearn.metrics import confusion_matrix, accuracy_score\n",
    "\n",
    "list1 = []\n",
    "for neighbors in range(3,10):\n",
    "    classifier = KNeighborsClassifier(n_neighbors=neighbors, metric='minkowski')\n",
    "    classifier.fit(x_train, y_train)\n",
    "    y_pred = classifier.predict(x_test)\n",
    "    list1.append(accuracy_score(y_test,y_pred))\n",
    "plt.plot(list(range(3,10)), list1)\n",
    "plt.show()"
   ]
  },
  {
   "cell_type": "code",
   "execution_count": 35,
   "id": "legislative-belly",
   "metadata": {
    "execution": {
     "iopub.execute_input": "2021-04-25T02:23:24.567027Z",
     "iopub.status.busy": "2021-04-25T02:23:24.565970Z",
     "iopub.status.idle": "2021-04-25T02:23:24.575069Z",
     "shell.execute_reply": "2021-04-25T02:23:24.574510Z"
    },
    "papermill": {
     "duration": 0.081369,
     "end_time": "2021-04-25T02:23:24.575232",
     "exception": false,
     "start_time": "2021-04-25T02:23:24.493863",
     "status": "completed"
    },
    "tags": []
   },
   "outputs": [
    {
     "data": {
      "text/plain": [
       "KNeighborsClassifier()"
      ]
     },
     "execution_count": 35,
     "metadata": {},
     "output_type": "execute_result"
    }
   ],
   "source": [
    "classifier = KNeighborsClassifier(n_neighbors=5)\n",
    "classifier.fit(x_train, y_train)"
   ]
  },
  {
   "cell_type": "code",
   "execution_count": 36,
   "id": "expired-therapy",
   "metadata": {
    "execution": {
     "iopub.execute_input": "2021-04-25T02:23:24.715630Z",
     "iopub.status.busy": "2021-04-25T02:23:24.714985Z",
     "iopub.status.idle": "2021-04-25T02:23:24.724307Z",
     "shell.execute_reply": "2021-04-25T02:23:24.723554Z"
    },
    "papermill": {
     "duration": 0.082209,
     "end_time": "2021-04-25T02:23:24.724503",
     "exception": false,
     "start_time": "2021-04-25T02:23:24.642294",
     "status": "completed"
    },
    "tags": []
   },
   "outputs": [
    {
     "name": "stdout",
     "output_type": "stream",
     "text": [
      "[0 0 0 1 1 0 0 1 0 1 0 0 0 1 0 0 0 1 0 0 0 0 1 0 0 0 0 0 0 0 0 0 0 1 0 1 0\n",
      " 0 0 0 0 0 1 0 1 0 1 0 0 0 1 1 0 0 0 1 0 0 0 0 0 0 1 1 0 0 0 0 0 0 1 0 0 0\n",
      " 1 1 0 1 0 1 0 0 0 1 0 0 0 0 0 0]\n"
     ]
    }
   ],
   "source": [
    "y_pred = classifier.predict(x_test)\n",
    "print(y_pred)"
   ]
  },
  {
   "cell_type": "code",
   "execution_count": 37,
   "id": "flexible-drove",
   "metadata": {
    "execution": {
     "iopub.execute_input": "2021-04-25T02:23:24.865968Z",
     "iopub.status.busy": "2021-04-25T02:23:24.864999Z",
     "iopub.status.idle": "2021-04-25T02:23:24.872195Z",
     "shell.execute_reply": "2021-04-25T02:23:24.872636Z"
    },
    "papermill": {
     "duration": 0.079736,
     "end_time": "2021-04-25T02:23:24.872842",
     "exception": false,
     "start_time": "2021-04-25T02:23:24.793106",
     "status": "completed"
    },
    "tags": []
   },
   "outputs": [
    {
     "name": "stdout",
     "output_type": "stream",
     "text": [
      "[[54  4]\n",
      " [13 19]]\n",
      "0.8111111111111111\n"
     ]
    }
   ],
   "source": [
    "from sklearn.metrics import confusion_matrix, accuracy_score\n",
    "cm = confusion_matrix(y_test, y_pred)\n",
    "acc_knn = accuracy_score(y_test, y_pred)\n",
    "mylist.append(acc_knn)\n",
    "print(cm)\n",
    "print(acc_knn)"
   ]
  },
  {
   "cell_type": "code",
   "execution_count": 38,
   "id": "surprising-example",
   "metadata": {
    "execution": {
     "iopub.execute_input": "2021-04-25T02:23:25.017306Z",
     "iopub.status.busy": "2021-04-25T02:23:25.016590Z",
     "iopub.status.idle": "2021-04-25T02:23:25.234727Z",
     "shell.execute_reply": "2021-04-25T02:23:25.234204Z"
    },
    "papermill": {
     "duration": 0.295152,
     "end_time": "2021-04-25T02:23:25.234889",
     "exception": false,
     "start_time": "2021-04-25T02:23:24.939737",
     "status": "completed"
    },
    "tags": []
   },
   "outputs": [
    {
     "data": {
      "image/png": "[encoded data removed]",
      "text/plain": [
       "<Figure size 1080x432 with 1 Axes>"
      ]
     },
     "metadata": {},
     "output_type": "display_data"
    }
   ],
   "source": [
    "from sklearn.svm import SVC\n",
    "from sklearn.metrics import confusion_matrix, accuracy_score\n",
    "list1 = []\n",
    "for c in [0.5,0.6,0.7,0.8,0.9,1.0]:\n",
    "    classifier = SVC(C = c, random_state=0, kernel = 'rbf')\n",
    "    classifier.fit(x_train, y_train)\n",
    "    y_pred = classifier.predict(x_test)\n",
    "    list1.append(accuracy_score(y_test,y_pred))\n",
    "plt.plot([0.5,0.6,0.7,0.8,0.9,1.0], list1)\n",
    "plt.show()"
   ]
  },
  {
   "cell_type": "code",
   "execution_count": 39,
   "id": "advised-spectrum",
   "metadata": {
    "execution": {
     "iopub.execute_input": "2021-04-25T02:23:25.378837Z",
     "iopub.status.busy": "2021-04-25T02:23:25.378164Z",
     "iopub.status.idle": "2021-04-25T02:23:25.384464Z",
     "shell.execute_reply": "2021-04-25T02:23:25.385061Z"
    },
    "papermill": {
     "duration": 0.082329,
     "end_time": "2021-04-25T02:23:25.385228",
     "exception": false,
     "start_time": "2021-04-25T02:23:25.302899",
     "status": "completed"
    },
    "tags": []
   },
   "outputs": [
    {
     "data": {
      "text/plain": [
       "SVC(C=0.7, random_state=0)"
      ]
     },
     "execution_count": 39,
     "metadata": {},
     "output_type": "execute_result"
    }
   ],
   "source": [
    "from sklearn.svm import SVC\n",
    "classifier = SVC(C = 0.7, random_state=0, kernel = 'rbf')\n",
    "classifier.fit(x_train, y_train)"
   ]
  },
  {
   "cell_type": "code",
   "execution_count": 40,
   "id": "analyzed-proposition",
   "metadata": {
    "execution": {
     "iopub.execute_input": "2021-04-25T02:23:25.527192Z",
     "iopub.status.busy": "2021-04-25T02:23:25.526489Z",
     "iopub.status.idle": "2021-04-25T02:23:25.534779Z",
     "shell.execute_reply": "2021-04-25T02:23:25.533827Z"
    },
    "papermill": {
     "duration": 0.080675,
     "end_time": "2021-04-25T02:23:25.534971",
     "exception": false,
     "start_time": "2021-04-25T02:23:25.454296",
     "status": "completed"
    },
    "tags": []
   },
   "outputs": [
    {
     "name": "stdout",
     "output_type": "stream",
     "text": [
      "[0 1 0 1 0 0 0 1 0 1 0 0 0 1 0 0 0 1 0 0 0 0 1 0 0 0 0 0 0 0 0 0 0 1 0 1 0\n",
      " 0 0 0 0 0 1 0 1 1 1 0 0 0 1 0 0 0 0 1 0 0 0 0 0 0 0 0 0 0 0 0 0 0 1 0 0 0\n",
      " 0 0 0 1 0 0 0 0 0 1 1 0 0 0 0 0]\n"
     ]
    }
   ],
   "source": [
    "y_pred = classifier.predict(x_test)\n",
    "print(y_pred)"
   ]
  },
  {
   "cell_type": "code",
   "execution_count": 41,
   "id": "plain-inventory",
   "metadata": {
    "execution": {
     "iopub.execute_input": "2021-04-25T02:23:25.700566Z",
     "iopub.status.busy": "2021-04-25T02:23:25.699525Z",
     "iopub.status.idle": "2021-04-25T02:23:25.706593Z",
     "shell.execute_reply": "2021-04-25T02:23:25.706044Z"
    },
    "papermill": {
     "duration": 0.10115,
     "end_time": "2021-04-25T02:23:25.706815",
     "exception": false,
     "start_time": "2021-04-25T02:23:25.605665",
     "status": "completed"
    },
    "tags": []
   },
   "outputs": [
    {
     "name": "stdout",
     "output_type": "stream",
     "text": [
      "[[56  2]\n",
      " [15 17]]\n",
      "0.8111111111111111\n"
     ]
    }
   ],
   "source": [
    "from sklearn.metrics import confusion_matrix, accuracy_score\n",
    "cm = confusion_matrix(y_test, y_pred)\n",
    "acc_svc = accuracy_score(y_test, y_pred)\n",
    "print(cm)\n",
    "print(acc_svc)\n",
    "mylist.append(acc_svc)"
   ]
  },
  {
   "cell_type": "code",
   "execution_count": 42,
   "id": "chinese-anthony",
   "metadata": {
    "execution": {
     "iopub.execute_input": "2021-04-25T02:23:25.856988Z",
     "iopub.status.busy": "2021-04-25T02:23:25.856337Z",
     "iopub.status.idle": "2021-04-25T02:23:26.081942Z",
     "shell.execute_reply": "2021-04-25T02:23:26.082391Z"
    },
    "papermill": {
     "duration": 0.304998,
     "end_time": "2021-04-25T02:23:26.082576",
     "exception": false,
     "start_time": "2021-04-25T02:23:25.777578",
     "status": "completed"
    },
    "tags": []
   },
   "outputs": [
    {
     "data": {
      "image/png": "[encoded data removed]",
      "text/plain": [
       "<Figure size 1080x432 with 1 Axes>"
      ]
     },
     "metadata": {},
     "output_type": "display_data"
    }
   ],
   "source": [
    "from sklearn.tree import DecisionTreeClassifier\n",
    "from sklearn.metrics import confusion_matrix, accuracy_score\n",
    "list1 = []\n",
    "for leaves in range(2,15):\n",
    "    classifier = DecisionTreeClassifier(max_leaf_nodes = leaves, random_state=0, criterion='entropy')\n",
    "    classifier.fit(x_train, y_train)\n",
    "    y_pred = classifier.predict(x_test)\n",
    "    list1.append(accuracy_score(y_test,y_pred))\n",
    "#print(mylist)\n",
    "plt.plot(list(range(2,15)), list1)\n",
    "plt.show()"
   ]
  },
  {
   "cell_type": "code",
   "execution_count": 43,
   "id": "wireless-perry",
   "metadata": {
    "execution": {
     "iopub.execute_input": "2021-04-25T02:23:26.234769Z",
     "iopub.status.busy": "2021-04-25T02:23:26.234088Z",
     "iopub.status.idle": "2021-04-25T02:23:26.241133Z",
     "shell.execute_reply": "2021-04-25T02:23:26.240456Z"
    },
    "papermill": {
     "duration": 0.08619,
     "end_time": "2021-04-25T02:23:26.241288",
     "exception": false,
     "start_time": "2021-04-25T02:23:26.155098",
     "status": "completed"
    },
    "tags": []
   },
   "outputs": [
    {
     "data": {
      "text/plain": [
       "DecisionTreeClassifier(criterion='entropy', max_leaf_nodes=10, random_state=0)"
      ]
     },
     "execution_count": 43,
     "metadata": {},
     "output_type": "execute_result"
    }
   ],
   "source": [
    "classifier = DecisionTreeClassifier(max_leaf_nodes = 10, random_state=0, criterion='entropy')\n",
    "classifier.fit(x_train, y_train)"
   ]
  },
  {
   "cell_type": "code",
   "execution_count": 44,
   "id": "consolidated-canvas",
   "metadata": {
    "execution": {
     "iopub.execute_input": "2021-04-25T02:23:26.393057Z",
     "iopub.status.busy": "2021-04-25T02:23:26.392246Z",
     "iopub.status.idle": "2021-04-25T02:23:26.397421Z",
     "shell.execute_reply": "2021-04-25T02:23:26.396903Z"
    },
    "papermill": {
     "duration": 0.084256,
     "end_time": "2021-04-25T02:23:26.397575",
     "exception": false,
     "start_time": "2021-04-25T02:23:26.313319",
     "status": "completed"
    },
    "tags": []
   },
   "outputs": [
    {
     "name": "stdout",
     "output_type": "stream",
     "text": [
      "[0 1 1 1 1 0 0 1 0 1 1 0 0 1 0 0 0 1 0 1 1 0 1 0 0 1 0 0 0 0 0 0 1 0 0 1 0\n",
      " 1 0 0 0 0 0 0 1 1 1 0 0 0 1 0 0 0 0 1 0 0 0 1 0 1 0 1 0 0 1 0 1 0 1 0 0 0\n",
      " 1 0 0 0 0 1 0 0 0 0 1 1 0 0 1 0]\n"
     ]
    }
   ],
   "source": [
    "y_pred = classifier.predict(x_test)\n",
    "print(y_pred)"
   ]
  },
  {
   "cell_type": "code",
   "execution_count": 45,
   "id": "wanted-effect",
   "metadata": {
    "execution": {
     "iopub.execute_input": "2021-04-25T02:23:26.551746Z",
     "iopub.status.busy": "2021-04-25T02:23:26.550827Z",
     "iopub.status.idle": "2021-04-25T02:23:26.556449Z",
     "shell.execute_reply": "2021-04-25T02:23:26.557048Z"
    },
    "papermill": {
     "duration": 0.088055,
     "end_time": "2021-04-25T02:23:26.557234",
     "exception": false,
     "start_time": "2021-04-25T02:23:26.469179",
     "status": "completed"
    },
    "tags": []
   },
   "outputs": [
    {
     "name": "stdout",
     "output_type": "stream",
     "text": [
      "[[49  9]\n",
      " [ 9 23]]\n",
      "0.8\n"
     ]
    }
   ],
   "source": [
    "from sklearn.metrics import confusion_matrix, accuracy_score\n",
    "cm = confusion_matrix(y_test, y_pred)\n",
    "acc_decisiontree = accuracy_score(y_test, y_pred)\n",
    "print(cm)\n",
    "print(acc_decisiontree)\n",
    "mylist.append(acc_decisiontree)"
   ]
  },
  {
   "cell_type": "code",
   "execution_count": 46,
   "id": "arranged-mother",
   "metadata": {
    "execution": {
     "iopub.execute_input": "2021-04-25T02:23:26.711113Z",
     "iopub.status.busy": "2021-04-25T02:23:26.710398Z",
     "iopub.status.idle": "2021-04-25T02:23:27.782479Z",
     "shell.execute_reply": "2021-04-25T02:23:27.781961Z"
    },
    "papermill": {
     "duration": 1.15234,
     "end_time": "2021-04-25T02:23:27.782622",
     "exception": false,
     "start_time": "2021-04-25T02:23:26.630282",
     "status": "completed"
    },
    "tags": []
   },
   "outputs": [
    {
     "data": {
      "image/png": "[encoded data removed]",
      "text/plain": [
       "<Figure size 1080x432 with 1 Axes>"
      ]
     },
     "metadata": {},
     "output_type": "display_data"
    }
   ],
   "source": [
    "from sklearn.ensemble import RandomForestClassifier\n",
    "from sklearn.metrics import confusion_matrix, accuracy_score\n",
    "list1 = []\n",
    "for estimators in range(10,30):\n",
    "    classifier = RandomForestClassifier(n_estimators = estimators, random_state=0, criterion='entropy')\n",
    "    classifier.fit(x_train, y_train)\n",
    "    y_pred = classifier.predict(x_test)\n",
    "    list1.append(accuracy_score(y_test,y_pred))\n",
    "#print(mylist)\n",
    "plt.plot(list(range(10,30)), list1)\n",
    "plt.show()"
   ]
  },
  {
   "cell_type": "code",
   "execution_count": 47,
   "id": "copyrighted-image",
   "metadata": {
    "execution": {
     "iopub.execute_input": "2021-04-25T02:23:27.933725Z",
     "iopub.status.busy": "2021-04-25T02:23:27.932758Z",
     "iopub.status.idle": "2021-04-25T02:23:27.971668Z",
     "shell.execute_reply": "2021-04-25T02:23:27.972211Z"
    },
    "papermill": {
     "duration": 0.116364,
     "end_time": "2021-04-25T02:23:27.972421",
     "exception": false,
     "start_time": "2021-04-25T02:23:27.856057",
     "status": "completed"
    },
    "tags": []
   },
   "outputs": [
    {
     "data": {
      "text/plain": [
       "RandomForestClassifier(criterion='entropy', n_estimators=15, random_state=0)"
      ]
     },
     "execution_count": 47,
     "metadata": {},
     "output_type": "execute_result"
    }
   ],
   "source": [
    "from sklearn.ensemble import RandomForestClassifier\n",
    "classifier = RandomForestClassifier(n_estimators = 15, criterion='entropy', random_state=0)\n",
    "classifier.fit(x_train,y_train)"
   ]
  },
  {
   "cell_type": "code",
   "execution_count": 48,
   "id": "happy-permit",
   "metadata": {
    "execution": {
     "iopub.execute_input": "2021-04-25T02:23:28.125884Z",
     "iopub.status.busy": "2021-04-25T02:23:28.125239Z",
     "iopub.status.idle": "2021-04-25T02:23:28.134244Z",
     "shell.execute_reply": "2021-04-25T02:23:28.134738Z"
    },
    "papermill": {
     "duration": 0.08747,
     "end_time": "2021-04-25T02:23:28.135011",
     "exception": false,
     "start_time": "2021-04-25T02:23:28.047541",
     "status": "completed"
    },
    "tags": []
   },
   "outputs": [
    {
     "name": "stdout",
     "output_type": "stream",
     "text": [
      "[0 0 0 1 0 0 0 1 0 1 1 0 0 0 0 0 0 1 0 1 0 0 1 0 0 0 0 0 0 0 0 0 0 1 0 1 0\n",
      " 0 0 0 0 0 0 0 1 0 1 0 0 0 1 0 0 0 0 0 0 0 0 1 0 1 0 1 0 0 0 0 0 0 1 0 0 0\n",
      " 1 0 0 1 0 0 0 0 0 1 0 0 0 0 1 0]\n"
     ]
    }
   ],
   "source": [
    "y_pred = classifier.predict(x_test)\n",
    "print(y_pred)"
   ]
  },
  {
   "cell_type": "code",
   "execution_count": 49,
   "id": "supreme-brooks",
   "metadata": {
    "execution": {
     "iopub.execute_input": "2021-04-25T02:23:28.294297Z",
     "iopub.status.busy": "2021-04-25T02:23:28.293542Z",
     "iopub.status.idle": "2021-04-25T02:23:28.297078Z",
     "shell.execute_reply": "2021-04-25T02:23:28.297612Z"
    },
    "papermill": {
     "duration": 0.087866,
     "end_time": "2021-04-25T02:23:28.297911",
     "exception": false,
     "start_time": "2021-04-25T02:23:28.210045",
     "status": "completed"
    },
    "tags": []
   },
   "outputs": [
    {
     "name": "stdout",
     "output_type": "stream",
     "text": [
      "[[56  2]\n",
      " [14 18]]\n",
      "0.8222222222222222\n"
     ]
    }
   ],
   "source": [
    "from sklearn.metrics import confusion_matrix, accuracy_score\n",
    "cm = confusion_matrix(y_test, y_pred)\n",
    "acc_randomforest = accuracy_score(y_test, y_pred)\n",
    "mylist.append(acc_randomforest)\n",
    "print(cm)\n",
    "print(acc_randomforest)"
   ]
  }
 ],
 "metadata": {
  "kernelspec": {
   "display_name": "Python 3",
   "language": "python",
   "name": "python3"
  },
  "language_info": {
   "codemirror_mode": {
    "name": "ipython",
    "version": 3
   },
   "file_extension": ".py",
   "mimetype": "text/x-python",
   "name": "python",
   "nbconvert_exporter": "python",
   "pygments_lexer": "ipython3",
   "version": "3.7.10"
  },
  "papermill": {
   "default_parameters": {},
   "duration": 28.948534,
   "end_time": "2021-04-25T02:23:29.703312",
   "environment_variables": {},
   "exception": null,
   "input_path": "__notebook__.ipynb",
   "output_path": "__notebook__.ipynb",
   "parameters": {},
   "start_time": "2021-04-25T02:23:00.754778",
   "version": "2.3.3"
  }
 },
 "nbformat": 4,
 "nbformat_minor": 5
}
