{
  "nbformat": 4,
  "nbformat_minor": 0,
  "metadata": {
    "colab": {
      "name": "pytorch_hello_world.ipynb",
      "provenance": [],
      "include_colab_link": true
    },
    "kernelspec": {
      "name": "python3",
      "display_name": "Python 3"
    }
  },
  "cells": [
    {
      "cell_type": "markdown",
      "metadata": {
        "id": "view-in-github",
        "colab_type": "text"
      },
      "source": [
        "<a href=\"https://colab.research.google.com/github/benvictoria21/python-machine-learning/blob/master/pytorch_hello_world.ipynb\" target=\"_parent\"><img src=\"https://colab.research.google.com/assets/colab-badge.svg\" alt=\"Open In Colab\"/></a>"
      ]
    },
    {
      "cell_type": "code",
      "metadata": {
        "id": "7Exoj-CDskQD",
        "colab_type": "code",
        "colab": {
          "base_uri": "https://localhost:8080/",
          "height": 101
        },
        "outputId": "b59e37bc-c18c-4226-f604-5cc24f63043a"
      },
      "source": [
        "!pip3 install torch torchvision"
      ],
      "execution_count": 1,
      "outputs": [
        {
          "output_type": "stream",
          "text": [
            "Requirement already satisfied: torch in /usr/local/lib/python3.6/dist-packages (1.6.0+cu101)\n",
            "Requirement already satisfied: torchvision in /usr/local/lib/python3.6/dist-packages (0.7.0+cu101)\n",
            "Requirement already satisfied: future in /usr/local/lib/python3.6/dist-packages (from torch) (0.16.0)\n",
            "Requirement already satisfied: numpy in /usr/local/lib/python3.6/dist-packages (from torch) (1.18.5)\n",
            "Requirement already satisfied: pillow>=4.1.1 in /usr/local/lib/python3.6/dist-packages (from torchvision) (7.0.0)\n"
          ],
          "name": "stdout"
        }
      ]
    },
    {
      "cell_type": "code",
      "metadata": {
        "id": "FuhJIaeXO2W9",
        "colab_type": "code",
        "colab": {
          "base_uri": "https://localhost:8080/",
          "height": 34
        },
        "outputId": "567f0269-77fd-4c49-acad-f42d87d7c5a1"
      },
      "source": [
        "## The usual imports\n",
        "import torch\n",
        "import torch.nn as nn\n",
        "\n",
        "## print out the pytorch version used\n",
        "print(torch.__version__)"
      ],
      "execution_count": 2,
      "outputs": [
        {
          "output_type": "stream",
          "text": [
            "1.6.0+cu101\n"
          ],
          "name": "stdout"
        }
      ]
    },
    {
      "cell_type": "code",
      "metadata": {
        "id": "JWFtgUX85iwO",
        "colab_type": "code",
        "colab": {}
      },
      "source": [
        "## our data in tensor form\n",
        "x = torch.tensor([[-1.0],  [0.0], [1.0], [2.0], [3.0], [4.0]], dtype=torch.float)\n",
        "y = torch.tensor([[-3.0], [-1.0], [1.0], [3.0], [5.0], [7.0]], dtype=torch.float)"
      ],
      "execution_count": 3,
      "outputs": []
    },
    {
      "cell_type": "code",
      "metadata": {
        "id": "NcQUjR_95z5J",
        "colab_type": "code",
        "colab": {
          "base_uri": "https://localhost:8080/",
          "height": 34
        },
        "outputId": "1ccf5d70-9cea-45a9-d40e-9f714d0cb72b"
      },
      "source": [
        "## print size of the input tensor\n",
        "x.size()"
      ],
      "execution_count": 4,
      "outputs": [
        {
          "output_type": "execute_result",
          "data": {
            "text/plain": [
              "torch.Size([6, 1])"
            ]
          },
          "metadata": {
            "tags": []
          },
          "execution_count": 4
        }
      ]
    },
    {
      "cell_type": "code",
      "metadata": {
        "id": "N1Ii5JRz3Jud",
        "colab_type": "code",
        "colab": {}
      },
      "source": [
        "## Neural network with 1 hidden layer\n",
        "layer1 = nn.Linear(1,1, bias=False)\n",
        "model = nn.Sequential(layer1)"
      ],
      "execution_count": 5,
      "outputs": []
    },
    {
      "cell_type": "code",
      "metadata": {
        "id": "3hglFpejArxx",
        "colab_type": "code",
        "colab": {}
      },
      "source": [
        "## loss function\n",
        "criterion = nn.MSELoss()\n",
        "\n",
        "## optimizer algorithm\n",
        "optimizer = torch.optim.SGD(model.parameters(), lr=0.01)"
      ],
      "execution_count": 6,
      "outputs": []
    },
    {
      "cell_type": "code",
      "metadata": {
        "id": "JeOr9i-aBzRv",
        "colab_type": "code",
        "colab": {
          "base_uri": "https://localhost:8080/",
          "height": 1000
        },
        "outputId": "31e7328d-dcb3-4262-cdc3-36cd6830f78a"
      },
      "source": [
        "## training\n",
        "epoch = 150\n",
        "for i in range(150):\n",
        "    model = model.train()\n",
        "    train_running_loss = 0.0\n",
        "\n",
        "    ## forward\n",
        "    output = model(x)\n",
        "    loss = criterion(output, y)\n",
        "    optimizer.zero_grad()\n",
        "\n",
        "    ## backward + update model params \n",
        "    loss.backward()\n",
        "    optimizer.step()\n",
        "    train_running_loss += loss.detach().item()\n",
        "\n",
        "    model.eval()\n",
        "    print('Epoch: %d | Loss: %.4f' %(i, train_running_loss) )"
      ],
      "execution_count": 7,
      "outputs": [
        {
          "output_type": "stream",
          "text": [
            "Epoch: 0 | Loss: 30.4442\n",
            "Epoch: 1 | Loss: 24.5881\n",
            "Epoch: 2 | Loss: 19.8798\n",
            "Epoch: 3 | Loss: 16.0942\n",
            "Epoch: 4 | Loss: 13.0505\n",
            "Epoch: 5 | Loss: 10.6034\n",
            "Epoch: 6 | Loss: 8.6359\n",
            "Epoch: 7 | Loss: 7.0540\n",
            "Epoch: 8 | Loss: 5.7821\n",
            "Epoch: 9 | Loss: 4.7595\n",
            "Epoch: 10 | Loss: 3.9374\n",
            "Epoch: 11 | Loss: 3.2763\n",
            "Epoch: 12 | Loss: 2.7448\n",
            "Epoch: 13 | Loss: 2.3175\n",
            "Epoch: 14 | Loss: 1.9739\n",
            "Epoch: 15 | Loss: 1.6977\n",
            "Epoch: 16 | Loss: 1.4756\n",
            "Epoch: 17 | Loss: 1.2971\n",
            "Epoch: 18 | Loss: 1.1535\n",
            "Epoch: 19 | Loss: 1.0381\n",
            "Epoch: 20 | Loss: 0.9452\n",
            "Epoch: 21 | Loss: 0.8706\n",
            "Epoch: 22 | Loss: 0.8106\n",
            "Epoch: 23 | Loss: 0.7624\n",
            "Epoch: 24 | Loss: 0.7236\n",
            "Epoch: 25 | Loss: 0.6924\n",
            "Epoch: 26 | Loss: 0.6674\n",
            "Epoch: 27 | Loss: 0.6472\n",
            "Epoch: 28 | Loss: 0.6310\n",
            "Epoch: 29 | Loss: 0.6180\n",
            "Epoch: 30 | Loss: 0.6075\n",
            "Epoch: 31 | Loss: 0.5991\n",
            "Epoch: 32 | Loss: 0.5923\n",
            "Epoch: 33 | Loss: 0.5869\n",
            "Epoch: 34 | Loss: 0.5825\n",
            "Epoch: 35 | Loss: 0.5790\n",
            "Epoch: 36 | Loss: 0.5761\n",
            "Epoch: 37 | Loss: 0.5739\n",
            "Epoch: 38 | Loss: 0.5720\n",
            "Epoch: 39 | Loss: 0.5706\n",
            "Epoch: 40 | Loss: 0.5694\n",
            "Epoch: 41 | Loss: 0.5684\n",
            "Epoch: 42 | Loss: 0.5677\n",
            "Epoch: 43 | Loss: 0.5670\n",
            "Epoch: 44 | Loss: 0.5665\n",
            "Epoch: 45 | Loss: 0.5661\n",
            "Epoch: 46 | Loss: 0.5658\n",
            "Epoch: 47 | Loss: 0.5656\n",
            "Epoch: 48 | Loss: 0.5654\n",
            "Epoch: 49 | Loss: 0.5652\n",
            "Epoch: 50 | Loss: 0.5651\n",
            "Epoch: 51 | Loss: 0.5650\n",
            "Epoch: 52 | Loss: 0.5649\n",
            "Epoch: 53 | Loss: 0.5648\n",
            "Epoch: 54 | Loss: 0.5647\n",
            "Epoch: 55 | Loss: 0.5647\n",
            "Epoch: 56 | Loss: 0.5647\n",
            "Epoch: 57 | Loss: 0.5646\n",
            "Epoch: 58 | Loss: 0.5646\n",
            "Epoch: 59 | Loss: 0.5646\n",
            "Epoch: 60 | Loss: 0.5646\n",
            "Epoch: 61 | Loss: 0.5646\n",
            "Epoch: 62 | Loss: 0.5646\n",
            "Epoch: 63 | Loss: 0.5645\n",
            "Epoch: 64 | Loss: 0.5645\n",
            "Epoch: 65 | Loss: 0.5645\n",
            "Epoch: 66 | Loss: 0.5645\n",
            "Epoch: 67 | Loss: 0.5645\n",
            "Epoch: 68 | Loss: 0.5645\n",
            "Epoch: 69 | Loss: 0.5645\n",
            "Epoch: 70 | Loss: 0.5645\n",
            "Epoch: 71 | Loss: 0.5645\n",
            "Epoch: 72 | Loss: 0.5645\n",
            "Epoch: 73 | Loss: 0.5645\n",
            "Epoch: 74 | Loss: 0.5645\n",
            "Epoch: 75 | Loss: 0.5645\n",
            "Epoch: 76 | Loss: 0.5645\n",
            "Epoch: 77 | Loss: 0.5645\n",
            "Epoch: 78 | Loss: 0.5645\n",
            "Epoch: 79 | Loss: 0.5645\n",
            "Epoch: 80 | Loss: 0.5645\n",
            "Epoch: 81 | Loss: 0.5645\n",
            "Epoch: 82 | Loss: 0.5645\n",
            "Epoch: 83 | Loss: 0.5645\n",
            "Epoch: 84 | Loss: 0.5645\n",
            "Epoch: 85 | Loss: 0.5645\n",
            "Epoch: 86 | Loss: 0.5645\n",
            "Epoch: 87 | Loss: 0.5645\n",
            "Epoch: 88 | Loss: 0.5645\n",
            "Epoch: 89 | Loss: 0.5645\n",
            "Epoch: 90 | Loss: 0.5645\n",
            "Epoch: 91 | Loss: 0.5645\n",
            "Epoch: 92 | Loss: 0.5645\n",
            "Epoch: 93 | Loss: 0.5645\n",
            "Epoch: 94 | Loss: 0.5645\n",
            "Epoch: 95 | Loss: 0.5645\n",
            "Epoch: 96 | Loss: 0.5645\n",
            "Epoch: 97 | Loss: 0.5645\n",
            "Epoch: 98 | Loss: 0.5645\n",
            "Epoch: 99 | Loss: 0.5645\n",
            "Epoch: 100 | Loss: 0.5645\n",
            "Epoch: 101 | Loss: 0.5645\n",
            "Epoch: 102 | Loss: 0.5645\n",
            "Epoch: 103 | Loss: 0.5645\n",
            "Epoch: 104 | Loss: 0.5645\n",
            "Epoch: 105 | Loss: 0.5645\n",
            "Epoch: 106 | Loss: 0.5645\n",
            "Epoch: 107 | Loss: 0.5645\n",
            "Epoch: 108 | Loss: 0.5645\n",
            "Epoch: 109 | Loss: 0.5645\n",
            "Epoch: 110 | Loss: 0.5645\n",
            "Epoch: 111 | Loss: 0.5645\n",
            "Epoch: 112 | Loss: 0.5645\n",
            "Epoch: 113 | Loss: 0.5645\n",
            "Epoch: 114 | Loss: 0.5645\n",
            "Epoch: 115 | Loss: 0.5645\n",
            "Epoch: 116 | Loss: 0.5645\n",
            "Epoch: 117 | Loss: 0.5645\n",
            "Epoch: 118 | Loss: 0.5645\n",
            "Epoch: 119 | Loss: 0.5645\n",
            "Epoch: 120 | Loss: 0.5645\n",
            "Epoch: 121 | Loss: 0.5645\n",
            "Epoch: 122 | Loss: 0.5645\n",
            "Epoch: 123 | Loss: 0.5645\n",
            "Epoch: 124 | Loss: 0.5645\n",
            "Epoch: 125 | Loss: 0.5645\n",
            "Epoch: 126 | Loss: 0.5645\n",
            "Epoch: 127 | Loss: 0.5645\n",
            "Epoch: 128 | Loss: 0.5645\n",
            "Epoch: 129 | Loss: 0.5645\n",
            "Epoch: 130 | Loss: 0.5645\n",
            "Epoch: 131 | Loss: 0.5645\n",
            "Epoch: 132 | Loss: 0.5645\n",
            "Epoch: 133 | Loss: 0.5645\n",
            "Epoch: 134 | Loss: 0.5645\n",
            "Epoch: 135 | Loss: 0.5645\n",
            "Epoch: 136 | Loss: 0.5645\n",
            "Epoch: 137 | Loss: 0.5645\n",
            "Epoch: 138 | Loss: 0.5645\n",
            "Epoch: 139 | Loss: 0.5645\n",
            "Epoch: 140 | Loss: 0.5645\n",
            "Epoch: 141 | Loss: 0.5645\n",
            "Epoch: 142 | Loss: 0.5645\n",
            "Epoch: 143 | Loss: 0.5645\n",
            "Epoch: 144 | Loss: 0.5645\n",
            "Epoch: 145 | Loss: 0.5645\n",
            "Epoch: 146 | Loss: 0.5645\n",
            "Epoch: 147 | Loss: 0.5645\n",
            "Epoch: 148 | Loss: 0.5645\n",
            "Epoch: 149 | Loss: 0.5645\n"
          ],
          "name": "stdout"
        }
      ]
    },
    {
      "cell_type": "code",
      "metadata": {
        "id": "V1odfZpGFoBi",
        "colab_type": "code",
        "colab": {
          "base_uri": "https://localhost:8080/",
          "height": 34
        },
        "outputId": "7e8d495a-9bbc-411a-8d79-7c6cc4921550"
      },
      "source": [
        "## test the model\n",
        "sample = torch.tensor([10.0], dtype=torch.float)\n",
        "predicted = model(sample)\n",
        "print(predicted.detach().item())"
      ],
      "execution_count": 8,
      "outputs": [
        {
          "output_type": "stream",
          "text": [
            "17.096769332885742\n"
          ],
          "name": "stdout"
        }
      ]
    }
  ]
}