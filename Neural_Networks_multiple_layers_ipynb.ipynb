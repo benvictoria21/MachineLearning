{
  "nbformat": 4,
  "nbformat_minor": 0,
  "metadata": {
    "colab": {
      "name": "Neural_Networks_multiple_layers.ipynb.ipynb",
      "provenance": [],
      "private_outputs": true,
      "authorship_tag": "ABX9TyMuPF/UuzKUEj4GsaLLvMK0",
      "include_colab_link": true
    },
    "kernelspec": {
      "name": "python3",
      "display_name": "Python 3"
    }
  },
  "cells": [
    {
      "cell_type": "markdown",
      "metadata": {
        "id": "view-in-github",
        "colab_type": "text"
      },
      "source": [
        "<a href=\"https://colab.research.google.com/github/benvictoria21/Machine-learning-project/blob/master/Neural_Networks_multiple_layers_ipynb.ipynb\" target=\"_parent\"><img src=\"https://colab.research.google.com/assets/colab-badge.svg\" alt=\"Open In Colab\"/></a>"
      ]
    },
    {
      "cell_type": "code",
      "metadata": {
        "id": "KpYwRC9pSRjZ",
        "colab_type": "code",
        "colab": {}
      },
      "source": [
        "import numpy as np\n",
        "from keras.models import Sequential\n",
        "from keras.layers import Dense\n",
        "from copy import deepcopy"
      ],
      "execution_count": null,
      "outputs": []
    },
    {
      "cell_type": "code",
      "metadata": {
        "id": "761hnaLpgqbN",
        "colab_type": "code",
        "colab": {}
      },
      "source": [
        "x = np.array([[1],[2],[3],[4]])\n",
        "y = np.array([[2],[4],[6],[8]])"
      ],
      "execution_count": null,
      "outputs": []
    },
    {
      "cell_type": "code",
      "metadata": {
        "id": "-RvUQTE2g1zQ",
        "colab_type": "code",
        "colab": {}
      },
      "source": [
        "model = Sequential()\n",
        "model.add(Dense(3, activation='relu', input_shape=(1,)))\n",
        "model.add(Dense(1, activation='linear'))\n",
        "model.summary()"
      ],
      "execution_count": null,
      "outputs": []
    },
    {
      "cell_type": "code",
      "metadata": {
        "id": "XmcrlSNphLlJ",
        "colab_type": "code",
        "colab": {}
      },
      "source": [
        "from keras.optimizers import sgd\n",
        "s = sgd(lr = 0.01)\n",
        "model.compile(optimizer=s,loss='mean_squared_error',metrics=['accuracy'])\n",
        "\n",
        "display(model.weights)"
      ],
      "execution_count": null,
      "outputs": []
    },
    {
      "cell_type": "code",
      "metadata": {
        "id": "3jWhcgULhzoC",
        "colab_type": "code",
        "colab": {}
      },
      "source": [
        "def feed_forward(inputs, outputs, weights):\n",
        "    pre_hidden = np.dot(inputs,weights[0])+ weights[1]\n",
        "    hidden = np.where(pre_hidden<0, 0, pre_hidden) \n",
        "    out = np.dot(hidden, weights[2]) + weights[3]\n",
        "    squared_error = (np.square(out - outputs))\n",
        "    return squared_error"
      ],
      "execution_count": null,
      "outputs": []
    },
    {
      "cell_type": "code",
      "metadata": {
        "id": "Hwbpd3aEiT2V",
        "colab_type": "code",
        "colab": {}
      },
      "source": [
        "def update_weights(inputs, outputs, weights, epochs):  \n",
        "    for epoch in range(epochs):\n",
        "        org_loss = feed_forward(inputs, outputs, weights)\n",
        "\n",
        "        weights_new = deepcopy(weights)\n",
        "        weights_new2 = deepcopy(weights)\n",
        "\n",
        "        for i, layer in enumerate(reversed(weights)):\n",
        "            # print(i, layer)\n",
        "            for index, weight in np.ndenumerate(layer):\n",
        "                # print(index, weight)\n",
        "                weights_new[-(i+1)][index] += 0.0001\n",
        "                # print('weights_new:', weights_new)\n",
        "                loss = feed_forward(inputs, outputs, weights_new)\n",
        "                # print('loss', loss)\n",
        "                del_loss = np.sum(org_loss - loss)/(0.0001*len(inputs))\n",
        "\n",
        "                weights_new2[-(i+1)][index] += del_loss*0.01\n",
        "                weights_new = deepcopy(weights)\n",
        "\n",
        "        weights = deepcopy(weights_new2)\n",
        "        \n",
        "    return weights_new2\n",
        "\n",
        "w = deepcopy(model.get_weights())\n",
        "update_weights(x,y,w,1)\n"
      ],
      "execution_count": null,
      "outputs": []
    },
    {
      "cell_type": "code",
      "metadata": {
        "id": "f9btT8EGiYDx",
        "colab_type": "code",
        "colab": {}
      },
      "source": [
        "model.fit(x, y, epochs=1, batch_size=4, verbose=1)\n",
        "model.get_weights()"
      ],
      "execution_count": null,
      "outputs": []
    },
    {
      "cell_type": "code",
      "metadata": {
        "id": "DxyUxWguiiag",
        "colab_type": "code",
        "colab": {}
      },
      "source": [
        "x1 = [[5],[6]]\n",
        "model.predict(np.array(x1))"
      ],
      "execution_count": null,
      "outputs": []
    },
    {
      "cell_type": "code",
      "metadata": {
        "id": "KJmZxPM4ixhP",
        "colab_type": "code",
        "colab": {}
      },
      "source": [
        "def cat_cross_entropy(p, y):\n",
        "    return -np.sum((y*np.log2(p)+(1-y)*np.log2(1-p)))"
      ],
      "execution_count": null,
      "outputs": []
    },
    {
      "cell_type": "code",
      "metadata": {
        "id": "GpX0xiw5jTTI",
        "colab_type": "code",
        "colab": {}
      },
      "source": [
        "cat_cross_entropy(np.array([0.1,0.9]),np.array([0,1]))"
      ],
      "execution_count": null,
      "outputs": []
    }
  ]
}