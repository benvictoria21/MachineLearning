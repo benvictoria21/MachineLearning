{
 "cells": [
  {
   "cell_type": "code",
   "execution_count": 2,
   "metadata": {},
   "outputs": [],
   "source": [
    "import pandas as pd \n",
    "import matplotlib.pyplot as plt \n",
    "import numpy as np"
   ]
  },
  {
   "cell_type": "code",
   "execution_count": 6,
   "metadata": {},
   "outputs": [],
   "source": [
    "df_x=pd.read_csv(\"https://raw.githubusercontent.com/benvictoria17/MachineLearning/master/dataset/Classify%20Points%20using%20Deep%20Learning/Logistic_X_Train.csv\")\n",
    "df_y=pd.read_csv(\"https://raw.githubusercontent.com/benvictoria17/MachineLearning/master/dataset/Classify%20Points%20using%20Deep%20Learning/Logistic_Y_Train.csv\")"
   ]
  },
  {
   "cell_type": "code",
   "execution_count": 7,
   "metadata": {},
   "outputs": [
    {
     "data": {
      "text/html": [
       "<div>\n",
       "<style scoped>\n",
       "    .dataframe tbody tr th:only-of-type {\n",
       "        vertical-align: middle;\n",
       "    }\n",
       "\n",
       "    .dataframe tbody tr th {\n",
       "        vertical-align: top;\n",
       "    }\n",
       "\n",
       "    .dataframe thead th {\n",
       "        text-align: right;\n",
       "    }\n",
       "</style>\n",
       "<table border=\"1\" class=\"dataframe\">\n",
       "  <thead>\n",
       "    <tr style=\"text-align: right;\">\n",
       "      <th></th>\n",
       "      <th>f1</th>\n",
       "      <th>f2</th>\n",
       "    </tr>\n",
       "  </thead>\n",
       "  <tbody>\n",
       "    <tr>\n",
       "      <th>0</th>\n",
       "      <td>0.574727</td>\n",
       "      <td>0.787277</td>\n",
       "    </tr>\n",
       "    <tr>\n",
       "      <th>1</th>\n",
       "      <td>0.251502</td>\n",
       "      <td>0.908940</td>\n",
       "    </tr>\n",
       "    <tr>\n",
       "      <th>2</th>\n",
       "      <td>1.860578</td>\n",
       "      <td>0.013763</td>\n",
       "    </tr>\n",
       "    <tr>\n",
       "      <th>3</th>\n",
       "      <td>0.019477</td>\n",
       "      <td>1.047210</td>\n",
       "    </tr>\n",
       "    <tr>\n",
       "      <th>4</th>\n",
       "      <td>0.029794</td>\n",
       "      <td>0.252236</td>\n",
       "    </tr>\n",
       "  </tbody>\n",
       "</table>\n",
       "</div>"
      ],
      "text/plain": [
       "         f1        f2\n",
       "0  0.574727  0.787277\n",
       "1  0.251502  0.908940\n",
       "2  1.860578  0.013763\n",
       "3  0.019477  1.047210\n",
       "4  0.029794  0.252236"
      ]
     },
     "execution_count": 7,
     "metadata": {},
     "output_type": "execute_result"
    }
   ],
   "source": [
    "df_x.head()"
   ]
  },
  {
   "cell_type": "code",
   "execution_count": 8,
   "metadata": {},
   "outputs": [
    {
     "data": {
      "text/html": [
       "<div>\n",
       "<style scoped>\n",
       "    .dataframe tbody tr th:only-of-type {\n",
       "        vertical-align: middle;\n",
       "    }\n",
       "\n",
       "    .dataframe tbody tr th {\n",
       "        vertical-align: top;\n",
       "    }\n",
       "\n",
       "    .dataframe thead th {\n",
       "        text-align: right;\n",
       "    }\n",
       "</style>\n",
       "<table border=\"1\" class=\"dataframe\">\n",
       "  <thead>\n",
       "    <tr style=\"text-align: right;\">\n",
       "      <th></th>\n",
       "      <th>label</th>\n",
       "    </tr>\n",
       "  </thead>\n",
       "  <tbody>\n",
       "    <tr>\n",
       "      <th>0</th>\n",
       "      <td>0</td>\n",
       "    </tr>\n",
       "    <tr>\n",
       "      <th>1</th>\n",
       "      <td>0</td>\n",
       "    </tr>\n",
       "    <tr>\n",
       "      <th>2</th>\n",
       "      <td>1</td>\n",
       "    </tr>\n",
       "    <tr>\n",
       "      <th>3</th>\n",
       "      <td>0</td>\n",
       "    </tr>\n",
       "    <tr>\n",
       "      <th>4</th>\n",
       "      <td>1</td>\n",
       "    </tr>\n",
       "  </tbody>\n",
       "</table>\n",
       "</div>"
      ],
      "text/plain": [
       "   label\n",
       "0      0\n",
       "1      0\n",
       "2      1\n",
       "3      0\n",
       "4      1"
      ]
     },
     "execution_count": 8,
     "metadata": {},
     "output_type": "execute_result"
    }
   ],
   "source": [
    "df_y.head()"
   ]
  },
  {
   "cell_type": "code",
   "execution_count": 9,
   "metadata": {},
   "outputs": [
    {
     "data": {
      "text/plain": [
       "<matplotlib.collections.PathCollection at 0x7fa09498baf0>"
      ]
     },
     "execution_count": 9,
     "metadata": {},
     "output_type": "execute_result"
    },
    {
     "data": {
      "image/png": "[encoded data removed]",
      "text/plain": [
       "<Figure size 432x288 with 1 Axes>"
      ]
     },
     "metadata": {
      "needs_background": "light"
     },
     "output_type": "display_data"
    }
   ],
   "source": [
    "plt.scatter(df_x.iloc[:,0],df_x.iloc[:,1],c=df_y.iloc[:,0])"
   ]
  },
  {
   "cell_type": "code",
   "execution_count": 10,
   "metadata": {},
   "outputs": [
    {
     "name": "stdout",
     "output_type": "stream",
     "text": [
      "(2250, 2) (2250, 1)\n"
     ]
    }
   ],
   "source": [
    "from keras import models\n",
    "from keras.layers import Dense\n",
    "#Length of X and Y should be shape\n",
    "X=np.array(df_x) #Check shape of x\n",
    "Y=np.array(df_y) #check shape of y\n",
    "print(np.shape(X),np.shape(Y)) #print shape of Y,X"
   ]
  },
  {
   "cell_type": "code",
   "execution_count": 11,
   "metadata": {},
   "outputs": [
    {
     "name": "stdout",
     "output_type": "stream",
     "text": [
      "Model: \"sequential\"\n",
      "_________________________________________________________________\n",
      "Layer (type)                 Output Shape              Param #   \n",
      "=================================================================\n",
      "dense (Dense)                (None, 1575, 20)          60        \n",
      "_________________________________________________________________\n",
      "dense_1 (Dense)              (None, 1575, 50)          1050      \n",
      "_________________________________________________________________\n",
      "dense_2 (Dense)              (None, 1575, 100)         5100      \n",
      "_________________________________________________________________\n",
      "dense_3 (Dense)              (None, 1575, 50)          5050      \n",
      "_________________________________________________________________\n",
      "dense_4 (Dense)              (None, 1575, 20)          1020      \n",
      "_________________________________________________________________\n",
      "dense_5 (Dense)              (None, 1575, 1)           21        \n",
      "=================================================================\n",
      "Total params: 12,301\n",
      "Trainable params: 12,301\n",
      "Non-trainable params: 0\n",
      "_________________________________________________________________\n"
     ]
    }
   ],
   "source": [
    "model =models.Sequential()\n",
    "model.add(Dense(20,activation='relu',input_shape=(1575,2)))\n",
    "model.add(Dense(50,activation='tanh'))\n",
    "model.add(Dense(100,activation='tanh'))\n",
    "model.add(Dense(50,activation='tanh'))\n",
    "model.add(Dense(20,activation='relu'))\n",
    "model.add(Dense(1,activation='sigmoid'))\n",
    "model.compile(optimizer='Adam',loss='binary_crossentropy',metrics=['accuracy'])\n",
    "model.summary()"
   ]
  },
  {
   "cell_type": "code",
   "execution_count": 13,
   "metadata": {},
   "outputs": [
    {
     "name": "stdout",
     "output_type": "stream",
     "text": [
      "(1575, 2) (1575, 1)\n"
     ]
    }
   ],
   "source": [
    "from sklearn.model_selection import train_test_split \n",
    "X_train,X_test,Y_train,Y_test=train_test_split(X,Y,test_size=0.3,random_state=42) #make a random split of 30% testing and 70% training\n",
    "print(X_train.shape,Y_train.shape)"
   ]
  },
  {
   "cell_type": "code",
   "execution_count": 14,
   "metadata": {},
   "outputs": [
    {
     "name": "stdout",
     "output_type": "stream",
     "text": [
      "Epoch 1/40\n",
      "WARNING:tensorflow:Model was constructed with shape (None, 1575, 2) for input Tensor(\"dense_input:0\", shape=(None, 1575, 2), dtype=float32), but it was called on an input with incompatible shape (None, 2).\n",
      "WARNING:tensorflow:Model was constructed with shape (None, 1575, 2) for input Tensor(\"dense_input:0\", shape=(None, 1575, 2), dtype=float32), but it was called on an input with incompatible shape (None, 2).\n",
      "47/50 [===========================>..] - ETA: 0s - loss: 0.4508 - accuracy: 0.8072WARNING:tensorflow:Model was constructed with shape (None, 1575, 2) for input Tensor(\"dense_input:0\", shape=(None, 1575, 2), dtype=float32), but it was called on an input with incompatible shape (None, 2).\n",
      "50/50 [==============================] - 0s 5ms/step - loss: 0.4424 - accuracy: 0.8114 - val_loss: 0.2547 - val_accuracy: 0.8874\n",
      "Epoch 2/40\n",
      "50/50 [==============================] - 0s 2ms/step - loss: 0.2727 - accuracy: 0.8832 - val_loss: 0.2215 - val_accuracy: 0.9170\n",
      "Epoch 3/40\n",
      "50/50 [==============================] - 0s 2ms/step - loss: 0.2425 - accuracy: 0.9003 - val_loss: 0.2007 - val_accuracy: 0.9230\n",
      "Epoch 4/40\n",
      "50/50 [==============================] - 0s 2ms/step - loss: 0.2150 - accuracy: 0.9124 - val_loss: 0.1671 - val_accuracy: 0.9319\n",
      "Epoch 5/40\n",
      "50/50 [==============================] - 0s 2ms/step - loss: 0.1826 - accuracy: 0.9276 - val_loss: 0.1563 - val_accuracy: 0.9378\n",
      "Epoch 6/40\n",
      "50/50 [==============================] - 0s 2ms/step - loss: 0.1664 - accuracy: 0.9340 - val_loss: 0.1137 - val_accuracy: 0.9556\n",
      "Epoch 7/40\n",
      "50/50 [==============================] - 0s 2ms/step - loss: 0.1387 - accuracy: 0.9492 - val_loss: 0.0966 - val_accuracy: 0.9719\n",
      "Epoch 8/40\n",
      "50/50 [==============================] - 0s 2ms/step - loss: 0.1356 - accuracy: 0.9511 - val_loss: 0.0917 - val_accuracy: 0.9689\n",
      "Epoch 9/40\n",
      "50/50 [==============================] - 0s 2ms/step - loss: 0.1242 - accuracy: 0.9511 - val_loss: 0.0928 - val_accuracy: 0.9719\n",
      "Epoch 10/40\n",
      "50/50 [==============================] - 0s 2ms/step - loss: 0.1111 - accuracy: 0.9581 - val_loss: 0.0924 - val_accuracy: 0.9704\n",
      "Epoch 11/40\n",
      "50/50 [==============================] - 0s 2ms/step - loss: 0.1059 - accuracy: 0.9613 - val_loss: 0.0805 - val_accuracy: 0.9674\n",
      "Epoch 12/40\n",
      "50/50 [==============================] - 0s 2ms/step - loss: 0.1061 - accuracy: 0.9606 - val_loss: 0.0824 - val_accuracy: 0.9748\n",
      "Epoch 13/40\n",
      "50/50 [==============================] - 0s 3ms/step - loss: 0.1128 - accuracy: 0.9543 - val_loss: 0.0814 - val_accuracy: 0.9807\n",
      "Epoch 14/40\n",
      "50/50 [==============================] - 0s 2ms/step - loss: 0.0998 - accuracy: 0.9625 - val_loss: 0.0769 - val_accuracy: 0.9719\n",
      "Epoch 15/40\n",
      "50/50 [==============================] - 0s 2ms/step - loss: 0.1079 - accuracy: 0.9613 - val_loss: 0.0788 - val_accuracy: 0.9719\n",
      "Epoch 16/40\n",
      "50/50 [==============================] - 0s 2ms/step - loss: 0.1081 - accuracy: 0.9594 - val_loss: 0.0731 - val_accuracy: 0.9719\n",
      "Epoch 17/40\n",
      "50/50 [==============================] - 0s 2ms/step - loss: 0.1010 - accuracy: 0.9657 - val_loss: 0.0782 - val_accuracy: 0.9704\n",
      "Epoch 18/40\n",
      "50/50 [==============================] - 0s 2ms/step - loss: 0.0965 - accuracy: 0.9632 - val_loss: 0.0819 - val_accuracy: 0.9719\n",
      "Epoch 19/40\n",
      "50/50 [==============================] - 0s 2ms/step - loss: 0.1043 - accuracy: 0.9600 - val_loss: 0.0738 - val_accuracy: 0.9719\n",
      "Epoch 20/40\n",
      "50/50 [==============================] - 0s 2ms/step - loss: 0.0973 - accuracy: 0.9644 - val_loss: 0.0768 - val_accuracy: 0.9748\n",
      "Epoch 21/40\n",
      "50/50 [==============================] - 0s 2ms/step - loss: 0.1031 - accuracy: 0.9606 - val_loss: 0.0766 - val_accuracy: 0.9793\n",
      "Epoch 22/40\n",
      "50/50 [==============================] - 0s 2ms/step - loss: 0.1001 - accuracy: 0.9632 - val_loss: 0.0802 - val_accuracy: 0.9689\n",
      "Epoch 23/40\n",
      "50/50 [==============================] - 0s 2ms/step - loss: 0.0998 - accuracy: 0.9644 - val_loss: 0.0725 - val_accuracy: 0.9763\n",
      "Epoch 24/40\n",
      "50/50 [==============================] - 0s 2ms/step - loss: 0.0938 - accuracy: 0.9644 - val_loss: 0.0742 - val_accuracy: 0.9733\n",
      "Epoch 25/40\n",
      "50/50 [==============================] - 0s 2ms/step - loss: 0.0968 - accuracy: 0.9638 - val_loss: 0.0733 - val_accuracy: 0.9719\n",
      "Epoch 26/40\n",
      "50/50 [==============================] - 0s 2ms/step - loss: 0.0942 - accuracy: 0.9651 - val_loss: 0.0804 - val_accuracy: 0.9689\n",
      "Epoch 27/40\n",
      "50/50 [==============================] - 0s 2ms/step - loss: 0.0955 - accuracy: 0.9638 - val_loss: 0.0761 - val_accuracy: 0.9719\n",
      "Epoch 28/40\n",
      "50/50 [==============================] - 0s 2ms/step - loss: 0.0951 - accuracy: 0.9619 - val_loss: 0.0852 - val_accuracy: 0.9689\n",
      "Epoch 29/40\n",
      "50/50 [==============================] - 0s 2ms/step - loss: 0.0972 - accuracy: 0.9651 - val_loss: 0.0794 - val_accuracy: 0.9793\n",
      "Epoch 30/40\n",
      "50/50 [==============================] - 0s 2ms/step - loss: 0.0964 - accuracy: 0.9638 - val_loss: 0.0766 - val_accuracy: 0.9793\n",
      "Epoch 31/40\n",
      "50/50 [==============================] - 0s 2ms/step - loss: 0.1027 - accuracy: 0.9625 - val_loss: 0.0859 - val_accuracy: 0.9704\n",
      "Epoch 32/40\n",
      "50/50 [==============================] - 0s 2ms/step - loss: 0.0973 - accuracy: 0.9625 - val_loss: 0.0920 - val_accuracy: 0.9733\n",
      "Epoch 33/40\n",
      "50/50 [==============================] - 0s 2ms/step - loss: 0.0975 - accuracy: 0.9638 - val_loss: 0.0814 - val_accuracy: 0.9763\n",
      "Epoch 34/40\n",
      "50/50 [==============================] - 0s 2ms/step - loss: 0.0982 - accuracy: 0.9606 - val_loss: 0.0862 - val_accuracy: 0.9719\n",
      "Epoch 35/40\n",
      "50/50 [==============================] - 0s 2ms/step - loss: 0.0957 - accuracy: 0.9632 - val_loss: 0.0801 - val_accuracy: 0.9748\n",
      "Epoch 36/40\n",
      "50/50 [==============================] - 0s 2ms/step - loss: 0.0955 - accuracy: 0.9619 - val_loss: 0.0750 - val_accuracy: 0.9733\n",
      "Epoch 37/40\n",
      "50/50 [==============================] - 0s 2ms/step - loss: 0.0927 - accuracy: 0.9663 - val_loss: 0.0986 - val_accuracy: 0.9733\n",
      "Epoch 38/40\n",
      "50/50 [==============================] - 0s 2ms/step - loss: 0.1105 - accuracy: 0.9568 - val_loss: 0.0821 - val_accuracy: 0.9704\n",
      "Epoch 39/40\n",
      "50/50 [==============================] - 0s 2ms/step - loss: 0.0996 - accuracy: 0.9638 - val_loss: 0.0814 - val_accuracy: 0.9674\n",
      "Epoch 40/40\n",
      "50/50 [==============================] - 0s 2ms/step - loss: 0.0946 - accuracy: 0.9644 - val_loss: 0.0835 - val_accuracy: 0.9689\n"
     ]
    }
   ],
   "source": [
    "hist= model.fit(X_train,Y_train,epochs=40,batch_size=32,validation_data=(X_test,Y_test))"
   ]
  },
  {
   "cell_type": "code",
   "execution_count": 16,
   "metadata": {},
   "outputs": [
    {
     "data": {
      "text/plain": [
       "(1575, 1)"
      ]
     },
     "execution_count": 16,
     "metadata": {},
     "output_type": "execute_result"
    }
   ],
   "source": [
    "output_train = model.predict(X_train)\n",
    "output_train.shape"
   ]
  },
  {
   "cell_type": "code",
   "execution_count": 17,
   "metadata": {},
   "outputs": [
    {
     "data": {
      "text/plain": [
       "(675, 1)"
      ]
     },
     "execution_count": 17,
     "metadata": {},
     "output_type": "execute_result"
    }
   ],
   "source": [
    "output_test = model.predict(X_test)\n",
    "output_test.shape"
   ]
  },
  {
   "cell_type": "code",
   "execution_count": null,
   "metadata": {},
   "outputs": [],
   "source": []
  },
  {
   "cell_type": "code",
   "execution_count": null,
   "metadata": {},
   "outputs": [],
   "source": []
  },
  {
   "cell_type": "code",
   "execution_count": null,
   "metadata": {},
   "outputs": [],
   "source": []
  }
 ],
 "metadata": {
  "kernelspec": {
   "display_name": "Python 3",
   "language": "python",
   "name": "python3"
  },
  "language_info": {
   "codemirror_mode": {
    "name": "ipython",
    "version": 3
   },
   "file_extension": ".py",
   "mimetype": "text/x-python",
   "name": "python",
   "nbconvert_exporter": "python",
   "pygments_lexer": "ipython3",
   "version": "3.8.3"
  }
 },
 "nbformat": 4,
 "nbformat_minor": 4
}
