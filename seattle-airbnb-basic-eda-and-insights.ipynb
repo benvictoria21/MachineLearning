{
 "cells": [
  {
   "cell_type": "code",
   "execution_count": 1,
   "id": "billion-secretary",
   "metadata": {
    "_cell_guid": "b1076dfc-b9ad-4769-8c92-a6c4dae69d19",
    "_uuid": "8f2839f25d086af736a60e9eeb907d3b93b6e0e5",
    "execution": {
     "iopub.execute_input": "2021-04-27T00:17:53.272970Z",
     "iopub.status.busy": "2021-04-27T00:17:53.271773Z",
     "iopub.status.idle": "2021-04-27T00:17:54.300294Z",
     "shell.execute_reply": "2021-04-27T00:17:54.299033Z"
    },
    "papermill": {
     "duration": 1.11094,
     "end_time": "2021-04-27T00:17:54.300491",
     "exception": false,
     "start_time": "2021-04-27T00:17:53.189551",
     "status": "completed"
    },
    "tags": []
   },
   "outputs": [],
   "source": [
    "import numpy as np \n",
    "import pandas as pd \n",
    "import matplotlib.pyplot as plt \n",
    "import seaborn as sns "
   ]
  },
  {
   "cell_type": "code",
   "execution_count": 2,
   "id": "collect-marsh",
   "metadata": {
    "execution": {
     "iopub.execute_input": "2021-04-27T00:17:54.459632Z",
     "iopub.status.busy": "2021-04-27T00:17:54.458950Z",
     "iopub.status.idle": "2021-04-27T00:17:55.037712Z",
     "shell.execute_reply": "2021-04-27T00:17:55.037084Z"
    },
    "papermill": {
     "duration": 0.660267,
     "end_time": "2021-04-27T00:17:55.037878",
     "exception": false,
     "start_time": "2021-04-27T00:17:54.377611",
     "status": "completed"
    },
    "tags": []
   },
   "outputs": [
    {
     "data": {
      "text/html": [
       "<div>\n",
       "<style scoped>\n",
       "    .dataframe tbody tr th:only-of-type {\n",
       "        vertical-align: middle;\n",
       "    }\n",
       "\n",
       "    .dataframe tbody tr th {\n",
       "        vertical-align: top;\n",
       "    }\n",
       "\n",
       "    .dataframe thead th {\n",
       "        text-align: right;\n",
       "    }\n",
       "</style>\n",
       "<table border=\"1\" class=\"dataframe\">\n",
       "  <thead>\n",
       "    <tr style=\"text-align: right;\">\n",
       "      <th></th>\n",
       "      <th>id</th>\n",
       "      <th>listing_url</th>\n",
       "      <th>scrape_id</th>\n",
       "      <th>last_scraped</th>\n",
       "      <th>name</th>\n",
       "      <th>summary</th>\n",
       "      <th>space</th>\n",
       "      <th>description</th>\n",
       "      <th>experiences_offered</th>\n",
       "      <th>neighborhood_overview</th>\n",
       "      <th>...</th>\n",
       "      <th>review_scores_value</th>\n",
       "      <th>requires_license</th>\n",
       "      <th>license</th>\n",
       "      <th>jurisdiction_names</th>\n",
       "      <th>instant_bookable</th>\n",
       "      <th>cancellation_policy</th>\n",
       "      <th>require_guest_profile_picture</th>\n",
       "      <th>require_guest_phone_verification</th>\n",
       "      <th>calculated_host_listings_count</th>\n",
       "      <th>reviews_per_month</th>\n",
       "    </tr>\n",
       "  </thead>\n",
       "  <tbody>\n",
       "    <tr>\n",
       "      <th>0</th>\n",
       "      <td>241032</td>\n",
       "      <td>https://www.airbnb.com/rooms/241032</td>\n",
       "      <td>20160104002432</td>\n",
       "      <td>2016-01-04</td>\n",
       "      <td>Stylish Queen Anne Apartment</td>\n",
       "      <td>NaN</td>\n",
       "      <td>Make your self at home in this charming one-be...</td>\n",
       "      <td>Make your self at home in this charming one-be...</td>\n",
       "      <td>none</td>\n",
       "      <td>NaN</td>\n",
       "      <td>...</td>\n",
       "      <td>10.0</td>\n",
       "      <td>f</td>\n",
       "      <td>NaN</td>\n",
       "      <td>WASHINGTON</td>\n",
       "      <td>f</td>\n",
       "      <td>moderate</td>\n",
       "      <td>f</td>\n",
       "      <td>f</td>\n",
       "      <td>2</td>\n",
       "      <td>4.07</td>\n",
       "    </tr>\n",
       "    <tr>\n",
       "      <th>1</th>\n",
       "      <td>953595</td>\n",
       "      <td>https://www.airbnb.com/rooms/953595</td>\n",
       "      <td>20160104002432</td>\n",
       "      <td>2016-01-04</td>\n",
       "      <td>Bright &amp; Airy Queen Anne Apartment</td>\n",
       "      <td>Chemically sensitive? We've removed the irrita...</td>\n",
       "      <td>Beautiful, hypoallergenic apartment in an extr...</td>\n",
       "      <td>Chemically sensitive? We've removed the irrita...</td>\n",
       "      <td>none</td>\n",
       "      <td>Queen Anne is a wonderful, truly functional vi...</td>\n",
       "      <td>...</td>\n",
       "      <td>10.0</td>\n",
       "      <td>f</td>\n",
       "      <td>NaN</td>\n",
       "      <td>WASHINGTON</td>\n",
       "      <td>f</td>\n",
       "      <td>strict</td>\n",
       "      <td>t</td>\n",
       "      <td>t</td>\n",
       "      <td>6</td>\n",
       "      <td>1.48</td>\n",
       "    </tr>\n",
       "    <tr>\n",
       "      <th>2</th>\n",
       "      <td>3308979</td>\n",
       "      <td>https://www.airbnb.com/rooms/3308979</td>\n",
       "      <td>20160104002432</td>\n",
       "      <td>2016-01-04</td>\n",
       "      <td>New Modern House-Amazing water view</td>\n",
       "      <td>New modern house built in 2013.  Spectacular s...</td>\n",
       "      <td>Our house is modern, light and fresh with a wa...</td>\n",
       "      <td>New modern house built in 2013.  Spectacular s...</td>\n",
       "      <td>none</td>\n",
       "      <td>Upper Queen Anne is a charming neighborhood fu...</td>\n",
       "      <td>...</td>\n",
       "      <td>10.0</td>\n",
       "      <td>f</td>\n",
       "      <td>NaN</td>\n",
       "      <td>WASHINGTON</td>\n",
       "      <td>f</td>\n",
       "      <td>strict</td>\n",
       "      <td>f</td>\n",
       "      <td>f</td>\n",
       "      <td>2</td>\n",
       "      <td>1.15</td>\n",
       "    </tr>\n",
       "    <tr>\n",
       "      <th>3</th>\n",
       "      <td>7421966</td>\n",
       "      <td>https://www.airbnb.com/rooms/7421966</td>\n",
       "      <td>20160104002432</td>\n",
       "      <td>2016-01-04</td>\n",
       "      <td>Queen Anne Chateau</td>\n",
       "      <td>A charming apartment that sits atop Queen Anne...</td>\n",
       "      <td>NaN</td>\n",
       "      <td>A charming apartment that sits atop Queen Anne...</td>\n",
       "      <td>none</td>\n",
       "      <td>NaN</td>\n",
       "      <td>...</td>\n",
       "      <td>NaN</td>\n",
       "      <td>f</td>\n",
       "      <td>NaN</td>\n",
       "      <td>WASHINGTON</td>\n",
       "      <td>f</td>\n",
       "      <td>flexible</td>\n",
       "      <td>f</td>\n",
       "      <td>f</td>\n",
       "      <td>1</td>\n",
       "      <td>NaN</td>\n",
       "    </tr>\n",
       "    <tr>\n",
       "      <th>4</th>\n",
       "      <td>278830</td>\n",
       "      <td>https://www.airbnb.com/rooms/278830</td>\n",
       "      <td>20160104002432</td>\n",
       "      <td>2016-01-04</td>\n",
       "      <td>Charming craftsman 3 bdm house</td>\n",
       "      <td>Cozy family craftman house in beautiful neighb...</td>\n",
       "      <td>Cozy family craftman house in beautiful neighb...</td>\n",
       "      <td>Cozy family craftman house in beautiful neighb...</td>\n",
       "      <td>none</td>\n",
       "      <td>We are in the beautiful neighborhood of Queen ...</td>\n",
       "      <td>...</td>\n",
       "      <td>9.0</td>\n",
       "      <td>f</td>\n",
       "      <td>NaN</td>\n",
       "      <td>WASHINGTON</td>\n",
       "      <td>f</td>\n",
       "      <td>strict</td>\n",
       "      <td>f</td>\n",
       "      <td>f</td>\n",
       "      <td>1</td>\n",
       "      <td>0.89</td>\n",
       "    </tr>\n",
       "  </tbody>\n",
       "</table>\n",
       "<p>5 rows × 92 columns</p>\n",
       "</div>"
      ],
      "text/plain": [
       "        id                           listing_url       scrape_id last_scraped  \\\n",
       "0   241032   https://www.airbnb.com/rooms/241032  20160104002432   2016-01-04   \n",
       "1   953595   https://www.airbnb.com/rooms/953595  20160104002432   2016-01-04   \n",
       "2  3308979  https://www.airbnb.com/rooms/3308979  20160104002432   2016-01-04   \n",
       "3  7421966  https://www.airbnb.com/rooms/7421966  20160104002432   2016-01-04   \n",
       "4   278830   https://www.airbnb.com/rooms/278830  20160104002432   2016-01-04   \n",
       "\n",
       "                                  name  \\\n",
       "0         Stylish Queen Anne Apartment   \n",
       "1   Bright & Airy Queen Anne Apartment   \n",
       "2  New Modern House-Amazing water view   \n",
       "3                   Queen Anne Chateau   \n",
       "4       Charming craftsman 3 bdm house   \n",
       "\n",
       "                                             summary  \\\n",
       "0                                                NaN   \n",
       "1  Chemically sensitive? We've removed the irrita...   \n",
       "2  New modern house built in 2013.  Spectacular s...   \n",
       "3  A charming apartment that sits atop Queen Anne...   \n",
       "4  Cozy family craftman house in beautiful neighb...   \n",
       "\n",
       "                                               space  \\\n",
       "0  Make your self at home in this charming one-be...   \n",
       "1  Beautiful, hypoallergenic apartment in an extr...   \n",
       "2  Our house is modern, light and fresh with a wa...   \n",
       "3                                                NaN   \n",
       "4  Cozy family craftman house in beautiful neighb...   \n",
       "\n",
       "                                         description experiences_offered  \\\n",
       "0  Make your self at home in this charming one-be...                none   \n",
       "1  Chemically sensitive? We've removed the irrita...                none   \n",
       "2  New modern house built in 2013.  Spectacular s...                none   \n",
       "3  A charming apartment that sits atop Queen Anne...                none   \n",
       "4  Cozy family craftman house in beautiful neighb...                none   \n",
       "\n",
       "                               neighborhood_overview  ... review_scores_value  \\\n",
       "0                                                NaN  ...                10.0   \n",
       "1  Queen Anne is a wonderful, truly functional vi...  ...                10.0   \n",
       "2  Upper Queen Anne is a charming neighborhood fu...  ...                10.0   \n",
       "3                                                NaN  ...                 NaN   \n",
       "4  We are in the beautiful neighborhood of Queen ...  ...                 9.0   \n",
       "\n",
       "  requires_license license jurisdiction_names instant_bookable  \\\n",
       "0                f     NaN         WASHINGTON                f   \n",
       "1                f     NaN         WASHINGTON                f   \n",
       "2                f     NaN         WASHINGTON                f   \n",
       "3                f     NaN         WASHINGTON                f   \n",
       "4                f     NaN         WASHINGTON                f   \n",
       "\n",
       "  cancellation_policy  require_guest_profile_picture  \\\n",
       "0            moderate                              f   \n",
       "1              strict                              t   \n",
       "2              strict                              f   \n",
       "3            flexible                              f   \n",
       "4              strict                              f   \n",
       "\n",
       "  require_guest_phone_verification calculated_host_listings_count  \\\n",
       "0                                f                              2   \n",
       "1                                t                              6   \n",
       "2                                f                              2   \n",
       "3                                f                              1   \n",
       "4                                f                              1   \n",
       "\n",
       "  reviews_per_month  \n",
       "0              4.07  \n",
       "1              1.48  \n",
       "2              1.15  \n",
       "3               NaN  \n",
       "4              0.89  \n",
       "\n",
       "[5 rows x 92 columns]"
      ]
     },
     "execution_count": 2,
     "metadata": {},
     "output_type": "execute_result"
    }
   ],
   "source": [
    "listings_df = pd.read_csv(\"../input/seattle/listings.csv\")\n",
    "listings_df[:5]"
   ]
  },
  {
   "cell_type": "code",
   "execution_count": 3,
   "id": "resident-roberts",
   "metadata": {
    "execution": {
     "iopub.execute_input": "2021-04-27T00:17:55.202486Z",
     "iopub.status.busy": "2021-04-27T00:17:55.201761Z",
     "iopub.status.idle": "2021-04-27T00:17:56.334069Z",
     "shell.execute_reply": "2021-04-27T00:17:56.332828Z"
    },
    "papermill": {
     "duration": 1.216234,
     "end_time": "2021-04-27T00:17:56.334269",
     "exception": false,
     "start_time": "2021-04-27T00:17:55.118035",
     "status": "completed"
    },
    "tags": []
   },
   "outputs": [
    {
     "data": {
      "text/html": [
       "<div>\n",
       "<style scoped>\n",
       "    .dataframe tbody tr th:only-of-type {\n",
       "        vertical-align: middle;\n",
       "    }\n",
       "\n",
       "    .dataframe tbody tr th {\n",
       "        vertical-align: top;\n",
       "    }\n",
       "\n",
       "    .dataframe thead th {\n",
       "        text-align: right;\n",
       "    }\n",
       "</style>\n",
       "<table border=\"1\" class=\"dataframe\">\n",
       "  <thead>\n",
       "    <tr style=\"text-align: right;\">\n",
       "      <th></th>\n",
       "      <th>listing_id</th>\n",
       "      <th>date</th>\n",
       "      <th>available</th>\n",
       "      <th>price</th>\n",
       "    </tr>\n",
       "  </thead>\n",
       "  <tbody>\n",
       "    <tr>\n",
       "      <th>0</th>\n",
       "      <td>241032</td>\n",
       "      <td>2016-01-04</td>\n",
       "      <td>t</td>\n",
       "      <td>$85.00</td>\n",
       "    </tr>\n",
       "    <tr>\n",
       "      <th>1</th>\n",
       "      <td>241032</td>\n",
       "      <td>2016-01-05</td>\n",
       "      <td>t</td>\n",
       "      <td>$85.00</td>\n",
       "    </tr>\n",
       "    <tr>\n",
       "      <th>2</th>\n",
       "      <td>241032</td>\n",
       "      <td>2016-01-06</td>\n",
       "      <td>f</td>\n",
       "      <td>NaN</td>\n",
       "    </tr>\n",
       "    <tr>\n",
       "      <th>3</th>\n",
       "      <td>241032</td>\n",
       "      <td>2016-01-07</td>\n",
       "      <td>f</td>\n",
       "      <td>NaN</td>\n",
       "    </tr>\n",
       "    <tr>\n",
       "      <th>4</th>\n",
       "      <td>241032</td>\n",
       "      <td>2016-01-08</td>\n",
       "      <td>f</td>\n",
       "      <td>NaN</td>\n",
       "    </tr>\n",
       "  </tbody>\n",
       "</table>\n",
       "</div>"
      ],
      "text/plain": [
       "   listing_id        date available   price\n",
       "0      241032  2016-01-04         t  $85.00\n",
       "1      241032  2016-01-05         t  $85.00\n",
       "2      241032  2016-01-06         f     NaN\n",
       "3      241032  2016-01-07         f     NaN\n",
       "4      241032  2016-01-08         f     NaN"
      ]
     },
     "execution_count": 3,
     "metadata": {},
     "output_type": "execute_result"
    }
   ],
   "source": [
    "calender_df = pd.read_csv(\"/kaggle/input/seattle/calendar.csv\")\n",
    "calender_df[:5]"
   ]
  },
  {
   "cell_type": "code",
   "execution_count": 4,
   "id": "minus-power",
   "metadata": {
    "execution": {
     "iopub.execute_input": "2021-04-27T00:17:56.500402Z",
     "iopub.status.busy": "2021-04-27T00:17:56.499706Z",
     "iopub.status.idle": "2021-04-27T00:17:57.505643Z",
     "shell.execute_reply": "2021-04-27T00:17:57.505114Z"
    },
    "papermill": {
     "duration": 1.091777,
     "end_time": "2021-04-27T00:17:57.505830",
     "exception": false,
     "start_time": "2021-04-27T00:17:56.414053",
     "status": "completed"
    },
    "tags": []
   },
   "outputs": [
    {
     "data": {
      "text/html": [
       "<div>\n",
       "<style scoped>\n",
       "    .dataframe tbody tr th:only-of-type {\n",
       "        vertical-align: middle;\n",
       "    }\n",
       "\n",
       "    .dataframe tbody tr th {\n",
       "        vertical-align: top;\n",
       "    }\n",
       "\n",
       "    .dataframe thead th {\n",
       "        text-align: right;\n",
       "    }\n",
       "</style>\n",
       "<table border=\"1\" class=\"dataframe\">\n",
       "  <thead>\n",
       "    <tr style=\"text-align: right;\">\n",
       "      <th></th>\n",
       "      <th>listing_id</th>\n",
       "      <th>id</th>\n",
       "      <th>date</th>\n",
       "      <th>reviewer_id</th>\n",
       "      <th>reviewer_name</th>\n",
       "      <th>comments</th>\n",
       "    </tr>\n",
       "  </thead>\n",
       "  <tbody>\n",
       "    <tr>\n",
       "      <th>0</th>\n",
       "      <td>7202016</td>\n",
       "      <td>38917982</td>\n",
       "      <td>2015-07-19</td>\n",
       "      <td>28943674</td>\n",
       "      <td>Bianca</td>\n",
       "      <td>Cute and cozy place. Perfect location to every...</td>\n",
       "    </tr>\n",
       "    <tr>\n",
       "      <th>1</th>\n",
       "      <td>7202016</td>\n",
       "      <td>39087409</td>\n",
       "      <td>2015-07-20</td>\n",
       "      <td>32440555</td>\n",
       "      <td>Frank</td>\n",
       "      <td>Kelly has a great room in a very central locat...</td>\n",
       "    </tr>\n",
       "    <tr>\n",
       "      <th>2</th>\n",
       "      <td>7202016</td>\n",
       "      <td>39820030</td>\n",
       "      <td>2015-07-26</td>\n",
       "      <td>37722850</td>\n",
       "      <td>Ian</td>\n",
       "      <td>Very spacious apartment, and in a great neighb...</td>\n",
       "    </tr>\n",
       "    <tr>\n",
       "      <th>3</th>\n",
       "      <td>7202016</td>\n",
       "      <td>40813543</td>\n",
       "      <td>2015-08-02</td>\n",
       "      <td>33671805</td>\n",
       "      <td>George</td>\n",
       "      <td>Close to Seattle Center and all it has to offe...</td>\n",
       "    </tr>\n",
       "    <tr>\n",
       "      <th>4</th>\n",
       "      <td>7202016</td>\n",
       "      <td>41986501</td>\n",
       "      <td>2015-08-10</td>\n",
       "      <td>34959538</td>\n",
       "      <td>Ming</td>\n",
       "      <td>Kelly was a great host and very accommodating ...</td>\n",
       "    </tr>\n",
       "  </tbody>\n",
       "</table>\n",
       "</div>"
      ],
      "text/plain": [
       "   listing_id        id        date  reviewer_id reviewer_name  \\\n",
       "0     7202016  38917982  2015-07-19     28943674        Bianca   \n",
       "1     7202016  39087409  2015-07-20     32440555         Frank   \n",
       "2     7202016  39820030  2015-07-26     37722850           Ian   \n",
       "3     7202016  40813543  2015-08-02     33671805        George   \n",
       "4     7202016  41986501  2015-08-10     34959538          Ming   \n",
       "\n",
       "                                            comments  \n",
       "0  Cute and cozy place. Perfect location to every...  \n",
       "1  Kelly has a great room in a very central locat...  \n",
       "2  Very spacious apartment, and in a great neighb...  \n",
       "3  Close to Seattle Center and all it has to offe...  \n",
       "4  Kelly was a great host and very accommodating ...  "
      ]
     },
     "execution_count": 4,
     "metadata": {},
     "output_type": "execute_result"
    }
   ],
   "source": [
    "reviews_df = pd.read_csv(\"/kaggle/input/seattle/reviews.csv\")\n",
    "reviews_df[:5]"
   ]
  },
  {
   "cell_type": "code",
   "execution_count": 5,
   "id": "tamil-marathon",
   "metadata": {
    "execution": {
     "iopub.execute_input": "2021-04-27T00:17:57.669880Z",
     "iopub.status.busy": "2021-04-27T00:17:57.669138Z",
     "iopub.status.idle": "2021-04-27T00:17:57.672491Z",
     "shell.execute_reply": "2021-04-27T00:17:57.671944Z"
    },
    "papermill": {
     "duration": 0.088285,
     "end_time": "2021-04-27T00:17:57.672636",
     "exception": false,
     "start_time": "2021-04-27T00:17:57.584351",
     "status": "completed"
    },
    "tags": []
   },
   "outputs": [],
   "source": [
    "def disp_freq(df, col):\n",
    "    \"\"\" Display a bar plot with counts\n",
    "    \n",
    "    Arguments:\n",
    "        df(dataframe): an arbitrary dataframe\n",
    "        col(str): one column of the dataframe\n",
    "    \n",
    "    \"\"\"\n",
    "    return df[col].value_counts().plot(kind='bar', title = col +' counts');"
   ]
  },
  {
   "cell_type": "code",
   "execution_count": 6,
   "id": "associate-century",
   "metadata": {
    "execution": {
     "iopub.execute_input": "2021-04-27T00:17:57.841924Z",
     "iopub.status.busy": "2021-04-27T00:17:57.841006Z",
     "iopub.status.idle": "2021-04-27T00:17:57.845710Z",
     "shell.execute_reply": "2021-04-27T00:17:57.845208Z"
    },
    "papermill": {
     "duration": 0.093607,
     "end_time": "2021-04-27T00:17:57.845870",
     "exception": false,
     "start_time": "2021-04-27T00:17:57.752263",
     "status": "completed"
    },
    "tags": []
   },
   "outputs": [
    {
     "data": {
      "text/plain": [
       "object     62\n",
       "float64    17\n",
       "int64      13\n",
       "dtype: int64"
      ]
     },
     "execution_count": 6,
     "metadata": {},
     "output_type": "execute_result"
    }
   ],
   "source": [
    "listings_df.dtypes.value_counts()"
   ]
  },
  {
   "cell_type": "code",
   "execution_count": 7,
   "id": "north-class",
   "metadata": {
    "execution": {
     "iopub.execute_input": "2021-04-27T00:17:58.012431Z",
     "iopub.status.busy": "2021-04-27T00:17:58.011695Z",
     "iopub.status.idle": "2021-04-27T00:17:58.106616Z",
     "shell.execute_reply": "2021-04-27T00:17:58.105943Z"
    },
    "papermill": {
     "duration": 0.181956,
     "end_time": "2021-04-27T00:17:58.106763",
     "exception": false,
     "start_time": "2021-04-27T00:17:57.924807",
     "status": "completed"
    },
    "tags": []
   },
   "outputs": [
    {
     "ename": "NameError",
     "evalue": "name 'listing_df' is not defined",
     "output_type": "error",
     "traceback": [
      "\u001b[0;31m---------------------------------------------------------------------------\u001b[0m",
      "\u001b[0;31mNameError\u001b[0m                                 Traceback (most recent call last)",
      "\u001b[0;32m<ipython-input-7-17e1112b0dac>\u001b[0m in \u001b[0;36m<module>\u001b[0;34m\u001b[0m\n\u001b[0;32m----> 1\u001b[0;31m \u001b[0mlist\u001b[0m\u001b[0;34m(\u001b[0m\u001b[0mlisting_df\u001b[0m\u001b[0;34m.\u001b[0m\u001b[0mcolumns\u001b[0m\u001b[0;34m.\u001b[0m\u001b[0mvalues\u001b[0m\u001b[0;34m)\u001b[0m\u001b[0;34m\u001b[0m\u001b[0;34m\u001b[0m\u001b[0m\n\u001b[0m",
      "\u001b[0;31mNameError\u001b[0m: name 'listing_df' is not defined"
     ]
    }
   ],
   "source": [
    "list(listing_df.columns.values)"
   ]
  },
  {
   "cell_type": "code",
   "execution_count": 8,
   "id": "coordinated-binding",
   "metadata": {
    "execution": {
     "iopub.execute_input": "2021-04-27T00:17:58.284049Z",
     "iopub.status.busy": "2021-04-27T00:17:58.278690Z",
     "iopub.status.idle": "2021-04-27T00:17:58.314218Z",
     "shell.execute_reply": "2021-04-27T00:17:58.313690Z"
    },
    "papermill": {
     "duration": 0.1266,
     "end_time": "2021-04-27T00:17:58.314378",
     "exception": false,
     "start_time": "2021-04-27T00:17:58.187778",
     "status": "completed"
    },
    "tags": []
   },
   "outputs": [
    {
     "data": {
      "text/html": [
       "<div>\n",
       "<style scoped>\n",
       "    .dataframe tbody tr th:only-of-type {\n",
       "        vertical-align: middle;\n",
       "    }\n",
       "\n",
       "    .dataframe tbody tr th {\n",
       "        vertical-align: top;\n",
       "    }\n",
       "\n",
       "    .dataframe thead th {\n",
       "        text-align: right;\n",
       "    }\n",
       "</style>\n",
       "<table border=\"1\" class=\"dataframe\">\n",
       "  <thead>\n",
       "    <tr style=\"text-align: right;\">\n",
       "      <th></th>\n",
       "      <th>host_listings_count</th>\n",
       "      <th>host_total_listings_count</th>\n",
       "      <th>latitude</th>\n",
       "      <th>longitude</th>\n",
       "      <th>bathrooms</th>\n",
       "      <th>bedrooms</th>\n",
       "      <th>beds</th>\n",
       "      <th>square_feet</th>\n",
       "      <th>review_scores_rating</th>\n",
       "      <th>review_scores_accuracy</th>\n",
       "      <th>review_scores_cleanliness</th>\n",
       "      <th>review_scores_checkin</th>\n",
       "      <th>review_scores_communication</th>\n",
       "      <th>review_scores_location</th>\n",
       "      <th>review_scores_value</th>\n",
       "      <th>license</th>\n",
       "      <th>reviews_per_month</th>\n",
       "    </tr>\n",
       "  </thead>\n",
       "  <tbody>\n",
       "    <tr>\n",
       "      <th>0</th>\n",
       "      <td>3.0</td>\n",
       "      <td>3.0</td>\n",
       "      <td>47.636289</td>\n",
       "      <td>-122.371025</td>\n",
       "      <td>1.0</td>\n",
       "      <td>1.0</td>\n",
       "      <td>1.0</td>\n",
       "      <td>NaN</td>\n",
       "      <td>95.0</td>\n",
       "      <td>10.0</td>\n",
       "      <td>10.0</td>\n",
       "      <td>10.0</td>\n",
       "      <td>10.0</td>\n",
       "      <td>9.0</td>\n",
       "      <td>10.0</td>\n",
       "      <td>NaN</td>\n",
       "      <td>4.07</td>\n",
       "    </tr>\n",
       "    <tr>\n",
       "      <th>1</th>\n",
       "      <td>6.0</td>\n",
       "      <td>6.0</td>\n",
       "      <td>47.639123</td>\n",
       "      <td>-122.365666</td>\n",
       "      <td>1.0</td>\n",
       "      <td>1.0</td>\n",
       "      <td>1.0</td>\n",
       "      <td>NaN</td>\n",
       "      <td>96.0</td>\n",
       "      <td>10.0</td>\n",
       "      <td>10.0</td>\n",
       "      <td>10.0</td>\n",
       "      <td>10.0</td>\n",
       "      <td>10.0</td>\n",
       "      <td>10.0</td>\n",
       "      <td>NaN</td>\n",
       "      <td>1.48</td>\n",
       "    </tr>\n",
       "    <tr>\n",
       "      <th>2</th>\n",
       "      <td>2.0</td>\n",
       "      <td>2.0</td>\n",
       "      <td>47.629724</td>\n",
       "      <td>-122.369483</td>\n",
       "      <td>4.5</td>\n",
       "      <td>5.0</td>\n",
       "      <td>7.0</td>\n",
       "      <td>NaN</td>\n",
       "      <td>97.0</td>\n",
       "      <td>10.0</td>\n",
       "      <td>10.0</td>\n",
       "      <td>10.0</td>\n",
       "      <td>10.0</td>\n",
       "      <td>10.0</td>\n",
       "      <td>10.0</td>\n",
       "      <td>NaN</td>\n",
       "      <td>1.15</td>\n",
       "    </tr>\n",
       "    <tr>\n",
       "      <th>3</th>\n",
       "      <td>1.0</td>\n",
       "      <td>1.0</td>\n",
       "      <td>47.638473</td>\n",
       "      <td>-122.369279</td>\n",
       "      <td>1.0</td>\n",
       "      <td>0.0</td>\n",
       "      <td>2.0</td>\n",
       "      <td>NaN</td>\n",
       "      <td>NaN</td>\n",
       "      <td>NaN</td>\n",
       "      <td>NaN</td>\n",
       "      <td>NaN</td>\n",
       "      <td>NaN</td>\n",
       "      <td>NaN</td>\n",
       "      <td>NaN</td>\n",
       "      <td>NaN</td>\n",
       "      <td>NaN</td>\n",
       "    </tr>\n",
       "    <tr>\n",
       "      <th>4</th>\n",
       "      <td>2.0</td>\n",
       "      <td>2.0</td>\n",
       "      <td>47.632918</td>\n",
       "      <td>-122.372471</td>\n",
       "      <td>2.0</td>\n",
       "      <td>3.0</td>\n",
       "      <td>3.0</td>\n",
       "      <td>NaN</td>\n",
       "      <td>92.0</td>\n",
       "      <td>9.0</td>\n",
       "      <td>9.0</td>\n",
       "      <td>10.0</td>\n",
       "      <td>10.0</td>\n",
       "      <td>9.0</td>\n",
       "      <td>9.0</td>\n",
       "      <td>NaN</td>\n",
       "      <td>0.89</td>\n",
       "    </tr>\n",
       "    <tr>\n",
       "      <th>5</th>\n",
       "      <td>1.0</td>\n",
       "      <td>1.0</td>\n",
       "      <td>47.630525</td>\n",
       "      <td>-122.366174</td>\n",
       "      <td>1.0</td>\n",
       "      <td>1.0</td>\n",
       "      <td>1.0</td>\n",
       "      <td>NaN</td>\n",
       "      <td>95.0</td>\n",
       "      <td>10.0</td>\n",
       "      <td>10.0</td>\n",
       "      <td>10.0</td>\n",
       "      <td>10.0</td>\n",
       "      <td>10.0</td>\n",
       "      <td>10.0</td>\n",
       "      <td>NaN</td>\n",
       "      <td>2.45</td>\n",
       "    </tr>\n",
       "    <tr>\n",
       "      <th>6</th>\n",
       "      <td>1.0</td>\n",
       "      <td>1.0</td>\n",
       "      <td>47.636605</td>\n",
       "      <td>-122.368519</td>\n",
       "      <td>1.0</td>\n",
       "      <td>1.0</td>\n",
       "      <td>1.0</td>\n",
       "      <td>NaN</td>\n",
       "      <td>99.0</td>\n",
       "      <td>10.0</td>\n",
       "      <td>10.0</td>\n",
       "      <td>10.0</td>\n",
       "      <td>10.0</td>\n",
       "      <td>10.0</td>\n",
       "      <td>10.0</td>\n",
       "      <td>NaN</td>\n",
       "      <td>2.46</td>\n",
       "    </tr>\n",
       "    <tr>\n",
       "      <th>7</th>\n",
       "      <td>5.0</td>\n",
       "      <td>5.0</td>\n",
       "      <td>47.640161</td>\n",
       "      <td>-122.375856</td>\n",
       "      <td>1.0</td>\n",
       "      <td>1.0</td>\n",
       "      <td>1.0</td>\n",
       "      <td>NaN</td>\n",
       "      <td>97.0</td>\n",
       "      <td>10.0</td>\n",
       "      <td>10.0</td>\n",
       "      <td>10.0</td>\n",
       "      <td>10.0</td>\n",
       "      <td>9.0</td>\n",
       "      <td>10.0</td>\n",
       "      <td>NaN</td>\n",
       "      <td>4.73</td>\n",
       "    </tr>\n",
       "    <tr>\n",
       "      <th>8</th>\n",
       "      <td>1.0</td>\n",
       "      <td>1.0</td>\n",
       "      <td>47.632410</td>\n",
       "      <td>-122.357216</td>\n",
       "      <td>1.0</td>\n",
       "      <td>1.0</td>\n",
       "      <td>1.0</td>\n",
       "      <td>NaN</td>\n",
       "      <td>97.0</td>\n",
       "      <td>10.0</td>\n",
       "      <td>9.0</td>\n",
       "      <td>10.0</td>\n",
       "      <td>9.0</td>\n",
       "      <td>10.0</td>\n",
       "      <td>10.0</td>\n",
       "      <td>NaN</td>\n",
       "      <td>1.22</td>\n",
       "    </tr>\n",
       "    <tr>\n",
       "      <th>9</th>\n",
       "      <td>6.0</td>\n",
       "      <td>6.0</td>\n",
       "      <td>47.637492</td>\n",
       "      <td>-122.366889</td>\n",
       "      <td>1.0</td>\n",
       "      <td>1.0</td>\n",
       "      <td>1.0</td>\n",
       "      <td>NaN</td>\n",
       "      <td>97.0</td>\n",
       "      <td>10.0</td>\n",
       "      <td>10.0</td>\n",
       "      <td>10.0</td>\n",
       "      <td>10.0</td>\n",
       "      <td>10.0</td>\n",
       "      <td>9.0</td>\n",
       "      <td>NaN</td>\n",
       "      <td>1.55</td>\n",
       "    </tr>\n",
       "  </tbody>\n",
       "</table>\n",
       "</div>"
      ],
      "text/plain": [
       "   host_listings_count  host_total_listings_count   latitude   longitude  \\\n",
       "0                  3.0                        3.0  47.636289 -122.371025   \n",
       "1                  6.0                        6.0  47.639123 -122.365666   \n",
       "2                  2.0                        2.0  47.629724 -122.369483   \n",
       "3                  1.0                        1.0  47.638473 -122.369279   \n",
       "4                  2.0                        2.0  47.632918 -122.372471   \n",
       "5                  1.0                        1.0  47.630525 -122.366174   \n",
       "6                  1.0                        1.0  47.636605 -122.368519   \n",
       "7                  5.0                        5.0  47.640161 -122.375856   \n",
       "8                  1.0                        1.0  47.632410 -122.357216   \n",
       "9                  6.0                        6.0  47.637492 -122.366889   \n",
       "\n",
       "   bathrooms  bedrooms  beds  square_feet  review_scores_rating  \\\n",
       "0        1.0       1.0   1.0          NaN                  95.0   \n",
       "1        1.0       1.0   1.0          NaN                  96.0   \n",
       "2        4.5       5.0   7.0          NaN                  97.0   \n",
       "3        1.0       0.0   2.0          NaN                   NaN   \n",
       "4        2.0       3.0   3.0          NaN                  92.0   \n",
       "5        1.0       1.0   1.0          NaN                  95.0   \n",
       "6        1.0       1.0   1.0          NaN                  99.0   \n",
       "7        1.0       1.0   1.0          NaN                  97.0   \n",
       "8        1.0       1.0   1.0          NaN                  97.0   \n",
       "9        1.0       1.0   1.0          NaN                  97.0   \n",
       "\n",
       "   review_scores_accuracy  review_scores_cleanliness  review_scores_checkin  \\\n",
       "0                    10.0                       10.0                   10.0   \n",
       "1                    10.0                       10.0                   10.0   \n",
       "2                    10.0                       10.0                   10.0   \n",
       "3                     NaN                        NaN                    NaN   \n",
       "4                     9.0                        9.0                   10.0   \n",
       "5                    10.0                       10.0                   10.0   \n",
       "6                    10.0                       10.0                   10.0   \n",
       "7                    10.0                       10.0                   10.0   \n",
       "8                    10.0                        9.0                   10.0   \n",
       "9                    10.0                       10.0                   10.0   \n",
       "\n",
       "   review_scores_communication  review_scores_location  review_scores_value  \\\n",
       "0                         10.0                     9.0                 10.0   \n",
       "1                         10.0                    10.0                 10.0   \n",
       "2                         10.0                    10.0                 10.0   \n",
       "3                          NaN                     NaN                  NaN   \n",
       "4                         10.0                     9.0                  9.0   \n",
       "5                         10.0                    10.0                 10.0   \n",
       "6                         10.0                    10.0                 10.0   \n",
       "7                         10.0                     9.0                 10.0   \n",
       "8                          9.0                    10.0                 10.0   \n",
       "9                         10.0                    10.0                  9.0   \n",
       "\n",
       "   license  reviews_per_month  \n",
       "0      NaN               4.07  \n",
       "1      NaN               1.48  \n",
       "2      NaN               1.15  \n",
       "3      NaN                NaN  \n",
       "4      NaN               0.89  \n",
       "5      NaN               2.45  \n",
       "6      NaN               2.46  \n",
       "7      NaN               4.73  \n",
       "8      NaN               1.22  \n",
       "9      NaN               1.55  "
      ]
     },
     "execution_count": 8,
     "metadata": {},
     "output_type": "execute_result"
    }
   ],
   "source": [
    "listings_df.select_dtypes(include = [\"float\"])[:10]"
   ]
  },
  {
   "cell_type": "code",
   "execution_count": 9,
   "id": "insured-killer",
   "metadata": {
    "execution": {
     "iopub.execute_input": "2021-04-27T00:17:58.497357Z",
     "iopub.status.busy": "2021-04-27T00:17:58.496326Z",
     "iopub.status.idle": "2021-04-27T00:17:58.501303Z",
     "shell.execute_reply": "2021-04-27T00:17:58.500452Z"
    },
    "papermill": {
     "duration": 0.10166,
     "end_time": "2021-04-27T00:17:58.501466",
     "exception": false,
     "start_time": "2021-04-27T00:17:58.399806",
     "status": "completed"
    },
    "tags": []
   },
   "outputs": [
    {
     "data": {
      "text/html": [
       "<div>\n",
       "<style scoped>\n",
       "    .dataframe tbody tr th:only-of-type {\n",
       "        vertical-align: middle;\n",
       "    }\n",
       "\n",
       "    .dataframe tbody tr th {\n",
       "        vertical-align: top;\n",
       "    }\n",
       "\n",
       "    .dataframe thead th {\n",
       "        text-align: right;\n",
       "    }\n",
       "</style>\n",
       "<table border=\"1\" class=\"dataframe\">\n",
       "  <thead>\n",
       "    <tr style=\"text-align: right;\">\n",
       "      <th></th>\n",
       "      <th>id</th>\n",
       "      <th>scrape_id</th>\n",
       "      <th>host_id</th>\n",
       "      <th>accommodates</th>\n",
       "      <th>guests_included</th>\n",
       "      <th>minimum_nights</th>\n",
       "      <th>maximum_nights</th>\n",
       "      <th>availability_30</th>\n",
       "      <th>availability_60</th>\n",
       "      <th>availability_90</th>\n",
       "      <th>availability_365</th>\n",
       "      <th>number_of_reviews</th>\n",
       "      <th>calculated_host_listings_count</th>\n",
       "    </tr>\n",
       "  </thead>\n",
       "  <tbody>\n",
       "    <tr>\n",
       "      <th>0</th>\n",
       "      <td>241032</td>\n",
       "      <td>20160104002432</td>\n",
       "      <td>956883</td>\n",
       "      <td>4</td>\n",
       "      <td>2</td>\n",
       "      <td>1</td>\n",
       "      <td>365</td>\n",
       "      <td>14</td>\n",
       "      <td>41</td>\n",
       "      <td>71</td>\n",
       "      <td>346</td>\n",
       "      <td>207</td>\n",
       "      <td>2</td>\n",
       "    </tr>\n",
       "    <tr>\n",
       "      <th>1</th>\n",
       "      <td>953595</td>\n",
       "      <td>20160104002432</td>\n",
       "      <td>5177328</td>\n",
       "      <td>4</td>\n",
       "      <td>1</td>\n",
       "      <td>2</td>\n",
       "      <td>90</td>\n",
       "      <td>13</td>\n",
       "      <td>13</td>\n",
       "      <td>16</td>\n",
       "      <td>291</td>\n",
       "      <td>43</td>\n",
       "      <td>6</td>\n",
       "    </tr>\n",
       "    <tr>\n",
       "      <th>2</th>\n",
       "      <td>3308979</td>\n",
       "      <td>20160104002432</td>\n",
       "      <td>16708587</td>\n",
       "      <td>11</td>\n",
       "      <td>10</td>\n",
       "      <td>4</td>\n",
       "      <td>30</td>\n",
       "      <td>1</td>\n",
       "      <td>6</td>\n",
       "      <td>17</td>\n",
       "      <td>220</td>\n",
       "      <td>20</td>\n",
       "      <td>2</td>\n",
       "    </tr>\n",
       "    <tr>\n",
       "      <th>3</th>\n",
       "      <td>7421966</td>\n",
       "      <td>20160104002432</td>\n",
       "      <td>9851441</td>\n",
       "      <td>3</td>\n",
       "      <td>1</td>\n",
       "      <td>1</td>\n",
       "      <td>1125</td>\n",
       "      <td>0</td>\n",
       "      <td>0</td>\n",
       "      <td>0</td>\n",
       "      <td>143</td>\n",
       "      <td>0</td>\n",
       "      <td>1</td>\n",
       "    </tr>\n",
       "    <tr>\n",
       "      <th>4</th>\n",
       "      <td>278830</td>\n",
       "      <td>20160104002432</td>\n",
       "      <td>1452570</td>\n",
       "      <td>6</td>\n",
       "      <td>6</td>\n",
       "      <td>1</td>\n",
       "      <td>1125</td>\n",
       "      <td>30</td>\n",
       "      <td>60</td>\n",
       "      <td>90</td>\n",
       "      <td>365</td>\n",
       "      <td>38</td>\n",
       "      <td>1</td>\n",
       "    </tr>\n",
       "  </tbody>\n",
       "</table>\n",
       "</div>"
      ],
      "text/plain": [
       "        id       scrape_id   host_id  accommodates  guests_included  \\\n",
       "0   241032  20160104002432    956883             4                2   \n",
       "1   953595  20160104002432   5177328             4                1   \n",
       "2  3308979  20160104002432  16708587            11               10   \n",
       "3  7421966  20160104002432   9851441             3                1   \n",
       "4   278830  20160104002432   1452570             6                6   \n",
       "\n",
       "   minimum_nights  maximum_nights  availability_30  availability_60  \\\n",
       "0               1             365               14               41   \n",
       "1               2              90               13               13   \n",
       "2               4              30                1                6   \n",
       "3               1            1125                0                0   \n",
       "4               1            1125               30               60   \n",
       "\n",
       "   availability_90  availability_365  number_of_reviews  \\\n",
       "0               71               346                207   \n",
       "1               16               291                 43   \n",
       "2               17               220                 20   \n",
       "3                0               143                  0   \n",
       "4               90               365                 38   \n",
       "\n",
       "   calculated_host_listings_count  \n",
       "0                               2  \n",
       "1                               6  \n",
       "2                               2  \n",
       "3                               1  \n",
       "4                               1  "
      ]
     },
     "execution_count": 9,
     "metadata": {},
     "output_type": "execute_result"
    }
   ],
   "source": [
    "# Integer data type columns\n",
    "listings_df.select_dtypes(include = [\"int\"])[:5]"
   ]
  },
  {
   "cell_type": "code",
   "execution_count": 10,
   "id": "missing-degree",
   "metadata": {
    "execution": {
     "iopub.execute_input": "2021-04-27T00:17:58.667743Z",
     "iopub.status.busy": "2021-04-27T00:17:58.667037Z",
     "iopub.status.idle": "2021-04-27T00:17:58.695208Z",
     "shell.execute_reply": "2021-04-27T00:17:58.695655Z"
    },
    "papermill": {
     "duration": 0.112525,
     "end_time": "2021-04-27T00:17:58.695841",
     "exception": false,
     "start_time": "2021-04-27T00:17:58.583316",
     "status": "completed"
    },
    "tags": []
   },
   "outputs": [
    {
     "data": {
      "text/html": [
       "<div>\n",
       "<style scoped>\n",
       "    .dataframe tbody tr th:only-of-type {\n",
       "        vertical-align: middle;\n",
       "    }\n",
       "\n",
       "    .dataframe tbody tr th {\n",
       "        vertical-align: top;\n",
       "    }\n",
       "\n",
       "    .dataframe thead th {\n",
       "        text-align: right;\n",
       "    }\n",
       "</style>\n",
       "<table border=\"1\" class=\"dataframe\">\n",
       "  <thead>\n",
       "    <tr style=\"text-align: right;\">\n",
       "      <th></th>\n",
       "      <th>listing_url</th>\n",
       "      <th>last_scraped</th>\n",
       "      <th>name</th>\n",
       "      <th>summary</th>\n",
       "      <th>space</th>\n",
       "      <th>description</th>\n",
       "      <th>experiences_offered</th>\n",
       "      <th>neighborhood_overview</th>\n",
       "      <th>notes</th>\n",
       "      <th>transit</th>\n",
       "      <th>...</th>\n",
       "      <th>has_availability</th>\n",
       "      <th>calendar_last_scraped</th>\n",
       "      <th>first_review</th>\n",
       "      <th>last_review</th>\n",
       "      <th>requires_license</th>\n",
       "      <th>jurisdiction_names</th>\n",
       "      <th>instant_bookable</th>\n",
       "      <th>cancellation_policy</th>\n",
       "      <th>require_guest_profile_picture</th>\n",
       "      <th>require_guest_phone_verification</th>\n",
       "    </tr>\n",
       "  </thead>\n",
       "  <tbody>\n",
       "    <tr>\n",
       "      <th>0</th>\n",
       "      <td>https://www.airbnb.com/rooms/241032</td>\n",
       "      <td>2016-01-04</td>\n",
       "      <td>Stylish Queen Anne Apartment</td>\n",
       "      <td>NaN</td>\n",
       "      <td>Make your self at home in this charming one-be...</td>\n",
       "      <td>Make your self at home in this charming one-be...</td>\n",
       "      <td>none</td>\n",
       "      <td>NaN</td>\n",
       "      <td>NaN</td>\n",
       "      <td>NaN</td>\n",
       "      <td>...</td>\n",
       "      <td>t</td>\n",
       "      <td>2016-01-04</td>\n",
       "      <td>2011-11-01</td>\n",
       "      <td>2016-01-02</td>\n",
       "      <td>f</td>\n",
       "      <td>WASHINGTON</td>\n",
       "      <td>f</td>\n",
       "      <td>moderate</td>\n",
       "      <td>f</td>\n",
       "      <td>f</td>\n",
       "    </tr>\n",
       "    <tr>\n",
       "      <th>1</th>\n",
       "      <td>https://www.airbnb.com/rooms/953595</td>\n",
       "      <td>2016-01-04</td>\n",
       "      <td>Bright &amp; Airy Queen Anne Apartment</td>\n",
       "      <td>Chemically sensitive? We've removed the irrita...</td>\n",
       "      <td>Beautiful, hypoallergenic apartment in an extr...</td>\n",
       "      <td>Chemically sensitive? We've removed the irrita...</td>\n",
       "      <td>none</td>\n",
       "      <td>Queen Anne is a wonderful, truly functional vi...</td>\n",
       "      <td>What's up with the free pillows?  Our home was...</td>\n",
       "      <td>Convenient bus stops are just down the block, ...</td>\n",
       "      <td>...</td>\n",
       "      <td>t</td>\n",
       "      <td>2016-01-04</td>\n",
       "      <td>2013-08-19</td>\n",
       "      <td>2015-12-29</td>\n",
       "      <td>f</td>\n",
       "      <td>WASHINGTON</td>\n",
       "      <td>f</td>\n",
       "      <td>strict</td>\n",
       "      <td>t</td>\n",
       "      <td>t</td>\n",
       "    </tr>\n",
       "    <tr>\n",
       "      <th>2</th>\n",
       "      <td>https://www.airbnb.com/rooms/3308979</td>\n",
       "      <td>2016-01-04</td>\n",
       "      <td>New Modern House-Amazing water view</td>\n",
       "      <td>New modern house built in 2013.  Spectacular s...</td>\n",
       "      <td>Our house is modern, light and fresh with a wa...</td>\n",
       "      <td>New modern house built in 2013.  Spectacular s...</td>\n",
       "      <td>none</td>\n",
       "      <td>Upper Queen Anne is a charming neighborhood fu...</td>\n",
       "      <td>Our house is located just 5 short blocks to To...</td>\n",
       "      <td>A bus stop is just 2 blocks away.   Easy bus a...</td>\n",
       "      <td>...</td>\n",
       "      <td>t</td>\n",
       "      <td>2016-01-04</td>\n",
       "      <td>2014-07-30</td>\n",
       "      <td>2015-09-03</td>\n",
       "      <td>f</td>\n",
       "      <td>WASHINGTON</td>\n",
       "      <td>f</td>\n",
       "      <td>strict</td>\n",
       "      <td>f</td>\n",
       "      <td>f</td>\n",
       "    </tr>\n",
       "    <tr>\n",
       "      <th>3</th>\n",
       "      <td>https://www.airbnb.com/rooms/7421966</td>\n",
       "      <td>2016-01-04</td>\n",
       "      <td>Queen Anne Chateau</td>\n",
       "      <td>A charming apartment that sits atop Queen Anne...</td>\n",
       "      <td>NaN</td>\n",
       "      <td>A charming apartment that sits atop Queen Anne...</td>\n",
       "      <td>none</td>\n",
       "      <td>NaN</td>\n",
       "      <td>NaN</td>\n",
       "      <td>NaN</td>\n",
       "      <td>...</td>\n",
       "      <td>t</td>\n",
       "      <td>2016-01-04</td>\n",
       "      <td>NaN</td>\n",
       "      <td>NaN</td>\n",
       "      <td>f</td>\n",
       "      <td>WASHINGTON</td>\n",
       "      <td>f</td>\n",
       "      <td>flexible</td>\n",
       "      <td>f</td>\n",
       "      <td>f</td>\n",
       "    </tr>\n",
       "    <tr>\n",
       "      <th>4</th>\n",
       "      <td>https://www.airbnb.com/rooms/278830</td>\n",
       "      <td>2016-01-04</td>\n",
       "      <td>Charming craftsman 3 bdm house</td>\n",
       "      <td>Cozy family craftman house in beautiful neighb...</td>\n",
       "      <td>Cozy family craftman house in beautiful neighb...</td>\n",
       "      <td>Cozy family craftman house in beautiful neighb...</td>\n",
       "      <td>none</td>\n",
       "      <td>We are in the beautiful neighborhood of Queen ...</td>\n",
       "      <td>Belltown</td>\n",
       "      <td>The nearest public transit bus (D Line) is 2 b...</td>\n",
       "      <td>...</td>\n",
       "      <td>t</td>\n",
       "      <td>2016-01-04</td>\n",
       "      <td>2012-07-10</td>\n",
       "      <td>2015-10-24</td>\n",
       "      <td>f</td>\n",
       "      <td>WASHINGTON</td>\n",
       "      <td>f</td>\n",
       "      <td>strict</td>\n",
       "      <td>f</td>\n",
       "      <td>f</td>\n",
       "    </tr>\n",
       "  </tbody>\n",
       "</table>\n",
       "<p>5 rows × 62 columns</p>\n",
       "</div>"
      ],
      "text/plain": [
       "                            listing_url last_scraped  \\\n",
       "0   https://www.airbnb.com/rooms/241032   2016-01-04   \n",
       "1   https://www.airbnb.com/rooms/953595   2016-01-04   \n",
       "2  https://www.airbnb.com/rooms/3308979   2016-01-04   \n",
       "3  https://www.airbnb.com/rooms/7421966   2016-01-04   \n",
       "4   https://www.airbnb.com/rooms/278830   2016-01-04   \n",
       "\n",
       "                                  name  \\\n",
       "0         Stylish Queen Anne Apartment   \n",
       "1   Bright & Airy Queen Anne Apartment   \n",
       "2  New Modern House-Amazing water view   \n",
       "3                   Queen Anne Chateau   \n",
       "4       Charming craftsman 3 bdm house   \n",
       "\n",
       "                                             summary  \\\n",
       "0                                                NaN   \n",
       "1  Chemically sensitive? We've removed the irrita...   \n",
       "2  New modern house built in 2013.  Spectacular s...   \n",
       "3  A charming apartment that sits atop Queen Anne...   \n",
       "4  Cozy family craftman house in beautiful neighb...   \n",
       "\n",
       "                                               space  \\\n",
       "0  Make your self at home in this charming one-be...   \n",
       "1  Beautiful, hypoallergenic apartment in an extr...   \n",
       "2  Our house is modern, light and fresh with a wa...   \n",
       "3                                                NaN   \n",
       "4  Cozy family craftman house in beautiful neighb...   \n",
       "\n",
       "                                         description experiences_offered  \\\n",
       "0  Make your self at home in this charming one-be...                none   \n",
       "1  Chemically sensitive? We've removed the irrita...                none   \n",
       "2  New modern house built in 2013.  Spectacular s...                none   \n",
       "3  A charming apartment that sits atop Queen Anne...                none   \n",
       "4  Cozy family craftman house in beautiful neighb...                none   \n",
       "\n",
       "                               neighborhood_overview  \\\n",
       "0                                                NaN   \n",
       "1  Queen Anne is a wonderful, truly functional vi...   \n",
       "2  Upper Queen Anne is a charming neighborhood fu...   \n",
       "3                                                NaN   \n",
       "4  We are in the beautiful neighborhood of Queen ...   \n",
       "\n",
       "                                               notes  \\\n",
       "0                                                NaN   \n",
       "1  What's up with the free pillows?  Our home was...   \n",
       "2  Our house is located just 5 short blocks to To...   \n",
       "3                                                NaN   \n",
       "4                                          Belltown    \n",
       "\n",
       "                                             transit  ... has_availability  \\\n",
       "0                                                NaN  ...                t   \n",
       "1  Convenient bus stops are just down the block, ...  ...                t   \n",
       "2  A bus stop is just 2 blocks away.   Easy bus a...  ...                t   \n",
       "3                                                NaN  ...                t   \n",
       "4  The nearest public transit bus (D Line) is 2 b...  ...                t   \n",
       "\n",
       "  calendar_last_scraped first_review last_review requires_license  \\\n",
       "0            2016-01-04   2011-11-01  2016-01-02                f   \n",
       "1            2016-01-04   2013-08-19  2015-12-29                f   \n",
       "2            2016-01-04   2014-07-30  2015-09-03                f   \n",
       "3            2016-01-04          NaN         NaN                f   \n",
       "4            2016-01-04   2012-07-10  2015-10-24                f   \n",
       "\n",
       "  jurisdiction_names instant_bookable cancellation_policy  \\\n",
       "0         WASHINGTON                f            moderate   \n",
       "1         WASHINGTON                f              strict   \n",
       "2         WASHINGTON                f              strict   \n",
       "3         WASHINGTON                f            flexible   \n",
       "4         WASHINGTON                f              strict   \n",
       "\n",
       "  require_guest_profile_picture require_guest_phone_verification  \n",
       "0                             f                                f  \n",
       "1                             t                                t  \n",
       "2                             f                                f  \n",
       "3                             f                                f  \n",
       "4                             f                                f  \n",
       "\n",
       "[5 rows x 62 columns]"
      ]
     },
     "execution_count": 10,
     "metadata": {},
     "output_type": "execute_result"
    }
   ],
   "source": [
    "# Object data type columns\n",
    "listings_df.select_dtypes(include = [\"object\"])[:5]"
   ]
  },
  {
   "cell_type": "code",
   "execution_count": 11,
   "id": "proved-flight",
   "metadata": {
    "execution": {
     "iopub.execute_input": "2021-04-27T00:17:58.865420Z",
     "iopub.status.busy": "2021-04-27T00:17:58.864756Z",
     "iopub.status.idle": "2021-04-27T00:17:58.876454Z",
     "shell.execute_reply": "2021-04-27T00:17:58.876933Z"
    },
    "papermill": {
     "duration": 0.097218,
     "end_time": "2021-04-27T00:17:58.877114",
     "exception": false,
     "start_time": "2021-04-27T00:17:58.779896",
     "status": "completed"
    },
    "tags": []
   },
   "outputs": [
    {
     "data": {
      "text/plain": [
       "['listing_url',\n",
       " 'last_scraped',\n",
       " 'name',\n",
       " 'summary',\n",
       " 'space',\n",
       " 'description',\n",
       " 'experiences_offered',\n",
       " 'neighborhood_overview',\n",
       " 'notes',\n",
       " 'transit',\n",
       " 'thumbnail_url',\n",
       " 'medium_url',\n",
       " 'picture_url',\n",
       " 'xl_picture_url',\n",
       " 'host_url',\n",
       " 'host_name',\n",
       " 'host_since',\n",
       " 'host_location',\n",
       " 'host_about',\n",
       " 'host_response_time',\n",
       " 'host_response_rate',\n",
       " 'host_acceptance_rate',\n",
       " 'host_is_superhost',\n",
       " 'host_thumbnail_url',\n",
       " 'host_picture_url',\n",
       " 'host_neighbourhood',\n",
       " 'host_verifications',\n",
       " 'host_has_profile_pic',\n",
       " 'host_identity_verified',\n",
       " 'street',\n",
       " 'neighbourhood',\n",
       " 'neighbourhood_cleansed',\n",
       " 'neighbourhood_group_cleansed',\n",
       " 'city',\n",
       " 'state',\n",
       " 'zipcode',\n",
       " 'market',\n",
       " 'smart_location',\n",
       " 'country_code',\n",
       " 'country',\n",
       " 'is_location_exact',\n",
       " 'property_type',\n",
       " 'room_type',\n",
       " 'bed_type',\n",
       " 'amenities',\n",
       " 'price',\n",
       " 'weekly_price',\n",
       " 'monthly_price',\n",
       " 'security_deposit',\n",
       " 'cleaning_fee',\n",
       " 'extra_people',\n",
       " 'calendar_updated',\n",
       " 'has_availability',\n",
       " 'calendar_last_scraped',\n",
       " 'first_review',\n",
       " 'last_review',\n",
       " 'requires_license',\n",
       " 'jurisdiction_names',\n",
       " 'instant_bookable',\n",
       " 'cancellation_policy',\n",
       " 'require_guest_profile_picture',\n",
       " 'require_guest_phone_verification']"
      ]
     },
     "execution_count": 11,
     "metadata": {},
     "output_type": "execute_result"
    }
   ],
   "source": [
    "list(listings_df.select_dtypes(include = [\"object\"]).columns.values)"
   ]
  },
  {
   "cell_type": "code",
   "execution_count": 12,
   "id": "functioning-denial",
   "metadata": {
    "execution": {
     "iopub.execute_input": "2021-04-27T00:17:59.050261Z",
     "iopub.status.busy": "2021-04-27T00:17:59.049610Z",
     "iopub.status.idle": "2021-04-27T00:17:59.082065Z",
     "shell.execute_reply": "2021-04-27T00:17:59.082566Z"
    },
    "papermill": {
     "duration": 0.120228,
     "end_time": "2021-04-27T00:17:59.082771",
     "exception": false,
     "start_time": "2021-04-27T00:17:58.962543",
     "status": "completed"
    },
    "tags": []
   },
   "outputs": [
    {
     "data": {
      "text/plain": [
       "id                                    0\n",
       "listing_url                           0\n",
       "scrape_id                             0\n",
       "last_scraped                          0\n",
       "name                                  0\n",
       "                                   ... \n",
       "cancellation_policy                   0\n",
       "require_guest_profile_picture         0\n",
       "require_guest_phone_verification      0\n",
       "calculated_host_listings_count        0\n",
       "reviews_per_month                   627\n",
       "Length: 92, dtype: int64"
      ]
     },
     "execution_count": 12,
     "metadata": {},
     "output_type": "execute_result"
    }
   ],
   "source": [
    "listings_df.isna().sum()"
   ]
  },
  {
   "cell_type": "code",
   "execution_count": 13,
   "id": "opposite-disney",
   "metadata": {
    "execution": {
     "iopub.execute_input": "2021-04-27T00:17:59.258238Z",
     "iopub.status.busy": "2021-04-27T00:17:59.257554Z",
     "iopub.status.idle": "2021-04-27T00:17:59.338073Z",
     "shell.execute_reply": "2021-04-27T00:17:59.337433Z"
    },
    "papermill": {
     "duration": 0.168651,
     "end_time": "2021-04-27T00:17:59.338253",
     "exception": false,
     "start_time": "2021-04-27T00:17:59.169602",
     "status": "completed"
    },
    "tags": []
   },
   "outputs": [
    {
     "data": {
      "text/plain": [
       "summary                         177\n",
       "space                           569\n",
       "neighborhood_overview          1032\n",
       "notes                          1606\n",
       "transit                         934\n",
       "thumbnail_url                   320\n",
       "medium_url                      320\n",
       "xl_picture_url                  320\n",
       "host_name                         2\n",
       "host_since                        2\n",
       "host_location                     8\n",
       "host_about                      859\n",
       "host_response_time              523\n",
       "host_response_rate              523\n",
       "host_acceptance_rate            773\n",
       "host_is_superhost                 2\n",
       "host_thumbnail_url                2\n",
       "host_picture_url                  2\n",
       "host_neighbourhood              300\n",
       "host_listings_count               2\n",
       "host_total_listings_count         2\n",
       "host_has_profile_pic              2\n",
       "host_identity_verified            2\n",
       "neighbourhood                   416\n",
       "zipcode                           7\n",
       "property_type                     1\n",
       "bathrooms                        16\n",
       "bedrooms                          6\n",
       "beds                              1\n",
       "square_feet                    3721\n",
       "weekly_price                   1809\n",
       "monthly_price                  2301\n",
       "security_deposit               1952\n",
       "cleaning_fee                   1030\n",
       "first_review                    627\n",
       "last_review                     627\n",
       "review_scores_rating            647\n",
       "review_scores_accuracy          658\n",
       "review_scores_cleanliness       653\n",
       "review_scores_checkin           658\n",
       "review_scores_communication     651\n",
       "review_scores_location          655\n",
       "review_scores_value             656\n",
       "license                        3818\n",
       "reviews_per_month               627\n",
       "dtype: int64"
      ]
     },
     "execution_count": 13,
     "metadata": {},
     "output_type": "execute_result"
    }
   ],
   "source": [
    "listings_df.isna().sum()[listings_df.isna().sum() > 0]"
   ]
  },
  {
   "cell_type": "code",
   "execution_count": 14,
   "id": "timely-syracuse",
   "metadata": {
    "execution": {
     "iopub.execute_input": "2021-04-27T00:17:59.525779Z",
     "iopub.status.busy": "2021-04-27T00:17:59.524984Z",
     "iopub.status.idle": "2021-04-27T00:17:59.529469Z",
     "shell.execute_reply": "2021-04-27T00:17:59.528661Z"
    },
    "papermill": {
     "duration": 0.103487,
     "end_time": "2021-04-27T00:17:59.529617",
     "exception": false,
     "start_time": "2021-04-27T00:17:59.426130",
     "status": "completed"
    },
    "tags": []
   },
   "outputs": [
    {
     "data": {
      "text/plain": [
       "['price', 'weekly_price', 'monthly_price']"
      ]
     },
     "execution_count": 14,
     "metadata": {},
     "output_type": "execute_result"
    }
   ],
   "source": [
    "price_cols = [col for col in listings_df.columns if 'price' in col]\n",
    "price_cols"
   ]
  },
  {
   "cell_type": "code",
   "execution_count": 15,
   "id": "stuffed-helicopter",
   "metadata": {
    "execution": {
     "iopub.execute_input": "2021-04-27T00:17:59.722839Z",
     "iopub.status.busy": "2021-04-27T00:17:59.721773Z",
     "iopub.status.idle": "2021-04-27T00:17:59.725716Z",
     "shell.execute_reply": "2021-04-27T00:17:59.726342Z"
    },
    "papermill": {
     "duration": 0.107898,
     "end_time": "2021-04-27T00:17:59.726513",
     "exception": false,
     "start_time": "2021-04-27T00:17:59.618615",
     "status": "completed"
    },
    "tags": []
   },
   "outputs": [
    {
     "data": {
      "text/html": [
       "<div>\n",
       "<style scoped>\n",
       "    .dataframe tbody tr th:only-of-type {\n",
       "        vertical-align: middle;\n",
       "    }\n",
       "\n",
       "    .dataframe tbody tr th {\n",
       "        vertical-align: top;\n",
       "    }\n",
       "\n",
       "    .dataframe thead th {\n",
       "        text-align: right;\n",
       "    }\n",
       "</style>\n",
       "<table border=\"1\" class=\"dataframe\">\n",
       "  <thead>\n",
       "    <tr style=\"text-align: right;\">\n",
       "      <th></th>\n",
       "      <th>price</th>\n",
       "      <th>weekly_price</th>\n",
       "      <th>monthly_price</th>\n",
       "    </tr>\n",
       "  </thead>\n",
       "  <tbody>\n",
       "    <tr>\n",
       "      <th>0</th>\n",
       "      <td>$85.00</td>\n",
       "      <td>NaN</td>\n",
       "      <td>NaN</td>\n",
       "    </tr>\n",
       "    <tr>\n",
       "      <th>1</th>\n",
       "      <td>$150.00</td>\n",
       "      <td>$1,000.00</td>\n",
       "      <td>$3,000.00</td>\n",
       "    </tr>\n",
       "    <tr>\n",
       "      <th>2</th>\n",
       "      <td>$975.00</td>\n",
       "      <td>NaN</td>\n",
       "      <td>NaN</td>\n",
       "    </tr>\n",
       "    <tr>\n",
       "      <th>3</th>\n",
       "      <td>$100.00</td>\n",
       "      <td>$650.00</td>\n",
       "      <td>$2,300.00</td>\n",
       "    </tr>\n",
       "    <tr>\n",
       "      <th>4</th>\n",
       "      <td>$450.00</td>\n",
       "      <td>NaN</td>\n",
       "      <td>NaN</td>\n",
       "    </tr>\n",
       "  </tbody>\n",
       "</table>\n",
       "</div>"
      ],
      "text/plain": [
       "     price weekly_price monthly_price\n",
       "0   $85.00          NaN           NaN\n",
       "1  $150.00    $1,000.00     $3,000.00\n",
       "2  $975.00          NaN           NaN\n",
       "3  $100.00      $650.00     $2,300.00\n",
       "4  $450.00          NaN           NaN"
      ]
     },
     "execution_count": 15,
     "metadata": {},
     "output_type": "execute_result"
    }
   ],
   "source": [
    "listings_df[price_cols][:5]"
   ]
  },
  {
   "cell_type": "code",
   "execution_count": 16,
   "id": "actual-harvey",
   "metadata": {
    "execution": {
     "iopub.execute_input": "2021-04-27T00:17:59.909325Z",
     "iopub.status.busy": "2021-04-27T00:17:59.908333Z",
     "iopub.status.idle": "2021-04-27T00:17:59.949269Z",
     "shell.execute_reply": "2021-04-27T00:17:59.949728Z"
    },
    "papermill": {
     "duration": 0.130883,
     "end_time": "2021-04-27T00:17:59.949939",
     "exception": false,
     "start_time": "2021-04-27T00:17:59.819056",
     "status": "completed"
    },
    "tags": []
   },
   "outputs": [
    {
     "data": {
      "text/html": [
       "<div>\n",
       "<style scoped>\n",
       "    .dataframe tbody tr th:only-of-type {\n",
       "        vertical-align: middle;\n",
       "    }\n",
       "\n",
       "    .dataframe tbody tr th {\n",
       "        vertical-align: top;\n",
       "    }\n",
       "\n",
       "    .dataframe thead th {\n",
       "        text-align: right;\n",
       "    }\n",
       "</style>\n",
       "<table border=\"1\" class=\"dataframe\">\n",
       "  <thead>\n",
       "    <tr style=\"text-align: right;\">\n",
       "      <th></th>\n",
       "      <th>city</th>\n",
       "      <th>state</th>\n",
       "      <th>zipcode</th>\n",
       "      <th>market</th>\n",
       "      <th>smart_location</th>\n",
       "      <th>country_code</th>\n",
       "      <th>country</th>\n",
       "    </tr>\n",
       "  </thead>\n",
       "  <tbody>\n",
       "    <tr>\n",
       "      <th>count</th>\n",
       "      <td>3818</td>\n",
       "      <td>3818</td>\n",
       "      <td>3811</td>\n",
       "      <td>3818</td>\n",
       "      <td>3818</td>\n",
       "      <td>3818</td>\n",
       "      <td>3818</td>\n",
       "    </tr>\n",
       "    <tr>\n",
       "      <th>unique</th>\n",
       "      <td>7</td>\n",
       "      <td>2</td>\n",
       "      <td>28</td>\n",
       "      <td>1</td>\n",
       "      <td>7</td>\n",
       "      <td>1</td>\n",
       "      <td>1</td>\n",
       "    </tr>\n",
       "    <tr>\n",
       "      <th>top</th>\n",
       "      <td>Seattle</td>\n",
       "      <td>WA</td>\n",
       "      <td>98122</td>\n",
       "      <td>Seattle</td>\n",
       "      <td>Seattle, WA</td>\n",
       "      <td>US</td>\n",
       "      <td>United States</td>\n",
       "    </tr>\n",
       "    <tr>\n",
       "      <th>freq</th>\n",
       "      <td>3810</td>\n",
       "      <td>3817</td>\n",
       "      <td>420</td>\n",
       "      <td>3818</td>\n",
       "      <td>3810</td>\n",
       "      <td>3818</td>\n",
       "      <td>3818</td>\n",
       "    </tr>\n",
       "  </tbody>\n",
       "</table>\n",
       "</div>"
      ],
      "text/plain": [
       "           city state zipcode   market smart_location country_code  \\\n",
       "count      3818  3818    3811     3818           3818         3818   \n",
       "unique        7     2      28        1              7            1   \n",
       "top     Seattle    WA   98122  Seattle    Seattle, WA           US   \n",
       "freq       3810  3817     420     3818           3810         3818   \n",
       "\n",
       "              country  \n",
       "count            3818  \n",
       "unique              1  \n",
       "top     United States  \n",
       "freq             3818  "
      ]
     },
     "execution_count": 16,
     "metadata": {},
     "output_type": "execute_result"
    }
   ],
   "source": [
    "listings_df[['city','state','zipcode','market','smart_location','country_code','country']].describe()"
   ]
  },
  {
   "cell_type": "code",
   "execution_count": 17,
   "id": "infrared-spank",
   "metadata": {
    "execution": {
     "iopub.execute_input": "2021-04-27T00:18:00.146401Z",
     "iopub.status.busy": "2021-04-27T00:18:00.145643Z",
     "iopub.status.idle": "2021-04-27T00:18:00.155582Z",
     "shell.execute_reply": "2021-04-27T00:18:00.156120Z"
    },
    "papermill": {
     "duration": 0.113059,
     "end_time": "2021-04-27T00:18:00.156314",
     "exception": false,
     "start_time": "2021-04-27T00:18:00.043255",
     "status": "completed"
    },
    "tags": []
   },
   "outputs": [
    {
     "data": {
      "text/html": [
       "<div>\n",
       "<style scoped>\n",
       "    .dataframe tbody tr th:only-of-type {\n",
       "        vertical-align: middle;\n",
       "    }\n",
       "\n",
       "    .dataframe tbody tr th {\n",
       "        vertical-align: top;\n",
       "    }\n",
       "\n",
       "    .dataframe thead th {\n",
       "        text-align: right;\n",
       "    }\n",
       "</style>\n",
       "<table border=\"1\" class=\"dataframe\">\n",
       "  <thead>\n",
       "    <tr style=\"text-align: right;\">\n",
       "      <th></th>\n",
       "      <th>city</th>\n",
       "      <th>zipcode</th>\n",
       "      <th>smart_location</th>\n",
       "    </tr>\n",
       "    <tr>\n",
       "      <th>state</th>\n",
       "      <th></th>\n",
       "      <th></th>\n",
       "      <th></th>\n",
       "    </tr>\n",
       "  </thead>\n",
       "  <tbody>\n",
       "    <tr>\n",
       "      <th>WA</th>\n",
       "      <td>3817</td>\n",
       "      <td>3810</td>\n",
       "      <td>3817</td>\n",
       "    </tr>\n",
       "    <tr>\n",
       "      <th>wa</th>\n",
       "      <td>1</td>\n",
       "      <td>1</td>\n",
       "      <td>1</td>\n",
       "    </tr>\n",
       "  </tbody>\n",
       "</table>\n",
       "</div>"
      ],
      "text/plain": [
       "       city  zipcode  smart_location\n",
       "state                               \n",
       "WA     3817     3810            3817\n",
       "wa        1        1               1"
      ]
     },
     "execution_count": 17,
     "metadata": {},
     "output_type": "execute_result"
    }
   ],
   "source": [
    "listings_df[['city','state','zipcode','smart_location']].groupby('state').count()"
   ]
  },
  {
   "cell_type": "code",
   "execution_count": 18,
   "id": "consolidated-responsibility",
   "metadata": {
    "execution": {
     "iopub.execute_input": "2021-04-27T00:18:00.353206Z",
     "iopub.status.busy": "2021-04-27T00:18:00.346717Z",
     "iopub.status.idle": "2021-04-27T00:18:00.358528Z",
     "shell.execute_reply": "2021-04-27T00:18:00.357891Z"
    },
    "papermill": {
     "duration": 0.108174,
     "end_time": "2021-04-27T00:18:00.358669",
     "exception": false,
     "start_time": "2021-04-27T00:18:00.250495",
     "status": "completed"
    },
    "tags": []
   },
   "outputs": [
    {
     "data": {
      "text/html": [
       "<div>\n",
       "<style scoped>\n",
       "    .dataframe tbody tr th:only-of-type {\n",
       "        vertical-align: middle;\n",
       "    }\n",
       "\n",
       "    .dataframe tbody tr th {\n",
       "        vertical-align: top;\n",
       "    }\n",
       "\n",
       "    .dataframe thead th {\n",
       "        text-align: right;\n",
       "    }\n",
       "</style>\n",
       "<table border=\"1\" class=\"dataframe\">\n",
       "  <thead>\n",
       "    <tr style=\"text-align: right;\">\n",
       "      <th></th>\n",
       "      <th>city</th>\n",
       "      <th>zipcode</th>\n",
       "    </tr>\n",
       "    <tr>\n",
       "      <th>smart_location</th>\n",
       "      <th></th>\n",
       "      <th></th>\n",
       "    </tr>\n",
       "  </thead>\n",
       "  <tbody>\n",
       "    <tr>\n",
       "      <th>Ballard, Seattle, WA</th>\n",
       "      <td>1</td>\n",
       "      <td>1</td>\n",
       "    </tr>\n",
       "    <tr>\n",
       "      <th>Phinney Ridge Seattle, WA</th>\n",
       "      <td>1</td>\n",
       "      <td>1</td>\n",
       "    </tr>\n",
       "    <tr>\n",
       "      <th>Seattle , WA</th>\n",
       "      <td>2</td>\n",
       "      <td>2</td>\n",
       "    </tr>\n",
       "    <tr>\n",
       "      <th>Seattle, WA</th>\n",
       "      <td>3810</td>\n",
       "      <td>3803</td>\n",
       "    </tr>\n",
       "    <tr>\n",
       "      <th>West Seattle, WA</th>\n",
       "      <td>2</td>\n",
       "      <td>2</td>\n",
       "    </tr>\n",
       "    <tr>\n",
       "      <th>seattle, wa</th>\n",
       "      <td>1</td>\n",
       "      <td>1</td>\n",
       "    </tr>\n",
       "    <tr>\n",
       "      <th>西雅图, WA</th>\n",
       "      <td>1</td>\n",
       "      <td>1</td>\n",
       "    </tr>\n",
       "  </tbody>\n",
       "</table>\n",
       "</div>"
      ],
      "text/plain": [
       "                           city  zipcode\n",
       "smart_location                          \n",
       "Ballard, Seattle, WA          1        1\n",
       "Phinney Ridge Seattle, WA     1        1\n",
       "Seattle , WA                  2        2\n",
       "Seattle, WA                3810     3803\n",
       "West Seattle, WA              2        2\n",
       "seattle, wa                   1        1\n",
       "西雅图, WA                       1        1"
      ]
     },
     "execution_count": 18,
     "metadata": {},
     "output_type": "execute_result"
    }
   ],
   "source": [
    "listings_df[['city','zipcode','smart_location']].groupby('smart_location').count()"
   ]
  },
  {
   "cell_type": "code",
   "execution_count": 19,
   "id": "rough-numbers",
   "metadata": {
    "execution": {
     "iopub.execute_input": "2021-04-27T00:18:00.545723Z",
     "iopub.status.busy": "2021-04-27T00:18:00.545075Z",
     "iopub.status.idle": "2021-04-27T00:18:00.559641Z",
     "shell.execute_reply": "2021-04-27T00:18:00.558967Z"
    },
    "papermill": {
     "duration": 0.110419,
     "end_time": "2021-04-27T00:18:00.559843",
     "exception": false,
     "start_time": "2021-04-27T00:18:00.449424",
     "status": "completed"
    },
    "tags": []
   },
   "outputs": [
    {
     "data": {
      "text/html": [
       "<div>\n",
       "<style scoped>\n",
       "    .dataframe tbody tr th:only-of-type {\n",
       "        vertical-align: middle;\n",
       "    }\n",
       "\n",
       "    .dataframe tbody tr th {\n",
       "        vertical-align: top;\n",
       "    }\n",
       "\n",
       "    .dataframe thead th {\n",
       "        text-align: right;\n",
       "    }\n",
       "</style>\n",
       "<table border=\"1\" class=\"dataframe\">\n",
       "  <thead>\n",
       "    <tr style=\"text-align: right;\">\n",
       "      <th></th>\n",
       "      <th>zipcode</th>\n",
       "    </tr>\n",
       "    <tr>\n",
       "      <th>city</th>\n",
       "      <th></th>\n",
       "    </tr>\n",
       "  </thead>\n",
       "  <tbody>\n",
       "    <tr>\n",
       "      <th>Ballard, Seattle</th>\n",
       "      <td>1</td>\n",
       "    </tr>\n",
       "    <tr>\n",
       "      <th>Phinney Ridge Seattle</th>\n",
       "      <td>1</td>\n",
       "    </tr>\n",
       "    <tr>\n",
       "      <th>Seattle</th>\n",
       "      <td>3803</td>\n",
       "    </tr>\n",
       "    <tr>\n",
       "      <th>Seattle</th>\n",
       "      <td>2</td>\n",
       "    </tr>\n",
       "    <tr>\n",
       "      <th>West Seattle</th>\n",
       "      <td>2</td>\n",
       "    </tr>\n",
       "    <tr>\n",
       "      <th>seattle</th>\n",
       "      <td>1</td>\n",
       "    </tr>\n",
       "    <tr>\n",
       "      <th>西雅图</th>\n",
       "      <td>1</td>\n",
       "    </tr>\n",
       "  </tbody>\n",
       "</table>\n",
       "</div>"
      ],
      "text/plain": [
       "                       zipcode\n",
       "city                          \n",
       "Ballard, Seattle             1\n",
       "Phinney Ridge Seattle        1\n",
       "Seattle                   3803\n",
       "Seattle                      2\n",
       "West Seattle                 2\n",
       "seattle                      1\n",
       "西雅图                          1"
      ]
     },
     "execution_count": 19,
     "metadata": {},
     "output_type": "execute_result"
    }
   ],
   "source": [
    "# See location variations grouped by 'city'\n",
    "listings_df[['city','zipcode']].groupby('city').count()"
   ]
  },
  {
   "cell_type": "code",
   "execution_count": 20,
   "id": "built-prague",
   "metadata": {
    "execution": {
     "iopub.execute_input": "2021-04-27T00:18:00.745927Z",
     "iopub.status.busy": "2021-04-27T00:18:00.744915Z",
     "iopub.status.idle": "2021-04-27T00:18:01.104952Z",
     "shell.execute_reply": "2021-04-27T00:18:01.104281Z"
    },
    "papermill": {
     "duration": 0.454108,
     "end_time": "2021-04-27T00:18:01.105095",
     "exception": false,
     "start_time": "2021-04-27T00:18:00.650987",
     "status": "completed"
    },
    "tags": []
   },
   "outputs": [
    {
     "data": {
      "image/png": "[encoded data removed]",
      "text/plain": [
       "<Figure size 432x288 with 1 Axes>"
      ]
     },
     "metadata": {
      "needs_background": "light"
     },
     "output_type": "display_data"
    }
   ],
   "source": [
    "# Zipcode counts\n",
    "disp_freq(listings_df, 'zipcode');"
   ]
  },
  {
   "cell_type": "code",
   "execution_count": 21,
   "id": "executed-bacteria",
   "metadata": {
    "execution": {
     "iopub.execute_input": "2021-04-27T00:18:01.290541Z",
     "iopub.status.busy": "2021-04-27T00:18:01.289545Z",
     "iopub.status.idle": "2021-04-27T00:18:01.293638Z",
     "shell.execute_reply": "2021-04-27T00:18:01.293110Z"
    },
    "papermill": {
     "duration": 0.098338,
     "end_time": "2021-04-27T00:18:01.293842",
     "exception": false,
     "start_time": "2021-04-27T00:18:01.195504",
     "status": "completed"
    },
    "tags": []
   },
   "outputs": [
    {
     "data": {
      "text/plain": [
       "7"
      ]
     },
     "execution_count": 21,
     "metadata": {},
     "output_type": "execute_result"
    }
   ],
   "source": [
    "# Zipcode null counts\n",
    "listings_df['zipcode'].isna().sum()"
   ]
  },
  {
   "cell_type": "code",
   "execution_count": 22,
   "id": "about-filename",
   "metadata": {
    "execution": {
     "iopub.execute_input": "2021-04-27T00:18:01.475847Z",
     "iopub.status.busy": "2021-04-27T00:18:01.475229Z",
     "iopub.status.idle": "2021-04-27T00:18:01.504414Z",
     "shell.execute_reply": "2021-04-27T00:18:01.503686Z"
    },
    "papermill": {
     "duration": 0.120827,
     "end_time": "2021-04-27T00:18:01.504555",
     "exception": false,
     "start_time": "2021-04-27T00:18:01.383728",
     "status": "completed"
    },
    "tags": []
   },
   "outputs": [
    {
     "data": {
      "text/html": [
       "<div>\n",
       "<style scoped>\n",
       "    .dataframe tbody tr th:only-of-type {\n",
       "        vertical-align: middle;\n",
       "    }\n",
       "\n",
       "    .dataframe tbody tr th {\n",
       "        vertical-align: top;\n",
       "    }\n",
       "\n",
       "    .dataframe thead th {\n",
       "        text-align: right;\n",
       "    }\n",
       "</style>\n",
       "<table border=\"1\" class=\"dataframe\">\n",
       "  <thead>\n",
       "    <tr style=\"text-align: right;\">\n",
       "      <th></th>\n",
       "      <th>number_of_reviews</th>\n",
       "      <th>first_review</th>\n",
       "      <th>last_review</th>\n",
       "      <th>review_scores_rating</th>\n",
       "      <th>review_scores_accuracy</th>\n",
       "      <th>review_scores_cleanliness</th>\n",
       "      <th>review_scores_checkin</th>\n",
       "      <th>review_scores_communication</th>\n",
       "      <th>review_scores_location</th>\n",
       "      <th>review_scores_value</th>\n",
       "      <th>reviews_per_month</th>\n",
       "    </tr>\n",
       "  </thead>\n",
       "  <tbody>\n",
       "    <tr>\n",
       "      <th>0</th>\n",
       "      <td>207</td>\n",
       "      <td>2011-11-01</td>\n",
       "      <td>2016-01-02</td>\n",
       "      <td>95.0</td>\n",
       "      <td>10.0</td>\n",
       "      <td>10.0</td>\n",
       "      <td>10.0</td>\n",
       "      <td>10.0</td>\n",
       "      <td>9.0</td>\n",
       "      <td>10.0</td>\n",
       "      <td>4.07</td>\n",
       "    </tr>\n",
       "    <tr>\n",
       "      <th>1</th>\n",
       "      <td>43</td>\n",
       "      <td>2013-08-19</td>\n",
       "      <td>2015-12-29</td>\n",
       "      <td>96.0</td>\n",
       "      <td>10.0</td>\n",
       "      <td>10.0</td>\n",
       "      <td>10.0</td>\n",
       "      <td>10.0</td>\n",
       "      <td>10.0</td>\n",
       "      <td>10.0</td>\n",
       "      <td>1.48</td>\n",
       "    </tr>\n",
       "    <tr>\n",
       "      <th>2</th>\n",
       "      <td>20</td>\n",
       "      <td>2014-07-30</td>\n",
       "      <td>2015-09-03</td>\n",
       "      <td>97.0</td>\n",
       "      <td>10.0</td>\n",
       "      <td>10.0</td>\n",
       "      <td>10.0</td>\n",
       "      <td>10.0</td>\n",
       "      <td>10.0</td>\n",
       "      <td>10.0</td>\n",
       "      <td>1.15</td>\n",
       "    </tr>\n",
       "    <tr>\n",
       "      <th>3</th>\n",
       "      <td>0</td>\n",
       "      <td>NaN</td>\n",
       "      <td>NaN</td>\n",
       "      <td>NaN</td>\n",
       "      <td>NaN</td>\n",
       "      <td>NaN</td>\n",
       "      <td>NaN</td>\n",
       "      <td>NaN</td>\n",
       "      <td>NaN</td>\n",
       "      <td>NaN</td>\n",
       "      <td>NaN</td>\n",
       "    </tr>\n",
       "    <tr>\n",
       "      <th>4</th>\n",
       "      <td>38</td>\n",
       "      <td>2012-07-10</td>\n",
       "      <td>2015-10-24</td>\n",
       "      <td>92.0</td>\n",
       "      <td>9.0</td>\n",
       "      <td>9.0</td>\n",
       "      <td>10.0</td>\n",
       "      <td>10.0</td>\n",
       "      <td>9.0</td>\n",
       "      <td>9.0</td>\n",
       "      <td>0.89</td>\n",
       "    </tr>\n",
       "    <tr>\n",
       "      <th>...</th>\n",
       "      <td>...</td>\n",
       "      <td>...</td>\n",
       "      <td>...</td>\n",
       "      <td>...</td>\n",
       "      <td>...</td>\n",
       "      <td>...</td>\n",
       "      <td>...</td>\n",
       "      <td>...</td>\n",
       "      <td>...</td>\n",
       "      <td>...</td>\n",
       "      <td>...</td>\n",
       "    </tr>\n",
       "    <tr>\n",
       "      <th>3813</th>\n",
       "      <td>1</td>\n",
       "      <td>2015-09-27</td>\n",
       "      <td>2015-09-27</td>\n",
       "      <td>80.0</td>\n",
       "      <td>8.0</td>\n",
       "      <td>10.0</td>\n",
       "      <td>4.0</td>\n",
       "      <td>8.0</td>\n",
       "      <td>10.0</td>\n",
       "      <td>8.0</td>\n",
       "      <td>0.30</td>\n",
       "    </tr>\n",
       "    <tr>\n",
       "      <th>3814</th>\n",
       "      <td>2</td>\n",
       "      <td>2015-12-18</td>\n",
       "      <td>2015-12-24</td>\n",
       "      <td>100.0</td>\n",
       "      <td>10.0</td>\n",
       "      <td>10.0</td>\n",
       "      <td>10.0</td>\n",
       "      <td>10.0</td>\n",
       "      <td>10.0</td>\n",
       "      <td>10.0</td>\n",
       "      <td>2.00</td>\n",
       "    </tr>\n",
       "    <tr>\n",
       "      <th>3815</th>\n",
       "      <td>0</td>\n",
       "      <td>NaN</td>\n",
       "      <td>NaN</td>\n",
       "      <td>NaN</td>\n",
       "      <td>NaN</td>\n",
       "      <td>NaN</td>\n",
       "      <td>NaN</td>\n",
       "      <td>NaN</td>\n",
       "      <td>NaN</td>\n",
       "      <td>NaN</td>\n",
       "      <td>NaN</td>\n",
       "    </tr>\n",
       "    <tr>\n",
       "      <th>3816</th>\n",
       "      <td>0</td>\n",
       "      <td>NaN</td>\n",
       "      <td>NaN</td>\n",
       "      <td>NaN</td>\n",
       "      <td>NaN</td>\n",
       "      <td>NaN</td>\n",
       "      <td>NaN</td>\n",
       "      <td>NaN</td>\n",
       "      <td>NaN</td>\n",
       "      <td>NaN</td>\n",
       "      <td>NaN</td>\n",
       "    </tr>\n",
       "    <tr>\n",
       "      <th>3817</th>\n",
       "      <td>0</td>\n",
       "      <td>NaN</td>\n",
       "      <td>NaN</td>\n",
       "      <td>NaN</td>\n",
       "      <td>NaN</td>\n",
       "      <td>NaN</td>\n",
       "      <td>NaN</td>\n",
       "      <td>NaN</td>\n",
       "      <td>NaN</td>\n",
       "      <td>NaN</td>\n",
       "      <td>NaN</td>\n",
       "    </tr>\n",
       "  </tbody>\n",
       "</table>\n",
       "<p>3818 rows × 11 columns</p>\n",
       "</div>"
      ],
      "text/plain": [
       "      number_of_reviews first_review last_review  review_scores_rating  \\\n",
       "0                   207   2011-11-01  2016-01-02                  95.0   \n",
       "1                    43   2013-08-19  2015-12-29                  96.0   \n",
       "2                    20   2014-07-30  2015-09-03                  97.0   \n",
       "3                     0          NaN         NaN                   NaN   \n",
       "4                    38   2012-07-10  2015-10-24                  92.0   \n",
       "...                 ...          ...         ...                   ...   \n",
       "3813                  1   2015-09-27  2015-09-27                  80.0   \n",
       "3814                  2   2015-12-18  2015-12-24                 100.0   \n",
       "3815                  0          NaN         NaN                   NaN   \n",
       "3816                  0          NaN         NaN                   NaN   \n",
       "3817                  0          NaN         NaN                   NaN   \n",
       "\n",
       "      review_scores_accuracy  review_scores_cleanliness  \\\n",
       "0                       10.0                       10.0   \n",
       "1                       10.0                       10.0   \n",
       "2                       10.0                       10.0   \n",
       "3                        NaN                        NaN   \n",
       "4                        9.0                        9.0   \n",
       "...                      ...                        ...   \n",
       "3813                     8.0                       10.0   \n",
       "3814                    10.0                       10.0   \n",
       "3815                     NaN                        NaN   \n",
       "3816                     NaN                        NaN   \n",
       "3817                     NaN                        NaN   \n",
       "\n",
       "      review_scores_checkin  review_scores_communication  \\\n",
       "0                      10.0                         10.0   \n",
       "1                      10.0                         10.0   \n",
       "2                      10.0                         10.0   \n",
       "3                       NaN                          NaN   \n",
       "4                      10.0                         10.0   \n",
       "...                     ...                          ...   \n",
       "3813                    4.0                          8.0   \n",
       "3814                   10.0                         10.0   \n",
       "3815                    NaN                          NaN   \n",
       "3816                    NaN                          NaN   \n",
       "3817                    NaN                          NaN   \n",
       "\n",
       "      review_scores_location  review_scores_value  reviews_per_month  \n",
       "0                        9.0                 10.0               4.07  \n",
       "1                       10.0                 10.0               1.48  \n",
       "2                       10.0                 10.0               1.15  \n",
       "3                        NaN                  NaN                NaN  \n",
       "4                        9.0                  9.0               0.89  \n",
       "...                      ...                  ...                ...  \n",
       "3813                    10.0                  8.0               0.30  \n",
       "3814                    10.0                 10.0               2.00  \n",
       "3815                     NaN                  NaN                NaN  \n",
       "3816                     NaN                  NaN                NaN  \n",
       "3817                     NaN                  NaN                NaN  \n",
       "\n",
       "[3818 rows x 11 columns]"
      ]
     },
     "execution_count": 22,
     "metadata": {},
     "output_type": "execute_result"
    }
   ],
   "source": [
    "# Review related columns\n",
    "review_cols = [col for col in listings_df.columns if 'review' in col]\n",
    "listings_review_df = listings_df[review_cols]\n",
    "listings_review_df"
   ]
  },
  {
   "cell_type": "code",
   "execution_count": 23,
   "id": "printable-dietary",
   "metadata": {
    "execution": {
     "iopub.execute_input": "2021-04-27T00:18:01.693006Z",
     "iopub.status.busy": "2021-04-27T00:18:01.692081Z",
     "iopub.status.idle": "2021-04-27T00:18:01.695889Z",
     "shell.execute_reply": "2021-04-27T00:18:01.696403Z"
    },
    "papermill": {
     "duration": 0.102868,
     "end_time": "2021-04-27T00:18:01.696571",
     "exception": false,
     "start_time": "2021-04-27T00:18:01.593703",
     "status": "completed"
    },
    "tags": []
   },
   "outputs": [
    {
     "data": {
      "text/plain": [
       "0      627\n",
       "1      310\n",
       "2      224\n",
       "4      160\n",
       "3      157\n",
       "      ... \n",
       "404      1\n",
       "320      1\n",
       "294      1\n",
       "278      1\n",
       "353      1\n",
       "Name: number_of_reviews, Length: 195, dtype: int64"
      ]
     },
     "execution_count": 23,
     "metadata": {},
     "output_type": "execute_result"
    }
   ],
   "source": [
    "# number_of_reviews\n",
    "listings_review_df['number_of_reviews'].value_counts()"
   ]
  },
  {
   "cell_type": "code",
   "execution_count": 24,
   "id": "comprehensive-leave",
   "metadata": {
    "execution": {
     "iopub.execute_input": "2021-04-27T00:18:01.902816Z",
     "iopub.status.busy": "2021-04-27T00:18:01.902158Z",
     "iopub.status.idle": "2021-04-27T00:18:02.053894Z",
     "shell.execute_reply": "2021-04-27T00:18:02.054386Z"
    },
    "papermill": {
     "duration": 0.263441,
     "end_time": "2021-04-27T00:18:02.054564",
     "exception": false,
     "start_time": "2021-04-27T00:18:01.791123",
     "status": "completed"
    },
    "tags": []
   },
   "outputs": [
    {
     "data": {
      "image/png": "[encoded data removed]",
      "text/plain": [
       "<Figure size 432x288 with 1 Axes>"
      ]
     },
     "metadata": {
      "needs_background": "light"
     },
     "output_type": "display_data"
    }
   ],
   "source": [
    "# Plot\n",
    "listings_review_df['number_of_reviews'].value_counts().hist();"
   ]
  },
  {
   "cell_type": "code",
   "execution_count": 25,
   "id": "enormous-object",
   "metadata": {
    "execution": {
     "iopub.execute_input": "2021-04-27T00:18:02.243542Z",
     "iopub.status.busy": "2021-04-27T00:18:02.242907Z",
     "iopub.status.idle": "2021-04-27T00:18:02.484541Z",
     "shell.execute_reply": "2021-04-27T00:18:02.483620Z"
    },
    "papermill": {
     "duration": 0.339941,
     "end_time": "2021-04-27T00:18:02.484783",
     "exception": false,
     "start_time": "2021-04-27T00:18:02.144842",
     "status": "completed"
    },
    "tags": []
   },
   "outputs": [
    {
     "data": {
      "image/png": "[encoded data removed]",
      "text/plain": [
       "<Figure size 360x360 with 1 Axes>"
      ]
     },
     "metadata": {
      "needs_background": "light"
     },
     "output_type": "display_data"
    }
   ],
   "source": [
    "listings_review_description = listings_review_df['number_of_reviews'].describe().to_frame()\n",
    "# Use for the blog post\n",
    "fig, ax = plt.subplots(figsize=(5,5))\n",
    "ax.axis('off')\n",
    "ax.table(cellText = listings_review_description.values, rowLabels = listings_review_description.index, loc='center', bbox=[1,0,1,1]);"
   ]
  },
  {
   "cell_type": "code",
   "execution_count": 26,
   "id": "colonial-armenia",
   "metadata": {
    "execution": {
     "iopub.execute_input": "2021-04-27T00:18:02.687359Z",
     "iopub.status.busy": "2021-04-27T00:18:02.686701Z",
     "iopub.status.idle": "2021-04-27T00:18:02.690039Z",
     "shell.execute_reply": "2021-04-27T00:18:02.690530Z"
    },
    "papermill": {
     "duration": 0.100753,
     "end_time": "2021-04-27T00:18:02.690698",
     "exception": false,
     "start_time": "2021-04-27T00:18:02.589945",
     "status": "completed"
    },
    "tags": []
   },
   "outputs": [
    {
     "data": {
      "text/plain": [
       "2049"
      ]
     },
     "execution_count": 26,
     "metadata": {},
     "output_type": "execute_result"
    }
   ],
   "source": [
    "# Review euals 10 or less\n",
    "np.sum(listings_review_df['number_of_reviews'] < 11)"
   ]
  },
  {
   "cell_type": "code",
   "execution_count": 27,
   "id": "broad-parliament",
   "metadata": {
    "execution": {
     "iopub.execute_input": "2021-04-27T00:18:02.912113Z",
     "iopub.status.busy": "2021-04-27T00:18:02.911240Z",
     "iopub.status.idle": "2021-04-27T00:18:02.914713Z",
     "shell.execute_reply": "2021-04-27T00:18:02.915361Z"
    },
    "papermill": {
     "duration": 0.119304,
     "end_time": "2021-04-27T00:18:02.915528",
     "exception": false,
     "start_time": "2021-04-27T00:18:02.796224",
     "status": "completed"
    },
    "tags": []
   },
   "outputs": [
    {
     "data": {
      "text/plain": [
       "1599"
      ]
     },
     "execution_count": 27,
     "metadata": {},
     "output_type": "execute_result"
    }
   ],
   "source": [
    "# Review euals 5 or less\n",
    "np.sum(listings_review_df['number_of_reviews'] < 6)"
   ]
  },
  {
   "cell_type": "code",
   "execution_count": 28,
   "id": "functional-collectible",
   "metadata": {
    "execution": {
     "iopub.execute_input": "2021-04-27T00:18:03.108436Z",
     "iopub.status.busy": "2021-04-27T00:18:03.107454Z",
     "iopub.status.idle": "2021-04-27T00:18:03.114616Z",
     "shell.execute_reply": "2021-04-27T00:18:03.115238Z"
    },
    "papermill": {
     "duration": 0.104708,
     "end_time": "2021-04-27T00:18:03.115427",
     "exception": false,
     "start_time": "2021-04-27T00:18:03.010719",
     "status": "completed"
    },
    "tags": []
   },
   "outputs": [
    {
     "data": {
      "text/plain": [
       "1318"
      ]
     },
     "execution_count": 28,
     "metadata": {},
     "output_type": "execute_result"
    }
   ],
   "source": [
    "# Review euals 5 or less\n",
    "np.sum(listings_review_df['number_of_reviews'] < 4)"
   ]
  },
  {
   "cell_type": "code",
   "execution_count": 29,
   "id": "compact-baseball",
   "metadata": {
    "execution": {
     "iopub.execute_input": "2021-04-27T00:18:03.305766Z",
     "iopub.status.busy": "2021-04-27T00:18:03.304692Z",
     "iopub.status.idle": "2021-04-27T00:18:03.322777Z",
     "shell.execute_reply": "2021-04-27T00:18:03.322218Z"
    },
    "papermill": {
     "duration": 0.114562,
     "end_time": "2021-04-27T00:18:03.323001",
     "exception": false,
     "start_time": "2021-04-27T00:18:03.208439",
     "status": "completed"
    },
    "tags": []
   },
   "outputs": [
    {
     "data": {
      "text/html": [
       "<div>\n",
       "<style scoped>\n",
       "    .dataframe tbody tr th:only-of-type {\n",
       "        vertical-align: middle;\n",
       "    }\n",
       "\n",
       "    .dataframe tbody tr th {\n",
       "        vertical-align: top;\n",
       "    }\n",
       "\n",
       "    .dataframe thead th {\n",
       "        text-align: right;\n",
       "    }\n",
       "</style>\n",
       "<table border=\"1\" class=\"dataframe\">\n",
       "  <thead>\n",
       "    <tr style=\"text-align: right;\">\n",
       "      <th></th>\n",
       "      <th>price</th>\n",
       "      <th>weekly_price</th>\n",
       "      <th>monthly_price</th>\n",
       "      <th>security_deposit</th>\n",
       "      <th>cleaning_fee</th>\n",
       "    </tr>\n",
       "  </thead>\n",
       "  <tbody>\n",
       "    <tr>\n",
       "      <th>0</th>\n",
       "      <td>$85.00</td>\n",
       "      <td>NaN</td>\n",
       "      <td>NaN</td>\n",
       "      <td>NaN</td>\n",
       "      <td>NaN</td>\n",
       "    </tr>\n",
       "    <tr>\n",
       "      <th>1</th>\n",
       "      <td>$150.00</td>\n",
       "      <td>$1,000.00</td>\n",
       "      <td>$3,000.00</td>\n",
       "      <td>$100.00</td>\n",
       "      <td>$40.00</td>\n",
       "    </tr>\n",
       "    <tr>\n",
       "      <th>2</th>\n",
       "      <td>$975.00</td>\n",
       "      <td>NaN</td>\n",
       "      <td>NaN</td>\n",
       "      <td>$1,000.00</td>\n",
       "      <td>$300.00</td>\n",
       "    </tr>\n",
       "    <tr>\n",
       "      <th>3</th>\n",
       "      <td>$100.00</td>\n",
       "      <td>$650.00</td>\n",
       "      <td>$2,300.00</td>\n",
       "      <td>NaN</td>\n",
       "      <td>NaN</td>\n",
       "    </tr>\n",
       "    <tr>\n",
       "      <th>4</th>\n",
       "      <td>$450.00</td>\n",
       "      <td>NaN</td>\n",
       "      <td>NaN</td>\n",
       "      <td>$700.00</td>\n",
       "      <td>$125.00</td>\n",
       "    </tr>\n",
       "    <tr>\n",
       "      <th>...</th>\n",
       "      <td>...</td>\n",
       "      <td>...</td>\n",
       "      <td>...</td>\n",
       "      <td>...</td>\n",
       "      <td>...</td>\n",
       "    </tr>\n",
       "    <tr>\n",
       "      <th>3813</th>\n",
       "      <td>$359.00</td>\n",
       "      <td>NaN</td>\n",
       "      <td>NaN</td>\n",
       "      <td>NaN</td>\n",
       "      <td>$230.00</td>\n",
       "    </tr>\n",
       "    <tr>\n",
       "      <th>3814</th>\n",
       "      <td>$79.00</td>\n",
       "      <td>NaN</td>\n",
       "      <td>NaN</td>\n",
       "      <td>$500.00</td>\n",
       "      <td>$50.00</td>\n",
       "    </tr>\n",
       "    <tr>\n",
       "      <th>3815</th>\n",
       "      <td>$93.00</td>\n",
       "      <td>$450.00</td>\n",
       "      <td>NaN</td>\n",
       "      <td>$250.00</td>\n",
       "      <td>$35.00</td>\n",
       "    </tr>\n",
       "    <tr>\n",
       "      <th>3816</th>\n",
       "      <td>$99.00</td>\n",
       "      <td>NaN</td>\n",
       "      <td>NaN</td>\n",
       "      <td>$300.00</td>\n",
       "      <td>$45.00</td>\n",
       "    </tr>\n",
       "    <tr>\n",
       "      <th>3817</th>\n",
       "      <td>$87.00</td>\n",
       "      <td>NaN</td>\n",
       "      <td>NaN</td>\n",
       "      <td>NaN</td>\n",
       "      <td>NaN</td>\n",
       "    </tr>\n",
       "  </tbody>\n",
       "</table>\n",
       "<p>3818 rows × 5 columns</p>\n",
       "</div>"
      ],
      "text/plain": [
       "        price weekly_price monthly_price security_deposit cleaning_fee\n",
       "0      $85.00          NaN           NaN              NaN          NaN\n",
       "1     $150.00    $1,000.00     $3,000.00          $100.00       $40.00\n",
       "2     $975.00          NaN           NaN        $1,000.00      $300.00\n",
       "3     $100.00      $650.00     $2,300.00              NaN          NaN\n",
       "4     $450.00          NaN           NaN          $700.00      $125.00\n",
       "...       ...          ...           ...              ...          ...\n",
       "3813  $359.00          NaN           NaN              NaN      $230.00\n",
       "3814   $79.00          NaN           NaN          $500.00       $50.00\n",
       "3815   $93.00      $450.00           NaN          $250.00       $35.00\n",
       "3816   $99.00          NaN           NaN          $300.00       $45.00\n",
       "3817   $87.00          NaN           NaN              NaN          NaN\n",
       "\n",
       "[3818 rows x 5 columns]"
      ]
     },
     "execution_count": 29,
     "metadata": {},
     "output_type": "execute_result"
    }
   ],
   "source": [
    "listings_df[['price','weekly_price','monthly_price','security_deposit','cleaning_fee']]"
   ]
  },
  {
   "cell_type": "code",
   "execution_count": 30,
   "id": "scientific-convention",
   "metadata": {
    "execution": {
     "iopub.execute_input": "2021-04-27T00:18:03.526295Z",
     "iopub.status.busy": "2021-04-27T00:18:03.521545Z",
     "iopub.status.idle": "2021-04-27T00:18:03.576462Z",
     "shell.execute_reply": "2021-04-27T00:18:03.575779Z"
    },
    "papermill": {
     "duration": 0.158132,
     "end_time": "2021-04-27T00:18:03.576609",
     "exception": false,
     "start_time": "2021-04-27T00:18:03.418477",
     "status": "completed"
    },
    "tags": []
   },
   "outputs": [
    {
     "name": "stderr",
     "output_type": "stream",
     "text": [
      "/opt/conda/lib/python3.7/site-packages/ipykernel_launcher.py:4: FutureWarning: The default value of regex will change from True to False in a future version. In addition, single character regular expressions will*not* be treated as literal strings when regex=True.\n",
      "  after removing the cwd from sys.path.\n"
     ]
    },
    {
     "data": {
      "text/html": [
       "<div>\n",
       "<style scoped>\n",
       "    .dataframe tbody tr th:only-of-type {\n",
       "        vertical-align: middle;\n",
       "    }\n",
       "\n",
       "    .dataframe tbody tr th {\n",
       "        vertical-align: top;\n",
       "    }\n",
       "\n",
       "    .dataframe thead th {\n",
       "        text-align: right;\n",
       "    }\n",
       "</style>\n",
       "<table border=\"1\" class=\"dataframe\">\n",
       "  <thead>\n",
       "    <tr style=\"text-align: right;\">\n",
       "      <th></th>\n",
       "      <th>price</th>\n",
       "      <th>weekly_price</th>\n",
       "      <th>monthly_price</th>\n",
       "      <th>security_deposit</th>\n",
       "      <th>cleaning_fee</th>\n",
       "    </tr>\n",
       "  </thead>\n",
       "  <tbody>\n",
       "    <tr>\n",
       "      <th>0</th>\n",
       "      <td>85.0</td>\n",
       "      <td>NaN</td>\n",
       "      <td>NaN</td>\n",
       "      <td>NaN</td>\n",
       "      <td>NaN</td>\n",
       "    </tr>\n",
       "    <tr>\n",
       "      <th>1</th>\n",
       "      <td>150.0</td>\n",
       "      <td>1000.0</td>\n",
       "      <td>3000.0</td>\n",
       "      <td>100.0</td>\n",
       "      <td>40.0</td>\n",
       "    </tr>\n",
       "    <tr>\n",
       "      <th>2</th>\n",
       "      <td>975.0</td>\n",
       "      <td>NaN</td>\n",
       "      <td>NaN</td>\n",
       "      <td>1000.0</td>\n",
       "      <td>300.0</td>\n",
       "    </tr>\n",
       "    <tr>\n",
       "      <th>3</th>\n",
       "      <td>100.0</td>\n",
       "      <td>650.0</td>\n",
       "      <td>2300.0</td>\n",
       "      <td>NaN</td>\n",
       "      <td>NaN</td>\n",
       "    </tr>\n",
       "    <tr>\n",
       "      <th>4</th>\n",
       "      <td>450.0</td>\n",
       "      <td>NaN</td>\n",
       "      <td>NaN</td>\n",
       "      <td>700.0</td>\n",
       "      <td>125.0</td>\n",
       "    </tr>\n",
       "  </tbody>\n",
       "</table>\n",
       "</div>"
      ],
      "text/plain": [
       "   price  weekly_price  monthly_price  security_deposit  cleaning_fee\n",
       "0   85.0           NaN            NaN               NaN           NaN\n",
       "1  150.0        1000.0         3000.0             100.0          40.0\n",
       "2  975.0           NaN            NaN            1000.0         300.0\n",
       "3  100.0         650.0         2300.0               NaN           NaN\n",
       "4  450.0           NaN            NaN             700.0         125.0"
      ]
     },
     "execution_count": 30,
     "metadata": {},
     "output_type": "execute_result"
    }
   ],
   "source": [
    "listings_price_df = listings_df[['price','weekly_price','monthly_price','security_deposit','cleaning_fee']]\n",
    "\n",
    "for col in ['price','weekly_price','monthly_price','security_deposit','cleaning_fee']:\n",
    "    listings_price_df = pd.concat([listings_price_df.drop(columns = [col]), listings_price_df[col].str.replace('$','').str.replace(',','').astype(float)], axis = 1)\n",
    "    \n",
    "listings_price_df[:5]"
   ]
  },
  {
   "cell_type": "code",
   "execution_count": 31,
   "id": "palestinian-ebony",
   "metadata": {
    "execution": {
     "iopub.execute_input": "2021-04-27T00:18:03.782973Z",
     "iopub.status.busy": "2021-04-27T00:18:03.782055Z",
     "iopub.status.idle": "2021-04-27T00:18:03.788066Z",
     "shell.execute_reply": "2021-04-27T00:18:03.787511Z"
    },
    "papermill": {
     "duration": 0.114122,
     "end_time": "2021-04-27T00:18:03.788233",
     "exception": false,
     "start_time": "2021-04-27T00:18:03.674111",
     "status": "completed"
    },
    "tags": []
   },
   "outputs": [
    {
     "data": {
      "text/plain": [
       "price               0.000000\n",
       "weekly_price        0.473808\n",
       "monthly_price       0.602672\n",
       "security_deposit    0.511262\n",
       "cleaning_fee        0.269775\n",
       "dtype: float64"
      ]
     },
     "execution_count": 31,
     "metadata": {},
     "output_type": "execute_result"
    }
   ],
   "source": [
    "# NA counts\n",
    "listings_price_df.isna().sum()/listings_price_df.shape[0]"
   ]
  },
  {
   "cell_type": "code",
   "execution_count": 32,
   "id": "comprehensive-elder",
   "metadata": {
    "execution": {
     "iopub.execute_input": "2021-04-27T00:18:04.002810Z",
     "iopub.status.busy": "2021-04-27T00:18:04.001950Z",
     "iopub.status.idle": "2021-04-27T00:18:04.006967Z",
     "shell.execute_reply": "2021-04-27T00:18:04.006261Z"
    },
    "papermill": {
     "duration": 0.118969,
     "end_time": "2021-04-27T00:18:04.007117",
     "exception": false,
     "start_time": "2021-04-27T00:18:03.888148",
     "status": "completed"
    },
    "tags": []
   },
   "outputs": [
    {
     "data": {
      "text/html": [
       "<div>\n",
       "<style scoped>\n",
       "    .dataframe tbody tr th:only-of-type {\n",
       "        vertical-align: middle;\n",
       "    }\n",
       "\n",
       "    .dataframe tbody tr th {\n",
       "        vertical-align: top;\n",
       "    }\n",
       "\n",
       "    .dataframe thead th {\n",
       "        text-align: right;\n",
       "    }\n",
       "</style>\n",
       "<table border=\"1\" class=\"dataframe\">\n",
       "  <thead>\n",
       "    <tr style=\"text-align: right;\">\n",
       "      <th></th>\n",
       "      <th>price</th>\n",
       "      <th>weekly_price</th>\n",
       "      <th>monthly_price</th>\n",
       "      <th>security_deposit</th>\n",
       "      <th>cleaning_fee</th>\n",
       "      <th>calc_weekly_price</th>\n",
       "      <th>calc_monthly_price</th>\n",
       "    </tr>\n",
       "  </thead>\n",
       "  <tbody>\n",
       "    <tr>\n",
       "      <th>0</th>\n",
       "      <td>85.0</td>\n",
       "      <td>NaN</td>\n",
       "      <td>NaN</td>\n",
       "      <td>NaN</td>\n",
       "      <td>NaN</td>\n",
       "      <td>595.0</td>\n",
       "      <td>2550.0</td>\n",
       "    </tr>\n",
       "    <tr>\n",
       "      <th>1</th>\n",
       "      <td>150.0</td>\n",
       "      <td>1000.0</td>\n",
       "      <td>3000.0</td>\n",
       "      <td>100.0</td>\n",
       "      <td>40.0</td>\n",
       "      <td>1050.0</td>\n",
       "      <td>4500.0</td>\n",
       "    </tr>\n",
       "    <tr>\n",
       "      <th>2</th>\n",
       "      <td>975.0</td>\n",
       "      <td>NaN</td>\n",
       "      <td>NaN</td>\n",
       "      <td>1000.0</td>\n",
       "      <td>300.0</td>\n",
       "      <td>6825.0</td>\n",
       "      <td>29250.0</td>\n",
       "    </tr>\n",
       "    <tr>\n",
       "      <th>3</th>\n",
       "      <td>100.0</td>\n",
       "      <td>650.0</td>\n",
       "      <td>2300.0</td>\n",
       "      <td>NaN</td>\n",
       "      <td>NaN</td>\n",
       "      <td>700.0</td>\n",
       "      <td>3000.0</td>\n",
       "    </tr>\n",
       "    <tr>\n",
       "      <th>4</th>\n",
       "      <td>450.0</td>\n",
       "      <td>NaN</td>\n",
       "      <td>NaN</td>\n",
       "      <td>700.0</td>\n",
       "      <td>125.0</td>\n",
       "      <td>3150.0</td>\n",
       "      <td>13500.0</td>\n",
       "    </tr>\n",
       "  </tbody>\n",
       "</table>\n",
       "</div>"
      ],
      "text/plain": [
       "   price  weekly_price  monthly_price  security_deposit  cleaning_fee  \\\n",
       "0   85.0           NaN            NaN               NaN           NaN   \n",
       "1  150.0        1000.0         3000.0             100.0          40.0   \n",
       "2  975.0           NaN            NaN            1000.0         300.0   \n",
       "3  100.0         650.0         2300.0               NaN           NaN   \n",
       "4  450.0           NaN            NaN             700.0         125.0   \n",
       "\n",
       "   calc_weekly_price  calc_monthly_price  \n",
       "0              595.0              2550.0  \n",
       "1             1050.0              4500.0  \n",
       "2             6825.0             29250.0  \n",
       "3              700.0              3000.0  \n",
       "4             3150.0             13500.0  "
      ]
     },
     "execution_count": 32,
     "metadata": {},
     "output_type": "execute_result"
    }
   ],
   "source": [
    "listings_price_df['calc_weekly_price'] = listings_price_df['price'] * 7\n",
    "listings_price_df['calc_monthly_price'] = listings_price_df['price'] * 30\n",
    "listings_price_df[:5]"
   ]
  },
  {
   "cell_type": "code",
   "execution_count": 33,
   "id": "focal-pacific",
   "metadata": {
    "execution": {
     "iopub.execute_input": "2021-04-27T00:18:04.215558Z",
     "iopub.status.busy": "2021-04-27T00:18:04.214781Z",
     "iopub.status.idle": "2021-04-27T00:18:04.219545Z",
     "shell.execute_reply": "2021-04-27T00:18:04.219018Z"
    },
    "papermill": {
     "duration": 0.116883,
     "end_time": "2021-04-27T00:18:04.219711",
     "exception": false,
     "start_time": "2021-04-27T00:18:04.102828",
     "status": "completed"
    },
    "tags": []
   },
   "outputs": [
    {
     "data": {
      "text/html": [
       "<div>\n",
       "<style scoped>\n",
       "    .dataframe tbody tr th:only-of-type {\n",
       "        vertical-align: middle;\n",
       "    }\n",
       "\n",
       "    .dataframe tbody tr th {\n",
       "        vertical-align: top;\n",
       "    }\n",
       "\n",
       "    .dataframe thead th {\n",
       "        text-align: right;\n",
       "    }\n",
       "</style>\n",
       "<table border=\"1\" class=\"dataframe\">\n",
       "  <thead>\n",
       "    <tr style=\"text-align: right;\">\n",
       "      <th></th>\n",
       "      <th>price</th>\n",
       "      <th>weekly_price</th>\n",
       "      <th>monthly_price</th>\n",
       "      <th>security_deposit</th>\n",
       "      <th>cleaning_fee</th>\n",
       "      <th>calc_weekly_price</th>\n",
       "      <th>calc_monthly_price</th>\n",
       "    </tr>\n",
       "  </thead>\n",
       "  <tbody>\n",
       "    <tr>\n",
       "      <th>0</th>\n",
       "      <td>85.0</td>\n",
       "      <td>0.0</td>\n",
       "      <td>0.0</td>\n",
       "      <td>0.0</td>\n",
       "      <td>0.0</td>\n",
       "      <td>595.0</td>\n",
       "      <td>2550.0</td>\n",
       "    </tr>\n",
       "    <tr>\n",
       "      <th>1</th>\n",
       "      <td>150.0</td>\n",
       "      <td>1000.0</td>\n",
       "      <td>3000.0</td>\n",
       "      <td>100.0</td>\n",
       "      <td>40.0</td>\n",
       "      <td>1050.0</td>\n",
       "      <td>4500.0</td>\n",
       "    </tr>\n",
       "    <tr>\n",
       "      <th>2</th>\n",
       "      <td>975.0</td>\n",
       "      <td>0.0</td>\n",
       "      <td>0.0</td>\n",
       "      <td>1000.0</td>\n",
       "      <td>300.0</td>\n",
       "      <td>6825.0</td>\n",
       "      <td>29250.0</td>\n",
       "    </tr>\n",
       "    <tr>\n",
       "      <th>3</th>\n",
       "      <td>100.0</td>\n",
       "      <td>650.0</td>\n",
       "      <td>2300.0</td>\n",
       "      <td>0.0</td>\n",
       "      <td>0.0</td>\n",
       "      <td>700.0</td>\n",
       "      <td>3000.0</td>\n",
       "    </tr>\n",
       "    <tr>\n",
       "      <th>4</th>\n",
       "      <td>450.0</td>\n",
       "      <td>0.0</td>\n",
       "      <td>0.0</td>\n",
       "      <td>700.0</td>\n",
       "      <td>125.0</td>\n",
       "      <td>3150.0</td>\n",
       "      <td>13500.0</td>\n",
       "    </tr>\n",
       "  </tbody>\n",
       "</table>\n",
       "</div>"
      ],
      "text/plain": [
       "   price  weekly_price  monthly_price  security_deposit  cleaning_fee  \\\n",
       "0   85.0           0.0            0.0               0.0           0.0   \n",
       "1  150.0        1000.0         3000.0             100.0          40.0   \n",
       "2  975.0           0.0            0.0            1000.0         300.0   \n",
       "3  100.0         650.0         2300.0               0.0           0.0   \n",
       "4  450.0           0.0            0.0             700.0         125.0   \n",
       "\n",
       "   calc_weekly_price  calc_monthly_price  \n",
       "0              595.0              2550.0  \n",
       "1             1050.0              4500.0  \n",
       "2             6825.0             29250.0  \n",
       "3              700.0              3000.0  \n",
       "4             3150.0             13500.0  "
      ]
     },
     "execution_count": 33,
     "metadata": {},
     "output_type": "execute_result"
    }
   ],
   "source": [
    "# Fill missing values as 0\n",
    "listings_price_df.fillna(0, inplace = True)\n",
    "listings_price_df[:5]"
   ]
  },
  {
   "cell_type": "code",
   "execution_count": 34,
   "id": "supposed-bryan",
   "metadata": {
    "execution": {
     "iopub.execute_input": "2021-04-27T00:18:05.316601Z",
     "iopub.status.busy": "2021-04-27T00:18:05.156620Z",
     "iopub.status.idle": "2021-04-27T00:18:07.685315Z",
     "shell.execute_reply": "2021-04-27T00:18:07.685870Z"
    },
    "papermill": {
     "duration": 3.370342,
     "end_time": "2021-04-27T00:18:07.686050",
     "exception": false,
     "start_time": "2021-04-27T00:18:04.315708",
     "status": "completed"
    },
    "tags": []
   },
   "outputs": [
    {
     "data": {
      "text/html": [
       "<div>\n",
       "<style scoped>\n",
       "    .dataframe tbody tr th:only-of-type {\n",
       "        vertical-align: middle;\n",
       "    }\n",
       "\n",
       "    .dataframe tbody tr th {\n",
       "        vertical-align: top;\n",
       "    }\n",
       "\n",
       "    .dataframe thead th {\n",
       "        text-align: right;\n",
       "    }\n",
       "</style>\n",
       "<table border=\"1\" class=\"dataframe\">\n",
       "  <thead>\n",
       "    <tr style=\"text-align: right;\">\n",
       "      <th></th>\n",
       "      <th>price</th>\n",
       "      <th>weekly_price</th>\n",
       "      <th>monthly_price</th>\n",
       "      <th>security_deposit</th>\n",
       "      <th>cleaning_fee</th>\n",
       "      <th>calc_weekly_price</th>\n",
       "      <th>calc_monthly_price</th>\n",
       "    </tr>\n",
       "  </thead>\n",
       "  <tbody>\n",
       "    <tr>\n",
       "      <th>0</th>\n",
       "      <td>85.0</td>\n",
       "      <td>595.0</td>\n",
       "      <td>2550.0</td>\n",
       "      <td>0.0</td>\n",
       "      <td>0.0</td>\n",
       "      <td>595.0</td>\n",
       "      <td>2550.0</td>\n",
       "    </tr>\n",
       "    <tr>\n",
       "      <th>1</th>\n",
       "      <td>150.0</td>\n",
       "      <td>1000.0</td>\n",
       "      <td>3000.0</td>\n",
       "      <td>100.0</td>\n",
       "      <td>40.0</td>\n",
       "      <td>1050.0</td>\n",
       "      <td>4500.0</td>\n",
       "    </tr>\n",
       "    <tr>\n",
       "      <th>2</th>\n",
       "      <td>975.0</td>\n",
       "      <td>6825.0</td>\n",
       "      <td>29250.0</td>\n",
       "      <td>1000.0</td>\n",
       "      <td>300.0</td>\n",
       "      <td>6825.0</td>\n",
       "      <td>29250.0</td>\n",
       "    </tr>\n",
       "    <tr>\n",
       "      <th>3</th>\n",
       "      <td>100.0</td>\n",
       "      <td>650.0</td>\n",
       "      <td>2300.0</td>\n",
       "      <td>0.0</td>\n",
       "      <td>0.0</td>\n",
       "      <td>700.0</td>\n",
       "      <td>3000.0</td>\n",
       "    </tr>\n",
       "    <tr>\n",
       "      <th>4</th>\n",
       "      <td>450.0</td>\n",
       "      <td>3150.0</td>\n",
       "      <td>13500.0</td>\n",
       "      <td>700.0</td>\n",
       "      <td>125.0</td>\n",
       "      <td>3150.0</td>\n",
       "      <td>13500.0</td>\n",
       "    </tr>\n",
       "  </tbody>\n",
       "</table>\n",
       "</div>"
      ],
      "text/plain": [
       "   price  weekly_price  monthly_price  security_deposit  cleaning_fee  \\\n",
       "0   85.0         595.0         2550.0               0.0           0.0   \n",
       "1  150.0        1000.0         3000.0             100.0          40.0   \n",
       "2  975.0        6825.0        29250.0            1000.0         300.0   \n",
       "3  100.0         650.0         2300.0               0.0           0.0   \n",
       "4  450.0        3150.0        13500.0             700.0         125.0   \n",
       "\n",
       "   calc_weekly_price  calc_monthly_price  \n",
       "0              595.0              2550.0  \n",
       "1             1050.0              4500.0  \n",
       "2             6825.0             29250.0  \n",
       "3              700.0              3000.0  \n",
       "4             3150.0             13500.0  "
      ]
     },
     "execution_count": 34,
     "metadata": {},
     "output_type": "execute_result"
    }
   ],
   "source": [
    "for idx, row in listings_price_df.iterrows():\n",
    "    if row['weekly_price'] == 0:\n",
    "        listings_price_df.loc[idx, ['weekly_price']] = row['calc_weekly_price']\n",
    "    if row['monthly_price'] == 0:\n",
    "        listings_price_df.loc[idx, ['monthly_price']] = row['calc_monthly_price']\n",
    "\n",
    "listings_price_df[:5]"
   ]
  },
  {
   "cell_type": "code",
   "execution_count": 35,
   "id": "hairy-cemetery",
   "metadata": {
    "execution": {
     "iopub.execute_input": "2021-04-27T00:18:07.897601Z",
     "iopub.status.busy": "2021-04-27T00:18:07.896609Z",
     "iopub.status.idle": "2021-04-27T00:18:07.901490Z",
     "shell.execute_reply": "2021-04-27T00:18:07.900736Z"
    },
    "papermill": {
     "duration": 0.118024,
     "end_time": "2021-04-27T00:18:07.901639",
     "exception": false,
     "start_time": "2021-04-27T00:18:07.783615",
     "status": "completed"
    },
    "tags": []
   },
   "outputs": [
    {
     "data": {
      "text/html": [
       "<div>\n",
       "<style scoped>\n",
       "    .dataframe tbody tr th:only-of-type {\n",
       "        vertical-align: middle;\n",
       "    }\n",
       "\n",
       "    .dataframe tbody tr th {\n",
       "        vertical-align: top;\n",
       "    }\n",
       "\n",
       "    .dataframe thead th {\n",
       "        text-align: right;\n",
       "    }\n",
       "</style>\n",
       "<table border=\"1\" class=\"dataframe\">\n",
       "  <thead>\n",
       "    <tr style=\"text-align: right;\">\n",
       "      <th></th>\n",
       "      <th>price</th>\n",
       "      <th>weekly_price</th>\n",
       "      <th>monthly_price</th>\n",
       "      <th>security_deposit</th>\n",
       "      <th>cleaning_fee</th>\n",
       "    </tr>\n",
       "  </thead>\n",
       "  <tbody>\n",
       "    <tr>\n",
       "      <th>0</th>\n",
       "      <td>85.0</td>\n",
       "      <td>595.0</td>\n",
       "      <td>2550.0</td>\n",
       "      <td>0.0</td>\n",
       "      <td>0.0</td>\n",
       "    </tr>\n",
       "    <tr>\n",
       "      <th>1</th>\n",
       "      <td>150.0</td>\n",
       "      <td>1000.0</td>\n",
       "      <td>3000.0</td>\n",
       "      <td>100.0</td>\n",
       "      <td>40.0</td>\n",
       "    </tr>\n",
       "    <tr>\n",
       "      <th>2</th>\n",
       "      <td>975.0</td>\n",
       "      <td>6825.0</td>\n",
       "      <td>29250.0</td>\n",
       "      <td>1000.0</td>\n",
       "      <td>300.0</td>\n",
       "    </tr>\n",
       "    <tr>\n",
       "      <th>3</th>\n",
       "      <td>100.0</td>\n",
       "      <td>650.0</td>\n",
       "      <td>2300.0</td>\n",
       "      <td>0.0</td>\n",
       "      <td>0.0</td>\n",
       "    </tr>\n",
       "    <tr>\n",
       "      <th>4</th>\n",
       "      <td>450.0</td>\n",
       "      <td>3150.0</td>\n",
       "      <td>13500.0</td>\n",
       "      <td>700.0</td>\n",
       "      <td>125.0</td>\n",
       "    </tr>\n",
       "  </tbody>\n",
       "</table>\n",
       "</div>"
      ],
      "text/plain": [
       "   price  weekly_price  monthly_price  security_deposit  cleaning_fee\n",
       "0   85.0         595.0         2550.0               0.0           0.0\n",
       "1  150.0        1000.0         3000.0             100.0          40.0\n",
       "2  975.0        6825.0        29250.0            1000.0         300.0\n",
       "3  100.0         650.0         2300.0               0.0           0.0\n",
       "4  450.0        3150.0        13500.0             700.0         125.0"
      ]
     },
     "execution_count": 35,
     "metadata": {},
     "output_type": "execute_result"
    }
   ],
   "source": [
    "listings_price_df = listings_price_df.drop(columns = ['calc_weekly_price', 'calc_monthly_price'])\n",
    "listings_price_df[:5]"
   ]
  },
  {
   "cell_type": "code",
   "execution_count": 36,
   "id": "computational-teddy",
   "metadata": {
    "execution": {
     "iopub.execute_input": "2021-04-27T00:18:08.127125Z",
     "iopub.status.busy": "2021-04-27T00:18:08.126008Z",
     "iopub.status.idle": "2021-04-27T00:18:08.582582Z",
     "shell.execute_reply": "2021-04-27T00:18:08.581992Z"
    },
    "papermill": {
     "duration": 0.581549,
     "end_time": "2021-04-27T00:18:08.582735",
     "exception": false,
     "start_time": "2021-04-27T00:18:08.001186",
     "status": "completed"
    },
    "tags": []
   },
   "outputs": [
    {
     "name": "stderr",
     "output_type": "stream",
     "text": [
      "/opt/conda/lib/python3.7/site-packages/pandas/plotting/_matplotlib/tools.py:400: MatplotlibDeprecationWarning: \n",
      "The is_first_col function was deprecated in Matplotlib 3.4 and will be removed two minor releases later. Use ax.get_subplotspec().is_first_col() instead.\n",
      "  if ax.is_first_col():\n"
     ]
    },
    {
     "data": {
      "text/plain": [
       "array([[<AxesSubplot:title={'center':'security_deposit'}>,\n",
       "        <AxesSubplot:title={'center':'cleaning_fee'}>]], dtype=object)"
      ]
     },
     "execution_count": 36,
     "metadata": {},
     "output_type": "execute_result"
    },
    {
     "data": {
      "image/png": "[encoded data removed]",
      "text/plain": [
       "<Figure size 720x360 with 2 Axes>"
      ]
     },
     "metadata": {
      "needs_background": "light"
     },
     "output_type": "display_data"
    }
   ],
   "source": [
    "listings_price_df[['security_deposit', 'cleaning_fee']].hist(figsize = (10, 5))"
   ]
  },
  {
   "cell_type": "code",
   "execution_count": 37,
   "id": "unusual-birmingham",
   "metadata": {
    "execution": {
     "iopub.execute_input": "2021-04-27T00:18:08.799331Z",
     "iopub.status.busy": "2021-04-27T00:18:08.798370Z",
     "iopub.status.idle": "2021-04-27T00:18:08.807881Z",
     "shell.execute_reply": "2021-04-27T00:18:08.807189Z"
    },
    "papermill": {
     "duration": 0.120578,
     "end_time": "2021-04-27T00:18:08.808034",
     "exception": false,
     "start_time": "2021-04-27T00:18:08.687456",
     "status": "completed"
    },
    "tags": []
   },
   "outputs": [
    {
     "data": {
      "text/plain": [
       "count    3818.000000\n",
       "mean      140.566003\n",
       "std       237.387534\n",
       "min         0.000000\n",
       "25%         0.000000\n",
       "50%         0.000000\n",
       "75%       200.000000\n",
       "max      5000.000000\n",
       "Name: security_deposit, dtype: float64"
      ]
     },
     "execution_count": 37,
     "metadata": {},
     "output_type": "execute_result"
    }
   ],
   "source": [
    "listings_price_df['security_deposit'].describe()"
   ]
  },
  {
   "cell_type": "code",
   "execution_count": 38,
   "id": "mysterious-defensive",
   "metadata": {
    "execution": {
     "iopub.execute_input": "2021-04-27T00:18:09.041263Z",
     "iopub.status.busy": "2021-04-27T00:18:09.023046Z",
     "iopub.status.idle": "2021-04-27T00:18:53.424682Z",
     "shell.execute_reply": "2021-04-27T00:18:53.425221Z"
    },
    "papermill": {
     "duration": 44.51597,
     "end_time": "2021-04-27T00:18:53.425403",
     "exception": false,
     "start_time": "2021-04-27T00:18:08.909433",
     "status": "completed"
    },
    "tags": []
   },
   "outputs": [
    {
     "data": {
      "image/png": "[encoded data removed]",
      "text/plain": [
       "<Figure size 432x288 with 1 Axes>"
      ]
     },
     "metadata": {
      "needs_background": "light"
     },
     "output_type": "display_data"
    }
   ],
   "source": [
    "listings_price_df['cleaning_fee'].plot(kind='bar');"
   ]
  },
  {
   "cell_type": "code",
   "execution_count": 39,
   "id": "rotary-breast",
   "metadata": {
    "execution": {
     "iopub.execute_input": "2021-04-27T00:18:53.637652Z",
     "iopub.status.busy": "2021-04-27T00:18:53.636790Z",
     "iopub.status.idle": "2021-04-27T00:18:53.831012Z",
     "shell.execute_reply": "2021-04-27T00:18:53.830372Z"
    },
    "papermill": {
     "duration": 0.301189,
     "end_time": "2021-04-27T00:18:53.831174",
     "exception": false,
     "start_time": "2021-04-27T00:18:53.529985",
     "status": "completed"
    },
    "tags": []
   },
   "outputs": [
    {
     "data": {
      "image/png": "[encoded data removed]",
      "text/plain": [
       "<Figure size 432x288 with 1 Axes>"
      ]
     },
     "metadata": {
      "needs_background": "light"
     },
     "output_type": "display_data"
    }
   ],
   "source": [
    "listings_price_df['cleaning_fee'].hist();"
   ]
  },
  {
   "cell_type": "code",
   "execution_count": 40,
   "id": "treated-engineer",
   "metadata": {
    "execution": {
     "iopub.execute_input": "2021-04-27T00:18:54.073310Z",
     "iopub.status.busy": "2021-04-27T00:18:54.072585Z",
     "iopub.status.idle": "2021-04-27T00:18:54.216840Z",
     "shell.execute_reply": "2021-04-27T00:18:54.216138Z"
    },
    "papermill": {
     "duration": 0.280005,
     "end_time": "2021-04-27T00:18:54.217126",
     "exception": false,
     "start_time": "2021-04-27T00:18:53.937121",
     "status": "completed"
    },
    "tags": []
   },
   "outputs": [
    {
     "data": {
      "image/png": "[encoded data removed]",
      "text/plain": [
       "<Figure size 432x288 with 1 Axes>"
      ]
     },
     "metadata": {
      "needs_background": "light"
     },
     "output_type": "display_data"
    }
   ],
   "source": [
    "listings_price_df['cleaning_fee'].hist();"
   ]
  },
  {
   "cell_type": "code",
   "execution_count": 41,
   "id": "incident-transport",
   "metadata": {
    "execution": {
     "iopub.execute_input": "2021-04-27T00:18:54.438268Z",
     "iopub.status.busy": "2021-04-27T00:18:54.437552Z",
     "iopub.status.idle": "2021-04-27T00:18:54.447558Z",
     "shell.execute_reply": "2021-04-27T00:18:54.448112Z"
    },
    "papermill": {
     "duration": 0.126798,
     "end_time": "2021-04-27T00:18:54.448307",
     "exception": false,
     "start_time": "2021-04-27T00:18:54.321509",
     "status": "completed"
    },
    "tags": []
   },
   "outputs": [
    {
     "data": {
      "text/plain": [
       "count    3818.000000\n",
       "mean       45.062860\n",
       "std        49.913798\n",
       "min         0.000000\n",
       "25%         0.000000\n",
       "50%        30.000000\n",
       "75%        65.000000\n",
       "max       300.000000\n",
       "Name: cleaning_fee, dtype: float64"
      ]
     },
     "execution_count": 41,
     "metadata": {},
     "output_type": "execute_result"
    }
   ],
   "source": [
    "listings_price_df['cleaning_fee'].describe()"
   ]
  },
  {
   "cell_type": "code",
   "execution_count": 42,
   "id": "established-denmark",
   "metadata": {
    "execution": {
     "iopub.execute_input": "2021-04-27T00:18:54.665537Z",
     "iopub.status.busy": "2021-04-27T00:18:54.664820Z",
     "iopub.status.idle": "2021-04-27T00:18:54.675828Z",
     "shell.execute_reply": "2021-04-27T00:18:54.675241Z"
    },
    "papermill": {
     "duration": 0.124463,
     "end_time": "2021-04-27T00:18:54.675999",
     "exception": false,
     "start_time": "2021-04-27T00:18:54.551536",
     "status": "completed"
    },
    "tags": []
   },
   "outputs": [
    {
     "data": {
      "text/plain": [
       "count    3818.000000\n",
       "mean       45.062860\n",
       "std        49.913798\n",
       "min         0.000000\n",
       "25%         0.000000\n",
       "50%        30.000000\n",
       "75%        65.000000\n",
       "max       300.000000\n",
       "Name: cleaning_fee, dtype: float64"
      ]
     },
     "execution_count": 42,
     "metadata": {},
     "output_type": "execute_result"
    }
   ],
   "source": [
    "listings_price_df['cleaning_fee'].describe()"
   ]
  },
  {
   "cell_type": "code",
   "execution_count": 43,
   "id": "emerging-disability",
   "metadata": {
    "execution": {
     "iopub.execute_input": "2021-04-27T00:18:54.923969Z",
     "iopub.status.busy": "2021-04-27T00:18:54.902956Z",
     "iopub.status.idle": "2021-04-27T00:18:55.301695Z",
     "shell.execute_reply": "2021-04-27T00:18:55.300959Z"
    },
    "papermill": {
     "duration": 0.519387,
     "end_time": "2021-04-27T00:18:55.301969",
     "exception": false,
     "start_time": "2021-04-27T00:18:54.782582",
     "status": "completed"
    },
    "tags": []
   },
   "outputs": [
    {
     "data": {
      "image/png": "[encoded data removed]",
      "text/plain": [
       "<Figure size 432x288 with 2 Axes>"
      ]
     },
     "metadata": {
      "needs_background": "light"
     },
     "output_type": "display_data"
    }
   ],
   "source": [
    "sns.heatmap(listings_price_df.corr(), annot = True);"
   ]
  },
  {
   "cell_type": "code",
   "execution_count": 44,
   "id": "north-possibility",
   "metadata": {
    "execution": {
     "iopub.execute_input": "2021-04-27T00:18:55.541400Z",
     "iopub.status.busy": "2021-04-27T00:18:55.540485Z",
     "iopub.status.idle": "2021-04-27T00:18:55.543613Z",
     "shell.execute_reply": "2021-04-27T00:18:55.542950Z"
    },
    "papermill": {
     "duration": 0.125312,
     "end_time": "2021-04-27T00:18:55.543779",
     "exception": false,
     "start_time": "2021-04-27T00:18:55.418467",
     "status": "completed"
    },
    "tags": []
   },
   "outputs": [],
   "source": [
    "review_scores_cols = [col for col in listings_df.columns if 'review_scores' in col]\n",
    "review_scores_df = listings_df[review_scores_cols]"
   ]
  },
  {
   "cell_type": "code",
   "execution_count": 45,
   "id": "fantastic-trailer",
   "metadata": {
    "execution": {
     "iopub.execute_input": "2021-04-27T00:18:55.780347Z",
     "iopub.status.busy": "2021-04-27T00:18:55.779658Z",
     "iopub.status.idle": "2021-04-27T00:18:55.786025Z",
     "shell.execute_reply": "2021-04-27T00:18:55.786513Z"
    },
    "papermill": {
     "duration": 0.129421,
     "end_time": "2021-04-27T00:18:55.786714",
     "exception": false,
     "start_time": "2021-04-27T00:18:55.657293",
     "status": "completed"
    },
    "tags": []
   },
   "outputs": [
    {
     "data": {
      "text/plain": [
       "review_scores_rating           647\n",
       "review_scores_accuracy         658\n",
       "review_scores_cleanliness      653\n",
       "review_scores_checkin          658\n",
       "review_scores_communication    651\n",
       "review_scores_location         655\n",
       "review_scores_value            656\n",
       "dtype: int64"
      ]
     },
     "execution_count": 45,
     "metadata": {},
     "output_type": "execute_result"
    }
   ],
   "source": [
    "review_scores_df.isna().sum()"
   ]
  },
  {
   "cell_type": "code",
   "execution_count": 46,
   "id": "common-yahoo",
   "metadata": {
    "execution": {
     "iopub.execute_input": "2021-04-27T00:18:56.047659Z",
     "iopub.status.busy": "2021-04-27T00:18:56.046783Z",
     "iopub.status.idle": "2021-04-27T00:18:56.091899Z",
     "shell.execute_reply": "2021-04-27T00:18:56.091042Z"
    },
    "papermill": {
     "duration": 0.174747,
     "end_time": "2021-04-27T00:18:56.092089",
     "exception": false,
     "start_time": "2021-04-27T00:18:55.917342",
     "status": "completed"
    },
    "tags": []
   },
   "outputs": [
    {
     "data": {
      "text/html": [
       "<div>\n",
       "<style scoped>\n",
       "    .dataframe tbody tr th:only-of-type {\n",
       "        vertical-align: middle;\n",
       "    }\n",
       "\n",
       "    .dataframe tbody tr th {\n",
       "        vertical-align: top;\n",
       "    }\n",
       "\n",
       "    .dataframe thead th {\n",
       "        text-align: right;\n",
       "    }\n",
       "</style>\n",
       "<table border=\"1\" class=\"dataframe\">\n",
       "  <thead>\n",
       "    <tr style=\"text-align: right;\">\n",
       "      <th></th>\n",
       "      <th>review_scores_rating</th>\n",
       "      <th>review_scores_accuracy</th>\n",
       "      <th>review_scores_cleanliness</th>\n",
       "      <th>review_scores_checkin</th>\n",
       "      <th>review_scores_communication</th>\n",
       "      <th>review_scores_location</th>\n",
       "      <th>review_scores_value</th>\n",
       "    </tr>\n",
       "  </thead>\n",
       "  <tbody>\n",
       "    <tr>\n",
       "      <th>count</th>\n",
       "      <td>3158.000000</td>\n",
       "      <td>3158.000000</td>\n",
       "      <td>3158.000000</td>\n",
       "      <td>3158.000000</td>\n",
       "      <td>3158.000000</td>\n",
       "      <td>3158.000000</td>\n",
       "      <td>3158.000000</td>\n",
       "    </tr>\n",
       "    <tr>\n",
       "      <th>mean</th>\n",
       "      <td>94.538949</td>\n",
       "      <td>9.636795</td>\n",
       "      <td>9.556048</td>\n",
       "      <td>9.786574</td>\n",
       "      <td>9.810956</td>\n",
       "      <td>9.608930</td>\n",
       "      <td>9.452185</td>\n",
       "    </tr>\n",
       "    <tr>\n",
       "      <th>std</th>\n",
       "      <td>6.597547</td>\n",
       "      <td>0.697614</td>\n",
       "      <td>0.797442</td>\n",
       "      <td>0.595663</td>\n",
       "      <td>0.559464</td>\n",
       "      <td>0.628746</td>\n",
       "      <td>0.750099</td>\n",
       "    </tr>\n",
       "    <tr>\n",
       "      <th>min</th>\n",
       "      <td>20.000000</td>\n",
       "      <td>2.000000</td>\n",
       "      <td>3.000000</td>\n",
       "      <td>2.000000</td>\n",
       "      <td>2.000000</td>\n",
       "      <td>4.000000</td>\n",
       "      <td>2.000000</td>\n",
       "    </tr>\n",
       "    <tr>\n",
       "      <th>25%</th>\n",
       "      <td>93.000000</td>\n",
       "      <td>9.000000</td>\n",
       "      <td>9.000000</td>\n",
       "      <td>10.000000</td>\n",
       "      <td>10.000000</td>\n",
       "      <td>9.000000</td>\n",
       "      <td>9.000000</td>\n",
       "    </tr>\n",
       "    <tr>\n",
       "      <th>50%</th>\n",
       "      <td>96.000000</td>\n",
       "      <td>10.000000</td>\n",
       "      <td>10.000000</td>\n",
       "      <td>10.000000</td>\n",
       "      <td>10.000000</td>\n",
       "      <td>10.000000</td>\n",
       "      <td>10.000000</td>\n",
       "    </tr>\n",
       "    <tr>\n",
       "      <th>75%</th>\n",
       "      <td>99.000000</td>\n",
       "      <td>10.000000</td>\n",
       "      <td>10.000000</td>\n",
       "      <td>10.000000</td>\n",
       "      <td>10.000000</td>\n",
       "      <td>10.000000</td>\n",
       "      <td>10.000000</td>\n",
       "    </tr>\n",
       "    <tr>\n",
       "      <th>max</th>\n",
       "      <td>100.000000</td>\n",
       "      <td>10.000000</td>\n",
       "      <td>10.000000</td>\n",
       "      <td>10.000000</td>\n",
       "      <td>10.000000</td>\n",
       "      <td>10.000000</td>\n",
       "      <td>10.000000</td>\n",
       "    </tr>\n",
       "  </tbody>\n",
       "</table>\n",
       "</div>"
      ],
      "text/plain": [
       "       review_scores_rating  review_scores_accuracy  \\\n",
       "count           3158.000000             3158.000000   \n",
       "mean              94.538949                9.636795   \n",
       "std                6.597547                0.697614   \n",
       "min               20.000000                2.000000   \n",
       "25%               93.000000                9.000000   \n",
       "50%               96.000000               10.000000   \n",
       "75%               99.000000               10.000000   \n",
       "max              100.000000               10.000000   \n",
       "\n",
       "       review_scores_cleanliness  review_scores_checkin  \\\n",
       "count                3158.000000            3158.000000   \n",
       "mean                    9.556048               9.786574   \n",
       "std                     0.797442               0.595663   \n",
       "min                     3.000000               2.000000   \n",
       "25%                     9.000000              10.000000   \n",
       "50%                    10.000000              10.000000   \n",
       "75%                    10.000000              10.000000   \n",
       "max                    10.000000              10.000000   \n",
       "\n",
       "       review_scores_communication  review_scores_location  \\\n",
       "count                  3158.000000             3158.000000   \n",
       "mean                      9.810956                9.608930   \n",
       "std                       0.559464                0.628746   \n",
       "min                       2.000000                4.000000   \n",
       "25%                      10.000000                9.000000   \n",
       "50%                      10.000000               10.000000   \n",
       "75%                      10.000000               10.000000   \n",
       "max                      10.000000               10.000000   \n",
       "\n",
       "       review_scores_value  \n",
       "count          3158.000000  \n",
       "mean              9.452185  \n",
       "std               0.750099  \n",
       "min               2.000000  \n",
       "25%               9.000000  \n",
       "50%              10.000000  \n",
       "75%              10.000000  \n",
       "max              10.000000  "
      ]
     },
     "execution_count": 46,
     "metadata": {},
     "output_type": "execute_result"
    }
   ],
   "source": [
    "review_scores_df = review_scores_df.dropna()\n",
    "review_scores_df.describe()"
   ]
  },
  {
   "cell_type": "code",
   "execution_count": 47,
   "id": "suburban-interval",
   "metadata": {
    "execution": {
     "iopub.execute_input": "2021-04-27T00:18:56.327775Z",
     "iopub.status.busy": "2021-04-27T00:18:56.326677Z",
     "iopub.status.idle": "2021-04-27T00:18:56.505286Z",
     "shell.execute_reply": "2021-04-27T00:18:56.505757Z"
    },
    "papermill": {
     "duration": 0.298601,
     "end_time": "2021-04-27T00:18:56.505970",
     "exception": false,
     "start_time": "2021-04-27T00:18:56.207369",
     "status": "completed"
    },
    "tags": []
   },
   "outputs": [
    {
     "data": {
      "image/png": "[encoded data removed]",
      "text/plain": [
       "<Figure size 432x288 with 1 Axes>"
      ]
     },
     "metadata": {
      "needs_background": "light"
     },
     "output_type": "display_data"
    }
   ],
   "source": [
    "review_scores_df['review_scores_rating'].plot(kind='hist');"
   ]
  },
  {
   "cell_type": "code",
   "execution_count": 48,
   "id": "cosmetic-beijing",
   "metadata": {
    "execution": {
     "iopub.execute_input": "2021-04-27T00:18:56.738152Z",
     "iopub.status.busy": "2021-04-27T00:18:56.737437Z",
     "iopub.status.idle": "2021-04-27T00:18:57.722645Z",
     "shell.execute_reply": "2021-04-27T00:18:57.721940Z"
    },
    "papermill": {
     "duration": 1.104448,
     "end_time": "2021-04-27T00:18:57.722807",
     "exception": false,
     "start_time": "2021-04-27T00:18:56.618359",
     "status": "completed"
    },
    "tags": []
   },
   "outputs": [
    {
     "name": "stderr",
     "output_type": "stream",
     "text": [
      "/opt/conda/lib/python3.7/site-packages/pandas/plotting/_matplotlib/tools.py:400: MatplotlibDeprecationWarning: \n",
      "The is_first_col function was deprecated in Matplotlib 3.4 and will be removed two minor releases later. Use ax.get_subplotspec().is_first_col() instead.\n",
      "  if ax.is_first_col():\n"
     ]
    },
    {
     "data": {
      "image/png": "[encoded data removed]",
      "text/plain": [
       "<Figure size 720x720 with 8 Axes>"
      ]
     },
     "metadata": {
      "needs_background": "light"
     },
     "output_type": "display_data"
    }
   ],
   "source": [
    "# Other scores\n",
    "review_scores_df.hist(layout = [4,2], figsize = (10, 10), bins = 10);"
   ]
  },
  {
   "cell_type": "code",
   "execution_count": 49,
   "id": "hispanic-robert",
   "metadata": {
    "execution": {
     "iopub.execute_input": "2021-04-27T00:18:58.008112Z",
     "iopub.status.busy": "2021-04-27T00:18:58.006996Z",
     "iopub.status.idle": "2021-04-27T00:18:58.606821Z",
     "shell.execute_reply": "2021-04-27T00:18:58.606063Z"
    },
    "papermill": {
     "duration": 0.726905,
     "end_time": "2021-04-27T00:18:58.607010",
     "exception": false,
     "start_time": "2021-04-27T00:18:57.880105",
     "status": "completed"
    },
    "tags": []
   },
   "outputs": [
    {
     "data": {
      "image/png": "[encoded data removed]",
      "text/plain": [
       "<Figure size 432x288 with 2 Axes>"
      ]
     },
     "metadata": {
      "needs_background": "light"
     },
     "output_type": "display_data"
    }
   ],
   "source": [
    "sns.heatmap(review_scores_df.corr(method ='pearson'), annot = True);"
   ]
  },
  {
   "cell_type": "code",
   "execution_count": 50,
   "id": "retired-citizen",
   "metadata": {
    "execution": {
     "iopub.execute_input": "2021-04-27T00:18:58.856869Z",
     "iopub.status.busy": "2021-04-27T00:18:58.855910Z",
     "iopub.status.idle": "2021-04-27T00:18:58.860523Z",
     "shell.execute_reply": "2021-04-27T00:18:58.859897Z"
    },
    "papermill": {
     "duration": 0.13472,
     "end_time": "2021-04-27T00:18:58.860664",
     "exception": false,
     "start_time": "2021-04-27T00:18:58.725944",
     "status": "completed"
    },
    "tags": []
   },
   "outputs": [
    {
     "data": {
      "text/html": [
       "<div>\n",
       "<style scoped>\n",
       "    .dataframe tbody tr th:only-of-type {\n",
       "        vertical-align: middle;\n",
       "    }\n",
       "\n",
       "    .dataframe tbody tr th {\n",
       "        vertical-align: top;\n",
       "    }\n",
       "\n",
       "    .dataframe thead th {\n",
       "        text-align: right;\n",
       "    }\n",
       "</style>\n",
       "<table border=\"1\" class=\"dataframe\">\n",
       "  <thead>\n",
       "    <tr style=\"text-align: right;\">\n",
       "      <th></th>\n",
       "      <th>bathrooms</th>\n",
       "      <th>bedrooms</th>\n",
       "      <th>beds</th>\n",
       "      <th>accommodates</th>\n",
       "    </tr>\n",
       "  </thead>\n",
       "  <tbody>\n",
       "    <tr>\n",
       "      <th>0</th>\n",
       "      <td>1.0</td>\n",
       "      <td>1.0</td>\n",
       "      <td>1.0</td>\n",
       "      <td>4</td>\n",
       "    </tr>\n",
       "    <tr>\n",
       "      <th>1</th>\n",
       "      <td>1.0</td>\n",
       "      <td>1.0</td>\n",
       "      <td>1.0</td>\n",
       "      <td>4</td>\n",
       "    </tr>\n",
       "    <tr>\n",
       "      <th>2</th>\n",
       "      <td>4.5</td>\n",
       "      <td>5.0</td>\n",
       "      <td>7.0</td>\n",
       "      <td>11</td>\n",
       "    </tr>\n",
       "    <tr>\n",
       "      <th>3</th>\n",
       "      <td>1.0</td>\n",
       "      <td>0.0</td>\n",
       "      <td>2.0</td>\n",
       "      <td>3</td>\n",
       "    </tr>\n",
       "    <tr>\n",
       "      <th>4</th>\n",
       "      <td>2.0</td>\n",
       "      <td>3.0</td>\n",
       "      <td>3.0</td>\n",
       "      <td>6</td>\n",
       "    </tr>\n",
       "  </tbody>\n",
       "</table>\n",
       "</div>"
      ],
      "text/plain": [
       "   bathrooms  bedrooms  beds  accommodates\n",
       "0        1.0       1.0   1.0             4\n",
       "1        1.0       1.0   1.0             4\n",
       "2        4.5       5.0   7.0            11\n",
       "3        1.0       0.0   2.0             3\n",
       "4        2.0       3.0   3.0             6"
      ]
     },
     "execution_count": 50,
     "metadata": {},
     "output_type": "execute_result"
    }
   ],
   "source": [
    "facilities_df = listings_df[['bathrooms', 'bedrooms', 'beds', 'accommodates']]\n",
    "facilities_df[:5]"
   ]
  },
  {
   "cell_type": "code",
   "execution_count": 51,
   "id": "assumed-acting",
   "metadata": {
    "execution": {
     "iopub.execute_input": "2021-04-27T00:18:59.101651Z",
     "iopub.status.busy": "2021-04-27T00:18:59.100629Z",
     "iopub.status.idle": "2021-04-27T00:18:59.105365Z",
     "shell.execute_reply": "2021-04-27T00:18:59.104833Z"
    },
    "papermill": {
     "duration": 0.130524,
     "end_time": "2021-04-27T00:18:59.105516",
     "exception": false,
     "start_time": "2021-04-27T00:18:58.974992",
     "status": "completed"
    },
    "tags": []
   },
   "outputs": [
    {
     "data": {
      "text/plain": [
       "bathrooms       16\n",
       "bedrooms         6\n",
       "beds             1\n",
       "accommodates     0\n",
       "dtype: int64"
      ]
     },
     "execution_count": 51,
     "metadata": {},
     "output_type": "execute_result"
    }
   ],
   "source": [
    "facilities_df.isna().sum()"
   ]
  },
  {
   "cell_type": "code",
   "execution_count": 52,
   "id": "interested-universal",
   "metadata": {
    "execution": {
     "iopub.execute_input": "2021-04-27T00:18:59.364469Z",
     "iopub.status.busy": "2021-04-27T00:18:59.361734Z",
     "iopub.status.idle": "2021-04-27T00:18:59.368057Z",
     "shell.execute_reply": "2021-04-27T00:18:59.368718Z"
    },
    "papermill": {
     "duration": 0.142949,
     "end_time": "2021-04-27T00:18:59.368926",
     "exception": false,
     "start_time": "2021-04-27T00:18:59.225977",
     "status": "completed"
    },
    "tags": []
   },
   "outputs": [
    {
     "data": {
      "text/html": [
       "<div>\n",
       "<style scoped>\n",
       "    .dataframe tbody tr th:only-of-type {\n",
       "        vertical-align: middle;\n",
       "    }\n",
       "\n",
       "    .dataframe tbody tr th {\n",
       "        vertical-align: top;\n",
       "    }\n",
       "\n",
       "    .dataframe thead th {\n",
       "        text-align: right;\n",
       "    }\n",
       "</style>\n",
       "<table border=\"1\" class=\"dataframe\">\n",
       "  <thead>\n",
       "    <tr style=\"text-align: right;\">\n",
       "      <th></th>\n",
       "      <th>bathrooms</th>\n",
       "      <th>bedrooms</th>\n",
       "      <th>beds</th>\n",
       "      <th>accommodates</th>\n",
       "    </tr>\n",
       "  </thead>\n",
       "  <tbody>\n",
       "    <tr>\n",
       "      <th>1242</th>\n",
       "      <td>NaN</td>\n",
       "      <td>1.0</td>\n",
       "      <td>2.0</td>\n",
       "      <td>4</td>\n",
       "    </tr>\n",
       "    <tr>\n",
       "      <th>1314</th>\n",
       "      <td>NaN</td>\n",
       "      <td>1.0</td>\n",
       "      <td>2.0</td>\n",
       "      <td>4</td>\n",
       "    </tr>\n",
       "    <tr>\n",
       "      <th>1357</th>\n",
       "      <td>NaN</td>\n",
       "      <td>2.0</td>\n",
       "      <td>3.0</td>\n",
       "      <td>6</td>\n",
       "    </tr>\n",
       "    <tr>\n",
       "      <th>1378</th>\n",
       "      <td>NaN</td>\n",
       "      <td>1.0</td>\n",
       "      <td>1.0</td>\n",
       "      <td>4</td>\n",
       "    </tr>\n",
       "    <tr>\n",
       "      <th>1429</th>\n",
       "      <td>1.0</td>\n",
       "      <td>NaN</td>\n",
       "      <td>1.0</td>\n",
       "      <td>2</td>\n",
       "    </tr>\n",
       "    <tr>\n",
       "      <th>1492</th>\n",
       "      <td>1.0</td>\n",
       "      <td>NaN</td>\n",
       "      <td>1.0</td>\n",
       "      <td>6</td>\n",
       "    </tr>\n",
       "    <tr>\n",
       "      <th>1493</th>\n",
       "      <td>1.0</td>\n",
       "      <td>NaN</td>\n",
       "      <td>2.0</td>\n",
       "      <td>4</td>\n",
       "    </tr>\n",
       "    <tr>\n",
       "      <th>1853</th>\n",
       "      <td>1.0</td>\n",
       "      <td>NaN</td>\n",
       "      <td>1.0</td>\n",
       "      <td>2</td>\n",
       "    </tr>\n",
       "    <tr>\n",
       "      <th>1961</th>\n",
       "      <td>NaN</td>\n",
       "      <td>1.0</td>\n",
       "      <td>NaN</td>\n",
       "      <td>4</td>\n",
       "    </tr>\n",
       "    <tr>\n",
       "      <th>1975</th>\n",
       "      <td>NaN</td>\n",
       "      <td>1.0</td>\n",
       "      <td>1.0</td>\n",
       "      <td>1</td>\n",
       "    </tr>\n",
       "    <tr>\n",
       "      <th>2048</th>\n",
       "      <td>NaN</td>\n",
       "      <td>2.0</td>\n",
       "      <td>4.0</td>\n",
       "      <td>4</td>\n",
       "    </tr>\n",
       "    <tr>\n",
       "      <th>2096</th>\n",
       "      <td>NaN</td>\n",
       "      <td>1.0</td>\n",
       "      <td>1.0</td>\n",
       "      <td>2</td>\n",
       "    </tr>\n",
       "    <tr>\n",
       "      <th>2306</th>\n",
       "      <td>NaN</td>\n",
       "      <td>1.0</td>\n",
       "      <td>2.0</td>\n",
       "      <td>3</td>\n",
       "    </tr>\n",
       "    <tr>\n",
       "      <th>2408</th>\n",
       "      <td>NaN</td>\n",
       "      <td>1.0</td>\n",
       "      <td>1.0</td>\n",
       "      <td>2</td>\n",
       "    </tr>\n",
       "    <tr>\n",
       "      <th>2432</th>\n",
       "      <td>NaN</td>\n",
       "      <td>1.0</td>\n",
       "      <td>1.0</td>\n",
       "      <td>2</td>\n",
       "    </tr>\n",
       "    <tr>\n",
       "      <th>2437</th>\n",
       "      <td>NaN</td>\n",
       "      <td>1.0</td>\n",
       "      <td>2.0</td>\n",
       "      <td>4</td>\n",
       "    </tr>\n",
       "    <tr>\n",
       "      <th>2619</th>\n",
       "      <td>1.0</td>\n",
       "      <td>NaN</td>\n",
       "      <td>1.0</td>\n",
       "      <td>2</td>\n",
       "    </tr>\n",
       "    <tr>\n",
       "      <th>2698</th>\n",
       "      <td>NaN</td>\n",
       "      <td>1.0</td>\n",
       "      <td>1.0</td>\n",
       "      <td>4</td>\n",
       "    </tr>\n",
       "    <tr>\n",
       "      <th>2717</th>\n",
       "      <td>NaN</td>\n",
       "      <td>1.0</td>\n",
       "      <td>1.0</td>\n",
       "      <td>1</td>\n",
       "    </tr>\n",
       "    <tr>\n",
       "      <th>2915</th>\n",
       "      <td>1.0</td>\n",
       "      <td>NaN</td>\n",
       "      <td>1.0</td>\n",
       "      <td>2</td>\n",
       "    </tr>\n",
       "    <tr>\n",
       "      <th>2953</th>\n",
       "      <td>NaN</td>\n",
       "      <td>1.0</td>\n",
       "      <td>1.0</td>\n",
       "      <td>4</td>\n",
       "    </tr>\n",
       "    <tr>\n",
       "      <th>3337</th>\n",
       "      <td>NaN</td>\n",
       "      <td>2.0</td>\n",
       "      <td>1.0</td>\n",
       "      <td>2</td>\n",
       "    </tr>\n",
       "  </tbody>\n",
       "</table>\n",
       "</div>"
      ],
      "text/plain": [
       "      bathrooms  bedrooms  beds  accommodates\n",
       "1242        NaN       1.0   2.0             4\n",
       "1314        NaN       1.0   2.0             4\n",
       "1357        NaN       2.0   3.0             6\n",
       "1378        NaN       1.0   1.0             4\n",
       "1429        1.0       NaN   1.0             2\n",
       "1492        1.0       NaN   1.0             6\n",
       "1493        1.0       NaN   2.0             4\n",
       "1853        1.0       NaN   1.0             2\n",
       "1961        NaN       1.0   NaN             4\n",
       "1975        NaN       1.0   1.0             1\n",
       "2048        NaN       2.0   4.0             4\n",
       "2096        NaN       1.0   1.0             2\n",
       "2306        NaN       1.0   2.0             3\n",
       "2408        NaN       1.0   1.0             2\n",
       "2432        NaN       1.0   1.0             2\n",
       "2437        NaN       1.0   2.0             4\n",
       "2619        1.0       NaN   1.0             2\n",
       "2698        NaN       1.0   1.0             4\n",
       "2717        NaN       1.0   1.0             1\n",
       "2915        1.0       NaN   1.0             2\n",
       "2953        NaN       1.0   1.0             4\n",
       "3337        NaN       2.0   1.0             2"
      ]
     },
     "execution_count": 52,
     "metadata": {},
     "output_type": "execute_result"
    }
   ],
   "source": [
    "facilities_df[facilities_df.isna().any(axis=1)]"
   ]
  },
  {
   "cell_type": "code",
   "execution_count": 53,
   "id": "genetic-morris",
   "metadata": {
    "execution": {
     "iopub.execute_input": "2021-04-27T00:18:59.653705Z",
     "iopub.status.busy": "2021-04-27T00:18:59.653013Z",
     "iopub.status.idle": "2021-04-27T00:18:59.664581Z",
     "shell.execute_reply": "2021-04-27T00:18:59.664046Z"
    },
    "papermill": {
     "duration": 0.128829,
     "end_time": "2021-04-27T00:18:59.664729",
     "exception": false,
     "start_time": "2021-04-27T00:18:59.535900",
     "status": "completed"
    },
    "tags": []
   },
   "outputs": [
    {
     "data": {
      "text/plain": [
       "1      256\n",
       "2     1627\n",
       "3      398\n",
       "4      785\n",
       "5      184\n",
       "6      332\n",
       "7       52\n",
       "8      119\n",
       "9       13\n",
       "10      25\n",
       "11       3\n",
       "12      15\n",
       "14       3\n",
       "15       2\n",
       "16       4\n",
       "Name: accommodates, dtype: int64"
      ]
     },
     "execution_count": 53,
     "metadata": {},
     "output_type": "execute_result"
    }
   ],
   "source": [
    "listings_df['accommodates'].value_counts().sort_index()"
   ]
  },
  {
   "cell_type": "code",
   "execution_count": 54,
   "id": "enabling-tamil",
   "metadata": {
    "execution": {
     "iopub.execute_input": "2021-04-27T00:18:59.927099Z",
     "iopub.status.busy": "2021-04-27T00:18:59.926428Z",
     "iopub.status.idle": "2021-04-27T00:19:00.101914Z",
     "shell.execute_reply": "2021-04-27T00:19:00.102500Z"
    },
    "papermill": {
     "duration": 0.316444,
     "end_time": "2021-04-27T00:19:00.102688",
     "exception": false,
     "start_time": "2021-04-27T00:18:59.786244",
     "status": "completed"
    },
    "tags": []
   },
   "outputs": [
    {
     "data": {
      "image/png": "[encoded data removed]",
      "text/plain": [
       "<Figure size 432x288 with 1 Axes>"
      ]
     },
     "metadata": {
      "needs_background": "light"
     },
     "output_type": "display_data"
    }
   ],
   "source": [
    "listings_df['accommodates'].value_counts().sort_index().plot(kind='bar');"
   ]
  },
  {
   "cell_type": "code",
   "execution_count": 55,
   "id": "corporate-aberdeen",
   "metadata": {
    "execution": {
     "iopub.execute_input": "2021-04-27T00:19:00.335583Z",
     "iopub.status.busy": "2021-04-27T00:19:00.334949Z",
     "iopub.status.idle": "2021-04-27T00:19:00.348565Z",
     "shell.execute_reply": "2021-04-27T00:19:00.347967Z"
    },
    "papermill": {
     "duration": 0.130742,
     "end_time": "2021-04-27T00:19:00.348703",
     "exception": false,
     "start_time": "2021-04-27T00:19:00.217961",
     "status": "completed"
    },
    "tags": []
   },
   "outputs": [
    {
     "data": {
      "text/html": [
       "<div>\n",
       "<style scoped>\n",
       "    .dataframe tbody tr th:only-of-type {\n",
       "        vertical-align: middle;\n",
       "    }\n",
       "\n",
       "    .dataframe tbody tr th {\n",
       "        vertical-align: top;\n",
       "    }\n",
       "\n",
       "    .dataframe thead th {\n",
       "        text-align: right;\n",
       "    }\n",
       "</style>\n",
       "<table border=\"1\" class=\"dataframe\">\n",
       "  <thead>\n",
       "    <tr style=\"text-align: right;\">\n",
       "      <th></th>\n",
       "      <th>property_type</th>\n",
       "      <th>room_type</th>\n",
       "      <th>bed_type</th>\n",
       "      <th>amenities</th>\n",
       "    </tr>\n",
       "  </thead>\n",
       "  <tbody>\n",
       "    <tr>\n",
       "      <th>0</th>\n",
       "      <td>Apartment</td>\n",
       "      <td>Entire home/apt</td>\n",
       "      <td>Real Bed</td>\n",
       "      <td>{TV,\"Cable TV\",Internet,\"Wireless Internet\",\"A...</td>\n",
       "    </tr>\n",
       "    <tr>\n",
       "      <th>1</th>\n",
       "      <td>Apartment</td>\n",
       "      <td>Entire home/apt</td>\n",
       "      <td>Real Bed</td>\n",
       "      <td>{TV,Internet,\"Wireless Internet\",Kitchen,\"Free...</td>\n",
       "    </tr>\n",
       "    <tr>\n",
       "      <th>2</th>\n",
       "      <td>House</td>\n",
       "      <td>Entire home/apt</td>\n",
       "      <td>Real Bed</td>\n",
       "      <td>{TV,\"Cable TV\",Internet,\"Wireless Internet\",\"A...</td>\n",
       "    </tr>\n",
       "    <tr>\n",
       "      <th>3</th>\n",
       "      <td>Apartment</td>\n",
       "      <td>Entire home/apt</td>\n",
       "      <td>Real Bed</td>\n",
       "      <td>{Internet,\"Wireless Internet\",Kitchen,\"Indoor ...</td>\n",
       "    </tr>\n",
       "    <tr>\n",
       "      <th>4</th>\n",
       "      <td>House</td>\n",
       "      <td>Entire home/apt</td>\n",
       "      <td>Real Bed</td>\n",
       "      <td>{TV,\"Cable TV\",Internet,\"Wireless Internet\",Ki...</td>\n",
       "    </tr>\n",
       "  </tbody>\n",
       "</table>\n",
       "</div>"
      ],
      "text/plain": [
       "  property_type        room_type  bed_type  \\\n",
       "0     Apartment  Entire home/apt  Real Bed   \n",
       "1     Apartment  Entire home/apt  Real Bed   \n",
       "2         House  Entire home/apt  Real Bed   \n",
       "3     Apartment  Entire home/apt  Real Bed   \n",
       "4         House  Entire home/apt  Real Bed   \n",
       "\n",
       "                                           amenities  \n",
       "0  {TV,\"Cable TV\",Internet,\"Wireless Internet\",\"A...  \n",
       "1  {TV,Internet,\"Wireless Internet\",Kitchen,\"Free...  \n",
       "2  {TV,\"Cable TV\",Internet,\"Wireless Internet\",\"A...  \n",
       "3  {Internet,\"Wireless Internet\",Kitchen,\"Indoor ...  \n",
       "4  {TV,\"Cable TV\",Internet,\"Wireless Internet\",Ki...  "
      ]
     },
     "execution_count": 55,
     "metadata": {},
     "output_type": "execute_result"
    }
   ],
   "source": [
    "listings_df[['property_type','room_type','bed_type','amenities']][:5]"
   ]
  },
  {
   "cell_type": "code",
   "execution_count": 56,
   "id": "frozen-resolution",
   "metadata": {
    "execution": {
     "iopub.execute_input": "2021-04-27T00:19:00.590528Z",
     "iopub.status.busy": "2021-04-27T00:19:00.588042Z",
     "iopub.status.idle": "2021-04-27T00:19:00.593305Z",
     "shell.execute_reply": "2021-04-27T00:19:00.593773Z"
    },
    "papermill": {
     "duration": 0.130012,
     "end_time": "2021-04-27T00:19:00.593974",
     "exception": false,
     "start_time": "2021-04-27T00:19:00.463962",
     "status": "completed"
    },
    "tags": []
   },
   "outputs": [
    {
     "data": {
      "text/plain": [
       "property_type    1\n",
       "room_type        0\n",
       "bed_type         0\n",
       "amenities        0\n",
       "dtype: int64"
      ]
     },
     "execution_count": 56,
     "metadata": {},
     "output_type": "execute_result"
    }
   ],
   "source": [
    "listings_df[['property_type','room_type','bed_type','amenities']].isna().sum()"
   ]
  },
  {
   "cell_type": "code",
   "execution_count": 57,
   "id": "settled-manner",
   "metadata": {
    "execution": {
     "iopub.execute_input": "2021-04-27T00:19:00.832557Z",
     "iopub.status.busy": "2021-04-27T00:19:00.831936Z",
     "iopub.status.idle": "2021-04-27T00:19:00.847061Z",
     "shell.execute_reply": "2021-04-27T00:19:00.847529Z"
    },
    "papermill": {
     "duration": 0.136274,
     "end_time": "2021-04-27T00:19:00.847720",
     "exception": false,
     "start_time": "2021-04-27T00:19:00.711446",
     "status": "completed"
    },
    "tags": []
   },
   "outputs": [
    {
     "data": {
      "text/html": [
       "<div>\n",
       "<style scoped>\n",
       "    .dataframe tbody tr th:only-of-type {\n",
       "        vertical-align: middle;\n",
       "    }\n",
       "\n",
       "    .dataframe tbody tr th {\n",
       "        vertical-align: top;\n",
       "    }\n",
       "\n",
       "    .dataframe thead th {\n",
       "        text-align: right;\n",
       "    }\n",
       "</style>\n",
       "<table border=\"1\" class=\"dataframe\">\n",
       "  <thead>\n",
       "    <tr style=\"text-align: right;\">\n",
       "      <th></th>\n",
       "      <th>property_type</th>\n",
       "      <th>room_type</th>\n",
       "      <th>bed_type</th>\n",
       "      <th>amenities</th>\n",
       "    </tr>\n",
       "  </thead>\n",
       "  <tbody>\n",
       "    <tr>\n",
       "      <th>2184</th>\n",
       "      <td>NaN</td>\n",
       "      <td>Entire home/apt</td>\n",
       "      <td>Real Bed</td>\n",
       "      <td>{\"Wireless Internet\",Kitchen,\"Free Parking on ...</td>\n",
       "    </tr>\n",
       "  </tbody>\n",
       "</table>\n",
       "</div>"
      ],
      "text/plain": [
       "     property_type        room_type  bed_type  \\\n",
       "2184           NaN  Entire home/apt  Real Bed   \n",
       "\n",
       "                                              amenities  \n",
       "2184  {\"Wireless Internet\",Kitchen,\"Free Parking on ...  "
      ]
     },
     "execution_count": 57,
     "metadata": {},
     "output_type": "execute_result"
    }
   ],
   "source": [
    "(listings_df[['property_type','room_type','bed_type','amenities']])[listings_df[['property_type','room_type','bed_type','amenities']].isna().any(axis=1)]"
   ]
  },
  {
   "cell_type": "code",
   "execution_count": 58,
   "id": "expressed-conjunction",
   "metadata": {
    "execution": {
     "iopub.execute_input": "2021-04-27T00:19:01.086409Z",
     "iopub.status.busy": "2021-04-27T00:19:01.085704Z",
     "iopub.status.idle": "2021-04-27T00:19:01.337353Z",
     "shell.execute_reply": "2021-04-27T00:19:01.337910Z"
    },
    "papermill": {
     "duration": 0.372548,
     "end_time": "2021-04-27T00:19:01.338100",
     "exception": false,
     "start_time": "2021-04-27T00:19:00.965552",
     "status": "completed"
    },
    "tags": []
   },
   "outputs": [
    {
     "data": {
      "image/png": "[encoded data removed]",
      "text/plain": [
       "<Figure size 432x288 with 1 Axes>"
      ]
     },
     "metadata": {
      "needs_background": "light"
     },
     "output_type": "display_data"
    }
   ],
   "source": [
    "property_type_df = listings_df['property_type'].value_counts().reset_index()\n",
    "property_type_df.columns = ['Property type','Count']\n",
    "property_type_df.plot(x = 'Property type', y = 'Count', kind = 'bar');"
   ]
  },
  {
   "cell_type": "code",
   "execution_count": 59,
   "id": "micro-equipment",
   "metadata": {
    "execution": {
     "iopub.execute_input": "2021-04-27T00:19:01.575696Z",
     "iopub.status.busy": "2021-04-27T00:19:01.575080Z",
     "iopub.status.idle": "2021-04-27T00:19:01.720470Z",
     "shell.execute_reply": "2021-04-27T00:19:01.720950Z"
    },
    "papermill": {
     "duration": 0.265467,
     "end_time": "2021-04-27T00:19:01.721133",
     "exception": false,
     "start_time": "2021-04-27T00:19:01.455666",
     "status": "completed"
    },
    "tags": []
   },
   "outputs": [
    {
     "data": {
      "image/png": "[encoded data removed]",
      "text/plain": [
       "<Figure size 432x288 with 1 Axes>"
      ]
     },
     "metadata": {
      "needs_background": "light"
     },
     "output_type": "display_data"
    }
   ],
   "source": [
    "room_type_df = listings_df['room_type'].value_counts().reset_index()\n",
    "room_type_df.columns = ['Room type','Count']\n",
    "room_type_df.plot(x = 'Room type', y = 'Count', kind = 'bar');"
   ]
  },
  {
   "cell_type": "code",
   "execution_count": 60,
   "id": "isolated-enemy",
   "metadata": {
    "execution": {
     "iopub.execute_input": "2021-04-27T00:19:01.972108Z",
     "iopub.status.busy": "2021-04-27T00:19:01.971407Z",
     "iopub.status.idle": "2021-04-27T00:19:02.135888Z",
     "shell.execute_reply": "2021-04-27T00:19:02.135369Z"
    },
    "papermill": {
     "duration": 0.294051,
     "end_time": "2021-04-27T00:19:02.136036",
     "exception": false,
     "start_time": "2021-04-27T00:19:01.841985",
     "status": "completed"
    },
    "tags": []
   },
   "outputs": [
    {
     "data": {
      "image/png": "[encoded data removed]",
      "text/plain": [
       "<Figure size 432x288 with 1 Axes>"
      ]
     },
     "metadata": {
      "needs_background": "light"
     },
     "output_type": "display_data"
    }
   ],
   "source": [
    "bed_type_df = listings_df['bed_type'].value_counts().reset_index()\n",
    "bed_type_df.columns = ['Bed type','Count']\n",
    "bed_type_df.plot(x = 'Bed type', y = 'Count', kind = 'bar');"
   ]
  },
  {
   "cell_type": "code",
   "execution_count": 61,
   "id": "spoken-drill",
   "metadata": {
    "execution": {
     "iopub.execute_input": "2021-04-27T00:19:02.382117Z",
     "iopub.status.busy": "2021-04-27T00:19:02.381400Z",
     "iopub.status.idle": "2021-04-27T00:19:02.386149Z",
     "shell.execute_reply": "2021-04-27T00:19:02.385539Z"
    },
    "papermill": {
     "duration": 0.131045,
     "end_time": "2021-04-27T00:19:02.386301",
     "exception": false,
     "start_time": "2021-04-27T00:19:02.255256",
     "status": "completed"
    },
    "tags": []
   },
   "outputs": [
    {
     "data": {
      "text/plain": [
       "0    {TV,\"Cable TV\",Internet,\"Wireless Internet\",\"A...\n",
       "1    {TV,Internet,\"Wireless Internet\",Kitchen,\"Free...\n",
       "2    {TV,\"Cable TV\",Internet,\"Wireless Internet\",\"A...\n",
       "3    {Internet,\"Wireless Internet\",Kitchen,\"Indoor ...\n",
       "4    {TV,\"Cable TV\",Internet,\"Wireless Internet\",Ki...\n",
       "Name: amenities, dtype: object"
      ]
     },
     "execution_count": 61,
     "metadata": {},
     "output_type": "execute_result"
    }
   ],
   "source": [
    "amenities_df = listings_df['amenities']\n",
    "amenities_df[:5]"
   ]
  },
  {
   "cell_type": "code",
   "execution_count": 62,
   "id": "saved-glance",
   "metadata": {
    "execution": {
     "iopub.execute_input": "2021-04-27T00:19:02.632004Z",
     "iopub.status.busy": "2021-04-27T00:19:02.630882Z",
     "iopub.status.idle": "2021-04-27T00:19:02.644550Z",
     "shell.execute_reply": "2021-04-27T00:19:02.644000Z"
    },
    "papermill": {
     "duration": 0.138159,
     "end_time": "2021-04-27T00:19:02.644709",
     "exception": false,
     "start_time": "2021-04-27T00:19:02.506550",
     "status": "completed"
    },
    "tags": []
   },
   "outputs": [
    {
     "data": {
      "text/plain": [
       "{}                                                                                                                                                                                                                                                                                                                                   45\n",
       "{Internet,\"Wireless Internet\",Kitchen,\"Free Parking on Premises\",Heating,Washer,Dryer}                                                                                                                                                                                                                                               11\n",
       "{TV,\"Cable TV\",Internet,\"Wireless Internet\",Pool,Kitchen,\"Free Parking on Premises\",Gym,\"Elevator in Building\",\"Hot Tub\",Heating,\"Family/Kid Friendly\",Washer,Dryer,\"Smoke Detector\",\"Carbon Monoxide Detector\",\"Fire Extinguisher\",Essentials,Shampoo,\"24-Hour Check-in\",Hangers,\"Hair Dryer\",Iron}                                 10\n",
       "{TV,\"Cable TV\",Internet,\"Wireless Internet\",Kitchen,\"Buzzer/Wireless Intercom\",Heating,Washer,Dryer,Essentials,\"24-Hour Check-in\",Hangers,\"Hair Dryer\",Iron,\"Laptop Friendly Workspace\"}                                                                                                                                              8\n",
       "{Internet,\"Wireless Internet\",Kitchen,Heating,\"Suitable for Events\",Washer,Dryer,\"Smoke Detector\",\"Carbon Monoxide Detector\",\"First Aid Kit\",\"Fire Extinguisher\",Essentials}                                                                                                                                                          7\n",
       "                                                                                                                                                                                                                                                                                                                                     ..\n",
       "{\"Wireless Internet\",\"Wheelchair Accessible\",\"Free Parking on Premises\",\"Pets live on this property\",Cat(s),Heating,\"Smoke Detector\",\"Carbon Monoxide Detector\",\"Fire Extinguisher\",Essentials,Shampoo,Hangers,\"Hair Dryer\",Iron,\"Laptop Friendly Workspace\"}                                                                         1\n",
       "{TV,Internet,\"Wireless Internet\",\"Free Parking on Premises\",\"Pets live on this property\",Cat(s),Heating,Washer,Dryer,\"Smoke Detector\",\"Carbon Monoxide Detector\",\"First Aid Kit\",\"Lock on Bedroom Door\"}                                                                                                                              1\n",
       "{TV,\"Wireless Internet\",Kitchen,\"Free Parking on Premises\",Gym,\"Elevator in Building\",Heating,\"Family/Kid Friendly\",Washer,Dryer,\"Smoke Detector\",\"Carbon Monoxide Detector\",\"First Aid Kit\",\"Fire Extinguisher\",Essentials,Iron}                                                                                                     1\n",
       "{Internet,\"Wireless Internet\",Kitchen,\"Free Parking on Premises\",Heating,\"Smoke Detector\",\"Fire Extinguisher\",Essentials,Shampoo}                                                                                                                                                                                                     1\n",
       "{TV,\"Cable TV\",Internet,\"Wireless Internet\",Kitchen,\"Free Parking on Premises\",\"Buzzer/Wireless Intercom\",Heating,\"Family/Kid Friendly\",Washer,Dryer,\"Smoke Detector\",\"Carbon Monoxide Detector\",\"First Aid Kit\",\"Fire Extinguisher\",Essentials,Shampoo,\"24-Hour Check-in\",Hangers,\"Hair Dryer\",Iron,\"Laptop Friendly Workspace\"}     1\n",
       "Name: amenities, Length: 3284, dtype: int64"
      ]
     },
     "execution_count": 62,
     "metadata": {},
     "output_type": "execute_result"
    }
   ],
   "source": [
    "amenities_df.value_counts()"
   ]
  },
  {
   "cell_type": "code",
   "execution_count": 63,
   "id": "confident-posting",
   "metadata": {
    "execution": {
     "iopub.execute_input": "2021-04-27T00:19:02.903392Z",
     "iopub.status.busy": "2021-04-27T00:19:02.902335Z",
     "iopub.status.idle": "2021-04-27T00:19:02.921271Z",
     "shell.execute_reply": "2021-04-27T00:19:02.921735Z"
    },
    "papermill": {
     "duration": 0.155113,
     "end_time": "2021-04-27T00:19:02.921941",
     "exception": false,
     "start_time": "2021-04-27T00:19:02.766828",
     "status": "completed"
    },
    "tags": []
   },
   "outputs": [
    {
     "data": {
      "text/plain": [
       "[['TV',\n",
       "  'Cable TV',\n",
       "  'Internet',\n",
       "  'Wireless Internet',\n",
       "  'Air Conditioning',\n",
       "  'Kitchen',\n",
       "  'Heating',\n",
       "  'Family/Kid Friendly',\n",
       "  'Washer',\n",
       "  'Dryer'],\n",
       " ['TV',\n",
       "  'Internet',\n",
       "  'Wireless Internet',\n",
       "  'Kitchen',\n",
       "  'Free Parking on Premises',\n",
       "  'Buzzer/Wireless Intercom',\n",
       "  'Heating',\n",
       "  'Family/Kid Friendly',\n",
       "  'Washer',\n",
       "  'Dryer',\n",
       "  'Smoke Detector',\n",
       "  'Carbon Monoxide Detector',\n",
       "  'First Aid Kit',\n",
       "  'Safety Card',\n",
       "  'Fire Extinguisher',\n",
       "  'Essentials'],\n",
       " ['TV',\n",
       "  'Cable TV',\n",
       "  'Internet',\n",
       "  'Wireless Internet',\n",
       "  'Air Conditioning',\n",
       "  'Kitchen',\n",
       "  'Free Parking on Premises',\n",
       "  'Pets Allowed',\n",
       "  'Pets live on this property',\n",
       "  'Dog(s)',\n",
       "  'Cat(s)',\n",
       "  'Hot Tub',\n",
       "  'Indoor Fireplace',\n",
       "  'Heating',\n",
       "  'Family/Kid Friendly',\n",
       "  'Washer',\n",
       "  'Dryer',\n",
       "  'Smoke Detector',\n",
       "  'Carbon Monoxide Detector',\n",
       "  'Essentials',\n",
       "  'Shampoo']]"
      ]
     },
     "execution_count": 63,
     "metadata": {},
     "output_type": "execute_result"
    }
   ],
   "source": [
    "amenities_df = amenities_df[amenities_df != '{}']\n",
    "amenities_list = []\n",
    "\n",
    "for index, row in amenities_df.items():\n",
    "    amenities_list.append(row.replace('{','').replace('}','').replace('\"','').split(','))\n",
    "\n",
    "amenities_list[:3]"
   ]
  },
  {
   "cell_type": "code",
   "execution_count": 64,
   "id": "social-syntax",
   "metadata": {
    "execution": {
     "iopub.execute_input": "2021-04-27T00:19:03.168960Z",
     "iopub.status.busy": "2021-04-27T00:19:03.168276Z",
     "iopub.status.idle": "2021-04-27T00:19:03.190967Z",
     "shell.execute_reply": "2021-04-27T00:19:03.191474Z"
    },
    "papermill": {
     "duration": 0.148556,
     "end_time": "2021-04-27T00:19:03.191644",
     "exception": false,
     "start_time": "2021-04-27T00:19:03.043088",
     "status": "completed"
    },
    "tags": []
   },
   "outputs": [
    {
     "data": {
      "text/html": [
       "<div>\n",
       "<style scoped>\n",
       "    .dataframe tbody tr th:only-of-type {\n",
       "        vertical-align: middle;\n",
       "    }\n",
       "\n",
       "    .dataframe tbody tr th {\n",
       "        vertical-align: top;\n",
       "    }\n",
       "\n",
       "    .dataframe thead th {\n",
       "        text-align: right;\n",
       "    }\n",
       "</style>\n",
       "<table border=\"1\" class=\"dataframe\">\n",
       "  <thead>\n",
       "    <tr style=\"text-align: right;\">\n",
       "      <th></th>\n",
       "      <th>amenities</th>\n",
       "    </tr>\n",
       "  </thead>\n",
       "  <tbody>\n",
       "    <tr>\n",
       "      <th>0</th>\n",
       "      <td>[TV, Cable TV, Internet, Wireless Internet, Ai...</td>\n",
       "    </tr>\n",
       "    <tr>\n",
       "      <th>1</th>\n",
       "      <td>[TV, Internet, Wireless Internet, Kitchen, Fre...</td>\n",
       "    </tr>\n",
       "    <tr>\n",
       "      <th>2</th>\n",
       "      <td>[TV, Cable TV, Internet, Wireless Internet, Ai...</td>\n",
       "    </tr>\n",
       "    <tr>\n",
       "      <th>3</th>\n",
       "      <td>[Internet, Wireless Internet, Kitchen, Indoor ...</td>\n",
       "    </tr>\n",
       "    <tr>\n",
       "      <th>4</th>\n",
       "      <td>[TV, Cable TV, Internet, Wireless Internet, Ki...</td>\n",
       "    </tr>\n",
       "    <tr>\n",
       "      <th>...</th>\n",
       "      <td>...</td>\n",
       "    </tr>\n",
       "    <tr>\n",
       "      <th>3768</th>\n",
       "      <td>[TV, Cable TV, Internet, Wireless Internet, Ai...</td>\n",
       "    </tr>\n",
       "    <tr>\n",
       "      <th>3769</th>\n",
       "      <td>[TV, Cable TV, Internet, Wireless Internet, Ki...</td>\n",
       "    </tr>\n",
       "    <tr>\n",
       "      <th>3770</th>\n",
       "      <td>[Cable TV, Wireless Internet, Kitchen, Free Pa...</td>\n",
       "    </tr>\n",
       "    <tr>\n",
       "      <th>3771</th>\n",
       "      <td>[TV, Wireless Internet, Kitchen, Free Parking ...</td>\n",
       "    </tr>\n",
       "    <tr>\n",
       "      <th>3772</th>\n",
       "      <td>[TV, Cable TV, Internet, Wireless Internet, Ki...</td>\n",
       "    </tr>\n",
       "  </tbody>\n",
       "</table>\n",
       "<p>3773 rows × 1 columns</p>\n",
       "</div>"
      ],
      "text/plain": [
       "                                              amenities\n",
       "0     [TV, Cable TV, Internet, Wireless Internet, Ai...\n",
       "1     [TV, Internet, Wireless Internet, Kitchen, Fre...\n",
       "2     [TV, Cable TV, Internet, Wireless Internet, Ai...\n",
       "3     [Internet, Wireless Internet, Kitchen, Indoor ...\n",
       "4     [TV, Cable TV, Internet, Wireless Internet, Ki...\n",
       "...                                                 ...\n",
       "3768  [TV, Cable TV, Internet, Wireless Internet, Ai...\n",
       "3769  [TV, Cable TV, Internet, Wireless Internet, Ki...\n",
       "3770  [Cable TV, Wireless Internet, Kitchen, Free Pa...\n",
       "3771  [TV, Wireless Internet, Kitchen, Free Parking ...\n",
       "3772  [TV, Cable TV, Internet, Wireless Internet, Ki...\n",
       "\n",
       "[3773 rows x 1 columns]"
      ]
     },
     "execution_count": 64,
     "metadata": {},
     "output_type": "execute_result"
    }
   ],
   "source": [
    "new_amenities_df = pd.Series(amenities_list, name = 'amenities').to_frame()\n",
    "new_amenities_df"
   ]
  },
  {
   "cell_type": "code",
   "execution_count": 65,
   "id": "suspected-ethics",
   "metadata": {
    "execution": {
     "iopub.execute_input": "2021-04-27T00:19:03.446013Z",
     "iopub.status.busy": "2021-04-27T00:19:03.445319Z",
     "iopub.status.idle": "2021-04-27T00:19:03.568275Z",
     "shell.execute_reply": "2021-04-27T00:19:03.569238Z"
    },
    "papermill": {
     "duration": 0.252607,
     "end_time": "2021-04-27T00:19:03.569495",
     "exception": false,
     "start_time": "2021-04-27T00:19:03.316888",
     "status": "completed"
    },
    "tags": []
   },
   "outputs": [
    {
     "data": {
      "text/html": [
       "<div>\n",
       "<style scoped>\n",
       "    .dataframe tbody tr th:only-of-type {\n",
       "        vertical-align: middle;\n",
       "    }\n",
       "\n",
       "    .dataframe tbody tr th {\n",
       "        vertical-align: top;\n",
       "    }\n",
       "\n",
       "    .dataframe thead th {\n",
       "        text-align: right;\n",
       "    }\n",
       "</style>\n",
       "<table border=\"1\" class=\"dataframe\">\n",
       "  <thead>\n",
       "    <tr style=\"text-align: right;\">\n",
       "      <th></th>\n",
       "      <th>24-Hour Check-in</th>\n",
       "      <th>Air Conditioning</th>\n",
       "      <th>Breakfast</th>\n",
       "      <th>Buzzer/Wireless Intercom</th>\n",
       "      <th>Cable TV</th>\n",
       "      <th>Carbon Monoxide Detector</th>\n",
       "      <th>Cat(s)</th>\n",
       "      <th>Dog(s)</th>\n",
       "      <th>Doorman</th>\n",
       "      <th>Dryer</th>\n",
       "      <th>...</th>\n",
       "      <th>Safety Card</th>\n",
       "      <th>Shampoo</th>\n",
       "      <th>Smoke Detector</th>\n",
       "      <th>Smoking Allowed</th>\n",
       "      <th>Suitable for Events</th>\n",
       "      <th>TV</th>\n",
       "      <th>Washer</th>\n",
       "      <th>Washer / Dryer</th>\n",
       "      <th>Wheelchair Accessible</th>\n",
       "      <th>Wireless Internet</th>\n",
       "    </tr>\n",
       "  </thead>\n",
       "  <tbody>\n",
       "    <tr>\n",
       "      <th>0</th>\n",
       "      <td>0</td>\n",
       "      <td>1</td>\n",
       "      <td>0</td>\n",
       "      <td>0</td>\n",
       "      <td>1</td>\n",
       "      <td>0</td>\n",
       "      <td>0</td>\n",
       "      <td>0</td>\n",
       "      <td>0</td>\n",
       "      <td>1</td>\n",
       "      <td>...</td>\n",
       "      <td>0</td>\n",
       "      <td>0</td>\n",
       "      <td>0</td>\n",
       "      <td>0</td>\n",
       "      <td>0</td>\n",
       "      <td>1</td>\n",
       "      <td>1</td>\n",
       "      <td>0</td>\n",
       "      <td>0</td>\n",
       "      <td>1</td>\n",
       "    </tr>\n",
       "    <tr>\n",
       "      <th>1</th>\n",
       "      <td>0</td>\n",
       "      <td>0</td>\n",
       "      <td>0</td>\n",
       "      <td>1</td>\n",
       "      <td>0</td>\n",
       "      <td>1</td>\n",
       "      <td>0</td>\n",
       "      <td>0</td>\n",
       "      <td>0</td>\n",
       "      <td>1</td>\n",
       "      <td>...</td>\n",
       "      <td>1</td>\n",
       "      <td>0</td>\n",
       "      <td>1</td>\n",
       "      <td>0</td>\n",
       "      <td>0</td>\n",
       "      <td>1</td>\n",
       "      <td>1</td>\n",
       "      <td>0</td>\n",
       "      <td>0</td>\n",
       "      <td>1</td>\n",
       "    </tr>\n",
       "    <tr>\n",
       "      <th>2</th>\n",
       "      <td>0</td>\n",
       "      <td>1</td>\n",
       "      <td>0</td>\n",
       "      <td>0</td>\n",
       "      <td>1</td>\n",
       "      <td>1</td>\n",
       "      <td>1</td>\n",
       "      <td>1</td>\n",
       "      <td>0</td>\n",
       "      <td>1</td>\n",
       "      <td>...</td>\n",
       "      <td>0</td>\n",
       "      <td>1</td>\n",
       "      <td>1</td>\n",
       "      <td>0</td>\n",
       "      <td>0</td>\n",
       "      <td>1</td>\n",
       "      <td>1</td>\n",
       "      <td>0</td>\n",
       "      <td>0</td>\n",
       "      <td>1</td>\n",
       "    </tr>\n",
       "    <tr>\n",
       "      <th>3</th>\n",
       "      <td>0</td>\n",
       "      <td>0</td>\n",
       "      <td>0</td>\n",
       "      <td>0</td>\n",
       "      <td>0</td>\n",
       "      <td>1</td>\n",
       "      <td>0</td>\n",
       "      <td>0</td>\n",
       "      <td>0</td>\n",
       "      <td>1</td>\n",
       "      <td>...</td>\n",
       "      <td>1</td>\n",
       "      <td>1</td>\n",
       "      <td>1</td>\n",
       "      <td>0</td>\n",
       "      <td>0</td>\n",
       "      <td>0</td>\n",
       "      <td>1</td>\n",
       "      <td>0</td>\n",
       "      <td>0</td>\n",
       "      <td>1</td>\n",
       "    </tr>\n",
       "    <tr>\n",
       "      <th>4</th>\n",
       "      <td>0</td>\n",
       "      <td>0</td>\n",
       "      <td>0</td>\n",
       "      <td>0</td>\n",
       "      <td>1</td>\n",
       "      <td>1</td>\n",
       "      <td>0</td>\n",
       "      <td>0</td>\n",
       "      <td>0</td>\n",
       "      <td>0</td>\n",
       "      <td>...</td>\n",
       "      <td>0</td>\n",
       "      <td>1</td>\n",
       "      <td>1</td>\n",
       "      <td>0</td>\n",
       "      <td>0</td>\n",
       "      <td>1</td>\n",
       "      <td>0</td>\n",
       "      <td>0</td>\n",
       "      <td>0</td>\n",
       "      <td>1</td>\n",
       "    </tr>\n",
       "    <tr>\n",
       "      <th>...</th>\n",
       "      <td>...</td>\n",
       "      <td>...</td>\n",
       "      <td>...</td>\n",
       "      <td>...</td>\n",
       "      <td>...</td>\n",
       "      <td>...</td>\n",
       "      <td>...</td>\n",
       "      <td>...</td>\n",
       "      <td>...</td>\n",
       "      <td>...</td>\n",
       "      <td>...</td>\n",
       "      <td>...</td>\n",
       "      <td>...</td>\n",
       "      <td>...</td>\n",
       "      <td>...</td>\n",
       "      <td>...</td>\n",
       "      <td>...</td>\n",
       "      <td>...</td>\n",
       "      <td>...</td>\n",
       "      <td>...</td>\n",
       "      <td>...</td>\n",
       "    </tr>\n",
       "    <tr>\n",
       "      <th>3768</th>\n",
       "      <td>0</td>\n",
       "      <td>1</td>\n",
       "      <td>0</td>\n",
       "      <td>0</td>\n",
       "      <td>1</td>\n",
       "      <td>0</td>\n",
       "      <td>0</td>\n",
       "      <td>0</td>\n",
       "      <td>0</td>\n",
       "      <td>1</td>\n",
       "      <td>...</td>\n",
       "      <td>0</td>\n",
       "      <td>1</td>\n",
       "      <td>1</td>\n",
       "      <td>0</td>\n",
       "      <td>0</td>\n",
       "      <td>1</td>\n",
       "      <td>1</td>\n",
       "      <td>0</td>\n",
       "      <td>1</td>\n",
       "      <td>1</td>\n",
       "    </tr>\n",
       "    <tr>\n",
       "      <th>3769</th>\n",
       "      <td>1</td>\n",
       "      <td>0</td>\n",
       "      <td>0</td>\n",
       "      <td>0</td>\n",
       "      <td>1</td>\n",
       "      <td>0</td>\n",
       "      <td>0</td>\n",
       "      <td>0</td>\n",
       "      <td>0</td>\n",
       "      <td>0</td>\n",
       "      <td>...</td>\n",
       "      <td>0</td>\n",
       "      <td>1</td>\n",
       "      <td>1</td>\n",
       "      <td>0</td>\n",
       "      <td>0</td>\n",
       "      <td>1</td>\n",
       "      <td>0</td>\n",
       "      <td>0</td>\n",
       "      <td>0</td>\n",
       "      <td>1</td>\n",
       "    </tr>\n",
       "    <tr>\n",
       "      <th>3770</th>\n",
       "      <td>0</td>\n",
       "      <td>0</td>\n",
       "      <td>1</td>\n",
       "      <td>0</td>\n",
       "      <td>1</td>\n",
       "      <td>0</td>\n",
       "      <td>1</td>\n",
       "      <td>1</td>\n",
       "      <td>0</td>\n",
       "      <td>1</td>\n",
       "      <td>...</td>\n",
       "      <td>1</td>\n",
       "      <td>0</td>\n",
       "      <td>1</td>\n",
       "      <td>0</td>\n",
       "      <td>0</td>\n",
       "      <td>0</td>\n",
       "      <td>1</td>\n",
       "      <td>0</td>\n",
       "      <td>0</td>\n",
       "      <td>1</td>\n",
       "    </tr>\n",
       "    <tr>\n",
       "      <th>3771</th>\n",
       "      <td>0</td>\n",
       "      <td>0</td>\n",
       "      <td>0</td>\n",
       "      <td>0</td>\n",
       "      <td>0</td>\n",
       "      <td>0</td>\n",
       "      <td>0</td>\n",
       "      <td>0</td>\n",
       "      <td>0</td>\n",
       "      <td>0</td>\n",
       "      <td>...</td>\n",
       "      <td>0</td>\n",
       "      <td>0</td>\n",
       "      <td>1</td>\n",
       "      <td>0</td>\n",
       "      <td>0</td>\n",
       "      <td>1</td>\n",
       "      <td>0</td>\n",
       "      <td>0</td>\n",
       "      <td>0</td>\n",
       "      <td>1</td>\n",
       "    </tr>\n",
       "    <tr>\n",
       "      <th>3772</th>\n",
       "      <td>0</td>\n",
       "      <td>0</td>\n",
       "      <td>0</td>\n",
       "      <td>1</td>\n",
       "      <td>1</td>\n",
       "      <td>0</td>\n",
       "      <td>0</td>\n",
       "      <td>1</td>\n",
       "      <td>0</td>\n",
       "      <td>1</td>\n",
       "      <td>...</td>\n",
       "      <td>0</td>\n",
       "      <td>1</td>\n",
       "      <td>1</td>\n",
       "      <td>0</td>\n",
       "      <td>0</td>\n",
       "      <td>1</td>\n",
       "      <td>1</td>\n",
       "      <td>0</td>\n",
       "      <td>0</td>\n",
       "      <td>1</td>\n",
       "    </tr>\n",
       "  </tbody>\n",
       "</table>\n",
       "<p>3773 rows × 41 columns</p>\n",
       "</div>"
      ],
      "text/plain": [
       "      24-Hour Check-in  Air Conditioning  Breakfast  Buzzer/Wireless Intercom  \\\n",
       "0                    0                 1          0                         0   \n",
       "1                    0                 0          0                         1   \n",
       "2                    0                 1          0                         0   \n",
       "3                    0                 0          0                         0   \n",
       "4                    0                 0          0                         0   \n",
       "...                ...               ...        ...                       ...   \n",
       "3768                 0                 1          0                         0   \n",
       "3769                 1                 0          0                         0   \n",
       "3770                 0                 0          1                         0   \n",
       "3771                 0                 0          0                         0   \n",
       "3772                 0                 0          0                         1   \n",
       "\n",
       "      Cable TV  Carbon Monoxide Detector  Cat(s)  Dog(s)  Doorman  Dryer  ...  \\\n",
       "0            1                         0       0       0        0      1  ...   \n",
       "1            0                         1       0       0        0      1  ...   \n",
       "2            1                         1       1       1        0      1  ...   \n",
       "3            0                         1       0       0        0      1  ...   \n",
       "4            1                         1       0       0        0      0  ...   \n",
       "...        ...                       ...     ...     ...      ...    ...  ...   \n",
       "3768         1                         0       0       0        0      1  ...   \n",
       "3769         1                         0       0       0        0      0  ...   \n",
       "3770         1                         0       1       1        0      1  ...   \n",
       "3771         0                         0       0       0        0      0  ...   \n",
       "3772         1                         0       0       1        0      1  ...   \n",
       "\n",
       "      Safety Card  Shampoo  Smoke Detector  Smoking Allowed  \\\n",
       "0               0        0               0                0   \n",
       "1               1        0               1                0   \n",
       "2               0        1               1                0   \n",
       "3               1        1               1                0   \n",
       "4               0        1               1                0   \n",
       "...           ...      ...             ...              ...   \n",
       "3768            0        1               1                0   \n",
       "3769            0        1               1                0   \n",
       "3770            1        0               1                0   \n",
       "3771            0        0               1                0   \n",
       "3772            0        1               1                0   \n",
       "\n",
       "      Suitable for Events  TV  Washer  Washer / Dryer  Wheelchair Accessible  \\\n",
       "0                       0   1       1               0                      0   \n",
       "1                       0   1       1               0                      0   \n",
       "2                       0   1       1               0                      0   \n",
       "3                       0   0       1               0                      0   \n",
       "4                       0   1       0               0                      0   \n",
       "...                   ...  ..     ...             ...                    ...   \n",
       "3768                    0   1       1               0                      1   \n",
       "3769                    0   1       0               0                      0   \n",
       "3770                    0   0       1               0                      0   \n",
       "3771                    0   1       0               0                      0   \n",
       "3772                    0   1       1               0                      0   \n",
       "\n",
       "      Wireless Internet  \n",
       "0                     1  \n",
       "1                     1  \n",
       "2                     1  \n",
       "3                     1  \n",
       "4                     1  \n",
       "...                 ...  \n",
       "3768                  1  \n",
       "3769                  1  \n",
       "3770                  1  \n",
       "3771                  1  \n",
       "3772                  1  \n",
       "\n",
       "[3773 rows x 41 columns]"
      ]
     },
     "execution_count": 65,
     "metadata": {},
     "output_type": "execute_result"
    }
   ],
   "source": [
    "dummies_amenities_df = new_amenities_df.drop('amenities', 1).join(\n",
    "    pd.get_dummies(\n",
    "        pd.DataFrame(new_amenities_df.amenities.tolist()).stack()\n",
    "    ).astype(int).sum(level=0)\n",
    ")\n",
    "\n",
    "dummies_amenities_df"
   ]
  },
  {
   "cell_type": "code",
   "execution_count": 66,
   "id": "furnished-tuning",
   "metadata": {
    "execution": {
     "iopub.execute_input": "2021-04-27T00:19:03.829585Z",
     "iopub.status.busy": "2021-04-27T00:19:03.828900Z",
     "iopub.status.idle": "2021-04-27T00:19:03.831757Z",
     "shell.execute_reply": "2021-04-27T00:19:03.832299Z"
    },
    "papermill": {
     "duration": 0.132524,
     "end_time": "2021-04-27T00:19:03.832495",
     "exception": false,
     "start_time": "2021-04-27T00:19:03.699971",
     "status": "completed"
    },
    "tags": []
   },
   "outputs": [
    {
     "data": {
      "text/plain": [
       "array(['24-Hour Check-in', 'Air Conditioning', 'Breakfast',\n",
       "       'Buzzer/Wireless Intercom', 'Cable TV', 'Carbon Monoxide Detector',\n",
       "       'Cat(s)', 'Dog(s)', 'Doorman', 'Dryer', 'Elevator in Building',\n",
       "       'Essentials', 'Family/Kid Friendly', 'Fire Extinguisher',\n",
       "       'First Aid Kit', 'Free Parking on Premises', 'Gym', 'Hair Dryer',\n",
       "       'Hangers', 'Heating', 'Hot Tub', 'Indoor Fireplace', 'Internet',\n",
       "       'Iron', 'Kitchen', 'Laptop Friendly Workspace',\n",
       "       'Lock on Bedroom Door', 'Other pet(s)', 'Pets Allowed',\n",
       "       'Pets live on this property', 'Pool', 'Safety Card', 'Shampoo',\n",
       "       'Smoke Detector', 'Smoking Allowed', 'Suitable for Events', 'TV',\n",
       "       'Washer', 'Washer / Dryer', 'Wheelchair Accessible',\n",
       "       'Wireless Internet'], dtype=object)"
      ]
     },
     "execution_count": 66,
     "metadata": {},
     "output_type": "execute_result"
    }
   ],
   "source": [
    "dummies_amenities_df.columns.values"
   ]
  },
  {
   "cell_type": "code",
   "execution_count": 67,
   "id": "adjacent-example",
   "metadata": {
    "execution": {
     "iopub.execute_input": "2021-04-27T00:19:04.095304Z",
     "iopub.status.busy": "2021-04-27T00:19:04.094547Z",
     "iopub.status.idle": "2021-04-27T00:19:04.102969Z",
     "shell.execute_reply": "2021-04-27T00:19:04.103448Z"
    },
    "papermill": {
     "duration": 0.137947,
     "end_time": "2021-04-27T00:19:04.103639",
     "exception": false,
     "start_time": "2021-04-27T00:19:03.965692",
     "status": "completed"
    },
    "tags": []
   },
   "outputs": [
    {
     "data": {
      "text/plain": [
       "24-Hour Check-in               616\n",
       "Air Conditioning               677\n",
       "Breakfast                      291\n",
       "Buzzer/Wireless Intercom       538\n",
       "Cable TV                      1446\n",
       "Carbon Monoxide Detector      2485\n",
       "Cat(s)                         382\n",
       "Dog(s)                         509\n",
       "Doorman                         85\n",
       "Dryer                         2997\n",
       "Elevator in Building           785\n",
       "Essentials                    3237\n",
       "Family/Kid Friendly           1963\n",
       "Fire Extinguisher             2196\n",
       "First Aid Kit                 1680\n",
       "Free Parking on Premises      2167\n",
       "Gym                            442\n",
       "Hair Dryer                     774\n",
       "Hangers                        846\n",
       "Heating                       3627\n",
       "Hot Tub                        303\n",
       "Indoor Fireplace               886\n",
       "Internet                      2811\n",
       "Iron                           742\n",
       "Kitchen                       3423\n",
       "Laptop Friendly Workspace      745\n",
       "Lock on Bedroom Door           100\n",
       "Other pet(s)                    51\n",
       "Pets Allowed                   472\n",
       "Pets live on this property     883\n",
       "Pool                           159\n",
       "Safety Card                    727\n",
       "Shampoo                       2670\n",
       "Smoke Detector                3281\n",
       "Smoking Allowed                 82\n",
       "Suitable for Events            209\n",
       "TV                            2574\n",
       "Washer                        2992\n",
       "Washer / Dryer                   2\n",
       "Wheelchair Accessible          300\n",
       "Wireless Internet             3667\n",
       "dtype: int64"
      ]
     },
     "execution_count": 67,
     "metadata": {},
     "output_type": "execute_result"
    }
   ],
   "source": [
    "dummies_amenities_df.sum()"
   ]
  },
  {
   "cell_type": "code",
   "execution_count": 68,
   "id": "regulation-mambo",
   "metadata": {
    "execution": {
     "iopub.execute_input": "2021-04-27T00:19:04.364561Z",
     "iopub.status.busy": "2021-04-27T00:19:04.363795Z",
     "iopub.status.idle": "2021-04-27T00:19:04.383815Z",
     "shell.execute_reply": "2021-04-27T00:19:04.384955Z"
    },
    "papermill": {
     "duration": 0.153856,
     "end_time": "2021-04-27T00:19:04.385217",
     "exception": false,
     "start_time": "2021-04-27T00:19:04.231361",
     "status": "completed"
    },
    "tags": []
   },
   "outputs": [
    {
     "data": {
      "text/html": [
       "<div>\n",
       "<style scoped>\n",
       "    .dataframe tbody tr th:only-of-type {\n",
       "        vertical-align: middle;\n",
       "    }\n",
       "\n",
       "    .dataframe tbody tr th {\n",
       "        vertical-align: top;\n",
       "    }\n",
       "\n",
       "    .dataframe thead th {\n",
       "        text-align: right;\n",
       "    }\n",
       "</style>\n",
       "<table border=\"1\" class=\"dataframe\">\n",
       "  <thead>\n",
       "    <tr style=\"text-align: right;\">\n",
       "      <th></th>\n",
       "      <th>24-Hour Check-in</th>\n",
       "      <th>Air Conditioning</th>\n",
       "      <th>Breakfast</th>\n",
       "      <th>Buzzer/Wireless Intercom</th>\n",
       "      <th>Cable TV</th>\n",
       "      <th>Carbon Monoxide Detector</th>\n",
       "      <th>Cat(s)</th>\n",
       "      <th>Dog(s)</th>\n",
       "      <th>Doorman</th>\n",
       "      <th>Dryer</th>\n",
       "      <th>...</th>\n",
       "      <th>Safety Card</th>\n",
       "      <th>Shampoo</th>\n",
       "      <th>Smoke Detector</th>\n",
       "      <th>Smoking Allowed</th>\n",
       "      <th>Suitable for Events</th>\n",
       "      <th>TV</th>\n",
       "      <th>Washer</th>\n",
       "      <th>Washer / Dryer</th>\n",
       "      <th>Wheelchair Accessible</th>\n",
       "      <th>Wireless Internet</th>\n",
       "    </tr>\n",
       "  </thead>\n",
       "  <tbody>\n",
       "    <tr>\n",
       "      <th>2347</th>\n",
       "      <td>0</td>\n",
       "      <td>0</td>\n",
       "      <td>0</td>\n",
       "      <td>0</td>\n",
       "      <td>1</td>\n",
       "      <td>0</td>\n",
       "      <td>0</td>\n",
       "      <td>0</td>\n",
       "      <td>0</td>\n",
       "      <td>1</td>\n",
       "      <td>...</td>\n",
       "      <td>0</td>\n",
       "      <td>0</td>\n",
       "      <td>0</td>\n",
       "      <td>0</td>\n",
       "      <td>0</td>\n",
       "      <td>1</td>\n",
       "      <td>1</td>\n",
       "      <td>1</td>\n",
       "      <td>0</td>\n",
       "      <td>1</td>\n",
       "    </tr>\n",
       "    <tr>\n",
       "      <th>2971</th>\n",
       "      <td>0</td>\n",
       "      <td>0</td>\n",
       "      <td>0</td>\n",
       "      <td>0</td>\n",
       "      <td>0</td>\n",
       "      <td>0</td>\n",
       "      <td>0</td>\n",
       "      <td>0</td>\n",
       "      <td>0</td>\n",
       "      <td>1</td>\n",
       "      <td>...</td>\n",
       "      <td>0</td>\n",
       "      <td>0</td>\n",
       "      <td>0</td>\n",
       "      <td>0</td>\n",
       "      <td>0</td>\n",
       "      <td>0</td>\n",
       "      <td>1</td>\n",
       "      <td>1</td>\n",
       "      <td>0</td>\n",
       "      <td>1</td>\n",
       "    </tr>\n",
       "  </tbody>\n",
       "</table>\n",
       "<p>2 rows × 41 columns</p>\n",
       "</div>"
      ],
      "text/plain": [
       "      24-Hour Check-in  Air Conditioning  Breakfast  Buzzer/Wireless Intercom  \\\n",
       "2347                 0                 0          0                         0   \n",
       "2971                 0                 0          0                         0   \n",
       "\n",
       "      Cable TV  Carbon Monoxide Detector  Cat(s)  Dog(s)  Doorman  Dryer  ...  \\\n",
       "2347         1                         0       0       0        0      1  ...   \n",
       "2971         0                         0       0       0        0      1  ...   \n",
       "\n",
       "      Safety Card  Shampoo  Smoke Detector  Smoking Allowed  \\\n",
       "2347            0        0               0                0   \n",
       "2971            0        0               0                0   \n",
       "\n",
       "      Suitable for Events  TV  Washer  Washer / Dryer  Wheelchair Accessible  \\\n",
       "2347                    0   1       1               1                      0   \n",
       "2971                    0   0       1               1                      0   \n",
       "\n",
       "      Wireless Internet  \n",
       "2347                  1  \n",
       "2971                  1  \n",
       "\n",
       "[2 rows x 41 columns]"
      ]
     },
     "execution_count": 68,
     "metadata": {},
     "output_type": "execute_result"
    }
   ],
   "source": [
    "# Wich row where Washer / Dryer is one\n",
    "dummies_amenities_df[dummies_amenities_df['Washer / Dryer'] == 1]"
   ]
  },
  {
   "cell_type": "code",
   "execution_count": 69,
   "id": "loving-orange",
   "metadata": {
    "execution": {
     "iopub.execute_input": "2021-04-27T00:19:04.639461Z",
     "iopub.status.busy": "2021-04-27T00:19:04.638750Z",
     "iopub.status.idle": "2021-04-27T00:19:04.644030Z",
     "shell.execute_reply": "2021-04-27T00:19:04.644503Z"
    },
    "papermill": {
     "duration": 0.133595,
     "end_time": "2021-04-27T00:19:04.644686",
     "exception": false,
     "start_time": "2021-04-27T00:19:04.511091",
     "status": "completed"
    },
    "tags": []
   },
   "outputs": [],
   "source": [
    "dummies_amenities_df = dummies_amenities_df.drop(columns = ['Washer / Dryer'])"
   ]
  },
  {
   "cell_type": "code",
   "execution_count": 70,
   "id": "stretch-functionality",
   "metadata": {
    "execution": {
     "iopub.execute_input": "2021-04-27T00:19:04.901599Z",
     "iopub.status.busy": "2021-04-27T00:19:04.900954Z",
     "iopub.status.idle": "2021-04-27T00:19:05.335281Z",
     "shell.execute_reply": "2021-04-27T00:19:05.334699Z"
    },
    "papermill": {
     "duration": 0.564417,
     "end_time": "2021-04-27T00:19:05.335437",
     "exception": false,
     "start_time": "2021-04-27T00:19:04.771020",
     "status": "completed"
    },
    "tags": []
   },
   "outputs": [
    {
     "data": {
      "image/png": "[encoded data removed]",
      "text/plain": [
       "<Figure size 1080x360 with 1 Axes>"
      ]
     },
     "metadata": {
      "needs_background": "light"
     },
     "output_type": "display_data"
    }
   ],
   "source": [
    "dummies_amenities_df.sum().sort_values(ascending = False).plot(kind='bar', figsize = (15,5));"
   ]
  },
  {
   "cell_type": "code",
   "execution_count": 71,
   "id": "earlier-manchester",
   "metadata": {
    "execution": {
     "iopub.execute_input": "2021-04-27T00:19:05.599046Z",
     "iopub.status.busy": "2021-04-27T00:19:05.598122Z",
     "iopub.status.idle": "2021-04-27T00:19:05.603341Z",
     "shell.execute_reply": "2021-04-27T00:19:05.602706Z"
    },
    "papermill": {
     "duration": 0.142883,
     "end_time": "2021-04-27T00:19:05.603508",
     "exception": false,
     "start_time": "2021-04-27T00:19:05.460625",
     "status": "completed"
    },
    "tags": []
   },
   "outputs": [
    {
     "data": {
      "text/html": [
       "<div>\n",
       "<style scoped>\n",
       "    .dataframe tbody tr th:only-of-type {\n",
       "        vertical-align: middle;\n",
       "    }\n",
       "\n",
       "    .dataframe tbody tr th {\n",
       "        vertical-align: top;\n",
       "    }\n",
       "\n",
       "    .dataframe thead th {\n",
       "        text-align: right;\n",
       "    }\n",
       "</style>\n",
       "<table border=\"1\" class=\"dataframe\">\n",
       "  <thead>\n",
       "    <tr style=\"text-align: right;\">\n",
       "      <th></th>\n",
       "      <th>cancellation_policy</th>\n",
       "      <th>require_guest_profile_picture</th>\n",
       "      <th>require_guest_phone_verification</th>\n",
       "    </tr>\n",
       "  </thead>\n",
       "  <tbody>\n",
       "    <tr>\n",
       "      <th>0</th>\n",
       "      <td>moderate</td>\n",
       "      <td>f</td>\n",
       "      <td>f</td>\n",
       "    </tr>\n",
       "    <tr>\n",
       "      <th>1</th>\n",
       "      <td>strict</td>\n",
       "      <td>t</td>\n",
       "      <td>t</td>\n",
       "    </tr>\n",
       "    <tr>\n",
       "      <th>2</th>\n",
       "      <td>strict</td>\n",
       "      <td>f</td>\n",
       "      <td>f</td>\n",
       "    </tr>\n",
       "    <tr>\n",
       "      <th>3</th>\n",
       "      <td>flexible</td>\n",
       "      <td>f</td>\n",
       "      <td>f</td>\n",
       "    </tr>\n",
       "    <tr>\n",
       "      <th>4</th>\n",
       "      <td>strict</td>\n",
       "      <td>f</td>\n",
       "      <td>f</td>\n",
       "    </tr>\n",
       "  </tbody>\n",
       "</table>\n",
       "</div>"
      ],
      "text/plain": [
       "  cancellation_policy require_guest_profile_picture  \\\n",
       "0            moderate                             f   \n",
       "1              strict                             t   \n",
       "2              strict                             f   \n",
       "3            flexible                             f   \n",
       "4              strict                             f   \n",
       "\n",
       "  require_guest_phone_verification  \n",
       "0                                f  \n",
       "1                                t  \n",
       "2                                f  \n",
       "3                                f  \n",
       "4                                f  "
      ]
     },
     "execution_count": 71,
     "metadata": {},
     "output_type": "execute_result"
    }
   ],
   "source": [
    "policies_df = listings_df[['cancellation_policy',\n",
    " 'require_guest_profile_picture',\n",
    " 'require_guest_phone_verification']]\n",
    "\n",
    "policies_df[:5]"
   ]
  },
  {
   "cell_type": "code",
   "execution_count": 72,
   "id": "planned-saturday",
   "metadata": {
    "execution": {
     "iopub.execute_input": "2021-04-27T00:19:05.863760Z",
     "iopub.status.busy": "2021-04-27T00:19:05.863107Z",
     "iopub.status.idle": "2021-04-27T00:19:05.866930Z",
     "shell.execute_reply": "2021-04-27T00:19:05.866290Z"
    },
    "papermill": {
     "duration": 0.13767,
     "end_time": "2021-04-27T00:19:05.867084",
     "exception": false,
     "start_time": "2021-04-27T00:19:05.729414",
     "status": "completed"
    },
    "tags": []
   },
   "outputs": [
    {
     "data": {
      "text/plain": [
       "strict      1417\n",
       "moderate    1251\n",
       "flexible    1150\n",
       "Name: cancellation_policy, dtype: int64"
      ]
     },
     "execution_count": 72,
     "metadata": {},
     "output_type": "execute_result"
    }
   ],
   "source": [
    "policies_df['cancellation_policy'].value_counts()"
   ]
  },
  {
   "cell_type": "code",
   "execution_count": 73,
   "id": "running-compound",
   "metadata": {
    "execution": {
     "iopub.execute_input": "2021-04-27T00:19:06.129124Z",
     "iopub.status.busy": "2021-04-27T00:19:06.128480Z",
     "iopub.status.idle": "2021-04-27T00:19:06.136030Z",
     "shell.execute_reply": "2021-04-27T00:19:06.136472Z"
    },
    "papermill": {
     "duration": 0.140034,
     "end_time": "2021-04-27T00:19:06.136643",
     "exception": false,
     "start_time": "2021-04-27T00:19:05.996609",
     "status": "completed"
    },
    "tags": []
   },
   "outputs": [
    {
     "data": {
      "text/plain": [
       "f    3497\n",
       "t     321\n",
       "Name: require_guest_profile_picture, dtype: int64"
      ]
     },
     "execution_count": 73,
     "metadata": {},
     "output_type": "execute_result"
    }
   ],
   "source": [
    "policies_df['require_guest_profile_picture'].value_counts()"
   ]
  },
  {
   "cell_type": "code",
   "execution_count": 74,
   "id": "equipped-toilet",
   "metadata": {
    "execution": {
     "iopub.execute_input": "2021-04-27T00:19:06.393199Z",
     "iopub.status.busy": "2021-04-27T00:19:06.392567Z",
     "iopub.status.idle": "2021-04-27T00:19:06.400477Z",
     "shell.execute_reply": "2021-04-27T00:19:06.400928Z"
    },
    "papermill": {
     "duration": 0.137895,
     "end_time": "2021-04-27T00:19:06.401100",
     "exception": false,
     "start_time": "2021-04-27T00:19:06.263205",
     "status": "completed"
    },
    "tags": []
   },
   "outputs": [
    {
     "data": {
      "text/plain": [
       "f    3443\n",
       "t     375\n",
       "Name: require_guest_phone_verification, dtype: int64"
      ]
     },
     "execution_count": 74,
     "metadata": {},
     "output_type": "execute_result"
    }
   ],
   "source": [
    "policies_df['require_guest_phone_verification'].value_counts()"
   ]
  },
  {
   "cell_type": "code",
   "execution_count": 75,
   "id": "featured-shopper",
   "metadata": {
    "execution": {
     "iopub.execute_input": "2021-04-27T00:19:06.657537Z",
     "iopub.status.busy": "2021-04-27T00:19:06.656845Z",
     "iopub.status.idle": "2021-04-27T00:19:06.668621Z",
     "shell.execute_reply": "2021-04-27T00:19:06.667979Z"
    },
    "papermill": {
     "duration": 0.1415,
     "end_time": "2021-04-27T00:19:06.668778",
     "exception": false,
     "start_time": "2021-04-27T00:19:06.527278",
     "status": "completed"
    },
    "tags": []
   },
   "outputs": [
    {
     "data": {
      "text/html": [
       "<div>\n",
       "<style scoped>\n",
       "    .dataframe tbody tr th:only-of-type {\n",
       "        vertical-align: middle;\n",
       "    }\n",
       "\n",
       "    .dataframe tbody tr th {\n",
       "        vertical-align: top;\n",
       "    }\n",
       "\n",
       "    .dataframe thead th {\n",
       "        text-align: right;\n",
       "    }\n",
       "</style>\n",
       "<table border=\"1\" class=\"dataframe\">\n",
       "  <thead>\n",
       "    <tr style=\"text-align: right;\">\n",
       "      <th></th>\n",
       "      <th>cancellation_policy_flexible</th>\n",
       "      <th>cancellation_policy_moderate</th>\n",
       "      <th>cancellation_policy_strict</th>\n",
       "    </tr>\n",
       "  </thead>\n",
       "  <tbody>\n",
       "    <tr>\n",
       "      <th>0</th>\n",
       "      <td>0</td>\n",
       "      <td>1</td>\n",
       "      <td>0</td>\n",
       "    </tr>\n",
       "    <tr>\n",
       "      <th>1</th>\n",
       "      <td>0</td>\n",
       "      <td>0</td>\n",
       "      <td>1</td>\n",
       "    </tr>\n",
       "    <tr>\n",
       "      <th>2</th>\n",
       "      <td>0</td>\n",
       "      <td>0</td>\n",
       "      <td>1</td>\n",
       "    </tr>\n",
       "    <tr>\n",
       "      <th>3</th>\n",
       "      <td>1</td>\n",
       "      <td>0</td>\n",
       "      <td>0</td>\n",
       "    </tr>\n",
       "    <tr>\n",
       "      <th>4</th>\n",
       "      <td>0</td>\n",
       "      <td>0</td>\n",
       "      <td>1</td>\n",
       "    </tr>\n",
       "  </tbody>\n",
       "</table>\n",
       "</div>"
      ],
      "text/plain": [
       "   cancellation_policy_flexible  cancellation_policy_moderate  \\\n",
       "0                             0                             1   \n",
       "1                             0                             0   \n",
       "2                             0                             0   \n",
       "3                             1                             0   \n",
       "4                             0                             0   \n",
       "\n",
       "   cancellation_policy_strict  \n",
       "0                           0  \n",
       "1                           1  \n",
       "2                           1  \n",
       "3                           0  \n",
       "4                           1  "
      ]
     },
     "execution_count": 75,
     "metadata": {},
     "output_type": "execute_result"
    }
   ],
   "source": [
    "pd.get_dummies(policies_df['cancellation_policy'], prefix='cancellation_policy')[:5]"
   ]
  },
  {
   "cell_type": "code",
   "execution_count": 76,
   "id": "express-maine",
   "metadata": {
    "execution": {
     "iopub.execute_input": "2021-04-27T00:19:06.943817Z",
     "iopub.status.busy": "2021-04-27T00:19:06.943166Z",
     "iopub.status.idle": "2021-04-27T00:19:06.946568Z",
     "shell.execute_reply": "2021-04-27T00:19:06.947093Z"
    },
    "papermill": {
     "duration": 0.146847,
     "end_time": "2021-04-27T00:19:06.947273",
     "exception": false,
     "start_time": "2021-04-27T00:19:06.800426",
     "status": "completed"
    },
    "tags": []
   },
   "outputs": [
    {
     "data": {
      "text/html": [
       "<div>\n",
       "<style scoped>\n",
       "    .dataframe tbody tr th:only-of-type {\n",
       "        vertical-align: middle;\n",
       "    }\n",
       "\n",
       "    .dataframe tbody tr th {\n",
       "        vertical-align: top;\n",
       "    }\n",
       "\n",
       "    .dataframe thead th {\n",
       "        text-align: right;\n",
       "    }\n",
       "</style>\n",
       "<table border=\"1\" class=\"dataframe\">\n",
       "  <thead>\n",
       "    <tr style=\"text-align: right;\">\n",
       "      <th></th>\n",
       "      <th>listing_id</th>\n",
       "      <th>date</th>\n",
       "      <th>available</th>\n",
       "      <th>price</th>\n",
       "    </tr>\n",
       "  </thead>\n",
       "  <tbody>\n",
       "    <tr>\n",
       "      <th>0</th>\n",
       "      <td>241032</td>\n",
       "      <td>2016-01-04</td>\n",
       "      <td>t</td>\n",
       "      <td>$85.00</td>\n",
       "    </tr>\n",
       "    <tr>\n",
       "      <th>1</th>\n",
       "      <td>241032</td>\n",
       "      <td>2016-01-05</td>\n",
       "      <td>t</td>\n",
       "      <td>$85.00</td>\n",
       "    </tr>\n",
       "    <tr>\n",
       "      <th>2</th>\n",
       "      <td>241032</td>\n",
       "      <td>2016-01-06</td>\n",
       "      <td>f</td>\n",
       "      <td>NaN</td>\n",
       "    </tr>\n",
       "    <tr>\n",
       "      <th>3</th>\n",
       "      <td>241032</td>\n",
       "      <td>2016-01-07</td>\n",
       "      <td>f</td>\n",
       "      <td>NaN</td>\n",
       "    </tr>\n",
       "    <tr>\n",
       "      <th>4</th>\n",
       "      <td>241032</td>\n",
       "      <td>2016-01-08</td>\n",
       "      <td>f</td>\n",
       "      <td>NaN</td>\n",
       "    </tr>\n",
       "  </tbody>\n",
       "</table>\n",
       "</div>"
      ],
      "text/plain": [
       "   listing_id        date available   price\n",
       "0      241032  2016-01-04         t  $85.00\n",
       "1      241032  2016-01-05         t  $85.00\n",
       "2      241032  2016-01-06         f     NaN\n",
       "3      241032  2016-01-07         f     NaN\n",
       "4      241032  2016-01-08         f     NaN"
      ]
     },
     "execution_count": 76,
     "metadata": {},
     "output_type": "execute_result"
    }
   ],
   "source": [
    "calender_df[:5]"
   ]
  },
  {
   "cell_type": "code",
   "execution_count": 77,
   "id": "apart-procedure",
   "metadata": {
    "execution": {
     "iopub.execute_input": "2021-04-27T00:19:07.209997Z",
     "iopub.status.busy": "2021-04-27T00:19:07.209337Z",
     "iopub.status.idle": "2021-04-27T00:19:07.217462Z",
     "shell.execute_reply": "2021-04-27T00:19:07.218012Z"
    },
    "papermill": {
     "duration": 0.14213,
     "end_time": "2021-04-27T00:19:07.218201",
     "exception": false,
     "start_time": "2021-04-27T00:19:07.076071",
     "status": "completed"
    },
    "tags": []
   },
   "outputs": [
    {
     "data": {
      "text/plain": [
       "listing_id     int64\n",
       "date          object\n",
       "available     object\n",
       "price         object\n",
       "dtype: object"
      ]
     },
     "execution_count": 77,
     "metadata": {},
     "output_type": "execute_result"
    }
   ],
   "source": [
    "calender_df.dtypes"
   ]
  },
  {
   "cell_type": "code",
   "execution_count": 78,
   "id": "uniform-colony",
   "metadata": {
    "execution": {
     "iopub.execute_input": "2021-04-27T00:19:07.856502Z",
     "iopub.status.busy": "2021-04-27T00:19:07.855809Z",
     "iopub.status.idle": "2021-04-27T00:19:07.872418Z",
     "shell.execute_reply": "2021-04-27T00:19:07.871894Z"
    },
    "papermill": {
     "duration": 0.524871,
     "end_time": "2021-04-27T00:19:07.872577",
     "exception": false,
     "start_time": "2021-04-27T00:19:07.347706",
     "status": "completed"
    },
    "tags": []
   },
   "outputs": [
    {
     "data": {
      "text/plain": [
       "listing_id    0.00000\n",
       "date          0.00000\n",
       "available     0.00000\n",
       "price         0.32939\n",
       "dtype: float64"
      ]
     },
     "execution_count": 78,
     "metadata": {},
     "output_type": "execute_result"
    }
   ],
   "source": [
    "calender_df.isna().sum()/calender_df.shape[0]"
   ]
  },
  {
   "cell_type": "code",
   "execution_count": 79,
   "id": "handy-frost",
   "metadata": {
    "execution": {
     "iopub.execute_input": "2021-04-27T00:19:08.443751Z",
     "iopub.status.busy": "2021-04-27T00:19:08.440388Z",
     "iopub.status.idle": "2021-04-27T00:19:08.448132Z",
     "shell.execute_reply": "2021-04-27T00:19:08.447595Z"
    },
    "papermill": {
     "duration": 0.444695,
     "end_time": "2021-04-27T00:19:08.448369",
     "exception": false,
     "start_time": "2021-04-27T00:19:08.003674",
     "status": "completed"
    },
    "tags": []
   },
   "outputs": [
    {
     "data": {
      "text/plain": [
       "t    0.67061\n",
       "f    0.32939\n",
       "Name: available, dtype: float64"
      ]
     },
     "execution_count": 79,
     "metadata": {},
     "output_type": "execute_result"
    }
   ],
   "source": [
    "calender_df['available'].value_counts()/calender_df.shape[0]"
   ]
  },
  {
   "cell_type": "code",
   "execution_count": 80,
   "id": "removable-radar",
   "metadata": {
    "execution": {
     "iopub.execute_input": "2021-04-27T00:19:08.724224Z",
     "iopub.status.busy": "2021-04-27T00:19:08.723198Z",
     "iopub.status.idle": "2021-04-27T00:19:08.755966Z",
     "shell.execute_reply": "2021-04-27T00:19:08.757021Z"
    },
    "papermill": {
     "duration": 0.175407,
     "end_time": "2021-04-27T00:19:08.757341",
     "exception": false,
     "start_time": "2021-04-27T00:19:08.581934",
     "status": "completed"
    },
    "tags": []
   },
   "outputs": [
    {
     "data": {
      "text/plain": [
       "9484823     365\n",
       "5433597     365\n",
       "7984550     365\n",
       "8441477     365\n",
       "9048029     365\n",
       "           ... \n",
       "479653      365\n",
       "10310373    365\n",
       "4672934     365\n",
       "1259305     365\n",
       "6752031     365\n",
       "Name: listing_id, Length: 3818, dtype: int64"
      ]
     },
     "execution_count": 80,
     "metadata": {},
     "output_type": "execute_result"
    }
   ],
   "source": [
    "calender_df['listing_id'].value_counts()"
   ]
  },
  {
   "cell_type": "code",
   "execution_count": 81,
   "id": "stable-terminology",
   "metadata": {
    "execution": {
     "iopub.execute_input": "2021-04-27T00:19:09.100238Z",
     "iopub.status.busy": "2021-04-27T00:19:09.099273Z",
     "iopub.status.idle": "2021-04-27T00:19:09.104300Z",
     "shell.execute_reply": "2021-04-27T00:19:09.104841Z"
    },
    "papermill": {
     "duration": 0.181795,
     "end_time": "2021-04-27T00:19:09.105051",
     "exception": false,
     "start_time": "2021-04-27T00:19:08.923256",
     "status": "completed"
    },
    "tags": []
   },
   "outputs": [
    {
     "data": {
      "text/html": [
       "<div>\n",
       "<style scoped>\n",
       "    .dataframe tbody tr th:only-of-type {\n",
       "        vertical-align: middle;\n",
       "    }\n",
       "\n",
       "    .dataframe tbody tr th {\n",
       "        vertical-align: top;\n",
       "    }\n",
       "\n",
       "    .dataframe thead th {\n",
       "        text-align: right;\n",
       "    }\n",
       "</style>\n",
       "<table border=\"1\" class=\"dataframe\">\n",
       "  <thead>\n",
       "    <tr style=\"text-align: right;\">\n",
       "      <th></th>\n",
       "      <th>id</th>\n",
       "      <th>zipcode</th>\n",
       "      <th>property_type</th>\n",
       "      <th>room_type</th>\n",
       "      <th>accommodates</th>\n",
       "      <th>bathrooms</th>\n",
       "      <th>bedrooms</th>\n",
       "      <th>beds</th>\n",
       "      <th>bed_type</th>\n",
       "      <th>amenities</th>\n",
       "      <th>...</th>\n",
       "      <th>cleaning_fee</th>\n",
       "      <th>number_of_reviews</th>\n",
       "      <th>review_scores_rating</th>\n",
       "      <th>review_scores_accuracy</th>\n",
       "      <th>review_scores_cleanliness</th>\n",
       "      <th>review_scores_checkin</th>\n",
       "      <th>review_scores_communication</th>\n",
       "      <th>review_scores_location</th>\n",
       "      <th>review_scores_value</th>\n",
       "      <th>cancellation_policy</th>\n",
       "    </tr>\n",
       "  </thead>\n",
       "  <tbody>\n",
       "    <tr>\n",
       "      <th>0</th>\n",
       "      <td>241032</td>\n",
       "      <td>98119</td>\n",
       "      <td>Apartment</td>\n",
       "      <td>Entire home/apt</td>\n",
       "      <td>4</td>\n",
       "      <td>1.0</td>\n",
       "      <td>1.0</td>\n",
       "      <td>1.0</td>\n",
       "      <td>Real Bed</td>\n",
       "      <td>{TV,\"Cable TV\",Internet,\"Wireless Internet\",\"A...</td>\n",
       "      <td>...</td>\n",
       "      <td>NaN</td>\n",
       "      <td>207</td>\n",
       "      <td>95.0</td>\n",
       "      <td>10.0</td>\n",
       "      <td>10.0</td>\n",
       "      <td>10.0</td>\n",
       "      <td>10.0</td>\n",
       "      <td>9.0</td>\n",
       "      <td>10.0</td>\n",
       "      <td>moderate</td>\n",
       "    </tr>\n",
       "    <tr>\n",
       "      <th>1</th>\n",
       "      <td>953595</td>\n",
       "      <td>98119</td>\n",
       "      <td>Apartment</td>\n",
       "      <td>Entire home/apt</td>\n",
       "      <td>4</td>\n",
       "      <td>1.0</td>\n",
       "      <td>1.0</td>\n",
       "      <td>1.0</td>\n",
       "      <td>Real Bed</td>\n",
       "      <td>{TV,Internet,\"Wireless Internet\",Kitchen,\"Free...</td>\n",
       "      <td>...</td>\n",
       "      <td>$40.00</td>\n",
       "      <td>43</td>\n",
       "      <td>96.0</td>\n",
       "      <td>10.0</td>\n",
       "      <td>10.0</td>\n",
       "      <td>10.0</td>\n",
       "      <td>10.0</td>\n",
       "      <td>10.0</td>\n",
       "      <td>10.0</td>\n",
       "      <td>strict</td>\n",
       "    </tr>\n",
       "    <tr>\n",
       "      <th>2</th>\n",
       "      <td>3308979</td>\n",
       "      <td>98119</td>\n",
       "      <td>House</td>\n",
       "      <td>Entire home/apt</td>\n",
       "      <td>11</td>\n",
       "      <td>4.5</td>\n",
       "      <td>5.0</td>\n",
       "      <td>7.0</td>\n",
       "      <td>Real Bed</td>\n",
       "      <td>{TV,\"Cable TV\",Internet,\"Wireless Internet\",\"A...</td>\n",
       "      <td>...</td>\n",
       "      <td>$300.00</td>\n",
       "      <td>20</td>\n",
       "      <td>97.0</td>\n",
       "      <td>10.0</td>\n",
       "      <td>10.0</td>\n",
       "      <td>10.0</td>\n",
       "      <td>10.0</td>\n",
       "      <td>10.0</td>\n",
       "      <td>10.0</td>\n",
       "      <td>strict</td>\n",
       "    </tr>\n",
       "    <tr>\n",
       "      <th>3</th>\n",
       "      <td>7421966</td>\n",
       "      <td>98119</td>\n",
       "      <td>Apartment</td>\n",
       "      <td>Entire home/apt</td>\n",
       "      <td>3</td>\n",
       "      <td>1.0</td>\n",
       "      <td>0.0</td>\n",
       "      <td>2.0</td>\n",
       "      <td>Real Bed</td>\n",
       "      <td>{Internet,\"Wireless Internet\",Kitchen,\"Indoor ...</td>\n",
       "      <td>...</td>\n",
       "      <td>NaN</td>\n",
       "      <td>0</td>\n",
       "      <td>NaN</td>\n",
       "      <td>NaN</td>\n",
       "      <td>NaN</td>\n",
       "      <td>NaN</td>\n",
       "      <td>NaN</td>\n",
       "      <td>NaN</td>\n",
       "      <td>NaN</td>\n",
       "      <td>flexible</td>\n",
       "    </tr>\n",
       "    <tr>\n",
       "      <th>4</th>\n",
       "      <td>278830</td>\n",
       "      <td>98119</td>\n",
       "      <td>House</td>\n",
       "      <td>Entire home/apt</td>\n",
       "      <td>6</td>\n",
       "      <td>2.0</td>\n",
       "      <td>3.0</td>\n",
       "      <td>3.0</td>\n",
       "      <td>Real Bed</td>\n",
       "      <td>{TV,\"Cable TV\",Internet,\"Wireless Internet\",Ki...</td>\n",
       "      <td>...</td>\n",
       "      <td>$125.00</td>\n",
       "      <td>38</td>\n",
       "      <td>92.0</td>\n",
       "      <td>9.0</td>\n",
       "      <td>9.0</td>\n",
       "      <td>10.0</td>\n",
       "      <td>10.0</td>\n",
       "      <td>9.0</td>\n",
       "      <td>9.0</td>\n",
       "      <td>strict</td>\n",
       "    </tr>\n",
       "  </tbody>\n",
       "</table>\n",
       "<p>5 rows × 24 columns</p>\n",
       "</div>"
      ],
      "text/plain": [
       "        id zipcode property_type        room_type  accommodates  bathrooms  \\\n",
       "0   241032   98119     Apartment  Entire home/apt             4        1.0   \n",
       "1   953595   98119     Apartment  Entire home/apt             4        1.0   \n",
       "2  3308979   98119         House  Entire home/apt            11        4.5   \n",
       "3  7421966   98119     Apartment  Entire home/apt             3        1.0   \n",
       "4   278830   98119         House  Entire home/apt             6        2.0   \n",
       "\n",
       "   bedrooms  beds  bed_type  \\\n",
       "0       1.0   1.0  Real Bed   \n",
       "1       1.0   1.0  Real Bed   \n",
       "2       5.0   7.0  Real Bed   \n",
       "3       0.0   2.0  Real Bed   \n",
       "4       3.0   3.0  Real Bed   \n",
       "\n",
       "                                           amenities  ... cleaning_fee  \\\n",
       "0  {TV,\"Cable TV\",Internet,\"Wireless Internet\",\"A...  ...          NaN   \n",
       "1  {TV,Internet,\"Wireless Internet\",Kitchen,\"Free...  ...       $40.00   \n",
       "2  {TV,\"Cable TV\",Internet,\"Wireless Internet\",\"A...  ...      $300.00   \n",
       "3  {Internet,\"Wireless Internet\",Kitchen,\"Indoor ...  ...          NaN   \n",
       "4  {TV,\"Cable TV\",Internet,\"Wireless Internet\",Ki...  ...      $125.00   \n",
       "\n",
       "  number_of_reviews review_scores_rating review_scores_accuracy  \\\n",
       "0               207                 95.0                   10.0   \n",
       "1                43                 96.0                   10.0   \n",
       "2                20                 97.0                   10.0   \n",
       "3                 0                  NaN                    NaN   \n",
       "4                38                 92.0                    9.0   \n",
       "\n",
       "  review_scores_cleanliness  review_scores_checkin  \\\n",
       "0                      10.0                   10.0   \n",
       "1                      10.0                   10.0   \n",
       "2                      10.0                   10.0   \n",
       "3                       NaN                    NaN   \n",
       "4                       9.0                   10.0   \n",
       "\n",
       "   review_scores_communication  review_scores_location  review_scores_value  \\\n",
       "0                         10.0                     9.0                 10.0   \n",
       "1                         10.0                    10.0                 10.0   \n",
       "2                         10.0                    10.0                 10.0   \n",
       "3                          NaN                     NaN                  NaN   \n",
       "4                         10.0                     9.0                  9.0   \n",
       "\n",
       "   cancellation_policy  \n",
       "0             moderate  \n",
       "1               strict  \n",
       "2               strict  \n",
       "3             flexible  \n",
       "4               strict  \n",
       "\n",
       "[5 rows x 24 columns]"
      ]
     },
     "execution_count": 81,
     "metadata": {},
     "output_type": "execute_result"
    }
   ],
   "source": [
    "\n",
    "selected_listings_cols = [\n",
    "    'id',\n",
    " 'zipcode',\n",
    "\n",
    " 'property_type',\n",
    " 'room_type',\n",
    " 'accommodates',\n",
    " 'bathrooms',\n",
    " 'bedrooms',\n",
    " 'beds',\n",
    " 'bed_type',\n",
    " 'amenities',\n",
    "#  'square_feet',\n",
    " 'price',\n",
    " 'weekly_price',\n",
    " 'monthly_price',\n",
    " 'security_deposit',\n",
    " 'cleaning_fee',\n",
    " 'number_of_reviews',\n",
    " 'review_scores_rating',\n",
    " 'review_scores_accuracy',\n",
    " 'review_scores_cleanliness',\n",
    " 'review_scores_checkin',\n",
    " 'review_scores_communication',\n",
    " 'review_scores_location',\n",
    " 'review_scores_value',\n",
    "\n",
    " 'cancellation_policy',\n",
    "]\n",
    "new_listings_df = listings_df[selected_listings_cols]\n",
    "new_listings_df[:5]"
   ]
  },
  {
   "cell_type": "code",
   "execution_count": 82,
   "id": "automotive-heading",
   "metadata": {
    "execution": {
     "iopub.execute_input": "2021-04-27T00:19:09.380293Z",
     "iopub.status.busy": "2021-04-27T00:19:09.379570Z",
     "iopub.status.idle": "2021-04-27T00:19:09.389707Z",
     "shell.execute_reply": "2021-04-27T00:19:09.390241Z"
    },
    "papermill": {
     "duration": 0.15198,
     "end_time": "2021-04-27T00:19:09.390436",
     "exception": false,
     "start_time": "2021-04-27T00:19:09.238456",
     "status": "completed"
    },
    "tags": []
   },
   "outputs": [
    {
     "name": "stderr",
     "output_type": "stream",
     "text": [
      "/opt/conda/lib/python3.7/site-packages/ipykernel_launcher.py:4: SettingWithCopyWarning: \n",
      "A value is trying to be set on a copy of a slice from a DataFrame\n",
      "\n",
      "See the caveats in the documentation: https://pandas.pydata.org/pandas-docs/stable/user_guide/indexing.html#returning-a-view-versus-a-copy\n",
      "  after removing the cwd from sys.path.\n"
     ]
    }
   ],
   "source": [
    "review_scores_cols = [col for col in listings_df.columns if 'review_scores' in col]\n",
    "drop_cols = ['number_of_reviews','bathrooms','property_type'] + review_scores_cols\n",
    "\n",
    "new_listings_df.dropna(subset = drop_cols, axis = 0, inplace = True)\n",
    "\n",
    "# Drop rows where the number of reviews is 0.\n",
    "new_listings_df = new_listings_df[new_listings_df['number_of_reviews'] != 0]\n",
    "\n",
    "# Drop rows where the amenities are empty\n",
    "new_listings_df = new_listings_df[new_listings_df['amenities'] != '{}']\n",
    "\n",
    "# Reset index\n",
    "new_listings_df = new_listings_df.reset_index(drop = True)"
   ]
  },
  {
   "cell_type": "code",
   "execution_count": 83,
   "id": "generic-smart",
   "metadata": {
    "execution": {
     "iopub.execute_input": "2021-04-27T00:19:09.676572Z",
     "iopub.status.busy": "2021-04-27T00:19:09.668985Z",
     "iopub.status.idle": "2021-04-27T00:19:09.723669Z",
     "shell.execute_reply": "2021-04-27T00:19:09.723034Z"
    },
    "papermill": {
     "duration": 0.19982,
     "end_time": "2021-04-27T00:19:09.723824",
     "exception": false,
     "start_time": "2021-04-27T00:19:09.524004",
     "status": "completed"
    },
    "tags": []
   },
   "outputs": [
    {
     "name": "stderr",
     "output_type": "stream",
     "text": [
      "/opt/conda/lib/python3.7/site-packages/ipykernel_launcher.py:6: FutureWarning: The default value of regex will change from True to False in a future version. In addition, single character regular expressions will*not* be treated as literal strings when regex=True.\n",
      "  \n"
     ]
    },
    {
     "data": {
      "text/html": [
       "<div>\n",
       "<style scoped>\n",
       "    .dataframe tbody tr th:only-of-type {\n",
       "        vertical-align: middle;\n",
       "    }\n",
       "\n",
       "    .dataframe tbody tr th {\n",
       "        vertical-align: top;\n",
       "    }\n",
       "\n",
       "    .dataframe thead th {\n",
       "        text-align: right;\n",
       "    }\n",
       "</style>\n",
       "<table border=\"1\" class=\"dataframe\">\n",
       "  <thead>\n",
       "    <tr style=\"text-align: right;\">\n",
       "      <th></th>\n",
       "      <th>price</th>\n",
       "      <th>weekly_price</th>\n",
       "      <th>monthly_price</th>\n",
       "      <th>security_deposit</th>\n",
       "      <th>cleaning_fee</th>\n",
       "      <th>calc_weekly_price</th>\n",
       "      <th>calc_monthly_price</th>\n",
       "    </tr>\n",
       "  </thead>\n",
       "  <tbody>\n",
       "    <tr>\n",
       "      <th>0</th>\n",
       "      <td>85.0</td>\n",
       "      <td>0.0</td>\n",
       "      <td>0.0</td>\n",
       "      <td>0.0</td>\n",
       "      <td>0.0</td>\n",
       "      <td>595.0</td>\n",
       "      <td>2550.0</td>\n",
       "    </tr>\n",
       "    <tr>\n",
       "      <th>1</th>\n",
       "      <td>150.0</td>\n",
       "      <td>1000.0</td>\n",
       "      <td>3000.0</td>\n",
       "      <td>100.0</td>\n",
       "      <td>40.0</td>\n",
       "      <td>1050.0</td>\n",
       "      <td>4500.0</td>\n",
       "    </tr>\n",
       "    <tr>\n",
       "      <th>2</th>\n",
       "      <td>975.0</td>\n",
       "      <td>0.0</td>\n",
       "      <td>0.0</td>\n",
       "      <td>1000.0</td>\n",
       "      <td>300.0</td>\n",
       "      <td>6825.0</td>\n",
       "      <td>29250.0</td>\n",
       "    </tr>\n",
       "    <tr>\n",
       "      <th>3</th>\n",
       "      <td>450.0</td>\n",
       "      <td>0.0</td>\n",
       "      <td>0.0</td>\n",
       "      <td>700.0</td>\n",
       "      <td>125.0</td>\n",
       "      <td>3150.0</td>\n",
       "      <td>13500.0</td>\n",
       "    </tr>\n",
       "    <tr>\n",
       "      <th>4</th>\n",
       "      <td>120.0</td>\n",
       "      <td>800.0</td>\n",
       "      <td>0.0</td>\n",
       "      <td>0.0</td>\n",
       "      <td>40.0</td>\n",
       "      <td>840.0</td>\n",
       "      <td>3600.0</td>\n",
       "    </tr>\n",
       "  </tbody>\n",
       "</table>\n",
       "</div>"
      ],
      "text/plain": [
       "   price  weekly_price  monthly_price  security_deposit  cleaning_fee  \\\n",
       "0   85.0           0.0            0.0               0.0           0.0   \n",
       "1  150.0        1000.0         3000.0             100.0          40.0   \n",
       "2  975.0           0.0            0.0            1000.0         300.0   \n",
       "3  450.0           0.0            0.0             700.0         125.0   \n",
       "4  120.0         800.0            0.0               0.0          40.0   \n",
       "\n",
       "   calc_weekly_price  calc_monthly_price  \n",
       "0              595.0              2550.0  \n",
       "1             1050.0              4500.0  \n",
       "2             6825.0             29250.0  \n",
       "3             3150.0             13500.0  \n",
       "4              840.0              3600.0  "
      ]
     },
     "execution_count": 83,
     "metadata": {},
     "output_type": "execute_result"
    }
   ],
   "source": [
    "new_listings_df[['bedrooms', 'beds']] = new_listings_df[['bedrooms', 'beds']].fillna(value = 1)\n",
    "# Change the data type of the price and related columns and fill missing values as 0\n",
    "new_listings_price_df = new_listings_df[['price','weekly_price','monthly_price','security_deposit','cleaning_fee']]\n",
    "\n",
    "for col in ['price','weekly_price','monthly_price','security_deposit','cleaning_fee']:\n",
    "    new_listings_price_df = pd.concat([new_listings_price_df.drop(columns = [col]), new_listings_price_df[col].str.replace('$','').str.replace(',','').astype(float)], axis = 1)\n",
    "    \n",
    "new_listings_price_df.fillna(value = 0, inplace =True)\n",
    "# Calculate weekly and monthly price\n",
    "new_listings_price_df['calc_weekly_price'] = new_listings_price_df['price'] * 7\n",
    "new_listings_price_df['calc_monthly_price'] = new_listings_price_df['price'] * 30\n",
    "new_listings_price_df[:5]"
   ]
  },
  {
   "cell_type": "code",
   "execution_count": 84,
   "id": "polish-offset",
   "metadata": {
    "execution": {
     "iopub.execute_input": "2021-04-27T00:19:10.005382Z",
     "iopub.status.busy": "2021-04-27T00:19:10.004417Z",
     "iopub.status.idle": "2021-04-27T00:19:12.735959Z",
     "shell.execute_reply": "2021-04-27T00:19:12.736569Z"
    },
    "papermill": {
     "duration": 2.874471,
     "end_time": "2021-04-27T00:19:12.736758",
     "exception": false,
     "start_time": "2021-04-27T00:19:09.862287",
     "status": "completed"
    },
    "tags": []
   },
   "outputs": [
    {
     "data": {
      "text/html": [
       "<div>\n",
       "<style scoped>\n",
       "    .dataframe tbody tr th:only-of-type {\n",
       "        vertical-align: middle;\n",
       "    }\n",
       "\n",
       "    .dataframe tbody tr th {\n",
       "        vertical-align: top;\n",
       "    }\n",
       "\n",
       "    .dataframe thead th {\n",
       "        text-align: right;\n",
       "    }\n",
       "</style>\n",
       "<table border=\"1\" class=\"dataframe\">\n",
       "  <thead>\n",
       "    <tr style=\"text-align: right;\">\n",
       "      <th></th>\n",
       "      <th>price</th>\n",
       "      <th>weekly_price</th>\n",
       "      <th>monthly_price</th>\n",
       "      <th>security_deposit</th>\n",
       "      <th>cleaning_fee</th>\n",
       "      <th>calc_weekly_price</th>\n",
       "      <th>calc_monthly_price</th>\n",
       "    </tr>\n",
       "  </thead>\n",
       "  <tbody>\n",
       "    <tr>\n",
       "      <th>0</th>\n",
       "      <td>85.0</td>\n",
       "      <td>595.0</td>\n",
       "      <td>2550.0</td>\n",
       "      <td>0.0</td>\n",
       "      <td>0.0</td>\n",
       "      <td>595.0</td>\n",
       "      <td>2550.0</td>\n",
       "    </tr>\n",
       "    <tr>\n",
       "      <th>1</th>\n",
       "      <td>150.0</td>\n",
       "      <td>1000.0</td>\n",
       "      <td>3000.0</td>\n",
       "      <td>100.0</td>\n",
       "      <td>40.0</td>\n",
       "      <td>1050.0</td>\n",
       "      <td>4500.0</td>\n",
       "    </tr>\n",
       "    <tr>\n",
       "      <th>2</th>\n",
       "      <td>975.0</td>\n",
       "      <td>6825.0</td>\n",
       "      <td>29250.0</td>\n",
       "      <td>1000.0</td>\n",
       "      <td>300.0</td>\n",
       "      <td>6825.0</td>\n",
       "      <td>29250.0</td>\n",
       "    </tr>\n",
       "    <tr>\n",
       "      <th>3</th>\n",
       "      <td>450.0</td>\n",
       "      <td>3150.0</td>\n",
       "      <td>13500.0</td>\n",
       "      <td>700.0</td>\n",
       "      <td>125.0</td>\n",
       "      <td>3150.0</td>\n",
       "      <td>13500.0</td>\n",
       "    </tr>\n",
       "    <tr>\n",
       "      <th>4</th>\n",
       "      <td>120.0</td>\n",
       "      <td>800.0</td>\n",
       "      <td>3600.0</td>\n",
       "      <td>0.0</td>\n",
       "      <td>40.0</td>\n",
       "      <td>840.0</td>\n",
       "      <td>3600.0</td>\n",
       "    </tr>\n",
       "  </tbody>\n",
       "</table>\n",
       "</div>"
      ],
      "text/plain": [
       "   price  weekly_price  monthly_price  security_deposit  cleaning_fee  \\\n",
       "0   85.0         595.0         2550.0               0.0           0.0   \n",
       "1  150.0        1000.0         3000.0             100.0          40.0   \n",
       "2  975.0        6825.0        29250.0            1000.0         300.0   \n",
       "3  450.0        3150.0        13500.0             700.0         125.0   \n",
       "4  120.0         800.0         3600.0               0.0          40.0   \n",
       "\n",
       "   calc_weekly_price  calc_monthly_price  \n",
       "0              595.0              2550.0  \n",
       "1             1050.0              4500.0  \n",
       "2             6825.0             29250.0  \n",
       "3             3150.0             13500.0  \n",
       "4              840.0              3600.0  "
      ]
     },
     "execution_count": 84,
     "metadata": {},
     "output_type": "execute_result"
    }
   ],
   "source": [
    "for idx, row in new_listings_price_df.iterrows():\n",
    "    if row['weekly_price'] == 0:\n",
    "        new_listings_price_df.loc[idx, ['weekly_price']] = row['calc_weekly_price']\n",
    "    if row['monthly_price'] == 0:\n",
    "        new_listings_price_df.loc[idx, ['monthly_price']] = row['calc_monthly_price']\n",
    "\n",
    "new_listings_price_df[:5]"
   ]
  },
  {
   "cell_type": "code",
   "execution_count": 85,
   "id": "defensive-scene",
   "metadata": {
    "execution": {
     "iopub.execute_input": "2021-04-27T00:19:13.037787Z",
     "iopub.status.busy": "2021-04-27T00:19:13.036883Z",
     "iopub.status.idle": "2021-04-27T00:19:13.042725Z",
     "shell.execute_reply": "2021-04-27T00:19:13.043281Z"
    },
    "papermill": {
     "duration": 0.157395,
     "end_time": "2021-04-27T00:19:13.043495",
     "exception": false,
     "start_time": "2021-04-27T00:19:12.886100",
     "status": "completed"
    },
    "tags": []
   },
   "outputs": [],
   "source": [
    "new_listings_price_df.drop(columns = ['calc_weekly_price', 'calc_monthly_price'], inplace = True)"
   ]
  },
  {
   "cell_type": "code",
   "execution_count": 86,
   "id": "civil-finland",
   "metadata": {
    "execution": {
     "iopub.execute_input": "2021-04-27T00:19:13.368486Z",
     "iopub.status.busy": "2021-04-27T00:19:13.367398Z",
     "iopub.status.idle": "2021-04-27T00:19:13.384898Z",
     "shell.execute_reply": "2021-04-27T00:19:13.385496Z"
    },
    "papermill": {
     "duration": 0.188486,
     "end_time": "2021-04-27T00:19:13.385743",
     "exception": false,
     "start_time": "2021-04-27T00:19:13.197257",
     "status": "completed"
    },
    "tags": []
   },
   "outputs": [
    {
     "data": {
      "text/html": [
       "<div>\n",
       "<style scoped>\n",
       "    .dataframe tbody tr th:only-of-type {\n",
       "        vertical-align: middle;\n",
       "    }\n",
       "\n",
       "    .dataframe tbody tr th {\n",
       "        vertical-align: top;\n",
       "    }\n",
       "\n",
       "    .dataframe thead th {\n",
       "        text-align: right;\n",
       "    }\n",
       "</style>\n",
       "<table border=\"1\" class=\"dataframe\">\n",
       "  <thead>\n",
       "    <tr style=\"text-align: right;\">\n",
       "      <th></th>\n",
       "      <th>bed_type_Airbed</th>\n",
       "      <th>bed_type_Couch</th>\n",
       "      <th>bed_type_Futon</th>\n",
       "      <th>bed_type_Pull-out Sofa</th>\n",
       "      <th>bed_type_Real Bed</th>\n",
       "    </tr>\n",
       "  </thead>\n",
       "  <tbody>\n",
       "    <tr>\n",
       "      <th>0</th>\n",
       "      <td>0</td>\n",
       "      <td>0</td>\n",
       "      <td>0</td>\n",
       "      <td>0</td>\n",
       "      <td>1</td>\n",
       "    </tr>\n",
       "    <tr>\n",
       "      <th>1</th>\n",
       "      <td>0</td>\n",
       "      <td>0</td>\n",
       "      <td>0</td>\n",
       "      <td>0</td>\n",
       "      <td>1</td>\n",
       "    </tr>\n",
       "    <tr>\n",
       "      <th>2</th>\n",
       "      <td>0</td>\n",
       "      <td>0</td>\n",
       "      <td>0</td>\n",
       "      <td>0</td>\n",
       "      <td>1</td>\n",
       "    </tr>\n",
       "    <tr>\n",
       "      <th>3</th>\n",
       "      <td>0</td>\n",
       "      <td>0</td>\n",
       "      <td>0</td>\n",
       "      <td>0</td>\n",
       "      <td>1</td>\n",
       "    </tr>\n",
       "    <tr>\n",
       "      <th>4</th>\n",
       "      <td>0</td>\n",
       "      <td>0</td>\n",
       "      <td>0</td>\n",
       "      <td>0</td>\n",
       "      <td>1</td>\n",
       "    </tr>\n",
       "    <tr>\n",
       "      <th>...</th>\n",
       "      <td>...</td>\n",
       "      <td>...</td>\n",
       "      <td>...</td>\n",
       "      <td>...</td>\n",
       "      <td>...</td>\n",
       "    </tr>\n",
       "    <tr>\n",
       "      <th>3118</th>\n",
       "      <td>0</td>\n",
       "      <td>0</td>\n",
       "      <td>0</td>\n",
       "      <td>0</td>\n",
       "      <td>1</td>\n",
       "    </tr>\n",
       "    <tr>\n",
       "      <th>3119</th>\n",
       "      <td>0</td>\n",
       "      <td>0</td>\n",
       "      <td>0</td>\n",
       "      <td>0</td>\n",
       "      <td>1</td>\n",
       "    </tr>\n",
       "    <tr>\n",
       "      <th>3120</th>\n",
       "      <td>0</td>\n",
       "      <td>0</td>\n",
       "      <td>0</td>\n",
       "      <td>0</td>\n",
       "      <td>1</td>\n",
       "    </tr>\n",
       "    <tr>\n",
       "      <th>3121</th>\n",
       "      <td>0</td>\n",
       "      <td>0</td>\n",
       "      <td>0</td>\n",
       "      <td>0</td>\n",
       "      <td>1</td>\n",
       "    </tr>\n",
       "    <tr>\n",
       "      <th>3122</th>\n",
       "      <td>0</td>\n",
       "      <td>0</td>\n",
       "      <td>0</td>\n",
       "      <td>0</td>\n",
       "      <td>1</td>\n",
       "    </tr>\n",
       "  </tbody>\n",
       "</table>\n",
       "<p>3123 rows × 5 columns</p>\n",
       "</div>"
      ],
      "text/plain": [
       "      bed_type_Airbed  bed_type_Couch  bed_type_Futon  bed_type_Pull-out Sofa  \\\n",
       "0                   0               0               0                       0   \n",
       "1                   0               0               0                       0   \n",
       "2                   0               0               0                       0   \n",
       "3                   0               0               0                       0   \n",
       "4                   0               0               0                       0   \n",
       "...               ...             ...             ...                     ...   \n",
       "3118                0               0               0                       0   \n",
       "3119                0               0               0                       0   \n",
       "3120                0               0               0                       0   \n",
       "3121                0               0               0                       0   \n",
       "3122                0               0               0                       0   \n",
       "\n",
       "      bed_type_Real Bed  \n",
       "0                     1  \n",
       "1                     1  \n",
       "2                     1  \n",
       "3                     1  \n",
       "4                     1  \n",
       "...                 ...  \n",
       "3118                  1  \n",
       "3119                  1  \n",
       "3120                  1  \n",
       "3121                  1  \n",
       "3122                  1  \n",
       "\n",
       "[3123 rows x 5 columns]"
      ]
     },
     "execution_count": 86,
     "metadata": {},
     "output_type": "execute_result"
    }
   ],
   "source": [
    "cancellation_policy_dummy_df = pd.get_dummies(new_listings_df['cancellation_policy'], prefix = 'cancellation_policy')\n",
    "room_type_dummy_df = pd.get_dummies(new_listings_df['room_type'], prefix = 'room_type')\n",
    "property_type_dummy_df = pd.get_dummies(new_listings_df['property_type'], prefix = 'property_type')\n",
    "bed_type_dummy_df = pd.get_dummies(new_listings_df['bed_type'], prefix = 'bed_type')\n",
    "bed_type_dummy_df"
   ]
  },
  {
   "cell_type": "code",
   "execution_count": 87,
   "id": "corporate-withdrawal",
   "metadata": {
    "execution": {
     "iopub.execute_input": "2021-04-27T00:19:13.721152Z",
     "iopub.status.busy": "2021-04-27T00:19:13.720339Z",
     "iopub.status.idle": "2021-04-27T00:19:13.843775Z",
     "shell.execute_reply": "2021-04-27T00:19:13.843021Z"
    },
    "papermill": {
     "duration": 0.29884,
     "end_time": "2021-04-27T00:19:13.844165",
     "exception": false,
     "start_time": "2021-04-27T00:19:13.545325",
     "status": "completed"
    },
    "tags": []
   },
   "outputs": [
    {
     "data": {
      "text/html": [
       "<div>\n",
       "<style scoped>\n",
       "    .dataframe tbody tr th:only-of-type {\n",
       "        vertical-align: middle;\n",
       "    }\n",
       "\n",
       "    .dataframe tbody tr th {\n",
       "        vertical-align: top;\n",
       "    }\n",
       "\n",
       "    .dataframe thead th {\n",
       "        text-align: right;\n",
       "    }\n",
       "</style>\n",
       "<table border=\"1\" class=\"dataframe\">\n",
       "  <thead>\n",
       "    <tr style=\"text-align: right;\">\n",
       "      <th></th>\n",
       "      <th>24-Hour Check-in</th>\n",
       "      <th>Air Conditioning</th>\n",
       "      <th>Breakfast</th>\n",
       "      <th>Buzzer/Wireless Intercom</th>\n",
       "      <th>Cable TV</th>\n",
       "      <th>Carbon Monoxide Detector</th>\n",
       "      <th>Cat(s)</th>\n",
       "      <th>Dog(s)</th>\n",
       "      <th>Doorman</th>\n",
       "      <th>Dryer</th>\n",
       "      <th>...</th>\n",
       "      <th>Safety Card</th>\n",
       "      <th>Shampoo</th>\n",
       "      <th>Smoke Detector</th>\n",
       "      <th>Smoking Allowed</th>\n",
       "      <th>Suitable for Events</th>\n",
       "      <th>TV</th>\n",
       "      <th>Washer</th>\n",
       "      <th>Washer / Dryer</th>\n",
       "      <th>Wheelchair Accessible</th>\n",
       "      <th>Wireless Internet</th>\n",
       "    </tr>\n",
       "  </thead>\n",
       "  <tbody>\n",
       "    <tr>\n",
       "      <th>0</th>\n",
       "      <td>0</td>\n",
       "      <td>1</td>\n",
       "      <td>0</td>\n",
       "      <td>0</td>\n",
       "      <td>1</td>\n",
       "      <td>0</td>\n",
       "      <td>0</td>\n",
       "      <td>0</td>\n",
       "      <td>0</td>\n",
       "      <td>1</td>\n",
       "      <td>...</td>\n",
       "      <td>0</td>\n",
       "      <td>0</td>\n",
       "      <td>0</td>\n",
       "      <td>0</td>\n",
       "      <td>0</td>\n",
       "      <td>1</td>\n",
       "      <td>1</td>\n",
       "      <td>0</td>\n",
       "      <td>0</td>\n",
       "      <td>1</td>\n",
       "    </tr>\n",
       "    <tr>\n",
       "      <th>1</th>\n",
       "      <td>0</td>\n",
       "      <td>0</td>\n",
       "      <td>0</td>\n",
       "      <td>1</td>\n",
       "      <td>0</td>\n",
       "      <td>1</td>\n",
       "      <td>0</td>\n",
       "      <td>0</td>\n",
       "      <td>0</td>\n",
       "      <td>1</td>\n",
       "      <td>...</td>\n",
       "      <td>1</td>\n",
       "      <td>0</td>\n",
       "      <td>1</td>\n",
       "      <td>0</td>\n",
       "      <td>0</td>\n",
       "      <td>1</td>\n",
       "      <td>1</td>\n",
       "      <td>0</td>\n",
       "      <td>0</td>\n",
       "      <td>1</td>\n",
       "    </tr>\n",
       "    <tr>\n",
       "      <th>2</th>\n",
       "      <td>0</td>\n",
       "      <td>1</td>\n",
       "      <td>0</td>\n",
       "      <td>0</td>\n",
       "      <td>1</td>\n",
       "      <td>1</td>\n",
       "      <td>1</td>\n",
       "      <td>1</td>\n",
       "      <td>0</td>\n",
       "      <td>1</td>\n",
       "      <td>...</td>\n",
       "      <td>0</td>\n",
       "      <td>1</td>\n",
       "      <td>1</td>\n",
       "      <td>0</td>\n",
       "      <td>0</td>\n",
       "      <td>1</td>\n",
       "      <td>1</td>\n",
       "      <td>0</td>\n",
       "      <td>0</td>\n",
       "      <td>1</td>\n",
       "    </tr>\n",
       "    <tr>\n",
       "      <th>3</th>\n",
       "      <td>0</td>\n",
       "      <td>0</td>\n",
       "      <td>0</td>\n",
       "      <td>0</td>\n",
       "      <td>1</td>\n",
       "      <td>1</td>\n",
       "      <td>0</td>\n",
       "      <td>0</td>\n",
       "      <td>0</td>\n",
       "      <td>0</td>\n",
       "      <td>...</td>\n",
       "      <td>0</td>\n",
       "      <td>1</td>\n",
       "      <td>1</td>\n",
       "      <td>0</td>\n",
       "      <td>0</td>\n",
       "      <td>1</td>\n",
       "      <td>0</td>\n",
       "      <td>0</td>\n",
       "      <td>0</td>\n",
       "      <td>1</td>\n",
       "    </tr>\n",
       "    <tr>\n",
       "      <th>4</th>\n",
       "      <td>0</td>\n",
       "      <td>0</td>\n",
       "      <td>0</td>\n",
       "      <td>0</td>\n",
       "      <td>0</td>\n",
       "      <td>0</td>\n",
       "      <td>0</td>\n",
       "      <td>0</td>\n",
       "      <td>0</td>\n",
       "      <td>0</td>\n",
       "      <td>...</td>\n",
       "      <td>0</td>\n",
       "      <td>1</td>\n",
       "      <td>1</td>\n",
       "      <td>0</td>\n",
       "      <td>0</td>\n",
       "      <td>0</td>\n",
       "      <td>0</td>\n",
       "      <td>0</td>\n",
       "      <td>0</td>\n",
       "      <td>1</td>\n",
       "    </tr>\n",
       "  </tbody>\n",
       "</table>\n",
       "<p>5 rows × 41 columns</p>\n",
       "</div>"
      ],
      "text/plain": [
       "   24-Hour Check-in  Air Conditioning  Breakfast  Buzzer/Wireless Intercom  \\\n",
       "0                 0                 1          0                         0   \n",
       "1                 0                 0          0                         1   \n",
       "2                 0                 1          0                         0   \n",
       "3                 0                 0          0                         0   \n",
       "4                 0                 0          0                         0   \n",
       "\n",
       "   Cable TV  Carbon Monoxide Detector  Cat(s)  Dog(s)  Doorman  Dryer  ...  \\\n",
       "0         1                         0       0       0        0      1  ...   \n",
       "1         0                         1       0       0        0      1  ...   \n",
       "2         1                         1       1       1        0      1  ...   \n",
       "3         1                         1       0       0        0      0  ...   \n",
       "4         0                         0       0       0        0      0  ...   \n",
       "\n",
       "   Safety Card  Shampoo  Smoke Detector  Smoking Allowed  Suitable for Events  \\\n",
       "0            0        0               0                0                    0   \n",
       "1            1        0               1                0                    0   \n",
       "2            0        1               1                0                    0   \n",
       "3            0        1               1                0                    0   \n",
       "4            0        1               1                0                    0   \n",
       "\n",
       "   TV  Washer  Washer / Dryer  Wheelchair Accessible  Wireless Internet  \n",
       "0   1       1               0                      0                  1  \n",
       "1   1       1               0                      0                  1  \n",
       "2   1       1               0                      0                  1  \n",
       "3   1       0               0                      0                  1  \n",
       "4   0       0               0                      0                  1  \n",
       "\n",
       "[5 rows x 41 columns]"
      ]
     },
     "execution_count": 87,
     "metadata": {},
     "output_type": "execute_result"
    }
   ],
   "source": [
    "\n",
    "amenities_series = new_listings_df['amenities']\n",
    "amenities_series = amenities_series[amenities_series != '{}']\n",
    "\n",
    "# Iterate over rows and format them as list\n",
    "amenities_list = []\n",
    "\n",
    "for index, row in amenities_series.items():\n",
    "    amenities_list.append(row.replace('{','').replace('}','').replace('\"','').split(','))\n",
    "\n",
    "# Convert the list to a data frame\n",
    "amenities_df = pd.Series(amenities_list, name = 'amenities').to_frame()\n",
    "\n",
    "# Create a dummy data frame\n",
    "dummies_amenities_df = amenities_df.drop('amenities', 1).join(\n",
    "    pd.get_dummies(\n",
    "        pd.DataFrame(amenities_df.amenities.tolist()).stack()\n",
    "    ).astype(int).sum(level=0)\n",
    ")\n",
    "\n",
    "# Reset index\n",
    "# dummies_amenities_df = dummies_amenities_df.reset_index(drop=True)\n",
    "dummies_amenities_df[:5]"
   ]
  },
  {
   "cell_type": "code",
   "execution_count": 88,
   "id": "needed-ottawa",
   "metadata": {
    "execution": {
     "iopub.execute_input": "2021-04-27T00:19:14.161195Z",
     "iopub.status.busy": "2021-04-27T00:19:14.160463Z",
     "iopub.status.idle": "2021-04-27T00:19:14.187561Z",
     "shell.execute_reply": "2021-04-27T00:19:14.188128Z"
    },
    "papermill": {
     "duration": 0.180526,
     "end_time": "2021-04-27T00:19:14.188330",
     "exception": false,
     "start_time": "2021-04-27T00:19:14.007804",
     "status": "completed"
    },
    "tags": []
   },
   "outputs": [
    {
     "data": {
      "text/html": [
       "<div>\n",
       "<style scoped>\n",
       "    .dataframe tbody tr th:only-of-type {\n",
       "        vertical-align: middle;\n",
       "    }\n",
       "\n",
       "    .dataframe tbody tr th {\n",
       "        vertical-align: top;\n",
       "    }\n",
       "\n",
       "    .dataframe thead th {\n",
       "        text-align: right;\n",
       "    }\n",
       "</style>\n",
       "<table border=\"1\" class=\"dataframe\">\n",
       "  <thead>\n",
       "    <tr style=\"text-align: right;\">\n",
       "      <th></th>\n",
       "      <th>cancellation_policy_flexible</th>\n",
       "      <th>cancellation_policy_moderate</th>\n",
       "      <th>cancellation_policy_strict</th>\n",
       "      <th>room_type_Entire home/apt</th>\n",
       "      <th>room_type_Private room</th>\n",
       "      <th>room_type_Shared room</th>\n",
       "      <th>property_type_Apartment</th>\n",
       "      <th>property_type_Bed &amp; Breakfast</th>\n",
       "      <th>property_type_Boat</th>\n",
       "      <th>property_type_Bungalow</th>\n",
       "      <th>...</th>\n",
       "      <th>Safety Card</th>\n",
       "      <th>Shampoo</th>\n",
       "      <th>Smoke Detector</th>\n",
       "      <th>Smoking Allowed</th>\n",
       "      <th>Suitable for Events</th>\n",
       "      <th>TV</th>\n",
       "      <th>Washer</th>\n",
       "      <th>Washer / Dryer</th>\n",
       "      <th>Wheelchair Accessible</th>\n",
       "      <th>Wireless Internet</th>\n",
       "    </tr>\n",
       "  </thead>\n",
       "  <tbody>\n",
       "    <tr>\n",
       "      <th>0</th>\n",
       "      <td>0</td>\n",
       "      <td>1</td>\n",
       "      <td>0</td>\n",
       "      <td>1</td>\n",
       "      <td>0</td>\n",
       "      <td>0</td>\n",
       "      <td>1</td>\n",
       "      <td>0</td>\n",
       "      <td>0</td>\n",
       "      <td>0</td>\n",
       "      <td>...</td>\n",
       "      <td>0</td>\n",
       "      <td>0</td>\n",
       "      <td>0</td>\n",
       "      <td>0</td>\n",
       "      <td>0</td>\n",
       "      <td>1</td>\n",
       "      <td>1</td>\n",
       "      <td>0</td>\n",
       "      <td>0</td>\n",
       "      <td>1</td>\n",
       "    </tr>\n",
       "    <tr>\n",
       "      <th>1</th>\n",
       "      <td>0</td>\n",
       "      <td>0</td>\n",
       "      <td>1</td>\n",
       "      <td>1</td>\n",
       "      <td>0</td>\n",
       "      <td>0</td>\n",
       "      <td>1</td>\n",
       "      <td>0</td>\n",
       "      <td>0</td>\n",
       "      <td>0</td>\n",
       "      <td>...</td>\n",
       "      <td>1</td>\n",
       "      <td>0</td>\n",
       "      <td>1</td>\n",
       "      <td>0</td>\n",
       "      <td>0</td>\n",
       "      <td>1</td>\n",
       "      <td>1</td>\n",
       "      <td>0</td>\n",
       "      <td>0</td>\n",
       "      <td>1</td>\n",
       "    </tr>\n",
       "    <tr>\n",
       "      <th>2</th>\n",
       "      <td>0</td>\n",
       "      <td>0</td>\n",
       "      <td>1</td>\n",
       "      <td>1</td>\n",
       "      <td>0</td>\n",
       "      <td>0</td>\n",
       "      <td>0</td>\n",
       "      <td>0</td>\n",
       "      <td>0</td>\n",
       "      <td>0</td>\n",
       "      <td>...</td>\n",
       "      <td>0</td>\n",
       "      <td>1</td>\n",
       "      <td>1</td>\n",
       "      <td>0</td>\n",
       "      <td>0</td>\n",
       "      <td>1</td>\n",
       "      <td>1</td>\n",
       "      <td>0</td>\n",
       "      <td>0</td>\n",
       "      <td>1</td>\n",
       "    </tr>\n",
       "    <tr>\n",
       "      <th>3</th>\n",
       "      <td>0</td>\n",
       "      <td>0</td>\n",
       "      <td>1</td>\n",
       "      <td>1</td>\n",
       "      <td>0</td>\n",
       "      <td>0</td>\n",
       "      <td>0</td>\n",
       "      <td>0</td>\n",
       "      <td>0</td>\n",
       "      <td>0</td>\n",
       "      <td>...</td>\n",
       "      <td>0</td>\n",
       "      <td>1</td>\n",
       "      <td>1</td>\n",
       "      <td>0</td>\n",
       "      <td>0</td>\n",
       "      <td>1</td>\n",
       "      <td>0</td>\n",
       "      <td>0</td>\n",
       "      <td>0</td>\n",
       "      <td>1</td>\n",
       "    </tr>\n",
       "    <tr>\n",
       "      <th>4</th>\n",
       "      <td>0</td>\n",
       "      <td>0</td>\n",
       "      <td>1</td>\n",
       "      <td>0</td>\n",
       "      <td>1</td>\n",
       "      <td>0</td>\n",
       "      <td>0</td>\n",
       "      <td>0</td>\n",
       "      <td>0</td>\n",
       "      <td>0</td>\n",
       "      <td>...</td>\n",
       "      <td>0</td>\n",
       "      <td>1</td>\n",
       "      <td>1</td>\n",
       "      <td>0</td>\n",
       "      <td>0</td>\n",
       "      <td>0</td>\n",
       "      <td>0</td>\n",
       "      <td>0</td>\n",
       "      <td>0</td>\n",
       "      <td>1</td>\n",
       "    </tr>\n",
       "  </tbody>\n",
       "</table>\n",
       "<p>5 rows × 68 columns</p>\n",
       "</div>"
      ],
      "text/plain": [
       "   cancellation_policy_flexible  cancellation_policy_moderate  \\\n",
       "0                             0                             1   \n",
       "1                             0                             0   \n",
       "2                             0                             0   \n",
       "3                             0                             0   \n",
       "4                             0                             0   \n",
       "\n",
       "   cancellation_policy_strict  room_type_Entire home/apt  \\\n",
       "0                           0                          1   \n",
       "1                           1                          1   \n",
       "2                           1                          1   \n",
       "3                           1                          1   \n",
       "4                           1                          0   \n",
       "\n",
       "   room_type_Private room  room_type_Shared room  property_type_Apartment  \\\n",
       "0                       0                      0                        1   \n",
       "1                       0                      0                        1   \n",
       "2                       0                      0                        0   \n",
       "3                       0                      0                        0   \n",
       "4                       1                      0                        0   \n",
       "\n",
       "   property_type_Bed & Breakfast  property_type_Boat  property_type_Bungalow  \\\n",
       "0                              0                   0                       0   \n",
       "1                              0                   0                       0   \n",
       "2                              0                   0                       0   \n",
       "3                              0                   0                       0   \n",
       "4                              0                   0                       0   \n",
       "\n",
       "   ...  Safety Card  Shampoo  Smoke Detector  Smoking Allowed  \\\n",
       "0  ...            0        0               0                0   \n",
       "1  ...            1        0               1                0   \n",
       "2  ...            0        1               1                0   \n",
       "3  ...            0        1               1                0   \n",
       "4  ...            0        1               1                0   \n",
       "\n",
       "   Suitable for Events  TV  Washer  Washer / Dryer  Wheelchair Accessible  \\\n",
       "0                    0   1       1               0                      0   \n",
       "1                    0   1       1               0                      0   \n",
       "2                    0   1       1               0                      0   \n",
       "3                    0   1       0               0                      0   \n",
       "4                    0   0       0               0                      0   \n",
       "\n",
       "   Wireless Internet  \n",
       "0                  1  \n",
       "1                  1  \n",
       "2                  1  \n",
       "3                  1  \n",
       "4                  1  \n",
       "\n",
       "[5 rows x 68 columns]"
      ]
     },
     "execution_count": 88,
     "metadata": {},
     "output_type": "execute_result"
    }
   ],
   "source": [
    "dummy_df = pd.concat([cancellation_policy_dummy_df, room_type_dummy_df, property_type_dummy_df, bed_type_dummy_df, dummies_amenities_df], axis = 1)\n",
    "dummy_df[:5]"
   ]
  },
  {
   "cell_type": "code",
   "execution_count": 89,
   "id": "coupled-opera",
   "metadata": {
    "execution": {
     "iopub.execute_input": "2021-04-27T00:19:14.522570Z",
     "iopub.status.busy": "2021-04-27T00:19:14.516932Z",
     "iopub.status.idle": "2021-04-27T00:19:14.556098Z",
     "shell.execute_reply": "2021-04-27T00:19:14.553326Z"
    },
    "papermill": {
     "duration": 0.214617,
     "end_time": "2021-04-27T00:19:14.556409",
     "exception": false,
     "start_time": "2021-04-27T00:19:14.341792",
     "status": "completed"
    },
    "tags": []
   },
   "outputs": [
    {
     "data": {
      "text/html": [
       "<div>\n",
       "<style scoped>\n",
       "    .dataframe tbody tr th:only-of-type {\n",
       "        vertical-align: middle;\n",
       "    }\n",
       "\n",
       "    .dataframe tbody tr th {\n",
       "        vertical-align: top;\n",
       "    }\n",
       "\n",
       "    .dataframe thead th {\n",
       "        text-align: right;\n",
       "    }\n",
       "</style>\n",
       "<table border=\"1\" class=\"dataframe\">\n",
       "  <thead>\n",
       "    <tr style=\"text-align: right;\">\n",
       "      <th></th>\n",
       "      <th>id</th>\n",
       "      <th>accommodates</th>\n",
       "      <th>bathrooms</th>\n",
       "      <th>bedrooms</th>\n",
       "      <th>beds</th>\n",
       "      <th>number_of_reviews</th>\n",
       "      <th>review_scores_rating</th>\n",
       "      <th>review_scores_accuracy</th>\n",
       "      <th>review_scores_cleanliness</th>\n",
       "      <th>review_scores_checkin</th>\n",
       "      <th>review_scores_communication</th>\n",
       "      <th>review_scores_location</th>\n",
       "      <th>review_scores_value</th>\n",
       "    </tr>\n",
       "  </thead>\n",
       "  <tbody>\n",
       "    <tr>\n",
       "      <th>0</th>\n",
       "      <td>241032</td>\n",
       "      <td>4</td>\n",
       "      <td>1.0</td>\n",
       "      <td>1.0</td>\n",
       "      <td>1.0</td>\n",
       "      <td>207</td>\n",
       "      <td>95.0</td>\n",
       "      <td>10.0</td>\n",
       "      <td>10.0</td>\n",
       "      <td>10.0</td>\n",
       "      <td>10.0</td>\n",
       "      <td>9.0</td>\n",
       "      <td>10.0</td>\n",
       "    </tr>\n",
       "    <tr>\n",
       "      <th>1</th>\n",
       "      <td>953595</td>\n",
       "      <td>4</td>\n",
       "      <td>1.0</td>\n",
       "      <td>1.0</td>\n",
       "      <td>1.0</td>\n",
       "      <td>43</td>\n",
       "      <td>96.0</td>\n",
       "      <td>10.0</td>\n",
       "      <td>10.0</td>\n",
       "      <td>10.0</td>\n",
       "      <td>10.0</td>\n",
       "      <td>10.0</td>\n",
       "      <td>10.0</td>\n",
       "    </tr>\n",
       "    <tr>\n",
       "      <th>2</th>\n",
       "      <td>3308979</td>\n",
       "      <td>11</td>\n",
       "      <td>4.5</td>\n",
       "      <td>5.0</td>\n",
       "      <td>7.0</td>\n",
       "      <td>20</td>\n",
       "      <td>97.0</td>\n",
       "      <td>10.0</td>\n",
       "      <td>10.0</td>\n",
       "      <td>10.0</td>\n",
       "      <td>10.0</td>\n",
       "      <td>10.0</td>\n",
       "      <td>10.0</td>\n",
       "    </tr>\n",
       "    <tr>\n",
       "      <th>3</th>\n",
       "      <td>278830</td>\n",
       "      <td>6</td>\n",
       "      <td>2.0</td>\n",
       "      <td>3.0</td>\n",
       "      <td>3.0</td>\n",
       "      <td>38</td>\n",
       "      <td>92.0</td>\n",
       "      <td>9.0</td>\n",
       "      <td>9.0</td>\n",
       "      <td>10.0</td>\n",
       "      <td>10.0</td>\n",
       "      <td>9.0</td>\n",
       "      <td>9.0</td>\n",
       "    </tr>\n",
       "    <tr>\n",
       "      <th>4</th>\n",
       "      <td>5956968</td>\n",
       "      <td>2</td>\n",
       "      <td>1.0</td>\n",
       "      <td>1.0</td>\n",
       "      <td>1.0</td>\n",
       "      <td>17</td>\n",
       "      <td>95.0</td>\n",
       "      <td>10.0</td>\n",
       "      <td>10.0</td>\n",
       "      <td>10.0</td>\n",
       "      <td>10.0</td>\n",
       "      <td>10.0</td>\n",
       "      <td>10.0</td>\n",
       "    </tr>\n",
       "    <tr>\n",
       "      <th>...</th>\n",
       "      <td>...</td>\n",
       "      <td>...</td>\n",
       "      <td>...</td>\n",
       "      <td>...</td>\n",
       "      <td>...</td>\n",
       "      <td>...</td>\n",
       "      <td>...</td>\n",
       "      <td>...</td>\n",
       "      <td>...</td>\n",
       "      <td>...</td>\n",
       "      <td>...</td>\n",
       "      <td>...</td>\n",
       "      <td>...</td>\n",
       "    </tr>\n",
       "    <tr>\n",
       "      <th>3118</th>\n",
       "      <td>262764</td>\n",
       "      <td>5</td>\n",
       "      <td>1.0</td>\n",
       "      <td>2.0</td>\n",
       "      <td>3.0</td>\n",
       "      <td>5</td>\n",
       "      <td>92.0</td>\n",
       "      <td>9.0</td>\n",
       "      <td>8.0</td>\n",
       "      <td>10.0</td>\n",
       "      <td>10.0</td>\n",
       "      <td>10.0</td>\n",
       "      <td>8.0</td>\n",
       "    </tr>\n",
       "    <tr>\n",
       "      <th>3119</th>\n",
       "      <td>8578490</td>\n",
       "      <td>3</td>\n",
       "      <td>1.0</td>\n",
       "      <td>1.0</td>\n",
       "      <td>1.0</td>\n",
       "      <td>2</td>\n",
       "      <td>100.0</td>\n",
       "      <td>9.0</td>\n",
       "      <td>8.0</td>\n",
       "      <td>10.0</td>\n",
       "      <td>10.0</td>\n",
       "      <td>10.0</td>\n",
       "      <td>10.0</td>\n",
       "    </tr>\n",
       "    <tr>\n",
       "      <th>3120</th>\n",
       "      <td>3383329</td>\n",
       "      <td>4</td>\n",
       "      <td>1.0</td>\n",
       "      <td>1.0</td>\n",
       "      <td>2.0</td>\n",
       "      <td>73</td>\n",
       "      <td>96.0</td>\n",
       "      <td>10.0</td>\n",
       "      <td>10.0</td>\n",
       "      <td>10.0</td>\n",
       "      <td>10.0</td>\n",
       "      <td>9.0</td>\n",
       "      <td>10.0</td>\n",
       "    </tr>\n",
       "    <tr>\n",
       "      <th>3121</th>\n",
       "      <td>8101950</td>\n",
       "      <td>6</td>\n",
       "      <td>2.0</td>\n",
       "      <td>3.0</td>\n",
       "      <td>3.0</td>\n",
       "      <td>1</td>\n",
       "      <td>80.0</td>\n",
       "      <td>8.0</td>\n",
       "      <td>10.0</td>\n",
       "      <td>4.0</td>\n",
       "      <td>8.0</td>\n",
       "      <td>10.0</td>\n",
       "      <td>8.0</td>\n",
       "    </tr>\n",
       "    <tr>\n",
       "      <th>3122</th>\n",
       "      <td>8902327</td>\n",
       "      <td>4</td>\n",
       "      <td>1.0</td>\n",
       "      <td>1.0</td>\n",
       "      <td>2.0</td>\n",
       "      <td>2</td>\n",
       "      <td>100.0</td>\n",
       "      <td>10.0</td>\n",
       "      <td>10.0</td>\n",
       "      <td>10.0</td>\n",
       "      <td>10.0</td>\n",
       "      <td>10.0</td>\n",
       "      <td>10.0</td>\n",
       "    </tr>\n",
       "  </tbody>\n",
       "</table>\n",
       "<p>3123 rows × 13 columns</p>\n",
       "</div>"
      ],
      "text/plain": [
       "           id  accommodates  bathrooms  bedrooms  beds  number_of_reviews  \\\n",
       "0      241032             4        1.0       1.0   1.0                207   \n",
       "1      953595             4        1.0       1.0   1.0                 43   \n",
       "2     3308979            11        4.5       5.0   7.0                 20   \n",
       "3      278830             6        2.0       3.0   3.0                 38   \n",
       "4     5956968             2        1.0       1.0   1.0                 17   \n",
       "...       ...           ...        ...       ...   ...                ...   \n",
       "3118   262764             5        1.0       2.0   3.0                  5   \n",
       "3119  8578490             3        1.0       1.0   1.0                  2   \n",
       "3120  3383329             4        1.0       1.0   2.0                 73   \n",
       "3121  8101950             6        2.0       3.0   3.0                  1   \n",
       "3122  8902327             4        1.0       1.0   2.0                  2   \n",
       "\n",
       "      review_scores_rating  review_scores_accuracy  review_scores_cleanliness  \\\n",
       "0                     95.0                    10.0                       10.0   \n",
       "1                     96.0                    10.0                       10.0   \n",
       "2                     97.0                    10.0                       10.0   \n",
       "3                     92.0                     9.0                        9.0   \n",
       "4                     95.0                    10.0                       10.0   \n",
       "...                    ...                     ...                        ...   \n",
       "3118                  92.0                     9.0                        8.0   \n",
       "3119                 100.0                     9.0                        8.0   \n",
       "3120                  96.0                    10.0                       10.0   \n",
       "3121                  80.0                     8.0                       10.0   \n",
       "3122                 100.0                    10.0                       10.0   \n",
       "\n",
       "      review_scores_checkin  review_scores_communication  \\\n",
       "0                      10.0                         10.0   \n",
       "1                      10.0                         10.0   \n",
       "2                      10.0                         10.0   \n",
       "3                      10.0                         10.0   \n",
       "4                      10.0                         10.0   \n",
       "...                     ...                          ...   \n",
       "3118                   10.0                         10.0   \n",
       "3119                   10.0                         10.0   \n",
       "3120                   10.0                         10.0   \n",
       "3121                    4.0                          8.0   \n",
       "3122                   10.0                         10.0   \n",
       "\n",
       "      review_scores_location  review_scores_value  \n",
       "0                        9.0                 10.0  \n",
       "1                       10.0                 10.0  \n",
       "2                       10.0                 10.0  \n",
       "3                        9.0                  9.0  \n",
       "4                       10.0                 10.0  \n",
       "...                      ...                  ...  \n",
       "3118                    10.0                  8.0  \n",
       "3119                    10.0                 10.0  \n",
       "3120                     9.0                 10.0  \n",
       "3121                    10.0                  8.0  \n",
       "3122                    10.0                 10.0  \n",
       "\n",
       "[3123 rows x 13 columns]"
      ]
     },
     "execution_count": 89,
     "metadata": {},
     "output_type": "execute_result"
    }
   ],
   "source": [
    "new_listings_df.select_dtypes(include = ['int', 'float'])"
   ]
  },
  {
   "cell_type": "code",
   "execution_count": 90,
   "id": "backed-worry",
   "metadata": {
    "execution": {
     "iopub.execute_input": "2021-04-27T00:19:14.882278Z",
     "iopub.status.busy": "2021-04-27T00:19:14.880924Z",
     "iopub.status.idle": "2021-04-27T00:19:14.917288Z",
     "shell.execute_reply": "2021-04-27T00:19:14.916276Z"
    },
    "papermill": {
     "duration": 0.198132,
     "end_time": "2021-04-27T00:19:14.917510",
     "exception": false,
     "start_time": "2021-04-27T00:19:14.719378",
     "status": "completed"
    },
    "tags": []
   },
   "outputs": [
    {
     "data": {
      "text/html": [
       "<div>\n",
       "<style scoped>\n",
       "    .dataframe tbody tr th:only-of-type {\n",
       "        vertical-align: middle;\n",
       "    }\n",
       "\n",
       "    .dataframe tbody tr th {\n",
       "        vertical-align: top;\n",
       "    }\n",
       "\n",
       "    .dataframe thead th {\n",
       "        text-align: right;\n",
       "    }\n",
       "</style>\n",
       "<table border=\"1\" class=\"dataframe\">\n",
       "  <thead>\n",
       "    <tr style=\"text-align: right;\">\n",
       "      <th></th>\n",
       "      <th>id</th>\n",
       "      <th>accommodates</th>\n",
       "      <th>bathrooms</th>\n",
       "      <th>bedrooms</th>\n",
       "      <th>beds</th>\n",
       "      <th>number_of_reviews</th>\n",
       "      <th>review_scores_rating</th>\n",
       "      <th>review_scores_accuracy</th>\n",
       "      <th>review_scores_cleanliness</th>\n",
       "      <th>review_scores_checkin</th>\n",
       "      <th>...</th>\n",
       "      <th>Safety Card</th>\n",
       "      <th>Shampoo</th>\n",
       "      <th>Smoke Detector</th>\n",
       "      <th>Smoking Allowed</th>\n",
       "      <th>Suitable for Events</th>\n",
       "      <th>TV</th>\n",
       "      <th>Washer</th>\n",
       "      <th>Washer / Dryer</th>\n",
       "      <th>Wheelchair Accessible</th>\n",
       "      <th>Wireless Internet</th>\n",
       "    </tr>\n",
       "  </thead>\n",
       "  <tbody>\n",
       "    <tr>\n",
       "      <th>0</th>\n",
       "      <td>241032</td>\n",
       "      <td>4</td>\n",
       "      <td>1.0</td>\n",
       "      <td>1.0</td>\n",
       "      <td>1.0</td>\n",
       "      <td>207</td>\n",
       "      <td>95.0</td>\n",
       "      <td>10.0</td>\n",
       "      <td>10.0</td>\n",
       "      <td>10.0</td>\n",
       "      <td>...</td>\n",
       "      <td>0</td>\n",
       "      <td>0</td>\n",
       "      <td>0</td>\n",
       "      <td>0</td>\n",
       "      <td>0</td>\n",
       "      <td>1</td>\n",
       "      <td>1</td>\n",
       "      <td>0</td>\n",
       "      <td>0</td>\n",
       "      <td>1</td>\n",
       "    </tr>\n",
       "    <tr>\n",
       "      <th>1</th>\n",
       "      <td>953595</td>\n",
       "      <td>4</td>\n",
       "      <td>1.0</td>\n",
       "      <td>1.0</td>\n",
       "      <td>1.0</td>\n",
       "      <td>43</td>\n",
       "      <td>96.0</td>\n",
       "      <td>10.0</td>\n",
       "      <td>10.0</td>\n",
       "      <td>10.0</td>\n",
       "      <td>...</td>\n",
       "      <td>1</td>\n",
       "      <td>0</td>\n",
       "      <td>1</td>\n",
       "      <td>0</td>\n",
       "      <td>0</td>\n",
       "      <td>1</td>\n",
       "      <td>1</td>\n",
       "      <td>0</td>\n",
       "      <td>0</td>\n",
       "      <td>1</td>\n",
       "    </tr>\n",
       "    <tr>\n",
       "      <th>2</th>\n",
       "      <td>3308979</td>\n",
       "      <td>11</td>\n",
       "      <td>4.5</td>\n",
       "      <td>5.0</td>\n",
       "      <td>7.0</td>\n",
       "      <td>20</td>\n",
       "      <td>97.0</td>\n",
       "      <td>10.0</td>\n",
       "      <td>10.0</td>\n",
       "      <td>10.0</td>\n",
       "      <td>...</td>\n",
       "      <td>0</td>\n",
       "      <td>1</td>\n",
       "      <td>1</td>\n",
       "      <td>0</td>\n",
       "      <td>0</td>\n",
       "      <td>1</td>\n",
       "      <td>1</td>\n",
       "      <td>0</td>\n",
       "      <td>0</td>\n",
       "      <td>1</td>\n",
       "    </tr>\n",
       "    <tr>\n",
       "      <th>3</th>\n",
       "      <td>278830</td>\n",
       "      <td>6</td>\n",
       "      <td>2.0</td>\n",
       "      <td>3.0</td>\n",
       "      <td>3.0</td>\n",
       "      <td>38</td>\n",
       "      <td>92.0</td>\n",
       "      <td>9.0</td>\n",
       "      <td>9.0</td>\n",
       "      <td>10.0</td>\n",
       "      <td>...</td>\n",
       "      <td>0</td>\n",
       "      <td>1</td>\n",
       "      <td>1</td>\n",
       "      <td>0</td>\n",
       "      <td>0</td>\n",
       "      <td>1</td>\n",
       "      <td>0</td>\n",
       "      <td>0</td>\n",
       "      <td>0</td>\n",
       "      <td>1</td>\n",
       "    </tr>\n",
       "    <tr>\n",
       "      <th>4</th>\n",
       "      <td>5956968</td>\n",
       "      <td>2</td>\n",
       "      <td>1.0</td>\n",
       "      <td>1.0</td>\n",
       "      <td>1.0</td>\n",
       "      <td>17</td>\n",
       "      <td>95.0</td>\n",
       "      <td>10.0</td>\n",
       "      <td>10.0</td>\n",
       "      <td>10.0</td>\n",
       "      <td>...</td>\n",
       "      <td>0</td>\n",
       "      <td>1</td>\n",
       "      <td>1</td>\n",
       "      <td>0</td>\n",
       "      <td>0</td>\n",
       "      <td>0</td>\n",
       "      <td>0</td>\n",
       "      <td>0</td>\n",
       "      <td>0</td>\n",
       "      <td>1</td>\n",
       "    </tr>\n",
       "  </tbody>\n",
       "</table>\n",
       "<p>5 rows × 86 columns</p>\n",
       "</div>"
      ],
      "text/plain": [
       "        id  accommodates  bathrooms  bedrooms  beds  number_of_reviews  \\\n",
       "0   241032             4        1.0       1.0   1.0                207   \n",
       "1   953595             4        1.0       1.0   1.0                 43   \n",
       "2  3308979            11        4.5       5.0   7.0                 20   \n",
       "3   278830             6        2.0       3.0   3.0                 38   \n",
       "4  5956968             2        1.0       1.0   1.0                 17   \n",
       "\n",
       "   review_scores_rating  review_scores_accuracy  review_scores_cleanliness  \\\n",
       "0                  95.0                    10.0                       10.0   \n",
       "1                  96.0                    10.0                       10.0   \n",
       "2                  97.0                    10.0                       10.0   \n",
       "3                  92.0                     9.0                        9.0   \n",
       "4                  95.0                    10.0                       10.0   \n",
       "\n",
       "   review_scores_checkin  ...  Safety Card  Shampoo  Smoke Detector  \\\n",
       "0                   10.0  ...            0        0               0   \n",
       "1                   10.0  ...            1        0               1   \n",
       "2                   10.0  ...            0        1               1   \n",
       "3                   10.0  ...            0        1               1   \n",
       "4                   10.0  ...            0        1               1   \n",
       "\n",
       "   Smoking Allowed  Suitable for Events  TV  Washer  Washer / Dryer  \\\n",
       "0                0                    0   1       1               0   \n",
       "1                0                    0   1       1               0   \n",
       "2                0                    0   1       1               0   \n",
       "3                0                    0   1       0               0   \n",
       "4                0                    0   0       0               0   \n",
       "\n",
       "   Wheelchair Accessible  Wireless Internet  \n",
       "0                      0                  1  \n",
       "1                      0                  1  \n",
       "2                      0                  1  \n",
       "3                      0                  1  \n",
       "4                      0                  1  \n",
       "\n",
       "[5 rows x 86 columns]"
      ]
     },
     "execution_count": 90,
     "metadata": {},
     "output_type": "execute_result"
    }
   ],
   "source": [
    "concat_listings_df = pd.concat([new_listings_df.select_dtypes(include = ['int', 'float']), new_listings_price_df, dummy_df], axis = 1)\n",
    "concat_listings_df[:5]"
   ]
  },
  {
   "cell_type": "code",
   "execution_count": 91,
   "id": "inside-dutch",
   "metadata": {
    "execution": {
     "iopub.execute_input": "2021-04-27T00:19:15.243600Z",
     "iopub.status.busy": "2021-04-27T00:19:15.242521Z",
     "iopub.status.idle": "2021-04-27T00:19:15.252255Z",
     "shell.execute_reply": "2021-04-27T00:19:15.251430Z"
    },
    "papermill": {
     "duration": 0.173284,
     "end_time": "2021-04-27T00:19:15.252459",
     "exception": false,
     "start_time": "2021-04-27T00:19:15.079175",
     "status": "completed"
    },
    "tags": []
   },
   "outputs": [
    {
     "data": {
      "text/plain": [
       "0"
      ]
     },
     "execution_count": 91,
     "metadata": {},
     "output_type": "execute_result"
    }
   ],
   "source": [
    "concat_listings_df.isna().sum().sum()"
   ]
  },
  {
   "cell_type": "code",
   "execution_count": 92,
   "id": "impaired-ghost",
   "metadata": {
    "execution": {
     "iopub.execute_input": "2021-04-27T00:19:15.553809Z",
     "iopub.status.busy": "2021-04-27T00:19:15.553130Z",
     "iopub.status.idle": "2021-04-27T00:19:15.627018Z",
     "shell.execute_reply": "2021-04-27T00:19:15.626367Z"
    },
    "papermill": {
     "duration": 0.224701,
     "end_time": "2021-04-27T00:19:15.627189",
     "exception": false,
     "start_time": "2021-04-27T00:19:15.402488",
     "status": "completed"
    },
    "tags": []
   },
   "outputs": [
    {
     "data": {
      "text/html": [
       "<div>\n",
       "<style scoped>\n",
       "    .dataframe tbody tr th:only-of-type {\n",
       "        vertical-align: middle;\n",
       "    }\n",
       "\n",
       "    .dataframe tbody tr th {\n",
       "        vertical-align: top;\n",
       "    }\n",
       "\n",
       "    .dataframe thead th {\n",
       "        text-align: right;\n",
       "    }\n",
       "</style>\n",
       "<table border=\"1\" class=\"dataframe\">\n",
       "  <thead>\n",
       "    <tr style=\"text-align: right;\">\n",
       "      <th></th>\n",
       "      <th>listing_id</th>\n",
       "      <th>date</th>\n",
       "      <th>available</th>\n",
       "      <th>price</th>\n",
       "    </tr>\n",
       "  </thead>\n",
       "  <tbody>\n",
       "    <tr>\n",
       "      <th>0</th>\n",
       "      <td>241032</td>\n",
       "      <td>2016-01-04</td>\n",
       "      <td>t</td>\n",
       "      <td>$85.00</td>\n",
       "    </tr>\n",
       "    <tr>\n",
       "      <th>1</th>\n",
       "      <td>241032</td>\n",
       "      <td>2016-01-05</td>\n",
       "      <td>t</td>\n",
       "      <td>$85.00</td>\n",
       "    </tr>\n",
       "    <tr>\n",
       "      <th>2</th>\n",
       "      <td>241032</td>\n",
       "      <td>2016-01-06</td>\n",
       "      <td>f</td>\n",
       "      <td>NaN</td>\n",
       "    </tr>\n",
       "    <tr>\n",
       "      <th>3</th>\n",
       "      <td>241032</td>\n",
       "      <td>2016-01-07</td>\n",
       "      <td>f</td>\n",
       "      <td>NaN</td>\n",
       "    </tr>\n",
       "    <tr>\n",
       "      <th>4</th>\n",
       "      <td>241032</td>\n",
       "      <td>2016-01-08</td>\n",
       "      <td>f</td>\n",
       "      <td>NaN</td>\n",
       "    </tr>\n",
       "    <tr>\n",
       "      <th>...</th>\n",
       "      <td>...</td>\n",
       "      <td>...</td>\n",
       "      <td>...</td>\n",
       "      <td>...</td>\n",
       "    </tr>\n",
       "    <tr>\n",
       "      <th>1393565</th>\n",
       "      <td>10208623</td>\n",
       "      <td>2016-12-29</td>\n",
       "      <td>f</td>\n",
       "      <td>NaN</td>\n",
       "    </tr>\n",
       "    <tr>\n",
       "      <th>1393566</th>\n",
       "      <td>10208623</td>\n",
       "      <td>2016-12-30</td>\n",
       "      <td>f</td>\n",
       "      <td>NaN</td>\n",
       "    </tr>\n",
       "    <tr>\n",
       "      <th>1393567</th>\n",
       "      <td>10208623</td>\n",
       "      <td>2016-12-31</td>\n",
       "      <td>f</td>\n",
       "      <td>NaN</td>\n",
       "    </tr>\n",
       "    <tr>\n",
       "      <th>1393568</th>\n",
       "      <td>10208623</td>\n",
       "      <td>2017-01-01</td>\n",
       "      <td>f</td>\n",
       "      <td>NaN</td>\n",
       "    </tr>\n",
       "    <tr>\n",
       "      <th>1393569</th>\n",
       "      <td>10208623</td>\n",
       "      <td>2017-01-02</td>\n",
       "      <td>f</td>\n",
       "      <td>NaN</td>\n",
       "    </tr>\n",
       "  </tbody>\n",
       "</table>\n",
       "<p>1393570 rows × 4 columns</p>\n",
       "</div>"
      ],
      "text/plain": [
       "         listing_id        date available   price\n",
       "0            241032  2016-01-04         t  $85.00\n",
       "1            241032  2016-01-05         t  $85.00\n",
       "2            241032  2016-01-06         f     NaN\n",
       "3            241032  2016-01-07         f     NaN\n",
       "4            241032  2016-01-08         f     NaN\n",
       "...             ...         ...       ...     ...\n",
       "1393565    10208623  2016-12-29         f     NaN\n",
       "1393566    10208623  2016-12-30         f     NaN\n",
       "1393567    10208623  2016-12-31         f     NaN\n",
       "1393568    10208623  2017-01-01         f     NaN\n",
       "1393569    10208623  2017-01-02         f     NaN\n",
       "\n",
       "[1393570 rows x 4 columns]"
      ]
     },
     "execution_count": 92,
     "metadata": {},
     "output_type": "execute_result"
    }
   ],
   "source": [
    "new_calender_df = calender_df.copy()\n",
    "new_calender_df"
   ]
  },
  {
   "cell_type": "code",
   "execution_count": 93,
   "id": "mysterious-stylus",
   "metadata": {
    "execution": {
     "iopub.execute_input": "2021-04-27T00:19:16.355469Z",
     "iopub.status.busy": "2021-04-27T00:19:16.354717Z",
     "iopub.status.idle": "2021-04-27T00:19:18.500752Z",
     "shell.execute_reply": "2021-04-27T00:19:18.500047Z"
    },
    "papermill": {
     "duration": 2.724769,
     "end_time": "2021-04-27T00:19:18.500943",
     "exception": false,
     "start_time": "2021-04-27T00:19:15.776174",
     "status": "completed"
    },
    "tags": []
   },
   "outputs": [
    {
     "name": "stderr",
     "output_type": "stream",
     "text": [
      "/opt/conda/lib/python3.7/site-packages/ipykernel_launcher.py:2: FutureWarning: The default value of regex will change from True to False in a future version. In addition, single character regular expressions will*not* be treated as literal strings when regex=True.\n",
      "  \n"
     ]
    },
    {
     "data": {
      "text/html": [
       "<div>\n",
       "<style scoped>\n",
       "    .dataframe tbody tr th:only-of-type {\n",
       "        vertical-align: middle;\n",
       "    }\n",
       "\n",
       "    .dataframe tbody tr th {\n",
       "        vertical-align: top;\n",
       "    }\n",
       "\n",
       "    .dataframe thead th {\n",
       "        text-align: right;\n",
       "    }\n",
       "</style>\n",
       "<table border=\"1\" class=\"dataframe\">\n",
       "  <thead>\n",
       "    <tr style=\"text-align: right;\">\n",
       "      <th></th>\n",
       "      <th>listing_id</th>\n",
       "      <th>date</th>\n",
       "      <th>available</th>\n",
       "      <th>price</th>\n",
       "    </tr>\n",
       "  </thead>\n",
       "  <tbody>\n",
       "    <tr>\n",
       "      <th>0</th>\n",
       "      <td>241032</td>\n",
       "      <td>2016-01-04</td>\n",
       "      <td>True</td>\n",
       "      <td>85.0</td>\n",
       "    </tr>\n",
       "    <tr>\n",
       "      <th>1</th>\n",
       "      <td>241032</td>\n",
       "      <td>2016-01-05</td>\n",
       "      <td>True</td>\n",
       "      <td>85.0</td>\n",
       "    </tr>\n",
       "    <tr>\n",
       "      <th>2</th>\n",
       "      <td>241032</td>\n",
       "      <td>2016-01-06</td>\n",
       "      <td>False</td>\n",
       "      <td>NaN</td>\n",
       "    </tr>\n",
       "    <tr>\n",
       "      <th>3</th>\n",
       "      <td>241032</td>\n",
       "      <td>2016-01-07</td>\n",
       "      <td>False</td>\n",
       "      <td>NaN</td>\n",
       "    </tr>\n",
       "    <tr>\n",
       "      <th>4</th>\n",
       "      <td>241032</td>\n",
       "      <td>2016-01-08</td>\n",
       "      <td>False</td>\n",
       "      <td>NaN</td>\n",
       "    </tr>\n",
       "    <tr>\n",
       "      <th>...</th>\n",
       "      <td>...</td>\n",
       "      <td>...</td>\n",
       "      <td>...</td>\n",
       "      <td>...</td>\n",
       "    </tr>\n",
       "    <tr>\n",
       "      <th>1393565</th>\n",
       "      <td>10208623</td>\n",
       "      <td>2016-12-29</td>\n",
       "      <td>False</td>\n",
       "      <td>NaN</td>\n",
       "    </tr>\n",
       "    <tr>\n",
       "      <th>1393566</th>\n",
       "      <td>10208623</td>\n",
       "      <td>2016-12-30</td>\n",
       "      <td>False</td>\n",
       "      <td>NaN</td>\n",
       "    </tr>\n",
       "    <tr>\n",
       "      <th>1393567</th>\n",
       "      <td>10208623</td>\n",
       "      <td>2016-12-31</td>\n",
       "      <td>False</td>\n",
       "      <td>NaN</td>\n",
       "    </tr>\n",
       "    <tr>\n",
       "      <th>1393568</th>\n",
       "      <td>10208623</td>\n",
       "      <td>2017-01-01</td>\n",
       "      <td>False</td>\n",
       "      <td>NaN</td>\n",
       "    </tr>\n",
       "    <tr>\n",
       "      <th>1393569</th>\n",
       "      <td>10208623</td>\n",
       "      <td>2017-01-02</td>\n",
       "      <td>False</td>\n",
       "      <td>NaN</td>\n",
       "    </tr>\n",
       "  </tbody>\n",
       "</table>\n",
       "<p>1393570 rows × 4 columns</p>\n",
       "</div>"
      ],
      "text/plain": [
       "         listing_id       date  available  price\n",
       "0            241032 2016-01-04       True   85.0\n",
       "1            241032 2016-01-05       True   85.0\n",
       "2            241032 2016-01-06      False    NaN\n",
       "3            241032 2016-01-07      False    NaN\n",
       "4            241032 2016-01-08      False    NaN\n",
       "...             ...        ...        ...    ...\n",
       "1393565    10208623 2016-12-29      False    NaN\n",
       "1393566    10208623 2016-12-30      False    NaN\n",
       "1393567    10208623 2016-12-31      False    NaN\n",
       "1393568    10208623 2017-01-01      False    NaN\n",
       "1393569    10208623 2017-01-02      False    NaN\n",
       "\n",
       "[1393570 rows x 4 columns]"
      ]
     },
     "execution_count": 93,
     "metadata": {},
     "output_type": "execute_result"
    }
   ],
   "source": [
    "new_calender_df['date'] = pd.to_datetime(new_calender_df['date']) \n",
    "new_calender_df['price'] = new_calender_df['price'].str.replace('$','').str.replace(',','').astype(float)\n",
    "new_calender_df['available'] = new_calender_df['available'].replace({'t': True, 'f': False})\n",
    "new_calender_df"
   ]
  },
  {
   "cell_type": "code",
   "execution_count": 94,
   "id": "shaped-writer",
   "metadata": {
    "execution": {
     "iopub.execute_input": "2021-04-27T00:19:18.826640Z",
     "iopub.status.busy": "2021-04-27T00:19:18.825769Z",
     "iopub.status.idle": "2021-04-27T00:19:19.167842Z",
     "shell.execute_reply": "2021-04-27T00:19:19.167209Z"
    },
    "papermill": {
     "duration": 0.512441,
     "end_time": "2021-04-27T00:19:19.168028",
     "exception": false,
     "start_time": "2021-04-27T00:19:18.655587",
     "status": "completed"
    },
    "tags": []
   },
   "outputs": [
    {
     "data": {
      "image/png": "[encoded data removed]",
      "text/plain": [
       "<Figure size 432x288 with 1 Axes>"
      ]
     },
     "metadata": {
      "needs_background": "light"
     },
     "output_type": "display_data"
    }
   ],
   "source": [
    "new_calender_df['price'].plot();"
   ]
  },
  {
   "cell_type": "code",
   "execution_count": 95,
   "id": "precious-skirt",
   "metadata": {
    "execution": {
     "iopub.execute_input": "2021-04-27T00:19:19.485680Z",
     "iopub.status.busy": "2021-04-27T00:19:19.484924Z",
     "iopub.status.idle": "2021-04-27T00:19:19.540174Z",
     "shell.execute_reply": "2021-04-27T00:19:19.539428Z"
    },
    "papermill": {
     "duration": 0.214639,
     "end_time": "2021-04-27T00:19:19.540357",
     "exception": false,
     "start_time": "2021-04-27T00:19:19.325718",
     "status": "completed"
    },
    "tags": []
   },
   "outputs": [
    {
     "data": {
      "text/plain": [
       "listing_id\n",
       "3335        309\n",
       "4291        365\n",
       "5682        309\n",
       "6606        365\n",
       "7369         53\n",
       "           ... \n",
       "10332096    365\n",
       "10334184    361\n",
       "10339144      0\n",
       "10339145    365\n",
       "10340165    358\n",
       "Name: available, Length: 3818, dtype: int64"
      ]
     },
     "execution_count": 95,
     "metadata": {},
     "output_type": "execute_result"
    }
   ],
   "source": [
    "new_calender_df.groupby('listing_id')['available'].sum()"
   ]
  },
  {
   "cell_type": "code",
   "execution_count": 96,
   "id": "speaking-effort",
   "metadata": {
    "execution": {
     "iopub.execute_input": "2021-04-27T00:19:19.890176Z",
     "iopub.status.busy": "2021-04-27T00:19:19.889440Z",
     "iopub.status.idle": "2021-04-27T00:19:19.925370Z",
     "shell.execute_reply": "2021-04-27T00:19:19.925937Z"
    },
    "papermill": {
     "duration": 0.228901,
     "end_time": "2021-04-27T00:19:19.926165",
     "exception": false,
     "start_time": "2021-04-27T00:19:19.697264",
     "status": "completed"
    },
    "tags": []
   },
   "outputs": [
    {
     "data": {
      "text/plain": [
       "365"
      ]
     },
     "execution_count": 96,
     "metadata": {},
     "output_type": "execute_result"
    }
   ],
   "source": [
    "new_calender_df.groupby('listing_id')['available'].sum().max()"
   ]
  },
  {
   "cell_type": "code",
   "execution_count": 97,
   "id": "colonial-circulation",
   "metadata": {
    "execution": {
     "iopub.execute_input": "2021-04-27T00:19:20.256759Z",
     "iopub.status.busy": "2021-04-27T00:19:20.255912Z",
     "iopub.status.idle": "2021-04-27T00:19:20.289730Z",
     "shell.execute_reply": "2021-04-27T00:19:20.289061Z"
    },
    "papermill": {
     "duration": 0.200733,
     "end_time": "2021-04-27T00:19:20.289910",
     "exception": false,
     "start_time": "2021-04-27T00:19:20.089177",
     "status": "completed"
    },
    "tags": []
   },
   "outputs": [
    {
     "data": {
      "text/plain": [
       "95"
      ]
     },
     "execution_count": 97,
     "metadata": {},
     "output_type": "execute_result"
    }
   ],
   "source": [
    "np.sum(new_calender_df.groupby('listing_id')['available'].sum() == 0)"
   ]
  },
  {
   "cell_type": "code",
   "execution_count": 98,
   "id": "humanitarian-boxing",
   "metadata": {
    "execution": {
     "iopub.execute_input": "2021-04-27T00:19:20.593507Z",
     "iopub.status.busy": "2021-04-27T00:19:20.592774Z",
     "iopub.status.idle": "2021-04-27T00:19:20.808258Z",
     "shell.execute_reply": "2021-04-27T00:19:20.807142Z"
    },
    "papermill": {
     "duration": 0.373884,
     "end_time": "2021-04-27T00:19:20.808442",
     "exception": false,
     "start_time": "2021-04-27T00:19:20.434558",
     "status": "completed"
    },
    "tags": []
   },
   "outputs": [
    {
     "data": {
      "image/png": "[encoded data removed]",
      "text/plain": [
       "<Figure size 432x288 with 1 Axes>"
      ]
     },
     "metadata": {
      "needs_background": "light"
     },
     "output_type": "display_data"
    }
   ],
   "source": [
    "listing_id_available_count = new_calender_df.groupby('listing_id')['available'].sum().loc[lambda x : x != 0]\n",
    "listing_id_available_count.plot(kind='hist');"
   ]
  },
  {
   "cell_type": "code",
   "execution_count": 99,
   "id": "patent-night",
   "metadata": {
    "execution": {
     "iopub.execute_input": "2021-04-27T00:19:21.125241Z",
     "iopub.status.busy": "2021-04-27T00:19:21.124468Z",
     "iopub.status.idle": "2021-04-27T00:19:21.128987Z",
     "shell.execute_reply": "2021-04-27T00:19:21.129513Z"
    },
    "papermill": {
     "duration": 0.167107,
     "end_time": "2021-04-27T00:19:21.129709",
     "exception": false,
     "start_time": "2021-04-27T00:19:20.962602",
     "status": "completed"
    },
    "tags": []
   },
   "outputs": [
    {
     "data": {
      "text/plain": [
       "678"
      ]
     },
     "execution_count": 99,
     "metadata": {},
     "output_type": "execute_result"
    }
   ],
   "source": [
    "listing_id_available_count[listing_id_available_count == 365].count()"
   ]
  },
  {
   "cell_type": "code",
   "execution_count": 100,
   "id": "palestinian-kuwait",
   "metadata": {
    "execution": {
     "iopub.execute_input": "2021-04-27T00:19:21.452041Z",
     "iopub.status.busy": "2021-04-27T00:19:21.451342Z",
     "iopub.status.idle": "2021-04-27T00:19:21.586609Z",
     "shell.execute_reply": "2021-04-27T00:19:21.587108Z"
    },
    "papermill": {
     "duration": 0.297977,
     "end_time": "2021-04-27T00:19:21.587309",
     "exception": false,
     "start_time": "2021-04-27T00:19:21.289332",
     "status": "completed"
    },
    "tags": []
   },
   "outputs": [
    {
     "data": {
      "text/plain": [
       "0"
      ]
     },
     "execution_count": 100,
     "metadata": {},
     "output_type": "execute_result"
    }
   ],
   "source": [
    "always_f_listing_id = list(new_calender_df.groupby('listing_id')['available'].sum().loc[lambda x : x == 0].index.values)\n",
    "# Drop these rows\n",
    "clean_calender_df = new_calender_df[~new_calender_df['listing_id'].isin(always_f_listing_id)]\n",
    "np.sum(clean_calender_df.groupby('listing_id')['available'].sum() == 0)"
   ]
  },
  {
   "cell_type": "code",
   "execution_count": 101,
   "id": "floral-determination",
   "metadata": {
    "execution": {
     "iopub.execute_input": "2021-04-27T00:19:21.904810Z",
     "iopub.status.busy": "2021-04-27T00:19:21.903842Z",
     "iopub.status.idle": "2021-04-27T00:19:22.296571Z",
     "shell.execute_reply": "2021-04-27T00:19:22.297937Z"
    },
    "papermill": {
     "duration": 0.558893,
     "end_time": "2021-04-27T00:19:22.298200",
     "exception": false,
     "start_time": "2021-04-27T00:19:21.739307",
     "status": "completed"
    },
    "tags": []
   },
   "outputs": [
    {
     "name": "stderr",
     "output_type": "stream",
     "text": [
      "/opt/conda/lib/python3.7/site-packages/ipykernel_launcher.py:1: SettingWithCopyWarning: \n",
      "A value is trying to be set on a copy of a slice from a DataFrame.\n",
      "Try using .loc[row_indexer,col_indexer] = value instead\n",
      "\n",
      "See the caveats in the documentation: https://pandas.pydata.org/pandas-docs/stable/user_guide/indexing.html#returning-a-view-versus-a-copy\n",
      "  \"\"\"Entry point for launching an IPython kernel.\n",
      "/opt/conda/lib/python3.7/site-packages/ipykernel_launcher.py:2: SettingWithCopyWarning: \n",
      "A value is trying to be set on a copy of a slice from a DataFrame.\n",
      "Try using .loc[row_indexer,col_indexer] = value instead\n",
      "\n",
      "See the caveats in the documentation: https://pandas.pydata.org/pandas-docs/stable/user_guide/indexing.html#returning-a-view-versus-a-copy\n",
      "  \n",
      "/opt/conda/lib/python3.7/site-packages/ipykernel_launcher.py:3: SettingWithCopyWarning: \n",
      "A value is trying to be set on a copy of a slice from a DataFrame.\n",
      "Try using .loc[row_indexer,col_indexer] = value instead\n",
      "\n",
      "See the caveats in the documentation: https://pandas.pydata.org/pandas-docs/stable/user_guide/indexing.html#returning-a-view-versus-a-copy\n",
      "  This is separate from the ipykernel package so we can avoid doing imports until\n"
     ]
    }
   ],
   "source": [
    "clean_calender_df['day'] = clean_calender_df['date'].dt.day\n",
    "clean_calender_df['month'] = clean_calender_df['date'].dt.month\n",
    "clean_calender_df['year'] = clean_calender_df['date'].dt.year"
   ]
  },
  {
   "cell_type": "code",
   "execution_count": 102,
   "id": "cathedral-share",
   "metadata": {
    "execution": {
     "iopub.execute_input": "2021-04-27T00:19:22.620479Z",
     "iopub.status.busy": "2021-04-27T00:19:22.619526Z",
     "iopub.status.idle": "2021-04-27T00:19:22.624641Z",
     "shell.execute_reply": "2021-04-27T00:19:22.624004Z"
    },
    "papermill": {
     "duration": 0.170727,
     "end_time": "2021-04-27T00:19:22.624789",
     "exception": false,
     "start_time": "2021-04-27T00:19:22.454062",
     "status": "completed"
    },
    "tags": []
   },
   "outputs": [
    {
     "data": {
      "text/html": [
       "<div>\n",
       "<style scoped>\n",
       "    .dataframe tbody tr th:only-of-type {\n",
       "        vertical-align: middle;\n",
       "    }\n",
       "\n",
       "    .dataframe tbody tr th {\n",
       "        vertical-align: top;\n",
       "    }\n",
       "\n",
       "    .dataframe thead th {\n",
       "        text-align: right;\n",
       "    }\n",
       "</style>\n",
       "<table border=\"1\" class=\"dataframe\">\n",
       "  <thead>\n",
       "    <tr style=\"text-align: right;\">\n",
       "      <th></th>\n",
       "      <th>listing_id</th>\n",
       "      <th>date</th>\n",
       "      <th>available</th>\n",
       "      <th>price</th>\n",
       "      <th>day</th>\n",
       "      <th>month</th>\n",
       "      <th>year</th>\n",
       "    </tr>\n",
       "  </thead>\n",
       "  <tbody>\n",
       "    <tr>\n",
       "      <th>0</th>\n",
       "      <td>241032</td>\n",
       "      <td>2016-01-04</td>\n",
       "      <td>True</td>\n",
       "      <td>85.0</td>\n",
       "      <td>4</td>\n",
       "      <td>1</td>\n",
       "      <td>2016</td>\n",
       "    </tr>\n",
       "    <tr>\n",
       "      <th>1</th>\n",
       "      <td>241032</td>\n",
       "      <td>2016-01-05</td>\n",
       "      <td>True</td>\n",
       "      <td>85.0</td>\n",
       "      <td>5</td>\n",
       "      <td>1</td>\n",
       "      <td>2016</td>\n",
       "    </tr>\n",
       "    <tr>\n",
       "      <th>2</th>\n",
       "      <td>241032</td>\n",
       "      <td>2016-01-06</td>\n",
       "      <td>False</td>\n",
       "      <td>NaN</td>\n",
       "      <td>6</td>\n",
       "      <td>1</td>\n",
       "      <td>2016</td>\n",
       "    </tr>\n",
       "    <tr>\n",
       "      <th>3</th>\n",
       "      <td>241032</td>\n",
       "      <td>2016-01-07</td>\n",
       "      <td>False</td>\n",
       "      <td>NaN</td>\n",
       "      <td>7</td>\n",
       "      <td>1</td>\n",
       "      <td>2016</td>\n",
       "    </tr>\n",
       "    <tr>\n",
       "      <th>4</th>\n",
       "      <td>241032</td>\n",
       "      <td>2016-01-08</td>\n",
       "      <td>False</td>\n",
       "      <td>NaN</td>\n",
       "      <td>8</td>\n",
       "      <td>1</td>\n",
       "      <td>2016</td>\n",
       "    </tr>\n",
       "  </tbody>\n",
       "</table>\n",
       "</div>"
      ],
      "text/plain": [
       "   listing_id       date  available  price  day  month  year\n",
       "0      241032 2016-01-04       True   85.0    4      1  2016\n",
       "1      241032 2016-01-05       True   85.0    5      1  2016\n",
       "2      241032 2016-01-06      False    NaN    6      1  2016\n",
       "3      241032 2016-01-07      False    NaN    7      1  2016\n",
       "4      241032 2016-01-08      False    NaN    8      1  2016"
      ]
     },
     "execution_count": 102,
     "metadata": {},
     "output_type": "execute_result"
    }
   ],
   "source": [
    "clean_calender_df[:5]"
   ]
  },
  {
   "cell_type": "code",
   "execution_count": 103,
   "id": "radical-victor",
   "metadata": {
    "execution": {
     "iopub.execute_input": "2021-04-27T00:19:22.927979Z",
     "iopub.status.busy": "2021-04-27T00:19:22.926680Z",
     "iopub.status.idle": "2021-04-27T00:19:22.950961Z",
     "shell.execute_reply": "2021-04-27T00:19:22.950348Z"
    },
    "papermill": {
     "duration": 0.179624,
     "end_time": "2021-04-27T00:19:22.951115",
     "exception": false,
     "start_time": "2021-04-27T00:19:22.771491",
     "status": "completed"
    },
    "tags": []
   },
   "outputs": [
    {
     "data": {
      "text/plain": [
       "listing_id         0\n",
       "date               0\n",
       "available          0\n",
       "price         424353\n",
       "day                0\n",
       "month              0\n",
       "year               0\n",
       "dtype: int64"
      ]
     },
     "execution_count": 103,
     "metadata": {},
     "output_type": "execute_result"
    }
   ],
   "source": [
    "clean_calender_df.isna().sum()"
   ]
  },
  {
   "cell_type": "code",
   "execution_count": 104,
   "id": "ceramic-johns",
   "metadata": {
    "execution": {
     "iopub.execute_input": "2021-04-27T00:19:23.282724Z",
     "iopub.status.busy": "2021-04-27T00:19:23.281893Z",
     "iopub.status.idle": "2021-04-27T00:19:23.286018Z",
     "shell.execute_reply": "2021-04-27T00:19:23.285426Z"
    },
    "papermill": {
     "duration": 0.17047,
     "end_time": "2021-04-27T00:19:23.286168",
     "exception": false,
     "start_time": "2021-04-27T00:19:23.115698",
     "status": "completed"
    },
    "tags": []
   },
   "outputs": [
    {
     "data": {
      "text/plain": [
       "['id',\n",
       " 'accommodates',\n",
       " 'bathrooms',\n",
       " 'bedrooms',\n",
       " 'beds',\n",
       " 'number_of_reviews',\n",
       " 'review_scores_rating',\n",
       " 'review_scores_accuracy',\n",
       " 'review_scores_cleanliness',\n",
       " 'review_scores_checkin',\n",
       " 'review_scores_communication',\n",
       " 'review_scores_location',\n",
       " 'review_scores_value',\n",
       " 'price',\n",
       " 'weekly_price',\n",
       " 'monthly_price',\n",
       " 'security_deposit',\n",
       " 'cleaning_fee',\n",
       " 'cancellation_policy_flexible',\n",
       " 'cancellation_policy_moderate',\n",
       " 'cancellation_policy_strict',\n",
       " 'room_type_Entire home/apt',\n",
       " 'room_type_Private room',\n",
       " 'room_type_Shared room',\n",
       " 'property_type_Apartment',\n",
       " 'property_type_Bed & Breakfast',\n",
       " 'property_type_Boat',\n",
       " 'property_type_Bungalow',\n",
       " 'property_type_Cabin',\n",
       " 'property_type_Camper/RV',\n",
       " 'property_type_Chalet',\n",
       " 'property_type_Condominium',\n",
       " 'property_type_Dorm',\n",
       " 'property_type_House',\n",
       " 'property_type_Loft',\n",
       " 'property_type_Other',\n",
       " 'property_type_Tent',\n",
       " 'property_type_Townhouse',\n",
       " 'property_type_Treehouse',\n",
       " 'property_type_Yurt',\n",
       " 'bed_type_Airbed',\n",
       " 'bed_type_Couch',\n",
       " 'bed_type_Futon',\n",
       " 'bed_type_Pull-out Sofa',\n",
       " 'bed_type_Real Bed',\n",
       " '24-Hour Check-in',\n",
       " 'Air Conditioning',\n",
       " 'Breakfast',\n",
       " 'Buzzer/Wireless Intercom',\n",
       " 'Cable TV',\n",
       " 'Carbon Monoxide Detector',\n",
       " 'Cat(s)',\n",
       " 'Dog(s)',\n",
       " 'Doorman',\n",
       " 'Dryer',\n",
       " 'Elevator in Building',\n",
       " 'Essentials',\n",
       " 'Family/Kid Friendly',\n",
       " 'Fire Extinguisher',\n",
       " 'First Aid Kit',\n",
       " 'Free Parking on Premises',\n",
       " 'Gym',\n",
       " 'Hair Dryer',\n",
       " 'Hangers',\n",
       " 'Heating',\n",
       " 'Hot Tub',\n",
       " 'Indoor Fireplace',\n",
       " 'Internet',\n",
       " 'Iron',\n",
       " 'Kitchen',\n",
       " 'Laptop Friendly Workspace',\n",
       " 'Lock on Bedroom Door',\n",
       " 'Other pet(s)',\n",
       " 'Pets Allowed',\n",
       " 'Pets live on this property',\n",
       " 'Pool',\n",
       " 'Safety Card',\n",
       " 'Shampoo',\n",
       " 'Smoke Detector',\n",
       " 'Smoking Allowed',\n",
       " 'Suitable for Events',\n",
       " 'TV',\n",
       " 'Washer',\n",
       " 'Washer / Dryer',\n",
       " 'Wheelchair Accessible',\n",
       " 'Wireless Internet']"
      ]
     },
     "execution_count": 104,
     "metadata": {},
     "output_type": "execute_result"
    }
   ],
   "source": [
    "list(concat_listings_df.columns.values)"
   ]
  },
  {
   "cell_type": "code",
   "execution_count": 105,
   "id": "neutral-nylon",
   "metadata": {
    "execution": {
     "iopub.execute_input": "2021-04-27T00:19:23.605137Z",
     "iopub.status.busy": "2021-04-27T00:19:23.604232Z",
     "iopub.status.idle": "2021-04-27T00:19:24.043559Z",
     "shell.execute_reply": "2021-04-27T00:19:24.044475Z"
    },
    "papermill": {
     "duration": 0.597955,
     "end_time": "2021-04-27T00:19:24.044757",
     "exception": false,
     "start_time": "2021-04-27T00:19:23.446802",
     "status": "completed"
    },
    "tags": []
   },
   "outputs": [
    {
     "data": {
      "text/plain": [
       "LinearRegression(normalize=True)"
      ]
     },
     "execution_count": 105,
     "metadata": {},
     "output_type": "execute_result"
    }
   ],
   "source": [
    "\n",
    "selected_cols = [\n",
    "#     'id',\n",
    " 'accommodates',\n",
    " 'bathrooms',\n",
    " 'bedrooms',\n",
    " 'beds',\n",
    "#  'number_of_reviews',\n",
    "#  'review_scores_rating',\n",
    " 'review_scores_accuracy',\n",
    " 'review_scores_cleanliness',\n",
    " 'review_scores_checkin',\n",
    " 'review_scores_communication',\n",
    " 'review_scores_location',\n",
    "#  'review_scores_value',\n",
    "#  'price',\n",
    "#  'weekly_price',\n",
    "#  'monthly_price',\n",
    "#  'security_deposit',\n",
    "#  'cleaning_fee',\n",
    " 'cancellation_policy_flexible',\n",
    " 'cancellation_policy_moderate',\n",
    " 'cancellation_policy_strict',\n",
    " 'room_type_Entire home/apt',\n",
    " 'room_type_Private room',\n",
    " 'room_type_Shared room',\n",
    " 'property_type_Apartment',\n",
    " 'property_type_Bed & Breakfast',\n",
    " 'property_type_Boat',\n",
    " 'property_type_Bungalow',\n",
    " 'property_type_Cabin',\n",
    " 'property_type_Camper/RV',\n",
    " 'property_type_Chalet',\n",
    " 'property_type_Condominium',\n",
    " 'property_type_Dorm',\n",
    " 'property_type_House',\n",
    " 'property_type_Loft',\n",
    " 'property_type_Other',\n",
    " 'property_type_Tent',\n",
    " 'property_type_Townhouse',\n",
    " 'property_type_Treehouse',\n",
    " 'property_type_Yurt',\n",
    " 'bed_type_Airbed',\n",
    " 'bed_type_Couch',\n",
    " 'bed_type_Futon',\n",
    " 'bed_type_Pull-out Sofa',\n",
    " 'bed_type_Real Bed',\n",
    " '24-Hour Check-in',\n",
    " 'Air Conditioning',\n",
    " 'Breakfast',\n",
    " 'Buzzer/Wireless Intercom',\n",
    " 'Cable TV',\n",
    " 'Carbon Monoxide Detector',\n",
    " 'Cat(s)',\n",
    " 'Dog(s)',\n",
    " 'Doorman',\n",
    " 'Dryer',\n",
    " 'Elevator in Building',\n",
    " 'Essentials',\n",
    " 'Family/Kid Friendly',\n",
    " 'Fire Extinguisher',\n",
    " 'First Aid Kit',\n",
    " 'Free Parking on Premises',\n",
    " 'Gym',\n",
    " 'Hair Dryer',\n",
    " 'Hangers',\n",
    " 'Heating',\n",
    " 'Hot Tub',\n",
    " 'Indoor Fireplace',\n",
    " 'Internet',\n",
    " 'Iron',\n",
    " 'Kitchen',\n",
    " 'Laptop Friendly Workspace',\n",
    " 'Lock on Bedroom Door',\n",
    " 'Other pet(s)',\n",
    " 'Pets Allowed',\n",
    " 'Pets live on this property',\n",
    " 'Pool',\n",
    " 'Safety Card',\n",
    " 'Shampoo',\n",
    " 'Smoke Detector',\n",
    " 'Smoking Allowed',\n",
    " 'Suitable for Events',\n",
    " 'TV',\n",
    " 'Washer',\n",
    "#  'Washer / Dryer',\n",
    " 'Wheelchair Accessible',\n",
    " 'Wireless Internet'\n",
    "                ]\n",
    "\n",
    "# Exclude related columns and id\n",
    "X = concat_listings_df[selected_cols]\n",
    "\n",
    "y = concat_listings_df['price']\n",
    "# Import required packages\n",
    "from scipy.stats import uniform, randint\n",
    "from sklearn.linear_model import LinearRegression\n",
    "from sklearn.model_selection import cross_val_score, GridSearchCV, KFold, RandomizedSearchCV, train_test_split\n",
    "from sklearn.metrics import r2_score, mean_squared_error\n",
    "# Train, test and validation data\n",
    "X_train, X_test, y_train, y_test = train_test_split(X, y, test_size=0.3, random_state=99)\n",
    "X_train, X_val, y_train, y_val = train_test_split(X_train, y_train, test_size=0.2, random_state=99) \n",
    "# Fit \n",
    "lm_model = LinearRegression(normalize=True) \n",
    "lm_model.fit(X_train, y_train)"
   ]
  },
  {
   "cell_type": "code",
   "execution_count": 106,
   "id": "valid-signature",
   "metadata": {
    "execution": {
     "iopub.execute_input": "2021-04-27T00:19:24.406003Z",
     "iopub.status.busy": "2021-04-27T00:19:24.398592Z",
     "iopub.status.idle": "2021-04-27T00:19:24.414776Z",
     "shell.execute_reply": "2021-04-27T00:19:24.415875Z"
    },
    "papermill": {
     "duration": 0.174335,
     "end_time": "2021-04-27T00:19:24.416157",
     "exception": false,
     "start_time": "2021-04-27T00:19:24.241822",
     "status": "completed"
    },
    "tags": []
   },
   "outputs": [
    {
     "name": "stdout",
     "output_type": "stream",
     "text": [
      "0.5917059731220784 -2.872073873341953e+22\n"
     ]
    }
   ],
   "source": [
    "y_test_preds = lm_model.predict(X_test) \n",
    "y_train_preds = lm_model.predict(X_train) \n",
    "\n",
    "# r2 score\n",
    "train_score = r2_score(y_train, y_train_preds)\n",
    "test_score =  r2_score(y_test, y_test_preds)\n",
    "print(train_score, test_score)"
   ]
  },
  {
   "cell_type": "code",
   "execution_count": 107,
   "id": "devoted-prayer",
   "metadata": {
    "execution": {
     "iopub.execute_input": "2021-04-27T00:19:24.775232Z",
     "iopub.status.busy": "2021-04-27T00:19:24.774491Z",
     "iopub.status.idle": "2021-04-27T00:19:25.233488Z",
     "shell.execute_reply": "2021-04-27T00:19:25.234005Z"
    },
    "papermill": {
     "duration": 0.615621,
     "end_time": "2021-04-27T00:19:25.234204",
     "exception": false,
     "start_time": "2021-04-27T00:19:24.618583",
     "status": "completed"
    },
    "tags": []
   },
   "outputs": [
    {
     "name": "stdout",
     "output_type": "stream",
     "text": [
      "[0]\tvalidation_0-rmse:143.24440\tvalidation_1-rmse:140.92087\n",
      "[10]\tvalidation_0-rmse:73.75079\tvalidation_1-rmse:73.64954\n",
      "[20]\tvalidation_0-rmse:55.25566\tvalidation_1-rmse:58.41209\n",
      "[30]\tvalidation_0-rmse:49.10989\tvalidation_1-rmse:55.47544\n",
      "[40]\tvalidation_0-rmse:46.09320\tvalidation_1-rmse:54.69887\n",
      "[50]\tvalidation_0-rmse:43.70399\tvalidation_1-rmse:54.83312\n"
     ]
    },
    {
     "data": {
      "text/plain": [
       "XGBRegressor(base_score=0.5, booster='gbtree', colsample_bylevel=1,\n",
       "             colsample_bynode=1, colsample_bytree=0.6, eta=0.2, gamma=0,\n",
       "             gpu_id=-1, importance_type='gain', interaction_constraints='',\n",
       "             learning_rate=0.1, max_delta_step=0, max_depth=15,\n",
       "             min_child_weight=10, missing=nan, monotone_constraints='()',\n",
       "             n_estimators=100, n_jobs=-1, num_parallel_tree=1, random_state=0,\n",
       "             reg_alpha=0, reg_lambda=1, scale_pos_weight=1, seed=0,\n",
       "             subsample=0.6, tree_method='exact', validate_parameters=1,\n",
       "             verbosity=None)"
      ]
     },
     "execution_count": 107,
     "metadata": {},
     "output_type": "execute_result"
    }
   ],
   "source": [
    "from xgboost import XGBRegressor\n",
    "from xgboost import plot_importance\n",
    "# Train, test and validation data\n",
    "X_train, X_test, y_train, y_test = train_test_split(X, y, test_size=0.3, random_state=99)\n",
    "X_train, X_val, y_train, y_val = train_test_split(X_train, y_train, test_size=0.2, random_state=99) \n",
    "# Create a model and fit the data to it \n",
    "\n",
    "xgb_model = XGBRegressor(\n",
    "    max_depth=15,\n",
    "    n_estimators=100,\n",
    "    min_child_weight=10, \n",
    "    colsample_bytree=0.6, \n",
    "    subsample=0.6, \n",
    "    eta=0.2,    \n",
    "    seed=0,\n",
    "    learning_rate = 0.1,\n",
    "    n_jobs=-1)\n",
    "\n",
    "xgb_model.fit(\n",
    "    X_train, \n",
    "    y_train, \n",
    "    eval_metric=\"rmse\", \n",
    "    eval_set=[(X_train, y_train), (X_val, y_val)], \n",
    "    verbose=10, \n",
    "    early_stopping_rounds = 10)"
   ]
  },
  {
   "cell_type": "code",
   "execution_count": 108,
   "id": "selected-snowboard",
   "metadata": {
    "execution": {
     "iopub.execute_input": "2021-04-27T00:19:25.545132Z",
     "iopub.status.busy": "2021-04-27T00:19:25.544428Z",
     "iopub.status.idle": "2021-04-27T00:19:25.575252Z",
     "shell.execute_reply": "2021-04-27T00:19:25.574012Z"
    },
    "papermill": {
     "duration": 0.184028,
     "end_time": "2021-04-27T00:19:25.575453",
     "exception": false,
     "start_time": "2021-04-27T00:19:25.391425",
     "status": "completed"
    },
    "tags": []
   },
   "outputs": [
    {
     "name": "stdout",
     "output_type": "stream",
     "text": [
      "0.7463700706922698\n",
      "0.5928163038201342\n",
      "0.5403780605350057\n"
     ]
    },
    {
     "name": "stderr",
     "output_type": "stream",
     "text": [
      "/opt/conda/lib/python3.7/site-packages/xgboost/data.py:114: UserWarning: Use subset (sliced data) of np.ndarray is not recommended because it will generate extra copies and increase memory consumption\n",
      "  \"because it will generate extra copies and increase \" +\n"
     ]
    }
   ],
   "source": [
    "xgb_train_pred = xgb_model.predict(X_train)\n",
    "xgb_val_pred = xgb_model.predict(X_val)\n",
    "xgb_test_pred = xgb_model.predict(X_test)\n",
    "for i in [[y_train, xgb_train_pred], [y_val, xgb_val_pred], [y_test, xgb_test_pred]]:\n",
    "    print(r2_score(i[0], i[1]))"
   ]
  },
  {
   "cell_type": "code",
   "execution_count": 109,
   "id": "special-knowing",
   "metadata": {
    "execution": {
     "iopub.execute_input": "2021-04-27T00:19:25.921259Z",
     "iopub.status.busy": "2021-04-27T00:19:25.920279Z",
     "iopub.status.idle": "2021-04-27T00:19:27.847954Z",
     "shell.execute_reply": "2021-04-27T00:19:27.848459Z"
    },
    "papermill": {
     "duration": 2.117052,
     "end_time": "2021-04-27T00:19:27.848649",
     "exception": false,
     "start_time": "2021-04-27T00:19:25.731597",
     "status": "completed"
    },
    "tags": []
   },
   "outputs": [
    {
     "data": {
      "image/png": "[encoded data removed]",
      "text/plain": [
       "<Figure size 720x1080 with 1 Axes>"
      ]
     },
     "metadata": {
      "needs_background": "light"
     },
     "output_type": "display_data"
    }
   ],
   "source": [
    "fig, ax = plt.subplots(figsize=(10, 15))\n",
    "plot_importance(xgb_model,ax=ax);"
   ]
  },
  {
   "cell_type": "code",
   "execution_count": 110,
   "id": "regular-coalition",
   "metadata": {
    "execution": {
     "iopub.execute_input": "2021-04-27T00:19:28.181199Z",
     "iopub.status.busy": "2021-04-27T00:19:28.180514Z",
     "iopub.status.idle": "2021-04-27T00:19:28.568889Z",
     "shell.execute_reply": "2021-04-27T00:19:28.568184Z"
    },
    "papermill": {
     "duration": 0.556535,
     "end_time": "2021-04-27T00:19:28.569036",
     "exception": false,
     "start_time": "2021-04-27T00:19:28.012501",
     "status": "completed"
    },
    "tags": []
   },
   "outputs": [
    {
     "data": {
      "text/plain": [
       "RandomForestRegressor(max_depth=7, n_estimators=50, n_jobs=-1, random_state=0)"
      ]
     },
     "execution_count": 110,
     "metadata": {},
     "output_type": "execute_result"
    }
   ],
   "source": [
    "from sklearn.ensemble import RandomForestRegressor\n",
    "rf_model = RandomForestRegressor(n_estimators=50, max_depth=7, random_state=0, n_jobs=-1)\n",
    "rf_model.fit(X_train, y_train)"
   ]
  },
  {
   "cell_type": "code",
   "execution_count": 111,
   "id": "capital-remove",
   "metadata": {
    "execution": {
     "iopub.execute_input": "2021-04-27T00:19:28.903575Z",
     "iopub.status.busy": "2021-04-27T00:19:28.902698Z",
     "iopub.status.idle": "2021-04-27T00:19:29.225478Z",
     "shell.execute_reply": "2021-04-27T00:19:29.225979Z"
    },
    "papermill": {
     "duration": 0.495491,
     "end_time": "2021-04-27T00:19:29.226164",
     "exception": false,
     "start_time": "2021-04-27T00:19:28.730673",
     "status": "completed"
    },
    "tags": []
   },
   "outputs": [
    {
     "name": "stdout",
     "output_type": "stream",
     "text": [
      "0.8087142465249612\n",
      "0.5685085229272628\n",
      "0.5347090327126173\n"
     ]
    }
   ],
   "source": [
    "rf_train_pred = rf_model.predict(X_train)\n",
    "rf_val_pred = rf_model.predict(X_val)\n",
    "rf_test_pred = rf_model.predict(X_test)\n",
    "for i in [[y_train, rf_train_pred], [y_val, rf_val_pred], [y_test, rf_test_pred]]:\n",
    "    print(r2_score(i[0], i[1]))"
   ]
  },
  {
   "cell_type": "code",
   "execution_count": 112,
   "id": "indirect-idaho",
   "metadata": {
    "execution": {
     "iopub.execute_input": "2021-04-27T00:19:29.553076Z",
     "iopub.status.busy": "2021-04-27T00:19:29.552296Z",
     "iopub.status.idle": "2021-04-27T00:19:29.572716Z",
     "shell.execute_reply": "2021-04-27T00:19:29.573546Z"
    },
    "papermill": {
     "duration": 0.189246,
     "end_time": "2021-04-27T00:19:29.573780",
     "exception": false,
     "start_time": "2021-04-27T00:19:29.384534",
     "status": "completed"
    },
    "tags": []
   },
   "outputs": [
    {
     "name": "stdout",
     "output_type": "stream",
     "text": [
      "<class 'pandas.core.frame.DataFrame'>\n",
      "RangeIndex: 438 entries, 0 to 437\n",
      "Data columns (total 2 columns):\n",
      " #   Column  Non-Null Count  Dtype  \n",
      "---  ------  --------------  -----  \n",
      " 0   xgb     438 non-null    float32\n",
      " 1   rf      438 non-null    float64\n",
      "dtypes: float32(1), float64(1)\n",
      "memory usage: 5.3 KB\n",
      "<class 'pandas.core.frame.DataFrame'>\n",
      "RangeIndex: 937 entries, 0 to 936\n",
      "Data columns (total 2 columns):\n",
      " #   Column  Non-Null Count  Dtype  \n",
      "---  ------  --------------  -----  \n",
      " 0   xgb     937 non-null    float32\n",
      " 1   rf      937 non-null    float64\n",
      "dtypes: float32(1), float64(1)\n",
      "memory usage: 11.1 KB\n"
     ]
    }
   ],
   "source": [
    "first_level = pd.DataFrame(xgb_val_pred, columns=[\"xgb\"])\n",
    "first_level[\"rf\"] = rf_val_pred\n",
    "first_level.info()\n",
    "\n",
    "first_level_test = pd.DataFrame(xgb_test_pred, columns=[\"xgb\"])\n",
    "first_level_test[\"rf\"] = rf_test_pred\n",
    "first_level_test.info()"
   ]
  },
  {
   "cell_type": "code",
   "execution_count": 113,
   "id": "consistent-lover",
   "metadata": {
    "execution": {
     "iopub.execute_input": "2021-04-27T00:19:29.926801Z",
     "iopub.status.busy": "2021-04-27T00:19:29.925754Z",
     "iopub.status.idle": "2021-04-27T00:19:29.930847Z",
     "shell.execute_reply": "2021-04-27T00:19:29.930284Z"
    },
    "papermill": {
     "duration": 0.18554,
     "end_time": "2021-04-27T00:19:29.931019",
     "exception": false,
     "start_time": "2021-04-27T00:19:29.745479",
     "status": "completed"
    },
    "tags": []
   },
   "outputs": [
    {
     "data": {
      "text/plain": [
       "LinearRegression(n_jobs=-1)"
      ]
     },
     "execution_count": 113,
     "metadata": {},
     "output_type": "execute_result"
    }
   ],
   "source": [
    "meta_model = LinearRegression(n_jobs=-1)\n",
    "meta_model.fit(first_level, y_val)"
   ]
  },
  {
   "cell_type": "code",
   "execution_count": 114,
   "id": "verbal-annual",
   "metadata": {
    "execution": {
     "iopub.execute_input": "2021-04-27T00:19:30.259027Z",
     "iopub.status.busy": "2021-04-27T00:19:30.258368Z",
     "iopub.status.idle": "2021-04-27T00:19:30.267051Z",
     "shell.execute_reply": "2021-04-27T00:19:30.267525Z"
    },
    "papermill": {
     "duration": 0.170597,
     "end_time": "2021-04-27T00:19:30.267723",
     "exception": false,
     "start_time": "2021-04-27T00:19:30.097126",
     "status": "completed"
    },
    "tags": []
   },
   "outputs": [
    {
     "data": {
      "text/plain": [
       "0.5499273749023827"
      ]
     },
     "execution_count": 114,
     "metadata": {},
     "output_type": "execute_result"
    }
   ],
   "source": [
    "test_prediction = meta_model.predict(first_level_test)\n",
    "r2_score(y_test, test_prediction)"
   ]
  },
  {
   "cell_type": "code",
   "execution_count": 115,
   "id": "invalid-destiny",
   "metadata": {
    "execution": {
     "iopub.execute_input": "2021-04-27T00:19:30.597076Z",
     "iopub.status.busy": "2021-04-27T00:19:30.596145Z",
     "iopub.status.idle": "2021-04-27T00:19:30.609475Z",
     "shell.execute_reply": "2021-04-27T00:19:30.610050Z"
    },
    "papermill": {
     "duration": 0.180867,
     "end_time": "2021-04-27T00:19:30.610269",
     "exception": false,
     "start_time": "2021-04-27T00:19:30.429402",
     "status": "completed"
    },
    "tags": []
   },
   "outputs": [
    {
     "data": {
      "text/html": [
       "<div>\n",
       "<style scoped>\n",
       "    .dataframe tbody tr th:only-of-type {\n",
       "        vertical-align: middle;\n",
       "    }\n",
       "\n",
       "    .dataframe tbody tr th {\n",
       "        vertical-align: top;\n",
       "    }\n",
       "\n",
       "    .dataframe thead th {\n",
       "        text-align: right;\n",
       "    }\n",
       "</style>\n",
       "<table border=\"1\" class=\"dataframe\">\n",
       "  <thead>\n",
       "    <tr style=\"text-align: right;\">\n",
       "      <th></th>\n",
       "      <th>listing_id</th>\n",
       "      <th>date</th>\n",
       "      <th>available</th>\n",
       "      <th>price</th>\n",
       "      <th>day</th>\n",
       "      <th>month</th>\n",
       "      <th>year</th>\n",
       "    </tr>\n",
       "  </thead>\n",
       "  <tbody>\n",
       "    <tr>\n",
       "      <th>0</th>\n",
       "      <td>241032</td>\n",
       "      <td>2016-01-04</td>\n",
       "      <td>True</td>\n",
       "      <td>85.0</td>\n",
       "      <td>4</td>\n",
       "      <td>1</td>\n",
       "      <td>2016</td>\n",
       "    </tr>\n",
       "    <tr>\n",
       "      <th>1</th>\n",
       "      <td>241032</td>\n",
       "      <td>2016-01-05</td>\n",
       "      <td>True</td>\n",
       "      <td>85.0</td>\n",
       "      <td>5</td>\n",
       "      <td>1</td>\n",
       "      <td>2016</td>\n",
       "    </tr>\n",
       "    <tr>\n",
       "      <th>2</th>\n",
       "      <td>241032</td>\n",
       "      <td>2016-01-06</td>\n",
       "      <td>False</td>\n",
       "      <td>NaN</td>\n",
       "      <td>6</td>\n",
       "      <td>1</td>\n",
       "      <td>2016</td>\n",
       "    </tr>\n",
       "    <tr>\n",
       "      <th>3</th>\n",
       "      <td>241032</td>\n",
       "      <td>2016-01-07</td>\n",
       "      <td>False</td>\n",
       "      <td>NaN</td>\n",
       "      <td>7</td>\n",
       "      <td>1</td>\n",
       "      <td>2016</td>\n",
       "    </tr>\n",
       "    <tr>\n",
       "      <th>4</th>\n",
       "      <td>241032</td>\n",
       "      <td>2016-01-08</td>\n",
       "      <td>False</td>\n",
       "      <td>NaN</td>\n",
       "      <td>8</td>\n",
       "      <td>1</td>\n",
       "      <td>2016</td>\n",
       "    </tr>\n",
       "  </tbody>\n",
       "</table>\n",
       "</div>"
      ],
      "text/plain": [
       "   listing_id       date  available  price  day  month  year\n",
       "0      241032 2016-01-04       True   85.0    4      1  2016\n",
       "1      241032 2016-01-05       True   85.0    5      1  2016\n",
       "2      241032 2016-01-06      False    NaN    6      1  2016\n",
       "3      241032 2016-01-07      False    NaN    7      1  2016\n",
       "4      241032 2016-01-08      False    NaN    8      1  2016"
      ]
     },
     "execution_count": 115,
     "metadata": {},
     "output_type": "execute_result"
    }
   ],
   "source": [
    "clean_calender_df[:5]"
   ]
  },
  {
   "cell_type": "code",
   "execution_count": 116,
   "id": "related-colombia",
   "metadata": {
    "execution": {
     "iopub.execute_input": "2021-04-27T00:19:30.970964Z",
     "iopub.status.busy": "2021-04-27T00:19:30.970179Z",
     "iopub.status.idle": "2021-04-27T00:19:31.230787Z",
     "shell.execute_reply": "2021-04-27T00:19:31.230087Z"
    },
    "papermill": {
     "duration": 0.448656,
     "end_time": "2021-04-27T00:19:31.230964",
     "exception": false,
     "start_time": "2021-04-27T00:19:30.782308",
     "status": "completed"
    },
    "tags": []
   },
   "outputs": [
    {
     "data": {
      "text/html": [
       "<div>\n",
       "<style scoped>\n",
       "    .dataframe tbody tr th:only-of-type {\n",
       "        vertical-align: middle;\n",
       "    }\n",
       "\n",
       "    .dataframe tbody tr th {\n",
       "        vertical-align: top;\n",
       "    }\n",
       "\n",
       "    .dataframe thead th {\n",
       "        text-align: right;\n",
       "    }\n",
       "</style>\n",
       "<table border=\"1\" class=\"dataframe\">\n",
       "  <thead>\n",
       "    <tr style=\"text-align: right;\">\n",
       "      <th></th>\n",
       "      <th>listing_id</th>\n",
       "      <th>year</th>\n",
       "      <th>month</th>\n",
       "      <th>available</th>\n",
       "    </tr>\n",
       "  </thead>\n",
       "  <tbody>\n",
       "    <tr>\n",
       "      <th>0</th>\n",
       "      <td>3335</td>\n",
       "      <td>2016</td>\n",
       "      <td>1</td>\n",
       "      <td>0</td>\n",
       "    </tr>\n",
       "    <tr>\n",
       "      <th>1</th>\n",
       "      <td>3335</td>\n",
       "      <td>2016</td>\n",
       "      <td>2</td>\n",
       "      <td>1</td>\n",
       "    </tr>\n",
       "    <tr>\n",
       "      <th>2</th>\n",
       "      <td>3335</td>\n",
       "      <td>2016</td>\n",
       "      <td>3</td>\n",
       "      <td>31</td>\n",
       "    </tr>\n",
       "    <tr>\n",
       "      <th>3</th>\n",
       "      <td>3335</td>\n",
       "      <td>2016</td>\n",
       "      <td>4</td>\n",
       "      <td>30</td>\n",
       "    </tr>\n",
       "    <tr>\n",
       "      <th>4</th>\n",
       "      <td>3335</td>\n",
       "      <td>2016</td>\n",
       "      <td>5</td>\n",
       "      <td>31</td>\n",
       "    </tr>\n",
       "    <tr>\n",
       "      <th>5</th>\n",
       "      <td>3335</td>\n",
       "      <td>2016</td>\n",
       "      <td>6</td>\n",
       "      <td>30</td>\n",
       "    </tr>\n",
       "    <tr>\n",
       "      <th>6</th>\n",
       "      <td>3335</td>\n",
       "      <td>2016</td>\n",
       "      <td>7</td>\n",
       "      <td>31</td>\n",
       "    </tr>\n",
       "    <tr>\n",
       "      <th>7</th>\n",
       "      <td>3335</td>\n",
       "      <td>2016</td>\n",
       "      <td>8</td>\n",
       "      <td>31</td>\n",
       "    </tr>\n",
       "    <tr>\n",
       "      <th>8</th>\n",
       "      <td>3335</td>\n",
       "      <td>2016</td>\n",
       "      <td>9</td>\n",
       "      <td>30</td>\n",
       "    </tr>\n",
       "    <tr>\n",
       "      <th>9</th>\n",
       "      <td>3335</td>\n",
       "      <td>2016</td>\n",
       "      <td>10</td>\n",
       "      <td>31</td>\n",
       "    </tr>\n",
       "    <tr>\n",
       "      <th>10</th>\n",
       "      <td>3335</td>\n",
       "      <td>2016</td>\n",
       "      <td>11</td>\n",
       "      <td>30</td>\n",
       "    </tr>\n",
       "    <tr>\n",
       "      <th>11</th>\n",
       "      <td>3335</td>\n",
       "      <td>2016</td>\n",
       "      <td>12</td>\n",
       "      <td>31</td>\n",
       "    </tr>\n",
       "    <tr>\n",
       "      <th>12</th>\n",
       "      <td>3335</td>\n",
       "      <td>2017</td>\n",
       "      <td>1</td>\n",
       "      <td>2</td>\n",
       "    </tr>\n",
       "    <tr>\n",
       "      <th>13</th>\n",
       "      <td>4291</td>\n",
       "      <td>2016</td>\n",
       "      <td>1</td>\n",
       "      <td>28</td>\n",
       "    </tr>\n",
       "    <tr>\n",
       "      <th>14</th>\n",
       "      <td>4291</td>\n",
       "      <td>2016</td>\n",
       "      <td>2</td>\n",
       "      <td>29</td>\n",
       "    </tr>\n",
       "    <tr>\n",
       "      <th>15</th>\n",
       "      <td>4291</td>\n",
       "      <td>2016</td>\n",
       "      <td>3</td>\n",
       "      <td>31</td>\n",
       "    </tr>\n",
       "    <tr>\n",
       "      <th>16</th>\n",
       "      <td>4291</td>\n",
       "      <td>2016</td>\n",
       "      <td>4</td>\n",
       "      <td>30</td>\n",
       "    </tr>\n",
       "    <tr>\n",
       "      <th>17</th>\n",
       "      <td>4291</td>\n",
       "      <td>2016</td>\n",
       "      <td>5</td>\n",
       "      <td>31</td>\n",
       "    </tr>\n",
       "    <tr>\n",
       "      <th>18</th>\n",
       "      <td>4291</td>\n",
       "      <td>2016</td>\n",
       "      <td>6</td>\n",
       "      <td>30</td>\n",
       "    </tr>\n",
       "    <tr>\n",
       "      <th>19</th>\n",
       "      <td>4291</td>\n",
       "      <td>2016</td>\n",
       "      <td>7</td>\n",
       "      <td>31</td>\n",
       "    </tr>\n",
       "  </tbody>\n",
       "</table>\n",
       "</div>"
      ],
      "text/plain": [
       "   listing_id  year  month  available\n",
       "0        3335  2016      1          0\n",
       "1        3335  2016      2          1\n",
       "2        3335  2016      3         31\n",
       "3        3335  2016      4         30\n",
       "4        3335  2016      5         31\n",
       "5        3335  2016      6         30\n",
       "6        3335  2016      7         31\n",
       "7        3335  2016      8         31\n",
       "8        3335  2016      9         30\n",
       "9        3335  2016     10         31\n",
       "10       3335  2016     11         30\n",
       "11       3335  2016     12         31\n",
       "12       3335  2017      1          2\n",
       "13       4291  2016      1         28\n",
       "14       4291  2016      2         29\n",
       "15       4291  2016      3         31\n",
       "16       4291  2016      4         30\n",
       "17       4291  2016      5         31\n",
       "18       4291  2016      6         30\n",
       "19       4291  2016      7         31"
      ]
     },
     "execution_count": 116,
     "metadata": {},
     "output_type": "execute_result"
    }
   ],
   "source": [
    "count_calender_df = clean_calender_df.groupby(['listing_id', 'year', 'month']).sum()['available'].reset_index()\n",
    "count_calender_df['listing_id'] = count_calender_df.listing_id.astype(str)\n",
    "count_calender_df[:20]"
   ]
  },
  {
   "cell_type": "code",
   "execution_count": 117,
   "id": "adjacent-basic",
   "metadata": {
    "execution": {
     "iopub.execute_input": "2021-04-27T00:19:31.564238Z",
     "iopub.status.busy": "2021-04-27T00:19:31.563481Z",
     "iopub.status.idle": "2021-04-27T00:19:31.596648Z",
     "shell.execute_reply": "2021-04-27T00:19:31.596129Z"
    },
    "papermill": {
     "duration": 0.201786,
     "end_time": "2021-04-27T00:19:31.596795",
     "exception": false,
     "start_time": "2021-04-27T00:19:31.395009",
     "status": "completed"
    },
    "tags": []
   },
   "outputs": [
    {
     "data": {
      "text/plain": [
       "month\n",
       "1     28\n",
       "2     29\n",
       "3     31\n",
       "4     30\n",
       "5     31\n",
       "6     30\n",
       "7     31\n",
       "8     31\n",
       "9     30\n",
       "10    31\n",
       "11    30\n",
       "12    31\n",
       "Name: available, dtype: int64"
      ]
     },
     "execution_count": 117,
     "metadata": {},
     "output_type": "execute_result"
    }
   ],
   "source": [
    "max_month_availability = count_calender_df.groupby('month').max()['available']\n",
    "max_month_availability"
   ]
  },
  {
   "cell_type": "code",
   "execution_count": 118,
   "id": "written-workshop",
   "metadata": {
    "execution": {
     "iopub.execute_input": "2021-04-27T00:19:31.938940Z",
     "iopub.status.busy": "2021-04-27T00:19:31.938243Z",
     "iopub.status.idle": "2021-04-27T00:19:31.941841Z",
     "shell.execute_reply": "2021-04-27T00:19:31.942416Z"
    },
    "papermill": {
     "duration": 0.180413,
     "end_time": "2021-04-27T00:19:31.942621",
     "exception": false,
     "start_time": "2021-04-27T00:19:31.762208",
     "status": "completed"
    },
    "tags": []
   },
   "outputs": [],
   "source": [
    "count_calender_df['is_available'] = count_calender_df['available'] != 0"
   ]
  },
  {
   "cell_type": "code",
   "execution_count": 119,
   "id": "incredible-guitar",
   "metadata": {
    "execution": {
     "iopub.execute_input": "2021-04-27T00:19:32.279138Z",
     "iopub.status.busy": "2021-04-27T00:19:32.273771Z",
     "iopub.status.idle": "2021-04-27T00:19:32.424696Z",
     "shell.execute_reply": "2021-04-27T00:19:32.424067Z"
    },
    "papermill": {
     "duration": 0.318546,
     "end_time": "2021-04-27T00:19:32.424875",
     "exception": false,
     "start_time": "2021-04-27T00:19:32.106329",
     "status": "completed"
    },
    "tags": []
   },
   "outputs": [
    {
     "data": {
      "image/png": "[encoded data removed]",
      "text/plain": [
       "<Figure size 432x288 with 1 Axes>"
      ]
     },
     "metadata": {
      "needs_background": "light"
     },
     "output_type": "display_data"
    }
   ],
   "source": [
    "count_calender_df.groupby('month').sum()['is_available'].plot();"
   ]
  },
  {
   "cell_type": "code",
   "execution_count": 120,
   "id": "sensitive-airplane",
   "metadata": {
    "execution": {
     "iopub.execute_input": "2021-04-27T00:19:32.764765Z",
     "iopub.status.busy": "2021-04-27T00:19:32.764077Z",
     "iopub.status.idle": "2021-04-27T00:19:32.985956Z",
     "shell.execute_reply": "2021-04-27T00:19:32.985268Z"
    },
    "papermill": {
     "duration": 0.395595,
     "end_time": "2021-04-27T00:19:32.986116",
     "exception": false,
     "start_time": "2021-04-27T00:19:32.590521",
     "status": "completed"
    },
    "tags": []
   },
   "outputs": [
    {
     "data": {
      "text/html": [
       "<div>\n",
       "<style scoped>\n",
       "    .dataframe tbody tr th:only-of-type {\n",
       "        vertical-align: middle;\n",
       "    }\n",
       "\n",
       "    .dataframe tbody tr th {\n",
       "        vertical-align: top;\n",
       "    }\n",
       "\n",
       "    .dataframe thead tr th {\n",
       "        text-align: left;\n",
       "    }\n",
       "</style>\n",
       "<table border=\"1\" class=\"dataframe\">\n",
       "  <thead>\n",
       "    <tr>\n",
       "      <th></th>\n",
       "      <th>month</th>\n",
       "      <th colspan=\"5\" halign=\"left\">price</th>\n",
       "    </tr>\n",
       "    <tr>\n",
       "      <th></th>\n",
       "      <th></th>\n",
       "      <th>mean</th>\n",
       "      <th>median</th>\n",
       "      <th>min</th>\n",
       "      <th>max</th>\n",
       "      <th>std</th>\n",
       "    </tr>\n",
       "  </thead>\n",
       "  <tbody>\n",
       "    <tr>\n",
       "      <th>0</th>\n",
       "      <td>1</td>\n",
       "      <td>121.568409</td>\n",
       "      <td>99.0</td>\n",
       "      <td>12.0</td>\n",
       "      <td>1000.0</td>\n",
       "      <td>86.900024</td>\n",
       "    </tr>\n",
       "    <tr>\n",
       "      <th>1</th>\n",
       "      <td>2</td>\n",
       "      <td>124.293927</td>\n",
       "      <td>100.0</td>\n",
       "      <td>20.0</td>\n",
       "      <td>1000.0</td>\n",
       "      <td>91.550076</td>\n",
       "    </tr>\n",
       "    <tr>\n",
       "      <th>2</th>\n",
       "      <td>3</td>\n",
       "      <td>128.644488</td>\n",
       "      <td>100.0</td>\n",
       "      <td>20.0</td>\n",
       "      <td>1099.0</td>\n",
       "      <td>94.371410</td>\n",
       "    </tr>\n",
       "    <tr>\n",
       "      <th>3</th>\n",
       "      <td>4</td>\n",
       "      <td>135.097005</td>\n",
       "      <td>110.0</td>\n",
       "      <td>20.0</td>\n",
       "      <td>1099.0</td>\n",
       "      <td>98.232098</td>\n",
       "    </tr>\n",
       "    <tr>\n",
       "      <th>4</th>\n",
       "      <td>5</td>\n",
       "      <td>139.538183</td>\n",
       "      <td>110.0</td>\n",
       "      <td>20.0</td>\n",
       "      <td>1099.0</td>\n",
       "      <td>102.863280</td>\n",
       "    </tr>\n",
       "    <tr>\n",
       "      <th>5</th>\n",
       "      <td>6</td>\n",
       "      <td>147.473137</td>\n",
       "      <td>110.0</td>\n",
       "      <td>20.0</td>\n",
       "      <td>1099.0</td>\n",
       "      <td>112.481803</td>\n",
       "    </tr>\n",
       "    <tr>\n",
       "      <th>6</th>\n",
       "      <td>7</td>\n",
       "      <td>152.094150</td>\n",
       "      <td>115.0</td>\n",
       "      <td>20.0</td>\n",
       "      <td>1240.0</td>\n",
       "      <td>120.078098</td>\n",
       "    </tr>\n",
       "    <tr>\n",
       "      <th>7</th>\n",
       "      <td>8</td>\n",
       "      <td>150.656594</td>\n",
       "      <td>114.0</td>\n",
       "      <td>20.0</td>\n",
       "      <td>1250.0</td>\n",
       "      <td>118.754189</td>\n",
       "    </tr>\n",
       "    <tr>\n",
       "      <th>8</th>\n",
       "      <td>9</td>\n",
       "      <td>143.255949</td>\n",
       "      <td>110.0</td>\n",
       "      <td>20.0</td>\n",
       "      <td>1450.0</td>\n",
       "      <td>108.804290</td>\n",
       "    </tr>\n",
       "    <tr>\n",
       "      <th>9</th>\n",
       "      <td>10</td>\n",
       "      <td>137.031939</td>\n",
       "      <td>109.0</td>\n",
       "      <td>20.0</td>\n",
       "      <td>1650.0</td>\n",
       "      <td>104.491505</td>\n",
       "    </tr>\n",
       "    <tr>\n",
       "      <th>10</th>\n",
       "      <td>11</td>\n",
       "      <td>135.688738</td>\n",
       "      <td>106.0</td>\n",
       "      <td>10.0</td>\n",
       "      <td>1650.0</td>\n",
       "      <td>104.264654</td>\n",
       "    </tr>\n",
       "    <tr>\n",
       "      <th>11</th>\n",
       "      <td>12</td>\n",
       "      <td>137.251835</td>\n",
       "      <td>109.0</td>\n",
       "      <td>20.0</td>\n",
       "      <td>1650.0</td>\n",
       "      <td>105.101659</td>\n",
       "    </tr>\n",
       "  </tbody>\n",
       "</table>\n",
       "</div>"
      ],
      "text/plain": [
       "   month       price                                 \n",
       "                mean median   min     max         std\n",
       "0      1  121.568409   99.0  12.0  1000.0   86.900024\n",
       "1      2  124.293927  100.0  20.0  1000.0   91.550076\n",
       "2      3  128.644488  100.0  20.0  1099.0   94.371410\n",
       "3      4  135.097005  110.0  20.0  1099.0   98.232098\n",
       "4      5  139.538183  110.0  20.0  1099.0  102.863280\n",
       "5      6  147.473137  110.0  20.0  1099.0  112.481803\n",
       "6      7  152.094150  115.0  20.0  1240.0  120.078098\n",
       "7      8  150.656594  114.0  20.0  1250.0  118.754189\n",
       "8      9  143.255949  110.0  20.0  1450.0  108.804290\n",
       "9     10  137.031939  109.0  20.0  1650.0  104.491505\n",
       "10    11  135.688738  106.0  10.0  1650.0  104.264654\n",
       "11    12  137.251835  109.0  20.0  1650.0  105.101659"
      ]
     },
     "execution_count": 120,
     "metadata": {},
     "output_type": "execute_result"
    }
   ],
   "source": [
    "price_tendency_df = clean_calender_df[clean_calender_df['available'] == True]\n",
    "#  Drop data of 2017\n",
    "price_tendency_df = price_tendency_df[price_tendency_df['year'] != 2017]\n",
    "\n",
    "# Drop the year column\n",
    "price_tendency_df = price_tendency_df.drop(columns = ['year'])\n",
    "# Group by month\n",
    "month_tendency_df = price_tendency_df.groupby('month').agg({\"price\": [\"mean\", 'median', 'min', 'max', 'std']}).reset_index(level=0)\n",
    "month_tendency_df"
   ]
  },
  {
   "cell_type": "code",
   "execution_count": 121,
   "id": "rational-battle",
   "metadata": {
    "execution": {
     "iopub.execute_input": "2021-04-27T00:19:33.350108Z",
     "iopub.status.busy": "2021-04-27T00:19:33.349424Z",
     "iopub.status.idle": "2021-04-27T00:19:33.467677Z",
     "shell.execute_reply": "2021-04-27T00:19:33.467089Z"
    },
    "papermill": {
     "duration": 0.316149,
     "end_time": "2021-04-27T00:19:33.467839",
     "exception": false,
     "start_time": "2021-04-27T00:19:33.151690",
     "status": "completed"
    },
    "tags": []
   },
   "outputs": [
    {
     "data": {
      "image/png": "[encoded data removed]",
      "text/plain": [
       "<Figure size 432x288 with 1 Axes>"
      ]
     },
     "metadata": {
      "needs_background": "light"
     },
     "output_type": "display_data"
    }
   ],
   "source": [
    "month_tendency_df['price']['mean'].plot();"
   ]
  }
 ],
 "metadata": {
  "kernelspec": {
   "display_name": "Python 3",
   "language": "python",
   "name": "python3"
  },
  "language_info": {
   "codemirror_mode": {
    "name": "ipython",
    "version": 3
   },
   "file_extension": ".py",
   "mimetype": "text/x-python",
   "name": "python",
   "nbconvert_exporter": "python",
   "pygments_lexer": "ipython3",
   "version": "3.7.10"
  },
  "papermill": {
   "default_parameters": {},
   "duration": 111.352503,
   "end_time": "2021-04-27T00:19:34.999040",
   "environment_variables": {},
   "exception": null,
   "input_path": "__notebook__.ipynb",
   "output_path": "__notebook__.ipynb",
   "parameters": {},
   "start_time": "2021-04-27T00:17:43.646537",
   "version": "2.3.3"
  }
 },
 "nbformat": 4,
 "nbformat_minor": 5
}
