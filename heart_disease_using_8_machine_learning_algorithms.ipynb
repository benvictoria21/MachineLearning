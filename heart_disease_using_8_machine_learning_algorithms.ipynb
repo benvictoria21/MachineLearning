{
  "nbformat": 4,
  "nbformat_minor": 0,
  "metadata": {
    "kernelspec": {
      "display_name": "Python 3",
      "language": "python",
      "name": "python3"
    },
    "language_info": {
      "codemirror_mode": {
        "name": "ipython",
        "version": 3
      },
      "file_extension": ".py",
      "mimetype": "text/x-python",
      "name": "python",
      "nbconvert_exporter": "python",
      "pygments_lexer": "ipython3",
      "version": "3.7.6"
    },
    "papermill": {
      "duration": 21.957993,
      "end_time": "2020-12-17T19:31:02.350633",
      "environment_variables": {},
      "exception": null,
      "input_path": "__notebook__.ipynb",
      "output_path": "__notebook__.ipynb",
      "parameters": {},
      "start_time": "2020-12-17T19:30:40.392640",
      "version": "2.1.0"
    },
    "colab": {
      "name": "heart-disease-using-8-machine-learning-algorithms.ipynb",
      "provenance": [],
      "include_colab_link": true
    }
  },
  "cells": [
    {
      "cell_type": "markdown",
      "metadata": {
        "id": "view-in-github",
        "colab_type": "text"
      },
      "source": [
        "<a href=\"https://colab.research.google.com/github/benvictoria21/MachineLearning/blob/master/heart_disease_using_8_machine_learning_algorithms.ipynb\" target=\"_parent\"><img src=\"https://colab.research.google.com/assets/colab-badge.svg\" alt=\"Open In Colab\"/></a>"
      ]
    },
    {
      "cell_type": "code",
      "metadata": {
        "execution": {
          "iopub.execute_input": "2020-12-17T19:30:45.476473Z",
          "iopub.status.busy": "2020-12-17T19:30:45.475828Z",
          "iopub.status.idle": "2020-12-17T19:30:46.597061Z",
          "shell.execute_reply": "2020-12-17T19:30:46.596426Z"
        },
        "papermill": {
          "duration": 1.164706,
          "end_time": "2020-12-17T19:30:46.597194",
          "exception": false,
          "start_time": "2020-12-17T19:30:45.432488",
          "status": "completed"
        },
        "tags": [],
        "id": "rQZnzjy0OHlG"
      },
      "source": [
        "import pandas as pd\n",
        "import numpy as np\n",
        "import matplotlib.pyplot as plt\n",
        "import seaborn as sns \n",
        "import matplotlib"
      ],
      "execution_count": 1,
      "outputs": []
    },
    {
      "cell_type": "code",
      "metadata": {
        "execution": {
          "iopub.execute_input": "2020-12-17T19:30:46.685949Z",
          "iopub.status.busy": "2020-12-17T19:30:46.685209Z",
          "iopub.status.idle": "2020-12-17T19:30:46.723767Z",
          "shell.execute_reply": "2020-12-17T19:30:46.723177Z"
        },
        "papermill": {
          "duration": 0.088518,
          "end_time": "2020-12-17T19:30:46.723909",
          "exception": false,
          "start_time": "2020-12-17T19:30:46.635391",
          "status": "completed"
        },
        "tags": [],
        "colab": {
          "base_uri": "https://localhost:8080/",
          "height": 195
        },
        "id": "IdqaOsShOHlG",
        "outputId": "63e30865-c497-4287-ee24-60a102acd36e"
      },
      "source": [
        "heart =pd.read_csv('https://raw.githubusercontent.com/benvictoria21/pandas/master/dataset/heart.csv')\n",
        "heart.head()"
      ],
      "execution_count": 2,
      "outputs": [
        {
          "output_type": "execute_result",
          "data": {
            "text/html": [
              "<div>\n",
              "<style scoped>\n",
              "    .dataframe tbody tr th:only-of-type {\n",
              "        vertical-align: middle;\n",
              "    }\n",
              "\n",
              "    .dataframe tbody tr th {\n",
              "        vertical-align: top;\n",
              "    }\n",
              "\n",
              "    .dataframe thead th {\n",
              "        text-align: right;\n",
              "    }\n",
              "</style>\n",
              "<table border=\"1\" class=\"dataframe\">\n",
              "  <thead>\n",
              "    <tr style=\"text-align: right;\">\n",
              "      <th></th>\n",
              "      <th>age</th>\n",
              "      <th>sex</th>\n",
              "      <th>cp</th>\n",
              "      <th>trestbps</th>\n",
              "      <th>chol</th>\n",
              "      <th>fbs</th>\n",
              "      <th>restecg</th>\n",
              "      <th>thalach</th>\n",
              "      <th>exang</th>\n",
              "      <th>oldpeak</th>\n",
              "      <th>slope</th>\n",
              "      <th>ca</th>\n",
              "      <th>thal</th>\n",
              "      <th>target</th>\n",
              "    </tr>\n",
              "  </thead>\n",
              "  <tbody>\n",
              "    <tr>\n",
              "      <th>0</th>\n",
              "      <td>63</td>\n",
              "      <td>1</td>\n",
              "      <td>3</td>\n",
              "      <td>145</td>\n",
              "      <td>233</td>\n",
              "      <td>1</td>\n",
              "      <td>0</td>\n",
              "      <td>150</td>\n",
              "      <td>0</td>\n",
              "      <td>2.3</td>\n",
              "      <td>0</td>\n",
              "      <td>0</td>\n",
              "      <td>1</td>\n",
              "      <td>1</td>\n",
              "    </tr>\n",
              "    <tr>\n",
              "      <th>1</th>\n",
              "      <td>37</td>\n",
              "      <td>1</td>\n",
              "      <td>2</td>\n",
              "      <td>130</td>\n",
              "      <td>250</td>\n",
              "      <td>0</td>\n",
              "      <td>1</td>\n",
              "      <td>187</td>\n",
              "      <td>0</td>\n",
              "      <td>3.5</td>\n",
              "      <td>0</td>\n",
              "      <td>0</td>\n",
              "      <td>2</td>\n",
              "      <td>1</td>\n",
              "    </tr>\n",
              "    <tr>\n",
              "      <th>2</th>\n",
              "      <td>41</td>\n",
              "      <td>0</td>\n",
              "      <td>1</td>\n",
              "      <td>130</td>\n",
              "      <td>204</td>\n",
              "      <td>0</td>\n",
              "      <td>0</td>\n",
              "      <td>172</td>\n",
              "      <td>0</td>\n",
              "      <td>1.4</td>\n",
              "      <td>2</td>\n",
              "      <td>0</td>\n",
              "      <td>2</td>\n",
              "      <td>1</td>\n",
              "    </tr>\n",
              "    <tr>\n",
              "      <th>3</th>\n",
              "      <td>56</td>\n",
              "      <td>1</td>\n",
              "      <td>1</td>\n",
              "      <td>120</td>\n",
              "      <td>236</td>\n",
              "      <td>0</td>\n",
              "      <td>1</td>\n",
              "      <td>178</td>\n",
              "      <td>0</td>\n",
              "      <td>0.8</td>\n",
              "      <td>2</td>\n",
              "      <td>0</td>\n",
              "      <td>2</td>\n",
              "      <td>1</td>\n",
              "    </tr>\n",
              "    <tr>\n",
              "      <th>4</th>\n",
              "      <td>57</td>\n",
              "      <td>0</td>\n",
              "      <td>0</td>\n",
              "      <td>120</td>\n",
              "      <td>354</td>\n",
              "      <td>0</td>\n",
              "      <td>1</td>\n",
              "      <td>163</td>\n",
              "      <td>1</td>\n",
              "      <td>0.6</td>\n",
              "      <td>2</td>\n",
              "      <td>0</td>\n",
              "      <td>2</td>\n",
              "      <td>1</td>\n",
              "    </tr>\n",
              "  </tbody>\n",
              "</table>\n",
              "</div>"
            ],
            "text/plain": [
              "   age  sex  cp  trestbps  chol  fbs  ...  exang  oldpeak  slope  ca  thal  target\n",
              "0   63    1   3       145   233    1  ...      0      2.3      0   0     1       1\n",
              "1   37    1   2       130   250    0  ...      0      3.5      0   0     2       1\n",
              "2   41    0   1       130   204    0  ...      0      1.4      2   0     2       1\n",
              "3   56    1   1       120   236    0  ...      0      0.8      2   0     2       1\n",
              "4   57    0   0       120   354    0  ...      1      0.6      2   0     2       1\n",
              "\n",
              "[5 rows x 14 columns]"
            ]
          },
          "metadata": {
            "tags": []
          },
          "execution_count": 2
        }
      ]
    },
    {
      "cell_type": "code",
      "metadata": {
        "execution": {
          "iopub.execute_input": "2020-12-17T19:30:46.892960Z",
          "iopub.status.busy": "2020-12-17T19:30:46.892248Z",
          "iopub.status.idle": "2020-12-17T19:30:46.896502Z",
          "shell.execute_reply": "2020-12-17T19:30:46.896973Z"
        },
        "papermill": {
          "duration": 0.05672,
          "end_time": "2020-12-17T19:30:46.897121",
          "exception": false,
          "start_time": "2020-12-17T19:30:46.840401",
          "status": "completed"
        },
        "tags": [],
        "colab": {
          "base_uri": "https://localhost:8080/"
        },
        "id": "kGklH2ruOHlH",
        "outputId": "3679c958-4720-4bd0-bf14-a99ad1c13d99"
      },
      "source": [
        "heart.info()"
      ],
      "execution_count": 3,
      "outputs": [
        {
          "output_type": "stream",
          "text": [
            "<class 'pandas.core.frame.DataFrame'>\n",
            "RangeIndex: 303 entries, 0 to 302\n",
            "Data columns (total 14 columns):\n",
            " #   Column    Non-Null Count  Dtype  \n",
            "---  ------    --------------  -----  \n",
            " 0   age       303 non-null    int64  \n",
            " 1   sex       303 non-null    int64  \n",
            " 2   cp        303 non-null    int64  \n",
            " 3   trestbps  303 non-null    int64  \n",
            " 4   chol      303 non-null    int64  \n",
            " 5   fbs       303 non-null    int64  \n",
            " 6   restecg   303 non-null    int64  \n",
            " 7   thalach   303 non-null    int64  \n",
            " 8   exang     303 non-null    int64  \n",
            " 9   oldpeak   303 non-null    float64\n",
            " 10  slope     303 non-null    int64  \n",
            " 11  ca        303 non-null    int64  \n",
            " 12  thal      303 non-null    int64  \n",
            " 13  target    303 non-null    int64  \n",
            "dtypes: float64(1), int64(13)\n",
            "memory usage: 33.3 KB\n"
          ],
          "name": "stdout"
        }
      ]
    },
    {
      "cell_type": "code",
      "metadata": {
        "execution": {
          "iopub.execute_input": "2020-12-17T19:30:46.986068Z",
          "iopub.status.busy": "2020-12-17T19:30:46.985322Z",
          "iopub.status.idle": "2020-12-17T19:30:47.033072Z",
          "shell.execute_reply": "2020-12-17T19:30:47.033718Z"
        },
        "papermill": {
          "duration": 0.097299,
          "end_time": "2020-12-17T19:30:47.033900",
          "exception": false,
          "start_time": "2020-12-17T19:30:46.936601",
          "status": "completed"
        },
        "tags": [],
        "colab": {
          "base_uri": "https://localhost:8080/",
          "height": 304
        },
        "id": "w-eRJHRLOHlI",
        "outputId": "c64647f5-e45d-404f-c29c-f7985d74f659"
      },
      "source": [
        "heart.describe()"
      ],
      "execution_count": 4,
      "outputs": [
        {
          "output_type": "execute_result",
          "data": {
            "text/html": [
              "<div>\n",
              "<style scoped>\n",
              "    .dataframe tbody tr th:only-of-type {\n",
              "        vertical-align: middle;\n",
              "    }\n",
              "\n",
              "    .dataframe tbody tr th {\n",
              "        vertical-align: top;\n",
              "    }\n",
              "\n",
              "    .dataframe thead th {\n",
              "        text-align: right;\n",
              "    }\n",
              "</style>\n",
              "<table border=\"1\" class=\"dataframe\">\n",
              "  <thead>\n",
              "    <tr style=\"text-align: right;\">\n",
              "      <th></th>\n",
              "      <th>age</th>\n",
              "      <th>sex</th>\n",
              "      <th>cp</th>\n",
              "      <th>trestbps</th>\n",
              "      <th>chol</th>\n",
              "      <th>fbs</th>\n",
              "      <th>restecg</th>\n",
              "      <th>thalach</th>\n",
              "      <th>exang</th>\n",
              "      <th>oldpeak</th>\n",
              "      <th>slope</th>\n",
              "      <th>ca</th>\n",
              "      <th>thal</th>\n",
              "      <th>target</th>\n",
              "    </tr>\n",
              "  </thead>\n",
              "  <tbody>\n",
              "    <tr>\n",
              "      <th>count</th>\n",
              "      <td>303.000000</td>\n",
              "      <td>303.000000</td>\n",
              "      <td>303.000000</td>\n",
              "      <td>303.000000</td>\n",
              "      <td>303.000000</td>\n",
              "      <td>303.000000</td>\n",
              "      <td>303.000000</td>\n",
              "      <td>303.000000</td>\n",
              "      <td>303.000000</td>\n",
              "      <td>303.000000</td>\n",
              "      <td>303.000000</td>\n",
              "      <td>303.000000</td>\n",
              "      <td>303.000000</td>\n",
              "      <td>303.000000</td>\n",
              "    </tr>\n",
              "    <tr>\n",
              "      <th>mean</th>\n",
              "      <td>54.366337</td>\n",
              "      <td>0.683168</td>\n",
              "      <td>0.966997</td>\n",
              "      <td>131.623762</td>\n",
              "      <td>246.264026</td>\n",
              "      <td>0.148515</td>\n",
              "      <td>0.528053</td>\n",
              "      <td>149.646865</td>\n",
              "      <td>0.326733</td>\n",
              "      <td>1.039604</td>\n",
              "      <td>1.399340</td>\n",
              "      <td>0.729373</td>\n",
              "      <td>2.313531</td>\n",
              "      <td>0.544554</td>\n",
              "    </tr>\n",
              "    <tr>\n",
              "      <th>std</th>\n",
              "      <td>9.082101</td>\n",
              "      <td>0.466011</td>\n",
              "      <td>1.032052</td>\n",
              "      <td>17.538143</td>\n",
              "      <td>51.830751</td>\n",
              "      <td>0.356198</td>\n",
              "      <td>0.525860</td>\n",
              "      <td>22.905161</td>\n",
              "      <td>0.469794</td>\n",
              "      <td>1.161075</td>\n",
              "      <td>0.616226</td>\n",
              "      <td>1.022606</td>\n",
              "      <td>0.612277</td>\n",
              "      <td>0.498835</td>\n",
              "    </tr>\n",
              "    <tr>\n",
              "      <th>min</th>\n",
              "      <td>29.000000</td>\n",
              "      <td>0.000000</td>\n",
              "      <td>0.000000</td>\n",
              "      <td>94.000000</td>\n",
              "      <td>126.000000</td>\n",
              "      <td>0.000000</td>\n",
              "      <td>0.000000</td>\n",
              "      <td>71.000000</td>\n",
              "      <td>0.000000</td>\n",
              "      <td>0.000000</td>\n",
              "      <td>0.000000</td>\n",
              "      <td>0.000000</td>\n",
              "      <td>0.000000</td>\n",
              "      <td>0.000000</td>\n",
              "    </tr>\n",
              "    <tr>\n",
              "      <th>25%</th>\n",
              "      <td>47.500000</td>\n",
              "      <td>0.000000</td>\n",
              "      <td>0.000000</td>\n",
              "      <td>120.000000</td>\n",
              "      <td>211.000000</td>\n",
              "      <td>0.000000</td>\n",
              "      <td>0.000000</td>\n",
              "      <td>133.500000</td>\n",
              "      <td>0.000000</td>\n",
              "      <td>0.000000</td>\n",
              "      <td>1.000000</td>\n",
              "      <td>0.000000</td>\n",
              "      <td>2.000000</td>\n",
              "      <td>0.000000</td>\n",
              "    </tr>\n",
              "    <tr>\n",
              "      <th>50%</th>\n",
              "      <td>55.000000</td>\n",
              "      <td>1.000000</td>\n",
              "      <td>1.000000</td>\n",
              "      <td>130.000000</td>\n",
              "      <td>240.000000</td>\n",
              "      <td>0.000000</td>\n",
              "      <td>1.000000</td>\n",
              "      <td>153.000000</td>\n",
              "      <td>0.000000</td>\n",
              "      <td>0.800000</td>\n",
              "      <td>1.000000</td>\n",
              "      <td>0.000000</td>\n",
              "      <td>2.000000</td>\n",
              "      <td>1.000000</td>\n",
              "    </tr>\n",
              "    <tr>\n",
              "      <th>75%</th>\n",
              "      <td>61.000000</td>\n",
              "      <td>1.000000</td>\n",
              "      <td>2.000000</td>\n",
              "      <td>140.000000</td>\n",
              "      <td>274.500000</td>\n",
              "      <td>0.000000</td>\n",
              "      <td>1.000000</td>\n",
              "      <td>166.000000</td>\n",
              "      <td>1.000000</td>\n",
              "      <td>1.600000</td>\n",
              "      <td>2.000000</td>\n",
              "      <td>1.000000</td>\n",
              "      <td>3.000000</td>\n",
              "      <td>1.000000</td>\n",
              "    </tr>\n",
              "    <tr>\n",
              "      <th>max</th>\n",
              "      <td>77.000000</td>\n",
              "      <td>1.000000</td>\n",
              "      <td>3.000000</td>\n",
              "      <td>200.000000</td>\n",
              "      <td>564.000000</td>\n",
              "      <td>1.000000</td>\n",
              "      <td>2.000000</td>\n",
              "      <td>202.000000</td>\n",
              "      <td>1.000000</td>\n",
              "      <td>6.200000</td>\n",
              "      <td>2.000000</td>\n",
              "      <td>4.000000</td>\n",
              "      <td>3.000000</td>\n",
              "      <td>1.000000</td>\n",
              "    </tr>\n",
              "  </tbody>\n",
              "</table>\n",
              "</div>"
            ],
            "text/plain": [
              "              age         sex          cp  ...          ca        thal      target\n",
              "count  303.000000  303.000000  303.000000  ...  303.000000  303.000000  303.000000\n",
              "mean    54.366337    0.683168    0.966997  ...    0.729373    2.313531    0.544554\n",
              "std      9.082101    0.466011    1.032052  ...    1.022606    0.612277    0.498835\n",
              "min     29.000000    0.000000    0.000000  ...    0.000000    0.000000    0.000000\n",
              "25%     47.500000    0.000000    0.000000  ...    0.000000    2.000000    0.000000\n",
              "50%     55.000000    1.000000    1.000000  ...    0.000000    2.000000    1.000000\n",
              "75%     61.000000    1.000000    2.000000  ...    1.000000    3.000000    1.000000\n",
              "max     77.000000    1.000000    3.000000  ...    4.000000    3.000000    1.000000\n",
              "\n",
              "[8 rows x 14 columns]"
            ]
          },
          "metadata": {
            "tags": []
          },
          "execution_count": 4
        }
      ]
    },
    {
      "cell_type": "code",
      "metadata": {
        "execution": {
          "iopub.execute_input": "2020-12-17T19:30:47.123128Z",
          "iopub.status.busy": "2020-12-17T19:30:47.122063Z",
          "iopub.status.idle": "2020-12-17T19:30:47.126400Z",
          "shell.execute_reply": "2020-12-17T19:30:47.125689Z"
        },
        "papermill": {
          "duration": 0.050344,
          "end_time": "2020-12-17T19:30:47.126517",
          "exception": false,
          "start_time": "2020-12-17T19:30:47.076173",
          "status": "completed"
        },
        "tags": [],
        "colab": {
          "base_uri": "https://localhost:8080/"
        },
        "id": "0Poe2Y7QOHlI",
        "outputId": "0c481c0a-f79d-4e7a-925d-06a6485cc9ce"
      },
      "source": [
        "heart.columns"
      ],
      "execution_count": 5,
      "outputs": [
        {
          "output_type": "execute_result",
          "data": {
            "text/plain": [
              "Index(['age', 'sex', 'cp', 'trestbps', 'chol', 'fbs', 'restecg', 'thalach',\n",
              "       'exang', 'oldpeak', 'slope', 'ca', 'thal', 'target'],\n",
              "      dtype='object')"
            ]
          },
          "metadata": {
            "tags": []
          },
          "execution_count": 5
        }
      ]
    },
    {
      "cell_type": "markdown",
      "metadata": {
        "papermill": {
          "duration": 0.040242,
          "end_time": "2020-12-17T19:30:47.207302",
          "exception": false,
          "start_time": "2020-12-17T19:30:47.167060",
          "status": "completed"
        },
        "tags": [],
        "id": "7Izx1L8OOHlJ"
      },
      "source": [
        "About this file\n",
        "age = age in years / min = 29 - max = 77\n",
        "sex = (1 = male; 0 = female)\n",
        "cp= chest pain type\n",
        "trestbps= resting blood pressure (in mm Hg on admission to the hospital)\n",
        "chol = serum cholestoral in mg/dl\n",
        "fbs = ( fasting blood sugar > 120 mg/dl) (1 = true; 0 = false)\n",
        "restecg = resting electrocardiographic results\n",
        "thalach = maximum heart rate achieved\n",
        "exang = exercise induced angina (1 = yes; 0 = no)\n",
        "oldpeak = ST depression induced by exercise relative to rest\n",
        "slope = the slope of the peak exercise ST segment\n",
        "ca = number of major vessels (0-3) colored by flourosopy\n",
        "thal3 = normal; 6 = fixed defect; 7 = reversable defect\n",
        "target = 1 or 0"
      ]
    },
    {
      "cell_type": "markdown",
      "metadata": {
        "papermill": {
          "duration": 0.040291,
          "end_time": "2020-12-17T19:30:47.288349",
          "exception": false,
          "start_time": "2020-12-17T19:30:47.248058",
          "status": "completed"
        },
        "tags": [],
        "id": "1MNITDbWOHlJ"
      },
      "source": [
        "# finding missing value "
      ]
    },
    {
      "cell_type": "code",
      "metadata": {
        "execution": {
          "iopub.execute_input": "2020-12-17T19:30:47.381487Z",
          "iopub.status.busy": "2020-12-17T19:30:47.380282Z",
          "iopub.status.idle": "2020-12-17T19:30:47.385013Z",
          "shell.execute_reply": "2020-12-17T19:30:47.384468Z"
        },
        "papermill": {
          "duration": 0.05459,
          "end_time": "2020-12-17T19:30:47.385139",
          "exception": false,
          "start_time": "2020-12-17T19:30:47.330549",
          "status": "completed"
        },
        "tags": [],
        "colab": {
          "base_uri": "https://localhost:8080/"
        },
        "id": "QcophLhcOHlK",
        "outputId": "04bfefac-5e0c-407c-e976-5efb76693dc5"
      },
      "source": [
        "heart.isnull().sum()"
      ],
      "execution_count": 6,
      "outputs": [
        {
          "output_type": "execute_result",
          "data": {
            "text/plain": [
              "age         0\n",
              "sex         0\n",
              "cp          0\n",
              "trestbps    0\n",
              "chol        0\n",
              "fbs         0\n",
              "restecg     0\n",
              "thalach     0\n",
              "exang       0\n",
              "oldpeak     0\n",
              "slope       0\n",
              "ca          0\n",
              "thal        0\n",
              "target      0\n",
              "dtype: int64"
            ]
          },
          "metadata": {
            "tags": []
          },
          "execution_count": 6
        }
      ]
    },
    {
      "cell_type": "code",
      "metadata": {
        "execution": {
          "iopub.execute_input": "2020-12-17T19:30:47.637913Z",
          "iopub.status.busy": "2020-12-17T19:30:47.637181Z",
          "iopub.status.idle": "2020-12-17T19:30:47.663012Z",
          "shell.execute_reply": "2020-12-17T19:30:47.662457Z"
        },
        "papermill": {
          "duration": 0.07031,
          "end_time": "2020-12-17T19:30:47.663142",
          "exception": false,
          "start_time": "2020-12-17T19:30:47.592832",
          "status": "completed"
        },
        "tags": [],
        "colab": {
          "base_uri": "https://localhost:8080/",
          "height": 482
        },
        "id": "aSVVloi7OHlL",
        "outputId": "c78f3746-7351-44f3-a98d-d2af90145e34"
      },
      "source": [
        "heart.corr()"
      ],
      "execution_count": 7,
      "outputs": [
        {
          "output_type": "execute_result",
          "data": {
            "text/html": [
              "<div>\n",
              "<style scoped>\n",
              "    .dataframe tbody tr th:only-of-type {\n",
              "        vertical-align: middle;\n",
              "    }\n",
              "\n",
              "    .dataframe tbody tr th {\n",
              "        vertical-align: top;\n",
              "    }\n",
              "\n",
              "    .dataframe thead th {\n",
              "        text-align: right;\n",
              "    }\n",
              "</style>\n",
              "<table border=\"1\" class=\"dataframe\">\n",
              "  <thead>\n",
              "    <tr style=\"text-align: right;\">\n",
              "      <th></th>\n",
              "      <th>age</th>\n",
              "      <th>sex</th>\n",
              "      <th>cp</th>\n",
              "      <th>trestbps</th>\n",
              "      <th>chol</th>\n",
              "      <th>fbs</th>\n",
              "      <th>restecg</th>\n",
              "      <th>thalach</th>\n",
              "      <th>exang</th>\n",
              "      <th>oldpeak</th>\n",
              "      <th>slope</th>\n",
              "      <th>ca</th>\n",
              "      <th>thal</th>\n",
              "      <th>target</th>\n",
              "    </tr>\n",
              "  </thead>\n",
              "  <tbody>\n",
              "    <tr>\n",
              "      <th>age</th>\n",
              "      <td>1.000000</td>\n",
              "      <td>-0.098447</td>\n",
              "      <td>-0.068653</td>\n",
              "      <td>0.279351</td>\n",
              "      <td>0.213678</td>\n",
              "      <td>0.121308</td>\n",
              "      <td>-0.116211</td>\n",
              "      <td>-0.398522</td>\n",
              "      <td>0.096801</td>\n",
              "      <td>0.210013</td>\n",
              "      <td>-0.168814</td>\n",
              "      <td>0.276326</td>\n",
              "      <td>0.068001</td>\n",
              "      <td>-0.225439</td>\n",
              "    </tr>\n",
              "    <tr>\n",
              "      <th>sex</th>\n",
              "      <td>-0.098447</td>\n",
              "      <td>1.000000</td>\n",
              "      <td>-0.049353</td>\n",
              "      <td>-0.056769</td>\n",
              "      <td>-0.197912</td>\n",
              "      <td>0.045032</td>\n",
              "      <td>-0.058196</td>\n",
              "      <td>-0.044020</td>\n",
              "      <td>0.141664</td>\n",
              "      <td>0.096093</td>\n",
              "      <td>-0.030711</td>\n",
              "      <td>0.118261</td>\n",
              "      <td>0.210041</td>\n",
              "      <td>-0.280937</td>\n",
              "    </tr>\n",
              "    <tr>\n",
              "      <th>cp</th>\n",
              "      <td>-0.068653</td>\n",
              "      <td>-0.049353</td>\n",
              "      <td>1.000000</td>\n",
              "      <td>0.047608</td>\n",
              "      <td>-0.076904</td>\n",
              "      <td>0.094444</td>\n",
              "      <td>0.044421</td>\n",
              "      <td>0.295762</td>\n",
              "      <td>-0.394280</td>\n",
              "      <td>-0.149230</td>\n",
              "      <td>0.119717</td>\n",
              "      <td>-0.181053</td>\n",
              "      <td>-0.161736</td>\n",
              "      <td>0.433798</td>\n",
              "    </tr>\n",
              "    <tr>\n",
              "      <th>trestbps</th>\n",
              "      <td>0.279351</td>\n",
              "      <td>-0.056769</td>\n",
              "      <td>0.047608</td>\n",
              "      <td>1.000000</td>\n",
              "      <td>0.123174</td>\n",
              "      <td>0.177531</td>\n",
              "      <td>-0.114103</td>\n",
              "      <td>-0.046698</td>\n",
              "      <td>0.067616</td>\n",
              "      <td>0.193216</td>\n",
              "      <td>-0.121475</td>\n",
              "      <td>0.101389</td>\n",
              "      <td>0.062210</td>\n",
              "      <td>-0.144931</td>\n",
              "    </tr>\n",
              "    <tr>\n",
              "      <th>chol</th>\n",
              "      <td>0.213678</td>\n",
              "      <td>-0.197912</td>\n",
              "      <td>-0.076904</td>\n",
              "      <td>0.123174</td>\n",
              "      <td>1.000000</td>\n",
              "      <td>0.013294</td>\n",
              "      <td>-0.151040</td>\n",
              "      <td>-0.009940</td>\n",
              "      <td>0.067023</td>\n",
              "      <td>0.053952</td>\n",
              "      <td>-0.004038</td>\n",
              "      <td>0.070511</td>\n",
              "      <td>0.098803</td>\n",
              "      <td>-0.085239</td>\n",
              "    </tr>\n",
              "    <tr>\n",
              "      <th>fbs</th>\n",
              "      <td>0.121308</td>\n",
              "      <td>0.045032</td>\n",
              "      <td>0.094444</td>\n",
              "      <td>0.177531</td>\n",
              "      <td>0.013294</td>\n",
              "      <td>1.000000</td>\n",
              "      <td>-0.084189</td>\n",
              "      <td>-0.008567</td>\n",
              "      <td>0.025665</td>\n",
              "      <td>0.005747</td>\n",
              "      <td>-0.059894</td>\n",
              "      <td>0.137979</td>\n",
              "      <td>-0.032019</td>\n",
              "      <td>-0.028046</td>\n",
              "    </tr>\n",
              "    <tr>\n",
              "      <th>restecg</th>\n",
              "      <td>-0.116211</td>\n",
              "      <td>-0.058196</td>\n",
              "      <td>0.044421</td>\n",
              "      <td>-0.114103</td>\n",
              "      <td>-0.151040</td>\n",
              "      <td>-0.084189</td>\n",
              "      <td>1.000000</td>\n",
              "      <td>0.044123</td>\n",
              "      <td>-0.070733</td>\n",
              "      <td>-0.058770</td>\n",
              "      <td>0.093045</td>\n",
              "      <td>-0.072042</td>\n",
              "      <td>-0.011981</td>\n",
              "      <td>0.137230</td>\n",
              "    </tr>\n",
              "    <tr>\n",
              "      <th>thalach</th>\n",
              "      <td>-0.398522</td>\n",
              "      <td>-0.044020</td>\n",
              "      <td>0.295762</td>\n",
              "      <td>-0.046698</td>\n",
              "      <td>-0.009940</td>\n",
              "      <td>-0.008567</td>\n",
              "      <td>0.044123</td>\n",
              "      <td>1.000000</td>\n",
              "      <td>-0.378812</td>\n",
              "      <td>-0.344187</td>\n",
              "      <td>0.386784</td>\n",
              "      <td>-0.213177</td>\n",
              "      <td>-0.096439</td>\n",
              "      <td>0.421741</td>\n",
              "    </tr>\n",
              "    <tr>\n",
              "      <th>exang</th>\n",
              "      <td>0.096801</td>\n",
              "      <td>0.141664</td>\n",
              "      <td>-0.394280</td>\n",
              "      <td>0.067616</td>\n",
              "      <td>0.067023</td>\n",
              "      <td>0.025665</td>\n",
              "      <td>-0.070733</td>\n",
              "      <td>-0.378812</td>\n",
              "      <td>1.000000</td>\n",
              "      <td>0.288223</td>\n",
              "      <td>-0.257748</td>\n",
              "      <td>0.115739</td>\n",
              "      <td>0.206754</td>\n",
              "      <td>-0.436757</td>\n",
              "    </tr>\n",
              "    <tr>\n",
              "      <th>oldpeak</th>\n",
              "      <td>0.210013</td>\n",
              "      <td>0.096093</td>\n",
              "      <td>-0.149230</td>\n",
              "      <td>0.193216</td>\n",
              "      <td>0.053952</td>\n",
              "      <td>0.005747</td>\n",
              "      <td>-0.058770</td>\n",
              "      <td>-0.344187</td>\n",
              "      <td>0.288223</td>\n",
              "      <td>1.000000</td>\n",
              "      <td>-0.577537</td>\n",
              "      <td>0.222682</td>\n",
              "      <td>0.210244</td>\n",
              "      <td>-0.430696</td>\n",
              "    </tr>\n",
              "    <tr>\n",
              "      <th>slope</th>\n",
              "      <td>-0.168814</td>\n",
              "      <td>-0.030711</td>\n",
              "      <td>0.119717</td>\n",
              "      <td>-0.121475</td>\n",
              "      <td>-0.004038</td>\n",
              "      <td>-0.059894</td>\n",
              "      <td>0.093045</td>\n",
              "      <td>0.386784</td>\n",
              "      <td>-0.257748</td>\n",
              "      <td>-0.577537</td>\n",
              "      <td>1.000000</td>\n",
              "      <td>-0.080155</td>\n",
              "      <td>-0.104764</td>\n",
              "      <td>0.345877</td>\n",
              "    </tr>\n",
              "    <tr>\n",
              "      <th>ca</th>\n",
              "      <td>0.276326</td>\n",
              "      <td>0.118261</td>\n",
              "      <td>-0.181053</td>\n",
              "      <td>0.101389</td>\n",
              "      <td>0.070511</td>\n",
              "      <td>0.137979</td>\n",
              "      <td>-0.072042</td>\n",
              "      <td>-0.213177</td>\n",
              "      <td>0.115739</td>\n",
              "      <td>0.222682</td>\n",
              "      <td>-0.080155</td>\n",
              "      <td>1.000000</td>\n",
              "      <td>0.151832</td>\n",
              "      <td>-0.391724</td>\n",
              "    </tr>\n",
              "    <tr>\n",
              "      <th>thal</th>\n",
              "      <td>0.068001</td>\n",
              "      <td>0.210041</td>\n",
              "      <td>-0.161736</td>\n",
              "      <td>0.062210</td>\n",
              "      <td>0.098803</td>\n",
              "      <td>-0.032019</td>\n",
              "      <td>-0.011981</td>\n",
              "      <td>-0.096439</td>\n",
              "      <td>0.206754</td>\n",
              "      <td>0.210244</td>\n",
              "      <td>-0.104764</td>\n",
              "      <td>0.151832</td>\n",
              "      <td>1.000000</td>\n",
              "      <td>-0.344029</td>\n",
              "    </tr>\n",
              "    <tr>\n",
              "      <th>target</th>\n",
              "      <td>-0.225439</td>\n",
              "      <td>-0.280937</td>\n",
              "      <td>0.433798</td>\n",
              "      <td>-0.144931</td>\n",
              "      <td>-0.085239</td>\n",
              "      <td>-0.028046</td>\n",
              "      <td>0.137230</td>\n",
              "      <td>0.421741</td>\n",
              "      <td>-0.436757</td>\n",
              "      <td>-0.430696</td>\n",
              "      <td>0.345877</td>\n",
              "      <td>-0.391724</td>\n",
              "      <td>-0.344029</td>\n",
              "      <td>1.000000</td>\n",
              "    </tr>\n",
              "  </tbody>\n",
              "</table>\n",
              "</div>"
            ],
            "text/plain": [
              "               age       sex        cp  ...        ca      thal    target\n",
              "age       1.000000 -0.098447 -0.068653  ...  0.276326  0.068001 -0.225439\n",
              "sex      -0.098447  1.000000 -0.049353  ...  0.118261  0.210041 -0.280937\n",
              "cp       -0.068653 -0.049353  1.000000  ... -0.181053 -0.161736  0.433798\n",
              "trestbps  0.279351 -0.056769  0.047608  ...  0.101389  0.062210 -0.144931\n",
              "chol      0.213678 -0.197912 -0.076904  ...  0.070511  0.098803 -0.085239\n",
              "fbs       0.121308  0.045032  0.094444  ...  0.137979 -0.032019 -0.028046\n",
              "restecg  -0.116211 -0.058196  0.044421  ... -0.072042 -0.011981  0.137230\n",
              "thalach  -0.398522 -0.044020  0.295762  ... -0.213177 -0.096439  0.421741\n",
              "exang     0.096801  0.141664 -0.394280  ...  0.115739  0.206754 -0.436757\n",
              "oldpeak   0.210013  0.096093 -0.149230  ...  0.222682  0.210244 -0.430696\n",
              "slope    -0.168814 -0.030711  0.119717  ... -0.080155 -0.104764  0.345877\n",
              "ca        0.276326  0.118261 -0.181053  ...  1.000000  0.151832 -0.391724\n",
              "thal      0.068001  0.210041 -0.161736  ...  0.151832  1.000000 -0.344029\n",
              "target   -0.225439 -0.280937  0.433798  ... -0.391724 -0.344029  1.000000\n",
              "\n",
              "[14 rows x 14 columns]"
            ]
          },
          "metadata": {
            "tags": []
          },
          "execution_count": 7
        }
      ]
    },
    {
      "cell_type": "code",
      "metadata": {
        "execution": {
          "iopub.execute_input": "2020-12-17T19:30:47.753830Z",
          "iopub.status.busy": "2020-12-17T19:30:47.753119Z",
          "iopub.status.idle": "2020-12-17T19:30:47.758072Z",
          "shell.execute_reply": "2020-12-17T19:30:47.757421Z"
        },
        "papermill": {
          "duration": 0.052318,
          "end_time": "2020-12-17T19:30:47.758185",
          "exception": false,
          "start_time": "2020-12-17T19:30:47.705867",
          "status": "completed"
        },
        "tags": [],
        "id": "OrIVr2nXOHlL"
      },
      "source": [
        "heart=heart.drop('fbs',axis=1)"
      ],
      "execution_count": 8,
      "outputs": []
    },
    {
      "cell_type": "code",
      "metadata": {
        "execution": {
          "iopub.execute_input": "2020-12-17T19:30:47.933636Z",
          "iopub.status.busy": "2020-12-17T19:30:47.932672Z",
          "iopub.status.idle": "2020-12-17T19:30:47.936101Z",
          "shell.execute_reply": "2020-12-17T19:30:47.935418Z"
        },
        "papermill": {
          "duration": 0.050734,
          "end_time": "2020-12-17T19:30:47.936218",
          "exception": false,
          "start_time": "2020-12-17T19:30:47.885484",
          "status": "completed"
        },
        "tags": [],
        "id": "czb6utPCOHlM"
      },
      "source": [
        "matplotlib.rcParams['figure.figsize'] =[10,7]\n",
        "matplotlib.rcParams.update({'font.size': 12})\n",
        "matplotlib.rcParams['font.family'] = 'sans-serif'"
      ],
      "execution_count": 9,
      "outputs": []
    },
    {
      "cell_type": "code",
      "metadata": {
        "execution": {
          "iopub.execute_input": "2020-12-17T19:30:48.027867Z",
          "iopub.status.busy": "2020-12-17T19:30:48.027174Z",
          "iopub.status.idle": "2020-12-17T19:30:49.867705Z",
          "shell.execute_reply": "2020-12-17T19:30:49.868232Z"
        },
        "papermill": {
          "duration": 1.888726,
          "end_time": "2020-12-17T19:30:49.868373",
          "exception": false,
          "start_time": "2020-12-17T19:30:47.979647",
          "status": "completed"
        },
        "tags": [],
        "colab": {
          "base_uri": "https://localhost:8080/",
          "height": 883
        },
        "id": "8YDcK74QOHlM",
        "outputId": "3da0e307-6799-48dc-a31d-3f605bbffb67"
      },
      "source": [
        "heart.hist(figsize=(15,15),edgecolor='black');"
      ],
      "execution_count": 10,
      "outputs": [
        {
          "output_type": "display_data",
          "data": {
            "image/png": "[encoded data removed]",
            "text/plain": [
              "<Figure size 1080x1080 with 16 Axes>"
            ]
          },
          "metadata": {
            "tags": [],
            "needs_background": "light"
          }
        }
      ]
    },
    {
      "cell_type": "code",
      "metadata": {
        "execution": {
          "iopub.execute_input": "2020-12-17T19:30:50.055842Z",
          "iopub.status.busy": "2020-12-17T19:30:50.055153Z",
          "iopub.status.idle": "2020-12-17T19:30:50.176611Z",
          "shell.execute_reply": "2020-12-17T19:30:50.176046Z"
        },
        "papermill": {
          "duration": 0.179249,
          "end_time": "2020-12-17T19:30:50.176736",
          "exception": false,
          "start_time": "2020-12-17T19:30:49.997487",
          "status": "completed"
        },
        "tags": [],
        "colab": {
          "base_uri": "https://localhost:8080/",
          "height": 465
        },
        "id": "12mqbvbeOHlM",
        "outputId": "0115471a-a231-456d-e5a5-7181e16eedef"
      },
      "source": [
        "sns.countplot(x='target',data=heart)\n",
        "plt.title('target = 1 or 0');"
      ],
      "execution_count": 11,
      "outputs": [
        {
          "output_type": "display_data",
          "data": {
            "image/png": "[encoded data removed]",
            "text/plain": [
              "<Figure size 720x504 with 1 Axes>"
            ]
          },
          "metadata": {
            "tags": [],
            "needs_background": "light"
          }
        }
      ]
    },
    {
      "cell_type": "code",
      "metadata": {
        "execution": {
          "iopub.execute_input": "2020-12-17T19:30:50.362177Z",
          "iopub.status.busy": "2020-12-17T19:30:50.361418Z",
          "iopub.status.idle": "2020-12-17T19:30:50.525550Z",
          "shell.execute_reply": "2020-12-17T19:30:50.524912Z"
        },
        "papermill": {
          "duration": 0.215659,
          "end_time": "2020-12-17T19:30:50.525664",
          "exception": false,
          "start_time": "2020-12-17T19:30:50.310005",
          "status": "completed"
        },
        "tags": [],
        "colab": {
          "base_uri": "https://localhost:8080/",
          "height": 482
        },
        "id": "ytghmmU7OHlN",
        "outputId": "aabe7f76-ba74-4937-dac9-a6364954fd73"
      },
      "source": [
        "sns.countplot(x='sex',hue='target',data=heart)\n",
        "plt.title('1 = positif; 0 = negatif')\n",
        "plt.xlabel('sex => 1 = male; 0 = female')"
      ],
      "execution_count": 12,
      "outputs": [
        {
          "output_type": "execute_result",
          "data": {
            "text/plain": [
              "Text(0.5, 0, 'sex => 1 = male; 0 = female')"
            ]
          },
          "metadata": {
            "tags": []
          },
          "execution_count": 12
        },
        {
          "output_type": "display_data",
          "data": {
            "image/png": "[encoded data removed]",
            "text/plain": [
              "<Figure size 720x504 with 1 Axes>"
            ]
          },
          "metadata": {
            "tags": [],
            "needs_background": "light"
          }
        }
      ]
    },
    {
      "cell_type": "code",
      "metadata": {
        "execution": {
          "iopub.execute_input": "2020-12-17T19:30:50.729731Z",
          "iopub.status.busy": "2020-12-17T19:30:50.712283Z",
          "iopub.status.idle": "2020-12-17T19:30:51.077465Z",
          "shell.execute_reply": "2020-12-17T19:30:51.076804Z"
        },
        "papermill": {
          "duration": 0.416236,
          "end_time": "2020-12-17T19:30:51.077583",
          "exception": false,
          "start_time": "2020-12-17T19:30:50.661347",
          "status": "completed"
        },
        "tags": [],
        "colab": {
          "base_uri": "https://localhost:8080/",
          "height": 448
        },
        "id": "CzGYx6jkOHlN",
        "outputId": "d752b7e8-5981-4e44-d239-9190b4851ec1"
      },
      "source": [
        "sns.countplot(x='age',data=heart);"
      ],
      "execution_count": 13,
      "outputs": [
        {
          "output_type": "display_data",
          "data": {
            "image/png": "[encoded data removed]",
            "text/plain": [
              "<Figure size 720x504 with 1 Axes>"
            ]
          },
          "metadata": {
            "tags": [],
            "needs_background": "light"
          }
        }
      ]
    },
    {
      "cell_type": "code",
      "metadata": {
        "execution": {
          "iopub.execute_input": "2020-12-17T19:30:51.359883Z",
          "iopub.status.busy": "2020-12-17T19:30:51.359153Z",
          "iopub.status.idle": "2020-12-17T19:30:51.478302Z",
          "shell.execute_reply": "2020-12-17T19:30:51.477460Z"
        },
        "papermill": {
          "duration": 0.17001,
          "end_time": "2020-12-17T19:30:51.478441",
          "exception": false,
          "start_time": "2020-12-17T19:30:51.308431",
          "status": "completed"
        },
        "tags": [],
        "id": "1p7XecQPOHlO"
      },
      "source": [
        "from sklearn.model_selection import train_test_split \n",
        "from sklearn import metrics\n",
        "from sklearn.metrics import accuracy_score"
      ],
      "execution_count": 14,
      "outputs": []
    },
    {
      "cell_type": "code",
      "metadata": {
        "execution": {
          "iopub.execute_input": "2020-12-17T19:30:51.578608Z",
          "iopub.status.busy": "2020-12-17T19:30:51.577931Z",
          "iopub.status.idle": "2020-12-17T19:30:51.580956Z",
          "shell.execute_reply": "2020-12-17T19:30:51.580299Z"
        },
        "papermill": {
          "duration": 0.055638,
          "end_time": "2020-12-17T19:30:51.581093",
          "exception": false,
          "start_time": "2020-12-17T19:30:51.525455",
          "status": "completed"
        },
        "tags": [],
        "id": "55pbh8v6OHlO"
      },
      "source": [
        "x=heart.drop('target',axis=1)\n",
        "y=heart.target"
      ],
      "execution_count": 15,
      "outputs": []
    },
    {
      "cell_type": "code",
      "metadata": {
        "execution": {
          "iopub.execute_input": "2020-12-17T19:30:51.680391Z",
          "iopub.status.busy": "2020-12-17T19:30:51.679719Z",
          "iopub.status.idle": "2020-12-17T19:30:51.682646Z",
          "shell.execute_reply": "2020-12-17T19:30:51.682005Z"
        },
        "papermill": {
          "duration": 0.05529,
          "end_time": "2020-12-17T19:30:51.682769",
          "exception": false,
          "start_time": "2020-12-17T19:30:51.627479",
          "status": "completed"
        },
        "tags": [],
        "id": "be7zh_laOHlO"
      },
      "source": [
        "x_train, x_test, y_train, y_test = train_test_split(x, y, test_size = 0.20)"
      ],
      "execution_count": 16,
      "outputs": []
    },
    {
      "cell_type": "code",
      "metadata": {
        "execution": {
          "iopub.execute_input": "2020-12-17T19:30:51.780605Z",
          "iopub.status.busy": "2020-12-17T19:30:51.779740Z",
          "iopub.status.idle": "2020-12-17T19:30:51.783169Z",
          "shell.execute_reply": "2020-12-17T19:30:51.783691Z"
        },
        "papermill": {
          "duration": 0.05462,
          "end_time": "2020-12-17T19:30:51.783848",
          "exception": false,
          "start_time": "2020-12-17T19:30:51.729228",
          "status": "completed"
        },
        "tags": [],
        "colab": {
          "base_uri": "https://localhost:8080/"
        },
        "id": "XIDaZG-ZOHlO",
        "outputId": "627ae7c1-3e67-49fd-a566-d160e041d94f"
      },
      "source": [
        "print(x_train.shape,y_train.shape,x_test.shape,y_test.shape)"
      ],
      "execution_count": 17,
      "outputs": [
        {
          "output_type": "stream",
          "text": [
            "(242, 12) (242,) (61, 12) (61,)\n"
          ],
          "name": "stdout"
        }
      ]
    },
    {
      "cell_type": "code",
      "metadata": {
        "execution": {
          "iopub.execute_input": "2020-12-17T19:30:51.973231Z",
          "iopub.status.busy": "2020-12-17T19:30:51.972508Z",
          "iopub.status.idle": "2020-12-17T19:30:52.069453Z",
          "shell.execute_reply": "2020-12-17T19:30:52.068701Z"
        },
        "papermill": {
          "duration": 0.147422,
          "end_time": "2020-12-17T19:30:52.069582",
          "exception": false,
          "start_time": "2020-12-17T19:30:51.922160",
          "status": "completed"
        },
        "tags": [],
        "id": "Aq9CDDcvOHlP"
      },
      "source": [
        "from sklearn import linear_model"
      ],
      "execution_count": 18,
      "outputs": []
    },
    {
      "cell_type": "code",
      "metadata": {
        "execution": {
          "iopub.execute_input": "2020-12-17T19:30:52.168942Z",
          "iopub.status.busy": "2020-12-17T19:30:52.168095Z",
          "iopub.status.idle": "2020-12-17T19:30:52.171191Z",
          "shell.execute_reply": "2020-12-17T19:30:52.170504Z"
        },
        "papermill": {
          "duration": 0.05404,
          "end_time": "2020-12-17T19:30:52.171312",
          "exception": false,
          "start_time": "2020-12-17T19:30:52.117272",
          "status": "completed"
        },
        "tags": [],
        "id": "Wd8S4wRXOHlP"
      },
      "source": [
        "#Train the model\n",
        "model = linear_model.LinearRegression()"
      ],
      "execution_count": 19,
      "outputs": []
    },
    {
      "cell_type": "code",
      "metadata": {
        "execution": {
          "iopub.execute_input": "2020-12-17T19:30:52.327902Z",
          "iopub.status.busy": "2020-12-17T19:30:52.291717Z",
          "iopub.status.idle": "2020-12-17T19:30:52.337069Z",
          "shell.execute_reply": "2020-12-17T19:30:52.336424Z"
        },
        "papermill": {
          "duration": 0.118818,
          "end_time": "2020-12-17T19:30:52.337198",
          "exception": false,
          "start_time": "2020-12-17T19:30:52.218380",
          "status": "completed"
        },
        "tags": [],
        "colab": {
          "base_uri": "https://localhost:8080/"
        },
        "id": "SsB0KDPTOHlP",
        "outputId": "f626feaa-bbef-450c-cbf1-16590129b9ef"
      },
      "source": [
        "#Fit the model\n",
        "model.fit(x_train, y_train)"
      ],
      "execution_count": 20,
      "outputs": [
        {
          "output_type": "execute_result",
          "data": {
            "text/plain": [
              "LinearRegression(copy_X=True, fit_intercept=True, n_jobs=None, normalize=False)"
            ]
          },
          "metadata": {
            "tags": []
          },
          "execution_count": 20
        }
      ]
    },
    {
      "cell_type": "code",
      "metadata": {
        "execution": {
          "iopub.execute_input": "2020-12-17T19:30:52.442509Z",
          "iopub.status.busy": "2020-12-17T19:30:52.441519Z",
          "iopub.status.idle": "2020-12-17T19:30:52.445048Z",
          "shell.execute_reply": "2020-12-17T19:30:52.445907Z"
        },
        "papermill": {
          "duration": 0.061272,
          "end_time": "2020-12-17T19:30:52.446087",
          "exception": false,
          "start_time": "2020-12-17T19:30:52.384815",
          "status": "completed"
        },
        "tags": [],
        "colab": {
          "base_uri": "https://localhost:8080/"
        },
        "id": "z6y2mYbxOHlP",
        "outputId": "46417748-70cb-434d-a0bf-8eea269ea244"
      },
      "source": [
        "#Score/Accuracy\n",
        "print(\"Accuracy --> \", model.score(x_test, y_test)*100)"
      ],
      "execution_count": 21,
      "outputs": [
        {
          "output_type": "stream",
          "text": [
            "Accuracy -->  47.083654158945606\n"
          ],
          "name": "stdout"
        }
      ]
    },
    {
      "cell_type": "code",
      "metadata": {
        "execution": {
          "iopub.execute_input": "2020-12-17T19:30:52.643753Z",
          "iopub.status.busy": "2020-12-17T19:30:52.642800Z",
          "iopub.status.idle": "2020-12-17T19:30:52.645982Z",
          "shell.execute_reply": "2020-12-17T19:30:52.645429Z"
        },
        "papermill": {
          "duration": 0.056198,
          "end_time": "2020-12-17T19:30:52.646102",
          "exception": false,
          "start_time": "2020-12-17T19:30:52.589904",
          "status": "completed"
        },
        "tags": [],
        "id": "KHmwmdEeOHlQ"
      },
      "source": [
        "from sklearn.linear_model import LogisticRegression"
      ],
      "execution_count": 22,
      "outputs": []
    },
    {
      "cell_type": "code",
      "metadata": {
        "execution": {
          "iopub.execute_input": "2020-12-17T19:30:52.747148Z",
          "iopub.status.busy": "2020-12-17T19:30:52.746254Z",
          "iopub.status.idle": "2020-12-17T19:30:52.748910Z",
          "shell.execute_reply": "2020-12-17T19:30:52.748380Z"
        },
        "papermill": {
          "duration": 0.055082,
          "end_time": "2020-12-17T19:30:52.749024",
          "exception": false,
          "start_time": "2020-12-17T19:30:52.693942",
          "status": "completed"
        },
        "tags": [],
        "id": "yRCEBYa8OHlQ"
      },
      "source": [
        "model = LogisticRegression()"
      ],
      "execution_count": 23,
      "outputs": []
    },
    {
      "cell_type": "code",
      "metadata": {
        "execution": {
          "iopub.execute_input": "2020-12-17T19:30:52.882272Z",
          "iopub.status.busy": "2020-12-17T19:30:52.850626Z",
          "iopub.status.idle": "2020-12-17T19:30:52.893987Z",
          "shell.execute_reply": "2020-12-17T19:30:52.893181Z"
        },
        "papermill": {
          "duration": 0.097448,
          "end_time": "2020-12-17T19:30:52.894126",
          "exception": false,
          "start_time": "2020-12-17T19:30:52.796678",
          "status": "completed"
        },
        "tags": [],
        "colab": {
          "base_uri": "https://localhost:8080/"
        },
        "id": "iPRFhHj9OHlQ",
        "outputId": "095f5d5c-9a41-40c7-bc91-b5e0cb6e0140"
      },
      "source": [
        "#Fit the model\n",
        "model.fit(x_train, y_train)"
      ],
      "execution_count": 24,
      "outputs": [
        {
          "output_type": "stream",
          "text": [
            "/usr/local/lib/python3.6/dist-packages/sklearn/linear_model/_logistic.py:940: ConvergenceWarning: lbfgs failed to converge (status=1):\n",
            "STOP: TOTAL NO. of ITERATIONS REACHED LIMIT.\n",
            "\n",
            "Increase the number of iterations (max_iter) or scale the data as shown in:\n",
            "    https://scikit-learn.org/stable/modules/preprocessing.html\n",
            "Please also refer to the documentation for alternative solver options:\n",
            "    https://scikit-learn.org/stable/modules/linear_model.html#logistic-regression\n",
            "  extra_warning_msg=_LOGISTIC_SOLVER_CONVERGENCE_MSG)\n"
          ],
          "name": "stderr"
        },
        {
          "output_type": "execute_result",
          "data": {
            "text/plain": [
              "LogisticRegression(C=1.0, class_weight=None, dual=False, fit_intercept=True,\n",
              "                   intercept_scaling=1, l1_ratio=None, max_iter=100,\n",
              "                   multi_class='auto', n_jobs=None, penalty='l2',\n",
              "                   random_state=None, solver='lbfgs', tol=0.0001, verbose=0,\n",
              "                   warm_start=False)"
            ]
          },
          "metadata": {
            "tags": []
          },
          "execution_count": 24
        }
      ]
    },
    {
      "cell_type": "code",
      "metadata": {
        "execution": {
          "iopub.execute_input": "2020-12-17T19:30:53.005367Z",
          "iopub.status.busy": "2020-12-17T19:30:53.004502Z",
          "iopub.status.idle": "2020-12-17T19:30:53.007600Z",
          "shell.execute_reply": "2020-12-17T19:30:53.008220Z"
        },
        "papermill": {
          "duration": 0.061219,
          "end_time": "2020-12-17T19:30:53.008409",
          "exception": false,
          "start_time": "2020-12-17T19:30:52.947190",
          "status": "completed"
        },
        "tags": [],
        "id": "0SlmKIf7OHlQ"
      },
      "source": [
        "y_pred = model.predict(x_test)"
      ],
      "execution_count": 25,
      "outputs": []
    },
    {
      "cell_type": "code",
      "metadata": {
        "execution": {
          "iopub.execute_input": "2020-12-17T19:30:53.121501Z",
          "iopub.status.busy": "2020-12-17T19:30:53.120807Z",
          "iopub.status.idle": "2020-12-17T19:30:53.124092Z",
          "shell.execute_reply": "2020-12-17T19:30:53.124513Z"
        },
        "papermill": {
          "duration": 0.061246,
          "end_time": "2020-12-17T19:30:53.124658",
          "exception": false,
          "start_time": "2020-12-17T19:30:53.063412",
          "status": "completed"
        },
        "tags": [],
        "colab": {
          "base_uri": "https://localhost:8080/"
        },
        "id": "3vQzic9FOHlQ",
        "outputId": "7b9b6402-803c-4cb1-c679-902a63b09f29"
      },
      "source": [
        "#Score/Accuracy\n",
        "print(\"Accuracy --> \", model.score(x_test, y_test)*100)"
      ],
      "execution_count": 26,
      "outputs": [
        {
          "output_type": "stream",
          "text": [
            "Accuracy -->  85.24590163934425\n"
          ],
          "name": "stdout"
        }
      ]
    },
    {
      "cell_type": "code",
      "metadata": {
        "execution": {
          "iopub.execute_input": "2020-12-17T19:30:53.326544Z",
          "iopub.status.busy": "2020-12-17T19:30:53.325836Z",
          "iopub.status.idle": "2020-12-17T19:30:53.453343Z",
          "shell.execute_reply": "2020-12-17T19:30:53.452612Z"
        },
        "papermill": {
          "duration": 0.180604,
          "end_time": "2020-12-17T19:30:53.453460",
          "exception": false,
          "start_time": "2020-12-17T19:30:53.272856",
          "status": "completed"
        },
        "tags": [],
        "id": "Y_3Nsyi2OHlR"
      },
      "source": [
        "from sklearn.ensemble import RandomForestRegressor"
      ],
      "execution_count": 27,
      "outputs": []
    },
    {
      "cell_type": "code",
      "metadata": {
        "execution": {
          "iopub.execute_input": "2020-12-17T19:30:53.557603Z",
          "iopub.status.busy": "2020-12-17T19:30:53.556961Z",
          "iopub.status.idle": "2020-12-17T19:30:53.559771Z",
          "shell.execute_reply": "2020-12-17T19:30:53.560287Z"
        },
        "papermill": {
          "duration": 0.057494,
          "end_time": "2020-12-17T19:30:53.560444",
          "exception": false,
          "start_time": "2020-12-17T19:30:53.502950",
          "status": "completed"
        },
        "tags": [],
        "id": "7-5UUS0mOHlR"
      },
      "source": [
        "#Train the model\n",
        "model = RandomForestRegressor(n_estimators=1000)"
      ],
      "execution_count": 28,
      "outputs": []
    },
    {
      "cell_type": "code",
      "metadata": {
        "execution": {
          "iopub.execute_input": "2020-12-17T19:30:53.670056Z",
          "iopub.status.busy": "2020-12-17T19:30:53.664581Z",
          "iopub.status.idle": "2020-12-17T19:30:55.359172Z",
          "shell.execute_reply": "2020-12-17T19:30:55.359955Z"
        },
        "papermill": {
          "duration": 1.750803,
          "end_time": "2020-12-17T19:30:55.360169",
          "exception": false,
          "start_time": "2020-12-17T19:30:53.609366",
          "status": "completed"
        },
        "tags": [],
        "colab": {
          "base_uri": "https://localhost:8080/"
        },
        "id": "L_C0G_EZOHlR",
        "outputId": "d3b948b1-c8d4-48a8-c436-48ed31ab0d23"
      },
      "source": [
        "#Fit\n",
        "model.fit(x_train, y_train)"
      ],
      "execution_count": 29,
      "outputs": [
        {
          "output_type": "execute_result",
          "data": {
            "text/plain": [
              "RandomForestRegressor(bootstrap=True, ccp_alpha=0.0, criterion='mse',\n",
              "                      max_depth=None, max_features='auto', max_leaf_nodes=None,\n",
              "                      max_samples=None, min_impurity_decrease=0.0,\n",
              "                      min_impurity_split=None, min_samples_leaf=1,\n",
              "                      min_samples_split=2, min_weight_fraction_leaf=0.0,\n",
              "                      n_estimators=1000, n_jobs=None, oob_score=False,\n",
              "                      random_state=None, verbose=0, warm_start=False)"
            ]
          },
          "metadata": {
            "tags": []
          },
          "execution_count": 29
        }
      ]
    },
    {
      "cell_type": "code",
      "metadata": {
        "execution": {
          "iopub.execute_input": "2020-12-17T19:30:55.482125Z",
          "iopub.status.busy": "2020-12-17T19:30:55.480495Z",
          "iopub.status.idle": "2020-12-17T19:30:55.557530Z",
          "shell.execute_reply": "2020-12-17T19:30:55.558270Z"
        },
        "papermill": {
          "duration": 0.140728,
          "end_time": "2020-12-17T19:30:55.558574",
          "exception": false,
          "start_time": "2020-12-17T19:30:55.417846",
          "status": "completed"
        },
        "tags": [],
        "colab": {
          "base_uri": "https://localhost:8080/"
        },
        "id": "yZ7YsUHGOHlR",
        "outputId": "8a808014-3458-4f55-b3cc-bd81e80ac9c0"
      },
      "source": [
        "#Score/Accuracy\n",
        "print(\"Accuracy --> \", model.score(x_test, y_test)*100)"
      ],
      "execution_count": 30,
      "outputs": [
        {
          "output_type": "stream",
          "text": [
            "Accuracy -->  48.8214917211329\n"
          ],
          "name": "stdout"
        }
      ]
    },
    {
      "cell_type": "code",
      "metadata": {
        "execution": {
          "iopub.execute_input": "2020-12-17T19:30:55.781630Z",
          "iopub.status.busy": "2020-12-17T19:30:55.780840Z",
          "iopub.status.idle": "2020-12-17T19:30:55.783657Z",
          "shell.execute_reply": "2020-12-17T19:30:55.784211Z"
        },
        "papermill": {
          "duration": 0.05835,
          "end_time": "2020-12-17T19:30:55.784358",
          "exception": false,
          "start_time": "2020-12-17T19:30:55.726008",
          "status": "completed"
        },
        "tags": [],
        "id": "oA45uYRwOHlS"
      },
      "source": [
        "from sklearn.ensemble import GradientBoostingRegressor"
      ],
      "execution_count": 31,
      "outputs": []
    },
    {
      "cell_type": "code",
      "metadata": {
        "execution": {
          "iopub.execute_input": "2020-12-17T19:30:55.892125Z",
          "iopub.status.busy": "2020-12-17T19:30:55.890845Z",
          "iopub.status.idle": "2020-12-17T19:30:55.894423Z",
          "shell.execute_reply": "2020-12-17T19:30:55.893746Z"
        },
        "papermill": {
          "duration": 0.059284,
          "end_time": "2020-12-17T19:30:55.894544",
          "exception": false,
          "start_time": "2020-12-17T19:30:55.835260",
          "status": "completed"
        },
        "tags": [],
        "id": "9F83y657OHlS"
      },
      "source": [
        "#Train the model\n",
        "GBR = GradientBoostingRegressor(n_estimators=100, max_depth=4)"
      ],
      "execution_count": 32,
      "outputs": []
    },
    {
      "cell_type": "code",
      "metadata": {
        "execution": {
          "iopub.execute_input": "2020-12-17T19:30:56.004345Z",
          "iopub.status.busy": "2020-12-17T19:30:56.003620Z",
          "iopub.status.idle": "2020-12-17T19:30:56.075443Z",
          "shell.execute_reply": "2020-12-17T19:30:56.074801Z"
        },
        "papermill": {
          "duration": 0.130409,
          "end_time": "2020-12-17T19:30:56.075552",
          "exception": false,
          "start_time": "2020-12-17T19:30:55.945143",
          "status": "completed"
        },
        "tags": [],
        "colab": {
          "base_uri": "https://localhost:8080/"
        },
        "id": "LNjgVp_TOHlS",
        "outputId": "dc67a284-4bd7-45f7-ccec-b763fd7f6d7f"
      },
      "source": [
        "#Fit\n",
        "GBR.fit(x_train, y_train)"
      ],
      "execution_count": 33,
      "outputs": [
        {
          "output_type": "execute_result",
          "data": {
            "text/plain": [
              "GradientBoostingRegressor(alpha=0.9, ccp_alpha=0.0, criterion='friedman_mse',\n",
              "                          init=None, learning_rate=0.1, loss='ls', max_depth=4,\n",
              "                          max_features=None, max_leaf_nodes=None,\n",
              "                          min_impurity_decrease=0.0, min_impurity_split=None,\n",
              "                          min_samples_leaf=1, min_samples_split=2,\n",
              "                          min_weight_fraction_leaf=0.0, n_estimators=100,\n",
              "                          n_iter_no_change=None, presort='deprecated',\n",
              "                          random_state=None, subsample=1.0, tol=0.0001,\n",
              "                          validation_fraction=0.1, verbose=0, warm_start=False)"
            ]
          },
          "metadata": {
            "tags": []
          },
          "execution_count": 33
        }
      ]
    },
    {
      "cell_type": "code",
      "metadata": {
        "execution": {
          "iopub.execute_input": "2020-12-17T19:30:56.185667Z",
          "iopub.status.busy": "2020-12-17T19:30:56.184970Z",
          "iopub.status.idle": "2020-12-17T19:30:56.190479Z",
          "shell.execute_reply": "2020-12-17T19:30:56.189586Z"
        },
        "papermill": {
          "duration": 0.064063,
          "end_time": "2020-12-17T19:30:56.190637",
          "exception": false,
          "start_time": "2020-12-17T19:30:56.126574",
          "status": "completed"
        },
        "tags": [],
        "colab": {
          "base_uri": "https://localhost:8080/"
        },
        "id": "ibUFOZibOHlS",
        "outputId": "790e1ef8-7d1c-45c7-d8c0-d01f7b2901e2"
      },
      "source": [
        "print(\"Accuracy --> \", GBR.score(x_test, y_test)*100)"
      ],
      "execution_count": 34,
      "outputs": [
        {
          "output_type": "stream",
          "text": [
            "Accuracy -->  43.79005124581511\n"
          ],
          "name": "stdout"
        }
      ]
    },
    {
      "cell_type": "code",
      "metadata": {
        "execution": {
          "iopub.execute_input": "2020-12-17T19:30:56.404366Z",
          "iopub.status.busy": "2020-12-17T19:30:56.403472Z",
          "iopub.status.idle": "2020-12-17T19:30:56.407137Z",
          "shell.execute_reply": "2020-12-17T19:30:56.406633Z"
        },
        "papermill": {
          "duration": 0.061158,
          "end_time": "2020-12-17T19:30:56.407261",
          "exception": false,
          "start_time": "2020-12-17T19:30:56.346103",
          "status": "completed"
        },
        "tags": [],
        "id": "7bZbdkscOHlT"
      },
      "source": [
        "from sklearn.neighbors import KNeighborsClassifier"
      ],
      "execution_count": 35,
      "outputs": []
    },
    {
      "cell_type": "code",
      "metadata": {
        "execution": {
          "iopub.execute_input": "2020-12-17T19:30:56.516316Z",
          "iopub.status.busy": "2020-12-17T19:30:56.515419Z",
          "iopub.status.idle": "2020-12-17T19:30:56.518022Z",
          "shell.execute_reply": "2020-12-17T19:30:56.518472Z"
        },
        "papermill": {
          "duration": 0.059238,
          "end_time": "2020-12-17T19:30:56.518616",
          "exception": false,
          "start_time": "2020-12-17T19:30:56.459378",
          "status": "completed"
        },
        "tags": [],
        "id": "6ANAIw1QOHlT"
      },
      "source": [
        "knn = KNeighborsClassifier(n_neighbors=20)"
      ],
      "execution_count": 36,
      "outputs": []
    },
    {
      "cell_type": "code",
      "metadata": {
        "execution": {
          "iopub.execute_input": "2020-12-17T19:30:56.636347Z",
          "iopub.status.busy": "2020-12-17T19:30:56.635347Z",
          "iopub.status.idle": "2020-12-17T19:30:56.639484Z",
          "shell.execute_reply": "2020-12-17T19:30:56.638914Z"
        },
        "papermill": {
          "duration": 0.064583,
          "end_time": "2020-12-17T19:30:56.639598",
          "exception": false,
          "start_time": "2020-12-17T19:30:56.575015",
          "status": "completed"
        },
        "tags": [],
        "colab": {
          "base_uri": "https://localhost:8080/"
        },
        "id": "C8mVzey_OHlT",
        "outputId": "c24dc927-163b-42a4-8939-498232f95fa9"
      },
      "source": [
        "knn.fit(x_train, y_train)"
      ],
      "execution_count": 37,
      "outputs": [
        {
          "output_type": "execute_result",
          "data": {
            "text/plain": [
              "KNeighborsClassifier(algorithm='auto', leaf_size=30, metric='minkowski',\n",
              "                     metric_params=None, n_jobs=None, n_neighbors=20, p=2,\n",
              "                     weights='uniform')"
            ]
          },
          "metadata": {
            "tags": []
          },
          "execution_count": 37
        }
      ]
    },
    {
      "cell_type": "code",
      "metadata": {
        "execution": {
          "iopub.execute_input": "2020-12-17T19:30:56.751992Z",
          "iopub.status.busy": "2020-12-17T19:30:56.750947Z",
          "iopub.status.idle": "2020-12-17T19:30:56.758072Z",
          "shell.execute_reply": "2020-12-17T19:30:56.757431Z"
        },
        "papermill": {
          "duration": 0.066678,
          "end_time": "2020-12-17T19:30:56.758191",
          "exception": false,
          "start_time": "2020-12-17T19:30:56.691513",
          "status": "completed"
        },
        "tags": [],
        "id": "hcoIIBFGOHlT"
      },
      "source": [
        "y_pred = knn.predict(x_test)"
      ],
      "execution_count": 38,
      "outputs": []
    },
    {
      "cell_type": "code",
      "metadata": {
        "execution": {
          "iopub.execute_input": "2020-12-17T19:30:56.870278Z",
          "iopub.status.busy": "2020-12-17T19:30:56.869612Z",
          "iopub.status.idle": "2020-12-17T19:30:56.876631Z",
          "shell.execute_reply": "2020-12-17T19:30:56.877172Z"
        },
        "papermill": {
          "duration": 0.067164,
          "end_time": "2020-12-17T19:30:56.877321",
          "exception": false,
          "start_time": "2020-12-17T19:30:56.810157",
          "status": "completed"
        },
        "tags": [],
        "colab": {
          "base_uri": "https://localhost:8080/"
        },
        "id": "FMtM-GWTOHlT",
        "outputId": "faa57811-69ff-490f-a3ac-8deee5b85359"
      },
      "source": [
        "#Score/Accuracy\n",
        "print(\"Accuracy --> \", knn.score(x_test, y_test)*100)"
      ],
      "execution_count": 39,
      "outputs": [
        {
          "output_type": "stream",
          "text": [
            "Accuracy -->  72.1311475409836\n"
          ],
          "name": "stdout"
        }
      ]
    },
    {
      "cell_type": "code",
      "metadata": {
        "execution": {
          "iopub.execute_input": "2020-12-17T19:30:57.092905Z",
          "iopub.status.busy": "2020-12-17T19:30:57.091968Z",
          "iopub.status.idle": "2020-12-17T19:30:57.095145Z",
          "shell.execute_reply": "2020-12-17T19:30:57.094496Z"
        },
        "papermill": {
          "duration": 0.061248,
          "end_time": "2020-12-17T19:30:57.095258",
          "exception": false,
          "start_time": "2020-12-17T19:30:57.034010",
          "status": "completed"
        },
        "tags": [],
        "id": "4u-Kz0mDOHlU"
      },
      "source": [
        "from sklearn import tree"
      ],
      "execution_count": 40,
      "outputs": []
    },
    {
      "cell_type": "code",
      "metadata": {
        "execution": {
          "iopub.execute_input": "2020-12-17T19:30:57.205563Z",
          "iopub.status.busy": "2020-12-17T19:30:57.204557Z",
          "iopub.status.idle": "2020-12-17T19:30:57.207680Z",
          "shell.execute_reply": "2020-12-17T19:30:57.207207Z"
        },
        "papermill": {
          "duration": 0.059827,
          "end_time": "2020-12-17T19:30:57.207815",
          "exception": false,
          "start_time": "2020-12-17T19:30:57.147988",
          "status": "completed"
        },
        "tags": [],
        "id": "RCQDS4y4OHlU"
      },
      "source": [
        "t = tree.DecisionTreeClassifier()"
      ],
      "execution_count": 41,
      "outputs": []
    },
    {
      "cell_type": "code",
      "metadata": {
        "execution": {
          "iopub.execute_input": "2020-12-17T19:30:57.321019Z",
          "iopub.status.busy": "2020-12-17T19:30:57.320154Z",
          "iopub.status.idle": "2020-12-17T19:30:57.326154Z",
          "shell.execute_reply": "2020-12-17T19:30:57.325571Z"
        },
        "papermill": {
          "duration": 0.065415,
          "end_time": "2020-12-17T19:30:57.326270",
          "exception": false,
          "start_time": "2020-12-17T19:30:57.260855",
          "status": "completed"
        },
        "tags": [],
        "colab": {
          "base_uri": "https://localhost:8080/"
        },
        "id": "T_68Ve_tOHlU",
        "outputId": "8334aa27-67cf-46a4-99ed-c093a8e896cb"
      },
      "source": [
        "t.fit(x_train,y_train)"
      ],
      "execution_count": 42,
      "outputs": [
        {
          "output_type": "execute_result",
          "data": {
            "text/plain": [
              "DecisionTreeClassifier(ccp_alpha=0.0, class_weight=None, criterion='gini',\n",
              "                       max_depth=None, max_features=None, max_leaf_nodes=None,\n",
              "                       min_impurity_decrease=0.0, min_impurity_split=None,\n",
              "                       min_samples_leaf=1, min_samples_split=2,\n",
              "                       min_weight_fraction_leaf=0.0, presort='deprecated',\n",
              "                       random_state=None, splitter='best')"
            ]
          },
          "metadata": {
            "tags": []
          },
          "execution_count": 42
        }
      ]
    },
    {
      "cell_type": "code",
      "metadata": {
        "execution": {
          "iopub.execute_input": "2020-12-17T19:30:57.439489Z",
          "iopub.status.busy": "2020-12-17T19:30:57.438609Z",
          "iopub.status.idle": "2020-12-17T19:30:57.441627Z",
          "shell.execute_reply": "2020-12-17T19:30:57.441093Z"
        },
        "papermill": {
          "duration": 0.062499,
          "end_time": "2020-12-17T19:30:57.441793",
          "exception": false,
          "start_time": "2020-12-17T19:30:57.379294",
          "status": "completed"
        },
        "tags": [],
        "id": "rmxznrrAOHlU"
      },
      "source": [
        "y_pred = t.predict(x_test)"
      ],
      "execution_count": 43,
      "outputs": []
    },
    {
      "cell_type": "code",
      "metadata": {
        "execution": {
          "iopub.execute_input": "2020-12-17T19:30:57.557426Z",
          "iopub.status.busy": "2020-12-17T19:30:57.556379Z",
          "iopub.status.idle": "2020-12-17T19:30:57.560114Z",
          "shell.execute_reply": "2020-12-17T19:30:57.560993Z"
        },
        "papermill": {
          "duration": 0.064993,
          "end_time": "2020-12-17T19:30:57.561196",
          "exception": false,
          "start_time": "2020-12-17T19:30:57.496203",
          "status": "completed"
        },
        "tags": [],
        "colab": {
          "base_uri": "https://localhost:8080/"
        },
        "id": "Nb8nrF1kOHlU",
        "outputId": "2b6aa78f-039f-4d0d-ec09-07361f4854ab"
      },
      "source": [
        "#Score/Accuracy\n",
        "print(\"Accuracy --> \", t.score(x_test, y_test)*100)"
      ],
      "execution_count": 44,
      "outputs": [
        {
          "output_type": "stream",
          "text": [
            "Accuracy -->  70.49180327868852\n"
          ],
          "name": "stdout"
        }
      ]
    },
    {
      "cell_type": "code",
      "metadata": {
        "execution": {
          "iopub.execute_input": "2020-12-17T19:30:57.782922Z",
          "iopub.status.busy": "2020-12-17T19:30:57.782198Z",
          "iopub.status.idle": "2020-12-17T19:30:58.733517Z",
          "shell.execute_reply": "2020-12-17T19:30:58.732975Z"
        },
        "papermill": {
          "duration": 1.009275,
          "end_time": "2020-12-17T19:30:58.733646",
          "exception": false,
          "start_time": "2020-12-17T19:30:57.724371",
          "status": "completed"
        },
        "tags": [],
        "id": "oCLh4rvkOHlV"
      },
      "source": [
        "import xgboost as xgb\n",
        "from sklearn.metrics import mean_squared_error"
      ],
      "execution_count": 45,
      "outputs": []
    },
    {
      "cell_type": "code",
      "metadata": {
        "execution": {
          "iopub.execute_input": "2020-12-17T19:30:58.846642Z",
          "iopub.status.busy": "2020-12-17T19:30:58.845933Z",
          "iopub.status.idle": "2020-12-17T19:30:58.849262Z",
          "shell.execute_reply": "2020-12-17T19:30:58.848630Z"
        },
        "papermill": {
          "duration": 0.062028,
          "end_time": "2020-12-17T19:30:58.849376",
          "exception": false,
          "start_time": "2020-12-17T19:30:58.787348",
          "status": "completed"
        },
        "tags": [],
        "id": "29W4NgiZOHlV"
      },
      "source": [
        "xg_reg = xgb.XGBRegressor(objective ='reg:linear', colsample_bytree = 0.3, learning_rate = 0.1,\n",
        "                max_depth = 5, alpha = 10, n_estimators = 10)"
      ],
      "execution_count": 46,
      "outputs": []
    },
    {
      "cell_type": "code",
      "metadata": {
        "execution": {
          "iopub.execute_input": "2020-12-17T19:30:58.961232Z",
          "iopub.status.busy": "2020-12-17T19:30:58.960562Z",
          "iopub.status.idle": "2020-12-17T19:30:58.996518Z",
          "shell.execute_reply": "2020-12-17T19:30:58.997417Z"
        },
        "papermill": {
          "duration": 0.094838,
          "end_time": "2020-12-17T19:30:58.997656",
          "exception": false,
          "start_time": "2020-12-17T19:30:58.902818",
          "status": "completed"
        },
        "tags": [],
        "colab": {
          "base_uri": "https://localhost:8080/"
        },
        "id": "2EbsxW2eOHlV",
        "outputId": "186cbb5d-2503-4232-c488-214f6db588ac"
      },
      "source": [
        "xg_reg.fit(x_train,y_train)"
      ],
      "execution_count": 47,
      "outputs": [
        {
          "output_type": "stream",
          "text": [
            "[22:57:40] WARNING: /workspace/src/objective/regression_obj.cu:152: reg:linear is now deprecated in favor of reg:squarederror.\n"
          ],
          "name": "stdout"
        },
        {
          "output_type": "execute_result",
          "data": {
            "text/plain": [
              "XGBRegressor(alpha=10, base_score=0.5, booster='gbtree', colsample_bylevel=1,\n",
              "             colsample_bynode=1, colsample_bytree=0.3, gamma=0,\n",
              "             importance_type='gain', learning_rate=0.1, max_delta_step=0,\n",
              "             max_depth=5, min_child_weight=1, missing=None, n_estimators=10,\n",
              "             n_jobs=1, nthread=None, objective='reg:linear', random_state=0,\n",
              "             reg_alpha=0, reg_lambda=1, scale_pos_weight=1, seed=None,\n",
              "             silent=None, subsample=1, verbosity=1)"
            ]
          },
          "metadata": {
            "tags": []
          },
          "execution_count": 47
        }
      ]
    },
    {
      "cell_type": "code",
      "metadata": {
        "execution": {
          "iopub.execute_input": "2020-12-17T19:30:59.166477Z",
          "iopub.status.busy": "2020-12-17T19:30:59.165579Z",
          "iopub.status.idle": "2020-12-17T19:30:59.170572Z",
          "shell.execute_reply": "2020-12-17T19:30:59.171346Z"
        },
        "papermill": {
          "duration": 0.091354,
          "end_time": "2020-12-17T19:30:59.171539",
          "exception": false,
          "start_time": "2020-12-17T19:30:59.080185",
          "status": "completed"
        },
        "tags": [],
        "id": "ZrywKGeyOHlV"
      },
      "source": [
        "preds = xg_reg.predict(x_test)"
      ],
      "execution_count": 48,
      "outputs": []
    },
    {
      "cell_type": "code",
      "metadata": {
        "execution": {
          "iopub.execute_input": "2020-12-17T19:30:59.337522Z",
          "iopub.status.busy": "2020-12-17T19:30:59.336637Z",
          "iopub.status.idle": "2020-12-17T19:30:59.343905Z",
          "shell.execute_reply": "2020-12-17T19:30:59.344690Z"
        },
        "papermill": {
          "duration": 0.092925,
          "end_time": "2020-12-17T19:30:59.344901",
          "exception": false,
          "start_time": "2020-12-17T19:30:59.251976",
          "status": "completed"
        },
        "tags": [],
        "colab": {
          "base_uri": "https://localhost:8080/"
        },
        "id": "OoQ-hTa3OHlV",
        "outputId": "d39d8f23-b5f9-4235-c1fb-9b1018fdff53"
      },
      "source": [
        "#Score/Accuracy\n",
        "print(\"Accuracy --> \", xg_reg.score(x_test, y_test)*100)"
      ],
      "execution_count": 49,
      "outputs": [
        {
          "output_type": "stream",
          "text": [
            "Accuracy -->  35.48620310774088\n"
          ],
          "name": "stdout"
        }
      ]
    },
    {
      "cell_type": "code",
      "metadata": {
        "execution": {
          "iopub.execute_input": "2020-12-17T19:30:59.658076Z",
          "iopub.status.busy": "2020-12-17T19:30:59.657331Z",
          "iopub.status.idle": "2020-12-17T19:30:59.661008Z",
          "shell.execute_reply": "2020-12-17T19:30:59.660068Z"
        },
        "papermill": {
          "duration": 0.080985,
          "end_time": "2020-12-17T19:30:59.661180",
          "exception": false,
          "start_time": "2020-12-17T19:30:59.580195",
          "status": "completed"
        },
        "tags": [],
        "colab": {
          "base_uri": "https://localhost:8080/"
        },
        "id": "UY_gfU_1OHlW",
        "outputId": "0f3489d6-35ea-4cce-d44e-ff3d32108436"
      },
      "source": [
        "rmse = np.sqrt(mean_squared_error(y_test, preds))\n",
        "print(\"RMSE: %f\" % (rmse))"
      ],
      "execution_count": 50,
      "outputs": [
        {
          "output_type": "stream",
          "text": [
            "RMSE: 0.398949\n"
          ],
          "name": "stdout"
        }
      ]
    },
    {
      "cell_type": "code",
      "metadata": {
        "execution": {
          "iopub.execute_input": "2020-12-17T19:30:59.908479Z",
          "iopub.status.busy": "2020-12-17T19:30:59.907582Z",
          "iopub.status.idle": "2020-12-17T19:30:59.914794Z",
          "shell.execute_reply": "2020-12-17T19:30:59.915538Z"
        },
        "papermill": {
          "duration": 0.070243,
          "end_time": "2020-12-17T19:30:59.915718",
          "exception": false,
          "start_time": "2020-12-17T19:30:59.845475",
          "status": "completed"
        },
        "tags": [],
        "colab": {
          "base_uri": "https://localhost:8080/"
        },
        "id": "qG2BzfDdOHlW",
        "outputId": "808c45cd-8389-43c7-f704-ff321350a81f"
      },
      "source": [
        "#Score/Accuracy\n",
        "print(\"Accuracy --> \", xg_reg.score(x_test, y_test)*100)"
      ],
      "execution_count": 51,
      "outputs": [
        {
          "output_type": "stream",
          "text": [
            "Accuracy -->  35.48620310774088\n"
          ],
          "name": "stdout"
        }
      ]
    },
    {
      "cell_type": "code",
      "metadata": {
        "execution": {
          "iopub.execute_input": "2020-12-17T19:31:00.093648Z",
          "iopub.status.busy": "2020-12-17T19:31:00.092618Z",
          "iopub.status.idle": "2020-12-17T19:31:00.282257Z",
          "shell.execute_reply": "2020-12-17T19:31:00.281658Z"
        },
        "papermill": {
          "duration": 0.284132,
          "end_time": "2020-12-17T19:31:00.282375",
          "exception": false,
          "start_time": "2020-12-17T19:30:59.998243",
          "status": "completed"
        },
        "tags": [],
        "colab": {
          "base_uri": "https://localhost:8080/",
          "height": 465
        },
        "id": "aLOMn5btOHlW",
        "outputId": "7a462b64-d3c6-4c33-c3a8-3bda895ec20a"
      },
      "source": [
        "xgb.plot_importance(xg_reg)\n",
        "plt.rcParams['figure.figsize'] = [5, 5]\n",
        "plt.show()"
      ],
      "execution_count": 52,
      "outputs": [
        {
          "output_type": "display_data",
          "data": {
            "image/png": "[encoded data removed]",
            "text/plain": [
              "<Figure size 720x504 with 1 Axes>"
            ]
          },
          "metadata": {
            "tags": [],
            "needs_background": "light"
          }
        }
      ]
    },
    {
      "cell_type": "code",
      "metadata": {
        "execution": {
          "iopub.execute_input": "2020-12-17T19:31:00.524453Z",
          "iopub.status.busy": "2020-12-17T19:31:00.523611Z",
          "iopub.status.idle": "2020-12-17T19:31:00.530166Z",
          "shell.execute_reply": "2020-12-17T19:31:00.529464Z"
        },
        "papermill": {
          "duration": 0.07075,
          "end_time": "2020-12-17T19:31:00.530288",
          "exception": false,
          "start_time": "2020-12-17T19:31:00.459538",
          "status": "completed"
        },
        "tags": [],
        "id": "4KDRz7DrOHlX"
      },
      "source": [
        "from sklearn.naive_bayes import GaussianNB"
      ],
      "execution_count": 53,
      "outputs": []
    },
    {
      "cell_type": "code",
      "metadata": {
        "execution": {
          "iopub.execute_input": "2020-12-17T19:31:00.651286Z",
          "iopub.status.busy": "2020-12-17T19:31:00.650570Z",
          "iopub.status.idle": "2020-12-17T19:31:00.653495Z",
          "shell.execute_reply": "2020-12-17T19:31:00.654064Z"
        },
        "papermill": {
          "duration": 0.065588,
          "end_time": "2020-12-17T19:31:00.654245",
          "exception": false,
          "start_time": "2020-12-17T19:31:00.588657",
          "status": "completed"
        },
        "tags": [],
        "id": "PgHkiKP7OHlX"
      },
      "source": [
        "model = GaussianNB()"
      ],
      "execution_count": 54,
      "outputs": []
    },
    {
      "cell_type": "code",
      "metadata": {
        "execution": {
          "iopub.execute_input": "2020-12-17T19:31:00.781756Z",
          "iopub.status.busy": "2020-12-17T19:31:00.780638Z",
          "iopub.status.idle": "2020-12-17T19:31:00.784386Z",
          "shell.execute_reply": "2020-12-17T19:31:00.784883Z"
        },
        "papermill": {
          "duration": 0.070405,
          "end_time": "2020-12-17T19:31:00.785045",
          "exception": false,
          "start_time": "2020-12-17T19:31:00.714640",
          "status": "completed"
        },
        "tags": [],
        "colab": {
          "base_uri": "https://localhost:8080/"
        },
        "id": "VNJYGaMtOHlX",
        "outputId": "c5e02fe8-deeb-4ccf-ac51-fb1026628edd"
      },
      "source": [
        "model.fit(x_train,y_train)"
      ],
      "execution_count": 55,
      "outputs": [
        {
          "output_type": "execute_result",
          "data": {
            "text/plain": [
              "GaussianNB(priors=None, var_smoothing=1e-09)"
            ]
          },
          "metadata": {
            "tags": []
          },
          "execution_count": 55
        }
      ]
    },
    {
      "cell_type": "code",
      "metadata": {
        "execution": {
          "iopub.execute_input": "2020-12-17T19:31:00.909865Z",
          "iopub.status.busy": "2020-12-17T19:31:00.909183Z",
          "iopub.status.idle": "2020-12-17T19:31:00.913719Z",
          "shell.execute_reply": "2020-12-17T19:31:00.913040Z"
        },
        "papermill": {
          "duration": 0.070453,
          "end_time": "2020-12-17T19:31:00.913856",
          "exception": false,
          "start_time": "2020-12-17T19:31:00.843403",
          "status": "completed"
        },
        "tags": [],
        "colab": {
          "base_uri": "https://localhost:8080/"
        },
        "id": "pntxcQQDOHlX",
        "outputId": "e7f7ad16-5d6e-4478-fe01-fb94ff175ee7"
      },
      "source": [
        "#Score/Accuracy\n",
        "print(\"Accuracy --> \", model.score(x_test, y_test)*100)"
      ],
      "execution_count": 56,
      "outputs": [
        {
          "output_type": "stream",
          "text": [
            "Accuracy -->  83.60655737704919\n"
          ],
          "name": "stdout"
        }
      ]
    },
    {
      "cell_type": "code",
      "metadata": {
        "execution": {
          "iopub.execute_input": "2020-12-17T19:31:01.158671Z",
          "iopub.status.busy": "2020-12-17T19:31:01.157975Z",
          "iopub.status.idle": "2020-12-17T19:31:01.935531Z",
          "shell.execute_reply": "2020-12-17T19:31:01.934870Z"
        },
        "papermill": {
          "duration": 0.845094,
          "end_time": "2020-12-17T19:31:01.935659",
          "exception": false,
          "start_time": "2020-12-17T19:31:01.090565",
          "status": "completed"
        },
        "tags": [],
        "id": "aEKcTR-mOHlX"
      },
      "source": [
        "#Import svm model\n",
        "from sklearn import svm\n",
        "\n",
        "#Create a svm Classifier\n",
        "clf = svm.SVC(kernel='linear') # Linear Kernel\n",
        "\n",
        "#Train the model using the training sets\n",
        "clf.fit(x_train, y_train)\n",
        "\n",
        "#Predict the response for test dataset\n",
        "y_pred = clf.predict(x_test)"
      ],
      "execution_count": 57,
      "outputs": []
    },
    {
      "cell_type": "code",
      "metadata": {
        "execution": {
          "iopub.execute_input": "2020-12-17T19:31:02.060873Z",
          "iopub.status.busy": "2020-12-17T19:31:02.060188Z",
          "iopub.status.idle": "2020-12-17T19:31:02.065685Z",
          "shell.execute_reply": "2020-12-17T19:31:02.065191Z"
        },
        "papermill": {
          "duration": 0.071402,
          "end_time": "2020-12-17T19:31:02.065834",
          "exception": false,
          "start_time": "2020-12-17T19:31:01.994432",
          "status": "completed"
        },
        "tags": [],
        "colab": {
          "base_uri": "https://localhost:8080/"
        },
        "id": "dUgpSs7DOHlY",
        "outputId": "db8f6a5a-7106-4ea0-db7b-7534fee5ea6f"
      },
      "source": [
        "#Score/Accuracy\n",
        "print(\"Accuracy --> \", clf.score(x_test, y_test)*100)"
      ],
      "execution_count": 58,
      "outputs": [
        {
          "output_type": "stream",
          "text": [
            "Accuracy -->  85.24590163934425\n"
          ],
          "name": "stdout"
        }
      ]
    }
  ]
}