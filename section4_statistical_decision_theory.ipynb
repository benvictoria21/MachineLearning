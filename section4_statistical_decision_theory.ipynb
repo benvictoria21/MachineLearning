{
  "nbformat": 4,
  "nbformat_minor": 0,
  "metadata": {
    "colab": {
      "name": "section4-statistical-decision-theory.ipynb",
      "provenance": [],
      "private_outputs": true,
      "authorship_tag": "ABX9TyMyyjJ82AjNrjSgNmpHOayw",
      "include_colab_link": true
    },
    "kernelspec": {
      "name": "python3",
      "display_name": "Python 3"
    }
  },
  "cells": [
    {
      "cell_type": "markdown",
      "metadata": {
        "id": "view-in-github",
        "colab_type": "text"
      },
      "source": [
        "<a href=\"https://colab.research.google.com/github/benvictoria21/python-machine-learning/blob/master/section4_statistical_decision_theory.ipynb\" target=\"_parent\"><img src=\"https://colab.research.google.com/assets/colab-badge.svg\" alt=\"Open In Colab\"/></a>"
      ]
    },
    {
      "cell_type": "code",
      "metadata": {
        "id": "tD7QucugfnIv",
        "colab_type": "code",
        "colab": {}
      },
      "source": [
        "%matplotlib inline\n",
        "import random\n",
        "import scipy\n",
        "import scipy.stats\n",
        "import matplotlib.pyplot as plt"
      ],
      "execution_count": null,
      "outputs": []
    },
    {
      "cell_type": "code",
      "metadata": {
        "id": "eIMVqHOBf7Hx",
        "colab_type": "code",
        "colab": {}
      },
      "source": [
        "\"\"\"FIGURE 2.5. The optimal Bayes decision boundary for the simulation example.\n",
        "Since the generating density is known for each class, this decision boundary can be\n",
        "calculated exactly.\"\"\"\n",
        "sample_size = 100\n",
        "# Parameters for mean distributions\n",
        "mean_blue = [1, 0]\n",
        "mean_orange = [0, 1]\n",
        "mean_cov = scipy.eye(2)\n",
        "mean_size = 10\n",
        "\n",
        "# Additional parameters for blue and orange distributions\n",
        "sample_cov = scipy.eye(2)/5\n",
        "\n",
        "# Generate mean components for blue and orange (10 means for each)\n",
        "sample_blue_mean = scipy.random.multivariate_normal(mean_blue, mean_cov, mean_size)\n",
        "sample_orange_mean = scipy.random.multivariate_normal(mean_orange, mean_cov, mean_size)\n",
        "\n",
        "# Generate blue points\n",
        "sample_blue = scipy.array([\n",
        "    scipy.random.multivariate_normal(sample_blue_mean[r], sample_cov)\n",
        "    for r in scipy.random.randint(0, 10, 100)\n",
        "])\n",
        "y_blue = scipy.zeros(sample_size)\n",
        "\n",
        "# Generate orange points\n",
        "sample_orange = scipy.array([\n",
        "    scipy.random.multivariate_normal(sample_orange_mean[r], sample_cov)\n",
        "    for r in scipy.random.randint(0, 10, 100)\n",
        "])\n",
        "y_orange = scipy.ones(sample_size)\n",
        "\n",
        "data_x = scipy.concatenate((sample_blue, sample_orange), axis=0)\n",
        "data_y = scipy.concatenate((y_blue, y_orange))\n"
      ],
      "execution_count": null,
      "outputs": []
    },
    {
      "cell_type": "code",
      "metadata": {
        "id": "q8hNd0LAf-Yt",
        "colab_type": "code",
        "colab": {}
      },
      "source": [
        "def density_blue(arr:scipy.ndarray)->scipy.ndarray:\n",
        "    densities = scipy.array([\n",
        "        scipy.stats.multivariate_normal.pdf(arr, mean=m, cov=mean_cov)\n",
        "        for m in sample_blue_mean\n",
        "    ])\n",
        "    return densities.mean(axis=0)\n",
        "\n",
        "\n",
        "def density_orange(arr:scipy.ndarray)->scipy.ndarray:\n",
        "    densities = scipy.array([\n",
        "        scipy.stats.multivariate_normal.pdf(arr, mean=m, cov=mean_cov)\n",
        "        for m in sample_orange_mean\n",
        "    ])\n",
        "    return densities.mean(axis=0)"
      ],
      "execution_count": null,
      "outputs": []
    },
    {
      "cell_type": "code",
      "metadata": {
        "id": "QvoTGB4rgCfR",
        "colab_type": "code",
        "colab": {}
      },
      "source": [
        "min_x = data_x.min(axis=0)\n",
        "max_x = data_x.max(axis=0)\n",
        "print(min_x, max_x)\n",
        "arr = scipy.array([(i, j)\n",
        "                   for i in scipy.linspace(min_x[0]-.1, max_x[0]+.1, 100)\n",
        "                   for j in scipy.linspace(min_x[1]-.1, max_x[1]+.1, 100)])\n",
        "proba_blue = density_blue(arr)\n",
        "proba_orange = density_orange(arr)\n"
      ],
      "execution_count": null,
      "outputs": []
    },
    {
      "cell_type": "code",
      "metadata": {
        "id": "XqKDfR-qgFLG",
        "colab_type": "code",
        "colab": {}
      },
      "source": [
        "arr"
      ],
      "execution_count": null,
      "outputs": []
    },
    {
      "cell_type": "code",
      "metadata": {
        "id": "agsg7hLtgGht",
        "colab_type": "code",
        "colab": {}
      },
      "source": [
        "# Plot\n",
        "fig = plt.figure(1)\n",
        "ax = fig.add_subplot(1, 1, 1)\n",
        "# Original data\n",
        "ax.plot(sample_blue[:, 0], sample_blue[:, 1], 'o', color='C0')\n",
        "ax.plot(sample_orange[:, 0], sample_orange[:, 1], 'o', color='C1')\n",
        "# Bayes classifier\n",
        "mask_blue = proba_blue > proba_orange\n",
        "mask_orange = ~mask_blue\n",
        "ax.plot(arr[mask_blue, 0], arr[mask_blue, 1], 'o',\n",
        "        markersize=2, color='C0', alpha=.2)\n",
        "ax.plot(arr[mask_orange, 0], arr[mask_orange, 1], 'o',\n",
        "        markersize=2, color='C1', alpha=.2)\n",
        "ax.set_title('Bayes Optimal Classifier')\n",
        "plt.show()\n"
      ],
      "execution_count": null,
      "outputs": []
    },
    {
      "cell_type": "code",
      "metadata": {
        "id": "_vWVFIRVgIDv",
        "colab_type": "code",
        "colab": {}
      },
      "source": [
        ""
      ],
      "execution_count": null,
      "outputs": []
    }
  ]
}