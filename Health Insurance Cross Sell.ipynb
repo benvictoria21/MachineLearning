{
 "cells": [
  {
   "cell_type": "code",
   "execution_count": 15,
   "metadata": {},
   "outputs": [
    {
     "name": "stdout",
     "output_type": "stream",
     "text": [
      "[name: \"/device:CPU:0\"\n",
      "device_type: \"CPU\"\n",
      "memory_limit: 268435456\n",
      "locality {\n",
      "}\n",
      "incarnation: 16124556624970100641\n",
      ", name: \"/device:XLA_CPU:0\"\n",
      "device_type: \"XLA_CPU\"\n",
      "memory_limit: 17179869184\n",
      "locality {\n",
      "}\n",
      "incarnation: 12216014709939542296\n",
      "physical_device_desc: \"device: XLA_CPU device\"\n",
      "]\n"
     ]
    }
   ],
   "source": [
    "import numpy as np \n",
    "import pandas as pd \n",
    "import matplotlib.pyplot as plt\n",
    "import seaborn as sns\n",
    "from sklearn.model_selection import train_test_split\n",
    "import tensorflow as tf\n",
    "from sklearn.metrics import f1_score\n",
    "from sklearn.metrics import recall_score\n",
    "from sklearn.metrics import precision_score\n",
    "from sklearn.metrics import confusion_matrix\n",
    "from tensorflow.keras import backend as K\n",
    "from tensorflow.python.client import device_lib\n",
    "print(device_lib.list_local_devices())"
   ]
  },
  {
   "cell_type": "code",
   "execution_count": 16,
   "metadata": {},
   "outputs": [],
   "source": [
    "train = pd.read_csv(\"https://raw.githubusercontent.com/benvictoria17/MachineLearning/master/dataset/Health%20Insurance%20Cross%20Sell%20Prediction%20%F0%9F%8F%A0%20%F0%9F%8F%A5/train.csv\")\n",
    "submit = pd.read_csv(\"https://raw.githubusercontent.com/benvictoria17/MachineLearning/master/dataset/Health%20Insurance%20Cross%20Sell%20Prediction%20%F0%9F%8F%A0%20%F0%9F%8F%A5/sample_submission.csv\")"
   ]
  },
  {
   "cell_type": "code",
   "execution_count": 18,
   "metadata": {},
   "outputs": [
    {
     "name": "stdout",
     "output_type": "stream",
     "text": [
      "# of missing values in train: 0\n",
      "# of missing values in submit: 0\n",
      "# of duplicate values in train: 0\n",
      "# of duplicate values in submit: 0\n"
     ]
    }
   ],
   "source": [
    "print('# of missing values in train: %s' % train.isnull().sum().sum())\n",
    "print('# of missing values in submit: %s' % submit.isnull().sum().sum())\n",
    "print('# of duplicate values in train: %s' % (train.id.unique().shape[0] - train.id.shape[0]))\n",
    "print('# of duplicate values in submit: %s' % (submit.id.unique().shape[0] - submit.id.shape[0]))"
   ]
  },
  {
   "cell_type": "code",
   "execution_count": 19,
   "metadata": {},
   "outputs": [
    {
     "name": "stdout",
     "output_type": "stream",
     "text": [
      "Response\n",
      "0    0.877437\n",
      "1    0.122563\n",
      "Name: id, dtype: float64\n"
     ]
    }
   ],
   "source": [
    "def print_mean_response(dimension):\n",
    "    response = train.groupby(dimension)[['Response']].mean()\n",
    "    print(response)\n",
    "    return\n",
    "\n",
    "def plot_mean_response(dimension):\n",
    "    response = train.groupby(dimension)[['Response']].mean()\n",
    "    plt.figure()\n",
    "    plt.plot(response, 'o')\n",
    "    return\n",
    "\n",
    "def plot_distribution(dimension):\n",
    "    plt.figure()\n",
    "    neg = train[train.Response==0]\n",
    "    pos = train[train.Response==1]\n",
    "    \n",
    "    sns.distplot(neg[dimension], hist=False, kde=True, \n",
    "             bins=int(180/5), color = 'darkblue', \n",
    "             hist_kws={'edgecolor':'black'},\n",
    "             kde_kws={'linewidth': 4}, label='%s when Response=0' % dimension)\n",
    "    \n",
    "    sns.distplot(pos[dimension], hist=False, kde=True, \n",
    "             bins=int(180/5), color = 'red', \n",
    "             hist_kws={'edgecolor':'black'},\n",
    "             kde_kws={'linewidth': 4}, label='%s when Response=1' % dimension)\n",
    "    \n",
    "def plot_hist(dimension):\n",
    "    \n",
    "    fig, ax = plt.subplots(1,2)\n",
    "    fig.tight_layout()\n",
    "                    \n",
    "    neg = train[train.Response == 0][dimension].to_frame()\n",
    "    pos = train[train.Response == 1][dimension].to_frame()\n",
    "\n",
    "    pos_percentages = (pos.groupby(dimension).size() / pos.groupby(dimension).size().sum()) * 100\n",
    "    pos_percentages = pos_percentages.reset_index(name='frequencies')\n",
    "   \n",
    "    \n",
    "    neg_percentages = (neg.groupby(dimension).size() / neg.groupby(dimension).size().sum()) * 100\n",
    "    neg_percentages = neg_percentages.reset_index(name='frequencies')\n",
    "    \n",
    "    neg_plot = sns.barplot(x=neg_percentages[dimension], y=neg_percentages['frequencies'], ax=ax[0])\n",
    "    pos_plot = sns.barplot(x=pos_percentages[dimension], y=pos_percentages['frequencies'], ax=ax[1])\n",
    "    \n",
    "    ax[0].set(xlabel='%s (Response = 0)' % dimension, ylabel='Frequencies (%)')\n",
    "    ax[1].set(xlabel='%s (Response = 1)' % dimension, ylabel='Frequencies (%)')\n",
    "  \n",
    "    fig.show()\n",
    "\n",
    "    return\n",
    "    \n",
    "    \n",
    "# plot_distribution('Age')\n",
    "# plot_distribution('Vintage')\n",
    "# plot_distribution('Annual_Premium')\n",
    "\n",
    "# plot_hist('Gender')\n",
    "# plot_hist('Driving_License')\n",
    "# plot_hist('Previously_Insured')\n",
    "# plot_hist('Vehicle_Age')\n",
    "# plot_hist('Vehicle_Damage')\n",
    "\n",
    "\n",
    "print(train.groupby('Response')['id'].count() / train.shape[0])"
   ]
  },
  {
   "cell_type": "code",
   "execution_count": 20,
   "metadata": {},
   "outputs": [
    {
     "name": "stdout",
     "output_type": "stream",
     "text": [
      "Train size: 362053\n",
      "Dev size: 9528\n",
      "Test size: 9528\n"
     ]
    }
   ],
   "source": [
    "def preprocess(X):\n",
    "    df_dropped = X.drop(['Vintage', 'Annual_Premium'], axis=1)\n",
    " \n",
    "    X = pd.get_dummies(df_dropped, \n",
    "                         columns=['Gender', 'Driving_License', \n",
    "                                  'Region_Code', 'Previously_Insured',\n",
    "                                  'Vehicle_Age', 'Vehicle_Damage', \n",
    "                                  'Policy_Sales_Channel'])\n",
    "    return X\n",
    "    \n",
    "# construct X_train\n",
    "\n",
    "\n",
    "\n",
    "\n",
    "X_raw = train.iloc[:, 1:11]\n",
    "train_rows = train.shape[0]\n",
    "y = train[['Response']]\n",
    "X_submit_raw = submit.iloc[:, 1:11]\n",
    "\n",
    "preprocessed = preprocess(pd.concat([X_raw, X_submit_raw]))\n",
    "\n",
    "X = preprocessed.iloc[0:(train_rows), :]\n",
    "X_submit = preprocessed.iloc[train_rows:,: ]\n",
    "\n",
    "\n",
    "X_train, X_dev_test, y_train, y_dev_test = train_test_split(X, y, test_size=0.05)\n",
    "X_dev, X_test, y_dev, y_test = train_test_split(X_dev_test, y_dev_test, test_size=0.5)\n",
    "\n",
    "\n",
    "print('Train size: %s' % X_train.shape[0])\n",
    "print('Dev size: %s' % X_dev.shape[0])\n",
    "print('Test size: %s' % X_test.shape[0])"
   ]
  },
  {
   "cell_type": "code",
   "execution_count": 23,
   "metadata": {},
   "outputs": [
    {
     "name": "stdout",
     "output_type": "stream",
     "text": [
      "Evaluate model on test set\n",
      "38/38 [==============================] - 0s 855us/step - loss: nan\n",
      "F1 0.0 recall 0.0 precision 0.0\n"
     ]
    },
    {
     "name": "stderr",
     "output_type": "stream",
     "text": [
      "<ipython-input-23-ab012169c415>:5: RuntimeWarning: invalid value encountered in greater\n",
      "  y_test_pred = np.greater(y_test_pred, 0.5).astype(int)\n",
      "/Users/thomo/opt/anaconda3/lib/python3.8/site-packages/sklearn/metrics/_classification.py:1221: UndefinedMetricWarning: Precision is ill-defined and being set to 0.0 due to no predicted samples. Use `zero_division` parameter to control this behavior.\n",
      "  _warn_prf(average, modifier, msg_start, len(result))\n"
     ]
    }
   ],
   "source": [
    "print('Evaluate model on test set')\n",
    "model.evaluate(X_test, y_test, verbose=1)\n",
    "\n",
    "y_test_pred = model.predict(X_test)\n",
    "y_test_pred = np.greater(y_test_pred, 0.5).astype(int)\n",
    "\n",
    "val_f1 = f1_score(y_test, y_test_pred)\n",
    "val_recall = recall_score(y_test, y_test_pred)         \n",
    "val_precision = precision_score(y_test, y_test_pred)\n",
    "\n",
    "print('F1 %s recall %s precision %s' % (str(val_f1), str(val_recall), str(val_precision)))"
   ]
  },
  {
   "cell_type": "code",
   "execution_count": null,
   "metadata": {},
   "outputs": [],
   "source": [
    "\n",
    "predictions = model.predict(X_submit)\n",
    "predictions = np.greater(predictions, 0.5).astype(int)\n",
    "\n",
    "pred_df = pd.DataFrame()\n",
    "pred_df['prediction'] = predictions.ravel()\n",
    "ids = submit[['id']]\n",
    "result = pd.concat([ids, pred_df], axis=1)\n",
    "print(result.groupby('prediction').count())"
   ]
  }
 ],
 "metadata": {
  "kernelspec": {
   "display_name": "Python 3",
   "language": "python",
   "name": "python3"
  },
  "language_info": {
   "codemirror_mode": {
    "name": "ipython",
    "version": 3
   },
   "file_extension": ".py",
   "mimetype": "text/x-python",
   "name": "python",
   "nbconvert_exporter": "python",
   "pygments_lexer": "ipython3",
   "version": "3.8.3"
  }
 },
 "nbformat": 4,
 "nbformat_minor": 4
}
