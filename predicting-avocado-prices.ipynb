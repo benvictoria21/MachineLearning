{
 "cells": [
  {
   "cell_type": "code",
   "execution_count": 1,
   "metadata": {
    "execution": {
     "iopub.execute_input": "2021-03-17T20:16:58.962560Z",
     "iopub.status.busy": "2021-03-17T20:16:58.961516Z",
     "iopub.status.idle": "2021-03-17T20:17:01.292142Z",
     "shell.execute_reply": "2021-03-17T20:17:01.291286Z"
    },
    "papermill": {
     "duration": 2.348066,
     "end_time": "2021-03-17T20:17:01.292299",
     "exception": false,
     "start_time": "2021-03-17T20:16:58.944233",
     "status": "completed"
    },
    "tags": []
   },
   "outputs": [],
   "source": [
    "import numpy as np\n",
    "import pandas as pd\n",
    "import seaborn as sns\n",
    "from matplotlib import pyplot as plt\n",
    "from sklearn.preprocessing import StandardScaler\n",
    "from sklearn.model_selection import train_test_split\n",
    "from sklearn.metrics import mean_absolute_error\n",
    "from sklearn.metrics import mean_squared_error\n",
    "from sklearn.linear_model import LinearRegression\n",
    "from sklearn.tree import DecisionTreeRegressor\n",
    "from sklearn.ensemble import RandomForestRegressor\n",
    "from sklearn.svm import SVR\n",
    "from xgboost import XGBRegressor"
   ]
  },
  {
   "cell_type": "code",
   "execution_count": 2,
   "metadata": {
    "execution": {
     "iopub.execute_input": "2021-03-17T20:17:01.328741Z",
     "iopub.status.busy": "2021-03-17T20:17:01.327999Z",
     "iopub.status.idle": "2021-03-17T20:17:01.443027Z",
     "shell.execute_reply": "2021-03-17T20:17:01.442316Z"
    },
    "papermill": {
     "duration": 0.138202,
     "end_time": "2021-03-17T20:17:01.443151",
     "exception": false,
     "start_time": "2021-03-17T20:17:01.304949",
     "status": "completed"
    },
    "tags": []
   },
   "outputs": [
    {
     "data": {
      "text/html": [
       "<div>\n",
       "<style scoped>\n",
       "    .dataframe tbody tr th:only-of-type {\n",
       "        vertical-align: middle;\n",
       "    }\n",
       "\n",
       "    .dataframe tbody tr th {\n",
       "        vertical-align: top;\n",
       "    }\n",
       "\n",
       "    .dataframe thead th {\n",
       "        text-align: right;\n",
       "    }\n",
       "</style>\n",
       "<table border=\"1\" class=\"dataframe\">\n",
       "  <thead>\n",
       "    <tr style=\"text-align: right;\">\n",
       "      <th></th>\n",
       "      <th>Unnamed: 0</th>\n",
       "      <th>Date</th>\n",
       "      <th>AveragePrice</th>\n",
       "      <th>Total Volume</th>\n",
       "      <th>4046</th>\n",
       "      <th>4225</th>\n",
       "      <th>4770</th>\n",
       "      <th>Total Bags</th>\n",
       "      <th>Small Bags</th>\n",
       "      <th>Large Bags</th>\n",
       "      <th>XLarge Bags</th>\n",
       "      <th>type</th>\n",
       "      <th>year</th>\n",
       "      <th>region</th>\n",
       "    </tr>\n",
       "  </thead>\n",
       "  <tbody>\n",
       "    <tr>\n",
       "      <th>0</th>\n",
       "      <td>0</td>\n",
       "      <td>2015-12-27</td>\n",
       "      <td>1.33</td>\n",
       "      <td>64236.62</td>\n",
       "      <td>1036.74</td>\n",
       "      <td>54454.85</td>\n",
       "      <td>48.16</td>\n",
       "      <td>8696.87</td>\n",
       "      <td>8603.62</td>\n",
       "      <td>93.25</td>\n",
       "      <td>0.0</td>\n",
       "      <td>conventional</td>\n",
       "      <td>2015</td>\n",
       "      <td>Albany</td>\n",
       "    </tr>\n",
       "    <tr>\n",
       "      <th>1</th>\n",
       "      <td>1</td>\n",
       "      <td>2015-12-20</td>\n",
       "      <td>1.35</td>\n",
       "      <td>54876.98</td>\n",
       "      <td>674.28</td>\n",
       "      <td>44638.81</td>\n",
       "      <td>58.33</td>\n",
       "      <td>9505.56</td>\n",
       "      <td>9408.07</td>\n",
       "      <td>97.49</td>\n",
       "      <td>0.0</td>\n",
       "      <td>conventional</td>\n",
       "      <td>2015</td>\n",
       "      <td>Albany</td>\n",
       "    </tr>\n",
       "    <tr>\n",
       "      <th>2</th>\n",
       "      <td>2</td>\n",
       "      <td>2015-12-13</td>\n",
       "      <td>0.93</td>\n",
       "      <td>118220.22</td>\n",
       "      <td>794.70</td>\n",
       "      <td>109149.67</td>\n",
       "      <td>130.50</td>\n",
       "      <td>8145.35</td>\n",
       "      <td>8042.21</td>\n",
       "      <td>103.14</td>\n",
       "      <td>0.0</td>\n",
       "      <td>conventional</td>\n",
       "      <td>2015</td>\n",
       "      <td>Albany</td>\n",
       "    </tr>\n",
       "    <tr>\n",
       "      <th>3</th>\n",
       "      <td>3</td>\n",
       "      <td>2015-12-06</td>\n",
       "      <td>1.08</td>\n",
       "      <td>78992.15</td>\n",
       "      <td>1132.00</td>\n",
       "      <td>71976.41</td>\n",
       "      <td>72.58</td>\n",
       "      <td>5811.16</td>\n",
       "      <td>5677.40</td>\n",
       "      <td>133.76</td>\n",
       "      <td>0.0</td>\n",
       "      <td>conventional</td>\n",
       "      <td>2015</td>\n",
       "      <td>Albany</td>\n",
       "    </tr>\n",
       "    <tr>\n",
       "      <th>4</th>\n",
       "      <td>4</td>\n",
       "      <td>2015-11-29</td>\n",
       "      <td>1.28</td>\n",
       "      <td>51039.60</td>\n",
       "      <td>941.48</td>\n",
       "      <td>43838.39</td>\n",
       "      <td>75.78</td>\n",
       "      <td>6183.95</td>\n",
       "      <td>5986.26</td>\n",
       "      <td>197.69</td>\n",
       "      <td>0.0</td>\n",
       "      <td>conventional</td>\n",
       "      <td>2015</td>\n",
       "      <td>Albany</td>\n",
       "    </tr>\n",
       "    <tr>\n",
       "      <th>5</th>\n",
       "      <td>5</td>\n",
       "      <td>2015-11-22</td>\n",
       "      <td>1.26</td>\n",
       "      <td>55979.78</td>\n",
       "      <td>1184.27</td>\n",
       "      <td>48067.99</td>\n",
       "      <td>43.61</td>\n",
       "      <td>6683.91</td>\n",
       "      <td>6556.47</td>\n",
       "      <td>127.44</td>\n",
       "      <td>0.0</td>\n",
       "      <td>conventional</td>\n",
       "      <td>2015</td>\n",
       "      <td>Albany</td>\n",
       "    </tr>\n",
       "    <tr>\n",
       "      <th>6</th>\n",
       "      <td>6</td>\n",
       "      <td>2015-11-15</td>\n",
       "      <td>0.99</td>\n",
       "      <td>83453.76</td>\n",
       "      <td>1368.92</td>\n",
       "      <td>73672.72</td>\n",
       "      <td>93.26</td>\n",
       "      <td>8318.86</td>\n",
       "      <td>8196.81</td>\n",
       "      <td>122.05</td>\n",
       "      <td>0.0</td>\n",
       "      <td>conventional</td>\n",
       "      <td>2015</td>\n",
       "      <td>Albany</td>\n",
       "    </tr>\n",
       "    <tr>\n",
       "      <th>7</th>\n",
       "      <td>7</td>\n",
       "      <td>2015-11-08</td>\n",
       "      <td>0.98</td>\n",
       "      <td>109428.33</td>\n",
       "      <td>703.75</td>\n",
       "      <td>101815.36</td>\n",
       "      <td>80.00</td>\n",
       "      <td>6829.22</td>\n",
       "      <td>6266.85</td>\n",
       "      <td>562.37</td>\n",
       "      <td>0.0</td>\n",
       "      <td>conventional</td>\n",
       "      <td>2015</td>\n",
       "      <td>Albany</td>\n",
       "    </tr>\n",
       "  </tbody>\n",
       "</table>\n",
       "</div>"
      ],
      "text/plain": [
       "   Unnamed: 0        Date  AveragePrice  Total Volume     4046       4225  \\\n",
       "0           0  2015-12-27          1.33      64236.62  1036.74   54454.85   \n",
       "1           1  2015-12-20          1.35      54876.98   674.28   44638.81   \n",
       "2           2  2015-12-13          0.93     118220.22   794.70  109149.67   \n",
       "3           3  2015-12-06          1.08      78992.15  1132.00   71976.41   \n",
       "4           4  2015-11-29          1.28      51039.60   941.48   43838.39   \n",
       "5           5  2015-11-22          1.26      55979.78  1184.27   48067.99   \n",
       "6           6  2015-11-15          0.99      83453.76  1368.92   73672.72   \n",
       "7           7  2015-11-08          0.98     109428.33   703.75  101815.36   \n",
       "\n",
       "     4770  Total Bags  Small Bags  Large Bags  XLarge Bags          type  \\\n",
       "0   48.16     8696.87     8603.62       93.25          0.0  conventional   \n",
       "1   58.33     9505.56     9408.07       97.49          0.0  conventional   \n",
       "2  130.50     8145.35     8042.21      103.14          0.0  conventional   \n",
       "3   72.58     5811.16     5677.40      133.76          0.0  conventional   \n",
       "4   75.78     6183.95     5986.26      197.69          0.0  conventional   \n",
       "5   43.61     6683.91     6556.47      127.44          0.0  conventional   \n",
       "6   93.26     8318.86     8196.81      122.05          0.0  conventional   \n",
       "7   80.00     6829.22     6266.85      562.37          0.0  conventional   \n",
       "\n",
       "   year  region  \n",
       "0  2015  Albany  \n",
       "1  2015  Albany  \n",
       "2  2015  Albany  \n",
       "3  2015  Albany  \n",
       "4  2015  Albany  \n",
       "5  2015  Albany  \n",
       "6  2015  Albany  \n",
       "7  2015  Albany  "
      ]
     },
     "execution_count": 2,
     "metadata": {},
     "output_type": "execute_result"
    }
   ],
   "source": [
    "df = pd.read_csv('../input/avocado-prices/avocado.csv') \n",
    "df.head(8)"
   ]
  },
  {
   "cell_type": "code",
   "execution_count": 3,
   "metadata": {
    "execution": {
     "iopub.execute_input": "2021-03-17T20:17:01.479559Z",
     "iopub.status.busy": "2021-03-17T20:17:01.478534Z",
     "iopub.status.idle": "2021-03-17T20:17:01.495065Z",
     "shell.execute_reply": "2021-03-17T20:17:01.494099Z"
    },
    "papermill": {
     "duration": 0.040807,
     "end_time": "2021-03-17T20:17:01.495261",
     "exception": false,
     "start_time": "2021-03-17T20:17:01.454454",
     "status": "completed"
    },
    "tags": []
   },
   "outputs": [
    {
     "name": "stdout",
     "output_type": "stream",
     "text": [
      "<class 'pandas.core.frame.DataFrame'>\n",
      "RangeIndex: 18249 entries, 0 to 18248\n",
      "Data columns (total 14 columns):\n",
      " #   Column        Non-Null Count  Dtype  \n",
      "---  ------        --------------  -----  \n",
      " 0   Unnamed: 0    18249 non-null  int64  \n",
      " 1   Date          18249 non-null  object \n",
      " 2   AveragePrice  18249 non-null  float64\n",
      " 3   Total Volume  18249 non-null  float64\n",
      " 4   4046          18249 non-null  float64\n",
      " 5   4225          18249 non-null  float64\n",
      " 6   4770          18249 non-null  float64\n",
      " 7   Total Bags    18249 non-null  float64\n",
      " 8   Small Bags    18249 non-null  float64\n",
      " 9   Large Bags    18249 non-null  float64\n",
      " 10  XLarge Bags   18249 non-null  float64\n",
      " 11  type          18249 non-null  object \n",
      " 12  year          18249 non-null  int64  \n",
      " 13  region        18249 non-null  object \n",
      "dtypes: float64(9), int64(2), object(3)\n",
      "memory usage: 1.9+ MB\n"
     ]
    }
   ],
   "source": [
    "df.info()"
   ]
  },
  {
   "cell_type": "code",
   "execution_count": 4,
   "metadata": {
    "execution": {
     "iopub.execute_input": "2021-03-17T20:17:01.532380Z",
     "iopub.status.busy": "2021-03-17T20:17:01.531291Z",
     "iopub.status.idle": "2021-03-17T20:17:01.539630Z",
     "shell.execute_reply": "2021-03-17T20:17:01.538995Z"
    },
    "papermill": {
     "duration": 0.032393,
     "end_time": "2021-03-17T20:17:01.539778",
     "exception": false,
     "start_time": "2021-03-17T20:17:01.507385",
     "status": "completed"
    },
    "tags": []
   },
   "outputs": [
    {
     "name": "stdout",
     "output_type": "stream",
     "text": [
      "there are no missing values\n"
     ]
    }
   ],
   "source": [
    "if df.isnull().sum().any() == False:\n",
    "    print(\"there are no missing values\")\n",
    "else:\n",
    "    print(\"there are something wrong here\")\n"
   ]
  },
  {
   "cell_type": "code",
   "execution_count": 5,
   "metadata": {
    "execution": {
     "iopub.execute_input": "2021-03-17T20:17:01.578090Z",
     "iopub.status.busy": "2021-03-17T20:17:01.577241Z",
     "iopub.status.idle": "2021-03-17T20:17:01.599122Z",
     "shell.execute_reply": "2021-03-17T20:17:01.599659Z"
    },
    "papermill": {
     "duration": 0.047793,
     "end_time": "2021-03-17T20:17:01.599874",
     "exception": false,
     "start_time": "2021-03-17T20:17:01.552081",
     "status": "completed"
    },
    "tags": []
   },
   "outputs": [
    {
     "name": "stdout",
     "output_type": "stream",
     "text": [
      "number of duplicate rows:  0\n"
     ]
    }
   ],
   "source": [
    "df = df.drop([\"Unnamed: 0\"], axis = 1)\n",
    "\n",
    "# Checking for duplicate rows\n",
    "print(\"number of duplicate rows: \", df.duplicated().sum())"
   ]
  },
  {
   "cell_type": "code",
   "execution_count": 6,
   "metadata": {
    "execution": {
     "iopub.execute_input": "2021-03-17T20:17:01.636924Z",
     "iopub.status.busy": "2021-03-17T20:17:01.633842Z",
     "iopub.status.idle": "2021-03-17T20:17:10.890311Z",
     "shell.execute_reply": "2021-03-17T20:17:10.889587Z"
    },
    "papermill": {
     "duration": 9.278073,
     "end_time": "2021-03-17T20:17:10.890437",
     "exception": false,
     "start_time": "2021-03-17T20:17:01.612364",
     "status": "completed"
    },
    "tags": []
   },
   "outputs": [
    {
     "data": {
      "text/plain": [
       "array(['Dec', 'Nov', 'Oct', 'Sep', 'Aug', 'Jul', 'Jun', 'May', 'Apr',\n",
       "       'Mar', 'Feb', 'Jan'], dtype=object)"
      ]
     },
     "execution_count": 6,
     "metadata": {},
     "output_type": "execute_result"
    }
   ],
   "source": [
    "df[\"month\"] = np.nan\n",
    "months_dict = {\"Jan\" : \"01\",\n",
    "               \"Feb\" : \"02\", \n",
    "               \"Mar\" : \"03\",\n",
    "               \"Apr\" : \"04\",\n",
    "               \"May\" : \"05\",\n",
    "               \"Jun\" : \"06\",\n",
    "               \"Jul\" : \"07\",\n",
    "               \"Aug\" : \"08\",\n",
    "               \"Sep\" : \"09\",\n",
    "               \"Oct\" : \"10\",\n",
    "               \"Nov\" : \"11\",\n",
    "               \"Dec\" : \"12\"}\n",
    "\n",
    "months_key_list = list(months_dict.keys())\n",
    "months_value_list = list(months_dict.values())\n",
    "\n",
    "for index in range(df.shape[0]):\n",
    "    date = df.loc[index, \"Date\"]\n",
    "    month = date.split(\"-\")[1]\n",
    "    i = months_value_list.index(month)\n",
    "    df.loc[index, \"month\"] = months_key_list[i]\n",
    "    \n",
    "# Checking if the values are correct\n",
    "df[\"month\"].unique()"
   ]
  },
  {
   "cell_type": "code",
   "execution_count": 7,
   "metadata": {
    "execution": {
     "iopub.execute_input": "2021-03-17T20:17:10.924580Z",
     "iopub.status.busy": "2021-03-17T20:17:10.923546Z",
     "iopub.status.idle": "2021-03-17T20:17:10.928794Z",
     "shell.execute_reply": "2021-03-17T20:17:10.928087Z"
    },
    "papermill": {
     "duration": 0.025331,
     "end_time": "2021-03-17T20:17:10.928911",
     "exception": false,
     "start_time": "2021-03-17T20:17:10.903580",
     "status": "completed"
    },
    "tags": []
   },
   "outputs": [],
   "source": [
    "df = df.drop([\"Date\"], axis = 1)"
   ]
  },
  {
   "cell_type": "code",
   "execution_count": 8,
   "metadata": {
    "execution": {
     "iopub.execute_input": "2021-03-17T20:17:10.964341Z",
     "iopub.status.busy": "2021-03-17T20:17:10.963298Z",
     "iopub.status.idle": "2021-03-17T20:17:11.011346Z",
     "shell.execute_reply": "2021-03-17T20:17:11.010710Z"
    },
    "papermill": {
     "duration": 0.069439,
     "end_time": "2021-03-17T20:17:11.011466",
     "exception": false,
     "start_time": "2021-03-17T20:17:10.942027",
     "status": "completed"
    },
    "tags": []
   },
   "outputs": [
    {
     "data": {
      "text/html": [
       "<div>\n",
       "<style scoped>\n",
       "    .dataframe tbody tr th:only-of-type {\n",
       "        vertical-align: middle;\n",
       "    }\n",
       "\n",
       "    .dataframe tbody tr th {\n",
       "        vertical-align: top;\n",
       "    }\n",
       "\n",
       "    .dataframe thead th {\n",
       "        text-align: right;\n",
       "    }\n",
       "</style>\n",
       "<table border=\"1\" class=\"dataframe\">\n",
       "  <thead>\n",
       "    <tr style=\"text-align: right;\">\n",
       "      <th></th>\n",
       "      <th>count</th>\n",
       "      <th>mean</th>\n",
       "      <th>std</th>\n",
       "      <th>min</th>\n",
       "      <th>25%</th>\n",
       "      <th>50%</th>\n",
       "      <th>75%</th>\n",
       "      <th>max</th>\n",
       "    </tr>\n",
       "  </thead>\n",
       "  <tbody>\n",
       "    <tr>\n",
       "      <th>AveragePrice</th>\n",
       "      <td>18249.0</td>\n",
       "      <td>1.405978</td>\n",
       "      <td>4.026766e-01</td>\n",
       "      <td>0.44</td>\n",
       "      <td>1.10</td>\n",
       "      <td>1.37</td>\n",
       "      <td>1.66</td>\n",
       "      <td>3.25</td>\n",
       "    </tr>\n",
       "    <tr>\n",
       "      <th>Total Volume</th>\n",
       "      <td>18249.0</td>\n",
       "      <td>850644.013009</td>\n",
       "      <td>3.453545e+06</td>\n",
       "      <td>84.56</td>\n",
       "      <td>10838.58</td>\n",
       "      <td>107376.76</td>\n",
       "      <td>432962.29</td>\n",
       "      <td>62505646.52</td>\n",
       "    </tr>\n",
       "    <tr>\n",
       "      <th>4046</th>\n",
       "      <td>18249.0</td>\n",
       "      <td>293008.424531</td>\n",
       "      <td>1.264989e+06</td>\n",
       "      <td>0.00</td>\n",
       "      <td>854.07</td>\n",
       "      <td>8645.30</td>\n",
       "      <td>111020.20</td>\n",
       "      <td>22743616.17</td>\n",
       "    </tr>\n",
       "    <tr>\n",
       "      <th>4225</th>\n",
       "      <td>18249.0</td>\n",
       "      <td>295154.568356</td>\n",
       "      <td>1.204120e+06</td>\n",
       "      <td>0.00</td>\n",
       "      <td>3008.78</td>\n",
       "      <td>29061.02</td>\n",
       "      <td>150206.86</td>\n",
       "      <td>20470572.61</td>\n",
       "    </tr>\n",
       "    <tr>\n",
       "      <th>4770</th>\n",
       "      <td>18249.0</td>\n",
       "      <td>22839.735993</td>\n",
       "      <td>1.074641e+05</td>\n",
       "      <td>0.00</td>\n",
       "      <td>0.00</td>\n",
       "      <td>184.99</td>\n",
       "      <td>6243.42</td>\n",
       "      <td>2546439.11</td>\n",
       "    </tr>\n",
       "    <tr>\n",
       "      <th>Total Bags</th>\n",
       "      <td>18249.0</td>\n",
       "      <td>239639.202060</td>\n",
       "      <td>9.862424e+05</td>\n",
       "      <td>0.00</td>\n",
       "      <td>5088.64</td>\n",
       "      <td>39743.83</td>\n",
       "      <td>110783.37</td>\n",
       "      <td>19373134.37</td>\n",
       "    </tr>\n",
       "    <tr>\n",
       "      <th>Small Bags</th>\n",
       "      <td>18249.0</td>\n",
       "      <td>182194.686696</td>\n",
       "      <td>7.461785e+05</td>\n",
       "      <td>0.00</td>\n",
       "      <td>2849.42</td>\n",
       "      <td>26362.82</td>\n",
       "      <td>83337.67</td>\n",
       "      <td>13384586.80</td>\n",
       "    </tr>\n",
       "    <tr>\n",
       "      <th>Large Bags</th>\n",
       "      <td>18249.0</td>\n",
       "      <td>54338.088145</td>\n",
       "      <td>2.439660e+05</td>\n",
       "      <td>0.00</td>\n",
       "      <td>127.47</td>\n",
       "      <td>2647.71</td>\n",
       "      <td>22029.25</td>\n",
       "      <td>5719096.61</td>\n",
       "    </tr>\n",
       "    <tr>\n",
       "      <th>XLarge Bags</th>\n",
       "      <td>18249.0</td>\n",
       "      <td>3106.426507</td>\n",
       "      <td>1.769289e+04</td>\n",
       "      <td>0.00</td>\n",
       "      <td>0.00</td>\n",
       "      <td>0.00</td>\n",
       "      <td>132.50</td>\n",
       "      <td>551693.65</td>\n",
       "    </tr>\n",
       "    <tr>\n",
       "      <th>year</th>\n",
       "      <td>18249.0</td>\n",
       "      <td>2016.147899</td>\n",
       "      <td>9.399385e-01</td>\n",
       "      <td>2015.00</td>\n",
       "      <td>2015.00</td>\n",
       "      <td>2016.00</td>\n",
       "      <td>2017.00</td>\n",
       "      <td>2018.00</td>\n",
       "    </tr>\n",
       "  </tbody>\n",
       "</table>\n",
       "</div>"
      ],
      "text/plain": [
       "                count           mean           std      min       25%  \\\n",
       "AveragePrice  18249.0       1.405978  4.026766e-01     0.44      1.10   \n",
       "Total Volume  18249.0  850644.013009  3.453545e+06    84.56  10838.58   \n",
       "4046          18249.0  293008.424531  1.264989e+06     0.00    854.07   \n",
       "4225          18249.0  295154.568356  1.204120e+06     0.00   3008.78   \n",
       "4770          18249.0   22839.735993  1.074641e+05     0.00      0.00   \n",
       "Total Bags    18249.0  239639.202060  9.862424e+05     0.00   5088.64   \n",
       "Small Bags    18249.0  182194.686696  7.461785e+05     0.00   2849.42   \n",
       "Large Bags    18249.0   54338.088145  2.439660e+05     0.00    127.47   \n",
       "XLarge Bags   18249.0    3106.426507  1.769289e+04     0.00      0.00   \n",
       "year          18249.0    2016.147899  9.399385e-01  2015.00   2015.00   \n",
       "\n",
       "                    50%        75%          max  \n",
       "AveragePrice       1.37       1.66         3.25  \n",
       "Total Volume  107376.76  432962.29  62505646.52  \n",
       "4046            8645.30  111020.20  22743616.17  \n",
       "4225           29061.02  150206.86  20470572.61  \n",
       "4770             184.99    6243.42   2546439.11  \n",
       "Total Bags     39743.83  110783.37  19373134.37  \n",
       "Small Bags     26362.82   83337.67  13384586.80  \n",
       "Large Bags      2647.71   22029.25   5719096.61  \n",
       "XLarge Bags        0.00     132.50    551693.65  \n",
       "year            2016.00    2017.00      2018.00  "
      ]
     },
     "execution_count": 8,
     "metadata": {},
     "output_type": "execute_result"
    }
   ],
   "source": [
    "df.describe().T"
   ]
  },
  {
   "cell_type": "code",
   "execution_count": 9,
   "metadata": {
    "execution": {
     "iopub.execute_input": "2021-03-17T20:17:11.046156Z",
     "iopub.status.busy": "2021-03-17T20:17:11.045490Z",
     "iopub.status.idle": "2021-03-17T20:17:11.086901Z",
     "shell.execute_reply": "2021-03-17T20:17:11.086296Z"
    },
    "papermill": {
     "duration": 0.061794,
     "end_time": "2021-03-17T20:17:11.087025",
     "exception": false,
     "start_time": "2021-03-17T20:17:11.025231",
     "status": "completed"
    },
    "tags": []
   },
   "outputs": [
    {
     "data": {
      "text/html": [
       "<div>\n",
       "<style scoped>\n",
       "    .dataframe tbody tr th:only-of-type {\n",
       "        vertical-align: middle;\n",
       "    }\n",
       "\n",
       "    .dataframe tbody tr th {\n",
       "        vertical-align: top;\n",
       "    }\n",
       "\n",
       "    .dataframe thead th {\n",
       "        text-align: right;\n",
       "    }\n",
       "</style>\n",
       "<table border=\"1\" class=\"dataframe\">\n",
       "  <thead>\n",
       "    <tr style=\"text-align: right;\">\n",
       "      <th></th>\n",
       "      <th>count</th>\n",
       "      <th>unique</th>\n",
       "      <th>top</th>\n",
       "      <th>freq</th>\n",
       "    </tr>\n",
       "  </thead>\n",
       "  <tbody>\n",
       "    <tr>\n",
       "      <th>type</th>\n",
       "      <td>18249</td>\n",
       "      <td>2</td>\n",
       "      <td>conventional</td>\n",
       "      <td>9126</td>\n",
       "    </tr>\n",
       "    <tr>\n",
       "      <th>region</th>\n",
       "      <td>18249</td>\n",
       "      <td>54</td>\n",
       "      <td>Midsouth</td>\n",
       "      <td>338</td>\n",
       "    </tr>\n",
       "    <tr>\n",
       "      <th>month</th>\n",
       "      <td>18249</td>\n",
       "      <td>12</td>\n",
       "      <td>Jan</td>\n",
       "      <td>1944</td>\n",
       "    </tr>\n",
       "  </tbody>\n",
       "</table>\n",
       "</div>"
      ],
      "text/plain": [
       "        count unique           top  freq\n",
       "type    18249      2  conventional  9126\n",
       "region  18249     54      Midsouth   338\n",
       "month   18249     12           Jan  1944"
      ]
     },
     "execution_count": 9,
     "metadata": {},
     "output_type": "execute_result"
    }
   ],
   "source": [
    "df.describe(include = \"O\").T"
   ]
  },
  {
   "cell_type": "code",
   "execution_count": 10,
   "metadata": {
    "execution": {
     "iopub.execute_input": "2021-03-17T20:17:11.132568Z",
     "iopub.status.busy": "2021-03-17T20:17:11.125165Z",
     "iopub.status.idle": "2021-03-17T20:17:11.258241Z",
     "shell.execute_reply": "2021-03-17T20:17:11.257506Z"
    },
    "papermill": {
     "duration": 0.156754,
     "end_time": "2021-03-17T20:17:11.258391",
     "exception": false,
     "start_time": "2021-03-17T20:17:11.101637",
     "status": "completed"
    },
    "tags": []
   },
   "outputs": [
    {
     "data": {
      "image/png": "[encoded data removed]",
      "text/plain": [
       "<Figure size 504x504 with 1 Axes>"
      ]
     },
     "metadata": {},
     "output_type": "display_data"
    }
   ],
   "source": [
    "sns.set_style(\"whitegrid\")\n",
    "\n",
    "df_type = df[\"type\"].value_counts()\n",
    "\n",
    "plt.figure(figsize = (7, 7))\n",
    "plt.pie(data = df_type, x = df_type.values, labels = df_type.index, autopct = \"%.2f%%\", pctdistance = 0.75, startangle = 90, colors = [\"green\", \"lime\"])\n",
    "circle = plt.Circle(xy = (0, 0), radius = 0.55, facecolor = 'white')\n",
    "plt.gca().add_artist(circle)\n",
    "plt.title(\"% of Each Avocado Type\", size = 16)\n",
    "plt.show()"
   ]
  },
  {
   "cell_type": "code",
   "execution_count": 11,
   "metadata": {
    "execution": {
     "iopub.execute_input": "2021-03-17T20:17:11.310581Z",
     "iopub.status.busy": "2021-03-17T20:17:11.309770Z",
     "iopub.status.idle": "2021-03-17T20:17:11.312726Z",
     "shell.execute_reply": "2021-03-17T20:17:11.313238Z"
    },
    "papermill": {
     "duration": 0.038063,
     "end_time": "2021-03-17T20:17:11.313413",
     "exception": false,
     "start_time": "2021-03-17T20:17:11.275350",
     "status": "completed"
    },
    "tags": []
   },
   "outputs": [
    {
     "name": "stdout",
     "output_type": "stream",
     "text": [
      "total number of conventinal avocados: 9126\n",
      "total number of organic avocados: 9123\n"
     ]
    }
   ],
   "source": [
    "print(\"total number of conventinal avocados: {0}\\ntotal number of organic avocados: {1}\".format(df[\"type\"].value_counts()[\"conventional\"], df[\"type\"].value_counts()[\"organic\"]))"
   ]
  },
  {
   "cell_type": "code",
   "execution_count": 12,
   "metadata": {
    "execution": {
     "iopub.execute_input": "2021-03-17T20:17:11.360904Z",
     "iopub.status.busy": "2021-03-17T20:17:11.359954Z",
     "iopub.status.idle": "2021-03-17T20:17:12.233245Z",
     "shell.execute_reply": "2021-03-17T20:17:12.233790Z"
    },
    "papermill": {
     "duration": 0.904233,
     "end_time": "2021-03-17T20:17:12.233978",
     "exception": false,
     "start_time": "2021-03-17T20:17:11.329745",
     "status": "completed"
    },
    "tags": []
   },
   "outputs": [
    {
     "data": {
      "image/png": "[encoded data removed]",
      "text/plain": [
       "<Figure size 576x1008 with 1 Axes>"
      ]
     },
     "metadata": {},
     "output_type": "display_data"
    }
   ],
   "source": [
    "df_organic = df.loc[df[\"type\"] == \"organic\"].copy()\n",
    "df_region = df_organic.groupby([\"region\"])[[\"AveragePrice\"]].mean().sort_values(by = \"AveragePrice\", ascending = False).copy()\n",
    "\n",
    "plt.figure(figsize = (8, 14))\n",
    "sns.barplot(data = df_region, x = \"AveragePrice\", y = df_region.index, color = \"lime\")\n",
    "plt.title(\"Most Expensive Avocados (Organic)\", size = 16)\n",
    "plt.show()"
   ]
  },
  {
   "cell_type": "code",
   "execution_count": 13,
   "metadata": {
    "execution": {
     "iopub.execute_input": "2021-03-17T20:17:12.280974Z",
     "iopub.status.busy": "2021-03-17T20:17:12.279582Z",
     "iopub.status.idle": "2021-03-17T20:17:12.292361Z",
     "shell.execute_reply": "2021-03-17T20:17:12.291646Z"
    },
    "papermill": {
     "duration": 0.040089,
     "end_time": "2021-03-17T20:17:12.292509",
     "exception": false,
     "start_time": "2021-03-17T20:17:12.252420",
     "status": "completed"
    },
    "tags": []
   },
   "outputs": [],
   "source": [
    "df_visualization = df.loc[df[\"year\"] != \"2018\"].copy()\n",
    "\n",
    "# Putting months in order for a better visualization\n",
    "df_visualization[\"month\"] = pd.Categorical(df_visualization[\"month\"], categories=[\"Jan\", \"Feb\", \"Mar\", \"Apr\", \"May\", \"Jun\", \"Jul\", \"Aug\", \"Sep\", \"Oct\", \"Nov\", \"Dec\"], ordered = True)"
   ]
  },
  {
   "cell_type": "code",
   "execution_count": 14,
   "metadata": {
    "execution": {
     "iopub.execute_input": "2021-03-17T20:17:12.340532Z",
     "iopub.status.busy": "2021-03-17T20:17:12.338689Z",
     "iopub.status.idle": "2021-03-17T20:17:13.081180Z",
     "shell.execute_reply": "2021-03-17T20:17:13.081820Z"
    },
    "papermill": {
     "duration": 0.768856,
     "end_time": "2021-03-17T20:17:13.082012",
     "exception": false,
     "start_time": "2021-03-17T20:17:12.313156",
     "status": "completed"
    },
    "tags": []
   },
   "outputs": [
    {
     "data": {
      "image/png": "[encoded data removed]",
      "text/plain": [
       "<Figure size 648x504 with 1 Axes>"
      ]
     },
     "metadata": {},
     "output_type": "display_data"
    }
   ],
   "source": [
    "plt.figure(figsize = (9, 7))\n",
    "sns.lineplot(data = df_visualization, x = \"year\", y = \"Total Volume\", hue = \"type\", palette = [\"green\", \"lime\"])\n",
    "plt.title(\"Year x Total Volume | for Each Avocado Type\", size = 16)\n",
    "plt.show()"
   ]
  }
 ],
 "metadata": {
  "kernelspec": {
   "display_name": "Python 3",
   "language": "python",
   "name": "python3"
  },
  "language_info": {
   "codemirror_mode": {
    "name": "ipython",
    "version": 3
   },
   "file_extension": ".py",
   "mimetype": "text/x-python",
   "name": "python",
   "nbconvert_exporter": "python",
   "pygments_lexer": "ipython3",
   "version": "3.7.6"
  },
  "papermill": {
   "duration": 19.253849,
   "end_time": "2021-03-17T20:17:13.213311",
   "environment_variables": {},
   "exception": null,
   "input_path": "__notebook__.ipynb",
   "output_path": "__notebook__.ipynb",
   "parameters": {},
   "start_time": "2021-03-17T20:16:53.959462",
   "version": "2.1.0"
  }
 },
 "nbformat": 4,
 "nbformat_minor": 4
}
