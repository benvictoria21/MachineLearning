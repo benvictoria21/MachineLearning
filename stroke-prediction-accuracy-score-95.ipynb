{
 "cells": [
  {
   "cell_type": "code",
   "execution_count": 1,
   "id": "finnish-fifth",
   "metadata": {
    "_cell_guid": "b1076dfc-b9ad-4769-8c92-a6c4dae69d19",
    "_uuid": "8f2839f25d086af736a60e9eeb907d3b93b6e0e5",
    "execution": {
     "iopub.execute_input": "2021-06-07T17:53:58.227507Z",
     "iopub.status.busy": "2021-06-07T17:53:58.226637Z",
     "iopub.status.idle": "2021-06-07T17:53:59.860539Z",
     "shell.execute_reply": "2021-06-07T17:53:59.859561Z",
     "shell.execute_reply.started": "2021-06-07T16:50:42.981778Z"
    },
    "papermill": {
     "duration": 1.681038,
     "end_time": "2021-06-07T17:53:59.860728",
     "exception": false,
     "start_time": "2021-06-07T17:53:58.179690",
     "status": "completed"
    },
    "tags": []
   },
   "outputs": [],
   "source": [
    "import pandas as pd \n",
    "import numpy as np \n",
    "import seaborn as sns\n",
    "import matplotlib.pyplot as plt \n",
    "%matplotlib inline \n",
    "import imblearn \n",
    "import warnings\n",
    "warnings.filterwarnings(\"ignore\")"
   ]
  },
  {
   "cell_type": "code",
   "execution_count": 2,
   "id": "passing-violin",
   "metadata": {
    "execution": {
     "iopub.execute_input": "2021-06-07T17:53:59.940220Z",
     "iopub.status.busy": "2021-06-07T17:53:59.939542Z",
     "iopub.status.idle": "2021-06-07T17:54:00.339280Z",
     "shell.execute_reply": "2021-06-07T17:54:00.339958Z",
     "shell.execute_reply.started": "2021-06-07T16:51:13.441282Z"
    },
    "papermill": {
     "duration": 0.440624,
     "end_time": "2021-06-07T17:54:00.340141",
     "exception": false,
     "start_time": "2021-06-07T17:53:59.899517",
     "status": "completed"
    },
    "tags": []
   },
   "outputs": [
    {
     "data": {
      "text/html": [
       "<div>\n",
       "<style scoped>\n",
       "    .dataframe tbody tr th:only-of-type {\n",
       "        vertical-align: middle;\n",
       "    }\n",
       "\n",
       "    .dataframe tbody tr th {\n",
       "        vertical-align: top;\n",
       "    }\n",
       "\n",
       "    .dataframe thead th {\n",
       "        text-align: right;\n",
       "    }\n",
       "</style>\n",
       "<table border=\"1\" class=\"dataframe\">\n",
       "  <thead>\n",
       "    <tr style=\"text-align: right;\">\n",
       "      <th></th>\n",
       "      <th>id</th>\n",
       "      <th>gender</th>\n",
       "      <th>age</th>\n",
       "      <th>hypertension</th>\n",
       "      <th>heart_disease</th>\n",
       "      <th>ever_married</th>\n",
       "      <th>work_type</th>\n",
       "      <th>Residence_type</th>\n",
       "      <th>avg_glucose_level</th>\n",
       "      <th>bmi</th>\n",
       "      <th>smoking_status</th>\n",
       "      <th>stroke</th>\n",
       "    </tr>\n",
       "  </thead>\n",
       "  <tbody>\n",
       "    <tr>\n",
       "      <th>0</th>\n",
       "      <td>9046</td>\n",
       "      <td>Male</td>\n",
       "      <td>67.0</td>\n",
       "      <td>0</td>\n",
       "      <td>1</td>\n",
       "      <td>Yes</td>\n",
       "      <td>Private</td>\n",
       "      <td>Urban</td>\n",
       "      <td>228.69</td>\n",
       "      <td>36.6</td>\n",
       "      <td>formerly smoked</td>\n",
       "      <td>1</td>\n",
       "    </tr>\n",
       "    <tr>\n",
       "      <th>1</th>\n",
       "      <td>51676</td>\n",
       "      <td>Female</td>\n",
       "      <td>61.0</td>\n",
       "      <td>0</td>\n",
       "      <td>0</td>\n",
       "      <td>Yes</td>\n",
       "      <td>Self-employed</td>\n",
       "      <td>Rural</td>\n",
       "      <td>202.21</td>\n",
       "      <td>NaN</td>\n",
       "      <td>never smoked</td>\n",
       "      <td>1</td>\n",
       "    </tr>\n",
       "    <tr>\n",
       "      <th>2</th>\n",
       "      <td>31112</td>\n",
       "      <td>Male</td>\n",
       "      <td>80.0</td>\n",
       "      <td>0</td>\n",
       "      <td>1</td>\n",
       "      <td>Yes</td>\n",
       "      <td>Private</td>\n",
       "      <td>Rural</td>\n",
       "      <td>105.92</td>\n",
       "      <td>32.5</td>\n",
       "      <td>never smoked</td>\n",
       "      <td>1</td>\n",
       "    </tr>\n",
       "    <tr>\n",
       "      <th>3</th>\n",
       "      <td>60182</td>\n",
       "      <td>Female</td>\n",
       "      <td>49.0</td>\n",
       "      <td>0</td>\n",
       "      <td>0</td>\n",
       "      <td>Yes</td>\n",
       "      <td>Private</td>\n",
       "      <td>Urban</td>\n",
       "      <td>171.23</td>\n",
       "      <td>34.4</td>\n",
       "      <td>smokes</td>\n",
       "      <td>1</td>\n",
       "    </tr>\n",
       "    <tr>\n",
       "      <th>4</th>\n",
       "      <td>1665</td>\n",
       "      <td>Female</td>\n",
       "      <td>79.0</td>\n",
       "      <td>1</td>\n",
       "      <td>0</td>\n",
       "      <td>Yes</td>\n",
       "      <td>Self-employed</td>\n",
       "      <td>Rural</td>\n",
       "      <td>174.12</td>\n",
       "      <td>24.0</td>\n",
       "      <td>never smoked</td>\n",
       "      <td>1</td>\n",
       "    </tr>\n",
       "  </tbody>\n",
       "</table>\n",
       "</div>"
      ],
      "text/plain": [
       "      id  gender   age  hypertension  heart_disease ever_married  \\\n",
       "0   9046    Male  67.0             0              1          Yes   \n",
       "1  51676  Female  61.0             0              0          Yes   \n",
       "2  31112    Male  80.0             0              1          Yes   \n",
       "3  60182  Female  49.0             0              0          Yes   \n",
       "4   1665  Female  79.0             1              0          Yes   \n",
       "\n",
       "       work_type Residence_type  avg_glucose_level   bmi   smoking_status  \\\n",
       "0        Private          Urban             228.69  36.6  formerly smoked   \n",
       "1  Self-employed          Rural             202.21   NaN     never smoked   \n",
       "2        Private          Rural             105.92  32.5     never smoked   \n",
       "3        Private          Urban             171.23  34.4           smokes   \n",
       "4  Self-employed          Rural             174.12  24.0     never smoked   \n",
       "\n",
       "   stroke  \n",
       "0       1  \n",
       "1       1  \n",
       "2       1  \n",
       "3       1  \n",
       "4       1  "
      ]
     },
     "execution_count": 2,
     "metadata": {},
     "output_type": "execute_result"
    }
   ],
   "source": [
    "df = pd.read_csv(\"https://raw.githubusercontent.com/benvictoria17/MachineLearning/master/dataset/%20Stroke%20Prediction%20Dataset/healthcare-dataset-stroke-data.csv\")\n",
    "df.head()"
   ]
  },
  {
   "cell_type": "code",
   "execution_count": 3,
   "id": "floppy-display",
   "metadata": {
    "execution": {
     "iopub.execute_input": "2021-06-07T17:54:00.418349Z",
     "iopub.status.busy": "2021-06-07T17:54:00.417551Z",
     "iopub.status.idle": "2021-06-07T17:54:00.421436Z",
     "shell.execute_reply": "2021-06-07T17:54:00.420866Z",
     "shell.execute_reply.started": "2021-06-07T16:51:26.163808Z"
    },
    "papermill": {
     "duration": 0.043631,
     "end_time": "2021-06-07T17:54:00.421588",
     "exception": false,
     "start_time": "2021-06-07T17:54:00.377957",
     "status": "completed"
    },
    "tags": []
   },
   "outputs": [
    {
     "data": {
      "text/plain": [
       "(5110, 12)"
      ]
     },
     "execution_count": 3,
     "metadata": {},
     "output_type": "execute_result"
    }
   ],
   "source": [
    "df.shape"
   ]
  },
  {
   "cell_type": "code",
   "execution_count": 4,
   "id": "egyptian-consultancy",
   "metadata": {
    "execution": {
     "iopub.execute_input": "2021-06-07T17:54:00.493554Z",
     "iopub.status.busy": "2021-06-07T17:54:00.492900Z",
     "iopub.status.idle": "2021-06-07T17:54:00.503640Z",
     "shell.execute_reply": "2021-06-07T17:54:00.502923Z",
     "shell.execute_reply.started": "2021-06-07T16:51:52.736861Z"
    },
    "papermill": {
     "duration": 0.047998,
     "end_time": "2021-06-07T17:54:00.503793",
     "exception": false,
     "start_time": "2021-06-07T17:54:00.455795",
     "status": "completed"
    },
    "tags": []
   },
   "outputs": [
    {
     "data": {
      "text/plain": [
       "id                     0\n",
       "gender                 0\n",
       "age                    0\n",
       "hypertension           0\n",
       "heart_disease          0\n",
       "ever_married           0\n",
       "work_type              0\n",
       "Residence_type         0\n",
       "avg_glucose_level      0\n",
       "bmi                  201\n",
       "smoking_status         0\n",
       "stroke                 0\n",
       "dtype: int64"
      ]
     },
     "execution_count": 4,
     "metadata": {},
     "output_type": "execute_result"
    }
   ],
   "source": [
    "df.isnull().sum()"
   ]
  },
  {
   "cell_type": "code",
   "execution_count": 5,
   "id": "respected-draft",
   "metadata": {
    "execution": {
     "iopub.execute_input": "2021-06-07T17:54:00.584351Z",
     "iopub.status.busy": "2021-06-07T17:54:00.583503Z",
     "iopub.status.idle": "2021-06-07T17:54:00.605928Z",
     "shell.execute_reply": "2021-06-07T17:54:00.605415Z",
     "shell.execute_reply.started": "2021-06-07T16:52:28.948592Z"
    },
    "papermill": {
     "duration": 0.065563,
     "end_time": "2021-06-07T17:54:00.606073",
     "exception": false,
     "start_time": "2021-06-07T17:54:00.540510",
     "status": "completed"
    },
    "tags": []
   },
   "outputs": [
    {
     "data": {
      "text/plain": [
       "(4909, 12)"
      ]
     },
     "execution_count": 5,
     "metadata": {},
     "output_type": "execute_result"
    }
   ],
   "source": [
    "df.dropna(inplace = True)\n",
    "df.shape"
   ]
  },
  {
   "cell_type": "code",
   "execution_count": 6,
   "id": "plastic-chicken",
   "metadata": {
    "execution": {
     "iopub.execute_input": "2021-06-07T17:54:00.680708Z",
     "iopub.status.busy": "2021-06-07T17:54:00.679938Z",
     "iopub.status.idle": "2021-06-07T17:54:00.692935Z",
     "shell.execute_reply": "2021-06-07T17:54:00.693910Z",
     "shell.execute_reply.started": "2021-06-07T16:52:38.275035Z"
    },
    "papermill": {
     "duration": 0.052423,
     "end_time": "2021-06-07T17:54:00.694275",
     "exception": false,
     "start_time": "2021-06-07T17:54:00.641852",
     "status": "completed"
    },
    "tags": []
   },
   "outputs": [
    {
     "name": "stdout",
     "output_type": "stream",
     "text": [
      "Gender :  ['Male' 'Female' 'Other']\n",
      "ever_married :  ['Yes' 'No']\n",
      "Work Type :  ['Private' 'Self-employed' 'Govt_job' 'children' 'Never_worked']\n",
      "Residence :  ['Urban' 'Rural']\n",
      "Smoking :  ['formerly smoked' 'never smoked' 'smokes' 'Unknown']\n"
     ]
    }
   ],
   "source": [
    "print(\"Gender : \", df['gender'].unique())\n",
    "\n",
    "print(\"ever_married : \", df['ever_married'].unique())\n",
    "\n",
    "print(\"Work Type : \", df['work_type'].unique())\n",
    "\n",
    "print(\"Residence : \", df['Residence_type'].unique())\n",
    "\n",
    "print(\"Smoking : \", df['smoking_status'].unique())"
   ]
  },
  {
   "cell_type": "code",
   "execution_count": 7,
   "id": "sweet-sunglasses",
   "metadata": {
    "execution": {
     "iopub.execute_input": "2021-06-07T17:54:00.770023Z",
     "iopub.status.busy": "2021-06-07T17:54:00.769318Z",
     "iopub.status.idle": "2021-06-07T17:54:00.806472Z",
     "shell.execute_reply": "2021-06-07T17:54:00.806988Z",
     "shell.execute_reply.started": "2021-06-07T16:52:57.794062Z"
    },
    "papermill": {
     "duration": 0.076286,
     "end_time": "2021-06-07T17:54:00.807166",
     "exception": false,
     "start_time": "2021-06-07T17:54:00.730880",
     "status": "completed"
    },
    "tags": []
   },
   "outputs": [
    {
     "data": {
      "text/html": [
       "<div>\n",
       "<style scoped>\n",
       "    .dataframe tbody tr th:only-of-type {\n",
       "        vertical-align: middle;\n",
       "    }\n",
       "\n",
       "    .dataframe tbody tr th {\n",
       "        vertical-align: top;\n",
       "    }\n",
       "\n",
       "    .dataframe thead th {\n",
       "        text-align: right;\n",
       "    }\n",
       "</style>\n",
       "<table border=\"1\" class=\"dataframe\">\n",
       "  <thead>\n",
       "    <tr style=\"text-align: right;\">\n",
       "      <th></th>\n",
       "      <th>id</th>\n",
       "      <th>age</th>\n",
       "      <th>hypertension</th>\n",
       "      <th>heart_disease</th>\n",
       "      <th>avg_glucose_level</th>\n",
       "      <th>bmi</th>\n",
       "      <th>stroke</th>\n",
       "    </tr>\n",
       "  </thead>\n",
       "  <tbody>\n",
       "    <tr>\n",
       "      <th>count</th>\n",
       "      <td>4909.000000</td>\n",
       "      <td>4909.000000</td>\n",
       "      <td>4909.000000</td>\n",
       "      <td>4909.000000</td>\n",
       "      <td>4909.000000</td>\n",
       "      <td>4909.000000</td>\n",
       "      <td>4909.000000</td>\n",
       "    </tr>\n",
       "    <tr>\n",
       "      <th>mean</th>\n",
       "      <td>37064.313506</td>\n",
       "      <td>42.865374</td>\n",
       "      <td>0.091872</td>\n",
       "      <td>0.049501</td>\n",
       "      <td>105.305150</td>\n",
       "      <td>28.893237</td>\n",
       "      <td>0.042575</td>\n",
       "    </tr>\n",
       "    <tr>\n",
       "      <th>std</th>\n",
       "      <td>20995.098457</td>\n",
       "      <td>22.555115</td>\n",
       "      <td>0.288875</td>\n",
       "      <td>0.216934</td>\n",
       "      <td>44.424341</td>\n",
       "      <td>7.854067</td>\n",
       "      <td>0.201917</td>\n",
       "    </tr>\n",
       "    <tr>\n",
       "      <th>min</th>\n",
       "      <td>77.000000</td>\n",
       "      <td>0.080000</td>\n",
       "      <td>0.000000</td>\n",
       "      <td>0.000000</td>\n",
       "      <td>55.120000</td>\n",
       "      <td>10.300000</td>\n",
       "      <td>0.000000</td>\n",
       "    </tr>\n",
       "    <tr>\n",
       "      <th>25%</th>\n",
       "      <td>18605.000000</td>\n",
       "      <td>25.000000</td>\n",
       "      <td>0.000000</td>\n",
       "      <td>0.000000</td>\n",
       "      <td>77.070000</td>\n",
       "      <td>23.500000</td>\n",
       "      <td>0.000000</td>\n",
       "    </tr>\n",
       "    <tr>\n",
       "      <th>50%</th>\n",
       "      <td>37608.000000</td>\n",
       "      <td>44.000000</td>\n",
       "      <td>0.000000</td>\n",
       "      <td>0.000000</td>\n",
       "      <td>91.680000</td>\n",
       "      <td>28.100000</td>\n",
       "      <td>0.000000</td>\n",
       "    </tr>\n",
       "    <tr>\n",
       "      <th>75%</th>\n",
       "      <td>55220.000000</td>\n",
       "      <td>60.000000</td>\n",
       "      <td>0.000000</td>\n",
       "      <td>0.000000</td>\n",
       "      <td>113.570000</td>\n",
       "      <td>33.100000</td>\n",
       "      <td>0.000000</td>\n",
       "    </tr>\n",
       "    <tr>\n",
       "      <th>max</th>\n",
       "      <td>72940.000000</td>\n",
       "      <td>82.000000</td>\n",
       "      <td>1.000000</td>\n",
       "      <td>1.000000</td>\n",
       "      <td>271.740000</td>\n",
       "      <td>97.600000</td>\n",
       "      <td>1.000000</td>\n",
       "    </tr>\n",
       "  </tbody>\n",
       "</table>\n",
       "</div>"
      ],
      "text/plain": [
       "                 id          age  hypertension  heart_disease  \\\n",
       "count   4909.000000  4909.000000   4909.000000    4909.000000   \n",
       "mean   37064.313506    42.865374      0.091872       0.049501   \n",
       "std    20995.098457    22.555115      0.288875       0.216934   \n",
       "min       77.000000     0.080000      0.000000       0.000000   \n",
       "25%    18605.000000    25.000000      0.000000       0.000000   \n",
       "50%    37608.000000    44.000000      0.000000       0.000000   \n",
       "75%    55220.000000    60.000000      0.000000       0.000000   \n",
       "max    72940.000000    82.000000      1.000000       1.000000   \n",
       "\n",
       "       avg_glucose_level          bmi       stroke  \n",
       "count        4909.000000  4909.000000  4909.000000  \n",
       "mean          105.305150    28.893237     0.042575  \n",
       "std            44.424341     7.854067     0.201917  \n",
       "min            55.120000    10.300000     0.000000  \n",
       "25%            77.070000    23.500000     0.000000  \n",
       "50%            91.680000    28.100000     0.000000  \n",
       "75%           113.570000    33.100000     0.000000  \n",
       "max           271.740000    97.600000     1.000000  "
      ]
     },
     "execution_count": 7,
     "metadata": {},
     "output_type": "execute_result"
    }
   ],
   "source": [
    "df.describe()"
   ]
  },
  {
   "cell_type": "code",
   "execution_count": 8,
   "id": "racial-freeze",
   "metadata": {
    "execution": {
     "iopub.execute_input": "2021-06-07T17:54:00.883156Z",
     "iopub.status.busy": "2021-06-07T17:54:00.882478Z",
     "iopub.status.idle": "2021-06-07T17:54:01.182728Z",
     "shell.execute_reply": "2021-06-07T17:54:01.183324Z",
     "shell.execute_reply.started": "2021-06-07T16:53:34.322239Z"
    },
    "papermill": {
     "duration": 0.340022,
     "end_time": "2021-06-07T17:54:01.183521",
     "exception": false,
     "start_time": "2021-06-07T17:54:00.843499",
     "status": "completed"
    },
    "tags": []
   },
   "outputs": [
    {
     "data": {
      "text/plain": [
       "<function matplotlib.pyplot.show(close=None, block=None)>"
      ]
     },
     "execution_count": 8,
     "metadata": {},
     "output_type": "execute_result"
    },
    {
     "data": {
      "image/png": "[encoded data removed]",
      "text/plain": [
       "<Figure size 360x360 with 1 Axes>"
      ]
     },
     "metadata": {
      "needs_background": "light"
     },
     "output_type": "display_data"
    }
   ],
   "source": [
    "sns.displot(df[\"age\"], bins=10)\n",
    "plt.show"
   ]
  },
  {
   "cell_type": "code",
   "execution_count": 9,
   "id": "valuable-display",
   "metadata": {
    "execution": {
     "iopub.execute_input": "2021-06-07T17:54:01.269061Z",
     "iopub.status.busy": "2021-06-07T17:54:01.268294Z",
     "iopub.status.idle": "2021-06-07T17:54:01.278102Z",
     "shell.execute_reply": "2021-06-07T17:54:01.278779Z",
     "shell.execute_reply.started": "2021-06-07T16:54:00.299848Z"
    },
    "papermill": {
     "duration": 0.054496,
     "end_time": "2021-06-07T17:54:01.278988",
     "exception": false,
     "start_time": "2021-06-07T17:54:01.224492",
     "status": "completed"
    },
    "tags": []
   },
   "outputs": [
    {
     "data": {
      "text/plain": [
       "Female    2897\n",
       "Male      2011\n",
       "Other        1\n",
       "Name: gender, dtype: int64"
      ]
     },
     "execution_count": 9,
     "metadata": {},
     "output_type": "execute_result"
    }
   ],
   "source": [
    "df.gender.value_counts()"
   ]
  },
  {
   "cell_type": "code",
   "execution_count": 10,
   "id": "abroad-spyware",
   "metadata": {
    "execution": {
     "iopub.execute_input": "2021-06-07T17:54:01.361596Z",
     "iopub.status.busy": "2021-06-07T17:54:01.360831Z",
     "iopub.status.idle": "2021-06-07T17:54:01.624550Z",
     "shell.execute_reply": "2021-06-07T17:54:01.622581Z",
     "shell.execute_reply.started": "2021-06-07T16:54:47.011917Z"
    },
    "papermill": {
     "duration": 0.304255,
     "end_time": "2021-06-07T17:54:01.624831",
     "exception": false,
     "start_time": "2021-06-07T17:54:01.320576",
     "status": "completed"
    },
    "tags": []
   },
   "outputs": [
    {
     "data": {
      "image/png": "[encoded data removed]",
      "text/plain": [
       "<Figure size 432x288 with 1 Axes>"
      ]
     },
     "metadata": {
      "needs_background": "light"
     },
     "output_type": "display_data"
    }
   ],
   "source": [
    "sns.barplot(df['gender'], df['stroke'])\n",
    "plt.show()"
   ]
  },
  {
   "cell_type": "code",
   "execution_count": 11,
   "id": "artificial-blink",
   "metadata": {
    "execution": {
     "iopub.execute_input": "2021-06-07T17:54:01.756819Z",
     "iopub.status.busy": "2021-06-07T17:54:01.754257Z",
     "iopub.status.idle": "2021-06-07T17:54:02.067847Z",
     "shell.execute_reply": "2021-06-07T17:54:02.067283Z",
     "shell.execute_reply.started": "2021-06-07T17:26:27.315730Z"
    },
    "papermill": {
     "duration": 0.387327,
     "end_time": "2021-06-07T17:54:02.067988",
     "exception": false,
     "start_time": "2021-06-07T17:54:01.680661",
     "status": "completed"
    },
    "tags": []
   },
   "outputs": [
    {
     "data": {
      "image/png": "[encoded data removed]",
      "text/plain": [
       "<Figure size 432x288 with 2 Axes>"
      ]
     },
     "metadata": {
      "needs_background": "light"
     },
     "output_type": "display_data"
    }
   ],
   "source": [
    "plt.subplot(1, 2, 1)\n",
    "\n",
    "sns.countplot(x='gender', hue='stroke', data=df)\n",
    "sns.despine()\n",
    "\n",
    "plt.subplot(1, 2, 2)\n",
    "sns.countplot(x='stroke', hue='gender', data=df)\n",
    "sns.despine()\n",
    "\n",
    "plt.show()"
   ]
  },
  {
   "cell_type": "code",
   "execution_count": 12,
   "id": "gross-interview",
   "metadata": {
    "execution": {
     "iopub.execute_input": "2021-06-07T17:54:02.153499Z",
     "iopub.status.busy": "2021-06-07T17:54:02.152801Z",
     "iopub.status.idle": "2021-06-07T17:54:02.158589Z",
     "shell.execute_reply": "2021-06-07T17:54:02.157859Z",
     "shell.execute_reply.started": "2021-06-07T17:34:04.093614Z"
    },
    "papermill": {
     "duration": 0.051964,
     "end_time": "2021-06-07T17:54:02.158746",
     "exception": false,
     "start_time": "2021-06-07T17:54:02.106782",
     "status": "completed"
    },
    "tags": []
   },
   "outputs": [
    {
     "data": {
      "text/plain": [
       "Yes    3204\n",
       "No     1705\n",
       "Name: ever_married, dtype: int64"
      ]
     },
     "execution_count": 12,
     "metadata": {},
     "output_type": "execute_result"
    }
   ],
   "source": [
    "df.ever_married.value_counts()"
   ]
  },
  {
   "cell_type": "code",
   "execution_count": 13,
   "id": "tribal-peace",
   "metadata": {
    "execution": {
     "iopub.execute_input": "2021-06-07T17:54:02.251088Z",
     "iopub.status.busy": "2021-06-07T17:54:02.250355Z",
     "iopub.status.idle": "2021-06-07T17:54:02.501827Z",
     "shell.execute_reply": "2021-06-07T17:54:02.500824Z",
     "shell.execute_reply.started": "2021-06-07T17:35:18.805499Z"
    },
    "papermill": {
     "duration": 0.299986,
     "end_time": "2021-06-07T17:54:02.501989",
     "exception": false,
     "start_time": "2021-06-07T17:54:02.202003",
     "status": "completed"
    },
    "tags": []
   },
   "outputs": [
    {
     "data": {
      "image/png": "[encoded data removed]",
      "text/plain": [
       "<Figure size 432x288 with 1 Axes>"
      ]
     },
     "metadata": {
      "needs_background": "light"
     },
     "output_type": "display_data"
    }
   ],
   "source": [
    "sns.barplot(df['ever_married'], df['stroke'])\n",
    "plt.show()"
   ]
  },
  {
   "cell_type": "code",
   "execution_count": 14,
   "id": "higher-houston",
   "metadata": {
    "execution": {
     "iopub.execute_input": "2021-06-07T17:54:02.619260Z",
     "iopub.status.busy": "2021-06-07T17:54:02.618576Z",
     "iopub.status.idle": "2021-06-07T17:54:02.884693Z",
     "shell.execute_reply": "2021-06-07T17:54:02.884074Z",
     "shell.execute_reply.started": "2021-06-07T17:35:25.653954Z"
    },
    "papermill": {
     "duration": 0.343166,
     "end_time": "2021-06-07T17:54:02.884844",
     "exception": false,
     "start_time": "2021-06-07T17:54:02.541678",
     "status": "completed"
    },
    "tags": []
   },
   "outputs": [
    {
     "data": {
      "image/png": "[encoded data removed]",
      "text/plain": [
       "<Figure size 432x288 with 2 Axes>"
      ]
     },
     "metadata": {
      "needs_background": "light"
     },
     "output_type": "display_data"
    }
   ],
   "source": [
    "plt.subplot(1, 2, 1)\n",
    "\n",
    "sns.countplot(x='ever_married', hue='stroke', data=df)\n",
    "sns.despine()\n",
    "\n",
    "plt.subplot(1, 2, 2)\n",
    "sns.countplot(x='stroke', hue='ever_married', data=df)\n",
    "sns.despine()\n",
    "\n",
    "plt.show()"
   ]
  },
  {
   "cell_type": "code",
   "execution_count": 15,
   "id": "animated-whole",
   "metadata": {
    "execution": {
     "iopub.execute_input": "2021-06-07T17:54:02.977654Z",
     "iopub.status.busy": "2021-06-07T17:54:02.976562Z",
     "iopub.status.idle": "2021-06-07T17:54:02.981706Z",
     "shell.execute_reply": "2021-06-07T17:54:02.980945Z",
     "shell.execute_reply.started": "2021-06-07T17:35:34.057141Z"
    },
    "papermill": {
     "duration": 0.055396,
     "end_time": "2021-06-07T17:54:02.981868",
     "exception": false,
     "start_time": "2021-06-07T17:54:02.926472",
     "status": "completed"
    },
    "tags": []
   },
   "outputs": [
    {
     "data": {
      "text/plain": [
       "Private          2811\n",
       "Self-employed     775\n",
       "children          671\n",
       "Govt_job          630\n",
       "Never_worked       22\n",
       "Name: work_type, dtype: int64"
      ]
     },
     "execution_count": 15,
     "metadata": {},
     "output_type": "execute_result"
    }
   ],
   "source": [
    "df.work_type.value_counts()"
   ]
  },
  {
   "cell_type": "code",
   "execution_count": 16,
   "id": "precious-procedure",
   "metadata": {
    "execution": {
     "iopub.execute_input": "2021-06-07T17:54:03.081496Z",
     "iopub.status.busy": "2021-06-07T17:54:03.080721Z",
     "iopub.status.idle": "2021-06-07T17:54:03.483265Z",
     "shell.execute_reply": "2021-06-07T17:54:03.482733Z",
     "shell.execute_reply.started": "2021-06-07T17:35:44.364966Z"
    },
    "papermill": {
     "duration": 0.455141,
     "end_time": "2021-06-07T17:54:03.483411",
     "exception": false,
     "start_time": "2021-06-07T17:54:03.028270",
     "status": "completed"
    },
    "tags": []
   },
   "outputs": [
    {
     "data": {
      "image/png": "[encoded data removed]",
      "text/plain": [
       "<Figure size 432x288 with 1 Axes>"
      ]
     },
     "metadata": {
      "needs_background": "light"
     },
     "output_type": "display_data"
    }
   ],
   "source": [
    "sns.barplot(df['work_type'], df['stroke'])\n",
    "plt.show()"
   ]
  },
  {
   "cell_type": "code",
   "execution_count": 17,
   "id": "mechanical-orange",
   "metadata": {
    "execution": {
     "iopub.execute_input": "2021-06-07T17:54:03.705835Z",
     "iopub.status.busy": "2021-06-07T17:54:03.689987Z",
     "iopub.status.idle": "2021-06-07T17:54:04.075695Z",
     "shell.execute_reply": "2021-06-07T17:54:04.075050Z",
     "shell.execute_reply.started": "2021-06-07T17:35:56.595991Z"
    },
    "papermill": {
     "duration": 0.550818,
     "end_time": "2021-06-07T17:54:04.075835",
     "exception": false,
     "start_time": "2021-06-07T17:54:03.525017",
     "status": "completed"
    },
    "tags": []
   },
   "outputs": [
    {
     "data": {
      "image/png": "[encoded data removed]",
      "text/plain": [
       "<Figure size 432x288 with 2 Axes>"
      ]
     },
     "metadata": {
      "needs_background": "light"
     },
     "output_type": "display_data"
    }
   ],
   "source": [
    "plt.subplot(1, 2, 1)\n",
    "\n",
    "sns.countplot(x='work_type', hue='stroke', data=df)\n",
    "plt.xticks(rotation=30)\n",
    "sns.despine()\n",
    "\n",
    "plt.subplot(1, 2, 2)\n",
    "sns.countplot(x='stroke', hue='work_type', data=df)\n",
    "sns.despine()\n",
    "\n",
    "plt.show()"
   ]
  },
  {
   "cell_type": "code",
   "execution_count": 18,
   "id": "turned-grammar",
   "metadata": {
    "execution": {
     "iopub.execute_input": "2021-06-07T17:54:04.169019Z",
     "iopub.status.busy": "2021-06-07T17:54:04.168129Z",
     "iopub.status.idle": "2021-06-07T17:54:04.172899Z",
     "shell.execute_reply": "2021-06-07T17:54:04.172373Z",
     "shell.execute_reply.started": "2021-06-07T17:36:04.497110Z"
    },
    "papermill": {
     "duration": 0.054852,
     "end_time": "2021-06-07T17:54:04.173039",
     "exception": false,
     "start_time": "2021-06-07T17:54:04.118187",
     "status": "completed"
    },
    "tags": []
   },
   "outputs": [
    {
     "data": {
      "text/plain": [
       "Urban    2490\n",
       "Rural    2419\n",
       "Name: Residence_type, dtype: int64"
      ]
     },
     "execution_count": 18,
     "metadata": {},
     "output_type": "execute_result"
    }
   ],
   "source": [
    "df.Residence_type.value_counts()"
   ]
  },
  {
   "cell_type": "code",
   "execution_count": 19,
   "id": "pharmaceutical-minnesota",
   "metadata": {
    "execution": {
     "iopub.execute_input": "2021-06-07T17:54:04.271331Z",
     "iopub.status.busy": "2021-06-07T17:54:04.266705Z",
     "iopub.status.idle": "2021-06-07T17:54:04.504408Z",
     "shell.execute_reply": "2021-06-07T17:54:04.503811Z",
     "shell.execute_reply.started": "2021-06-07T17:36:13.554741Z"
    },
    "papermill": {
     "duration": 0.288674,
     "end_time": "2021-06-07T17:54:04.504558",
     "exception": false,
     "start_time": "2021-06-07T17:54:04.215884",
     "status": "completed"
    },
    "tags": []
   },
   "outputs": [
    {
     "data": {
      "image/png": "[encoded data removed]",
      "text/plain": [
       "<Figure size 432x288 with 1 Axes>"
      ]
     },
     "metadata": {
      "needs_background": "light"
     },
     "output_type": "display_data"
    }
   ],
   "source": [
    "sns.barplot(df['Residence_type'], df['stroke'])\n",
    "plt.show()"
   ]
  },
  {
   "cell_type": "code",
   "execution_count": 20,
   "id": "serial-shadow",
   "metadata": {
    "execution": {
     "iopub.execute_input": "2021-06-07T17:54:04.626112Z",
     "iopub.status.busy": "2021-06-07T17:54:04.625022Z",
     "iopub.status.idle": "2021-06-07T17:54:04.893674Z",
     "shell.execute_reply": "2021-06-07T17:54:04.894193Z",
     "shell.execute_reply.started": "2021-06-07T17:36:45.045257Z"
    },
    "papermill": {
     "duration": 0.346423,
     "end_time": "2021-06-07T17:54:04.894404",
     "exception": false,
     "start_time": "2021-06-07T17:54:04.547981",
     "status": "completed"
    },
    "tags": []
   },
   "outputs": [
    {
     "data": {
      "image/png": "[encoded data removed]",
      "text/plain": [
       "<Figure size 432x288 with 2 Axes>"
      ]
     },
     "metadata": {
      "needs_background": "light"
     },
     "output_type": "display_data"
    }
   ],
   "source": [
    "plt.subplot(1, 2, 1)\n",
    "\n",
    "sns.countplot(x='Residence_type', hue='stroke', data=df)\n",
    "sns.despine()\n",
    "\n",
    "plt.subplot(1, 2, 2)\n",
    "sns.countplot(x='stroke', hue='Residence_type', data=df)\n",
    "sns.despine()\n",
    "\n",
    "plt.show()"
   ]
  },
  {
   "cell_type": "code",
   "execution_count": 21,
   "id": "arctic-dispatch",
   "metadata": {
    "execution": {
     "iopub.execute_input": "2021-06-07T17:54:04.993568Z",
     "iopub.status.busy": "2021-06-07T17:54:04.987798Z",
     "iopub.status.idle": "2021-06-07T17:54:04.996967Z",
     "shell.execute_reply": "2021-06-07T17:54:04.997504Z",
     "shell.execute_reply.started": "2021-06-07T17:36:58.817122Z"
    },
    "papermill": {
     "duration": 0.059036,
     "end_time": "2021-06-07T17:54:04.997715",
     "exception": false,
     "start_time": "2021-06-07T17:54:04.938679",
     "status": "completed"
    },
    "tags": []
   },
   "outputs": [
    {
     "data": {
      "text/plain": [
       "never smoked       1852\n",
       "Unknown            1483\n",
       "formerly smoked     837\n",
       "smokes              737\n",
       "Name: smoking_status, dtype: int64"
      ]
     },
     "execution_count": 21,
     "metadata": {},
     "output_type": "execute_result"
    }
   ],
   "source": [
    "df.smoking_status.value_counts()"
   ]
  },
  {
   "cell_type": "code",
   "execution_count": 22,
   "id": "spread-entity",
   "metadata": {
    "execution": {
     "iopub.execute_input": "2021-06-07T17:54:05.096793Z",
     "iopub.status.busy": "2021-06-07T17:54:05.096019Z",
     "iopub.status.idle": "2021-06-07T17:54:05.445009Z",
     "shell.execute_reply": "2021-06-07T17:54:05.445602Z",
     "shell.execute_reply.started": "2021-06-07T17:37:36.463475Z"
    },
    "papermill": {
     "duration": 0.400595,
     "end_time": "2021-06-07T17:54:05.445815",
     "exception": false,
     "start_time": "2021-06-07T17:54:05.045220",
     "status": "completed"
    },
    "tags": []
   },
   "outputs": [
    {
     "data": {
      "image/png": "[encoded data removed]",
      "text/plain": [
       "<Figure size 432x288 with 1 Axes>"
      ]
     },
     "metadata": {
      "needs_background": "light"
     },
     "output_type": "display_data"
    }
   ],
   "source": [
    "sns.barplot(df['smoking_status'], df['stroke'])\n",
    "plt.show()"
   ]
  },
  {
   "cell_type": "code",
   "execution_count": 23,
   "id": "damaged-blank",
   "metadata": {
    "execution": {
     "iopub.execute_input": "2021-06-07T17:54:05.545812Z",
     "iopub.status.busy": "2021-06-07T17:54:05.545129Z",
     "iopub.status.idle": "2021-06-07T17:54:05.929316Z",
     "shell.execute_reply": "2021-06-07T17:54:05.929920Z",
     "shell.execute_reply.started": "2021-06-07T17:37:51.245499Z"
    },
    "papermill": {
     "duration": 0.433494,
     "end_time": "2021-06-07T17:54:05.930110",
     "exception": false,
     "start_time": "2021-06-07T17:54:05.496616",
     "status": "completed"
    },
    "tags": []
   },
   "outputs": [
    {
     "data": {
      "image/png": "[encoded data removed]",
      "text/plain": [
       "<Figure size 432x288 with 2 Axes>"
      ]
     },
     "metadata": {
      "needs_background": "light"
     },
     "output_type": "display_data"
    }
   ],
   "source": [
    "plt.subplot(1, 2, 1)\n",
    "\n",
    "sns.countplot(x='smoking_status', hue='stroke', data=df)\n",
    "plt.xticks(rotation=30)\n",
    "sns.despine()\n",
    "\n",
    "plt.subplot(1, 2, 2)\n",
    "sns.countplot(x='stroke', hue='smoking_status', data=df)\n",
    "sns.despine()\n",
    "\n",
    "plt.show()"
   ]
  },
  {
   "cell_type": "code",
   "execution_count": 24,
   "id": "inner-occasion",
   "metadata": {
    "execution": {
     "iopub.execute_input": "2021-06-07T17:54:06.027073Z",
     "iopub.status.busy": "2021-06-07T17:54:06.026464Z",
     "iopub.status.idle": "2021-06-07T17:54:06.033632Z",
     "shell.execute_reply": "2021-06-07T17:54:06.034175Z",
     "shell.execute_reply.started": "2021-06-07T17:37:59.014389Z"
    },
    "papermill": {
     "duration": 0.057324,
     "end_time": "2021-06-07T17:54:06.034366",
     "exception": false,
     "start_time": "2021-06-07T17:54:05.977042",
     "status": "completed"
    },
    "tags": []
   },
   "outputs": [
    {
     "data": {
      "text/plain": [
       "0    4700\n",
       "1     209\n",
       "Name: stroke, dtype: int64"
      ]
     },
     "execution_count": 24,
     "metadata": {},
     "output_type": "execute_result"
    }
   ],
   "source": [
    "df.stroke.value_counts()"
   ]
  },
  {
   "cell_type": "code",
   "execution_count": 25,
   "id": "processed-territory",
   "metadata": {
    "execution": {
     "iopub.execute_input": "2021-06-07T17:54:06.134209Z",
     "iopub.status.busy": "2021-06-07T17:54:06.133419Z",
     "iopub.status.idle": "2021-06-07T17:54:06.250084Z",
     "shell.execute_reply": "2021-06-07T17:54:06.250753Z",
     "shell.execute_reply.started": "2021-06-07T17:38:14.970177Z"
    },
    "papermill": {
     "duration": 0.169796,
     "end_time": "2021-06-07T17:54:06.250962",
     "exception": false,
     "start_time": "2021-06-07T17:54:06.081166",
     "status": "completed"
    },
    "tags": []
   },
   "outputs": [
    {
     "data": {
      "image/png": "[encoded data removed]",
      "text/plain": [
       "<Figure size 432x288 with 1 Axes>"
      ]
     },
     "metadata": {
      "needs_background": "light"
     },
     "output_type": "display_data"
    }
   ],
   "source": [
    "sns.countplot(df['stroke'], data=df)\n",
    "plt.show()"
   ]
  },
  {
   "cell_type": "code",
   "execution_count": 26,
   "id": "german-error",
   "metadata": {
    "execution": {
     "iopub.execute_input": "2021-06-07T17:54:06.355613Z",
     "iopub.status.busy": "2021-06-07T17:54:06.354948Z",
     "iopub.status.idle": "2021-06-07T17:54:06.357658Z",
     "shell.execute_reply": "2021-06-07T17:54:06.358169Z",
     "shell.execute_reply.started": "2021-06-07T17:38:28.309080Z"
    },
    "papermill": {
     "duration": 0.055564,
     "end_time": "2021-06-07T17:54:06.358381",
     "exception": false,
     "start_time": "2021-06-07T17:54:06.302817",
     "status": "completed"
    },
    "tags": []
   },
   "outputs": [],
   "source": [
    "from sklearn.preprocessing import LabelEncoder\n",
    "le = LabelEncoder()"
   ]
  },
  {
   "cell_type": "code",
   "execution_count": 27,
   "id": "assigned-science",
   "metadata": {
    "execution": {
     "iopub.execute_input": "2021-06-07T17:54:06.475998Z",
     "iopub.status.busy": "2021-06-07T17:54:06.475013Z",
     "iopub.status.idle": "2021-06-07T17:54:06.478402Z",
     "shell.execute_reply": "2021-06-07T17:54:06.477681Z",
     "shell.execute_reply.started": "2021-06-07T17:38:55.971063Z"
    },
    "papermill": {
     "duration": 0.068347,
     "end_time": "2021-06-07T17:54:06.478563",
     "exception": false,
     "start_time": "2021-06-07T17:54:06.410216",
     "status": "completed"
    },
    "tags": []
   },
   "outputs": [],
   "source": [
    "dummies = pd.get_dummies(df['gender'])   \n",
    "\n",
    "### dummies will convert attribute in numeric value\n",
    "df['ever_married']=le.fit_transform(df.ever_married)\n",
    "\n",
    "df['work_type']=le.fit_transform(df.work_type)\n",
    "\n",
    "df['Residence_type']=le.fit_transform(df.Residence_type)\n",
    "\n",
    "df['smoking_status']=le.fit_transform(df.smoking_status)"
   ]
  },
  {
   "cell_type": "code",
   "execution_count": 28,
   "id": "irish-bleeding",
   "metadata": {
    "execution": {
     "iopub.execute_input": "2021-06-07T17:54:06.585752Z",
     "iopub.status.busy": "2021-06-07T17:54:06.581154Z",
     "iopub.status.idle": "2021-06-07T17:54:06.604398Z",
     "shell.execute_reply": "2021-06-07T17:54:06.603784Z",
     "shell.execute_reply.started": "2021-06-07T17:40:36.583408Z"
    },
    "papermill": {
     "duration": 0.077258,
     "end_time": "2021-06-07T17:54:06.604553",
     "exception": false,
     "start_time": "2021-06-07T17:54:06.527295",
     "status": "completed"
    },
    "tags": []
   },
   "outputs": [
    {
     "data": {
      "text/html": [
       "<div>\n",
       "<style scoped>\n",
       "    .dataframe tbody tr th:only-of-type {\n",
       "        vertical-align: middle;\n",
       "    }\n",
       "\n",
       "    .dataframe tbody tr th {\n",
       "        vertical-align: top;\n",
       "    }\n",
       "\n",
       "    .dataframe thead th {\n",
       "        text-align: right;\n",
       "    }\n",
       "</style>\n",
       "<table border=\"1\" class=\"dataframe\">\n",
       "  <thead>\n",
       "    <tr style=\"text-align: right;\">\n",
       "      <th></th>\n",
       "      <th>id</th>\n",
       "      <th>gender</th>\n",
       "      <th>age</th>\n",
       "      <th>hypertension</th>\n",
       "      <th>heart_disease</th>\n",
       "      <th>ever_married</th>\n",
       "      <th>work_type</th>\n",
       "      <th>Residence_type</th>\n",
       "      <th>avg_glucose_level</th>\n",
       "      <th>bmi</th>\n",
       "      <th>smoking_status</th>\n",
       "      <th>stroke</th>\n",
       "      <th>Female</th>\n",
       "      <th>Male</th>\n",
       "      <th>Other</th>\n",
       "    </tr>\n",
       "  </thead>\n",
       "  <tbody>\n",
       "    <tr>\n",
       "      <th>0</th>\n",
       "      <td>9046</td>\n",
       "      <td>Male</td>\n",
       "      <td>67.0</td>\n",
       "      <td>0</td>\n",
       "      <td>1</td>\n",
       "      <td>1</td>\n",
       "      <td>2</td>\n",
       "      <td>1</td>\n",
       "      <td>228.69</td>\n",
       "      <td>36.6</td>\n",
       "      <td>1</td>\n",
       "      <td>1</td>\n",
       "      <td>0</td>\n",
       "      <td>1</td>\n",
       "      <td>0</td>\n",
       "    </tr>\n",
       "    <tr>\n",
       "      <th>2</th>\n",
       "      <td>31112</td>\n",
       "      <td>Male</td>\n",
       "      <td>80.0</td>\n",
       "      <td>0</td>\n",
       "      <td>1</td>\n",
       "      <td>1</td>\n",
       "      <td>2</td>\n",
       "      <td>0</td>\n",
       "      <td>105.92</td>\n",
       "      <td>32.5</td>\n",
       "      <td>2</td>\n",
       "      <td>1</td>\n",
       "      <td>0</td>\n",
       "      <td>1</td>\n",
       "      <td>0</td>\n",
       "    </tr>\n",
       "    <tr>\n",
       "      <th>3</th>\n",
       "      <td>60182</td>\n",
       "      <td>Female</td>\n",
       "      <td>49.0</td>\n",
       "      <td>0</td>\n",
       "      <td>0</td>\n",
       "      <td>1</td>\n",
       "      <td>2</td>\n",
       "      <td>1</td>\n",
       "      <td>171.23</td>\n",
       "      <td>34.4</td>\n",
       "      <td>3</td>\n",
       "      <td>1</td>\n",
       "      <td>1</td>\n",
       "      <td>0</td>\n",
       "      <td>0</td>\n",
       "    </tr>\n",
       "    <tr>\n",
       "      <th>4</th>\n",
       "      <td>1665</td>\n",
       "      <td>Female</td>\n",
       "      <td>79.0</td>\n",
       "      <td>1</td>\n",
       "      <td>0</td>\n",
       "      <td>1</td>\n",
       "      <td>3</td>\n",
       "      <td>0</td>\n",
       "      <td>174.12</td>\n",
       "      <td>24.0</td>\n",
       "      <td>2</td>\n",
       "      <td>1</td>\n",
       "      <td>1</td>\n",
       "      <td>0</td>\n",
       "      <td>0</td>\n",
       "    </tr>\n",
       "    <tr>\n",
       "      <th>5</th>\n",
       "      <td>56669</td>\n",
       "      <td>Male</td>\n",
       "      <td>81.0</td>\n",
       "      <td>0</td>\n",
       "      <td>0</td>\n",
       "      <td>1</td>\n",
       "      <td>2</td>\n",
       "      <td>1</td>\n",
       "      <td>186.21</td>\n",
       "      <td>29.0</td>\n",
       "      <td>1</td>\n",
       "      <td>1</td>\n",
       "      <td>0</td>\n",
       "      <td>1</td>\n",
       "      <td>0</td>\n",
       "    </tr>\n",
       "  </tbody>\n",
       "</table>\n",
       "</div>"
      ],
      "text/plain": [
       "      id  gender   age  hypertension  heart_disease  ever_married  work_type  \\\n",
       "0   9046    Male  67.0             0              1             1          2   \n",
       "2  31112    Male  80.0             0              1             1          2   \n",
       "3  60182  Female  49.0             0              0             1          2   \n",
       "4   1665  Female  79.0             1              0             1          3   \n",
       "5  56669    Male  81.0             0              0             1          2   \n",
       "\n",
       "   Residence_type  avg_glucose_level   bmi  smoking_status  stroke  Female  \\\n",
       "0               1             228.69  36.6               1       1       0   \n",
       "2               0             105.92  32.5               2       1       0   \n",
       "3               1             171.23  34.4               3       1       1   \n",
       "4               0             174.12  24.0               2       1       1   \n",
       "5               1             186.21  29.0               1       1       0   \n",
       "\n",
       "   Male  Other  \n",
       "0     1      0  \n",
       "2     1      0  \n",
       "3     0      0  \n",
       "4     0      0  \n",
       "5     1      0  "
      ]
     },
     "execution_count": 28,
     "metadata": {},
     "output_type": "execute_result"
    }
   ],
   "source": [
    "data = pd.concat([df, dummies], axis=1)\n",
    "data.head()"
   ]
  },
  {
   "cell_type": "code",
   "execution_count": 29,
   "id": "corresponding-worship",
   "metadata": {
    "execution": {
     "iopub.execute_input": "2021-06-07T17:54:06.720842Z",
     "iopub.status.busy": "2021-06-07T17:54:06.720136Z",
     "iopub.status.idle": "2021-06-07T17:54:06.725635Z",
     "shell.execute_reply": "2021-06-07T17:54:06.725028Z",
     "shell.execute_reply.started": "2021-06-07T17:40:43.903747Z"
    },
    "papermill": {
     "duration": 0.073289,
     "end_time": "2021-06-07T17:54:06.725799",
     "exception": false,
     "start_time": "2021-06-07T17:54:06.652510",
     "status": "completed"
    },
    "tags": []
   },
   "outputs": [
    {
     "data": {
      "text/html": [
       "<div>\n",
       "<style scoped>\n",
       "    .dataframe tbody tr th:only-of-type {\n",
       "        vertical-align: middle;\n",
       "    }\n",
       "\n",
       "    .dataframe tbody tr th {\n",
       "        vertical-align: top;\n",
       "    }\n",
       "\n",
       "    .dataframe thead th {\n",
       "        text-align: right;\n",
       "    }\n",
       "</style>\n",
       "<table border=\"1\" class=\"dataframe\">\n",
       "  <thead>\n",
       "    <tr style=\"text-align: right;\">\n",
       "      <th></th>\n",
       "      <th>age</th>\n",
       "      <th>hypertension</th>\n",
       "      <th>heart_disease</th>\n",
       "      <th>ever_married</th>\n",
       "      <th>work_type</th>\n",
       "      <th>Residence_type</th>\n",
       "      <th>avg_glucose_level</th>\n",
       "      <th>bmi</th>\n",
       "      <th>smoking_status</th>\n",
       "      <th>stroke</th>\n",
       "      <th>Female</th>\n",
       "      <th>Male</th>\n",
       "    </tr>\n",
       "  </thead>\n",
       "  <tbody>\n",
       "    <tr>\n",
       "      <th>0</th>\n",
       "      <td>67.0</td>\n",
       "      <td>0</td>\n",
       "      <td>1</td>\n",
       "      <td>1</td>\n",
       "      <td>2</td>\n",
       "      <td>1</td>\n",
       "      <td>228.69</td>\n",
       "      <td>36.6</td>\n",
       "      <td>1</td>\n",
       "      <td>1</td>\n",
       "      <td>0</td>\n",
       "      <td>1</td>\n",
       "    </tr>\n",
       "    <tr>\n",
       "      <th>2</th>\n",
       "      <td>80.0</td>\n",
       "      <td>0</td>\n",
       "      <td>1</td>\n",
       "      <td>1</td>\n",
       "      <td>2</td>\n",
       "      <td>0</td>\n",
       "      <td>105.92</td>\n",
       "      <td>32.5</td>\n",
       "      <td>2</td>\n",
       "      <td>1</td>\n",
       "      <td>0</td>\n",
       "      <td>1</td>\n",
       "    </tr>\n",
       "    <tr>\n",
       "      <th>3</th>\n",
       "      <td>49.0</td>\n",
       "      <td>0</td>\n",
       "      <td>0</td>\n",
       "      <td>1</td>\n",
       "      <td>2</td>\n",
       "      <td>1</td>\n",
       "      <td>171.23</td>\n",
       "      <td>34.4</td>\n",
       "      <td>3</td>\n",
       "      <td>1</td>\n",
       "      <td>1</td>\n",
       "      <td>0</td>\n",
       "    </tr>\n",
       "    <tr>\n",
       "      <th>4</th>\n",
       "      <td>79.0</td>\n",
       "      <td>1</td>\n",
       "      <td>0</td>\n",
       "      <td>1</td>\n",
       "      <td>3</td>\n",
       "      <td>0</td>\n",
       "      <td>174.12</td>\n",
       "      <td>24.0</td>\n",
       "      <td>2</td>\n",
       "      <td>1</td>\n",
       "      <td>1</td>\n",
       "      <td>0</td>\n",
       "    </tr>\n",
       "    <tr>\n",
       "      <th>5</th>\n",
       "      <td>81.0</td>\n",
       "      <td>0</td>\n",
       "      <td>0</td>\n",
       "      <td>1</td>\n",
       "      <td>2</td>\n",
       "      <td>1</td>\n",
       "      <td>186.21</td>\n",
       "      <td>29.0</td>\n",
       "      <td>1</td>\n",
       "      <td>1</td>\n",
       "      <td>0</td>\n",
       "      <td>1</td>\n",
       "    </tr>\n",
       "  </tbody>\n",
       "</table>\n",
       "</div>"
      ],
      "text/plain": [
       "    age  hypertension  heart_disease  ever_married  work_type  Residence_type  \\\n",
       "0  67.0             0              1             1          2               1   \n",
       "2  80.0             0              1             1          2               0   \n",
       "3  49.0             0              0             1          2               1   \n",
       "4  79.0             1              0             1          3               0   \n",
       "5  81.0             0              0             1          2               1   \n",
       "\n",
       "   avg_glucose_level   bmi  smoking_status  stroke  Female  Male  \n",
       "0             228.69  36.6               1       1       0     1  \n",
       "2             105.92  32.5               2       1       0     1  \n",
       "3             171.23  34.4               3       1       1     0  \n",
       "4             174.12  24.0               2       1       1     0  \n",
       "5             186.21  29.0               1       1       0     1  "
      ]
     },
     "execution_count": 29,
     "metadata": {},
     "output_type": "execute_result"
    }
   ],
   "source": [
    "dataset = data.drop(['id', 'gender', 'Other'], axis=1)\n",
    "dataset.head()"
   ]
  },
  {
   "cell_type": "code",
   "execution_count": 30,
   "id": "polish-front",
   "metadata": {
    "execution": {
     "iopub.execute_input": "2021-06-07T17:54:06.833788Z",
     "iopub.status.busy": "2021-06-07T17:54:06.832854Z",
     "iopub.status.idle": "2021-06-07T17:54:06.836973Z",
     "shell.execute_reply": "2021-06-07T17:54:06.837500Z",
     "shell.execute_reply.started": "2021-06-07T17:42:10.943900Z"
    },
    "papermill": {
     "duration": 0.057745,
     "end_time": "2021-06-07T17:54:06.837686",
     "exception": false,
     "start_time": "2021-06-07T17:54:06.779941",
     "status": "completed"
    },
    "tags": []
   },
   "outputs": [
    {
     "data": {
      "text/plain": [
       "(4909, 12)"
      ]
     },
     "execution_count": 30,
     "metadata": {},
     "output_type": "execute_result"
    }
   ],
   "source": [
    "dataset.shape"
   ]
  },
  {
   "cell_type": "code",
   "execution_count": 31,
   "id": "guilty-password",
   "metadata": {
    "execution": {
     "iopub.execute_input": "2021-06-07T17:54:06.944750Z",
     "iopub.status.busy": "2021-06-07T17:54:06.943848Z",
     "iopub.status.idle": "2021-06-07T17:54:06.946655Z",
     "shell.execute_reply": "2021-06-07T17:54:06.947169Z",
     "shell.execute_reply.started": "2021-06-07T17:42:21.374286Z"
    },
    "papermill": {
     "duration": 0.060171,
     "end_time": "2021-06-07T17:54:06.947362",
     "exception": false,
     "start_time": "2021-06-07T17:54:06.887191",
     "status": "completed"
    },
    "tags": []
   },
   "outputs": [],
   "source": [
    "X = dataset.drop(['stroke'], axis=1)\n",
    "Y = dataset.stroke"
   ]
  },
  {
   "cell_type": "code",
   "execution_count": 32,
   "id": "perceived-scale",
   "metadata": {
    "execution": {
     "iopub.execute_input": "2021-06-07T17:54:07.068627Z",
     "iopub.status.busy": "2021-06-07T17:54:07.067872Z",
     "iopub.status.idle": "2021-06-07T17:54:07.072799Z",
     "shell.execute_reply": "2021-06-07T17:54:07.073284Z",
     "shell.execute_reply.started": "2021-06-07T17:42:33.071324Z"
    },
    "papermill": {
     "duration": 0.069562,
     "end_time": "2021-06-07T17:54:07.073519",
     "exception": false,
     "start_time": "2021-06-07T17:54:07.003957",
     "status": "completed"
    },
    "tags": []
   },
   "outputs": [
    {
     "data": {
      "text/html": [
       "<div>\n",
       "<style scoped>\n",
       "    .dataframe tbody tr th:only-of-type {\n",
       "        vertical-align: middle;\n",
       "    }\n",
       "\n",
       "    .dataframe tbody tr th {\n",
       "        vertical-align: top;\n",
       "    }\n",
       "\n",
       "    .dataframe thead th {\n",
       "        text-align: right;\n",
       "    }\n",
       "</style>\n",
       "<table border=\"1\" class=\"dataframe\">\n",
       "  <thead>\n",
       "    <tr style=\"text-align: right;\">\n",
       "      <th></th>\n",
       "      <th>age</th>\n",
       "      <th>hypertension</th>\n",
       "      <th>heart_disease</th>\n",
       "      <th>ever_married</th>\n",
       "      <th>work_type</th>\n",
       "      <th>Residence_type</th>\n",
       "      <th>avg_glucose_level</th>\n",
       "      <th>bmi</th>\n",
       "      <th>smoking_status</th>\n",
       "      <th>Female</th>\n",
       "      <th>Male</th>\n",
       "    </tr>\n",
       "  </thead>\n",
       "  <tbody>\n",
       "    <tr>\n",
       "      <th>0</th>\n",
       "      <td>67.0</td>\n",
       "      <td>0</td>\n",
       "      <td>1</td>\n",
       "      <td>1</td>\n",
       "      <td>2</td>\n",
       "      <td>1</td>\n",
       "      <td>228.69</td>\n",
       "      <td>36.6</td>\n",
       "      <td>1</td>\n",
       "      <td>0</td>\n",
       "      <td>1</td>\n",
       "    </tr>\n",
       "    <tr>\n",
       "      <th>2</th>\n",
       "      <td>80.0</td>\n",
       "      <td>0</td>\n",
       "      <td>1</td>\n",
       "      <td>1</td>\n",
       "      <td>2</td>\n",
       "      <td>0</td>\n",
       "      <td>105.92</td>\n",
       "      <td>32.5</td>\n",
       "      <td>2</td>\n",
       "      <td>0</td>\n",
       "      <td>1</td>\n",
       "    </tr>\n",
       "    <tr>\n",
       "      <th>3</th>\n",
       "      <td>49.0</td>\n",
       "      <td>0</td>\n",
       "      <td>0</td>\n",
       "      <td>1</td>\n",
       "      <td>2</td>\n",
       "      <td>1</td>\n",
       "      <td>171.23</td>\n",
       "      <td>34.4</td>\n",
       "      <td>3</td>\n",
       "      <td>1</td>\n",
       "      <td>0</td>\n",
       "    </tr>\n",
       "    <tr>\n",
       "      <th>4</th>\n",
       "      <td>79.0</td>\n",
       "      <td>1</td>\n",
       "      <td>0</td>\n",
       "      <td>1</td>\n",
       "      <td>3</td>\n",
       "      <td>0</td>\n",
       "      <td>174.12</td>\n",
       "      <td>24.0</td>\n",
       "      <td>2</td>\n",
       "      <td>1</td>\n",
       "      <td>0</td>\n",
       "    </tr>\n",
       "    <tr>\n",
       "      <th>5</th>\n",
       "      <td>81.0</td>\n",
       "      <td>0</td>\n",
       "      <td>0</td>\n",
       "      <td>1</td>\n",
       "      <td>2</td>\n",
       "      <td>1</td>\n",
       "      <td>186.21</td>\n",
       "      <td>29.0</td>\n",
       "      <td>1</td>\n",
       "      <td>0</td>\n",
       "      <td>1</td>\n",
       "    </tr>\n",
       "  </tbody>\n",
       "</table>\n",
       "</div>"
      ],
      "text/plain": [
       "    age  hypertension  heart_disease  ever_married  work_type  Residence_type  \\\n",
       "0  67.0             0              1             1          2               1   \n",
       "2  80.0             0              1             1          2               0   \n",
       "3  49.0             0              0             1          2               1   \n",
       "4  79.0             1              0             1          3               0   \n",
       "5  81.0             0              0             1          2               1   \n",
       "\n",
       "   avg_glucose_level   bmi  smoking_status  Female  Male  \n",
       "0             228.69  36.6               1       0     1  \n",
       "2             105.92  32.5               2       0     1  \n",
       "3             171.23  34.4               3       1     0  \n",
       "4             174.12  24.0               2       1     0  \n",
       "5             186.21  29.0               1       0     1  "
      ]
     },
     "execution_count": 32,
     "metadata": {},
     "output_type": "execute_result"
    }
   ],
   "source": [
    "X.head()"
   ]
  },
  {
   "cell_type": "code",
   "execution_count": 33,
   "id": "concrete-baptist",
   "metadata": {
    "execution": {
     "iopub.execute_input": "2021-06-07T17:54:07.183575Z",
     "iopub.status.busy": "2021-06-07T17:54:07.182515Z",
     "iopub.status.idle": "2021-06-07T17:54:07.186502Z",
     "shell.execute_reply": "2021-06-07T17:54:07.185996Z",
     "shell.execute_reply.started": "2021-06-07T17:42:42.569281Z"
    },
    "papermill": {
     "duration": 0.059126,
     "end_time": "2021-06-07T17:54:07.186651",
     "exception": false,
     "start_time": "2021-06-07T17:54:07.127525",
     "status": "completed"
    },
    "tags": []
   },
   "outputs": [
    {
     "data": {
      "text/plain": [
       "0    1\n",
       "2    1\n",
       "3    1\n",
       "4    1\n",
       "5    1\n",
       "Name: stroke, dtype: int64"
      ]
     },
     "execution_count": 33,
     "metadata": {},
     "output_type": "execute_result"
    }
   ],
   "source": [
    "Y.head()"
   ]
  },
  {
   "cell_type": "code",
   "execution_count": 34,
   "id": "guided-windsor",
   "metadata": {
    "execution": {
     "iopub.execute_input": "2021-06-07T17:54:07.292006Z",
     "iopub.status.busy": "2021-06-07T17:54:07.291163Z",
     "iopub.status.idle": "2021-06-07T17:54:07.294803Z",
     "shell.execute_reply": "2021-06-07T17:54:07.295314Z",
     "shell.execute_reply.started": "2021-06-07T17:43:07.590034Z"
    },
    "papermill": {
     "duration": 0.059446,
     "end_time": "2021-06-07T17:54:07.295501",
     "exception": false,
     "start_time": "2021-06-07T17:54:07.236055",
     "status": "completed"
    },
    "tags": []
   },
   "outputs": [
    {
     "name": "stdout",
     "output_type": "stream",
     "text": [
      "(4909, 11)\n",
      "(4909,)\n"
     ]
    }
   ],
   "source": [
    "print(X.shape)\n",
    "print(Y.shape)"
   ]
  },
  {
   "cell_type": "code",
   "execution_count": 35,
   "id": "instrumental-transmission",
   "metadata": {
    "execution": {
     "iopub.execute_input": "2021-06-07T17:54:07.402522Z",
     "iopub.status.busy": "2021-06-07T17:54:07.401526Z",
     "iopub.status.idle": "2021-06-07T17:54:07.405314Z",
     "shell.execute_reply": "2021-06-07T17:54:07.405898Z",
     "shell.execute_reply.started": "2021-06-07T17:43:16.318570Z"
    },
    "papermill": {
     "duration": 0.060991,
     "end_time": "2021-06-07T17:54:07.406062",
     "exception": false,
     "start_time": "2021-06-07T17:54:07.345071",
     "status": "completed"
    },
    "tags": []
   },
   "outputs": [
    {
     "data": {
      "text/plain": [
       "0    4700\n",
       "1     209\n",
       "Name: stroke, dtype: int64"
      ]
     },
     "execution_count": 35,
     "metadata": {},
     "output_type": "execute_result"
    }
   ],
   "source": [
    "Y.value_counts()  "
   ]
  },
  {
   "cell_type": "code",
   "execution_count": 36,
   "id": "biblical-channel",
   "metadata": {
    "execution": {
     "iopub.execute_input": "2021-06-07T17:54:07.510326Z",
     "iopub.status.busy": "2021-06-07T17:54:07.509181Z",
     "iopub.status.idle": "2021-06-07T17:54:07.513787Z",
     "shell.execute_reply": "2021-06-07T17:54:07.514441Z",
     "shell.execute_reply.started": "2021-06-07T17:43:27.433407Z"
    },
    "papermill": {
     "duration": 0.058827,
     "end_time": "2021-06-07T17:54:07.514634",
     "exception": false,
     "start_time": "2021-06-07T17:54:07.455807",
     "status": "completed"
    },
    "tags": []
   },
   "outputs": [],
   "source": [
    "from imblearn.combine import SMOTETomek "
   ]
  },
  {
   "cell_type": "code",
   "execution_count": 37,
   "id": "governmental-mistress",
   "metadata": {
    "execution": {
     "iopub.execute_input": "2021-06-07T17:54:07.624291Z",
     "iopub.status.busy": "2021-06-07T17:54:07.623297Z",
     "iopub.status.idle": "2021-06-07T17:54:07.721993Z",
     "shell.execute_reply": "2021-06-07T17:54:07.721083Z",
     "shell.execute_reply.started": "2021-06-07T17:43:50.649444Z"
    },
    "papermill": {
     "duration": 0.152184,
     "end_time": "2021-06-07T17:54:07.722185",
     "exception": false,
     "start_time": "2021-06-07T17:54:07.570001",
     "status": "completed"
    },
    "tags": []
   },
   "outputs": [
    {
     "name": "stdout",
     "output_type": "stream",
     "text": [
      "(9310, 11)\n",
      "(9310,)\n"
     ]
    }
   ],
   "source": [
    "stk = SMOTETomek(random_state=42)\n",
    "\n",
    "X_res,y_res = stk.fit_resample(X,Y)\n",
    "print(X_res.shape)\n",
    "\n",
    "print(y_res.shape)"
   ]
  },
  {
   "cell_type": "code",
   "execution_count": 38,
   "id": "danish-tackle",
   "metadata": {
    "execution": {
     "iopub.execute_input": "2021-06-07T17:54:07.833733Z",
     "iopub.status.busy": "2021-06-07T17:54:07.832570Z",
     "iopub.status.idle": "2021-06-07T17:54:07.837322Z",
     "shell.execute_reply": "2021-06-07T17:54:07.836643Z",
     "shell.execute_reply.started": "2021-06-07T17:44:00.484597Z"
    },
    "papermill": {
     "duration": 0.064065,
     "end_time": "2021-06-07T17:54:07.837499",
     "exception": false,
     "start_time": "2021-06-07T17:54:07.773434",
     "status": "completed"
    },
    "tags": []
   },
   "outputs": [
    {
     "name": "stdout",
     "output_type": "stream",
     "text": [
      "Original dataset shape Counter({0: 4700, 1: 209})\n",
      "Resampled dataset shape Counter({1: 4655, 0: 4655})\n"
     ]
    }
   ],
   "source": [
    "from collections import Counter\n",
    "\n",
    "print('Original dataset shape {}'.format(Counter(Y)))\n",
    "\n",
    "print('Resampled dataset shape {}'.format(Counter(y_res)))"
   ]
  },
  {
   "cell_type": "code",
   "execution_count": 39,
   "id": "substantial-large",
   "metadata": {
    "execution": {
     "iopub.execute_input": "2021-06-07T17:54:07.955292Z",
     "iopub.status.busy": "2021-06-07T17:54:07.954254Z",
     "iopub.status.idle": "2021-06-07T17:54:07.973645Z",
     "shell.execute_reply": "2021-06-07T17:54:07.974200Z",
     "shell.execute_reply.started": "2021-06-07T17:44:12.947837Z"
    },
    "papermill": {
     "duration": 0.079794,
     "end_time": "2021-06-07T17:54:07.974414",
     "exception": false,
     "start_time": "2021-06-07T17:54:07.894620",
     "status": "completed"
    },
    "tags": []
   },
   "outputs": [
    {
     "data": {
      "text/html": [
       "<div>\n",
       "<style scoped>\n",
       "    .dataframe tbody tr th:only-of-type {\n",
       "        vertical-align: middle;\n",
       "    }\n",
       "\n",
       "    .dataframe tbody tr th {\n",
       "        vertical-align: top;\n",
       "    }\n",
       "\n",
       "    .dataframe thead th {\n",
       "        text-align: right;\n",
       "    }\n",
       "</style>\n",
       "<table border=\"1\" class=\"dataframe\">\n",
       "  <thead>\n",
       "    <tr style=\"text-align: right;\">\n",
       "      <th></th>\n",
       "      <th>age</th>\n",
       "      <th>hypertension</th>\n",
       "      <th>heart_disease</th>\n",
       "      <th>ever_married</th>\n",
       "      <th>work_type</th>\n",
       "      <th>Residence_type</th>\n",
       "      <th>avg_glucose_level</th>\n",
       "      <th>bmi</th>\n",
       "      <th>smoking_status</th>\n",
       "      <th>Female</th>\n",
       "      <th>Male</th>\n",
       "    </tr>\n",
       "  </thead>\n",
       "  <tbody>\n",
       "    <tr>\n",
       "      <th>1615</th>\n",
       "      <td>33.000000</td>\n",
       "      <td>0</td>\n",
       "      <td>0</td>\n",
       "      <td>1</td>\n",
       "      <td>2</td>\n",
       "      <td>0</td>\n",
       "      <td>124.010000</td>\n",
       "      <td>22.700000</td>\n",
       "      <td>0</td>\n",
       "      <td>1</td>\n",
       "      <td>0</td>\n",
       "    </tr>\n",
       "    <tr>\n",
       "      <th>4702</th>\n",
       "      <td>19.000000</td>\n",
       "      <td>0</td>\n",
       "      <td>0</td>\n",
       "      <td>0</td>\n",
       "      <td>2</td>\n",
       "      <td>1</td>\n",
       "      <td>58.390000</td>\n",
       "      <td>28.200000</td>\n",
       "      <td>2</td>\n",
       "      <td>1</td>\n",
       "      <td>0</td>\n",
       "    </tr>\n",
       "    <tr>\n",
       "      <th>7641</th>\n",
       "      <td>60.119557</td>\n",
       "      <td>0</td>\n",
       "      <td>0</td>\n",
       "      <td>1</td>\n",
       "      <td>0</td>\n",
       "      <td>0</td>\n",
       "      <td>116.313111</td>\n",
       "      <td>34.686936</td>\n",
       "      <td>2</td>\n",
       "      <td>0</td>\n",
       "      <td>0</td>\n",
       "    </tr>\n",
       "    <tr>\n",
       "      <th>5827</th>\n",
       "      <td>49.006797</td>\n",
       "      <td>0</td>\n",
       "      <td>0</td>\n",
       "      <td>1</td>\n",
       "      <td>2</td>\n",
       "      <td>0</td>\n",
       "      <td>171.204037</td>\n",
       "      <td>34.376212</td>\n",
       "      <td>2</td>\n",
       "      <td>1</td>\n",
       "      <td>0</td>\n",
       "    </tr>\n",
       "    <tr>\n",
       "      <th>8536</th>\n",
       "      <td>68.211197</td>\n",
       "      <td>0</td>\n",
       "      <td>0</td>\n",
       "      <td>0</td>\n",
       "      <td>0</td>\n",
       "      <td>0</td>\n",
       "      <td>81.491753</td>\n",
       "      <td>26.814884</td>\n",
       "      <td>0</td>\n",
       "      <td>1</td>\n",
       "      <td>0</td>\n",
       "    </tr>\n",
       "  </tbody>\n",
       "</table>\n",
       "</div>"
      ],
      "text/plain": [
       "            age  hypertension  heart_disease  ever_married  work_type  \\\n",
       "1615  33.000000             0              0             1          2   \n",
       "4702  19.000000             0              0             0          2   \n",
       "7641  60.119557             0              0             1          0   \n",
       "5827  49.006797             0              0             1          2   \n",
       "8536  68.211197             0              0             0          0   \n",
       "\n",
       "      Residence_type  avg_glucose_level        bmi  smoking_status  Female  \\\n",
       "1615               0         124.010000  22.700000               0       1   \n",
       "4702               1          58.390000  28.200000               2       1   \n",
       "7641               0         116.313111  34.686936               2       0   \n",
       "5827               0         171.204037  34.376212               2       1   \n",
       "8536               0          81.491753  26.814884               0       1   \n",
       "\n",
       "      Male  \n",
       "1615     0  \n",
       "4702     0  \n",
       "7641     0  \n",
       "5827     0  \n",
       "8536     0  "
      ]
     },
     "execution_count": 39,
     "metadata": {},
     "output_type": "execute_result"
    }
   ],
   "source": [
    "from sklearn.model_selection import train_test_split\n",
    "X_train, X_test, y_train, y_test = train_test_split(X_res, y_res, test_size=0.3)\n",
    "X_train.head()"
   ]
  },
  {
   "cell_type": "code",
   "execution_count": 40,
   "id": "continuous-district",
   "metadata": {
    "execution": {
     "iopub.execute_input": "2021-06-07T17:54:08.086720Z",
     "iopub.status.busy": "2021-06-07T17:54:08.085714Z",
     "iopub.status.idle": "2021-06-07T17:54:08.094291Z",
     "shell.execute_reply": "2021-06-07T17:54:08.093559Z",
     "shell.execute_reply.started": "2021-06-07T17:44:23.398745Z"
    },
    "papermill": {
     "duration": 0.063543,
     "end_time": "2021-06-07T17:54:08.094460",
     "exception": false,
     "start_time": "2021-06-07T17:54:08.030917",
     "status": "completed"
    },
    "tags": []
   },
   "outputs": [
    {
     "data": {
      "text/plain": [
       "1    3264\n",
       "0    3253\n",
       "Name: stroke, dtype: int64"
      ]
     },
     "execution_count": 40,
     "metadata": {},
     "output_type": "execute_result"
    }
   ],
   "source": [
    "y_train.value_counts()  "
   ]
  },
  {
   "cell_type": "code",
   "execution_count": 41,
   "id": "constant-flashing",
   "metadata": {
    "execution": {
     "iopub.execute_input": "2021-06-07T17:54:08.212019Z",
     "iopub.status.busy": "2021-06-07T17:54:08.211177Z",
     "iopub.status.idle": "2021-06-07T17:54:09.213153Z",
     "shell.execute_reply": "2021-06-07T17:54:09.213705Z",
     "shell.execute_reply.started": "2021-06-07T17:44:34.648317Z"
    },
    "papermill": {
     "duration": 1.06238,
     "end_time": "2021-06-07T17:54:09.213878",
     "exception": false,
     "start_time": "2021-06-07T17:54:08.151498",
     "status": "completed"
    },
    "tags": []
   },
   "outputs": [
    {
     "data": {
      "image/png": "[encoded data removed]",
      "text/plain": [
       "<Figure size 1080x720 with 2 Axes>"
      ]
     },
     "metadata": {
      "needs_background": "light"
     },
     "output_type": "display_data"
    }
   ],
   "source": [
    "corr = X_train.corr()\n",
    "plt.figure(figsize=(15,10))\n",
    "\n",
    "#plot heat map\n",
    "\n",
    "sns.heatmap(corr, annot=True)\n",
    "plt.show() "
   ]
  },
  {
   "cell_type": "code",
   "execution_count": 42,
   "id": "informal-resident",
   "metadata": {
    "execution": {
     "iopub.execute_input": "2021-06-07T17:54:09.326024Z",
     "iopub.status.busy": "2021-06-07T17:54:09.325038Z",
     "iopub.status.idle": "2021-06-07T17:54:09.329065Z",
     "shell.execute_reply": "2021-06-07T17:54:09.329591Z",
     "shell.execute_reply.started": "2021-06-07T17:44:56.560674Z"
    },
    "papermill": {
     "duration": 0.061596,
     "end_time": "2021-06-07T17:54:09.329774",
     "exception": false,
     "start_time": "2021-06-07T17:54:09.268178",
     "status": "completed"
    },
    "tags": []
   },
   "outputs": [],
   "source": [
    "from sklearn.model_selection import RandomizedSearchCV"
   ]
  },
  {
   "cell_type": "code",
   "execution_count": 43,
   "id": "dietary-swift",
   "metadata": {
    "execution": {
     "iopub.execute_input": "2021-06-07T17:54:09.442490Z",
     "iopub.status.busy": "2021-06-07T17:54:09.441777Z",
     "iopub.status.idle": "2021-06-07T17:58:09.618347Z",
     "shell.execute_reply": "2021-06-07T17:58:09.618905Z",
     "shell.execute_reply.started": "2021-06-07T17:45:32.785326Z"
    },
    "papermill": {
     "duration": 240.234557,
     "end_time": "2021-06-07T17:58:09.619087",
     "exception": false,
     "start_time": "2021-06-07T17:54:09.384530",
     "status": "completed"
    },
    "tags": []
   },
   "outputs": [
    {
     "data": {
      "text/plain": [
       "RandomizedSearchCV(cv=5, estimator=RandomForestClassifier(),\n",
       "                   param_distributions={'max_depth': [5, 10, 15, 20, 25, 30],\n",
       "                                        'max_features': ['auto', 'sqrt'],\n",
       "                                        'min_samples_leaf': [1, 2, 5, 10],\n",
       "                                        'min_samples_split': [2, 5, 10, 15,\n",
       "                                                              100],\n",
       "                                        'n_estimators': [100, 200, 300, 400,\n",
       "                                                         500, 600, 700, 800,\n",
       "                                                         900, 1000, 1100,\n",
       "                                                         1200]})"
      ]
     },
     "execution_count": 43,
     "metadata": {},
     "output_type": "execute_result"
    }
   ],
   "source": [
    "from sklearn.ensemble import RandomForestClassifier\n",
    "rfc_model = RandomForestClassifier()\n",
    "n_estimators = [int(x) for x in np.linspace(start = 100, stop = 1200, num = 12)]\n",
    "\n",
    "max_features = ['auto', 'sqrt']\n",
    "\n",
    "max_depth = [int(x) for x in np.linspace(5, 30, num = 6)]\n",
    "\n",
    "min_samples_split = [2, 5, 10, 15, 100]\n",
    "\n",
    "min_samples_leaf = [1, 2, 5, 10]\n",
    "rfc_random_grid={\n",
    "    'n_estimators' : n_estimators,\n",
    "    'max_features' : max_features,\n",
    "    'max_depth' : max_depth,\n",
    "    'min_samples_split' : min_samples_split,\n",
    "    'min_samples_leaf' : min_samples_leaf\n",
    "}\n",
    "rfc_random = RandomizedSearchCV(estimator = rfc_model, param_distributions = rfc_random_grid, n_iter = 10, cv = 5, return_train_score=False)\n",
    "rfc_random.fit(X_train, y_train)"
   ]
  }
 ],
 "metadata": {
  "kernelspec": {
   "display_name": "Python 3",
   "language": "python",
   "name": "python3"
  },
  "language_info": {
   "codemirror_mode": {
    "name": "ipython",
    "version": 3
   },
   "file_extension": ".py",
   "mimetype": "text/x-python",
   "name": "python",
   "nbconvert_exporter": "python",
   "pygments_lexer": "ipython3",
   "version": "3.7.9"
  },
  "papermill": {
   "default_parameters": {},
   "duration": 258.589496,
   "end_time": "2021-06-07T17:58:10.383749",
   "environment_variables": {},
   "exception": null,
   "input_path": "__notebook__.ipynb",
   "output_path": "__notebook__.ipynb",
   "parameters": {},
   "start_time": "2021-06-07T17:53:51.794253",
   "version": "2.3.2"
  }
 },
 "nbformat": 4,
 "nbformat_minor": 5
}
