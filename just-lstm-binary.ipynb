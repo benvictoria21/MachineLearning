{
 "cells": [
  {
   "cell_type": "code",
   "execution_count": 1,
   "metadata": {
    "execution": {
     "iopub.execute_input": "2021-02-27T13:41:18.663128Z",
     "iopub.status.busy": "2021-02-27T13:41:18.662207Z",
     "iopub.status.idle": "2021-02-27T13:41:26.204529Z",
     "shell.execute_reply": "2021-02-27T13:41:26.203352Z"
    },
    "papermill": {
     "duration": 7.581713,
     "end_time": "2021-02-27T13:41:26.204659",
     "exception": false,
     "start_time": "2021-02-27T13:41:18.622946",
     "status": "completed"
    },
    "tags": []
   },
   "outputs": [],
   "source": [
    "import math\n",
    "import matplotlib.pyplot as plt\n",
    "import tensorflow.keras as keras\n",
    "import pandas as pd\n",
    "import numpy as np\n",
    "from tensorflow.keras.models import Sequential\n",
    "from tensorflow.keras.layers import Dense\n",
    "from tensorflow.keras.layers import LSTM\n",
    "from tensorflow.keras.layers import Dropout\n",
    "from tensorflow.keras.layers import *\n",
    "from sklearn.preprocessing import MinMaxScaler\n",
    "from sklearn.metrics import mean_squared_error\n",
    "from sklearn.metrics import mean_absolute_error\n",
    "from sklearn.model_selection import train_test_split\n",
    "from tensorflow.keras.optimizers import Adam\n",
    "import tensorflow as tf\n",
    "from sklearn.utils import shuffle\n",
    "from tensorflow.keras.callbacks import EarlyStopping, ModelCheckpoint\n",
    "from keras.models import model_from_json\n"
   ]
  },
  {
   "cell_type": "code",
   "execution_count": 2,
   "metadata": {
    "_cell_guid": "b1076dfc-b9ad-4769-8c92-a6c4dae69d19",
    "_uuid": "8f2839f25d086af736a60e9eeb907d3b93b6e0e5",
    "execution": {
     "iopub.execute_input": "2021-02-27T13:41:26.267015Z",
     "iopub.status.busy": "2021-02-27T13:41:26.265029Z",
     "iopub.status.idle": "2021-02-27T13:41:26.267738Z",
     "shell.execute_reply": "2021-02-27T13:41:26.268274Z"
    },
    "papermill": {
     "duration": 0.036228,
     "end_time": "2021-02-27T13:41:26.268406",
     "exception": false,
     "start_time": "2021-02-27T13:41:26.232178",
     "status": "completed"
    },
    "tags": []
   },
   "outputs": [],
   "source": [
    "DATASET_PATH = \"../input/392-crypto-currency-pairs-at-minute-resolution/btcusd.csv\""
   ]
  },
  {
   "cell_type": "code",
   "execution_count": 3,
   "metadata": {
    "execution": {
     "iopub.execute_input": "2021-02-27T13:41:26.341658Z",
     "iopub.status.busy": "2021-02-27T13:41:26.340693Z",
     "iopub.status.idle": "2021-02-27T13:41:29.361769Z",
     "shell.execute_reply": "2021-02-27T13:41:29.361051Z"
    },
    "papermill": {
     "duration": 3.065233,
     "end_time": "2021-02-27T13:41:29.361893",
     "exception": false,
     "start_time": "2021-02-27T13:41:26.296660",
     "status": "completed"
    },
    "tags": []
   },
   "outputs": [
    {
     "name": "stdout",
     "output_type": "stream",
     "text": [
      "Device mapping:\n",
      "/job:localhost/replica:0/task:0/device:XLA_CPU:0 -> device: XLA_CPU device\n",
      "/job:localhost/replica:0/task:0/device:GPU:0 -> device: 0, name: Tesla P100-PCIE-16GB, pci bus id: 0000:00:04.0, compute capability: 6.0\n",
      "/job:localhost/replica:0/task:0/device:XLA_GPU:0 -> device: XLA_GPU device\n",
      "\n"
     ]
    }
   ],
   "source": [
    "sess = tf.compat.v1.Session(config=tf.compat.v1.ConfigProto(log_device_placement=True))"
   ]
  },
  {
   "cell_type": "code",
   "execution_count": 4,
   "metadata": {
    "execution": {
     "iopub.execute_input": "2021-02-27T13:41:29.428553Z",
     "iopub.status.busy": "2021-02-27T13:41:29.427892Z",
     "iopub.status.idle": "2021-02-27T13:41:33.421865Z",
     "shell.execute_reply": "2021-02-27T13:41:33.420619Z"
    },
    "papermill": {
     "duration": 4.031783,
     "end_time": "2021-02-27T13:41:33.422021",
     "exception": false,
     "start_time": "2021-02-27T13:41:29.390238",
     "status": "completed"
    },
    "tags": []
   },
   "outputs": [],
   "source": [
    "df=pd.read_csv(DATASET_PATH)\n",
    "data = df['close']"
   ]
  },
  {
   "cell_type": "code",
   "execution_count": 5,
   "metadata": {
    "execution": {
     "iopub.execute_input": "2021-02-27T13:41:33.638754Z",
     "iopub.status.busy": "2021-02-27T13:41:33.636774Z",
     "iopub.status.idle": "2021-02-27T13:41:33.639554Z",
     "shell.execute_reply": "2021-02-27T13:41:33.640118Z"
    },
    "papermill": {
     "duration": 0.189679,
     "end_time": "2021-02-27T13:41:33.640281",
     "exception": false,
     "start_time": "2021-02-27T13:41:33.450602",
     "status": "completed"
    },
    "tags": []
   },
   "outputs": [],
   "source": [
    "data = data.tolist()"
   ]
  },
  {
   "cell_type": "code",
   "execution_count": 6,
   "metadata": {
    "execution": {
     "iopub.execute_input": "2021-02-27T13:41:33.707749Z",
     "iopub.status.busy": "2021-02-27T13:41:33.706847Z",
     "iopub.status.idle": "2021-02-27T13:41:33.711339Z",
     "shell.execute_reply": "2021-02-27T13:41:33.711949Z"
    },
    "papermill": {
     "duration": 0.042965,
     "end_time": "2021-02-27T13:41:33.712086",
     "exception": false,
     "start_time": "2021-02-27T13:41:33.669121",
     "status": "completed"
    },
    "tags": []
   },
   "outputs": [
    {
     "data": {
      "text/plain": [
       "3229282"
      ]
     },
     "execution_count": 6,
     "metadata": {},
     "output_type": "execute_result"
    }
   ],
   "source": [
    "len(data)"
   ]
  },
  {
   "cell_type": "code",
   "execution_count": 7,
   "metadata": {
    "execution": {
     "iopub.execute_input": "2021-02-27T13:41:33.818809Z",
     "iopub.status.busy": "2021-02-27T13:41:33.816755Z",
     "iopub.status.idle": "2021-02-27T13:41:33.819509Z",
     "shell.execute_reply": "2021-02-27T13:41:33.820018Z"
    },
    "papermill": {
     "duration": 0.078072,
     "end_time": "2021-02-27T13:41:33.820155",
     "exception": false,
     "start_time": "2021-02-27T13:41:33.742083",
     "status": "completed"
    },
    "tags": []
   },
   "outputs": [],
   "source": [
    "data = data[-1500000:]"
   ]
  },
  {
   "cell_type": "code",
   "execution_count": 8,
   "metadata": {
    "execution": {
     "iopub.execute_input": "2021-02-27T13:41:33.883043Z",
     "iopub.status.busy": "2021-02-27T13:41:33.882213Z",
     "iopub.status.idle": "2021-02-27T13:41:33.887901Z",
     "shell.execute_reply": "2021-02-27T13:41:33.887361Z"
    },
    "papermill": {
     "duration": 0.038566,
     "end_time": "2021-02-27T13:41:33.888004",
     "exception": false,
     "start_time": "2021-02-27T13:41:33.849438",
     "status": "completed"
    },
    "tags": []
   },
   "outputs": [
    {
     "data": {
      "text/plain": [
       "1500000"
      ]
     },
     "execution_count": 8,
     "metadata": {},
     "output_type": "execute_result"
    }
   ],
   "source": [
    "len(data)"
   ]
  },
  {
   "cell_type": "code",
   "execution_count": 9,
   "metadata": {
    "execution": {
     "iopub.execute_input": "2021-02-27T13:41:34.151190Z",
     "iopub.status.busy": "2021-02-27T13:41:34.149274Z",
     "iopub.status.idle": "2021-02-27T13:41:34.152028Z",
     "shell.execute_reply": "2021-02-27T13:41:34.152574Z"
    },
    "papermill": {
     "duration": 0.234439,
     "end_time": "2021-02-27T13:41:34.152738",
     "exception": false,
     "start_time": "2021-02-27T13:41:33.918299",
     "status": "completed"
    },
    "tags": []
   },
   "outputs": [],
   "source": [
    "data = np.array(data)"
   ]
  },
  {
   "cell_type": "code",
   "execution_count": 10,
   "metadata": {
    "execution": {
     "iopub.execute_input": "2021-02-27T13:41:34.217503Z",
     "iopub.status.busy": "2021-02-27T13:41:34.216771Z",
     "iopub.status.idle": "2021-02-27T13:41:34.221154Z",
     "shell.execute_reply": "2021-02-27T13:41:34.220577Z"
    },
    "papermill": {
     "duration": 0.038313,
     "end_time": "2021-02-27T13:41:34.221269",
     "exception": false,
     "start_time": "2021-02-27T13:41:34.182956",
     "status": "completed"
    },
    "tags": []
   },
   "outputs": [
    {
     "name": "stdout",
     "output_type": "stream",
     "text": [
      "[ 7026.6         7033.9         7030.         ... 47113.\n",
      " 47067.92745527 47069.        ]\n"
     ]
    }
   ],
   "source": [
    "print(data)"
   ]
  },
  {
   "cell_type": "code",
   "execution_count": 11,
   "metadata": {
    "execution": {
     "iopub.execute_input": "2021-02-27T13:41:34.289704Z",
     "iopub.status.busy": "2021-02-27T13:41:34.288631Z",
     "iopub.status.idle": "2021-02-27T13:41:34.296366Z",
     "shell.execute_reply": "2021-02-27T13:41:34.295790Z"
    },
    "papermill": {
     "duration": 0.044084,
     "end_time": "2021-02-27T13:41:34.296484",
     "exception": false,
     "start_time": "2021-02-27T13:41:34.252400",
     "status": "completed"
    },
    "tags": []
   },
   "outputs": [
    {
     "name": "stdout",
     "output_type": "stream",
     "text": [
      "3215.3 58317.0\n"
     ]
    }
   ],
   "source": [
    "print(np.min(data), np.max(data))"
   ]
  },
  {
   "cell_type": "raw",
   "metadata": {
    "papermill": {
     "duration": 0.030639,
     "end_time": "2021-02-27T13:41:34.358086",
     "exception": false,
     "start_time": "2021-02-27T13:41:34.327447",
     "status": "completed"
    },
    "tags": []
   },
   "source": [
    "plt.plot(range(len(data)),data)\n",
    "# plt.plot(range(len(train_data)),train_data)\n",
    "plt.show()"
   ]
  },
  {
   "cell_type": "code",
   "execution_count": 12,
   "metadata": {
    "execution": {
     "iopub.execute_input": "2021-02-27T13:41:34.442106Z",
     "iopub.status.busy": "2021-02-27T13:41:34.434429Z",
     "iopub.status.idle": "2021-02-27T13:41:34.445291Z",
     "shell.execute_reply": "2021-02-27T13:41:34.444743Z"
    },
    "papermill": {
     "duration": 0.056329,
     "end_time": "2021-02-27T13:41:34.445393",
     "exception": false,
     "start_time": "2021-02-27T13:41:34.389064",
     "status": "completed"
    },
    "tags": []
   },
   "outputs": [],
   "source": [
    "def make_data(data,train):\n",
    "    X_train = []\n",
    "    y_train = []\n",
    "    X_val = []\n",
    "    y_val = []\n",
    "    \n",
    "    X_total = []\n",
    "    y_total = []\n",
    "    \n",
    "    X_eql = []\n",
    "    X_inc = []\n",
    "    X_dec = []\n",
    "\n",
    "    y_eql = []\n",
    "    y_inc = []\n",
    "    y_dec = []\n",
    "    \n",
    "    len_eql = 0\n",
    "    len_inc = 0\n",
    "    len_dec = 0\n",
    "    \n",
    "    for i in range(len(data)-401):\n",
    "        \n",
    "        X = data[i:i+400]\n",
    "        mx = np.max(X)\n",
    "        X = (X/mx)*0.9\n",
    "        \n",
    "        \n",
    "        if data[i+400]>data[i+399]:\n",
    "            y = [1,0,0]\n",
    "            y_inc.append(y)\n",
    "            len_inc+=1\n",
    "            X_inc.append(X)\n",
    "        if data[i+400]==data[i+399]:\n",
    "            y = [0,1,0]\n",
    "            y_eql.append(y)\n",
    "            len_eql+=1\n",
    "            X_eql.append(X)\n",
    "        if data[i+400]<data[i+399]:\n",
    "            y = [0,0,1]\n",
    "            y_dec.append(y)\n",
    "            len_dec+=1\n",
    "            X_dec.append(X)\n",
    "        \n",
    "    length = min(len_inc,len_eql,len_dec)\n",
    "\n",
    "    y_total = y_inc[:length] + y_eql[:length] + y_dec[:length]\n",
    "    X_total = X_inc[:length] + X_eql[:length] + X_dec[:length]\n",
    "\n",
    "    len_train = int(len(y_total)*train)\n",
    "        \n",
    "    X_train = X_total[:len_train]\n",
    "    y_train = y_total[:len_train]\n",
    "    \n",
    "    X_val = X_total[-len_train:]\n",
    "    y_val = y_total[-len_train:]\n",
    "    \n",
    "    X_train = np.array(X_train).reshape(-1,400,1)\n",
    "    y_train = np.array(y_train).reshape(-1,3)\n",
    "    X_val = np.array(X_val).reshape(-1,400,1)\n",
    "    y_val = np.array(y_val).reshape(-1,3)\n",
    "\n",
    "\n",
    "    \n",
    "    return X_train, y_train, X_val, y_val\n"
   ]
  },
  {
   "cell_type": "code",
   "execution_count": 13,
   "metadata": {
    "execution": {
     "iopub.execute_input": "2021-02-27T13:41:34.564508Z",
     "iopub.status.busy": "2021-02-27T13:41:34.543658Z",
     "iopub.status.idle": "2021-02-27T13:42:10.873513Z",
     "shell.execute_reply": "2021-02-27T13:42:10.872902Z"
    },
    "papermill": {
     "duration": 36.397779,
     "end_time": "2021-02-27T13:42:10.873661",
     "exception": false,
     "start_time": "2021-02-27T13:41:34.475882",
     "status": "completed"
    },
    "tags": []
   },
   "outputs": [],
   "source": [
    "X_train, y_train, X_val, y_val = make_data(data,0.96)"
   ]
  },
  {
   "cell_type": "code",
   "execution_count": 14,
   "metadata": {
    "execution": {
     "iopub.execute_input": "2021-02-27T13:42:10.975958Z",
     "iopub.status.busy": "2021-02-27T13:42:10.975068Z",
     "iopub.status.idle": "2021-02-27T13:42:10.978505Z",
     "shell.execute_reply": "2021-02-27T13:42:10.979034Z"
    },
    "papermill": {
     "duration": 0.039193,
     "end_time": "2021-02-27T13:42:10.979156",
     "exception": false,
     "start_time": "2021-02-27T13:42:10.939963",
     "status": "completed"
    },
    "tags": []
   },
   "outputs": [
    {
     "data": {
      "text/plain": [
       "array([1, 0, 0])"
      ]
     },
     "execution_count": 14,
     "metadata": {},
     "output_type": "execute_result"
    }
   ],
   "source": [
    "y_train[0]"
   ]
  },
  {
   "cell_type": "code",
   "execution_count": 15,
   "metadata": {
    "execution": {
     "iopub.execute_input": "2021-02-27T13:42:11.055982Z",
     "iopub.status.busy": "2021-02-27T13:42:11.054964Z",
     "iopub.status.idle": "2021-02-27T13:42:11.059815Z",
     "shell.execute_reply": "2021-02-27T13:42:11.059251Z"
    },
    "papermill": {
     "duration": 0.049296,
     "end_time": "2021-02-27T13:42:11.059935",
     "exception": false,
     "start_time": "2021-02-27T13:42:11.010639",
     "status": "completed"
    },
    "tags": []
   },
   "outputs": [
    {
     "data": {
      "text/plain": [
       "array([[0.85780431],\n",
       "       [0.85732869],\n",
       "       [0.85713357],\n",
       "       [0.85701161],\n",
       "       [0.85684088],\n",
       "       [0.8580726 ],\n",
       "       [0.85813358],\n",
       "       [0.85732869],\n",
       "       [0.85732869],\n",
       "       [0.8583287 ],\n",
       "       [0.85854822],\n",
       "       [0.85884439],\n",
       "       [0.85857431],\n",
       "       [0.85867017],\n",
       "       [0.86123118],\n",
       "       [0.86062142],\n",
       "       [0.8599019 ],\n",
       "       [0.86010922],\n",
       "       [0.85993848],\n",
       "       [0.86013361],\n",
       "       [0.86017019],\n",
       "       [0.86215802],\n",
       "       [0.86401171],\n",
       "       [0.86315804],\n",
       "       [0.86591417],\n",
       "       [0.86541417],\n",
       "       [0.86374341],\n",
       "       [0.8630305 ],\n",
       "       [0.86184095],\n",
       "       [0.86285046],\n",
       "       [0.86240193],\n",
       "       [0.86184095],\n",
       "       [0.86326779],\n",
       "       [0.86307267],\n",
       "       [0.86368243],\n",
       "       [0.86236534],\n",
       "       [0.86292633],\n",
       "       [0.86265803],\n",
       "       [0.86265803],\n",
       "       [0.86265803],\n",
       "       [0.8622312 ],\n",
       "       [0.86142631],\n",
       "       [0.86158485],\n",
       "       [0.86132874],\n",
       "       [0.86156045],\n",
       "       [0.86259705],\n",
       "       [0.86175516],\n",
       "       [0.86124338],\n",
       "       [0.86088971],\n",
       "       [0.86110923],\n",
       "       [0.86080435],\n",
       "       [0.86077996],\n",
       "       [0.85991409],\n",
       "       [0.86006043],\n",
       "       [0.86069459],\n",
       "       [0.85976775],\n",
       "       [0.85854822],\n",
       "       [0.85890188],\n",
       "       [0.85854822],\n",
       "       [0.85856041],\n",
       "       [0.85854822],\n",
       "       [0.85854822],\n",
       "       [0.85856041],\n",
       "       [0.85795065],\n",
       "       [0.85932872],\n",
       "       [0.85877993],\n",
       "       [0.85888969],\n",
       "       [0.85798916],\n",
       "       [0.85881652],\n",
       "       [0.85879212],\n",
       "       [0.85891408],\n",
       "       [0.85914579],\n",
       "       [0.85881438],\n",
       "       [0.85854822],\n",
       "       [0.85854822],\n",
       "       [0.85635307],\n",
       "       [0.85610916],\n",
       "       [0.85671893],\n",
       "       [0.85724332],\n",
       "       [0.8578165 ],\n",
       "       [0.85697503],\n",
       "       [0.85803602],\n",
       "       [0.85831651],\n",
       "       [0.85780431],\n",
       "       [0.85820675],\n",
       "       [0.85773113],\n",
       "       [0.85743401],\n",
       "       [0.85751162],\n",
       "       [0.85784089],\n",
       "       [0.85852383],\n",
       "       [0.85838968],\n",
       "       [0.85853602],\n",
       "       [0.85976775],\n",
       "       [0.85854822],\n",
       "       [0.85812138],\n",
       "       [0.85817016],\n",
       "       [0.85745064],\n",
       "       [0.85758479],\n",
       "       [0.85732869],\n",
       "       [0.85681649],\n",
       "       [0.85687746],\n",
       "       [0.8567921 ],\n",
       "       [0.85671893],\n",
       "       [0.85673112],\n",
       "       [0.85724332],\n",
       "       [0.85904823],\n",
       "       [0.85903603],\n",
       "       [0.85904823],\n",
       "       [0.85882871],\n",
       "       [0.85842627],\n",
       "       [0.85882871],\n",
       "       [0.85770674],\n",
       "       [0.85897505],\n",
       "       [0.85915798],\n",
       "       [0.8591092 ],\n",
       "       [0.85895066],\n",
       "       [0.85765796],\n",
       "       [0.85671893],\n",
       "       [0.85746284],\n",
       "       [0.85725552],\n",
       "       [0.85734089],\n",
       "       [0.85673112],\n",
       "       [0.85696283],\n",
       "       [0.85673112],\n",
       "       [0.85674332],\n",
       "       [0.85671893],\n",
       "       [0.85632868],\n",
       "       [0.85610916],\n",
       "       [0.85638965],\n",
       "       [0.85690186],\n",
       "       [0.857036  ],\n",
       "       [0.85745064],\n",
       "       [0.85754821],\n",
       "       [0.85852383],\n",
       "       [0.85854822],\n",
       "       [0.85788967],\n",
       "       [0.85795065],\n",
       "       [0.85812138],\n",
       "       [0.85732869],\n",
       "       [0.85763357],\n",
       "       [0.85775553],\n",
       "       [0.85820675],\n",
       "       [0.85829212],\n",
       "       [0.85818236],\n",
       "       [0.85853602],\n",
       "       [0.85852383],\n",
       "       [0.8588531 ],\n",
       "       [0.85854822],\n",
       "       [0.85992629],\n",
       "       [0.85976775],\n",
       "       [0.85974336],\n",
       "       [0.85940189],\n",
       "       [0.86064581],\n",
       "       [0.86079215],\n",
       "       [0.86130435],\n",
       "       [0.86171899],\n",
       "       [0.86180436],\n",
       "       [0.86079215],\n",
       "       [0.86121899],\n",
       "       [0.86156045],\n",
       "       [0.86103606],\n",
       "       [0.8616946 ],\n",
       "       [0.86342633],\n",
       "       [0.86253608],\n",
       "       [0.86253608],\n",
       "       [0.8619507 ],\n",
       "       [0.86253608],\n",
       "       [0.86241412],\n",
       "       [0.86225559],\n",
       "       [0.86208485],\n",
       "       [0.86184095],\n",
       "       [0.86113362],\n",
       "       [0.86104825],\n",
       "       [0.86185314],\n",
       "       [0.86175558],\n",
       "       [0.86012141],\n",
       "       [0.85976775],\n",
       "       [0.86036532],\n",
       "       [0.86208485],\n",
       "       [0.86188973],\n",
       "       [0.86137753],\n",
       "       [0.86045068],\n",
       "       [0.8611946 ],\n",
       "       [0.86097508],\n",
       "       [0.86120679],\n",
       "       [0.86174307],\n",
       "       [0.86121899],\n",
       "       [0.86197509],\n",
       "       [0.86258486],\n",
       "       [0.86293852],\n",
       "       [0.86308487],\n",
       "       [0.86368243],\n",
       "       [0.86365804],\n",
       "       [0.86257266],\n",
       "       [0.86249949],\n",
       "       [0.86378   ],\n",
       "       [0.86439142],\n",
       "       [0.86865811],\n",
       "       [0.87474356],\n",
       "       [0.87342647],\n",
       "       [0.87660944],\n",
       "       [0.87262158],\n",
       "       [0.8725606 ],\n",
       "       [0.87480454],\n",
       "       [0.87519479],\n",
       "       [0.87138986],\n",
       "       [0.87347525],\n",
       "       [0.87168254],\n",
       "       [0.87136547],\n",
       "       [0.87170693],\n",
       "       [0.87196303],\n",
       "       [0.87381672],\n",
       "       [0.87303622],\n",
       "       [0.87347729],\n",
       "       [0.87443868],\n",
       "       [0.87319476],\n",
       "       [0.87382891],\n",
       "       [0.87382891],\n",
       "       [0.87196303],\n",
       "       [0.87235328],\n",
       "       [0.87318256],\n",
       "       [0.87318256],\n",
       "       [0.87352403],\n",
       "       [0.87369477],\n",
       "       [0.87368257],\n",
       "       [0.87353623],\n",
       "       [0.87392648],\n",
       "       [0.8741216 ],\n",
       "       [0.87278012],\n",
       "       [0.87304842],\n",
       "       [0.87314598],\n",
       "       [0.87274353],\n",
       "       [0.87238987],\n",
       "       [0.87168254],\n",
       "       [0.8717923 ],\n",
       "       [0.87210938],\n",
       "       [0.87214596],\n",
       "       [0.87109717],\n",
       "       [0.87234109],\n",
       "       [0.87295657],\n",
       "       [0.87258499],\n",
       "       [0.8730972 ],\n",
       "       [0.87403623],\n",
       "       [0.8733533 ],\n",
       "       [0.87296305],\n",
       "       [0.8725728 ],\n",
       "       [0.87299963],\n",
       "       [0.8730972 ],\n",
       "       [0.8725728 ],\n",
       "       [0.87318256],\n",
       "       [0.87403623],\n",
       "       [0.87434112],\n",
       "       [0.87409721],\n",
       "       [0.87415819],\n",
       "       [0.87501186],\n",
       "       [0.87565821],\n",
       "       [0.87630456],\n",
       "       [0.87535332],\n",
       "       [0.87585333],\n",
       "       [0.87631675],\n",
       "       [0.87562162],\n",
       "       [0.87781677],\n",
       "       [0.87975582],\n",
       "       [0.87915825],\n",
       "       [0.8790485 ],\n",
       "       [0.87976802],\n",
       "       [0.88012168],\n",
       "       [0.88437784],\n",
       "       [0.88462041],\n",
       "       [0.88592664],\n",
       "       [0.88675592],\n",
       "       [0.88942669],\n",
       "       [0.88825594],\n",
       "       [0.8886096 ],\n",
       "       [0.88915839],\n",
       "       [0.8896584 ],\n",
       "       [0.88513394],\n",
       "       [0.88763752],\n",
       "       [0.88586566],\n",
       "       [0.88699982],\n",
       "       [0.88724373],\n",
       "       [0.88632908],\n",
       "       [0.88513394],\n",
       "       [0.88479248],\n",
       "       [0.8852659 ],\n",
       "       [0.88579249],\n",
       "       [0.88570712],\n",
       "       [0.88537785],\n",
       "       [0.88514614],\n",
       "       [0.88591444],\n",
       "       [0.88647543],\n",
       "       [0.88634128],\n",
       "       [0.88829252],\n",
       "       [0.8883535 ],\n",
       "       [0.88702421],\n",
       "       [0.88580469],\n",
       "       [0.88506077],\n",
       "       [0.88537785],\n",
       "       [0.88491443],\n",
       "       [0.88477462],\n",
       "       [0.88698763],\n",
       "       [0.88793886],\n",
       "       [0.88848765],\n",
       "       [0.89085353],\n",
       "       [0.89331698],\n",
       "       [0.89070719],\n",
       "       [0.89243892],\n",
       "       [0.89584141],\n",
       "       [0.89653654],\n",
       "       [0.89635361],\n",
       "       [0.89509749],\n",
       "       [0.89572883],\n",
       "       [0.89884145],\n",
       "       [0.89836583],\n",
       "       [0.89635361],\n",
       "       [0.89639019],\n",
       "       [0.8953414 ],\n",
       "       [0.89635361],\n",
       "       [0.89653654],\n",
       "       [0.89643898],\n",
       "       [0.89796339],\n",
       "       [0.89692679],\n",
       "       [0.89744013],\n",
       "       [0.89803656],\n",
       "       [0.9       ],\n",
       "       [0.8992195 ],\n",
       "       [0.89867071],\n",
       "       [0.89725606],\n",
       "       [0.89643898],\n",
       "       [0.89631702],\n",
       "       [0.89695118],\n",
       "       [0.89613414],\n",
       "       [0.89513408],\n",
       "       [0.8963658 ],\n",
       "       [0.89752436],\n",
       "       [0.89720728],\n",
       "       [0.8963658 ],\n",
       "       [0.89513408],\n",
       "       [0.89428774],\n",
       "       [0.89257307],\n",
       "       [0.89024377],\n",
       "       [0.89187794],\n",
       "       [0.89164623],\n",
       "       [0.89219502],\n",
       "       [0.8935243 ],\n",
       "       [0.89209745],\n",
       "       [0.89312186],\n",
       "       [0.89312186],\n",
       "       [0.89259746],\n",
       "       [0.89269502],\n",
       "       [0.89259746],\n",
       "       [0.89269502],\n",
       "       [0.89484139],\n",
       "       [0.89414626],\n",
       "       [0.89392675],\n",
       "       [0.89413407],\n",
       "       [0.89512189],\n",
       "       [0.89390236],\n",
       "       [0.89334137],\n",
       "       [0.89453651],\n",
       "       [0.89452432],\n",
       "       [0.894317  ],\n",
       "       [0.8940365 ],\n",
       "       [0.8921261 ],\n",
       "       [0.89240234],\n",
       "       [0.89221941],\n",
       "       [0.89257307],\n",
       "       [0.89165842],\n",
       "       [0.88932912],\n",
       "       [0.89030475],\n",
       "       [0.89051207],\n",
       "       [0.89087793],\n",
       "       [0.89184135],\n",
       "       [0.89513408],\n",
       "       [0.89426822],\n",
       "       [0.89380479],\n",
       "       [0.89370723],\n",
       "       [0.8937926 ],\n",
       "       [0.89358528],\n",
       "       [0.89376821],\n",
       "       [0.89439017],\n",
       "       [0.89470725],\n",
       "       [0.89376821],\n",
       "       [0.89384138],\n",
       "       [0.89440236],\n",
       "       [0.89575604],\n",
       "       [0.89580482],\n",
       "       [0.89501213],\n",
       "       [0.89479261],\n",
       "       [0.89517341],\n",
       "       [0.89402431],\n",
       "       [0.89391455],\n",
       "       [0.89390236],\n",
       "       [0.89390236],\n",
       "       [0.89391455],\n",
       "       [0.89391455],\n",
       "       [0.89240234],\n",
       "       [0.89317064],\n",
       "       [0.89335357],\n",
       "       [0.89318283]])"
      ]
     },
     "execution_count": 15,
     "metadata": {},
     "output_type": "execute_result"
    }
   ],
   "source": [
    "X_train[0]"
   ]
  },
  {
   "cell_type": "code",
   "execution_count": 16,
   "metadata": {
    "execution": {
     "iopub.execute_input": "2021-02-27T13:42:11.133186Z",
     "iopub.status.busy": "2021-02-27T13:42:11.132344Z",
     "iopub.status.idle": "2021-02-27T13:42:11.135905Z",
     "shell.execute_reply": "2021-02-27T13:42:11.136503Z"
    },
    "papermill": {
     "duration": 0.040652,
     "end_time": "2021-02-27T13:42:11.136621",
     "exception": false,
     "start_time": "2021-02-27T13:42:11.095969",
     "status": "completed"
    },
    "tags": []
   },
   "outputs": [
    {
     "name": "stdout",
     "output_type": "stream",
     "text": [
      "<class 'numpy.ndarray'>\n"
     ]
    }
   ],
   "source": [
    "print(type(y_train[0]))"
   ]
  },
  {
   "cell_type": "code",
   "execution_count": 17,
   "metadata": {
    "execution": {
     "iopub.execute_input": "2021-02-27T13:42:11.206928Z",
     "iopub.status.busy": "2021-02-27T13:42:11.206106Z",
     "iopub.status.idle": "2021-02-27T13:42:11.680051Z",
     "shell.execute_reply": "2021-02-27T13:42:11.679389Z"
    },
    "papermill": {
     "duration": 0.510609,
     "end_time": "2021-02-27T13:42:11.680176",
     "exception": false,
     "start_time": "2021-02-27T13:42:11.169567",
     "status": "completed"
    },
    "tags": []
   },
   "outputs": [],
   "source": [
    "X_train, y_train = shuffle(X_train, y_train)"
   ]
  },
  {
   "cell_type": "code",
   "execution_count": 18,
   "metadata": {
    "execution": {
     "iopub.execute_input": "2021-02-27T13:42:11.756372Z",
     "iopub.status.busy": "2021-02-27T13:42:11.755492Z",
     "iopub.status.idle": "2021-02-27T13:42:11.759055Z",
     "shell.execute_reply": "2021-02-27T13:42:11.759587Z"
    },
    "papermill": {
     "duration": 0.044448,
     "end_time": "2021-02-27T13:42:11.759712",
     "exception": false,
     "start_time": "2021-02-27T13:42:11.715264",
     "status": "completed"
    },
    "tags": []
   },
   "outputs": [
    {
     "data": {
      "text/plain": [
       "array([[1, 0, 0],\n",
       "       [0, 1, 0],\n",
       "       [1, 0, 0],\n",
       "       [1, 0, 0],\n",
       "       [0, 0, 1],\n",
       "       [0, 1, 0],\n",
       "       [0, 1, 0],\n",
       "       [0, 1, 0],\n",
       "       [0, 1, 0],\n",
       "       [1, 0, 0]])"
      ]
     },
     "execution_count": 18,
     "metadata": {},
     "output_type": "execute_result"
    }
   ],
   "source": [
    "y_train[10:20]"
   ]
  },
  {
   "cell_type": "code",
   "execution_count": 19,
   "metadata": {
    "execution": {
     "iopub.execute_input": "2021-02-27T13:42:11.833462Z",
     "iopub.status.busy": "2021-02-27T13:42:11.832759Z",
     "iopub.status.idle": "2021-02-27T13:42:12.342131Z",
     "shell.execute_reply": "2021-02-27T13:42:12.341468Z"
    },
    "papermill": {
     "duration": 0.548277,
     "end_time": "2021-02-27T13:42:12.342272",
     "exception": false,
     "start_time": "2021-02-27T13:42:11.793995",
     "status": "completed"
    },
    "tags": []
   },
   "outputs": [],
   "source": [
    "model = Sequential()\n",
    "model.add(LSTM(128,\n",
    "          input_shape=(400, 1)))\n",
    "model.add(Dense(100,activation='relu'))\n",
    "model.add(Dense(3,activation='softmax'))\n",
    "model.compile(loss='categorical_crossentropy', optimizer='adam', metrics=['accuracy'])"
   ]
  },
  {
   "cell_type": "code",
   "execution_count": 20,
   "metadata": {
    "execution": {
     "iopub.execute_input": "2021-02-27T13:42:12.419635Z",
     "iopub.status.busy": "2021-02-27T13:42:12.415546Z",
     "iopub.status.idle": "2021-02-27T13:42:12.422932Z",
     "shell.execute_reply": "2021-02-27T13:42:12.423424Z"
    },
    "papermill": {
     "duration": 0.046474,
     "end_time": "2021-02-27T13:42:12.423543",
     "exception": false,
     "start_time": "2021-02-27T13:42:12.377069",
     "status": "completed"
    },
    "tags": []
   },
   "outputs": [
    {
     "name": "stdout",
     "output_type": "stream",
     "text": [
      "Model: \"sequential\"\n",
      "_________________________________________________________________\n",
      "Layer (type)                 Output Shape              Param #   \n",
      "=================================================================\n",
      "lstm (LSTM)                  (None, 128)               66560     \n",
      "_________________________________________________________________\n",
      "dense (Dense)                (None, 100)               12900     \n",
      "_________________________________________________________________\n",
      "dense_1 (Dense)              (None, 3)                 303       \n",
      "=================================================================\n",
      "Total params: 79,763\n",
      "Trainable params: 79,763\n",
      "Non-trainable params: 0\n",
      "_________________________________________________________________\n"
     ]
    }
   ],
   "source": [
    "model.summary()"
   ]
  },
  {
   "cell_type": "code",
   "execution_count": 21,
   "metadata": {
    "execution": {
     "iopub.execute_input": "2021-02-27T13:42:12.496111Z",
     "iopub.status.busy": "2021-02-27T13:42:12.495326Z",
     "iopub.status.idle": "2021-02-27T13:42:12.499627Z",
     "shell.execute_reply": "2021-02-27T13:42:12.499069Z"
    },
    "papermill": {
     "duration": 0.04202,
     "end_time": "2021-02-27T13:42:12.499720",
     "exception": false,
     "start_time": "2021-02-27T13:42:12.457700",
     "status": "completed"
    },
    "tags": []
   },
   "outputs": [],
   "source": [
    "# early_stop = EarlyStopping(monitor='val_loss', patience=20)\n",
    "\n",
    "checkpoint = ModelCheckpoint(\"model_best.h5\", monitor='val_accuracy', verbose=1, save_best_only=True, mode='auto')"
   ]
  },
  {
   "cell_type": "code",
   "execution_count": 22,
   "metadata": {
    "execution": {
     "iopub.execute_input": "2021-02-27T13:42:12.572293Z",
     "iopub.status.busy": "2021-02-27T13:42:12.571617Z",
     "iopub.status.idle": "2021-02-27T16:39:29.713771Z",
     "shell.execute_reply": "2021-02-27T16:39:29.714266Z"
    },
    "papermill": {
     "duration": 10637.181304,
     "end_time": "2021-02-27T16:39:29.714437",
     "exception": false,
     "start_time": "2021-02-27T13:42:12.533133",
     "status": "completed"
    },
    "tags": []
   },
   "outputs": [
    {
     "name": "stdout",
     "output_type": "stream",
     "text": [
      "Epoch 1/30\n",
      "12336/12338 [============================>.] - ETA: 0s - loss: 1.0970 - accuracy: 0.3472\n",
      "Epoch 00001: val_accuracy improved from -inf to 0.34722, saving model to model_best.h5\n",
      "12338/12338 [==============================] - 350s 28ms/step - loss: 1.0970 - accuracy: 0.3472 - val_loss: 1.1025 - val_accuracy: 0.3472\n",
      "Epoch 2/30\n",
      "12337/12338 [============================>.] - ETA: 0s - loss: 1.0968 - accuracy: 0.3497\n",
      "Epoch 00002: val_accuracy did not improve from 0.34722\n",
      "12338/12338 [==============================] - 353s 29ms/step - loss: 1.0968 - accuracy: 0.3497 - val_loss: 1.1543 - val_accuracy: 0.3056\n",
      "Epoch 3/30\n",
      "12337/12338 [============================>.] - ETA: 0s - loss: 1.0969 - accuracy: 0.3478\n",
      "Epoch 00003: val_accuracy did not improve from 0.34722\n",
      "12338/12338 [==============================] - 356s 29ms/step - loss: 1.0969 - accuracy: 0.3478 - val_loss: 1.1010 - val_accuracy: 0.3056\n",
      "Epoch 4/30\n",
      "12336/12338 [============================>.] - ETA: 0s - loss: 1.0969 - accuracy: 0.3480\n",
      "Epoch 00004: val_accuracy did not improve from 0.34722\n",
      "12338/12338 [==============================] - 353s 29ms/step - loss: 1.0969 - accuracy: 0.3480 - val_loss: 1.1020 - val_accuracy: 0.3056\n",
      "Epoch 5/30\n",
      "12338/12338 [==============================] - ETA: 0s - loss: 1.0969 - accuracy: 0.3470\n",
      "Epoch 00005: val_accuracy did not improve from 0.34722\n",
      "12338/12338 [==============================] - 353s 29ms/step - loss: 1.0969 - accuracy: 0.3470 - val_loss: 1.1024 - val_accuracy: 0.3056\n",
      "Epoch 6/30\n",
      "12337/12338 [============================>.] - ETA: 0s - loss: 1.0969 - accuracy: 0.3467\n",
      "Epoch 00006: val_accuracy did not improve from 0.34722\n",
      "12338/12338 [==============================] - 355s 29ms/step - loss: 1.0969 - accuracy: 0.3467 - val_loss: 1.1029 - val_accuracy: 0.3056\n",
      "Epoch 7/30\n",
      "12338/12338 [==============================] - ETA: 0s - loss: 1.0969 - accuracy: 0.3462\n",
      "Epoch 00007: val_accuracy did not improve from 0.34722\n",
      "12338/12338 [==============================] - 353s 29ms/step - loss: 1.0969 - accuracy: 0.3462 - val_loss: 1.1024 - val_accuracy: 0.3056\n",
      "Epoch 8/30\n",
      "12336/12338 [============================>.] - ETA: 0s - loss: 1.0969 - accuracy: 0.3473\n",
      "Epoch 00008: val_accuracy did not improve from 0.34722\n",
      "12338/12338 [==============================] - 354s 29ms/step - loss: 1.0969 - accuracy: 0.3473 - val_loss: 1.1016 - val_accuracy: 0.3472\n",
      "Epoch 9/30\n",
      "12337/12338 [============================>.] - ETA: 0s - loss: 1.0969 - accuracy: 0.3466\n",
      "Epoch 00009: val_accuracy did not improve from 0.34722\n",
      "12338/12338 [==============================] - 355s 29ms/step - loss: 1.0969 - accuracy: 0.3466 - val_loss: 1.1014 - val_accuracy: 0.3056\n",
      "Epoch 10/30\n",
      "12336/12338 [============================>.] - ETA: 0s - loss: 1.0969 - accuracy: 0.3475\n",
      "Epoch 00010: val_accuracy did not improve from 0.34722\n",
      "12338/12338 [==============================] - 354s 29ms/step - loss: 1.0969 - accuracy: 0.3475 - val_loss: 1.1024 - val_accuracy: 0.3472\n",
      "Epoch 11/30\n",
      "12338/12338 [==============================] - ETA: 0s - loss: 1.0969 - accuracy: 0.3467\n",
      "Epoch 00011: val_accuracy did not improve from 0.34722\n",
      "12338/12338 [==============================] - 357s 29ms/step - loss: 1.0969 - accuracy: 0.3467 - val_loss: 1.1024 - val_accuracy: 0.3056\n",
      "Epoch 12/30\n",
      "12337/12338 [============================>.] - ETA: 0s - loss: 1.0969 - accuracy: 0.3474\n",
      "Epoch 00012: val_accuracy did not improve from 0.34722\n",
      "12338/12338 [==============================] - 357s 29ms/step - loss: 1.0969 - accuracy: 0.3474 - val_loss: 1.1017 - val_accuracy: 0.3056\n",
      "Epoch 13/30\n",
      "12336/12338 [============================>.] - ETA: 0s - loss: 1.0969 - accuracy: 0.3475\n",
      "Epoch 00013: val_accuracy did not improve from 0.34722\n",
      "12338/12338 [==============================] - 353s 29ms/step - loss: 1.0969 - accuracy: 0.3475 - val_loss: 1.1031 - val_accuracy: 0.3056\n",
      "Epoch 14/30\n",
      "12338/12338 [==============================] - ETA: 0s - loss: 1.0969 - accuracy: 0.3472\n",
      "Epoch 00014: val_accuracy did not improve from 0.34722\n",
      "12338/12338 [==============================] - 352s 29ms/step - loss: 1.0969 - accuracy: 0.3472 - val_loss: 1.1016 - val_accuracy: 0.3472\n",
      "Epoch 15/30\n",
      "12337/12338 [============================>.] - ETA: 0s - loss: 1.0969 - accuracy: 0.3473\n",
      "Epoch 00015: val_accuracy did not improve from 0.34722\n",
      "12338/12338 [==============================] - 353s 29ms/step - loss: 1.0969 - accuracy: 0.3473 - val_loss: 1.1016 - val_accuracy: 0.3056\n",
      "Epoch 16/30\n",
      "12338/12338 [==============================] - ETA: 0s - loss: 1.0969 - accuracy: 0.3473\n",
      "Epoch 00016: val_accuracy did not improve from 0.34722\n",
      "12338/12338 [==============================] - 354s 29ms/step - loss: 1.0969 - accuracy: 0.3473 - val_loss: 1.1032 - val_accuracy: 0.3472\n",
      "Epoch 17/30\n",
      "12338/12338 [==============================] - ETA: 0s - loss: 1.0969 - accuracy: 0.3461\n",
      "Epoch 00017: val_accuracy did not improve from 0.34722\n",
      "12338/12338 [==============================] - 354s 29ms/step - loss: 1.0969 - accuracy: 0.3461 - val_loss: 1.1018 - val_accuracy: 0.3472\n",
      "Epoch 18/30\n",
      "12337/12338 [============================>.] - ETA: 0s - loss: 1.0969 - accuracy: 0.3476\n",
      "Epoch 00018: val_accuracy did not improve from 0.34722\n",
      "12338/12338 [==============================] - 356s 29ms/step - loss: 1.0969 - accuracy: 0.3476 - val_loss: 1.1012 - val_accuracy: 0.3472\n",
      "Epoch 19/30\n",
      "12337/12338 [============================>.] - ETA: 0s - loss: 1.0969 - accuracy: 0.3474\n",
      "Epoch 00019: val_accuracy did not improve from 0.34722\n",
      "12338/12338 [==============================] - 353s 29ms/step - loss: 1.0969 - accuracy: 0.3474 - val_loss: 1.1026 - val_accuracy: 0.3056\n",
      "Epoch 20/30\n",
      "12336/12338 [============================>.] - ETA: 0s - loss: 1.0969 - accuracy: 0.3485\n",
      "Epoch 00020: val_accuracy did not improve from 0.34722\n",
      "12338/12338 [==============================] - 354s 29ms/step - loss: 1.0969 - accuracy: 0.3485 - val_loss: 1.1022 - val_accuracy: 0.3472\n",
      "Epoch 21/30\n",
      "12337/12338 [============================>.] - ETA: 0s - loss: 1.0969 - accuracy: 0.3483\n",
      "Epoch 00021: val_accuracy did not improve from 0.34722\n",
      "12338/12338 [==============================] - 356s 29ms/step - loss: 1.0969 - accuracy: 0.3483 - val_loss: 1.1027 - val_accuracy: 0.3056\n",
      "Epoch 22/30\n",
      "12337/12338 [============================>.] - ETA: 0s - loss: 1.0969 - accuracy: 0.3477\n",
      "Epoch 00022: val_accuracy did not improve from 0.34722\n",
      "12338/12338 [==============================] - 357s 29ms/step - loss: 1.0969 - accuracy: 0.3478 - val_loss: 1.1014 - val_accuracy: 0.3472\n",
      "Epoch 23/30\n",
      "12337/12338 [============================>.] - ETA: 0s - loss: 1.0969 - accuracy: 0.3481\n",
      "Epoch 00023: val_accuracy did not improve from 0.34722\n",
      "12338/12338 [==============================] - 357s 29ms/step - loss: 1.0969 - accuracy: 0.3481 - val_loss: 1.1036 - val_accuracy: 0.3056\n",
      "Epoch 24/30\n",
      "12336/12338 [============================>.] - ETA: 0s - loss: 1.0969 - accuracy: 0.3467\n",
      "Epoch 00024: val_accuracy did not improve from 0.34722\n",
      "12338/12338 [==============================] - 355s 29ms/step - loss: 1.0969 - accuracy: 0.3467 - val_loss: 1.1021 - val_accuracy: 0.3056\n",
      "Epoch 25/30\n",
      "12337/12338 [============================>.] - ETA: 0s - loss: 1.0969 - accuracy: 0.3470\n",
      "Epoch 00025: val_accuracy did not improve from 0.34722\n",
      "12338/12338 [==============================] - 356s 29ms/step - loss: 1.0969 - accuracy: 0.3470 - val_loss: 1.1035 - val_accuracy: 0.3056\n",
      "Epoch 26/30\n",
      "12337/12338 [============================>.] - ETA: 0s - loss: 1.0969 - accuracy: 0.3474\n",
      "Epoch 00026: val_accuracy did not improve from 0.34722\n",
      "12338/12338 [==============================] - 346s 28ms/step - loss: 1.0969 - accuracy: 0.3474 - val_loss: 1.1025 - val_accuracy: 0.3056\n",
      "Epoch 27/30\n",
      "12338/12338 [==============================] - ETA: 0s - loss: 1.0969 - accuracy: 0.3478\n",
      "Epoch 00027: val_accuracy did not improve from 0.34722\n",
      "12338/12338 [==============================] - 356s 29ms/step - loss: 1.0969 - accuracy: 0.3478 - val_loss: 1.1015 - val_accuracy: 0.3056\n",
      "Epoch 28/30\n",
      "12338/12338 [==============================] - ETA: 0s - loss: 1.0969 - accuracy: 0.3466\n",
      "Epoch 00028: val_accuracy did not improve from 0.34722\n",
      "12338/12338 [==============================] - 365s 30ms/step - loss: 1.0969 - accuracy: 0.3466 - val_loss: 1.1015 - val_accuracy: 0.3472\n",
      "Epoch 29/30\n",
      "12337/12338 [============================>.] - ETA: 0s - loss: 1.0969 - accuracy: 0.3471\n",
      "Epoch 00029: val_accuracy did not improve from 0.34722\n",
      "12338/12338 [==============================] - 348s 28ms/step - loss: 1.0969 - accuracy: 0.3471 - val_loss: 1.1027 - val_accuracy: 0.3056\n",
      "Epoch 30/30\n",
      "12338/12338 [==============================] - ETA: 0s - loss: 1.0969 - accuracy: 0.3471\n",
      "Epoch 00030: val_accuracy did not improve from 0.34722\n",
      "12338/12338 [==============================] - 358s 29ms/step - loss: 1.0969 - accuracy: 0.3471 - val_loss: 1.1022 - val_accuracy: 0.3472\n"
     ]
    }
   ],
   "source": [
    "history = model.fit(X_train, y_train, \n",
    "                    epochs=30, \n",
    "                    batch_size=50,\n",
    "                    validation_data=(X_val,y_val),\n",
    "                    callbacks=[checkpoint])"
   ]
  },
  {
   "cell_type": "code",
   "execution_count": 23,
   "metadata": {
    "execution": {
     "iopub.execute_input": "2021-02-27T16:41:10.072309Z",
     "iopub.status.busy": "2021-02-27T16:41:10.070311Z",
     "iopub.status.idle": "2021-02-27T16:41:10.073079Z",
     "shell.execute_reply": "2021-02-27T16:41:10.073642Z"
    },
    "papermill": {
     "duration": 49.928998,
     "end_time": "2021-02-27T16:41:10.073816",
     "exception": false,
     "start_time": "2021-02-27T16:40:20.144818",
     "status": "completed"
    },
    "tags": []
   },
   "outputs": [],
   "source": [
    "model_json = model.to_json()\n",
    "with open(\"model_final.json\", \"w\") as json_file : \n",
    "    json_file.write(model_json)"
   ]
  },
  {
   "cell_type": "code",
   "execution_count": 24,
   "metadata": {
    "execution": {
     "iopub.execute_input": "2021-02-27T16:42:50.636793Z",
     "iopub.status.busy": "2021-02-27T16:42:50.635681Z",
     "iopub.status.idle": "2021-02-27T16:42:50.648373Z",
     "shell.execute_reply": "2021-02-27T16:42:50.647676Z"
    },
    "papermill": {
     "duration": 50.038315,
     "end_time": "2021-02-27T16:42:50.648509",
     "exception": false,
     "start_time": "2021-02-27T16:42:00.610194",
     "status": "completed"
    },
    "tags": []
   },
   "outputs": [],
   "source": [
    "model.save_weights(\"model_final.h5\")"
   ]
  },
  {
   "cell_type": "code",
   "execution_count": 25,
   "metadata": {
    "execution": {
     "iopub.execute_input": "2021-02-27T16:44:30.635997Z",
     "iopub.status.busy": "2021-02-27T16:44:30.634711Z",
     "iopub.status.idle": "2021-02-27T16:44:30.638056Z",
     "shell.execute_reply": "2021-02-27T16:44:30.637062Z"
    },
    "papermill": {
     "duration": 49.870416,
     "end_time": "2021-02-27T16:44:30.638239",
     "exception": false,
     "start_time": "2021-02-27T16:43:40.767823",
     "status": "completed"
    },
    "tags": []
   },
   "outputs": [],
   "source": [
    "# with open(\"./model_final.json\", \"r\") as fp:\n",
    "#   model_test = model_from_json(fp.read())\n",
    "\n",
    "# # Load weights to new model\n",
    "# model_test.load_weights(\"./model_final.h5\")"
   ]
  },
  {
   "cell_type": "code",
   "execution_count": 26,
   "metadata": {
    "execution": {
     "iopub.execute_input": "2021-02-27T16:46:11.156129Z",
     "iopub.status.busy": "2021-02-27T16:46:11.154234Z",
     "iopub.status.idle": "2021-02-27T16:46:11.157362Z",
     "shell.execute_reply": "2021-02-27T16:46:11.156789Z"
    },
    "papermill": {
     "duration": 50.213695,
     "end_time": "2021-02-27T16:46:11.157472",
     "exception": false,
     "start_time": "2021-02-27T16:45:20.943777",
     "status": "completed"
    },
    "tags": []
   },
   "outputs": [],
   "source": [
    "# df=pd.read_csv(DATASET_PATH)\n",
    "# data_test = df['close']"
   ]
  },
  {
   "cell_type": "code",
   "execution_count": 27,
   "metadata": {
    "execution": {
     "iopub.execute_input": "2021-02-27T16:47:51.187211Z",
     "iopub.status.busy": "2021-02-27T16:47:51.186147Z",
     "iopub.status.idle": "2021-02-27T16:47:51.188299Z",
     "shell.execute_reply": "2021-02-27T16:47:51.188887Z"
    },
    "papermill": {
     "duration": 49.634013,
     "end_time": "2021-02-27T16:47:51.189034",
     "exception": false,
     "start_time": "2021-02-27T16:47:01.555021",
     "status": "completed"
    },
    "tags": []
   },
   "outputs": [],
   "source": [
    "# data_test = data_test.tolist()"
   ]
  },
  {
   "cell_type": "code",
   "execution_count": 28,
   "metadata": {
    "execution": {
     "iopub.execute_input": "2021-02-27T16:49:31.356412Z",
     "iopub.status.busy": "2021-02-27T16:49:31.354263Z",
     "iopub.status.idle": "2021-02-27T16:49:31.357159Z",
     "shell.execute_reply": "2021-02-27T16:49:31.357654Z"
    },
    "papermill": {
     "duration": 50.045432,
     "end_time": "2021-02-27T16:49:31.357801",
     "exception": false,
     "start_time": "2021-02-27T16:48:41.312369",
     "status": "completed"
    },
    "tags": []
   },
   "outputs": [],
   "source": [
    "# data_test = data_test[800000:1300000]"
   ]
  },
  {
   "cell_type": "code",
   "execution_count": 29,
   "metadata": {
    "execution": {
     "iopub.execute_input": "2021-02-27T16:51:11.936029Z",
     "iopub.status.busy": "2021-02-27T16:51:11.934016Z",
     "iopub.status.idle": "2021-02-27T16:51:11.936784Z",
     "shell.execute_reply": "2021-02-27T16:51:11.937300Z"
    },
    "papermill": {
     "duration": 50.486478,
     "end_time": "2021-02-27T16:51:11.937425",
     "exception": false,
     "start_time": "2021-02-27T16:50:21.450947",
     "status": "completed"
    },
    "tags": []
   },
   "outputs": [],
   "source": [
    "# data_test = np.array(data_test)"
   ]
  },
  {
   "cell_type": "code",
   "execution_count": 30,
   "metadata": {
    "execution": {
     "iopub.execute_input": "2021-02-27T16:52:51.637563Z",
     "iopub.status.busy": "2021-02-27T16:52:51.636560Z",
     "iopub.status.idle": "2021-02-27T16:52:51.639517Z",
     "shell.execute_reply": "2021-02-27T16:52:51.639021Z"
    },
    "papermill": {
     "duration": 50.20683,
     "end_time": "2021-02-27T16:52:51.639623",
     "exception": false,
     "start_time": "2021-02-27T16:52:01.432793",
     "status": "completed"
    },
    "tags": []
   },
   "outputs": [],
   "source": [
    "# plt.plot(range(len(data_test)),data_test)\n",
    "# # plt.plot(range(len(train_data)),train_data)\n",
    "# plt.show()"
   ]
  },
  {
   "cell_type": "code",
   "execution_count": 31,
   "metadata": {
    "execution": {
     "iopub.execute_input": "2021-02-27T16:54:31.760022Z",
     "iopub.status.busy": "2021-02-27T16:54:31.759058Z",
     "iopub.status.idle": "2021-02-27T16:54:31.762483Z",
     "shell.execute_reply": "2021-02-27T16:54:31.761935Z"
    },
    "papermill": {
     "duration": 49.939906,
     "end_time": "2021-02-27T16:54:31.762900",
     "exception": false,
     "start_time": "2021-02-27T16:53:41.822994",
     "status": "completed"
    },
    "tags": []
   },
   "outputs": [],
   "source": [
    "# X_train_test, y_train_test, X_val_test, y_val_test = make_data(data_test,0.95)"
   ]
  },
  {
   "cell_type": "code",
   "execution_count": null,
   "metadata": {
    "papermill": {
     "duration": 50.217579,
     "end_time": "2021-02-27T16:56:11.682594",
     "exception": false,
     "start_time": "2021-02-27T16:55:21.465015",
     "status": "completed"
    },
    "tags": []
   },
   "outputs": [],
   "source": []
  },
  {
   "cell_type": "code",
   "execution_count": 32,
   "metadata": {
    "execution": {
     "iopub.execute_input": "2021-02-27T16:57:52.702212Z",
     "iopub.status.busy": "2021-02-27T16:57:52.701223Z",
     "iopub.status.idle": "2021-02-27T16:57:52.704293Z",
     "shell.execute_reply": "2021-02-27T16:57:52.703742Z"
    },
    "papermill": {
     "duration": 50.756938,
     "end_time": "2021-02-27T16:57:52.704407",
     "exception": false,
     "start_time": "2021-02-27T16:57:01.947469",
     "status": "completed"
    },
    "tags": []
   },
   "outputs": [],
   "source": [
    "# all = 0\n",
    "# counter = 0\n",
    "# test = 0\n",
    "# for i,y_guess in enumerate(model_test.predict(X_train_test)):\n",
    "\n",
    "#     if y_train_test[i][0]>X_train_test[i][-1][0]:\n",
    "#         all+=1\n",
    "#         if y_guess[0]>X_train_test[i][-1][0]:\n",
    "#             counter+=1\n",
    "    \n",
    "#     if y_train_test[i][0]==X_train_test[i][-1][0]:\n",
    "#         test+=1\n",
    "\n",
    "# print(counter/all)\n",
    "# print(test/all)"
   ]
  },
  {
   "cell_type": "code",
   "execution_count": 33,
   "metadata": {
    "execution": {
     "iopub.execute_input": "2021-02-27T16:59:33.924049Z",
     "iopub.status.busy": "2021-02-27T16:59:33.922993Z",
     "iopub.status.idle": "2021-02-27T16:59:33.925376Z",
     "shell.execute_reply": "2021-02-27T16:59:33.925949Z"
    },
    "papermill": {
     "duration": 50.455838,
     "end_time": "2021-02-27T16:59:33.926081",
     "exception": false,
     "start_time": "2021-02-27T16:58:43.470243",
     "status": "completed"
    },
    "tags": []
   },
   "outputs": [],
   "source": [
    "# all = 0\n",
    "# counter = 0\n",
    "# for i,y_guess in enumerate(model_test.predict(X_train_test)):\n",
    "    \n",
    "#     if not y_train_test[i][0]==X_train_test[i][-1][0]:\n",
    "#         all+=1\n",
    "\n",
    "#     if y_train_test[i][0]<X_train_test[i][-1][0]:\n",
    "#         if y_guess[0]<X_train_test[i][-1][0]:\n",
    "#             counter+=1\n",
    "#     if y_train_test[i][0]>X_train_test[i][-1][0]:\n",
    "#         if y_guess[0]>X_train_test[i][-1][0]:\n",
    "#             counter+=1\n",
    "\n",
    "# print(counter/all)"
   ]
  },
  {
   "cell_type": "code",
   "execution_count": 34,
   "metadata": {
    "execution": {
     "iopub.execute_input": "2021-02-27T17:01:15.555439Z",
     "iopub.status.busy": "2021-02-27T17:01:15.554469Z",
     "iopub.status.idle": "2021-02-27T17:01:15.556986Z",
     "shell.execute_reply": "2021-02-27T17:01:15.557452Z"
    },
    "papermill": {
     "duration": 50.793132,
     "end_time": "2021-02-27T17:01:15.557587",
     "exception": false,
     "start_time": "2021-02-27T17:00:24.764455",
     "status": "completed"
    },
    "tags": []
   },
   "outputs": [],
   "source": [
    "# predict = model_test.predict(X_train_test)"
   ]
  },
  {
   "cell_type": "code",
   "execution_count": 35,
   "metadata": {
    "execution": {
     "iopub.execute_input": "2021-02-27T17:02:57.096794Z",
     "iopub.status.busy": "2021-02-27T17:02:57.095700Z",
     "iopub.status.idle": "2021-02-27T17:02:57.098770Z",
     "shell.execute_reply": "2021-02-27T17:02:57.098198Z"
    },
    "papermill": {
     "duration": 50.73055,
     "end_time": "2021-02-27T17:02:57.098886",
     "exception": false,
     "start_time": "2021-02-27T17:02:06.368336",
     "status": "completed"
    },
    "tags": []
   },
   "outputs": [],
   "source": [
    "# a=1\n",
    "# for i,y_guess in enumerate(predict):\n",
    "#     if y_guess[0]<X_train_test[i][-1][0]:\n",
    "#         a *= (y_train_test[i][0]/X_train_test[i][-1][0])"
   ]
  },
  {
   "cell_type": "code",
   "execution_count": 36,
   "metadata": {
    "execution": {
     "iopub.execute_input": "2021-02-27T17:04:40.330153Z",
     "iopub.status.busy": "2021-02-27T17:04:40.329092Z",
     "iopub.status.idle": "2021-02-27T17:04:40.331297Z",
     "shell.execute_reply": "2021-02-27T17:04:40.331816Z"
    },
    "papermill": {
     "duration": 52.341402,
     "end_time": "2021-02-27T17:04:40.331970",
     "exception": false,
     "start_time": "2021-02-27T17:03:47.990568",
     "status": "completed"
    },
    "tags": []
   },
   "outputs": [],
   "source": [
    "# print(a)"
   ]
  },
  {
   "cell_type": "code",
   "execution_count": null,
   "metadata": {
    "papermill": {
     "duration": 50.963857,
     "end_time": "2021-02-27T17:06:21.807402",
     "exception": false,
     "start_time": "2021-02-27T17:05:30.843545",
     "status": "completed"
    },
    "tags": []
   },
   "outputs": [],
   "source": []
  }
 ],
 "metadata": {
  "kernelspec": {
   "display_name": "Python 3",
   "language": "python",
   "name": "python3"
  },
  "language_info": {
   "codemirror_mode": {
    "name": "ipython",
    "version": 3
   },
   "file_extension": ".py",
   "mimetype": "text/x-python",
   "name": "python",
   "nbconvert_exporter": "python",
   "pygments_lexer": "ipython3",
   "version": "3.7.6"
  },
  "papermill": {
   "duration": 12360.356823,
   "end_time": "2021-02-27T17:07:14.036010",
   "environment_variables": {},
   "exception": null,
   "input_path": "__notebook__.ipynb",
   "output_path": "__notebook__.ipynb",
   "parameters": {},
   "start_time": "2021-02-27T13:41:13.679187",
   "version": "2.1.0"
  }
 },
 "nbformat": 4,
 "nbformat_minor": 4
}
