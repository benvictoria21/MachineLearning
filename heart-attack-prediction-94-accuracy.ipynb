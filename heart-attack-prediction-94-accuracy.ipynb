{
 "cells": [
  {
   "cell_type": "code",
   "execution_count": 1,
   "metadata": {
    "_cell_guid": "b1076dfc-b9ad-4769-8c92-a6c4dae69d19",
    "_uuid": "8f2839f25d086af736a60e9eeb907d3b93b6e0e5",
    "execution": {
     "iopub.execute_input": "2021-01-29T15:34:21.438448Z",
     "iopub.status.busy": "2021-01-29T15:34:21.437599Z",
     "iopub.status.idle": "2021-01-29T15:34:22.625234Z",
     "shell.execute_reply": "2021-01-29T15:34:22.625927Z"
    },
    "papermill": {
     "duration": 1.218491,
     "end_time": "2021-01-29T15:34:22.626173",
     "exception": false,
     "start_time": "2021-01-29T15:34:21.407682",
     "status": "completed"
    },
    "tags": []
   },
   "outputs": [
    {
     "name": "stdout",
     "output_type": "stream",
     "text": [
      "/kaggle/input/heart-attack-prediction/data.csv\n"
     ]
    }
   ],
   "source": [
    "# This Python 3 environment comes with many helpful analytics libraries installed\n",
    "# It is defined by the kaggle/python Docker image: https://github.com/kaggle/docker-python\n",
    "# For example, here's several helpful packages to load\n",
    "\n",
    "import numpy as np # linear algebra\n",
    "import pandas as pd # data processing, CSV file I/O (e.g. pd.read_csv)\n",
    "from sklearn.metrics import confusion_matrix,accuracy_score\n",
    "from sklearn.model_selection import train_test_split\n",
    "from sklearn.preprocessing import StandardScaler\n",
    "from sklearn.metrics import classification_report \n",
    "# Input data files are available in the read-only \"../input/\" directory\n",
    "# For example, running this (by clicking run or pressing Shift+Enter) will list all files under the input directory\n",
    "\n",
    "import os\n",
    "for dirname, _, filenames in os.walk('/kaggle/input'):\n",
    "    for filename in filenames:\n",
    "        print(os.path.join(dirname, filename))\n",
    "\n",
    "# You can write up to 20GB to the current directory (/kaggle/working/) that gets preserved as output when you create a version using \"Save & Run All\" \n",
    "# You can also write temporary files to /kaggle/temp/, but they won't be saved outside of the current session"
   ]
  },
  {
   "cell_type": "markdown",
   "metadata": {
    "papermill": {
     "duration": 0.019208,
     "end_time": "2021-01-29T15:34:22.666223",
     "exception": false,
     "start_time": "2021-01-29T15:34:22.647015",
     "status": "completed"
    },
    "tags": []
   },
   "source": [
    "# Objective\n",
    "### To predict whether a patient is at risk for a heart attack. This is a binary outcome.\n",
    "\n",
    "Positive (+) = 1, patient is at risk\n",
    "Negative (-) = 0, patient is not at risk"
   ]
  },
  {
   "cell_type": "markdown",
   "metadata": {
    "papermill": {
     "duration": 0.01899,
     "end_time": "2021-01-29T15:34:22.704733",
     "exception": false,
     "start_time": "2021-01-29T15:34:22.685743",
     "status": "completed"
    },
    "tags": []
   },
   "source": [
    "# Understanding the Dataset\n",
    "* age (#)\n",
    "* sex : 1 = Male, 0 = Female (Binary)\n",
    "* (cp) chest pain [type (4 values, Ordinal)]: 1: typical angina, 2: atypical angina, 3: non-anginal pain, 4: asymptomatic\n",
    "* (trestbps) resting blood pressure (#)\n",
    "* (chol) serum cholestoral in mg/dl (#)\n",
    "* (fbs) fasting blood sugar > 120 mg/dl (Binary) [1 = true; 0 = false]\n",
    "* (restecg) resting electrocardiographic results [values 0,1,2]\n",
    "* (thalach) maximum heart rate achieved (#)\n",
    "* (exang) exercise induced angina (Binary) [1 = yes; 0 = no]\n",
    "* (oldpeak) = ST depression induced by exercise relative to rest (#)\n",
    "* (slope) of the peak exercise ST segment (Ordinal) [ 1: upsloping, 2: flat , 3: downsloping)\n",
    "* (ca) number of major vessels (0-3, Ordinal) colored by fluoroscopy\n",
    "* (thal) maximum heart rate achieved (Ordinal) [3 = normal; 6 = fixed defect; 7 = reversable defect]"
   ]
  },
  {
   "cell_type": "markdown",
   "metadata": {
    "papermill": {
     "duration": 0.019058,
     "end_time": "2021-01-29T15:34:22.743331",
     "exception": false,
     "start_time": "2021-01-29T15:34:22.724273",
     "status": "completed"
    },
    "tags": []
   },
   "source": [
    "# Exploring the Dataset "
   ]
  },
  {
   "cell_type": "code",
   "execution_count": 2,
   "metadata": {
    "execution": {
     "iopub.execute_input": "2021-01-29T15:34:22.787147Z",
     "iopub.status.busy": "2021-01-29T15:34:22.786000Z",
     "iopub.status.idle": "2021-01-29T15:34:22.812445Z",
     "shell.execute_reply": "2021-01-29T15:34:22.813072Z"
    },
    "papermill": {
     "duration": 0.050353,
     "end_time": "2021-01-29T15:34:22.813262",
     "exception": false,
     "start_time": "2021-01-29T15:34:22.762909",
     "status": "completed"
    },
    "tags": []
   },
   "outputs": [
    {
     "data": {
      "text/plain": [
       "(294, 14)"
      ]
     },
     "execution_count": 2,
     "metadata": {},
     "output_type": "execute_result"
    }
   ],
   "source": [
    "data=pd.read_csv('/kaggle/input/heart-attack-prediction/data.csv')\n",
    "data.shape"
   ]
  },
  {
   "cell_type": "code",
   "execution_count": 3,
   "metadata": {
    "execution": {
     "iopub.execute_input": "2021-01-29T15:34:22.872869Z",
     "iopub.status.busy": "2021-01-29T15:34:22.871805Z",
     "iopub.status.idle": "2021-01-29T15:34:22.875917Z",
     "shell.execute_reply": "2021-01-29T15:34:22.876599Z"
    },
    "papermill": {
     "duration": 0.042462,
     "end_time": "2021-01-29T15:34:22.876790",
     "exception": false,
     "start_time": "2021-01-29T15:34:22.834328",
     "status": "completed"
    },
    "tags": []
   },
   "outputs": [
    {
     "data": {
      "text/plain": [
       "age             int64\n",
       "sex             int64\n",
       "cp              int64\n",
       "trestbps       object\n",
       "chol           object\n",
       "fbs            object\n",
       "restecg        object\n",
       "thalach        object\n",
       "exang          object\n",
       "oldpeak       float64\n",
       "slope          object\n",
       "ca             object\n",
       "thal           object\n",
       "num             int64\n",
       "dtype: object"
      ]
     },
     "execution_count": 3,
     "metadata": {},
     "output_type": "execute_result"
    }
   ],
   "source": [
    "data.dtypes"
   ]
  },
  {
   "cell_type": "markdown",
   "metadata": {
    "papermill": {
     "duration": 0.02,
     "end_time": "2021-01-29T15:34:22.917134",
     "exception": false,
     "start_time": "2021-01-29T15:34:22.897134",
     "status": "completed"
    },
    "tags": []
   },
   "source": [
    "## visualization of Correlation in Data"
   ]
  },
  {
   "cell_type": "code",
   "execution_count": 4,
   "metadata": {
    "execution": {
     "iopub.execute_input": "2021-01-29T15:34:22.963640Z",
     "iopub.status.busy": "2021-01-29T15:34:22.962507Z",
     "iopub.status.idle": "2021-01-29T15:34:23.472451Z",
     "shell.execute_reply": "2021-01-29T15:34:23.473179Z"
    },
    "papermill": {
     "duration": 0.535584,
     "end_time": "2021-01-29T15:34:23.473346",
     "exception": false,
     "start_time": "2021-01-29T15:34:22.937762",
     "status": "completed"
    },
    "tags": []
   },
   "outputs": [
    {
     "data": {
      "image/png": "[encoded data removed]",
      "text/plain": [
       "<Figure size 864x648 with 2 Axes>"
      ]
     },
     "metadata": {
      "needs_background": "light"
     },
     "output_type": "display_data"
    }
   ],
   "source": [
    "import matplotlib.pyplot as plt\n",
    "import seaborn as sns\n",
    "\n",
    "corrmat = data.corr()\n",
    "f, ax = plt.subplots(figsize=(12, 9))\n",
    "sns.heatmap(corrmat, vmax=.8, square=True, annot=True);"
   ]
  },
  {
   "cell_type": "markdown",
   "metadata": {
    "papermill": {
     "duration": 0.021338,
     "end_time": "2021-01-29T15:34:23.516448",
     "exception": false,
     "start_time": "2021-01-29T15:34:23.495110",
     "status": "completed"
    },
    "tags": []
   },
   "source": [
    "**OldPeak**(ST depression induced by exercise relative to rest) and **CP** ( Chest Pain Type ) have the most correlation with **target** ( diagnosis of heart disease)"
   ]
  },
  {
   "cell_type": "markdown",
   "metadata": {
    "papermill": {
     "duration": 0.021384,
     "end_time": "2021-01-29T15:34:23.559457",
     "exception": false,
     "start_time": "2021-01-29T15:34:23.538073",
     "status": "completed"
    },
    "tags": []
   },
   "source": [
    "# Preprocessing the Data"
   ]
  },
  {
   "cell_type": "code",
   "execution_count": 5,
   "metadata": {
    "execution": {
     "iopub.execute_input": "2021-01-29T15:34:23.607795Z",
     "iopub.status.busy": "2021-01-29T15:34:23.606534Z",
     "iopub.status.idle": "2021-01-29T15:34:23.650544Z",
     "shell.execute_reply": "2021-01-29T15:34:23.649912Z"
    },
    "papermill": {
     "duration": 0.069594,
     "end_time": "2021-01-29T15:34:23.650699",
     "exception": false,
     "start_time": "2021-01-29T15:34:23.581105",
     "status": "completed"
    },
    "tags": []
   },
   "outputs": [
    {
     "data": {
      "text/html": [
       "<div>\n",
       "<style scoped>\n",
       "    .dataframe tbody tr th:only-of-type {\n",
       "        vertical-align: middle;\n",
       "    }\n",
       "\n",
       "    .dataframe tbody tr th {\n",
       "        vertical-align: top;\n",
       "    }\n",
       "\n",
       "    .dataframe thead th {\n",
       "        text-align: right;\n",
       "    }\n",
       "</style>\n",
       "<table border=\"1\" class=\"dataframe\">\n",
       "  <thead>\n",
       "    <tr style=\"text-align: right;\">\n",
       "      <th></th>\n",
       "      <th>age</th>\n",
       "      <th>sex</th>\n",
       "      <th>cp</th>\n",
       "      <th>trestbps</th>\n",
       "      <th>chol</th>\n",
       "      <th>fbs</th>\n",
       "      <th>restecg</th>\n",
       "      <th>thalach</th>\n",
       "      <th>exang</th>\n",
       "      <th>oldpeak</th>\n",
       "      <th>slope</th>\n",
       "      <th>ca</th>\n",
       "      <th>thal</th>\n",
       "      <th>target</th>\n",
       "    </tr>\n",
       "  </thead>\n",
       "  <tbody>\n",
       "    <tr>\n",
       "      <th>0</th>\n",
       "      <td>28</td>\n",
       "      <td>1</td>\n",
       "      <td>2</td>\n",
       "      <td>130</td>\n",
       "      <td>132</td>\n",
       "      <td>0</td>\n",
       "      <td>2</td>\n",
       "      <td>185</td>\n",
       "      <td>0</td>\n",
       "      <td>0.0</td>\n",
       "      <td>0</td>\n",
       "      <td>0</td>\n",
       "      <td>0</td>\n",
       "      <td>0</td>\n",
       "    </tr>\n",
       "    <tr>\n",
       "      <th>1</th>\n",
       "      <td>29</td>\n",
       "      <td>1</td>\n",
       "      <td>2</td>\n",
       "      <td>120</td>\n",
       "      <td>243</td>\n",
       "      <td>0</td>\n",
       "      <td>0</td>\n",
       "      <td>160</td>\n",
       "      <td>0</td>\n",
       "      <td>0.0</td>\n",
       "      <td>0</td>\n",
       "      <td>0</td>\n",
       "      <td>0</td>\n",
       "      <td>0</td>\n",
       "    </tr>\n",
       "    <tr>\n",
       "      <th>2</th>\n",
       "      <td>29</td>\n",
       "      <td>1</td>\n",
       "      <td>2</td>\n",
       "      <td>140</td>\n",
       "      <td>243</td>\n",
       "      <td>0</td>\n",
       "      <td>0</td>\n",
       "      <td>170</td>\n",
       "      <td>0</td>\n",
       "      <td>0.0</td>\n",
       "      <td>0</td>\n",
       "      <td>0</td>\n",
       "      <td>0</td>\n",
       "      <td>0</td>\n",
       "    </tr>\n",
       "    <tr>\n",
       "      <th>3</th>\n",
       "      <td>30</td>\n",
       "      <td>0</td>\n",
       "      <td>1</td>\n",
       "      <td>170</td>\n",
       "      <td>237</td>\n",
       "      <td>0</td>\n",
       "      <td>1</td>\n",
       "      <td>170</td>\n",
       "      <td>0</td>\n",
       "      <td>0.0</td>\n",
       "      <td>0</td>\n",
       "      <td>0</td>\n",
       "      <td>6</td>\n",
       "      <td>0</td>\n",
       "    </tr>\n",
       "    <tr>\n",
       "      <th>4</th>\n",
       "      <td>31</td>\n",
       "      <td>0</td>\n",
       "      <td>2</td>\n",
       "      <td>100</td>\n",
       "      <td>219</td>\n",
       "      <td>0</td>\n",
       "      <td>1</td>\n",
       "      <td>150</td>\n",
       "      <td>0</td>\n",
       "      <td>0.0</td>\n",
       "      <td>0</td>\n",
       "      <td>0</td>\n",
       "      <td>6</td>\n",
       "      <td>0</td>\n",
       "    </tr>\n",
       "  </tbody>\n",
       "</table>\n",
       "</div>"
      ],
      "text/plain": [
       "   age  sex  cp trestbps chol fbs restecg thalach exang  oldpeak slope ca  \\\n",
       "0   28    1   2      130  132   0       2     185     0      0.0     0  0   \n",
       "1   29    1   2      120  243   0       0     160     0      0.0     0  0   \n",
       "2   29    1   2      140  243   0       0     170     0      0.0     0  0   \n",
       "3   30    0   1      170  237   0       1     170     0      0.0     0  0   \n",
       "4   31    0   2      100  219   0       1     150     0      0.0     0  0   \n",
       "\n",
       "  thal  target  \n",
       "0    0       0  \n",
       "1    0       0  \n",
       "2    0       0  \n",
       "3    6       0  \n",
       "4    6       0  "
      ]
     },
     "execution_count": 5,
     "metadata": {},
     "output_type": "execute_result"
    }
   ],
   "source": [
    "data.rename(columns={'num       ': 'target'}, inplace=True) \n",
    "data=data.replace('?',None)\n",
    "data=data.replace('?',0)\n",
    "data.head()"
   ]
  },
  {
   "cell_type": "code",
   "execution_count": 6,
   "metadata": {
    "_kg_hide-input": true,
    "_kg_hide-output": true,
    "collapsed": true,
    "execution": {
     "iopub.execute_input": "2021-01-29T15:34:23.716722Z",
     "iopub.status.busy": "2021-01-29T15:34:23.715283Z",
     "iopub.status.idle": "2021-01-29T15:34:23.725004Z",
     "shell.execute_reply": "2021-01-29T15:34:23.725793Z"
    },
    "papermill": {
     "duration": 0.052772,
     "end_time": "2021-01-29T15:34:23.725984",
     "exception": false,
     "start_time": "2021-01-29T15:34:23.673212",
     "status": "completed"
    },
    "tags": []
   },
   "outputs": [],
   "source": [
    "#Getting Pandas Dummies for ['sex', 'cp', 'fbs', 'restecg', 'exang', 'slope', 'ca', 'thal']\n",
    "\n",
    "data = pd.get_dummies(data, columns = ['sex', 'cp', 'fbs', 'restecg', 'exang', 'slope','thal','ca'])"
   ]
  },
  {
   "cell_type": "code",
   "execution_count": 7,
   "metadata": {
    "execution": {
     "iopub.execute_input": "2021-01-29T15:34:23.776174Z",
     "iopub.status.busy": "2021-01-29T15:34:23.775157Z",
     "iopub.status.idle": "2021-01-29T15:34:23.793489Z",
     "shell.execute_reply": "2021-01-29T15:34:23.792557Z"
    },
    "papermill": {
     "duration": 0.045125,
     "end_time": "2021-01-29T15:34:23.793665",
     "exception": false,
     "start_time": "2021-01-29T15:34:23.748540",
     "status": "completed"
    },
    "tags": []
   },
   "outputs": [],
   "source": [
    "#Scaling the other attributes using normal scaler\n",
    "\n",
    "standardScaler = StandardScaler()\n",
    "columns_to_scale = ['age', 'trestbps', 'chol', 'thalach', 'oldpeak']\n",
    "data[columns_to_scale] = standardScaler.fit_transform(data[columns_to_scale])"
   ]
  },
  {
   "cell_type": "markdown",
   "metadata": {
    "papermill": {
     "duration": 0.022739,
     "end_time": "2021-01-29T15:34:23.839324",
     "exception": false,
     "start_time": "2021-01-29T15:34:23.816585",
     "status": "completed"
    },
    "tags": []
   },
   "source": [
    "# Final Preprocessed Data"
   ]
  },
  {
   "cell_type": "code",
   "execution_count": 8,
   "metadata": {
    "execution": {
     "iopub.execute_input": "2021-01-29T15:34:23.902099Z",
     "iopub.status.busy": "2021-01-29T15:34:23.901245Z",
     "iopub.status.idle": "2021-01-29T15:34:23.914785Z",
     "shell.execute_reply": "2021-01-29T15:34:23.915347Z"
    },
    "papermill": {
     "duration": 0.053118,
     "end_time": "2021-01-29T15:34:23.915551",
     "exception": false,
     "start_time": "2021-01-29T15:34:23.862433",
     "status": "completed"
    },
    "tags": []
   },
   "outputs": [
    {
     "data": {
      "text/html": [
       "<div>\n",
       "<style scoped>\n",
       "    .dataframe tbody tr th:only-of-type {\n",
       "        vertical-align: middle;\n",
       "    }\n",
       "\n",
       "    .dataframe tbody tr th {\n",
       "        vertical-align: top;\n",
       "    }\n",
       "\n",
       "    .dataframe thead th {\n",
       "        text-align: right;\n",
       "    }\n",
       "</style>\n",
       "<table border=\"1\" class=\"dataframe\">\n",
       "  <thead>\n",
       "    <tr style=\"text-align: right;\">\n",
       "      <th></th>\n",
       "      <th>age</th>\n",
       "      <th>trestbps</th>\n",
       "      <th>chol</th>\n",
       "      <th>thalach</th>\n",
       "      <th>oldpeak</th>\n",
       "      <th>target</th>\n",
       "      <th>sex_0</th>\n",
       "      <th>sex_1</th>\n",
       "      <th>cp_1</th>\n",
       "      <th>cp_2</th>\n",
       "      <th>...</th>\n",
       "      <th>slope_0</th>\n",
       "      <th>slope_1</th>\n",
       "      <th>slope_2</th>\n",
       "      <th>slope_3</th>\n",
       "      <th>thal_0</th>\n",
       "      <th>thal_3</th>\n",
       "      <th>thal_6</th>\n",
       "      <th>thal_7</th>\n",
       "      <th>ca_0</th>\n",
       "      <th>ca_0</th>\n",
       "    </tr>\n",
       "  </thead>\n",
       "  <tbody>\n",
       "    <tr>\n",
       "      <th>0</th>\n",
       "      <td>-2.542347</td>\n",
       "      <td>-0.148467</td>\n",
       "      <td>-1.681029</td>\n",
       "      <td>1.951999</td>\n",
       "      <td>-0.646074</td>\n",
       "      <td>0</td>\n",
       "      <td>0</td>\n",
       "      <td>1</td>\n",
       "      <td>0</td>\n",
       "      <td>1</td>\n",
       "      <td>...</td>\n",
       "      <td>1</td>\n",
       "      <td>0</td>\n",
       "      <td>0</td>\n",
       "      <td>0</td>\n",
       "      <td>1</td>\n",
       "      <td>0</td>\n",
       "      <td>0</td>\n",
       "      <td>0</td>\n",
       "      <td>1</td>\n",
       "      <td>0</td>\n",
       "    </tr>\n",
       "    <tr>\n",
       "      <th>1</th>\n",
       "      <td>-2.414117</td>\n",
       "      <td>-0.717561</td>\n",
       "      <td>-0.117167</td>\n",
       "      <td>0.889244</td>\n",
       "      <td>-0.646074</td>\n",
       "      <td>0</td>\n",
       "      <td>0</td>\n",
       "      <td>1</td>\n",
       "      <td>0</td>\n",
       "      <td>1</td>\n",
       "      <td>...</td>\n",
       "      <td>1</td>\n",
       "      <td>0</td>\n",
       "      <td>0</td>\n",
       "      <td>0</td>\n",
       "      <td>1</td>\n",
       "      <td>0</td>\n",
       "      <td>0</td>\n",
       "      <td>0</td>\n",
       "      <td>1</td>\n",
       "      <td>0</td>\n",
       "    </tr>\n",
       "    <tr>\n",
       "      <th>2</th>\n",
       "      <td>-2.414117</td>\n",
       "      <td>0.420626</td>\n",
       "      <td>-0.117167</td>\n",
       "      <td>1.314346</td>\n",
       "      <td>-0.646074</td>\n",
       "      <td>0</td>\n",
       "      <td>0</td>\n",
       "      <td>1</td>\n",
       "      <td>0</td>\n",
       "      <td>1</td>\n",
       "      <td>...</td>\n",
       "      <td>1</td>\n",
       "      <td>0</td>\n",
       "      <td>0</td>\n",
       "      <td>0</td>\n",
       "      <td>1</td>\n",
       "      <td>0</td>\n",
       "      <td>0</td>\n",
       "      <td>0</td>\n",
       "      <td>1</td>\n",
       "      <td>0</td>\n",
       "    </tr>\n",
       "    <tr>\n",
       "      <th>3</th>\n",
       "      <td>-2.285888</td>\n",
       "      <td>2.127905</td>\n",
       "      <td>-0.201700</td>\n",
       "      <td>1.314346</td>\n",
       "      <td>-0.646074</td>\n",
       "      <td>0</td>\n",
       "      <td>1</td>\n",
       "      <td>0</td>\n",
       "      <td>1</td>\n",
       "      <td>0</td>\n",
       "      <td>...</td>\n",
       "      <td>1</td>\n",
       "      <td>0</td>\n",
       "      <td>0</td>\n",
       "      <td>0</td>\n",
       "      <td>0</td>\n",
       "      <td>0</td>\n",
       "      <td>1</td>\n",
       "      <td>0</td>\n",
       "      <td>1</td>\n",
       "      <td>0</td>\n",
       "    </tr>\n",
       "    <tr>\n",
       "      <th>4</th>\n",
       "      <td>-2.157658</td>\n",
       "      <td>-1.855747</td>\n",
       "      <td>-0.455300</td>\n",
       "      <td>0.464142</td>\n",
       "      <td>-0.646074</td>\n",
       "      <td>0</td>\n",
       "      <td>1</td>\n",
       "      <td>0</td>\n",
       "      <td>0</td>\n",
       "      <td>1</td>\n",
       "      <td>...</td>\n",
       "      <td>1</td>\n",
       "      <td>0</td>\n",
       "      <td>0</td>\n",
       "      <td>0</td>\n",
       "      <td>0</td>\n",
       "      <td>0</td>\n",
       "      <td>1</td>\n",
       "      <td>0</td>\n",
       "      <td>1</td>\n",
       "      <td>0</td>\n",
       "    </tr>\n",
       "  </tbody>\n",
       "</table>\n",
       "<p>5 rows × 29 columns</p>\n",
       "</div>"
      ],
      "text/plain": [
       "        age  trestbps      chol   thalach   oldpeak  target  sex_0  sex_1  \\\n",
       "0 -2.542347 -0.148467 -1.681029  1.951999 -0.646074       0      0      1   \n",
       "1 -2.414117 -0.717561 -0.117167  0.889244 -0.646074       0      0      1   \n",
       "2 -2.414117  0.420626 -0.117167  1.314346 -0.646074       0      0      1   \n",
       "3 -2.285888  2.127905 -0.201700  1.314346 -0.646074       0      1      0   \n",
       "4 -2.157658 -1.855747 -0.455300  0.464142 -0.646074       0      1      0   \n",
       "\n",
       "   cp_1  cp_2  ...  slope_0  slope_1  slope_2  slope_3  thal_0  thal_3  \\\n",
       "0     0     1  ...        1        0        0        0       1       0   \n",
       "1     0     1  ...        1        0        0        0       1       0   \n",
       "2     0     1  ...        1        0        0        0       1       0   \n",
       "3     1     0  ...        1        0        0        0       0       0   \n",
       "4     0     1  ...        1        0        0        0       0       0   \n",
       "\n",
       "   thal_6  thal_7  ca_0  ca_0  \n",
       "0       0       0     1     0  \n",
       "1       0       0     1     0  \n",
       "2       0       0     1     0  \n",
       "3       1       0     1     0  \n",
       "4       1       0     1     0  \n",
       "\n",
       "[5 rows x 29 columns]"
      ]
     },
     "execution_count": 8,
     "metadata": {},
     "output_type": "execute_result"
    }
   ],
   "source": [
    "data.head()"
   ]
  },
  {
   "cell_type": "markdown",
   "metadata": {
    "papermill": {
     "duration": 0.024601,
     "end_time": "2021-01-29T15:34:23.964364",
     "exception": false,
     "start_time": "2021-01-29T15:34:23.939763",
     "status": "completed"
    },
    "tags": []
   },
   "source": [
    "# Splitting data as Train and Test"
   ]
  },
  {
   "cell_type": "code",
   "execution_count": 9,
   "metadata": {
    "execution": {
     "iopub.execute_input": "2021-01-29T15:34:24.027679Z",
     "iopub.status.busy": "2021-01-29T15:34:24.026234Z",
     "iopub.status.idle": "2021-01-29T15:34:24.036014Z",
     "shell.execute_reply": "2021-01-29T15:34:24.036679Z"
    },
    "papermill": {
     "duration": 0.048609,
     "end_time": "2021-01-29T15:34:24.036874",
     "exception": false,
     "start_time": "2021-01-29T15:34:23.988265",
     "status": "completed"
    },
    "tags": []
   },
   "outputs": [],
   "source": [
    "y = data['target']\n",
    "X = data.drop('target',axis=1)\n",
    "X_train, X_test, y_train, y_test = train_test_split(X, y, test_size=0.20, random_state = 0)\n",
    "\n",
    "#80% Train and 20% Test Data"
   ]
  },
  {
   "cell_type": "code",
   "execution_count": 10,
   "metadata": {
    "execution": {
     "iopub.execute_input": "2021-01-29T15:34:24.107918Z",
     "iopub.status.busy": "2021-01-29T15:34:24.106334Z",
     "iopub.status.idle": "2021-01-29T15:34:24.256315Z",
     "shell.execute_reply": "2021-01-29T15:34:24.255439Z"
    },
    "papermill": {
     "duration": 0.19117,
     "end_time": "2021-01-29T15:34:24.256467",
     "exception": false,
     "start_time": "2021-01-29T15:34:24.065297",
     "status": "completed"
    },
    "tags": []
   },
   "outputs": [
    {
     "data": {
      "image/png": "[encoded data removed]",
      "text/plain": [
       "<Figure size 432x288 with 1 Axes>"
      ]
     },
     "metadata": {
      "needs_background": "light"
     },
     "output_type": "display_data"
    }
   ],
   "source": [
    "#Plotting the Target (Heart Disease)\n",
    "plt.figure(figsize=(6,4))\n",
    "sns.countplot(y)\n",
    "plt.show()"
   ]
  },
  {
   "cell_type": "code",
   "execution_count": 11,
   "metadata": {
    "execution": {
     "iopub.execute_input": "2021-01-29T15:34:24.314484Z",
     "iopub.status.busy": "2021-01-29T15:34:24.313519Z",
     "iopub.status.idle": "2021-01-29T15:34:24.318549Z",
     "shell.execute_reply": "2021-01-29T15:34:24.317921Z"
    },
    "papermill": {
     "duration": 0.036356,
     "end_time": "2021-01-29T15:34:24.318699",
     "exception": false,
     "start_time": "2021-01-29T15:34:24.282343",
     "status": "completed"
    },
    "tags": []
   },
   "outputs": [
    {
     "name": "stdout",
     "output_type": "stream",
     "text": [
      "(235, 28)\n",
      "(59, 28)\n"
     ]
    }
   ],
   "source": [
    "#Analysing the shape of X_train and X_test Data\n",
    "\n",
    "print(X_train.shape)\n",
    "print(X_test.shape)"
   ]
  },
  {
   "cell_type": "markdown",
   "metadata": {
    "papermill": {
     "duration": 0.024787,
     "end_time": "2021-01-29T15:34:24.369560",
     "exception": false,
     "start_time": "2021-01-29T15:34:24.344773",
     "status": "completed"
    },
    "tags": []
   },
   "source": [
    " # MODELS\n",
    "\n",
    "     1) SVM\n",
    "     2) Random Forest\n",
    "     3) Logistic Regression\n",
    "     4) Multi-layer Perceptron classifier "
   ]
  },
  {
   "cell_type": "markdown",
   "metadata": {
    "papermill": {
     "duration": 0.024941,
     "end_time": "2021-01-29T15:34:24.419770",
     "exception": false,
     "start_time": "2021-01-29T15:34:24.394829",
     "status": "completed"
    },
    "tags": []
   },
   "source": [
    "# 1) Using SVM"
   ]
  },
  {
   "cell_type": "markdown",
   "metadata": {
    "papermill": {
     "duration": 0.02491,
     "end_time": "2021-01-29T15:34:24.470083",
     "exception": false,
     "start_time": "2021-01-29T15:34:24.445173",
     "status": "completed"
    },
    "tags": []
   },
   "source": [
    "## Running SVM model with Various Kernals"
   ]
  },
  {
   "cell_type": "code",
   "execution_count": 12,
   "metadata": {
    "execution": {
     "iopub.execute_input": "2021-01-29T15:34:24.528819Z",
     "iopub.status.busy": "2021-01-29T15:34:24.528036Z",
     "iopub.status.idle": "2021-01-29T15:34:24.672935Z",
     "shell.execute_reply": "2021-01-29T15:34:24.672070Z"
    },
    "papermill": {
     "duration": 0.177842,
     "end_time": "2021-01-29T15:34:24.673089",
     "exception": false,
     "start_time": "2021-01-29T15:34:24.495247",
     "status": "completed"
    },
    "tags": []
   },
   "outputs": [],
   "source": [
    "from sklearn.svm import SVC\n",
    "\n",
    "#Function for storing model scores using various kernals\n",
    "svc_scores = []\n",
    "kernel_type = ['linear', 'poly', 'rbf', 'sigmoid']\n",
    "for type in kernel_type:\n",
    "    svc_classifier = SVC(kernel = type)\n",
    "    svc_classifier.fit(X_train, y_train)\n",
    "    svc_scores.append(svc_classifier.score(X_test, y_test))"
   ]
  },
  {
   "cell_type": "code",
   "execution_count": 13,
   "metadata": {
    "execution": {
     "iopub.execute_input": "2021-01-29T15:34:24.740824Z",
     "iopub.status.busy": "2021-01-29T15:34:24.732350Z",
     "iopub.status.idle": "2021-01-29T15:34:24.886553Z",
     "shell.execute_reply": "2021-01-29T15:34:24.885762Z"
    },
    "papermill": {
     "duration": 0.18814,
     "end_time": "2021-01-29T15:34:24.886709",
     "exception": false,
     "start_time": "2021-01-29T15:34:24.698569",
     "status": "completed"
    },
    "tags": []
   },
   "outputs": [
    {
     "data": {
      "text/plain": [
       "<BarContainer object of 4 artists>"
      ]
     },
     "execution_count": 13,
     "metadata": {},
     "output_type": "execute_result"
    },
    {
     "data": {
      "image/png": "[encoded data removed]",
      "text/plain": [
       "<Figure size 432x288 with 1 Axes>"
      ]
     },
     "metadata": {
      "needs_background": "light"
     },
     "output_type": "display_data"
    }
   ],
   "source": [
    "#Plotting the accuracy\n",
    "\n",
    "for i in range(len(kernel_type)):\n",
    "    label = round(svc_scores[i], 5)\n",
    "    plt.text(i, svc_scores[i], label)\n",
    "plt.xlabel('Kernels')\n",
    "plt.ylabel('Scores')\n",
    "plt.title('Support Vector Classifier scores for different kernels')\n",
    "plt.bar(kernel_type, svc_scores)"
   ]
  },
  {
   "cell_type": "markdown",
   "metadata": {
    "papermill": {
     "duration": 0.026245,
     "end_time": "2021-01-29T15:34:24.939481",
     "exception": false,
     "start_time": "2021-01-29T15:34:24.913236",
     "status": "completed"
    },
    "tags": []
   },
   "source": [
    "We can see that the **rbf** kernel gives the maximum accuracy. Training the final model in rbf"
   ]
  },
  {
   "cell_type": "code",
   "execution_count": 14,
   "metadata": {
    "execution": {
     "iopub.execute_input": "2021-01-29T15:34:25.005522Z",
     "iopub.status.busy": "2021-01-29T15:34:25.004482Z",
     "iopub.status.idle": "2021-01-29T15:34:25.025269Z",
     "shell.execute_reply": "2021-01-29T15:34:25.026155Z"
    },
    "papermill": {
     "duration": 0.0605,
     "end_time": "2021-01-29T15:34:25.026452",
     "exception": false,
     "start_time": "2021-01-29T15:34:24.965952",
     "status": "completed"
    },
    "tags": []
   },
   "outputs": [
    {
     "name": "stdout",
     "output_type": "stream",
     "text": [
      "confussion matrix\n",
      "[[31  2]\n",
      " [ 1 25]]\n",
      "              precision    recall  f1-score   support\n",
      "\n",
      "           0       0.97      0.94      0.95        33\n",
      "           1       0.93      0.96      0.94        26\n",
      "\n",
      "    accuracy                           0.95        59\n",
      "   macro avg       0.95      0.95      0.95        59\n",
      "weighted avg       0.95      0.95      0.95        59\n",
      "\n",
      "\n",
      "\n",
      "Accuracy of Support Vector Classifier: 94.915 %\n",
      "\n"
     ]
    }
   ],
   "source": [
    "#Training the model on 'rbf' Kernal\n",
    "\n",
    "svc =  SVC(kernel='rbf')\n",
    "svc.fit(X_train, y_train)\n",
    "svc_predicted = svc.predict(X_test)\n",
    "svc_conf_matrix = confusion_matrix(y_test, svc_predicted)\n",
    "svc_acc_score = accuracy_score(y_test, svc_predicted)\n",
    "\n",
    "#Printing the confussion matrix and accuracy scores\n",
    "print(\"confussion matrix\")\n",
    "print(svc_conf_matrix)\n",
    "print(classification_report(y_test, svc_predicted))\n",
    "print(\"\\n\")\n",
    "print(\"Accuracy of Support Vector Classifier: {:.3f}\".format(svc_acc_score*100),'%\\n')"
   ]
  },
  {
   "cell_type": "markdown",
   "metadata": {
    "papermill": {
     "duration": 0.027222,
     "end_time": "2021-01-29T15:34:25.081759",
     "exception": false,
     "start_time": "2021-01-29T15:34:25.054537",
     "status": "completed"
    },
    "tags": []
   },
   "source": [
    "# 2) Random Forest"
   ]
  },
  {
   "cell_type": "code",
   "execution_count": 15,
   "metadata": {
    "execution": {
     "iopub.execute_input": "2021-01-29T15:34:25.146135Z",
     "iopub.status.busy": "2021-01-29T15:34:25.145170Z",
     "iopub.status.idle": "2021-01-29T15:34:26.499051Z",
     "shell.execute_reply": "2021-01-29T15:34:26.498177Z"
    },
    "papermill": {
     "duration": 1.390112,
     "end_time": "2021-01-29T15:34:26.499259",
     "exception": false,
     "start_time": "2021-01-29T15:34:25.109147",
     "status": "completed"
    },
    "tags": []
   },
   "outputs": [
    {
     "name": "stdout",
     "output_type": "stream",
     "text": [
      "confussion matrix\n",
      "[[31  2]\n",
      " [ 0 26]]\n",
      "              precision    recall  f1-score   support\n",
      "\n",
      "           0       1.00      0.94      0.97        33\n",
      "           1       0.93      1.00      0.96        26\n",
      "\n",
      "    accuracy                           0.97        59\n",
      "   macro avg       0.96      0.97      0.97        59\n",
      "weighted avg       0.97      0.97      0.97        59\n",
      "\n",
      "\n",
      "\n",
      "Accuracy of Random Forest Classifier: 96.610 %\n",
      "\n"
     ]
    }
   ],
   "source": [
    "from sklearn.ensemble import RandomForestClassifier\n",
    "\n",
    "model=RandomForestClassifier(n_estimators=500,random_state=1)\n",
    "model.fit(X_train,y_train)\n",
    "rfpred=model.predict(X_test)\n",
    "RF_conf_matrix = confusion_matrix(y_test, rfpred)\n",
    "rf_acc_score = accuracy_score(y_test, rfpred)\n",
    "\n",
    "#Printing the confussion matrix and accuracy scores\n",
    "print(\"confussion matrix\")\n",
    "print(RF_conf_matrix)\n",
    "print(classification_report(y_test, rfpred))\n",
    "print(\"\\n\")\n",
    "print(\"Accuracy of Random Forest Classifier: {:.3f}\".format(rf_acc_score*100),'%\\n')"
   ]
  },
  {
   "cell_type": "markdown",
   "metadata": {
    "papermill": {
     "duration": 0.027201,
     "end_time": "2021-01-29T15:34:26.554265",
     "exception": false,
     "start_time": "2021-01-29T15:34:26.527064",
     "status": "completed"
    },
    "tags": []
   },
   "source": [
    "# 3) Logistic Regression"
   ]
  },
  {
   "cell_type": "code",
   "execution_count": 16,
   "metadata": {
    "execution": {
     "iopub.execute_input": "2021-01-29T15:34:26.621461Z",
     "iopub.status.busy": "2021-01-29T15:34:26.620247Z",
     "iopub.status.idle": "2021-01-29T15:34:26.663281Z",
     "shell.execute_reply": "2021-01-29T15:34:26.662273Z"
    },
    "papermill": {
     "duration": 0.081726,
     "end_time": "2021-01-29T15:34:26.663476",
     "exception": false,
     "start_time": "2021-01-29T15:34:26.581750",
     "status": "completed"
    },
    "tags": []
   },
   "outputs": [
    {
     "name": "stdout",
     "output_type": "stream",
     "text": [
      "confussion matrix\n",
      "[[30  3]\n",
      " [ 0 26]]\n",
      "\n",
      "\n",
      "              precision    recall  f1-score   support\n",
      "\n",
      "           0       1.00      0.91      0.95        33\n",
      "           1       0.90      1.00      0.95        26\n",
      "\n",
      "    accuracy                           0.95        59\n",
      "   macro avg       0.95      0.95      0.95        59\n",
      "weighted avg       0.95      0.95      0.95        59\n",
      "\n",
      "Accuracy of Logistic Regression: 94.915 %\n",
      "\n"
     ]
    }
   ],
   "source": [
    "from sklearn.linear_model import LogisticRegression\n",
    "\n",
    "lr = LogisticRegression()\n",
    "model = lr.fit(X_train, y_train)\n",
    "lr_predict = lr.predict(X_test)\n",
    "lr_conf_matrix = confusion_matrix(y_test, lr_predict)\n",
    "lr_acc_score = accuracy_score(y_test, lr_predict)\n",
    "\n",
    "#Printing the confussion matrix and accuracy scores\n",
    "print(\"confussion matrix\")\n",
    "print(lr_conf_matrix)\n",
    "print(\"\\n\")\n",
    "print(classification_report(y_test,lr_predict))\n",
    "print(\"Accuracy of Logistic Regression: {:.3f}\".format(lr_acc_score*100),'%\\n')"
   ]
  },
  {
   "cell_type": "markdown",
   "metadata": {
    "papermill": {
     "duration": 0.027817,
     "end_time": "2021-01-29T15:34:26.723946",
     "exception": false,
     "start_time": "2021-01-29T15:34:26.696129",
     "status": "completed"
    },
    "tags": []
   },
   "source": [
    "# 4) Multi-layer Perceptron classifier "
   ]
  },
  {
   "cell_type": "code",
   "execution_count": 17,
   "metadata": {
    "execution": {
     "iopub.execute_input": "2021-01-29T15:34:26.790890Z",
     "iopub.status.busy": "2021-01-29T15:34:26.789774Z",
     "iopub.status.idle": "2021-01-29T15:34:27.057293Z",
     "shell.execute_reply": "2021-01-29T15:34:27.058004Z"
    },
    "papermill": {
     "duration": 0.305917,
     "end_time": "2021-01-29T15:34:27.058200",
     "exception": false,
     "start_time": "2021-01-29T15:34:26.752283",
     "status": "completed"
    },
    "tags": []
   },
   "outputs": [
    {
     "name": "stdout",
     "output_type": "stream",
     "text": [
      "[[30  3]\n",
      " [ 0 26]]\n",
      "\n",
      "\n",
      "              precision    recall  f1-score   support\n",
      "\n",
      "           0       1.00      0.91      0.95        33\n",
      "           1       0.90      1.00      0.95        26\n",
      "\n",
      "    accuracy                           0.95        59\n",
      "   macro avg       0.95      0.95      0.95        59\n",
      "weighted avg       0.95      0.95      0.95        59\n",
      "\n",
      "Accuracy of Multilayer Perceptron classifier: 94.915 %\n",
      "\n"
     ]
    },
    {
     "name": "stderr",
     "output_type": "stream",
     "text": [
      "/opt/conda/lib/python3.7/site-packages/sklearn/neural_network/_multilayer_perceptron.py:585: ConvergenceWarning: Stochastic Optimizer: Maximum iterations (150) reached and the optimization hasn't converged yet.\n",
      "  % self.max_iter, ConvergenceWarning)\n"
     ]
    }
   ],
   "source": [
    "from sklearn.neural_network import MLPClassifier\n",
    "MLP = MLPClassifier(hidden_layer_sizes=(32), learning_rate_init=0.001, max_iter=150)\n",
    "model = MLP.fit(X_train, y_train)\n",
    "MLP_predict = MLP.predict(X_test)\n",
    "MLP_conf_matrix = confusion_matrix(y_test, MLP_predict)\n",
    "MLP_acc_score = accuracy_score(y_test, MLP_predict)\n",
    "\n",
    "\n",
    "#Printing the confussion matrix and accuracy scoresprint(\"confussion matrix\")\n",
    "print(MLP_conf_matrix)\n",
    "print(\"\\n\")\n",
    "print(classification_report(y_test,MLP_predict))\n",
    "print(\"Accuracy of Multilayer Perceptron classifier: {:.3f}\".format(MLP_acc_score*100),'%\\n')"
   ]
  },
  {
   "cell_type": "markdown",
   "metadata": {
    "papermill": {
     "duration": 0.02921,
     "end_time": "2021-01-29T15:34:27.118488",
     "exception": false,
     "start_time": "2021-01-29T15:34:27.089278",
     "status": "completed"
    },
    "tags": []
   },
   "source": [
    "### We can see that the random forest gives an accuracy about 96%. This is my first public notebook in kaggle, It will be great if you guys show some love. Also, Let me know if you have any questions or suggestions below! Thanks a lot for your time :)"
   ]
  }
 ],
 "metadata": {
  "kernelspec": {
   "display_name": "Python 3",
   "language": "python",
   "name": "python3"
  },
  "language_info": {
   "codemirror_mode": {
    "name": "ipython",
    "version": 3
   },
   "file_extension": ".py",
   "mimetype": "text/x-python",
   "name": "python",
   "nbconvert_exporter": "python",
   "pygments_lexer": "ipython3",
   "version": "3.7.6"
  },
  "papermill": {
   "duration": 11.475405,
   "end_time": "2021-01-29T15:34:27.258114",
   "environment_variables": {},
   "exception": null,
   "input_path": "__notebook__.ipynb",
   "output_path": "__notebook__.ipynb",
   "parameters": {},
   "start_time": "2021-01-29T15:34:15.782709",
   "version": "2.1.0"
  }
 },
 "nbformat": 4,
 "nbformat_minor": 4
}
