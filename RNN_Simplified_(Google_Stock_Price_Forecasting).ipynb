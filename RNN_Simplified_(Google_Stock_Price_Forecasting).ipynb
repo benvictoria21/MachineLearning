{
  "nbformat": 4,
  "nbformat_minor": 0,
  "metadata": {
    "colab": {
      "name": " RNN Simplified (Google Stock Price Forecasting)",
      "provenance": [],
      "private_outputs": true,
      "authorship_tag": "ABX9TyPNachAqXJ+VXaNjtRMyj79",
      "include_colab_link": true
    },
    "kernelspec": {
      "name": "python3",
      "display_name": "Python 3"
    }
  },
  "cells": [
    {
      "cell_type": "markdown",
      "metadata": {
        "id": "view-in-github",
        "colab_type": "text"
      },
      "source": [
        "<a href=\"https://colab.research.google.com/github/benvictoria21/python-machine-learning/blob/master/RNN_Simplified_(Google_Stock_Price_Forecasting).ipynb\" target=\"_parent\"><img src=\"https://colab.research.google.com/assets/colab-badge.svg\" alt=\"Open In Colab\"/></a>"
      ]
    },
    {
      "cell_type": "code",
      "metadata": {
        "id": "dTb0hB3vubAT",
        "colab_type": "code",
        "colab": {}
      },
      "source": [
        "import numpy as np\n",
        "import pandas as pd\n",
        "import warnings  \n",
        "warnings.filterwarnings('ignore') # to ignore the warnings"
      ],
      "execution_count": null,
      "outputs": []
    },
    {
      "cell_type": "code",
      "metadata": {
        "id": "IuA4GdLwvBl_",
        "colab_type": "code",
        "colab": {}
      },
      "source": [
        "training = pd.read_csv(\"https://raw.githubusercontent.com/raj-shah14/Predicting-Google-Stock-Prices/master/Google_Stock_Price_Train.csv\")\n",
        "training.head()"
      ],
      "execution_count": null,
      "outputs": []
    },
    {
      "cell_type": "code",
      "metadata": {
        "id": "XLjshy1zxD1R",
        "colab_type": "code",
        "colab": {}
      },
      "source": [
        "real_stock_price_train = training.iloc[:, 1:2].values     # creates a 2D array having observation and feature"
      ],
      "execution_count": null,
      "outputs": []
    },
    {
      "cell_type": "code",
      "metadata": {
        "id": "l21CY5ApxIxT",
        "colab_type": "code",
        "colab": {}
      },
      "source": [
        "from sklearn.preprocessing import MinMaxScaler\n",
        "sc = MinMaxScaler()\n",
        "training2 = sc.fit_transform(real_stock_price_train)"
      ],
      "execution_count": null,
      "outputs": []
    },
    {
      "cell_type": "code",
      "metadata": {
        "id": "VDPC34_ExKgm",
        "colab_type": "code",
        "colab": {}
      },
      "source": [
        "training2.shape"
      ],
      "execution_count": null,
      "outputs": []
    },
    {
      "cell_type": "code",
      "metadata": {
        "id": "NxW1d9s3xQAc",
        "colab_type": "code",
        "colab": {}
      },
      "source": [
        "# hence in the input we take\n",
        "X_train = training2[0:1257]  # all but last observation as we don't have the output value for it\n",
        "y_train = training2[1:1258]  # values shifted by 1"
      ],
      "execution_count": null,
      "outputs": []
    },
    {
      "cell_type": "code",
      "metadata": {
        "id": "Dxiy5KVH0KRt",
        "colab_type": "code",
        "colab": {}
      },
      "source": [
        "X_train = np.reshape(X_train, (1257, 1, 1))\n",
        "# (1257, 1, 1) the 2nd argument is no. of features and 3rd argument is the time step"
      ],
      "execution_count": null,
      "outputs": []
    },
    {
      "cell_type": "code",
      "metadata": {
        "id": "nyno5A6H0O9t",
        "colab_type": "code",
        "colab": {}
      },
      "source": [
        "# importing libraries\n",
        "from keras.models import Sequential  # initialize NN as a sequnce of layers\n",
        "from keras.layers import Dense  # to add fully connected layers\n",
        "from keras.layers import LSTM"
      ],
      "execution_count": null,
      "outputs": []
    },
    {
      "cell_type": "code",
      "metadata": {
        "id": "aVT91lGC0RPY",
        "colab_type": "code",
        "colab": {}
      },
      "source": [
        "rnn_regressor = Sequential()"
      ],
      "execution_count": null,
      "outputs": []
    },
    {
      "cell_type": "code",
      "metadata": {
        "id": "tqjdBWJV0UM6",
        "colab_type": "code",
        "colab": {}
      },
      "source": [
        "rnn_regressor.add(LSTM(units=4, activation='sigmoid', input_shape=(1, 1)))"
      ],
      "execution_count": null,
      "outputs": []
    },
    {
      "cell_type": "code",
      "metadata": {
        "id": "uF82clIJ0Wae",
        "colab_type": "code",
        "colab": {}
      },
      "source": [
        "rnn_regressor.add(Dense(units=1))"
      ],
      "execution_count": null,
      "outputs": []
    },
    {
      "cell_type": "code",
      "metadata": {
        "id": "El6nzYGS0ZV7",
        "colab_type": "code",
        "colab": {}
      },
      "source": [
        "rnn_regressor.compile(optimizer='adam', loss='mean_squared_error')"
      ],
      "execution_count": null,
      "outputs": []
    },
    {
      "cell_type": "code",
      "metadata": {
        "id": "Dvm0UMIv0apd",
        "colab_type": "code",
        "colab": {}
      },
      "source": [
        "rnn_regressor.fit(X_train, y_train, batch_size=32, epochs=200)"
      ],
      "execution_count": null,
      "outputs": []
    },
    {
      "cell_type": "code",
      "metadata": {
        "id": "rEcgSKvn0iOJ",
        "colab_type": "code",
        "colab": {}
      },
      "source": [
        "# predicting the training results\n",
        "predicted_stock_price_train = rnn_regressor.predict(X_train)\n",
        "predicted_stock_price_train = sc.inverse_transform(predicted_stock_price_train)"
      ],
      "execution_count": null,
      "outputs": []
    },
    {
      "cell_type": "code",
      "metadata": {
        "id": "3DS3hZyk0muq",
        "colab_type": "code",
        "colab": {}
      },
      "source": [
        "# visualizing the training results\n",
        "import matplotlib.pyplot as plt\n",
        "plt.figure(figsize=(20,10))\n",
        "plt.plot(real_stock_price_train, color = 'red', label='Real Google Stock Price')\n",
        "plt.plot(predicted_stock_price_train, color = 'blue', label='Predicted Google Stock Price')\n",
        "plt.title('Google Stock Price Prediction')\n",
        "plt.xlabel('Time')\n",
        "plt.ylabel('Stock Price')\n",
        "plt.legend()\n",
        "plt.show()"
      ],
      "execution_count": null,
      "outputs": []
    },
    {
      "cell_type": "code",
      "metadata": {
        "id": "pb-Md-KJ0oZ4",
        "colab_type": "code",
        "colab": {}
      },
      "source": [
        "testing = pd.read_csv(\"https://raw.githubusercontent.com/Parasgr7/Google-Stock-Price-Prediction/master/Google_Stock_Price_Test.csv\")\n",
        "testing.head()"
      ],
      "execution_count": null,
      "outputs": []
    },
    {
      "cell_type": "code",
      "metadata": {
        "id": "uXxI0pBU03A5",
        "colab_type": "code",
        "colab": {}
      },
      "source": [
        "# taking the column of \"open\" value of stock price\n",
        "real_stock_price_test = testing.iloc[:, 1:2].values\n"
      ],
      "execution_count": null,
      "outputs": []
    },
    {
      "cell_type": "code",
      "metadata": {
        "id": "SUoEtjJh03e5",
        "colab_type": "code",
        "colab": {}
      },
      "source": [
        "# feature Scaling\n",
        "inputs = sc.transform(real_stock_price_test)"
      ],
      "execution_count": null,
      "outputs": []
    },
    {
      "cell_type": "code",
      "metadata": {
        "id": "VwbTNpA_05mE",
        "colab_type": "code",
        "colab": {}
      },
      "source": [
        "# reshaping\n",
        "inputs = np.reshape(inputs, (20, 1, 1))     # only 20 observations in testing set\n"
      ],
      "execution_count": null,
      "outputs": []
    },
    {
      "cell_type": "code",
      "metadata": {
        "id": "AJv96Fqx07ps",
        "colab_type": "code",
        "colab": {}
      },
      "source": [
        "# predicting the stock price (for the year 2017)\n",
        "predicted_stock_price_test = rnn_regressor.predict(inputs)     # but these are the scaled values"
      ],
      "execution_count": null,
      "outputs": []
    },
    {
      "cell_type": "code",
      "metadata": {
        "id": "iIMwKA-71EJM",
        "colab_type": "code",
        "colab": {}
      },
      "source": [
        "predicted_stock_price_test = sc.inverse_transform(predicted_stock_price_test)"
      ],
      "execution_count": null,
      "outputs": []
    },
    {
      "cell_type": "code",
      "metadata": {
        "id": "UhQzJlEG1G5D",
        "colab_type": "code",
        "colab": {}
      },
      "source": [
        "# visualizing the results for testing\n",
        "plt.figure(figsize=(20,10))\n",
        "plt.plot(real_stock_price_test, color = 'red', label='Real Google Stock Price')\n",
        "plt.plot(predicted_stock_price_test, color = 'blue', label='Predicted Google Stock Price')\n",
        "plt.title('Google Stock Price Prediction (Test Set)')\n",
        "plt.xlabel('Time')\n",
        "plt.ylabel('Stock Price')\n",
        "plt.legend()\n",
        "plt.show()"
      ],
      "execution_count": null,
      "outputs": []
    },
    {
      "cell_type": "code",
      "metadata": {
        "id": "6SDClhie1Jl6",
        "colab_type": "code",
        "colab": {}
      },
      "source": [
        "from sklearn.metrics import mean_squared_error\n",
        "rmse = np.sqrt(mean_squared_error(real_stock_price_test, predicted_stock_price_test))\n",
        "print('The RMSE value is', rmse)"
      ],
      "execution_count": null,
      "outputs": []
    },
    {
      "cell_type": "code",
      "metadata": {
        "id": "VeHBshmK1Lig",
        "colab_type": "code",
        "colab": {}
      },
      "source": [
        "print('RMSE in terms of % of the orignal value is', round((rmse/real_stock_price_test.mean()*100), 2) , '%')   \n",
        "# we take the avg because it would be a true representative of the real stock values"
      ],
      "execution_count": null,
      "outputs": []
    }
  ]
}