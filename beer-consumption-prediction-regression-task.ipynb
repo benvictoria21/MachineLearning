{
 "cells": [
  {
   "cell_type": "markdown",
   "metadata": {
    "papermill": {
     "duration": 0.014318,
     "end_time": "2020-12-06T23:37:20.126580",
     "exception": false,
     "start_time": "2020-12-06T23:37:20.112262",
     "status": "completed"
    },
    "tags": []
   },
   "source": [
    "# Task for Today  \n",
    "\n",
    "***\n",
    "\n",
    "## Beer Consumption Prediction  \n",
    "\n",
    "Given *data about beer consumption in São Paulo on different days of the year*, let's try to predict the **liters of beer** that will be consumed on a given day.  \n",
    "  \n",
    "We will use a various forms of linear regression to make our predictions."
   ]
  },
  {
   "cell_type": "code",
   "execution_count": 1,
   "metadata": {
    "_cell_guid": "79c7e3d0-c299-4dcb-8224-4455121ee9b0",
    "_uuid": "d629ff2d2480ee46fbb7e2d37f6b5fab8052498a",
    "execution": {
     "iopub.execute_input": "2020-12-06T23:37:20.161649Z",
     "iopub.status.busy": "2020-12-06T23:37:20.160875Z",
     "iopub.status.idle": "2020-12-06T23:37:21.362940Z",
     "shell.execute_reply": "2020-12-06T23:37:21.362303Z"
    },
    "papermill": {
     "duration": 1.221562,
     "end_time": "2020-12-06T23:37:21.363123",
     "exception": false,
     "start_time": "2020-12-06T23:37:20.141561",
     "status": "completed"
    },
    "tags": []
   },
   "outputs": [],
   "source": [
    "import numpy as np\n",
    "import pandas as pd\n",
    "\n",
    "import re\n",
    "from sklearn.preprocessing import StandardScaler\n",
    "from sklearn.model_selection import train_test_split\n",
    "\n",
    "from sklearn.linear_model import LinearRegression, Ridge, Lasso, ElasticNet, SGDRegressor, HuberRegressor"
   ]
  },
  {
   "cell_type": "code",
   "execution_count": 2,
   "metadata": {
    "execution": {
     "iopub.execute_input": "2020-12-06T23:37:21.401291Z",
     "iopub.status.busy": "2020-12-06T23:37:21.400241Z",
     "iopub.status.idle": "2020-12-06T23:37:21.412699Z",
     "shell.execute_reply": "2020-12-06T23:37:21.411910Z"
    },
    "papermill": {
     "duration": 0.036082,
     "end_time": "2020-12-06T23:37:21.412827",
     "exception": false,
     "start_time": "2020-12-06T23:37:21.376745",
     "status": "completed"
    },
    "tags": []
   },
   "outputs": [],
   "source": [
    "data = pd.read_csv('../input/beer-consumption-sao-paulo/Consumo_cerveja.csv')"
   ]
  },
  {
   "cell_type": "code",
   "execution_count": 3,
   "metadata": {
    "execution": {
     "iopub.execute_input": "2020-12-06T23:37:21.465582Z",
     "iopub.status.busy": "2020-12-06T23:37:21.464757Z",
     "iopub.status.idle": "2020-12-06T23:37:21.478201Z",
     "shell.execute_reply": "2020-12-06T23:37:21.478782Z"
    },
    "papermill": {
     "duration": 0.052475,
     "end_time": "2020-12-06T23:37:21.478934",
     "exception": false,
     "start_time": "2020-12-06T23:37:21.426459",
     "status": "completed"
    },
    "tags": []
   },
   "outputs": [
    {
     "data": {
      "text/html": [
       "<div>\n",
       "<style scoped>\n",
       "    .dataframe tbody tr th:only-of-type {\n",
       "        vertical-align: middle;\n",
       "    }\n",
       "\n",
       "    .dataframe tbody tr th {\n",
       "        vertical-align: top;\n",
       "    }\n",
       "\n",
       "    .dataframe thead th {\n",
       "        text-align: right;\n",
       "    }\n",
       "</style>\n",
       "<table border=\"1\" class=\"dataframe\">\n",
       "  <thead>\n",
       "    <tr style=\"text-align: right;\">\n",
       "      <th></th>\n",
       "      <th>Data</th>\n",
       "      <th>Temperatura Media (C)</th>\n",
       "      <th>Temperatura Minima (C)</th>\n",
       "      <th>Temperatura Maxima (C)</th>\n",
       "      <th>Precipitacao (mm)</th>\n",
       "      <th>Final de Semana</th>\n",
       "      <th>Consumo de cerveja (litros)</th>\n",
       "    </tr>\n",
       "  </thead>\n",
       "  <tbody>\n",
       "    <tr>\n",
       "      <th>0</th>\n",
       "      <td>2015-01-01</td>\n",
       "      <td>27,3</td>\n",
       "      <td>23,9</td>\n",
       "      <td>32,5</td>\n",
       "      <td>0</td>\n",
       "      <td>0.0</td>\n",
       "      <td>25.461</td>\n",
       "    </tr>\n",
       "    <tr>\n",
       "      <th>1</th>\n",
       "      <td>2015-01-02</td>\n",
       "      <td>27,02</td>\n",
       "      <td>24,5</td>\n",
       "      <td>33,5</td>\n",
       "      <td>0</td>\n",
       "      <td>0.0</td>\n",
       "      <td>28.972</td>\n",
       "    </tr>\n",
       "    <tr>\n",
       "      <th>2</th>\n",
       "      <td>2015-01-03</td>\n",
       "      <td>24,82</td>\n",
       "      <td>22,4</td>\n",
       "      <td>29,9</td>\n",
       "      <td>0</td>\n",
       "      <td>1.0</td>\n",
       "      <td>30.814</td>\n",
       "    </tr>\n",
       "    <tr>\n",
       "      <th>3</th>\n",
       "      <td>2015-01-04</td>\n",
       "      <td>23,98</td>\n",
       "      <td>21,5</td>\n",
       "      <td>28,6</td>\n",
       "      <td>1,2</td>\n",
       "      <td>1.0</td>\n",
       "      <td>29.799</td>\n",
       "    </tr>\n",
       "    <tr>\n",
       "      <th>4</th>\n",
       "      <td>2015-01-05</td>\n",
       "      <td>23,82</td>\n",
       "      <td>21</td>\n",
       "      <td>28,3</td>\n",
       "      <td>0</td>\n",
       "      <td>0.0</td>\n",
       "      <td>28.900</td>\n",
       "    </tr>\n",
       "    <tr>\n",
       "      <th>...</th>\n",
       "      <td>...</td>\n",
       "      <td>...</td>\n",
       "      <td>...</td>\n",
       "      <td>...</td>\n",
       "      <td>...</td>\n",
       "      <td>...</td>\n",
       "      <td>...</td>\n",
       "    </tr>\n",
       "    <tr>\n",
       "      <th>936</th>\n",
       "      <td>NaN</td>\n",
       "      <td>NaN</td>\n",
       "      <td>NaN</td>\n",
       "      <td>NaN</td>\n",
       "      <td>NaN</td>\n",
       "      <td>NaN</td>\n",
       "      <td>NaN</td>\n",
       "    </tr>\n",
       "    <tr>\n",
       "      <th>937</th>\n",
       "      <td>NaN</td>\n",
       "      <td>NaN</td>\n",
       "      <td>NaN</td>\n",
       "      <td>NaN</td>\n",
       "      <td>NaN</td>\n",
       "      <td>NaN</td>\n",
       "      <td>NaN</td>\n",
       "    </tr>\n",
       "    <tr>\n",
       "      <th>938</th>\n",
       "      <td>NaN</td>\n",
       "      <td>NaN</td>\n",
       "      <td>NaN</td>\n",
       "      <td>NaN</td>\n",
       "      <td>NaN</td>\n",
       "      <td>NaN</td>\n",
       "      <td>NaN</td>\n",
       "    </tr>\n",
       "    <tr>\n",
       "      <th>939</th>\n",
       "      <td>NaN</td>\n",
       "      <td>NaN</td>\n",
       "      <td>NaN</td>\n",
       "      <td>NaN</td>\n",
       "      <td>NaN</td>\n",
       "      <td>NaN</td>\n",
       "      <td>NaN</td>\n",
       "    </tr>\n",
       "    <tr>\n",
       "      <th>940</th>\n",
       "      <td>NaN</td>\n",
       "      <td>NaN</td>\n",
       "      <td>NaN</td>\n",
       "      <td>NaN</td>\n",
       "      <td>NaN</td>\n",
       "      <td>NaN</td>\n",
       "      <td>NaN</td>\n",
       "    </tr>\n",
       "  </tbody>\n",
       "</table>\n",
       "<p>941 rows × 7 columns</p>\n",
       "</div>"
      ],
      "text/plain": [
       "           Data Temperatura Media (C) Temperatura Minima (C)  \\\n",
       "0    2015-01-01                  27,3                   23,9   \n",
       "1    2015-01-02                 27,02                   24,5   \n",
       "2    2015-01-03                 24,82                   22,4   \n",
       "3    2015-01-04                 23,98                   21,5   \n",
       "4    2015-01-05                 23,82                     21   \n",
       "..          ...                   ...                    ...   \n",
       "936         NaN                   NaN                    NaN   \n",
       "937         NaN                   NaN                    NaN   \n",
       "938         NaN                   NaN                    NaN   \n",
       "939         NaN                   NaN                    NaN   \n",
       "940         NaN                   NaN                    NaN   \n",
       "\n",
       "    Temperatura Maxima (C) Precipitacao (mm)  Final de Semana  \\\n",
       "0                     32,5                 0              0.0   \n",
       "1                     33,5                 0              0.0   \n",
       "2                     29,9                 0              1.0   \n",
       "3                     28,6               1,2              1.0   \n",
       "4                     28,3                 0              0.0   \n",
       "..                     ...               ...              ...   \n",
       "936                    NaN               NaN              NaN   \n",
       "937                    NaN               NaN              NaN   \n",
       "938                    NaN               NaN              NaN   \n",
       "939                    NaN               NaN              NaN   \n",
       "940                    NaN               NaN              NaN   \n",
       "\n",
       "     Consumo de cerveja (litros)  \n",
       "0                         25.461  \n",
       "1                         28.972  \n",
       "2                         30.814  \n",
       "3                         29.799  \n",
       "4                         28.900  \n",
       "..                           ...  \n",
       "936                          NaN  \n",
       "937                          NaN  \n",
       "938                          NaN  \n",
       "939                          NaN  \n",
       "940                          NaN  \n",
       "\n",
       "[941 rows x 7 columns]"
      ]
     },
     "execution_count": 3,
     "metadata": {},
     "output_type": "execute_result"
    }
   ],
   "source": [
    "data"
   ]
  },
  {
   "cell_type": "code",
   "execution_count": 4,
   "metadata": {
    "execution": {
     "iopub.execute_input": "2020-12-06T23:37:21.524017Z",
     "iopub.status.busy": "2020-12-06T23:37:21.514263Z",
     "iopub.status.idle": "2020-12-06T23:37:21.529386Z",
     "shell.execute_reply": "2020-12-06T23:37:21.528749Z"
    },
    "papermill": {
     "duration": 0.035713,
     "end_time": "2020-12-06T23:37:21.529525",
     "exception": false,
     "start_time": "2020-12-06T23:37:21.493812",
     "status": "completed"
    },
    "tags": []
   },
   "outputs": [
    {
     "name": "stdout",
     "output_type": "stream",
     "text": [
      "<class 'pandas.core.frame.DataFrame'>\n",
      "RangeIndex: 941 entries, 0 to 940\n",
      "Data columns (total 7 columns):\n",
      " #   Column                       Non-Null Count  Dtype  \n",
      "---  ------                       --------------  -----  \n",
      " 0   Data                         365 non-null    object \n",
      " 1   Temperatura Media (C)        365 non-null    object \n",
      " 2   Temperatura Minima (C)       365 non-null    object \n",
      " 3   Temperatura Maxima (C)       365 non-null    object \n",
      " 4   Precipitacao (mm)            365 non-null    object \n",
      " 5   Final de Semana              365 non-null    float64\n",
      " 6   Consumo de cerveja (litros)  365 non-null    float64\n",
      "dtypes: float64(2), object(5)\n",
      "memory usage: 51.6+ KB\n"
     ]
    }
   ],
   "source": [
    "data.info()"
   ]
  },
  {
   "cell_type": "markdown",
   "metadata": {
    "papermill": {
     "duration": 0.015967,
     "end_time": "2020-12-06T23:37:21.561596",
     "exception": false,
     "start_time": "2020-12-06T23:37:21.545629",
     "status": "completed"
    },
    "tags": []
   },
   "source": [
    "# Preprocessing"
   ]
  },
  {
   "cell_type": "code",
   "execution_count": 5,
   "metadata": {
    "execution": {
     "iopub.execute_input": "2020-12-06T23:37:21.604357Z",
     "iopub.status.busy": "2020-12-06T23:37:21.603236Z",
     "iopub.status.idle": "2020-12-06T23:37:21.608807Z",
     "shell.execute_reply": "2020-12-06T23:37:21.607948Z"
    },
    "papermill": {
     "duration": 0.031328,
     "end_time": "2020-12-06T23:37:21.608949",
     "exception": false,
     "start_time": "2020-12-06T23:37:21.577621",
     "status": "completed"
    },
    "tags": []
   },
   "outputs": [
    {
     "data": {
      "text/plain": [
       "Data                           0.612115\n",
       "Temperatura Media (C)          0.612115\n",
       "Temperatura Minima (C)         0.612115\n",
       "Temperatura Maxima (C)         0.612115\n",
       "Precipitacao (mm)              0.612115\n",
       "Final de Semana                0.612115\n",
       "Consumo de cerveja (litros)    0.612115\n",
       "dtype: float64"
      ]
     },
     "execution_count": 5,
     "metadata": {},
     "output_type": "execute_result"
    }
   ],
   "source": [
    "data.isna().mean()"
   ]
  },
  {
   "cell_type": "code",
   "execution_count": 6,
   "metadata": {
    "execution": {
     "iopub.execute_input": "2020-12-06T23:37:21.659489Z",
     "iopub.status.busy": "2020-12-06T23:37:21.658347Z",
     "iopub.status.idle": "2020-12-06T23:37:21.661561Z",
     "shell.execute_reply": "2020-12-06T23:37:21.662146Z"
    },
    "papermill": {
     "duration": 0.036381,
     "end_time": "2020-12-06T23:37:21.662317",
     "exception": false,
     "start_time": "2020-12-06T23:37:21.625936",
     "status": "completed"
    },
    "tags": []
   },
   "outputs": [],
   "source": [
    "def preprocess_inputs(df):\n",
    "    df = df.copy()\n",
    "    \n",
    "    # Drop missing rows\n",
    "    df = df.dropna(axis=0).reset_index(drop=True)\n",
    "    \n",
    "    # Replace , with . in numeric columns\n",
    "    for column in ['Temperatura Media (C)', 'Temperatura Minima (C)' ,'Temperatura Maxima (C)', 'Precipitacao (mm)']:\n",
    "        df[column] = df[column].apply(lambda x: np.float(re.sub(r',', '.', x)))\n",
    "    \n",
    "    # Create date features\n",
    "    df['Data'] = pd.to_datetime(df['Data'])\n",
    "\n",
    "    df['Month'] = df['Data'].apply(lambda x: x.month)\n",
    "    df['Day'] = df['Data'].apply(lambda x: x.day)\n",
    "    \n",
    "    df = df.drop('Data', axis=1)\n",
    "    \n",
    "    # Split df into X and y\n",
    "    y = df['Consumo de cerveja (litros)'].copy()\n",
    "    X = df.drop('Consumo de cerveja (litros)', axis=1).copy()\n",
    "    \n",
    "    # Scale X with a standard scaler\n",
    "    scaler = StandardScaler()\n",
    "    X = pd.DataFrame(scaler.fit_transform(X), columns=X.columns)\n",
    "    \n",
    "    return X, y"
   ]
  },
  {
   "cell_type": "code",
   "execution_count": 7,
   "metadata": {
    "execution": {
     "iopub.execute_input": "2020-12-06T23:37:21.705194Z",
     "iopub.status.busy": "2020-12-06T23:37:21.704380Z",
     "iopub.status.idle": "2020-12-06T23:37:21.757601Z",
     "shell.execute_reply": "2020-12-06T23:37:21.756845Z"
    },
    "papermill": {
     "duration": 0.078143,
     "end_time": "2020-12-06T23:37:21.757740",
     "exception": false,
     "start_time": "2020-12-06T23:37:21.679597",
     "status": "completed"
    },
    "tags": []
   },
   "outputs": [],
   "source": [
    "X, y = preprocess_inputs(data)"
   ]
  },
  {
   "cell_type": "code",
   "execution_count": 8,
   "metadata": {
    "execution": {
     "iopub.execute_input": "2020-12-06T23:37:21.811831Z",
     "iopub.status.busy": "2020-12-06T23:37:21.810826Z",
     "iopub.status.idle": "2020-12-06T23:37:21.815723Z",
     "shell.execute_reply": "2020-12-06T23:37:21.815051Z"
    },
    "papermill": {
     "duration": 0.040885,
     "end_time": "2020-12-06T23:37:21.815853",
     "exception": false,
     "start_time": "2020-12-06T23:37:21.774968",
     "status": "completed"
    },
    "tags": []
   },
   "outputs": [
    {
     "data": {
      "text/html": [
       "<div>\n",
       "<style scoped>\n",
       "    .dataframe tbody tr th:only-of-type {\n",
       "        vertical-align: middle;\n",
       "    }\n",
       "\n",
       "    .dataframe tbody tr th {\n",
       "        vertical-align: top;\n",
       "    }\n",
       "\n",
       "    .dataframe thead th {\n",
       "        text-align: right;\n",
       "    }\n",
       "</style>\n",
       "<table border=\"1\" class=\"dataframe\">\n",
       "  <thead>\n",
       "    <tr style=\"text-align: right;\">\n",
       "      <th></th>\n",
       "      <th>Temperatura Media (C)</th>\n",
       "      <th>Temperatura Minima (C)</th>\n",
       "      <th>Temperatura Maxima (C)</th>\n",
       "      <th>Precipitacao (mm)</th>\n",
       "      <th>Final de Semana</th>\n",
       "      <th>Month</th>\n",
       "      <th>Day</th>\n",
       "    </tr>\n",
       "  </thead>\n",
       "  <tbody>\n",
       "    <tr>\n",
       "      <th>0</th>\n",
       "      <td>1.912508</td>\n",
       "      <td>2.281333</td>\n",
       "      <td>1.365781</td>\n",
       "      <td>-0.419062</td>\n",
       "      <td>-0.631243</td>\n",
       "      <td>-1.602745</td>\n",
       "      <td>-1.673503</td>\n",
       "    </tr>\n",
       "    <tr>\n",
       "      <th>1</th>\n",
       "      <td>1.824340</td>\n",
       "      <td>2.493924</td>\n",
       "      <td>1.597722</td>\n",
       "      <td>-0.419062</td>\n",
       "      <td>-0.631243</td>\n",
       "      <td>-1.602745</td>\n",
       "      <td>-1.559818</td>\n",
       "    </tr>\n",
       "    <tr>\n",
       "      <th>2</th>\n",
       "      <td>1.131590</td>\n",
       "      <td>1.749853</td>\n",
       "      <td>0.762735</td>\n",
       "      <td>-0.419062</td>\n",
       "      <td>1.584177</td>\n",
       "      <td>-1.602745</td>\n",
       "      <td>-1.446134</td>\n",
       "    </tr>\n",
       "    <tr>\n",
       "      <th>3</th>\n",
       "      <td>0.867085</td>\n",
       "      <td>1.430966</td>\n",
       "      <td>0.461212</td>\n",
       "      <td>-0.322294</td>\n",
       "      <td>1.584177</td>\n",
       "      <td>-1.602745</td>\n",
       "      <td>-1.332449</td>\n",
       "    </tr>\n",
       "    <tr>\n",
       "      <th>4</th>\n",
       "      <td>0.816703</td>\n",
       "      <td>1.253806</td>\n",
       "      <td>0.391630</td>\n",
       "      <td>-0.419062</td>\n",
       "      <td>-0.631243</td>\n",
       "      <td>-1.602745</td>\n",
       "      <td>-1.218764</td>\n",
       "    </tr>\n",
       "    <tr>\n",
       "      <th>...</th>\n",
       "      <td>...</td>\n",
       "      <td>...</td>\n",
       "      <td>...</td>\n",
       "      <td>...</td>\n",
       "      <td>...</td>\n",
       "      <td>...</td>\n",
       "      <td>...</td>\n",
       "    </tr>\n",
       "    <tr>\n",
       "      <th>360</th>\n",
       "      <td>0.873383</td>\n",
       "      <td>1.289238</td>\n",
       "      <td>0.368436</td>\n",
       "      <td>0.677640</td>\n",
       "      <td>1.584177</td>\n",
       "      <td>1.587648</td>\n",
       "      <td>1.282303</td>\n",
       "    </tr>\n",
       "    <tr>\n",
       "      <th>361</th>\n",
       "      <td>0.445137</td>\n",
       "      <td>1.289238</td>\n",
       "      <td>0.020525</td>\n",
       "      <td>-0.419062</td>\n",
       "      <td>-0.631243</td>\n",
       "      <td>1.587648</td>\n",
       "      <td>1.395988</td>\n",
       "    </tr>\n",
       "    <tr>\n",
       "      <th>362</th>\n",
       "      <td>0.142846</td>\n",
       "      <td>1.005782</td>\n",
       "      <td>-0.582521</td>\n",
       "      <td>0.411528</td>\n",
       "      <td>-0.631243</td>\n",
       "      <td>1.587648</td>\n",
       "      <td>1.509672</td>\n",
       "    </tr>\n",
       "    <tr>\n",
       "      <th>363</th>\n",
       "      <td>0.048380</td>\n",
       "      <td>0.651463</td>\n",
       "      <td>-0.976820</td>\n",
       "      <td>0.088969</td>\n",
       "      <td>-0.631243</td>\n",
       "      <td>1.587648</td>\n",
       "      <td>1.623357</td>\n",
       "    </tr>\n",
       "    <tr>\n",
       "      <th>364</th>\n",
       "      <td>1.112696</td>\n",
       "      <td>0.970350</td>\n",
       "      <td>0.553989</td>\n",
       "      <td>-0.419062</td>\n",
       "      <td>-0.631243</td>\n",
       "      <td>1.587648</td>\n",
       "      <td>1.737042</td>\n",
       "    </tr>\n",
       "  </tbody>\n",
       "</table>\n",
       "<p>365 rows × 7 columns</p>\n",
       "</div>"
      ],
      "text/plain": [
       "     Temperatura Media (C)  Temperatura Minima (C)  Temperatura Maxima (C)  \\\n",
       "0                 1.912508                2.281333                1.365781   \n",
       "1                 1.824340                2.493924                1.597722   \n",
       "2                 1.131590                1.749853                0.762735   \n",
       "3                 0.867085                1.430966                0.461212   \n",
       "4                 0.816703                1.253806                0.391630   \n",
       "..                     ...                     ...                     ...   \n",
       "360               0.873383                1.289238                0.368436   \n",
       "361               0.445137                1.289238                0.020525   \n",
       "362               0.142846                1.005782               -0.582521   \n",
       "363               0.048380                0.651463               -0.976820   \n",
       "364               1.112696                0.970350                0.553989   \n",
       "\n",
       "     Precipitacao (mm)  Final de Semana     Month       Day  \n",
       "0            -0.419062        -0.631243 -1.602745 -1.673503  \n",
       "1            -0.419062        -0.631243 -1.602745 -1.559818  \n",
       "2            -0.419062         1.584177 -1.602745 -1.446134  \n",
       "3            -0.322294         1.584177 -1.602745 -1.332449  \n",
       "4            -0.419062        -0.631243 -1.602745 -1.218764  \n",
       "..                 ...              ...       ...       ...  \n",
       "360           0.677640         1.584177  1.587648  1.282303  \n",
       "361          -0.419062        -0.631243  1.587648  1.395988  \n",
       "362           0.411528        -0.631243  1.587648  1.509672  \n",
       "363           0.088969        -0.631243  1.587648  1.623357  \n",
       "364          -0.419062        -0.631243  1.587648  1.737042  \n",
       "\n",
       "[365 rows x 7 columns]"
      ]
     },
     "execution_count": 8,
     "metadata": {},
     "output_type": "execute_result"
    }
   ],
   "source": [
    "X"
   ]
  },
  {
   "cell_type": "code",
   "execution_count": 9,
   "metadata": {
    "execution": {
     "iopub.execute_input": "2020-12-06T23:37:21.860314Z",
     "iopub.status.busy": "2020-12-06T23:37:21.859352Z",
     "iopub.status.idle": "2020-12-06T23:37:21.863410Z",
     "shell.execute_reply": "2020-12-06T23:37:21.863962Z"
    },
    "papermill": {
     "duration": 0.030057,
     "end_time": "2020-12-06T23:37:21.864150",
     "exception": false,
     "start_time": "2020-12-06T23:37:21.834093",
     "status": "completed"
    },
    "tags": []
   },
   "outputs": [
    {
     "data": {
      "text/plain": [
       "Temperatura Media (C)     float64\n",
       "Temperatura Minima (C)    float64\n",
       "Temperatura Maxima (C)    float64\n",
       "Precipitacao (mm)         float64\n",
       "Final de Semana           float64\n",
       "Month                     float64\n",
       "Day                       float64\n",
       "dtype: object"
      ]
     },
     "execution_count": 9,
     "metadata": {},
     "output_type": "execute_result"
    }
   ],
   "source": [
    "X.dtypes"
   ]
  },
  {
   "cell_type": "code",
   "execution_count": 10,
   "metadata": {
    "execution": {
     "iopub.execute_input": "2020-12-06T23:37:21.909970Z",
     "iopub.status.busy": "2020-12-06T23:37:21.908952Z",
     "iopub.status.idle": "2020-12-06T23:37:21.914222Z",
     "shell.execute_reply": "2020-12-06T23:37:21.913607Z"
    },
    "papermill": {
     "duration": 0.031359,
     "end_time": "2020-12-06T23:37:21.914356",
     "exception": false,
     "start_time": "2020-12-06T23:37:21.882997",
     "status": "completed"
    },
    "tags": []
   },
   "outputs": [
    {
     "data": {
      "text/plain": [
       "0      25.461\n",
       "1      28.972\n",
       "2      30.814\n",
       "3      29.799\n",
       "4      28.900\n",
       "        ...  \n",
       "360    32.307\n",
       "361    26.095\n",
       "362    22.309\n",
       "363    20.467\n",
       "364    22.446\n",
       "Name: Consumo de cerveja (litros), Length: 365, dtype: float64"
      ]
     },
     "execution_count": 10,
     "metadata": {},
     "output_type": "execute_result"
    }
   ],
   "source": [
    "y"
   ]
  },
  {
   "cell_type": "markdown",
   "metadata": {
    "papermill": {
     "duration": 0.019165,
     "end_time": "2020-12-06T23:37:21.954001",
     "exception": false,
     "start_time": "2020-12-06T23:37:21.934836",
     "status": "completed"
    },
    "tags": []
   },
   "source": [
    "# Training"
   ]
  },
  {
   "cell_type": "code",
   "execution_count": 11,
   "metadata": {
    "execution": {
     "iopub.execute_input": "2020-12-06T23:37:22.001566Z",
     "iopub.status.busy": "2020-12-06T23:37:22.000509Z",
     "iopub.status.idle": "2020-12-06T23:37:22.003859Z",
     "shell.execute_reply": "2020-12-06T23:37:22.003234Z"
    },
    "papermill": {
     "duration": 0.030652,
     "end_time": "2020-12-06T23:37:22.003995",
     "exception": false,
     "start_time": "2020-12-06T23:37:21.973343",
     "status": "completed"
    },
    "tags": []
   },
   "outputs": [],
   "source": [
    "X_train, X_test, y_train, y_test = train_test_split(X, y, train_size=0.7, random_state=123)"
   ]
  },
  {
   "cell_type": "code",
   "execution_count": 12,
   "metadata": {
    "execution": {
     "iopub.execute_input": "2020-12-06T23:37:22.070841Z",
     "iopub.status.busy": "2020-12-06T23:37:22.052910Z",
     "iopub.status.idle": "2020-12-06T23:37:22.182112Z",
     "shell.execute_reply": "2020-12-06T23:37:22.181462Z"
    },
    "papermill": {
     "duration": 0.158616,
     "end_time": "2020-12-06T23:37:22.182279",
     "exception": false,
     "start_time": "2020-12-06T23:37:22.023663",
     "status": "completed"
    },
    "tags": []
   },
   "outputs": [],
   "source": [
    "models = {\n",
    "    '    Linear Regression': LinearRegression(),\n",
    "    '     Ridge Regression': Ridge(),\n",
    "    '     Lasso Regression': Lasso(),\n",
    "    'ElasticNet Regression': ElasticNet(),\n",
    "    '       SGD Regression': SGDRegressor(),\n",
    "    '     Huber Regression': HuberRegressor()\n",
    "}\n",
    "\n",
    "for model in models.values():\n",
    "    model.fit(X_train, y_train)"
   ]
  },
  {
   "cell_type": "code",
   "execution_count": 13,
   "metadata": {
    "execution": {
     "iopub.execute_input": "2020-12-06T23:37:22.244110Z",
     "iopub.status.busy": "2020-12-06T23:37:22.238741Z",
     "iopub.status.idle": "2020-12-06T23:37:22.249899Z",
     "shell.execute_reply": "2020-12-06T23:37:22.249040Z"
    },
    "papermill": {
     "duration": 0.047898,
     "end_time": "2020-12-06T23:37:22.250074",
     "exception": false,
     "start_time": "2020-12-06T23:37:22.202176",
     "status": "completed"
    },
    "tags": []
   },
   "outputs": [
    {
     "name": "stdout",
     "output_type": "stream",
     "text": [
      "    Linear Regression R^2 Score: 0.6896\n",
      "     Ridge Regression R^2 Score: 0.6909\n",
      "     Lasso Regression R^2 Score: 0.5763\n",
      "ElasticNet Regression R^2 Score: 0.5646\n",
      "       SGD Regression R^2 Score: 0.6934\n",
      "     Huber Regression R^2 Score: 0.6699\n"
     ]
    }
   ],
   "source": [
    "for name, model in models.items():\n",
    "    print(name + \" R^2 Score: {:.4f}\".format(model.score(X_test, y_test)))"
   ]
  },
  {
   "cell_type": "markdown",
   "metadata": {
    "papermill": {
     "duration": 0.02029,
     "end_time": "2020-12-06T23:37:22.291212",
     "exception": false,
     "start_time": "2020-12-06T23:37:22.270922",
     "status": "completed"
    },
    "tags": []
   },
   "source": [
    "# Data Every Day  \n",
    "\n",
    "This notebook is featured on Data Every Day, a YouTube series where I train models on a new dataset each day.  \n",
    "\n",
    "***\n",
    "\n",
    "Check it out!  \n",
    "https://youtu.be/c5EnOo27loE"
   ]
  }
 ],
 "metadata": {
  "kernelspec": {
   "display_name": "Python 3",
   "language": "python",
   "name": "python3"
  },
  "language_info": {
   "codemirror_mode": {
    "name": "ipython",
    "version": 3
   },
   "file_extension": ".py",
   "mimetype": "text/x-python",
   "name": "python",
   "nbconvert_exporter": "python",
   "pygments_lexer": "ipython3",
   "version": "3.7.6"
  },
  "papermill": {
   "duration": 7.487662,
   "end_time": "2020-12-06T23:37:22.424060",
   "environment_variables": {},
   "exception": null,
   "input_path": "__notebook__.ipynb",
   "output_path": "__notebook__.ipynb",
   "parameters": {},
   "start_time": "2020-12-06T23:37:14.936398",
   "version": "2.1.0"
  }
 },
 "nbformat": 4,
 "nbformat_minor": 4
}
