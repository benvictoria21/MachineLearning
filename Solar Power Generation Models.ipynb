{
 "cells": [
  {
   "cell_type": "code",
   "execution_count": 3,
   "metadata": {},
   "outputs": [],
   "source": [
    "import matplotlib.pyplot as plt \n",
    "import seaborn as sns \n",
    "import pandas as pd \n",
    "import numpy as np "
   ]
  },
  {
   "cell_type": "code",
   "execution_count": 4,
   "metadata": {},
   "outputs": [
    {
     "name": "stdout",
     "output_type": "stream",
     "text": [
      "Missing Generation Values: Plant 1 \n",
      "--------------------------------------------------------------------------------\n",
      "DATE_TIME      0\n",
      "PLANT_ID       0\n",
      "SOURCE_KEY     0\n",
      "DC_POWER       0\n",
      "AC_POWER       0\n",
      "DAILY_YIELD    0\n",
      "TOTAL_YIELD    0\n",
      "dtype: int64\n",
      "\n",
      "\n",
      "Missing Weather Sensor Values: Plant 1 \n",
      "--------------------------------------------------------------------------------\n",
      "DATE_TIME              0\n",
      "PLANT_ID               0\n",
      "SOURCE_KEY             0\n",
      "AMBIENT_TEMPERATURE    0\n",
      "MODULE_TEMPERATURE     0\n",
      "IRRADIATION            0\n",
      "dtype: int64\n",
      "\n",
      "\n",
      "Missing Generation Values: Plant 2 \n",
      "--------------------------------------------------------------------------------\n",
      "DATE_TIME      0\n",
      "PLANT_ID       0\n",
      "SOURCE_KEY     0\n",
      "DC_POWER       0\n",
      "AC_POWER       0\n",
      "DAILY_YIELD    0\n",
      "TOTAL_YIELD    0\n",
      "dtype: int64\n",
      "\n",
      "\n",
      "Missing Weather Sensor Values: Plant 2 \n",
      "--------------------------------------------------------------------------------\n",
      "DATE_TIME              0\n",
      "PLANT_ID               0\n",
      "SOURCE_KEY             0\n",
      "AMBIENT_TEMPERATURE    0\n",
      "MODULE_TEMPERATURE     0\n",
      "IRRADIATION            0\n",
      "dtype: int64\n"
     ]
    }
   ],
   "source": [
    "plant1_generation = pd.read_csv(\"https://raw.githubusercontent.com/benvictoria21/pandas/master/dataset/Solar%20Power%20Generation%20Data/Plant_1_Generation_Data.csv\")\n",
    "plant1_sensor = pd.read_csv(\"https://raw.githubusercontent.com/benvictoria21/pandas/master/dataset/Solar%20Power%20Generation%20Data/Plant_1_Weather_Sensor_Data.csv\")\n",
    "plant2_generation = pd.read_csv(\"https://raw.githubusercontent.com/benvictoria21/pandas/master/dataset/Solar%20Power%20Generation%20Data/Plant_2_Weather_Sensor_Data.csv\")\n",
    "plant2_sensor = pd.read_csv(\"https://raw.githubusercontent.com/benvictoria21/pandas/master/dataset/Solar%20Power%20Generation%20Data/Plant_2_Generation_Data.csv\")\n",
    "\n",
    "print(\"Missing Generation Values: Plant 1 \\n\" + '-' * 80)\n",
    "print(plant1_generation.isnull().sum())\n",
    "\n",
    "print('\\n')\n",
    "\n",
    "print(\"Missing Weather Sensor Values: Plant 1 \\n\" + '-' * 80)\n",
    "print(plant1_sensor.isnull().sum())\n",
    "print('\\n')\n",
    "\n",
    "print(\"Missing Generation Values: Plant 2 \\n\" + '-' * 80)\n",
    "print(plant1_generation.isnull().sum())\n",
    "\n",
    "print('\\n')\n",
    "\n",
    "print(\"Missing Weather Sensor Values: Plant 2 \\n\" + '-' * 80)\n",
    "print(plant1_sensor.isnull().sum())"
   ]
  },
  {
   "cell_type": "code",
   "execution_count": 6,
   "metadata": {},
   "outputs": [],
   "source": [
    "def process_time (data):\n",
    "    \"\"\"\n",
    "    Date time observations are recorded at 15 minute intervals\n",
    "    make sure that the date times are in the correct format\n",
    "    \n",
    "    Additionally add Features to utilize in futher analysis\n",
    "    \n",
    "    \"\"\"\n",
    "    data['DATE_TIME'] = pd.to_datetime(data['DATE_TIME'])\n",
    "\n",
    "    data['DATE'] = data['DATE_TIME'].dt.date\n",
    "    data['HOUR'] = data['DATE_TIME'].dt.hour\n",
    "\n",
    "    return data\n",
    "\n",
    "plant1_generation = process_time(plant1_generation)\n",
    "plant1_sensor = process_time(plant1_sensor)\n",
    "\n",
    "plant2_generation = process_time(plant2_generation)\n",
    "plant2_sensor = process_time(plant2_sensor)"
   ]
  },
  {
   "cell_type": "code",
   "execution_count": 7,
   "metadata": {},
   "outputs": [],
   "source": [
    "def ranking_of_mean_inverter_daily_yield(data, plant):\n",
    "    \n",
    "    # get a list of daily_yield values with no duplicates\n",
    "    data = data.sort_values(['SOURCE_KEY', 'DATE_TIME', 'DAILY_YIELD']).drop_duplicates(['SOURCE_KEY', 'DATE'], keep='last')\n",
    "    \n",
    "    inverter_output_means = pd.DataFrame()\n",
    "    \n",
    "    # for each individual inverter sum up the daily \n",
    "    for inverter in data['SOURCE_KEY'].unique():\n",
    "        \n",
    "        inverter_mean = data[data['SOURCE_KEY'] == inverter]['DAILY_YIELD'].mean()\n",
    "        \n",
    "        inverter_output_means = inverter_output_means.append({'SOURCE_KEY': inverter, 'DAILY_YIELD_MEAN': inverter_mean}, ignore_index=True)\n",
    "            \n",
    "    inverter_output_means = inverter_output_means.sort_values(['DAILY_YIELD_MEAN'], ascending=False).reset_index(drop=True)\n",
    "    \n",
    "    return inverter_output_means"
   ]
  }
 ],
 "metadata": {
  "kernelspec": {
   "display_name": "Python 3",
   "language": "python",
   "name": "python3"
  },
  "language_info": {
   "codemirror_mode": {
    "name": "ipython",
    "version": 3
   },
   "file_extension": ".py",
   "mimetype": "text/x-python",
   "name": "python",
   "nbconvert_exporter": "python",
   "pygments_lexer": "ipython3",
   "version": "3.8.3"
  }
 },
 "nbformat": 4,
 "nbformat_minor": 4
}
