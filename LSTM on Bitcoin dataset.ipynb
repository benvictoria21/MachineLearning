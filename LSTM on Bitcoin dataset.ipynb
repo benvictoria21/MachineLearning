{
 "cells": [
  {
   "cell_type": "code",
   "execution_count": 8,
   "metadata": {},
   "outputs": [],
   "source": [
    "import numpy as np \n",
    "import pandas as pd\n",
    "from sklearn.preprocessing import MinMaxScaler\n",
    "from tensorflow import keras\n",
    "from tensorflow.keras.layers import Dense, LSTM, Dropout, Flatten\n",
    "from tensorflow.keras import Sequential\n",
    "import matplotlib.pyplot as plt \n",
    "from statsmodels.graphics.tsaplots import plot_acf"
   ]
  },
  {
   "cell_type": "code",
   "execution_count": 9,
   "metadata": {},
   "outputs": [],
   "source": [
    "bitDS = pd.read_csv(\"dataset/bitstampUSD_1-min_data_2012-01-01_to_2020-12-31.csv\")"
   ]
  },
  {
   "cell_type": "code",
   "execution_count": 10,
   "metadata": {},
   "outputs": [
    {
     "data": {
      "text/html": [
       "<div>\n",
       "<style scoped>\n",
       "    .dataframe tbody tr th:only-of-type {\n",
       "        vertical-align: middle;\n",
       "    }\n",
       "\n",
       "    .dataframe tbody tr th {\n",
       "        vertical-align: top;\n",
       "    }\n",
       "\n",
       "    .dataframe thead th {\n",
       "        text-align: right;\n",
       "    }\n",
       "</style>\n",
       "<table border=\"1\" class=\"dataframe\">\n",
       "  <thead>\n",
       "    <tr style=\"text-align: right;\">\n",
       "      <th></th>\n",
       "      <th>Timestamp</th>\n",
       "      <th>Open</th>\n",
       "      <th>High</th>\n",
       "      <th>Low</th>\n",
       "      <th>Close</th>\n",
       "      <th>Volume_(BTC)</th>\n",
       "      <th>Volume_(Currency)</th>\n",
       "      <th>Weighted_Price</th>\n",
       "    </tr>\n",
       "  </thead>\n",
       "  <tbody>\n",
       "    <tr>\n",
       "      <th>0</th>\n",
       "      <td>1325317920</td>\n",
       "      <td>4.39</td>\n",
       "      <td>4.39</td>\n",
       "      <td>4.39</td>\n",
       "      <td>4.39</td>\n",
       "      <td>0.455581</td>\n",
       "      <td>2.0</td>\n",
       "      <td>4.39</td>\n",
       "    </tr>\n",
       "    <tr>\n",
       "      <th>1</th>\n",
       "      <td>1325317980</td>\n",
       "      <td>NaN</td>\n",
       "      <td>NaN</td>\n",
       "      <td>NaN</td>\n",
       "      <td>NaN</td>\n",
       "      <td>NaN</td>\n",
       "      <td>NaN</td>\n",
       "      <td>NaN</td>\n",
       "    </tr>\n",
       "    <tr>\n",
       "      <th>2</th>\n",
       "      <td>1325318040</td>\n",
       "      <td>NaN</td>\n",
       "      <td>NaN</td>\n",
       "      <td>NaN</td>\n",
       "      <td>NaN</td>\n",
       "      <td>NaN</td>\n",
       "      <td>NaN</td>\n",
       "      <td>NaN</td>\n",
       "    </tr>\n",
       "    <tr>\n",
       "      <th>3</th>\n",
       "      <td>1325318100</td>\n",
       "      <td>NaN</td>\n",
       "      <td>NaN</td>\n",
       "      <td>NaN</td>\n",
       "      <td>NaN</td>\n",
       "      <td>NaN</td>\n",
       "      <td>NaN</td>\n",
       "      <td>NaN</td>\n",
       "    </tr>\n",
       "    <tr>\n",
       "      <th>4</th>\n",
       "      <td>1325318160</td>\n",
       "      <td>NaN</td>\n",
       "      <td>NaN</td>\n",
       "      <td>NaN</td>\n",
       "      <td>NaN</td>\n",
       "      <td>NaN</td>\n",
       "      <td>NaN</td>\n",
       "      <td>NaN</td>\n",
       "    </tr>\n",
       "  </tbody>\n",
       "</table>\n",
       "</div>"
      ],
      "text/plain": [
       "    Timestamp  Open  High   Low  Close  Volume_(BTC)  Volume_(Currency)  \\\n",
       "0  1325317920  4.39  4.39  4.39   4.39      0.455581                2.0   \n",
       "1  1325317980   NaN   NaN   NaN    NaN           NaN                NaN   \n",
       "2  1325318040   NaN   NaN   NaN    NaN           NaN                NaN   \n",
       "3  1325318100   NaN   NaN   NaN    NaN           NaN                NaN   \n",
       "4  1325318160   NaN   NaN   NaN    NaN           NaN                NaN   \n",
       "\n",
       "   Weighted_Price  \n",
       "0            4.39  \n",
       "1             NaN  \n",
       "2             NaN  \n",
       "3             NaN  \n",
       "4             NaN  "
      ]
     },
     "execution_count": 10,
     "metadata": {},
     "output_type": "execute_result"
    }
   ],
   "source": [
    "bitDS.head()"
   ]
  },
  {
   "cell_type": "code",
   "execution_count": 11,
   "metadata": {},
   "outputs": [],
   "source": [
    "bitDS[\"Timestamp\"] = pd.to_datetime(bitDS[\"Timestamp\"] ,unit=\"s\").dt.date"
   ]
  },
  {
   "cell_type": "code",
   "execution_count": 12,
   "metadata": {},
   "outputs": [
    {
     "data": {
      "text/html": [
       "<div>\n",
       "<style scoped>\n",
       "    .dataframe tbody tr th:only-of-type {\n",
       "        vertical-align: middle;\n",
       "    }\n",
       "\n",
       "    .dataframe tbody tr th {\n",
       "        vertical-align: top;\n",
       "    }\n",
       "\n",
       "    .dataframe thead th {\n",
       "        text-align: right;\n",
       "    }\n",
       "</style>\n",
       "<table border=\"1\" class=\"dataframe\">\n",
       "  <thead>\n",
       "    <tr style=\"text-align: right;\">\n",
       "      <th></th>\n",
       "      <th>Timestamp</th>\n",
       "      <th>Open</th>\n",
       "      <th>High</th>\n",
       "      <th>Low</th>\n",
       "      <th>Close</th>\n",
       "      <th>Volume_(BTC)</th>\n",
       "      <th>Volume_(Currency)</th>\n",
       "      <th>Weighted_Price</th>\n",
       "    </tr>\n",
       "  </thead>\n",
       "  <tbody>\n",
       "    <tr>\n",
       "      <th>0</th>\n",
       "      <td>2011-12-31</td>\n",
       "      <td>4.39</td>\n",
       "      <td>4.39</td>\n",
       "      <td>4.39</td>\n",
       "      <td>4.39</td>\n",
       "      <td>0.455581</td>\n",
       "      <td>2.0</td>\n",
       "      <td>4.39</td>\n",
       "    </tr>\n",
       "    <tr>\n",
       "      <th>1</th>\n",
       "      <td>2011-12-31</td>\n",
       "      <td>NaN</td>\n",
       "      <td>NaN</td>\n",
       "      <td>NaN</td>\n",
       "      <td>NaN</td>\n",
       "      <td>NaN</td>\n",
       "      <td>NaN</td>\n",
       "      <td>NaN</td>\n",
       "    </tr>\n",
       "    <tr>\n",
       "      <th>2</th>\n",
       "      <td>2011-12-31</td>\n",
       "      <td>NaN</td>\n",
       "      <td>NaN</td>\n",
       "      <td>NaN</td>\n",
       "      <td>NaN</td>\n",
       "      <td>NaN</td>\n",
       "      <td>NaN</td>\n",
       "      <td>NaN</td>\n",
       "    </tr>\n",
       "    <tr>\n",
       "      <th>3</th>\n",
       "      <td>2011-12-31</td>\n",
       "      <td>NaN</td>\n",
       "      <td>NaN</td>\n",
       "      <td>NaN</td>\n",
       "      <td>NaN</td>\n",
       "      <td>NaN</td>\n",
       "      <td>NaN</td>\n",
       "      <td>NaN</td>\n",
       "    </tr>\n",
       "    <tr>\n",
       "      <th>4</th>\n",
       "      <td>2011-12-31</td>\n",
       "      <td>NaN</td>\n",
       "      <td>NaN</td>\n",
       "      <td>NaN</td>\n",
       "      <td>NaN</td>\n",
       "      <td>NaN</td>\n",
       "      <td>NaN</td>\n",
       "      <td>NaN</td>\n",
       "    </tr>\n",
       "  </tbody>\n",
       "</table>\n",
       "</div>"
      ],
      "text/plain": [
       "    Timestamp  Open  High   Low  Close  Volume_(BTC)  Volume_(Currency)  \\\n",
       "0  2011-12-31  4.39  4.39  4.39   4.39      0.455581                2.0   \n",
       "1  2011-12-31   NaN   NaN   NaN    NaN           NaN                NaN   \n",
       "2  2011-12-31   NaN   NaN   NaN    NaN           NaN                NaN   \n",
       "3  2011-12-31   NaN   NaN   NaN    NaN           NaN                NaN   \n",
       "4  2011-12-31   NaN   NaN   NaN    NaN           NaN                NaN   \n",
       "\n",
       "   Weighted_Price  \n",
       "0            4.39  \n",
       "1             NaN  \n",
       "2             NaN  \n",
       "3             NaN  \n",
       "4             NaN  "
      ]
     },
     "execution_count": 12,
     "metadata": {},
     "output_type": "execute_result"
    }
   ],
   "source": [
    "bitDS.head()"
   ]
  },
  {
   "cell_type": "code",
   "execution_count": 13,
   "metadata": {},
   "outputs": [],
   "source": [
    "group = bitDS.groupby('Timestamp')\n",
    "ds = group['Weighted_Price'].mean()"
   ]
  },
  {
   "cell_type": "code",
   "execution_count": 14,
   "metadata": {},
   "outputs": [
    {
     "data": {
      "text/plain": [
       "Timestamp\n",
       "2011-12-31    4.471603\n",
       "2012-01-01    4.806667\n",
       "2012-01-02    5.000000\n",
       "2012-01-03    5.252500\n",
       "2012-01-04    5.208159\n",
       "2012-01-05    6.284127\n",
       "2012-01-06    6.438999\n",
       "2012-01-07    6.800000\n",
       "2012-01-08    6.950000\n",
       "2012-01-09    6.582770\n",
       "Name: Weighted_Price, dtype: float64"
      ]
     },
     "execution_count": 14,
     "metadata": {},
     "output_type": "execute_result"
    }
   ],
   "source": [
    "ds.head(10)"
   ]
  },
  {
   "cell_type": "code",
   "execution_count": 15,
   "metadata": {},
   "outputs": [
    {
     "name": "stdout",
     "output_type": "stream",
     "text": [
      "Nr. of observations in the train set (3236,)\n",
      "Nr. of observations in the test set (50,)\n"
     ]
    }
   ],
   "source": [
    "# last 50 rows as the test data.\n",
    "train_df = ds.iloc[0: -50]\n",
    "test_df = ds.iloc[-50:]\n",
    "print(\"Nr. of observations in the train set\",train_df.shape)\n",
    "print(\"Nr. of observations in the test set\",test_df.shape)"
   ]
  },
  {
   "cell_type": "code",
   "execution_count": 16,
   "metadata": {},
   "outputs": [],
   "source": [
    "#Convert to 1-dimensional\n",
    "training_values = train_df.values\n",
    "training_values = np.reshape(training_values, (len(training_values), 1))\n",
    "\n",
    "#Scale data\n",
    "scaler = MinMaxScaler()\n",
    "training_values = scaler.fit_transform(training_values)\n",
    "x_train = training_values[0: len(training_values)-1]\n",
    "y_train = training_values[1: len(training_values)]\n",
    "x_train = np.reshape(x_train, (len(x_train), 1, 1))"
   ]
  },
  {
   "cell_type": "code",
   "execution_count": 17,
   "metadata": {},
   "outputs": [],
   "source": [
    "model = Sequential()\n",
    "model.add(LSTM(10,input_shape = (None,1), activation=\"relu\", return_sequences=True))\n",
    "\n",
    "model.add(Dense(1))"
   ]
  },
  {
   "cell_type": "code",
   "execution_count": 18,
   "metadata": {},
   "outputs": [],
   "source": [
    "model.compile(loss=\"mean_squared_error\",optimizer=\"adam\")"
   ]
  },
  {
   "cell_type": "code",
   "execution_count": 19,
   "metadata": {},
   "outputs": [
    {
     "data": {
      "text/plain": [
       "(3235, 1)"
      ]
     },
     "execution_count": 19,
     "metadata": {},
     "output_type": "execute_result"
    }
   ],
   "source": [
    "y_train.shape"
   ]
  },
  {
   "cell_type": "code",
   "execution_count": 20,
   "metadata": {},
   "outputs": [
    {
     "name": "stdout",
     "output_type": "stream",
     "text": [
      "Epoch 1/50\n",
      "102/102 [==============================] - 0s 1ms/step - loss: 0.0542\n",
      "Epoch 2/50\n",
      "102/102 [==============================] - 0s 1ms/step - loss: 0.0353\n",
      "Epoch 3/50\n",
      "102/102 [==============================] - 0s 1ms/step - loss: 0.0278\n",
      "Epoch 4/50\n",
      "102/102 [==============================] - 0s 1ms/step - loss: 0.0194\n",
      "Epoch 5/50\n",
      "102/102 [==============================] - 0s 1ms/step - loss: 0.0110\n",
      "Epoch 6/50\n",
      "102/102 [==============================] - 0s 1ms/step - loss: 0.0048\n",
      "Epoch 7/50\n",
      "102/102 [==============================] - 0s 1ms/step - loss: 0.0017\n",
      "Epoch 8/50\n",
      "102/102 [==============================] - 0s 1ms/step - loss: 6.3596e-04\n",
      "Epoch 9/50\n",
      "102/102 [==============================] - 0s 1ms/step - loss: 3.9580e-04\n",
      "Epoch 10/50\n",
      "102/102 [==============================] - 0s 1ms/step - loss: 3.4908e-04\n",
      "Epoch 11/50\n",
      "102/102 [==============================] - 0s 1ms/step - loss: 3.4088e-04\n",
      "Epoch 12/50\n",
      "102/102 [==============================] - 0s 1ms/step - loss: 3.3558e-04\n",
      "Epoch 13/50\n",
      "102/102 [==============================] - 0s 1ms/step - loss: 3.3207e-04\n",
      "Epoch 14/50\n",
      "102/102 [==============================] - 0s 1ms/step - loss: 3.2389e-04\n",
      "Epoch 15/50\n",
      "102/102 [==============================] - 0s 1ms/step - loss: 3.1821e-04\n",
      "Epoch 16/50\n",
      "102/102 [==============================] - 0s 1ms/step - loss: 3.1207e-04\n",
      "Epoch 17/50\n",
      "102/102 [==============================] - 0s 1ms/step - loss: 3.0263e-04\n",
      "Epoch 18/50\n",
      "102/102 [==============================] - 0s 1ms/step - loss: 2.9291e-04\n",
      "Epoch 19/50\n",
      "102/102 [==============================] - 0s 1ms/step - loss: 2.8597e-04\n",
      "Epoch 20/50\n",
      "102/102 [==============================] - 0s 1ms/step - loss: 2.7874e-04\n",
      "Epoch 21/50\n",
      "102/102 [==============================] - 0s 1ms/step - loss: 2.7297e-04\n",
      "Epoch 22/50\n",
      "102/102 [==============================] - 0s 1ms/step - loss: 2.6490e-04\n",
      "Epoch 23/50\n",
      "102/102 [==============================] - 0s 1ms/step - loss: 2.5959e-04\n",
      "Epoch 24/50\n",
      "102/102 [==============================] - 0s 1ms/step - loss: 2.7166e-04\n",
      "Epoch 25/50\n",
      "102/102 [==============================] - 0s 1ms/step - loss: 2.4478e-04\n",
      "Epoch 26/50\n",
      "102/102 [==============================] - 0s 1ms/step - loss: 2.3636e-04\n",
      "Epoch 27/50\n",
      "102/102 [==============================] - 0s 1ms/step - loss: 2.3091e-04\n",
      "Epoch 28/50\n",
      "102/102 [==============================] - 0s 999us/step - loss: 2.2218e-04\n",
      "Epoch 29/50\n",
      "102/102 [==============================] - 0s 1ms/step - loss: 2.1659e-04\n",
      "Epoch 30/50\n",
      "102/102 [==============================] - 0s 995us/step - loss: 2.1051e-04\n",
      "Epoch 31/50\n",
      "102/102 [==============================] - 0s 1ms/step - loss: 2.0300e-04\n",
      "Epoch 32/50\n",
      "102/102 [==============================] - 0s 1ms/step - loss: 1.9507e-04\n",
      "Epoch 33/50\n",
      "102/102 [==============================] - 0s 1ms/step - loss: 1.8528e-04\n",
      "Epoch 34/50\n",
      "102/102 [==============================] - 0s 1ms/step - loss: 1.7753e-04\n",
      "Epoch 35/50\n",
      "102/102 [==============================] - 0s 1ms/step - loss: 1.6860e-04\n",
      "Epoch 36/50\n",
      "102/102 [==============================] - 0s 981us/step - loss: 1.6252e-04\n",
      "Epoch 37/50\n",
      "102/102 [==============================] - 0s 1ms/step - loss: 1.5394e-04\n",
      "Epoch 38/50\n",
      "102/102 [==============================] - 0s 985us/step - loss: 1.4520e-04\n",
      "Epoch 39/50\n",
      "102/102 [==============================] - 0s 1ms/step - loss: 1.4139e-04\n",
      "Epoch 40/50\n",
      "102/102 [==============================] - 0s 1ms/step - loss: 1.3489e-04\n",
      "Epoch 41/50\n",
      "102/102 [==============================] - 0s 1ms/step - loss: 1.2804e-04\n",
      "Epoch 42/50\n",
      "102/102 [==============================] - 0s 1ms/step - loss: 1.2135e-04\n",
      "Epoch 43/50\n",
      "102/102 [==============================] - 0s 1ms/step - loss: 1.1768e-04\n",
      "Epoch 44/50\n",
      "102/102 [==============================] - 0s 1ms/step - loss: 1.1875e-04\n",
      "Epoch 45/50\n",
      "102/102 [==============================] - 0s 1ms/step - loss: 1.1181e-04\n",
      "Epoch 46/50\n",
      "102/102 [==============================] - 0s 1ms/step - loss: 1.1007e-04\n",
      "Epoch 47/50\n",
      "102/102 [==============================] - 0s 1ms/step - loss: 1.1078e-04\n",
      "Epoch 48/50\n",
      "102/102 [==============================] - 0s 1ms/step - loss: 1.0868e-04\n",
      "Epoch 49/50\n",
      "102/102 [==============================] - 0s 1ms/step - loss: 1.1014e-04\n",
      "Epoch 50/50\n",
      "102/102 [==============================] - 0s 1ms/step - loss: 1.1120e-04\n"
     ]
    },
    {
     "data": {
      "text/plain": [
       "<tensorflow.python.keras.callbacks.History at 0x7f9faf31f130>"
      ]
     },
     "execution_count": 20,
     "metadata": {},
     "output_type": "execute_result"
    }
   ],
   "source": [
    "model.fit(x_train,y_train,epochs=50,batch_size=32)"
   ]
  },
  {
   "cell_type": "code",
   "execution_count": null,
   "metadata": {},
   "outputs": [],
   "source": []
  },
  {
   "cell_type": "code",
   "execution_count": null,
   "metadata": {},
   "outputs": [],
   "source": []
  }
 ],
 "metadata": {
  "kernelspec": {
   "display_name": "Python 3",
   "language": "python",
   "name": "python3"
  },
  "language_info": {
   "codemirror_mode": {
    "name": "ipython",
    "version": 3
   },
   "file_extension": ".py",
   "mimetype": "text/x-python",
   "name": "python",
   "nbconvert_exporter": "python",
   "pygments_lexer": "ipython3",
   "version": "3.8.3"
  }
 },
 "nbformat": 4,
 "nbformat_minor": 4
}
