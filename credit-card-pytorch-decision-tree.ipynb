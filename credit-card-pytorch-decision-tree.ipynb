{
 "cells": [
  {
   "cell_type": "markdown",
   "metadata": {
    "papermill": {
     "duration": 0.010351,
     "end_time": "2021-03-15T02:01:51.624343",
     "exception": false,
     "start_time": "2021-03-15T02:01:51.613992",
     "status": "completed"
    },
    "tags": []
   },
   "source": [
    "<div>\n",
    "    <img src=\"https://storage.googleapis.com/kaggle-datasets-images/312305/633246/752964d08f6001573444649668b0b011/dataset-cover.jpg?t=2019-08-22-03-58-44\" class=\"Header_CoverImg-sc-1431b7d ibFJYv\">\n",
    "</div>"
   ]
  },
  {
   "cell_type": "code",
   "execution_count": 1,
   "metadata": {
    "_kg_hide-input": true,
    "execution": {
     "iopub.execute_input": "2021-03-15T02:01:51.651614Z",
     "iopub.status.busy": "2021-03-15T02:01:51.650857Z",
     "iopub.status.idle": "2021-03-15T02:01:58.620958Z",
     "shell.execute_reply": "2021-03-15T02:01:58.620202Z"
    },
    "papermill": {
     "duration": 6.987485,
     "end_time": "2021-03-15T02:01:58.621196",
     "exception": false,
     "start_time": "2021-03-15T02:01:51.633711",
     "status": "completed"
    },
    "tags": []
   },
   "outputs": [],
   "source": [
    "import keras\n",
    "from keras import regularizers, optimizers\n",
    "from keras import losses\n",
    "from keras.models import Sequential, Model, load_model\n",
    "from keras.layers import Dense, Input, Dropout, Embedding, LSTM\n",
    "from keras.optimizers import RMSprop, Adam, Nadam\n",
    "from keras.preprocessing import sequence\n",
    "\n",
    "import torch\n",
    "from torch import nn\n",
    "from functools import reduce\n",
    "\n",
    "import sklearn\n",
    "from sklearn.preprocessing import StandardScaler, MinMaxScaler\n",
    "from sklearn.model_selection import train_test_split\n",
    "from sklearn.metrics import confusion_matrix, roc_auc_score\n",
    "from sklearn.metrics import classification_report\n",
    "from sklearn.metrics import roc_auc_score\n",
    "from sklearn.preprocessing import LabelBinarizer\n",
    "\n",
    "import seaborn as sns\n",
    "import pandas as pd\n",
    "import numpy as np\n",
    "import matplotlib\n",
    "\n",
    "import matplotlib.pyplot as plt\n",
    "import matplotlib.gridspec as gridspec\n",
    "%matplotlib inline\n",
    "\n",
    "import tensorflow\n",
    "import sys"
   ]
  },
  {
   "cell_type": "markdown",
   "metadata": {
    "papermill": {
     "duration": 0.008536,
     "end_time": "2021-03-15T02:01:58.639340",
     "exception": false,
     "start_time": "2021-03-15T02:01:58.630804",
     "status": "completed"
    },
    "tags": []
   },
   "source": [
    "<h1 id=\"dataset\" style=\"color:#a97828; background:#4dc5ea;\"> \n",
    "    <center>Dataset\n",
    "        <a class=\"anchor-link\" href=\"#dataset\" target=\"_self\">¶</a>\n",
    "    </center>\n",
    "</h1>"
   ]
  },
  {
   "cell_type": "code",
   "execution_count": 2,
   "metadata": {
    "execution": {
     "iopub.execute_input": "2021-03-15T02:01:58.661636Z",
     "iopub.status.busy": "2021-03-15T02:01:58.660943Z",
     "iopub.status.idle": "2021-03-15T02:02:02.349575Z",
     "shell.execute_reply": "2021-03-15T02:02:02.348995Z"
    },
    "papermill": {
     "duration": 3.701661,
     "end_time": "2021-03-15T02:02:02.349711",
     "exception": false,
     "start_time": "2021-03-15T02:01:58.648050",
     "status": "completed"
    },
    "tags": []
   },
   "outputs": [
    {
     "data": {
      "text/html": [
       "<div>\n",
       "<style scoped>\n",
       "    .dataframe tbody tr th:only-of-type {\n",
       "        vertical-align: middle;\n",
       "    }\n",
       "\n",
       "    .dataframe tbody tr th {\n",
       "        vertical-align: top;\n",
       "    }\n",
       "\n",
       "    .dataframe thead th {\n",
       "        text-align: right;\n",
       "    }\n",
       "</style>\n",
       "<table border=\"1\" class=\"dataframe\">\n",
       "  <thead>\n",
       "    <tr style=\"text-align: right;\">\n",
       "      <th></th>\n",
       "      <th>Time</th>\n",
       "      <th>V1</th>\n",
       "      <th>V2</th>\n",
       "      <th>V3</th>\n",
       "      <th>V4</th>\n",
       "      <th>V5</th>\n",
       "      <th>V6</th>\n",
       "      <th>V7</th>\n",
       "      <th>V8</th>\n",
       "      <th>V9</th>\n",
       "      <th>...</th>\n",
       "      <th>V21</th>\n",
       "      <th>V22</th>\n",
       "      <th>V23</th>\n",
       "      <th>V24</th>\n",
       "      <th>V25</th>\n",
       "      <th>V26</th>\n",
       "      <th>V27</th>\n",
       "      <th>V28</th>\n",
       "      <th>Amount</th>\n",
       "      <th>Class</th>\n",
       "    </tr>\n",
       "  </thead>\n",
       "  <tbody>\n",
       "    <tr>\n",
       "      <th>0</th>\n",
       "      <td>0.0</td>\n",
       "      <td>-1.359807</td>\n",
       "      <td>-0.072781</td>\n",
       "      <td>2.536347</td>\n",
       "      <td>1.378155</td>\n",
       "      <td>-0.338321</td>\n",
       "      <td>0.462388</td>\n",
       "      <td>0.239599</td>\n",
       "      <td>0.098698</td>\n",
       "      <td>0.363787</td>\n",
       "      <td>...</td>\n",
       "      <td>-0.018307</td>\n",
       "      <td>0.277838</td>\n",
       "      <td>-0.110474</td>\n",
       "      <td>0.066928</td>\n",
       "      <td>0.128539</td>\n",
       "      <td>-0.189115</td>\n",
       "      <td>0.133558</td>\n",
       "      <td>-0.021053</td>\n",
       "      <td>149.62</td>\n",
       "      <td>0</td>\n",
       "    </tr>\n",
       "    <tr>\n",
       "      <th>1</th>\n",
       "      <td>0.0</td>\n",
       "      <td>1.191857</td>\n",
       "      <td>0.266151</td>\n",
       "      <td>0.166480</td>\n",
       "      <td>0.448154</td>\n",
       "      <td>0.060018</td>\n",
       "      <td>-0.082361</td>\n",
       "      <td>-0.078803</td>\n",
       "      <td>0.085102</td>\n",
       "      <td>-0.255425</td>\n",
       "      <td>...</td>\n",
       "      <td>-0.225775</td>\n",
       "      <td>-0.638672</td>\n",
       "      <td>0.101288</td>\n",
       "      <td>-0.339846</td>\n",
       "      <td>0.167170</td>\n",
       "      <td>0.125895</td>\n",
       "      <td>-0.008983</td>\n",
       "      <td>0.014724</td>\n",
       "      <td>2.69</td>\n",
       "      <td>0</td>\n",
       "    </tr>\n",
       "    <tr>\n",
       "      <th>2</th>\n",
       "      <td>1.0</td>\n",
       "      <td>-1.358354</td>\n",
       "      <td>-1.340163</td>\n",
       "      <td>1.773209</td>\n",
       "      <td>0.379780</td>\n",
       "      <td>-0.503198</td>\n",
       "      <td>1.800499</td>\n",
       "      <td>0.791461</td>\n",
       "      <td>0.247676</td>\n",
       "      <td>-1.514654</td>\n",
       "      <td>...</td>\n",
       "      <td>0.247998</td>\n",
       "      <td>0.771679</td>\n",
       "      <td>0.909412</td>\n",
       "      <td>-0.689281</td>\n",
       "      <td>-0.327642</td>\n",
       "      <td>-0.139097</td>\n",
       "      <td>-0.055353</td>\n",
       "      <td>-0.059752</td>\n",
       "      <td>378.66</td>\n",
       "      <td>0</td>\n",
       "    </tr>\n",
       "    <tr>\n",
       "      <th>3</th>\n",
       "      <td>1.0</td>\n",
       "      <td>-0.966272</td>\n",
       "      <td>-0.185226</td>\n",
       "      <td>1.792993</td>\n",
       "      <td>-0.863291</td>\n",
       "      <td>-0.010309</td>\n",
       "      <td>1.247203</td>\n",
       "      <td>0.237609</td>\n",
       "      <td>0.377436</td>\n",
       "      <td>-1.387024</td>\n",
       "      <td>...</td>\n",
       "      <td>-0.108300</td>\n",
       "      <td>0.005274</td>\n",
       "      <td>-0.190321</td>\n",
       "      <td>-1.175575</td>\n",
       "      <td>0.647376</td>\n",
       "      <td>-0.221929</td>\n",
       "      <td>0.062723</td>\n",
       "      <td>0.061458</td>\n",
       "      <td>123.50</td>\n",
       "      <td>0</td>\n",
       "    </tr>\n",
       "    <tr>\n",
       "      <th>4</th>\n",
       "      <td>2.0</td>\n",
       "      <td>-1.158233</td>\n",
       "      <td>0.877737</td>\n",
       "      <td>1.548718</td>\n",
       "      <td>0.403034</td>\n",
       "      <td>-0.407193</td>\n",
       "      <td>0.095921</td>\n",
       "      <td>0.592941</td>\n",
       "      <td>-0.270533</td>\n",
       "      <td>0.817739</td>\n",
       "      <td>...</td>\n",
       "      <td>-0.009431</td>\n",
       "      <td>0.798278</td>\n",
       "      <td>-0.137458</td>\n",
       "      <td>0.141267</td>\n",
       "      <td>-0.206010</td>\n",
       "      <td>0.502292</td>\n",
       "      <td>0.219422</td>\n",
       "      <td>0.215153</td>\n",
       "      <td>69.99</td>\n",
       "      <td>0</td>\n",
       "    </tr>\n",
       "  </tbody>\n",
       "</table>\n",
       "<p>5 rows × 31 columns</p>\n",
       "</div>"
      ],
      "text/plain": [
       "   Time        V1        V2        V3        V4        V5        V6        V7  \\\n",
       "0   0.0 -1.359807 -0.072781  2.536347  1.378155 -0.338321  0.462388  0.239599   \n",
       "1   0.0  1.191857  0.266151  0.166480  0.448154  0.060018 -0.082361 -0.078803   \n",
       "2   1.0 -1.358354 -1.340163  1.773209  0.379780 -0.503198  1.800499  0.791461   \n",
       "3   1.0 -0.966272 -0.185226  1.792993 -0.863291 -0.010309  1.247203  0.237609   \n",
       "4   2.0 -1.158233  0.877737  1.548718  0.403034 -0.407193  0.095921  0.592941   \n",
       "\n",
       "         V8        V9  ...       V21       V22       V23       V24       V25  \\\n",
       "0  0.098698  0.363787  ... -0.018307  0.277838 -0.110474  0.066928  0.128539   \n",
       "1  0.085102 -0.255425  ... -0.225775 -0.638672  0.101288 -0.339846  0.167170   \n",
       "2  0.247676 -1.514654  ...  0.247998  0.771679  0.909412 -0.689281 -0.327642   \n",
       "3  0.377436 -1.387024  ... -0.108300  0.005274 -0.190321 -1.175575  0.647376   \n",
       "4 -0.270533  0.817739  ... -0.009431  0.798278 -0.137458  0.141267 -0.206010   \n",
       "\n",
       "        V26       V27       V28  Amount  Class  \n",
       "0 -0.189115  0.133558 -0.021053  149.62      0  \n",
       "1  0.125895 -0.008983  0.014724    2.69      0  \n",
       "2 -0.139097 -0.055353 -0.059752  378.66      0  \n",
       "3 -0.221929  0.062723  0.061458  123.50      0  \n",
       "4  0.502292  0.219422  0.215153   69.99      0  \n",
       "\n",
       "[5 rows x 31 columns]"
      ]
     },
     "execution_count": 2,
     "metadata": {},
     "output_type": "execute_result"
    }
   ],
   "source": [
    "path = '../input/creditcardfraud/creditcard.csv'\n",
    "df = pd.read_csv(path, sep=\",\", index_col=None)\n",
    "df.head()"
   ]
  },
  {
   "cell_type": "code",
   "execution_count": 3,
   "metadata": {
    "execution": {
     "iopub.execute_input": "2021-03-15T02:02:02.371923Z",
     "iopub.status.busy": "2021-03-15T02:02:02.371411Z",
     "iopub.status.idle": "2021-03-15T02:02:02.387798Z",
     "shell.execute_reply": "2021-03-15T02:02:02.388237Z"
    },
    "papermill": {
     "duration": 0.028766,
     "end_time": "2021-03-15T02:02:02.388404",
     "exception": false,
     "start_time": "2021-03-15T02:02:02.359638",
     "status": "completed"
    },
    "tags": []
   },
   "outputs": [],
   "source": [
    "# Standardize\n",
    "df['Amount'] = StandardScaler().fit_transform(df['Amount'].values.reshape(-1, 1))\n",
    "df['Time'] = StandardScaler().fit_transform(df['Time'].values.reshape(-1, 1))"
   ]
  },
  {
   "cell_type": "code",
   "execution_count": 4,
   "metadata": {
    "execution": {
     "iopub.execute_input": "2021-03-15T02:02:02.412297Z",
     "iopub.status.busy": "2021-03-15T02:02:02.411683Z",
     "iopub.status.idle": "2021-03-15T02:02:02.472834Z",
     "shell.execute_reply": "2021-03-15T02:02:02.472306Z"
    },
    "papermill": {
     "duration": 0.074793,
     "end_time": "2021-03-15T02:02:02.472964",
     "exception": false,
     "start_time": "2021-03-15T02:02:02.398171",
     "status": "completed"
    },
    "tags": []
   },
   "outputs": [
    {
     "data": {
      "text/plain": [
       "((492, 31), (284315, 31))"
      ]
     },
     "execution_count": 4,
     "metadata": {},
     "output_type": "execute_result"
    }
   ],
   "source": [
    "anomalies = df[df[\"Class\"] == 1]\n",
    "normal = df[df[\"Class\"] == 0]\n",
    "\n",
    "anomalies.shape, normal.shape"
   ]
  },
  {
   "cell_type": "code",
   "execution_count": 5,
   "metadata": {
    "execution": {
     "iopub.execute_input": "2021-03-15T02:02:02.499388Z",
     "iopub.status.busy": "2021-03-15T02:02:02.498579Z",
     "iopub.status.idle": "2021-03-15T02:02:03.863524Z",
     "shell.execute_reply": "2021-03-15T02:02:03.864049Z"
    },
    "papermill": {
     "duration": 1.381076,
     "end_time": "2021-03-15T02:02:03.864250",
     "exception": false,
     "start_time": "2021-03-15T02:02:02.483174",
     "status": "completed"
    },
    "tags": []
   },
   "outputs": [
    {
     "data": {
      "text/html": [
       "<div>\n",
       "<style scoped>\n",
       "    .dataframe tbody tr th:only-of-type {\n",
       "        vertical-align: middle;\n",
       "    }\n",
       "\n",
       "    .dataframe tbody tr th {\n",
       "        vertical-align: top;\n",
       "    }\n",
       "\n",
       "    .dataframe thead th {\n",
       "        text-align: right;\n",
       "    }\n",
       "</style>\n",
       "<table border=\"1\" class=\"dataframe\">\n",
       "  <thead>\n",
       "    <tr style=\"text-align: right;\">\n",
       "      <th></th>\n",
       "      <th>Time</th>\n",
       "      <th>V1</th>\n",
       "      <th>V2</th>\n",
       "      <th>V3</th>\n",
       "      <th>V4</th>\n",
       "      <th>V5</th>\n",
       "      <th>V6</th>\n",
       "      <th>V7</th>\n",
       "      <th>V8</th>\n",
       "      <th>V9</th>\n",
       "      <th>...</th>\n",
       "      <th>V21</th>\n",
       "      <th>V22</th>\n",
       "      <th>V23</th>\n",
       "      <th>V24</th>\n",
       "      <th>V25</th>\n",
       "      <th>V26</th>\n",
       "      <th>V27</th>\n",
       "      <th>V28</th>\n",
       "      <th>Amount</th>\n",
       "      <th>Class</th>\n",
       "    </tr>\n",
       "  </thead>\n",
       "  <tbody>\n",
       "    <tr>\n",
       "      <th>314</th>\n",
       "      <td>-1.991803</td>\n",
       "      <td>-1.465381</td>\n",
       "      <td>1.382172</td>\n",
       "      <td>1.019790</td>\n",
       "      <td>0.250367</td>\n",
       "      <td>1.011414</td>\n",
       "      <td>-1.281807</td>\n",
       "      <td>1.186866</td>\n",
       "      <td>-0.312608</td>\n",
       "      <td>-0.701503</td>\n",
       "      <td>...</td>\n",
       "      <td>-0.038147</td>\n",
       "      <td>0.083481</td>\n",
       "      <td>-0.266017</td>\n",
       "      <td>0.270833</td>\n",
       "      <td>0.754353</td>\n",
       "      <td>-0.491529</td>\n",
       "      <td>-0.689819</td>\n",
       "      <td>-0.329374</td>\n",
       "      <td>-0.349231</td>\n",
       "      <td>0</td>\n",
       "    </tr>\n",
       "    <tr>\n",
       "      <th>623</th>\n",
       "      <td>-1.986644</td>\n",
       "      <td>-3.043541</td>\n",
       "      <td>-3.157307</td>\n",
       "      <td>1.088463</td>\n",
       "      <td>2.288644</td>\n",
       "      <td>1.359805</td>\n",
       "      <td>-1.064823</td>\n",
       "      <td>0.325574</td>\n",
       "      <td>-0.067794</td>\n",
       "      <td>-0.270953</td>\n",
       "      <td>...</td>\n",
       "      <td>0.661696</td>\n",
       "      <td>0.435477</td>\n",
       "      <td>1.375966</td>\n",
       "      <td>-0.293803</td>\n",
       "      <td>0.279798</td>\n",
       "      <td>-0.145362</td>\n",
       "      <td>-0.252773</td>\n",
       "      <td>0.035764</td>\n",
       "      <td>1.761758</td>\n",
       "      <td>1</td>\n",
       "    </tr>\n",
       "    <tr>\n",
       "      <th>660</th>\n",
       "      <td>-1.986075</td>\n",
       "      <td>1.255439</td>\n",
       "      <td>0.307729</td>\n",
       "      <td>0.292700</td>\n",
       "      <td>0.699873</td>\n",
       "      <td>-0.428876</td>\n",
       "      <td>-1.088456</td>\n",
       "      <td>0.043840</td>\n",
       "      <td>-0.167739</td>\n",
       "      <td>0.128854</td>\n",
       "      <td>...</td>\n",
       "      <td>-0.294795</td>\n",
       "      <td>-0.882126</td>\n",
       "      <td>0.136846</td>\n",
       "      <td>0.327949</td>\n",
       "      <td>0.194459</td>\n",
       "      <td>0.096516</td>\n",
       "      <td>-0.027271</td>\n",
       "      <td>0.029491</td>\n",
       "      <td>-0.345313</td>\n",
       "      <td>0</td>\n",
       "    </tr>\n",
       "    <tr>\n",
       "      <th>995</th>\n",
       "      <td>-1.980769</td>\n",
       "      <td>-0.654892</td>\n",
       "      <td>0.608319</td>\n",
       "      <td>1.585102</td>\n",
       "      <td>-3.009429</td>\n",
       "      <td>0.037593</td>\n",
       "      <td>-1.954023</td>\n",
       "      <td>1.335977</td>\n",
       "      <td>-0.612858</td>\n",
       "      <td>0.690254</td>\n",
       "      <td>...</td>\n",
       "      <td>-0.078527</td>\n",
       "      <td>-0.064194</td>\n",
       "      <td>-0.107350</td>\n",
       "      <td>0.961776</td>\n",
       "      <td>-0.067760</td>\n",
       "      <td>-0.549465</td>\n",
       "      <td>-0.232588</td>\n",
       "      <td>-0.108261</td>\n",
       "      <td>-0.337637</td>\n",
       "      <td>0</td>\n",
       "    </tr>\n",
       "    <tr>\n",
       "      <th>1130</th>\n",
       "      <td>-1.978157</td>\n",
       "      <td>-0.801063</td>\n",
       "      <td>1.224553</td>\n",
       "      <td>1.213950</td>\n",
       "      <td>-0.235286</td>\n",
       "      <td>0.262738</td>\n",
       "      <td>-0.199323</td>\n",
       "      <td>0.687000</td>\n",
       "      <td>0.045986</td>\n",
       "      <td>-0.037147</td>\n",
       "      <td>...</td>\n",
       "      <td>-0.305861</td>\n",
       "      <td>-0.529589</td>\n",
       "      <td>0.006725</td>\n",
       "      <td>-0.057861</td>\n",
       "      <td>-0.203208</td>\n",
       "      <td>0.067636</td>\n",
       "      <td>0.302593</td>\n",
       "      <td>-0.011637</td>\n",
       "      <td>-0.317646</td>\n",
       "      <td>0</td>\n",
       "    </tr>\n",
       "    <tr>\n",
       "      <th>1318</th>\n",
       "      <td>-1.974809</td>\n",
       "      <td>1.484290</td>\n",
       "      <td>-0.156178</td>\n",
       "      <td>-0.851332</td>\n",
       "      <td>-0.707935</td>\n",
       "      <td>-0.079623</td>\n",
       "      <td>-1.030003</td>\n",
       "      <td>-0.034543</td>\n",
       "      <td>-0.354563</td>\n",
       "      <td>-1.096599</td>\n",
       "      <td>...</td>\n",
       "      <td>0.136015</td>\n",
       "      <td>0.347476</td>\n",
       "      <td>-0.314847</td>\n",
       "      <td>-0.482617</td>\n",
       "      <td>0.927893</td>\n",
       "      <td>0.012160</td>\n",
       "      <td>-0.015183</td>\n",
       "      <td>0.015955</td>\n",
       "      <td>-0.273308</td>\n",
       "      <td>0</td>\n",
       "    </tr>\n",
       "    <tr>\n",
       "      <th>1361</th>\n",
       "      <td>-1.974325</td>\n",
       "      <td>-1.441258</td>\n",
       "      <td>0.674872</td>\n",
       "      <td>2.685483</td>\n",
       "      <td>0.243826</td>\n",
       "      <td>-0.558726</td>\n",
       "      <td>0.764201</td>\n",
       "      <td>0.143656</td>\n",
       "      <td>0.054985</td>\n",
       "      <td>1.554454</td>\n",
       "      <td>...</td>\n",
       "      <td>-0.357498</td>\n",
       "      <td>-0.051798</td>\n",
       "      <td>-0.462233</td>\n",
       "      <td>-0.029358</td>\n",
       "      <td>0.418554</td>\n",
       "      <td>0.362262</td>\n",
       "      <td>-0.432949</td>\n",
       "      <td>-0.531989</td>\n",
       "      <td>-0.224731</td>\n",
       "      <td>0</td>\n",
       "    </tr>\n",
       "    <tr>\n",
       "      <th>1619</th>\n",
       "      <td>-1.970134</td>\n",
       "      <td>1.350757</td>\n",
       "      <td>-0.332866</td>\n",
       "      <td>0.001453</td>\n",
       "      <td>-0.594763</td>\n",
       "      <td>-0.684586</td>\n",
       "      <td>-0.827280</td>\n",
       "      <td>-0.482697</td>\n",
       "      <td>-0.221653</td>\n",
       "      <td>-0.862776</td>\n",
       "      <td>...</td>\n",
       "      <td>0.050748</td>\n",
       "      <td>0.038799</td>\n",
       "      <td>-0.110279</td>\n",
       "      <td>-0.169617</td>\n",
       "      <td>0.452921</td>\n",
       "      <td>-0.259139</td>\n",
       "      <td>0.028261</td>\n",
       "      <td>0.049768</td>\n",
       "      <td>-0.153725</td>\n",
       "      <td>0</td>\n",
       "    </tr>\n",
       "    <tr>\n",
       "      <th>1654</th>\n",
       "      <td>-1.969629</td>\n",
       "      <td>-1.376445</td>\n",
       "      <td>1.614006</td>\n",
       "      <td>0.699273</td>\n",
       "      <td>0.021092</td>\n",
       "      <td>-0.792064</td>\n",
       "      <td>-1.030669</td>\n",
       "      <td>-0.022974</td>\n",
       "      <td>0.810584</td>\n",
       "      <td>-0.482901</td>\n",
       "      <td>...</td>\n",
       "      <td>-0.180650</td>\n",
       "      <td>-0.675246</td>\n",
       "      <td>0.084872</td>\n",
       "      <td>0.354099</td>\n",
       "      <td>-0.111750</td>\n",
       "      <td>0.081781</td>\n",
       "      <td>0.138413</td>\n",
       "      <td>0.030719</td>\n",
       "      <td>-0.281304</td>\n",
       "      <td>0</td>\n",
       "    </tr>\n",
       "    <tr>\n",
       "      <th>1664</th>\n",
       "      <td>-1.969397</td>\n",
       "      <td>-1.120905</td>\n",
       "      <td>-0.483700</td>\n",
       "      <td>2.574720</td>\n",
       "      <td>0.231856</td>\n",
       "      <td>0.573274</td>\n",
       "      <td>1.416503</td>\n",
       "      <td>-0.276340</td>\n",
       "      <td>0.559585</td>\n",
       "      <td>0.452086</td>\n",
       "      <td>...</td>\n",
       "      <td>0.171236</td>\n",
       "      <td>0.684320</td>\n",
       "      <td>0.244240</td>\n",
       "      <td>-0.607268</td>\n",
       "      <td>-0.621754</td>\n",
       "      <td>0.348224</td>\n",
       "      <td>-0.020175</td>\n",
       "      <td>-0.092693</td>\n",
       "      <td>-0.094593</td>\n",
       "      <td>0</td>\n",
       "    </tr>\n",
       "  </tbody>\n",
       "</table>\n",
       "<p>10 rows × 31 columns</p>\n",
       "</div>"
      ],
      "text/plain": [
       "          Time        V1        V2        V3        V4        V5        V6  \\\n",
       "314  -1.991803 -1.465381  1.382172  1.019790  0.250367  1.011414 -1.281807   \n",
       "623  -1.986644 -3.043541 -3.157307  1.088463  2.288644  1.359805 -1.064823   \n",
       "660  -1.986075  1.255439  0.307729  0.292700  0.699873 -0.428876 -1.088456   \n",
       "995  -1.980769 -0.654892  0.608319  1.585102 -3.009429  0.037593 -1.954023   \n",
       "1130 -1.978157 -0.801063  1.224553  1.213950 -0.235286  0.262738 -0.199323   \n",
       "1318 -1.974809  1.484290 -0.156178 -0.851332 -0.707935 -0.079623 -1.030003   \n",
       "1361 -1.974325 -1.441258  0.674872  2.685483  0.243826 -0.558726  0.764201   \n",
       "1619 -1.970134  1.350757 -0.332866  0.001453 -0.594763 -0.684586 -0.827280   \n",
       "1654 -1.969629 -1.376445  1.614006  0.699273  0.021092 -0.792064 -1.030669   \n",
       "1664 -1.969397 -1.120905 -0.483700  2.574720  0.231856  0.573274  1.416503   \n",
       "\n",
       "            V7        V8        V9  ...       V21       V22       V23  \\\n",
       "314   1.186866 -0.312608 -0.701503  ... -0.038147  0.083481 -0.266017   \n",
       "623   0.325574 -0.067794 -0.270953  ...  0.661696  0.435477  1.375966   \n",
       "660   0.043840 -0.167739  0.128854  ... -0.294795 -0.882126  0.136846   \n",
       "995   1.335977 -0.612858  0.690254  ... -0.078527 -0.064194 -0.107350   \n",
       "1130  0.687000  0.045986 -0.037147  ... -0.305861 -0.529589  0.006725   \n",
       "1318 -0.034543 -0.354563 -1.096599  ...  0.136015  0.347476 -0.314847   \n",
       "1361  0.143656  0.054985  1.554454  ... -0.357498 -0.051798 -0.462233   \n",
       "1619 -0.482697 -0.221653 -0.862776  ...  0.050748  0.038799 -0.110279   \n",
       "1654 -0.022974  0.810584 -0.482901  ... -0.180650 -0.675246  0.084872   \n",
       "1664 -0.276340  0.559585  0.452086  ...  0.171236  0.684320  0.244240   \n",
       "\n",
       "           V24       V25       V26       V27       V28    Amount  Class  \n",
       "314   0.270833  0.754353 -0.491529 -0.689819 -0.329374 -0.349231      0  \n",
       "623  -0.293803  0.279798 -0.145362 -0.252773  0.035764  1.761758      1  \n",
       "660   0.327949  0.194459  0.096516 -0.027271  0.029491 -0.345313      0  \n",
       "995   0.961776 -0.067760 -0.549465 -0.232588 -0.108261 -0.337637      0  \n",
       "1130 -0.057861 -0.203208  0.067636  0.302593 -0.011637 -0.317646      0  \n",
       "1318 -0.482617  0.927893  0.012160 -0.015183  0.015955 -0.273308      0  \n",
       "1361 -0.029358  0.418554  0.362262 -0.432949 -0.531989 -0.224731      0  \n",
       "1619 -0.169617  0.452921 -0.259139  0.028261  0.049768 -0.153725      0  \n",
       "1654  0.354099 -0.111750  0.081781  0.138413  0.030719 -0.281304      0  \n",
       "1664 -0.607268 -0.621754  0.348224 -0.020175 -0.092693 -0.094593      0  \n",
       "\n",
       "[10 rows x 31 columns]"
      ]
     },
     "execution_count": 5,
     "metadata": {},
     "output_type": "execute_result"
    }
   ],
   "source": [
    "for f in range(0, 20):\n",
    "    normal = normal.iloc[np.random.permutation(len(normal))]\n",
    "    \n",
    "\n",
    "data_set = pd.concat([normal[:2000], anomalies])\n",
    "\n",
    "x_train, x_test = train_test_split(data_set, test_size = 0.4, random_state = 42)\n",
    "\n",
    "x_train = x_train.sort_values(by=['Time'])\n",
    "x_test = x_test.sort_values(by=['Time'])\n",
    "\n",
    "y_train = x_train[\"Class\"]\n",
    "y_test = x_test[\"Class\"]\n",
    "\n",
    "x_train.head(10)"
   ]
  },
  {
   "cell_type": "code",
   "execution_count": 6,
   "metadata": {
    "execution": {
     "iopub.execute_input": "2021-03-15T02:02:03.893599Z",
     "iopub.status.busy": "2021-03-15T02:02:03.892738Z",
     "iopub.status.idle": "2021-03-15T02:02:03.899986Z",
     "shell.execute_reply": "2021-03-15T02:02:03.899146Z"
    },
    "papermill": {
     "duration": 0.024453,
     "end_time": "2021-03-15T02:02:03.900210",
     "exception": false,
     "start_time": "2021-03-15T02:02:03.875757",
     "status": "completed"
    },
    "tags": []
   },
   "outputs": [
    {
     "name": "stdout",
     "output_type": "stream",
     "text": [
      "Shapes:\n",
      "x_train:(1495, 31)\n",
      "y_train:(1495, 2)\n",
      "\n",
      "x_test:(997, 31)\n",
      "y_test:(997, 2)\n",
      "\n",
      "input_shape:(31, 1)\n",
      "\n"
     ]
    }
   ],
   "source": [
    "x_train = np.array(x_train).reshape(x_train.shape[0], x_train.shape[1])\n",
    "x_test = np.array(x_test).reshape(x_test.shape[0], x_test.shape[1])\n",
    "input_shape = (x_train.shape[1], 1)\n",
    "\n",
    "y_train = keras.utils.to_categorical(y_train, 2)\n",
    "y_test = keras.utils.to_categorical(y_test, 2)\n",
    "\n",
    "print(\"Shapes:\\nx_train:%s\\ny_train:%s\\n\" % (x_train.shape, y_train.shape))\n",
    "print(\"x_test:%s\\ny_test:%s\\n\" % (x_test.shape, y_test.shape))\n",
    "print(\"input_shape:{}\\n\".format(input_shape))"
   ]
  },
  {
   "cell_type": "markdown",
   "metadata": {
    "papermill": {
     "duration": 0.01118,
     "end_time": "2021-03-15T02:02:03.923731",
     "exception": false,
     "start_time": "2021-03-15T02:02:03.912551",
     "status": "completed"
    },
    "tags": []
   },
   "source": [
    "<h1 id=\"tree\" style=\"color:#a97828; background:#4dc5ea;\"> \n",
    "    <center>Decision Tree\n",
    "        <a class=\"anchor-link\" href=\"#tree\" target=\"_self\">¶</a>\n",
    "    </center>\n",
    "</h1>"
   ]
  },
  {
   "cell_type": "code",
   "execution_count": 7,
   "metadata": {
    "execution": {
     "iopub.execute_input": "2021-03-15T02:02:03.957201Z",
     "iopub.status.busy": "2021-03-15T02:02:03.956427Z",
     "iopub.status.idle": "2021-03-15T02:02:03.959270Z",
     "shell.execute_reply": "2021-03-15T02:02:03.958784Z"
    },
    "papermill": {
     "duration": 0.024035,
     "end_time": "2021-03-15T02:02:03.959399",
     "exception": false,
     "start_time": "2021-03-15T02:02:03.935364",
     "status": "completed"
    },
    "tags": []
   },
   "outputs": [],
   "source": [
    "class Tree():\n",
    "    def __init__(self):\n",
    "        self.num_cut = [1, 1]\n",
    "        self.num_leaf = np.prod(np.array(self.num_cut) + 1)\n",
    "        self.num_class = 2\n",
    "        \n",
    "    def torch_kron_prod(self, a, b):\n",
    "        res = torch.einsum('ij,ik->ijk', [a, b])\n",
    "        res = torch.reshape(res, [-1, np.prod(res.shape[1:])])\n",
    "        return res\n",
    "    \n",
    "    def torch_bin(self, x, cut_points, temperature=0.1):\n",
    "        D = cut_points.shape[0]\n",
    "        W = torch.reshape(torch.linspace(1.0, D + 1.0, D + 1), [1, -1])\n",
    "        cut_points, _ = torch.sort(cut_points)\n",
    "        b = torch.cumsum(torch.cat([torch.zeros([1]), -cut_points], 0),0)\n",
    "        h = torch.matmul(x, W) + b\n",
    "        res = torch.exp(h-torch.max(h))\n",
    "        res = res/torch.sum(res, dim=-1, keepdim=True)\n",
    "        return h\n",
    "    \n",
    "    def nn_decision_tree(self, x, cut_points_list, leaf_score, temperature=0.1):\n",
    "        leaf = reduce(self.torch_kron_prod,\n",
    "                      map(lambda z: self.torch_bin(x[:, z[0]:z[0] + 1], z[1], temperature), enumerate(cut_points_list)))\n",
    "        return torch.matmul(leaf, leaf_score)"
   ]
  },
  {
   "cell_type": "code",
   "execution_count": 8,
   "metadata": {
    "execution": {
     "iopub.execute_input": "2021-03-15T02:02:03.986677Z",
     "iopub.status.busy": "2021-03-15T02:02:03.985769Z",
     "iopub.status.idle": "2021-03-15T02:02:04.010890Z",
     "shell.execute_reply": "2021-03-15T02:02:04.010365Z"
    },
    "papermill": {
     "duration": 0.039175,
     "end_time": "2021-03-15T02:02:04.011036",
     "exception": false,
     "start_time": "2021-03-15T02:02:03.971861",
     "status": "completed"
    },
    "tags": []
   },
   "outputs": [],
   "source": [
    "tree = Tree()\n",
    "\n",
    "cut_points_list = [torch.rand([i], requires_grad=True) for i in tree.num_cut]\n",
    "leaf_score = torch.rand([tree.num_leaf, tree.num_class], requires_grad=True)\n",
    "\n",
    "loss_function = torch.nn.CrossEntropyLoss()\n",
    "optimizer = torch.optim.Adam(cut_points_list + [leaf_score], lr=0.001, weight_decay=0.001)"
   ]
  },
  {
   "cell_type": "code",
   "execution_count": 9,
   "metadata": {
    "execution": {
     "iopub.execute_input": "2021-03-15T02:02:04.042636Z",
     "iopub.status.busy": "2021-03-15T02:02:04.042021Z",
     "iopub.status.idle": "2021-03-15T02:02:04.046790Z",
     "shell.execute_reply": "2021-03-15T02:02:04.046195Z"
    },
    "papermill": {
     "duration": 0.024246,
     "end_time": "2021-03-15T02:02:04.046920",
     "exception": false,
     "start_time": "2021-03-15T02:02:04.022674",
     "status": "completed"
    },
    "tags": []
   },
   "outputs": [],
   "source": [
    "model = nn.Sequential(\n",
    "          nn.Linear(31,16),\n",
    "          nn.ReLU(),\n",
    "          nn.Linear(16,8),\n",
    "          nn.ReLU(),\n",
    "          nn.Linear(8,2),\n",
    "          nn.Sigmoid()\n",
    "        )"
   ]
  },
  {
   "cell_type": "markdown",
   "metadata": {
    "papermill": {
     "duration": 0.011179,
     "end_time": "2021-03-15T02:02:04.069473",
     "exception": false,
     "start_time": "2021-03-15T02:02:04.058294",
     "status": "completed"
    },
    "tags": []
   },
   "source": [
    "<h1 id=\"training\" style=\"color:#a97828; background:#4dc5ea;\"> \n",
    "    <center>Training\n",
    "        <a class=\"anchor-link\" href=\"#training\" target=\"_self\">¶</a>\n",
    "    </center>\n",
    "</h1>"
   ]
  },
  {
   "cell_type": "code",
   "execution_count": 10,
   "metadata": {
    "execution": {
     "iopub.execute_input": "2021-03-15T02:02:04.101797Z",
     "iopub.status.busy": "2021-03-15T02:02:04.101107Z",
     "iopub.status.idle": "2021-03-15T02:02:27.445412Z",
     "shell.execute_reply": "2021-03-15T02:02:27.444584Z"
    },
    "papermill": {
     "duration": 23.364106,
     "end_time": "2021-03-15T02:02:27.445619",
     "exception": false,
     "start_time": "2021-03-15T02:02:04.081513",
     "status": "completed"
    },
    "tags": []
   },
   "outputs": [
    {
     "name": "stdout",
     "output_type": "stream",
     "text": [
      "i:  20, loss:0.509, acc:0.804\n",
      "i:  40, loss:0.506, acc:0.804\n",
      "i:  60, loss:0.503, acc:0.804\n",
      "i:  80, loss:0.501, acc:0.804\n",
      "i: 100, loss:0.498, acc:0.807\n",
      "i: 120, loss:0.497, acc:0.812\n",
      "i: 140, loss:0.497, acc:0.814\n",
      "i: 160, loss:0.497, acc:0.816\n",
      "i: 180, loss:0.496, acc:0.816\n",
      "i: 200, loss:0.495, acc:0.816\n",
      "i: 220, loss:0.494, acc:0.815\n",
      "i: 240, loss:0.494, acc:0.815\n",
      "i: 260, loss:0.493, acc:0.815\n",
      "i: 280, loss:0.492, acc:0.815\n",
      "i: 300, loss:0.492, acc:0.815\n"
     ]
    }
   ],
   "source": [
    "for i in range(300):\n",
    "    optimizer.zero_grad()\n",
    "    x_batches = torch.split(torch.tensor(x_train).type(torch.float32), 32)\n",
    "    y_batches = torch.split(torch.tensor(y_train).type(torch.long), 32)\n",
    "    \n",
    "    losses = torch.zeros(len(x_batches))\n",
    "    accs = torch.zeros(len(x_batches))\n",
    "    for j,x in enumerate(x_batches):\n",
    "        out = model(x)\n",
    "        y_pred = tree.nn_decision_tree(out, cut_points_list, \n",
    "                                       leaf_score, temperature=0.1)\n",
    "        y_max = torch.max(y_batches[j], axis=1)[1]\n",
    "        y_pred_max = torch.max(y_pred, axis=1)[1]\n",
    "        \n",
    "        acc = len(torch.where(y_max == y_pred_max)[0]) / len(y_max)\n",
    "        accs[j] = acc\n",
    "        \n",
    "        loss = loss_function(y_pred, y_max)\n",
    "        losses[j] = loss\n",
    "        \n",
    "        loss.backward()\n",
    "        optimizer.step()\n",
    "    if((i+1) % 20 == 0):\n",
    "        print(\"i:{:4d}, loss:{:1.3f}, acc:{:1.3f}\".format(i+1, losses.mean(), accs.mean()))"
   ]
  },
  {
   "cell_type": "markdown",
   "metadata": {
    "papermill": {
     "duration": 0.014731,
     "end_time": "2021-03-15T02:02:27.476064",
     "exception": false,
     "start_time": "2021-03-15T02:02:27.461333",
     "status": "completed"
    },
    "tags": []
   },
   "source": [
    "<h1 id=\"prediction\" style=\"color:#a97828; background:#4dc5ea;\"> \n",
    "    <center>Prediction\n",
    "        <a class=\"anchor-link\" href=\"#prediction\" target=\"_self\">¶</a>\n",
    "    </center>\n",
    "</h1>"
   ]
  },
  {
   "cell_type": "code",
   "execution_count": 11,
   "metadata": {
    "execution": {
     "iopub.execute_input": "2021-03-15T02:02:27.512251Z",
     "iopub.status.busy": "2021-03-15T02:02:27.511665Z",
     "iopub.status.idle": "2021-03-15T02:02:27.514257Z",
     "shell.execute_reply": "2021-03-15T02:02:27.513700Z"
    },
    "papermill": {
     "duration": 0.023361,
     "end_time": "2021-03-15T02:02:27.514384",
     "exception": false,
     "start_time": "2021-03-15T02:02:27.491023",
     "status": "completed"
    },
    "tags": []
   },
   "outputs": [],
   "source": [
    "def predict(tree, X, y):\n",
    "    X = torch.tensor(X).type(torch.float32)\n",
    "    y = torch.tensor(y).type(torch.long)\n",
    "\n",
    "    out = model(X)\n",
    "    y_pred = tree.nn_decision_tree(out, cut_points_list, leaf_score, temperature=0.1)\n",
    "    y_max = torch.max(y, axis=1)[1]\n",
    "    y_pred_max = torch.max(y_pred, axis=1)[1]\n",
    "\n",
    "    acc = len(torch.where(y_max == y_pred_max)[0]) / len(y_max)\n",
    "    loss = loss_function(y_pred, y_max)\n",
    "    return y_pred, acc, loss"
   ]
  },
  {
   "cell_type": "code",
   "execution_count": 12,
   "metadata": {
    "execution": {
     "iopub.execute_input": "2021-03-15T02:02:27.549671Z",
     "iopub.status.busy": "2021-03-15T02:02:27.549004Z",
     "iopub.status.idle": "2021-03-15T02:02:27.559660Z",
     "shell.execute_reply": "2021-03-15T02:02:27.558824Z"
    },
    "papermill": {
     "duration": 0.030286,
     "end_time": "2021-03-15T02:02:27.559837",
     "exception": false,
     "start_time": "2021-03-15T02:02:27.529551",
     "status": "completed"
    },
    "tags": []
   },
   "outputs": [
    {
     "name": "stdout",
     "output_type": "stream",
     "text": [
      "Accuracy:0.807, Loss:0.514\n"
     ]
    }
   ],
   "source": [
    "y_pred, acc, loss = predict(tree, x_test, y_test)\n",
    "print(\"Accuracy:{:1.3f}, Loss:{:1.3f}\"\n",
    "         .format(acc, loss))"
   ]
  },
  {
   "cell_type": "markdown",
   "metadata": {
    "papermill": {
     "duration": 0.0152,
     "end_time": "2021-03-15T02:02:27.590735",
     "exception": false,
     "start_time": "2021-03-15T02:02:27.575535",
     "status": "completed"
    },
    "tags": []
   },
   "source": [
    "<h1 id=\"visualization\" style=\"color:#a97828; background:#4dc5ea;\"> \n",
    "    <center>Visaulization\n",
    "        <a class=\"anchor-link\" href=\"#visualization\" target=\"_self\">¶</a>\n",
    "    </center>\n",
    "</h1>"
   ]
  },
  {
   "cell_type": "code",
   "execution_count": 13,
   "metadata": {
    "_kg_hide-input": true,
    "execution": {
     "iopub.execute_input": "2021-03-15T02:02:27.632921Z",
     "iopub.status.busy": "2021-03-15T02:02:27.632162Z",
     "iopub.status.idle": "2021-03-15T02:02:27.634576Z",
     "shell.execute_reply": "2021-03-15T02:02:27.635123Z"
    },
    "papermill": {
     "duration": 0.029017,
     "end_time": "2021-03-15T02:02:27.635280",
     "exception": false,
     "start_time": "2021-03-15T02:02:27.606263",
     "status": "completed"
    },
    "tags": []
   },
   "outputs": [],
   "source": [
    "class Visualization:\n",
    "    labels = [\"Normal\", \"Anomaly\"]\n",
    "\n",
    "    def draw_confusion_matrix(self, y, ypred):\n",
    "        matrix = confusion_matrix(y, ypred)\n",
    "\n",
    "        plt.figure(figsize=(10, 8))\n",
    "        colors=[ \"orange\",\"green\"]\n",
    "        sns.heatmap(matrix, xticklabels=self.labels, yticklabels=self.labels, cmap=colors, annot=True, fmt=\"d\")\n",
    "        plt.title(\"Confusion Matrix\")\n",
    "        plt.ylabel('Actual')\n",
    "        plt.xlabel('Predicted')\n",
    "        plt.show()\n",
    "\n",
    "\n",
    "    def draw_anomaly(self, y, error, threshold):\n",
    "        groupsDF = pd.DataFrame({'error': error,\n",
    "                                 'true': y}).groupby('true')\n",
    "\n",
    "        figure, axes = plt.subplots(figsize=(12, 8))\n",
    "\n",
    "        for name, group in groupsDF:\n",
    "            axes.plot(group.index, group.error, marker='x' if name == 1 else 'o', linestyle='',\n",
    "                    color='r' if name == 1 else 'g', label=\"Anomaly\" if name == 1 else \"Normal\")\n",
    "\n",
    "        axes.hlines(threshold, axes.get_xlim()[0], axes.get_xlim()[1], colors=\"b\", zorder=100, label='Threshold')\n",
    "        axes.legend()\n",
    "        \n",
    "        plt.title(\"Anomalies\")\n",
    "        plt.ylabel(\"Error\")\n",
    "        plt.xlabel(\"Data\")\n",
    "        plt.show()\n",
    "\n",
    "    def draw_error(self, error, threshold):\n",
    "            plt.plot(error, marker='o', ms=3.5, linestyle='',\n",
    "                     label='Point')\n",
    "\n",
    "            plt.hlines(threshold, xmin=0, xmax=len(error)-1, colors=\"b\", zorder=100, label='Threshold')\n",
    "            plt.legend()\n",
    "            plt.title(\"Reconstruction error\")\n",
    "            plt.ylabel(\"Error\")\n",
    "            plt.xlabel(\"Data\")\n",
    "            plt.show()"
   ]
  },
  {
   "cell_type": "code",
   "execution_count": 14,
   "metadata": {
    "execution": {
     "iopub.execute_input": "2021-03-15T02:02:27.669559Z",
     "iopub.status.busy": "2021-03-15T02:02:27.668699Z",
     "iopub.status.idle": "2021-03-15T02:02:27.866781Z",
     "shell.execute_reply": "2021-03-15T02:02:27.867320Z"
    },
    "papermill": {
     "duration": 0.216745,
     "end_time": "2021-03-15T02:02:27.867487",
     "exception": false,
     "start_time": "2021-03-15T02:02:27.650742",
     "status": "completed"
    },
    "tags": []
   },
   "outputs": [
    {
     "data": {
      "image/png": "[encoded data removed]",
      "text/plain": [
       "<Figure size 720x576 with 2 Axes>"
      ]
     },
     "metadata": {
      "needs_background": "light"
     },
     "output_type": "display_data"
    }
   ],
   "source": [
    "visualize = Visualization()\n",
    "y_pred2 = torch.max(y_pred, axis=1)[1].detach().numpy()\n",
    "y_test2 = np.argmax(y_test, axis=1)\n",
    "visualize.draw_confusion_matrix(y_test2, y_pred2)"
   ]
  }
 ],
 "metadata": {
  "kernelspec": {
   "display_name": "Python 3",
   "language": "python",
   "name": "python3"
  },
  "language_info": {
   "codemirror_mode": {
    "name": "ipython",
    "version": 3
   },
   "file_extension": ".py",
   "mimetype": "text/x-python",
   "name": "python",
   "nbconvert_exporter": "python",
   "pygments_lexer": "ipython3",
   "version": "3.7.9"
  },
  "papermill": {
   "default_parameters": {},
   "duration": 42.359273,
   "end_time": "2021-03-15T02:02:28.994696",
   "environment_variables": {},
   "exception": null,
   "input_path": "__notebook__.ipynb",
   "output_path": "__notebook__.ipynb",
   "parameters": {},
   "start_time": "2021-03-15T02:01:46.635423",
   "version": "2.2.2"
  }
 },
 "nbformat": 4,
 "nbformat_minor": 4
}
