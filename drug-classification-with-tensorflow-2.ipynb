{
 "cells": [
  {
   "cell_type": "code",
   "execution_count": 1,
   "metadata": {
    "_cell_guid": "b1076dfc-b9ad-4769-8c92-a6c4dae69d19",
    "_uuid": "8f2839f25d086af736a60e9eeb907d3b93b6e0e5",
    "execution": {
     "iopub.execute_input": "2020-11-29T17:06:49.450916Z",
     "iopub.status.busy": "2020-11-29T17:06:49.450110Z",
     "iopub.status.idle": "2020-11-29T17:06:56.009726Z",
     "shell.execute_reply": "2020-11-29T17:06:56.008764Z"
    },
    "papermill": {
     "duration": 6.588412,
     "end_time": "2020-11-29T17:06:56.009901",
     "exception": false,
     "start_time": "2020-11-29T17:06:49.421489",
     "status": "completed"
    },
    "tags": []
   },
   "outputs": [
    {
     "name": "stdout",
     "output_type": "stream",
     "text": [
      "/kaggle/input/drug-classification/drug200.csv\n"
     ]
    }
   ],
   "source": [
    "# This Python 3 environment comes with many helpful analytics libraries installed\n",
    "# It is defined by the kaggle/python Docker image: https://github.com/kaggle/docker-python\n",
    "# For example, here's several helpful packages to load\n",
    "\n",
    "import functools\n",
    "import os\n",
    "\n",
    "import numpy as np\n",
    "import pandas as pd\n",
    "import tensorflow as tf\n",
    "import matplotlib.pyplot as plt\n",
    "\n",
    "import warnings\n",
    "warnings.filterwarnings(\"ignore\")\n",
    "\n",
    "for dirname, _, filenames in os.walk('/kaggle/input'):\n",
    "    for filename in filenames:\n",
    "        print(os.path.join(dirname, filename))"
   ]
  },
  {
   "cell_type": "markdown",
   "metadata": {
    "papermill": {
     "duration": 0.021213,
     "end_time": "2020-11-29T17:06:56.053817",
     "exception": false,
     "start_time": "2020-11-29T17:06:56.032604",
     "status": "completed"
    },
    "tags": []
   },
   "source": [
    "Original paper of how to deal with structured data and csv data with tensorflow:\n",
    "https://www.tensorflow.org/tutorials/load_data/csv  \n",
    "This is just my experiment with drug200 dataset."
   ]
  },
  {
   "cell_type": "code",
   "execution_count": 2,
   "metadata": {
    "execution": {
     "iopub.execute_input": "2020-11-29T17:06:56.103061Z",
     "iopub.status.busy": "2020-11-29T17:06:56.102044Z",
     "iopub.status.idle": "2020-11-29T17:06:56.105052Z",
     "shell.execute_reply": "2020-11-29T17:06:56.104464Z"
    },
    "papermill": {
     "duration": 0.029779,
     "end_time": "2020-11-29T17:06:56.105179",
     "exception": false,
     "start_time": "2020-11-29T17:06:56.075400",
     "status": "completed"
    },
    "tags": []
   },
   "outputs": [],
   "source": [
    "plt.style.use('ggplot')\n",
    "tf.get_logger().setLevel('ERROR')"
   ]
  },
  {
   "cell_type": "markdown",
   "metadata": {
    "papermill": {
     "duration": 0.021271,
     "end_time": "2020-11-29T17:06:56.148023",
     "exception": false,
     "start_time": "2020-11-29T17:06:56.126752",
     "status": "completed"
    },
    "tags": []
   },
   "source": [
    "### Data overview "
   ]
  },
  {
   "cell_type": "code",
   "execution_count": 3,
   "metadata": {
    "execution": {
     "iopub.execute_input": "2020-11-29T17:06:56.198052Z",
     "iopub.status.busy": "2020-11-29T17:06:56.197431Z",
     "iopub.status.idle": "2020-11-29T17:06:56.213321Z",
     "shell.execute_reply": "2020-11-29T17:06:56.212609Z"
    },
    "papermill": {
     "duration": 0.043234,
     "end_time": "2020-11-29T17:06:56.213438",
     "exception": false,
     "start_time": "2020-11-29T17:06:56.170204",
     "status": "completed"
    },
    "tags": []
   },
   "outputs": [],
   "source": [
    "data = pd.read_csv(\"../input/drug-classification/drug200.csv\")"
   ]
  },
  {
   "cell_type": "code",
   "execution_count": 4,
   "metadata": {
    "execution": {
     "iopub.execute_input": "2020-11-29T17:06:56.279028Z",
     "iopub.status.busy": "2020-11-29T17:06:56.278346Z",
     "iopub.status.idle": "2020-11-29T17:06:56.287582Z",
     "shell.execute_reply": "2020-11-29T17:06:56.286949Z"
    },
    "papermill": {
     "duration": 0.052338,
     "end_time": "2020-11-29T17:06:56.287693",
     "exception": false,
     "start_time": "2020-11-29T17:06:56.235355",
     "status": "completed"
    },
    "tags": []
   },
   "outputs": [
    {
     "data": {
      "text/html": [
       "<div>\n",
       "<style scoped>\n",
       "    .dataframe tbody tr th:only-of-type {\n",
       "        vertical-align: middle;\n",
       "    }\n",
       "\n",
       "    .dataframe tbody tr th {\n",
       "        vertical-align: top;\n",
       "    }\n",
       "\n",
       "    .dataframe thead th {\n",
       "        text-align: right;\n",
       "    }\n",
       "</style>\n",
       "<table border=\"1\" class=\"dataframe\">\n",
       "  <thead>\n",
       "    <tr style=\"text-align: right;\">\n",
       "      <th></th>\n",
       "      <th>Age</th>\n",
       "      <th>Sex</th>\n",
       "      <th>BP</th>\n",
       "      <th>Cholesterol</th>\n",
       "      <th>Na_to_K</th>\n",
       "      <th>Drug</th>\n",
       "    </tr>\n",
       "  </thead>\n",
       "  <tbody>\n",
       "    <tr>\n",
       "      <th>0</th>\n",
       "      <td>23</td>\n",
       "      <td>F</td>\n",
       "      <td>HIGH</td>\n",
       "      <td>HIGH</td>\n",
       "      <td>25.355</td>\n",
       "      <td>DrugY</td>\n",
       "    </tr>\n",
       "    <tr>\n",
       "      <th>1</th>\n",
       "      <td>47</td>\n",
       "      <td>M</td>\n",
       "      <td>LOW</td>\n",
       "      <td>HIGH</td>\n",
       "      <td>13.093</td>\n",
       "      <td>drugC</td>\n",
       "    </tr>\n",
       "    <tr>\n",
       "      <th>2</th>\n",
       "      <td>47</td>\n",
       "      <td>M</td>\n",
       "      <td>LOW</td>\n",
       "      <td>HIGH</td>\n",
       "      <td>10.114</td>\n",
       "      <td>drugC</td>\n",
       "    </tr>\n",
       "    <tr>\n",
       "      <th>3</th>\n",
       "      <td>28</td>\n",
       "      <td>F</td>\n",
       "      <td>NORMAL</td>\n",
       "      <td>HIGH</td>\n",
       "      <td>7.798</td>\n",
       "      <td>drugX</td>\n",
       "    </tr>\n",
       "    <tr>\n",
       "      <th>4</th>\n",
       "      <td>61</td>\n",
       "      <td>F</td>\n",
       "      <td>LOW</td>\n",
       "      <td>HIGH</td>\n",
       "      <td>18.043</td>\n",
       "      <td>DrugY</td>\n",
       "    </tr>\n",
       "  </tbody>\n",
       "</table>\n",
       "</div>"
      ],
      "text/plain": [
       "   Age Sex      BP Cholesterol  Na_to_K   Drug\n",
       "0   23   F    HIGH        HIGH   25.355  DrugY\n",
       "1   47   M     LOW        HIGH   13.093  drugC\n",
       "2   47   M     LOW        HIGH   10.114  drugC\n",
       "3   28   F  NORMAL        HIGH    7.798  drugX\n",
       "4   61   F     LOW        HIGH   18.043  DrugY"
      ]
     },
     "execution_count": 4,
     "metadata": {},
     "output_type": "execute_result"
    }
   ],
   "source": [
    "data.head()"
   ]
  },
  {
   "cell_type": "code",
   "execution_count": 5,
   "metadata": {
    "execution": {
     "iopub.execute_input": "2020-11-29T17:06:56.337993Z",
     "iopub.status.busy": "2020-11-29T17:06:56.337132Z",
     "iopub.status.idle": "2020-11-29T17:06:56.341898Z",
     "shell.execute_reply": "2020-11-29T17:06:56.341279Z"
    },
    "papermill": {
     "duration": 0.031863,
     "end_time": "2020-11-29T17:06:56.342020",
     "exception": false,
     "start_time": "2020-11-29T17:06:56.310157",
     "status": "completed"
    },
    "tags": []
   },
   "outputs": [
    {
     "data": {
      "text/plain": [
       "200"
      ]
     },
     "execution_count": 5,
     "metadata": {},
     "output_type": "execute_result"
    }
   ],
   "source": [
    "data.shape[0]"
   ]
  },
  {
   "cell_type": "code",
   "execution_count": 6,
   "metadata": {
    "execution": {
     "iopub.execute_input": "2020-11-29T17:06:56.395963Z",
     "iopub.status.busy": "2020-11-29T17:06:56.395227Z",
     "iopub.status.idle": "2020-11-29T17:06:56.399835Z",
     "shell.execute_reply": "2020-11-29T17:06:56.399367Z"
    },
    "papermill": {
     "duration": 0.03502,
     "end_time": "2020-11-29T17:06:56.399946",
     "exception": false,
     "start_time": "2020-11-29T17:06:56.364926",
     "status": "completed"
    },
    "tags": []
   },
   "outputs": [
    {
     "data": {
      "text/plain": [
       "Age            0\n",
       "Sex            0\n",
       "BP             0\n",
       "Cholesterol    0\n",
       "Na_to_K        0\n",
       "Drug           0\n",
       "dtype: int64"
      ]
     },
     "execution_count": 6,
     "metadata": {},
     "output_type": "execute_result"
    }
   ],
   "source": [
    "data.isnull().sum()"
   ]
  },
  {
   "cell_type": "markdown",
   "metadata": {
    "papermill": {
     "duration": 0.022688,
     "end_time": "2020-11-29T17:06:56.445662",
     "exception": false,
     "start_time": "2020-11-29T17:06:56.422974",
     "status": "completed"
    },
    "tags": []
   },
   "source": [
    "So, we have:\n",
    "* Few observations (200)\n",
    "* No missing values\n",
    "* Two numerical features\n",
    "* Three categorical features\n",
    "* Categorical target column"
   ]
  },
  {
   "cell_type": "markdown",
   "metadata": {
    "papermill": {
     "duration": 0.022718,
     "end_time": "2020-11-29T17:06:56.491452",
     "exception": false,
     "start_time": "2020-11-29T17:06:56.468734",
     "status": "completed"
    },
    "tags": []
   },
   "source": [
    "### Creating tf dataset"
   ]
  },
  {
   "cell_type": "code",
   "execution_count": 7,
   "metadata": {
    "execution": {
     "iopub.execute_input": "2020-11-29T17:06:56.542387Z",
     "iopub.status.busy": "2020-11-29T17:06:56.541535Z",
     "iopub.status.idle": "2020-11-29T17:06:56.544499Z",
     "shell.execute_reply": "2020-11-29T17:06:56.543971Z"
    },
    "papermill": {
     "duration": 0.030138,
     "end_time": "2020-11-29T17:06:56.544610",
     "exception": false,
     "start_time": "2020-11-29T17:06:56.514472",
     "status": "completed"
    },
    "tags": []
   },
   "outputs": [],
   "source": [
    "TARGET_COLUMN = \"Drug\"\n",
    "BATCH_SIZE = 4"
   ]
  },
  {
   "cell_type": "code",
   "execution_count": 8,
   "metadata": {
    "execution": {
     "iopub.execute_input": "2020-11-29T17:06:56.596558Z",
     "iopub.status.busy": "2020-11-29T17:06:56.595842Z",
     "iopub.status.idle": "2020-11-29T17:06:56.599023Z",
     "shell.execute_reply": "2020-11-29T17:06:56.598424Z"
    },
    "papermill": {
     "duration": 0.031424,
     "end_time": "2020-11-29T17:06:56.599150",
     "exception": false,
     "start_time": "2020-11-29T17:06:56.567726",
     "status": "completed"
    },
    "tags": []
   },
   "outputs": [],
   "source": [
    "target_labels = data.Drug.unique()"
   ]
  },
  {
   "cell_type": "markdown",
   "metadata": {
    "papermill": {
     "duration": 0.022727,
     "end_time": "2020-11-29T17:06:56.645188",
     "exception": false,
     "start_time": "2020-11-29T17:06:56.622461",
     "status": "completed"
    },
    "tags": []
   },
   "source": [
    "On the one hand, we can't just pass strings as features to the model. On the other hand, we don't want to make another csv dataset with encoded target column. So we create mapping function. In tensorflow we use StringLookup for this purposes."
   ]
  },
  {
   "cell_type": "code",
   "execution_count": 9,
   "metadata": {
    "execution": {
     "iopub.execute_input": "2020-11-29T17:06:56.696913Z",
     "iopub.status.busy": "2020-11-29T17:06:56.696277Z",
     "iopub.status.idle": "2020-11-29T17:06:56.775122Z",
     "shell.execute_reply": "2020-11-29T17:06:56.774450Z"
    },
    "papermill": {
     "duration": 0.106741,
     "end_time": "2020-11-29T17:06:56.775243",
     "exception": false,
     "start_time": "2020-11-29T17:06:56.668502",
     "status": "completed"
    },
    "tags": []
   },
   "outputs": [],
   "source": [
    "drugs_ind = tf.keras.layers.experimental.preprocessing.StringLookup(\n",
    "                        vocabulary=list(target_labels), num_oov_indices=0, mask_token=None)"
   ]
  },
  {
   "cell_type": "code",
   "execution_count": 10,
   "metadata": {
    "execution": {
     "iopub.execute_input": "2020-11-29T17:06:56.827671Z",
     "iopub.status.busy": "2020-11-29T17:06:56.827011Z",
     "iopub.status.idle": "2020-11-29T17:06:56.942870Z",
     "shell.execute_reply": "2020-11-29T17:06:56.942299Z"
    },
    "papermill": {
     "duration": 0.144178,
     "end_time": "2020-11-29T17:06:56.942983",
     "exception": false,
     "start_time": "2020-11-29T17:06:56.798805",
     "status": "completed"
    },
    "tags": []
   },
   "outputs": [],
   "source": [
    "ds = tf.data.experimental.make_csv_dataset(\n",
    "      \"../input/drug-classification/drug200.csv\",\n",
    "      batch_size=BATCH_SIZE,\n",
    "      label_name=TARGET_COLUMN,\n",
    "      na_value=\"?\",\n",
    "      num_epochs=1,\n",
    "      ignore_errors=True)"
   ]
  },
  {
   "cell_type": "code",
   "execution_count": 11,
   "metadata": {
    "execution": {
     "iopub.execute_input": "2020-11-29T17:06:56.996737Z",
     "iopub.status.busy": "2020-11-29T17:06:56.996060Z",
     "iopub.status.idle": "2020-11-29T17:06:56.999397Z",
     "shell.execute_reply": "2020-11-29T17:06:56.998757Z"
    },
    "papermill": {
     "duration": 0.032476,
     "end_time": "2020-11-29T17:06:56.999511",
     "exception": false,
     "start_time": "2020-11-29T17:06:56.967035",
     "status": "completed"
    },
    "tags": []
   },
   "outputs": [],
   "source": [
    "def show_batch(dataset):\n",
    "    for batch, label in dataset.take(1):\n",
    "        for key, value in batch.items():\n",
    "            print(\"{:20s}: {}\".format(key,value.numpy()))"
   ]
  },
  {
   "cell_type": "code",
   "execution_count": 12,
   "metadata": {
    "execution": {
     "iopub.execute_input": "2020-11-29T17:06:57.052240Z",
     "iopub.status.busy": "2020-11-29T17:06:57.051487Z",
     "iopub.status.idle": "2020-11-29T17:06:57.143294Z",
     "shell.execute_reply": "2020-11-29T17:06:57.144044Z"
    },
    "papermill": {
     "duration": 0.121108,
     "end_time": "2020-11-29T17:06:57.144284",
     "exception": false,
     "start_time": "2020-11-29T17:06:57.023176",
     "status": "completed"
    },
    "tags": []
   },
   "outputs": [
    {
     "name": "stdout",
     "output_type": "stream",
     "text": [
      "Age                 : [20 60 31 57]\n",
      "Sex                 : [b'F' b'F' b'M' b'F']\n",
      "BP                  : [b'LOW' b'HIGH' b'HIGH' b'NORMAL']\n",
      "Cholesterol         : [b'NORMAL' b'HIGH' b'NORMAL' b'HIGH']\n",
      "Na_to_K             : [11.686 13.303 11.871 14.216]\n"
     ]
    }
   ],
   "source": [
    "show_batch(ds)"
   ]
  },
  {
   "cell_type": "markdown",
   "metadata": {
    "papermill": {
     "duration": 0.023776,
     "end_time": "2020-11-29T17:06:57.192716",
     "exception": false,
     "start_time": "2020-11-29T17:06:57.168940",
     "status": "completed"
    },
    "tags": []
   },
   "source": [
    "Ok, let's define numerical and categorical features"
   ]
  },
  {
   "cell_type": "code",
   "execution_count": 13,
   "metadata": {
    "execution": {
     "iopub.execute_input": "2020-11-29T17:06:57.246481Z",
     "iopub.status.busy": "2020-11-29T17:06:57.245633Z",
     "iopub.status.idle": "2020-11-29T17:06:57.248336Z",
     "shell.execute_reply": "2020-11-29T17:06:57.247711Z"
    },
    "papermill": {
     "duration": 0.031311,
     "end_time": "2020-11-29T17:06:57.248447",
     "exception": false,
     "start_time": "2020-11-29T17:06:57.217136",
     "status": "completed"
    },
    "tags": []
   },
   "outputs": [],
   "source": [
    "NUMERIC_FEATURES = ['Age','Na_to_K']"
   ]
  },
  {
   "cell_type": "code",
   "execution_count": 14,
   "metadata": {
    "execution": {
     "iopub.execute_input": "2020-11-29T17:06:57.302338Z",
     "iopub.status.busy": "2020-11-29T17:06:57.301630Z",
     "iopub.status.idle": "2020-11-29T17:06:57.307911Z",
     "shell.execute_reply": "2020-11-29T17:06:57.307407Z"
    },
    "papermill": {
     "duration": 0.035242,
     "end_time": "2020-11-29T17:06:57.308026",
     "exception": false,
     "start_time": "2020-11-29T17:06:57.272784",
     "status": "completed"
    },
    "tags": []
   },
   "outputs": [
    {
     "data": {
      "text/plain": [
       "{'Sex': ['F', 'M'],\n",
       " 'BP': ['HIGH', 'LOW', 'NORMAL'],\n",
       " 'Cholesterol': ['HIGH', 'NORMAL'],\n",
       " 'Drug': ['DrugY', 'drugC', 'drugX', 'drugA', 'drugB']}"
      ]
     },
     "execution_count": 14,
     "metadata": {},
     "output_type": "execute_result"
    }
   ],
   "source": [
    "CATEGORIES = {k: data[k].unique().tolist() for k in data if k not in NUMERIC_FEATURES}\n",
    "CATEGORIES"
   ]
  },
  {
   "cell_type": "code",
   "execution_count": 15,
   "metadata": {
    "execution": {
     "iopub.execute_input": "2020-11-29T17:06:57.362814Z",
     "iopub.status.busy": "2020-11-29T17:06:57.362095Z",
     "iopub.status.idle": "2020-11-29T17:06:57.366846Z",
     "shell.execute_reply": "2020-11-29T17:06:57.366253Z"
    },
    "papermill": {
     "duration": 0.033898,
     "end_time": "2020-11-29T17:06:57.366952",
     "exception": false,
     "start_time": "2020-11-29T17:06:57.333054",
     "status": "completed"
    },
    "tags": []
   },
   "outputs": [
    {
     "data": {
      "text/plain": [
       "['DrugY', 'drugC', 'drugX', 'drugA', 'drugB']"
      ]
     },
     "execution_count": 15,
     "metadata": {},
     "output_type": "execute_result"
    }
   ],
   "source": [
    "target_labels = CATEGORIES.pop(\"Drug\")\n",
    "target_labels"
   ]
  },
  {
   "cell_type": "markdown",
   "metadata": {
    "papermill": {
     "duration": 0.024391,
     "end_time": "2020-11-29T17:06:57.416510",
     "exception": false,
     "start_time": "2020-11-29T17:06:57.392119",
     "status": "completed"
    },
    "tags": []
   },
   "source": [
    "Now, we have to preprocess features"
   ]
  },
  {
   "cell_type": "code",
   "execution_count": 16,
   "metadata": {
    "execution": {
     "iopub.execute_input": "2020-11-29T17:06:57.474035Z",
     "iopub.status.busy": "2020-11-29T17:06:57.473000Z",
     "iopub.status.idle": "2020-11-29T17:06:57.475687Z",
     "shell.execute_reply": "2020-11-29T17:06:57.476142Z"
    },
    "papermill": {
     "duration": 0.035001,
     "end_time": "2020-11-29T17:06:57.476285",
     "exception": false,
     "start_time": "2020-11-29T17:06:57.441284",
     "status": "completed"
    },
    "tags": []
   },
   "outputs": [],
   "source": [
    "class PreprocessFeatures(object):\n",
    "    def __init__(self, names, labels_map):\n",
    "        self.names = names\n",
    "        self.labels_map = labels_map\n",
    "\n",
    "    def __call__(self, features, labels):\n",
    "        numeric_freatures = [features.pop(name) for name in self.names]\n",
    "        numeric_features = [tf.cast(feat, tf.float32) for feat in numeric_freatures]\n",
    "        numeric_features = tf.stack(numeric_features, axis=-1)\n",
    "        features['numeric'] = numeric_features\n",
    "        labels = self.labels_map(labels)\n",
    "        return features, labels"
   ]
  },
  {
   "cell_type": "code",
   "execution_count": 17,
   "metadata": {
    "execution": {
     "iopub.execute_input": "2020-11-29T17:06:57.532751Z",
     "iopub.status.busy": "2020-11-29T17:06:57.531565Z",
     "iopub.status.idle": "2020-11-29T17:06:57.615019Z",
     "shell.execute_reply": "2020-11-29T17:06:57.614363Z"
    },
    "papermill": {
     "duration": 0.113709,
     "end_time": "2020-11-29T17:06:57.615146",
     "exception": false,
     "start_time": "2020-11-29T17:06:57.501437",
     "status": "completed"
    },
    "tags": []
   },
   "outputs": [],
   "source": [
    "ds = ds.map(PreprocessFeatures(NUMERIC_FEATURES,drugs_ind))"
   ]
  },
  {
   "cell_type": "markdown",
   "metadata": {
    "papermill": {
     "duration": 0.025107,
     "end_time": "2020-11-29T17:06:57.665635",
     "exception": false,
     "start_time": "2020-11-29T17:06:57.640528",
     "status": "completed"
    },
    "tags": []
   },
   "source": [
    "### Handle numerical features"
   ]
  },
  {
   "cell_type": "code",
   "execution_count": 18,
   "metadata": {
    "execution": {
     "iopub.execute_input": "2020-11-29T17:06:57.726307Z",
     "iopub.status.busy": "2020-11-29T17:06:57.725646Z",
     "iopub.status.idle": "2020-11-29T17:06:57.741260Z",
     "shell.execute_reply": "2020-11-29T17:06:57.740719Z"
    },
    "papermill": {
     "duration": 0.050628,
     "end_time": "2020-11-29T17:06:57.741373",
     "exception": false,
     "start_time": "2020-11-29T17:06:57.690745",
     "status": "completed"
    },
    "tags": []
   },
   "outputs": [
    {
     "data": {
      "text/html": [
       "<div>\n",
       "<style scoped>\n",
       "    .dataframe tbody tr th:only-of-type {\n",
       "        vertical-align: middle;\n",
       "    }\n",
       "\n",
       "    .dataframe tbody tr th {\n",
       "        vertical-align: top;\n",
       "    }\n",
       "\n",
       "    .dataframe thead th {\n",
       "        text-align: right;\n",
       "    }\n",
       "</style>\n",
       "<table border=\"1\" class=\"dataframe\">\n",
       "  <thead>\n",
       "    <tr style=\"text-align: right;\">\n",
       "      <th></th>\n",
       "      <th>Age</th>\n",
       "      <th>Na_to_K</th>\n",
       "    </tr>\n",
       "  </thead>\n",
       "  <tbody>\n",
       "    <tr>\n",
       "      <th>count</th>\n",
       "      <td>200.000000</td>\n",
       "      <td>200.000000</td>\n",
       "    </tr>\n",
       "    <tr>\n",
       "      <th>mean</th>\n",
       "      <td>44.315000</td>\n",
       "      <td>16.084485</td>\n",
       "    </tr>\n",
       "    <tr>\n",
       "      <th>std</th>\n",
       "      <td>16.544315</td>\n",
       "      <td>7.223956</td>\n",
       "    </tr>\n",
       "    <tr>\n",
       "      <th>min</th>\n",
       "      <td>15.000000</td>\n",
       "      <td>6.269000</td>\n",
       "    </tr>\n",
       "    <tr>\n",
       "      <th>25%</th>\n",
       "      <td>31.000000</td>\n",
       "      <td>10.445500</td>\n",
       "    </tr>\n",
       "    <tr>\n",
       "      <th>50%</th>\n",
       "      <td>45.000000</td>\n",
       "      <td>13.936500</td>\n",
       "    </tr>\n",
       "    <tr>\n",
       "      <th>75%</th>\n",
       "      <td>58.000000</td>\n",
       "      <td>19.380000</td>\n",
       "    </tr>\n",
       "    <tr>\n",
       "      <th>max</th>\n",
       "      <td>74.000000</td>\n",
       "      <td>38.247000</td>\n",
       "    </tr>\n",
       "  </tbody>\n",
       "</table>\n",
       "</div>"
      ],
      "text/plain": [
       "              Age     Na_to_K\n",
       "count  200.000000  200.000000\n",
       "mean    44.315000   16.084485\n",
       "std     16.544315    7.223956\n",
       "min     15.000000    6.269000\n",
       "25%     31.000000   10.445500\n",
       "50%     45.000000   13.936500\n",
       "75%     58.000000   19.380000\n",
       "max     74.000000   38.247000"
      ]
     },
     "execution_count": 18,
     "metadata": {},
     "output_type": "execute_result"
    }
   ],
   "source": [
    "desc = data[NUMERIC_FEATURES].describe()\n",
    "desc"
   ]
  },
  {
   "cell_type": "code",
   "execution_count": 19,
   "metadata": {
    "execution": {
     "iopub.execute_input": "2020-11-29T17:06:57.799925Z",
     "iopub.status.busy": "2020-11-29T17:06:57.798987Z",
     "iopub.status.idle": "2020-11-29T17:06:57.802313Z",
     "shell.execute_reply": "2020-11-29T17:06:57.801662Z"
    },
    "papermill": {
     "duration": 0.035048,
     "end_time": "2020-11-29T17:06:57.802423",
     "exception": false,
     "start_time": "2020-11-29T17:06:57.767375",
     "status": "completed"
    },
    "tags": []
   },
   "outputs": [],
   "source": [
    "MEAN = np.array(desc.T['mean'])\n",
    "STD = np.array(desc.T['std'])"
   ]
  },
  {
   "cell_type": "code",
   "execution_count": 20,
   "metadata": {
    "execution": {
     "iopub.execute_input": "2020-11-29T17:06:57.860018Z",
     "iopub.status.busy": "2020-11-29T17:06:57.859138Z",
     "iopub.status.idle": "2020-11-29T17:06:57.861868Z",
     "shell.execute_reply": "2020-11-29T17:06:57.861342Z"
    },
    "papermill": {
     "duration": 0.033318,
     "end_time": "2020-11-29T17:06:57.861979",
     "exception": false,
     "start_time": "2020-11-29T17:06:57.828661",
     "status": "completed"
    },
    "tags": []
   },
   "outputs": [],
   "source": [
    "def normalize_numeric_data(data, mean, std):\n",
    "    return (data-mean)/std"
   ]
  },
  {
   "cell_type": "code",
   "execution_count": 21,
   "metadata": {
    "execution": {
     "iopub.execute_input": "2020-11-29T17:06:57.919027Z",
     "iopub.status.busy": "2020-11-29T17:06:57.918177Z",
     "iopub.status.idle": "2020-11-29T17:06:57.921448Z",
     "shell.execute_reply": "2020-11-29T17:06:57.920924Z"
    },
    "papermill": {
     "duration": 0.033593,
     "end_time": "2020-11-29T17:06:57.921556",
     "exception": false,
     "start_time": "2020-11-29T17:06:57.887963",
     "status": "completed"
    },
    "tags": []
   },
   "outputs": [],
   "source": [
    "normalizer = functools.partial(normalize_numeric_data, mean=MEAN, std=STD)"
   ]
  },
  {
   "cell_type": "code",
   "execution_count": 22,
   "metadata": {
    "execution": {
     "iopub.execute_input": "2020-11-29T17:06:57.980488Z",
     "iopub.status.busy": "2020-11-29T17:06:57.979530Z",
     "iopub.status.idle": "2020-11-29T17:06:57.982427Z",
     "shell.execute_reply": "2020-11-29T17:06:57.981849Z"
    },
    "papermill": {
     "duration": 0.034873,
     "end_time": "2020-11-29T17:06:57.982540",
     "exception": false,
     "start_time": "2020-11-29T17:06:57.947667",
     "status": "completed"
    },
    "tags": []
   },
   "outputs": [],
   "source": [
    "numeric_column = tf.feature_column.numeric_column('numeric', normalizer_fn=normalizer, shape=[len(NUMERIC_FEATURES)])\n",
    "numeric_columns = [numeric_column]"
   ]
  },
  {
   "cell_type": "markdown",
   "metadata": {
    "papermill": {
     "duration": 0.025787,
     "end_time": "2020-11-29T17:06:58.034596",
     "exception": false,
     "start_time": "2020-11-29T17:06:58.008809",
     "status": "completed"
    },
    "tags": []
   },
   "source": [
    "### Handle categorical features"
   ]
  },
  {
   "cell_type": "code",
   "execution_count": 23,
   "metadata": {
    "execution": {
     "iopub.execute_input": "2020-11-29T17:06:58.093761Z",
     "iopub.status.busy": "2020-11-29T17:06:58.092666Z",
     "iopub.status.idle": "2020-11-29T17:06:58.095345Z",
     "shell.execute_reply": "2020-11-29T17:06:58.094679Z"
    },
    "papermill": {
     "duration": 0.034688,
     "end_time": "2020-11-29T17:06:58.095461",
     "exception": false,
     "start_time": "2020-11-29T17:06:58.060773",
     "status": "completed"
    },
    "tags": []
   },
   "outputs": [],
   "source": [
    "categorical_columns = []\n",
    "for feature, vocab in CATEGORIES.items():\n",
    "    cat_col = tf.feature_column.categorical_column_with_vocabulary_list(\n",
    "        key=feature, vocabulary_list=vocab)\n",
    "    categorical_columns.append(tf.feature_column.indicator_column(cat_col))"
   ]
  },
  {
   "cell_type": "markdown",
   "metadata": {
    "papermill": {
     "duration": 0.029685,
     "end_time": "2020-11-29T17:06:58.154946",
     "exception": false,
     "start_time": "2020-11-29T17:06:58.125261",
     "status": "completed"
    },
    "tags": []
   },
   "source": [
    "### Creating preprocessing layers"
   ]
  },
  {
   "cell_type": "code",
   "execution_count": 24,
   "metadata": {
    "execution": {
     "iopub.execute_input": "2020-11-29T17:06:58.216847Z",
     "iopub.status.busy": "2020-11-29T17:06:58.216212Z",
     "iopub.status.idle": "2020-11-29T17:06:58.219539Z",
     "shell.execute_reply": "2020-11-29T17:06:58.218980Z"
    },
    "papermill": {
     "duration": 0.036725,
     "end_time": "2020-11-29T17:06:58.219690",
     "exception": false,
     "start_time": "2020-11-29T17:06:58.182965",
     "status": "completed"
    },
    "tags": []
   },
   "outputs": [],
   "source": [
    "preprocessing_layer = tf.keras.layers.DenseFeatures(categorical_columns + numeric_columns)"
   ]
  },
  {
   "cell_type": "markdown",
   "metadata": {
    "papermill": {
     "duration": 0.026645,
     "end_time": "2020-11-29T17:06:58.272760",
     "exception": false,
     "start_time": "2020-11-29T17:06:58.246115",
     "status": "completed"
    },
    "tags": []
   },
   "source": [
    "### Define model"
   ]
  },
  {
   "cell_type": "code",
   "execution_count": 25,
   "metadata": {
    "execution": {
     "iopub.execute_input": "2020-11-29T17:06:58.336311Z",
     "iopub.status.busy": "2020-11-29T17:06:58.335567Z",
     "iopub.status.idle": "2020-11-29T17:06:58.348825Z",
     "shell.execute_reply": "2020-11-29T17:06:58.348285Z"
    },
    "papermill": {
     "duration": 0.04993,
     "end_time": "2020-11-29T17:06:58.348947",
     "exception": false,
     "start_time": "2020-11-29T17:06:58.299017",
     "status": "completed"
    },
    "tags": []
   },
   "outputs": [],
   "source": [
    "model = tf.keras.Sequential([\n",
    "  preprocessing_layer,\n",
    "  tf.keras.layers.Dense(128, activation='relu'),\n",
    "  tf.keras.layers.Dense(128, activation='relu'),\n",
    "  tf.keras.layers.Dense(len(target_labels), activation='sigmoid'),\n",
    "])"
   ]
  },
  {
   "cell_type": "code",
   "execution_count": 26,
   "metadata": {
    "execution": {
     "iopub.execute_input": "2020-11-29T17:06:58.414129Z",
     "iopub.status.busy": "2020-11-29T17:06:58.413417Z",
     "iopub.status.idle": "2020-11-29T17:06:58.427904Z",
     "shell.execute_reply": "2020-11-29T17:06:58.427286Z"
    },
    "papermill": {
     "duration": 0.05168,
     "end_time": "2020-11-29T17:06:58.428012",
     "exception": false,
     "start_time": "2020-11-29T17:06:58.376332",
     "status": "completed"
    },
    "tags": []
   },
   "outputs": [],
   "source": [
    "model.compile(\n",
    "    loss=tf.losses.SparseCategoricalCrossentropy(),\n",
    "    optimizer=tf.keras.optimizers.Adam(),\n",
    "    metrics=tf.keras.metrics.SparseCategoricalAccuracy())"
   ]
  },
  {
   "cell_type": "markdown",
   "metadata": {
    "papermill": {
     "duration": 0.026399,
     "end_time": "2020-11-29T17:06:58.481134",
     "exception": false,
     "start_time": "2020-11-29T17:06:58.454735",
     "status": "completed"
    },
    "tags": []
   },
   "source": [
    "### Train test split"
   ]
  },
  {
   "cell_type": "code",
   "execution_count": 27,
   "metadata": {
    "execution": {
     "iopub.execute_input": "2020-11-29T17:06:58.539711Z",
     "iopub.status.busy": "2020-11-29T17:06:58.539023Z",
     "iopub.status.idle": "2020-11-29T17:06:58.541730Z",
     "shell.execute_reply": "2020-11-29T17:06:58.541111Z"
    },
    "papermill": {
     "duration": 0.034028,
     "end_time": "2020-11-29T17:06:58.541837",
     "exception": false,
     "start_time": "2020-11-29T17:06:58.507809",
     "status": "completed"
    },
    "tags": []
   },
   "outputs": [],
   "source": [
    "N = data.shape[0]\n",
    "train_size = 0.8\n",
    "n_train = int(N*train_size)\n",
    "take_train = n_train // BATCH_SIZE"
   ]
  },
  {
   "cell_type": "code",
   "execution_count": 28,
   "metadata": {
    "execution": {
     "iopub.execute_input": "2020-11-29T17:06:58.601099Z",
     "iopub.status.busy": "2020-11-29T17:06:58.600459Z",
     "iopub.status.idle": "2020-11-29T17:06:58.603601Z",
     "shell.execute_reply": "2020-11-29T17:06:58.604083Z"
    },
    "papermill": {
     "duration": 0.035533,
     "end_time": "2020-11-29T17:06:58.604232",
     "exception": false,
     "start_time": "2020-11-29T17:06:58.568699",
     "status": "completed"
    },
    "tags": []
   },
   "outputs": [],
   "source": [
    "train_ds = ds.take(take_train)\n",
    "test_ds = ds.skip(take_train) "
   ]
  },
  {
   "cell_type": "markdown",
   "metadata": {
    "papermill": {
     "duration": 0.027389,
     "end_time": "2020-11-29T17:06:58.658793",
     "exception": false,
     "start_time": "2020-11-29T17:06:58.631404",
     "status": "completed"
    },
    "tags": []
   },
   "source": [
    "### Fit the model"
   ]
  },
  {
   "cell_type": "code",
   "execution_count": 29,
   "metadata": {
    "execution": {
     "iopub.execute_input": "2020-11-29T17:06:58.719289Z",
     "iopub.status.busy": "2020-11-29T17:06:58.718622Z",
     "iopub.status.idle": "2020-11-29T17:07:03.008087Z",
     "shell.execute_reply": "2020-11-29T17:07:03.007384Z"
    },
    "papermill": {
     "duration": 4.322215,
     "end_time": "2020-11-29T17:07:03.008222",
     "exception": false,
     "start_time": "2020-11-29T17:06:58.686007",
     "status": "completed"
    },
    "tags": []
   },
   "outputs": [
    {
     "name": "stdout",
     "output_type": "stream",
     "text": [
      "Epoch 1/20\n",
      "40/40 [==============================] - 0s 9ms/step - loss: 1.4486 - sparse_categorical_accuracy: 0.4812 - val_loss: 1.2247 - val_sparse_categorical_accuracy: 0.6000\n",
      "Epoch 2/20\n",
      "40/40 [==============================] - 0s 3ms/step - loss: 1.0070 - sparse_categorical_accuracy: 0.6500 - val_loss: 0.7248 - val_sparse_categorical_accuracy: 0.8000\n",
      "Epoch 3/20\n",
      "40/40 [==============================] - 0s 3ms/step - loss: 0.5556 - sparse_categorical_accuracy: 0.7937 - val_loss: 0.3734 - val_sparse_categorical_accuracy: 0.9500\n",
      "Epoch 4/20\n",
      "40/40 [==============================] - 0s 3ms/step - loss: 0.3079 - sparse_categorical_accuracy: 0.9375 - val_loss: 0.2609 - val_sparse_categorical_accuracy: 0.9500\n",
      "Epoch 5/20\n",
      "40/40 [==============================] - 0s 3ms/step - loss: 0.2138 - sparse_categorical_accuracy: 0.9375 - val_loss: 0.1663 - val_sparse_categorical_accuracy: 0.9750\n",
      "Epoch 6/20\n",
      "40/40 [==============================] - 0s 3ms/step - loss: 0.1217 - sparse_categorical_accuracy: 0.9750 - val_loss: 0.0758 - val_sparse_categorical_accuracy: 0.9750\n",
      "Epoch 7/20\n",
      "40/40 [==============================] - 0s 3ms/step - loss: 0.1160 - sparse_categorical_accuracy: 0.9750 - val_loss: 0.0552 - val_sparse_categorical_accuracy: 1.0000\n",
      "Epoch 8/20\n",
      "40/40 [==============================] - 0s 3ms/step - loss: 0.0930 - sparse_categorical_accuracy: 0.9875 - val_loss: 0.0601 - val_sparse_categorical_accuracy: 1.0000\n",
      "Epoch 9/20\n",
      "40/40 [==============================] - 0s 3ms/step - loss: 0.0662 - sparse_categorical_accuracy: 1.0000 - val_loss: 0.0347 - val_sparse_categorical_accuracy: 1.0000\n",
      "Epoch 10/20\n",
      "40/40 [==============================] - 0s 3ms/step - loss: 0.0577 - sparse_categorical_accuracy: 0.9750 - val_loss: 0.0310 - val_sparse_categorical_accuracy: 1.0000\n",
      "Epoch 11/20\n",
      "40/40 [==============================] - 0s 3ms/step - loss: 0.0612 - sparse_categorical_accuracy: 0.9812 - val_loss: 0.0227 - val_sparse_categorical_accuracy: 1.0000\n",
      "Epoch 12/20\n",
      "40/40 [==============================] - 0s 3ms/step - loss: 0.0552 - sparse_categorical_accuracy: 0.9875 - val_loss: 0.0368 - val_sparse_categorical_accuracy: 1.0000\n",
      "Epoch 13/20\n",
      "40/40 [==============================] - 0s 3ms/step - loss: 0.0344 - sparse_categorical_accuracy: 1.0000 - val_loss: 0.0379 - val_sparse_categorical_accuracy: 1.0000\n",
      "Epoch 14/20\n",
      "40/40 [==============================] - 0s 3ms/step - loss: 0.0369 - sparse_categorical_accuracy: 1.0000 - val_loss: 0.0410 - val_sparse_categorical_accuracy: 0.9750\n",
      "Epoch 15/20\n",
      "40/40 [==============================] - 0s 3ms/step - loss: 0.0271 - sparse_categorical_accuracy: 0.9937 - val_loss: 0.0109 - val_sparse_categorical_accuracy: 1.0000\n",
      "Epoch 16/20\n",
      "40/40 [==============================] - 0s 3ms/step - loss: 0.0377 - sparse_categorical_accuracy: 0.9875 - val_loss: 0.0333 - val_sparse_categorical_accuracy: 1.0000\n",
      "Epoch 17/20\n",
      "40/40 [==============================] - 0s 3ms/step - loss: 0.0310 - sparse_categorical_accuracy: 0.9937 - val_loss: 0.0208 - val_sparse_categorical_accuracy: 1.0000\n",
      "Epoch 18/20\n",
      "40/40 [==============================] - 0s 3ms/step - loss: 0.0227 - sparse_categorical_accuracy: 0.9937 - val_loss: 0.0138 - val_sparse_categorical_accuracy: 1.0000\n",
      "Epoch 19/20\n",
      "40/40 [==============================] - 0s 3ms/step - loss: 0.0206 - sparse_categorical_accuracy: 1.0000 - val_loss: 0.0185 - val_sparse_categorical_accuracy: 1.0000\n",
      "Epoch 20/20\n",
      "40/40 [==============================] - 0s 3ms/step - loss: 0.0236 - sparse_categorical_accuracy: 0.9937 - val_loss: 0.0102 - val_sparse_categorical_accuracy: 1.0000\n"
     ]
    }
   ],
   "source": [
    "history = model.fit(train_ds, \n",
    "                    validation_data=test_ds,\n",
    "                    epochs=20)"
   ]
  },
  {
   "cell_type": "code",
   "execution_count": 30,
   "metadata": {
    "execution": {
     "iopub.execute_input": "2020-11-29T17:07:03.107303Z",
     "iopub.status.busy": "2020-11-29T17:07:03.106593Z",
     "iopub.status.idle": "2020-11-29T17:07:03.450484Z",
     "shell.execute_reply": "2020-11-29T17:07:03.449823Z"
    },
    "papermill": {
     "duration": 0.396834,
     "end_time": "2020-11-29T17:07:03.450627",
     "exception": false,
     "start_time": "2020-11-29T17:07:03.053793",
     "status": "completed"
    },
    "tags": []
   },
   "outputs": [
    {
     "data": {
      "text/plain": [
       "<matplotlib.legend.Legend at 0x7f479006c3d0>"
      ]
     },
     "execution_count": 30,
     "metadata": {},
     "output_type": "execute_result"
    },
    {
     "data": {
      "image/png": "[encoded data removed]",
      "text/plain": [
       "<Figure size 720x360 with 2 Axes>"
      ]
     },
     "metadata": {},
     "output_type": "display_data"
    }
   ],
   "source": [
    "rows, cols = 1, 2\n",
    "fig, axs = plt.subplots(rows, cols, figsize=(10,5))\n",
    "\n",
    "axs[0].plot(history.history['loss'])\n",
    "axs[0].plot(history.history['val_loss'])\n",
    "axs[0].set_title('Loss')\n",
    "axs[0].legend(['train_loss','val_loss'])\n",
    "\n",
    "axs[1].plot(history.history['sparse_categorical_accuracy'])\n",
    "axs[1].plot(history.history['val_sparse_categorical_accuracy'])\n",
    "axs[1].set_title('Accuracy')\n",
    "axs[1].legend(['Train accuracy','Test accuracy'])"
   ]
  },
  {
   "cell_type": "code",
   "execution_count": 31,
   "metadata": {
    "execution": {
     "iopub.execute_input": "2020-11-29T17:07:03.551524Z",
     "iopub.status.busy": "2020-11-29T17:07:03.550810Z",
     "iopub.status.idle": "2020-11-29T17:07:03.672476Z",
     "shell.execute_reply": "2020-11-29T17:07:03.671485Z"
    },
    "papermill": {
     "duration": 0.173575,
     "end_time": "2020-11-29T17:07:03.672703",
     "exception": false,
     "start_time": "2020-11-29T17:07:03.499128",
     "status": "completed"
    },
    "tags": []
   },
   "outputs": [
    {
     "name": "stdout",
     "output_type": "stream",
     "text": [
      "Pred: \t   True:\n",
      "[2 0 0 0]  [2 0 0 0]\n",
      "[0 0 0 2]  [0 0 0 2]\n",
      "[1 0 2 2]  [1 0 2 2]\n",
      "[0 2 0 1]  [0 2 0 1]\n",
      "[0 2 2 2]  [0 2 2 2]\n",
      "[4 2 2 0]  [4 2 2 0]\n",
      "[0 0 1 4]  [0 0 1 4]\n",
      "[1 2 3 0]  [1 2 3 0]\n",
      "[0 0 2 0]  [0 0 2 0]\n",
      "[0 3 2 0]  [0 3 2 0]\n"
     ]
    }
   ],
   "source": [
    "print(\"Pred: \\t   True:\")\n",
    "for X, y in test_ds:\n",
    "    pred = model(X)\n",
    "    print(f\"{tf.argmax(pred,axis=1)}  {y}\")"
   ]
  },
  {
   "cell_type": "code",
   "execution_count": null,
   "metadata": {
    "papermill": {
     "duration": 0.046911,
     "end_time": "2020-11-29T17:07:03.767832",
     "exception": false,
     "start_time": "2020-11-29T17:07:03.720921",
     "status": "completed"
    },
    "tags": []
   },
   "outputs": [],
   "source": []
  }
 ],
 "metadata": {
  "kernelspec": {
   "display_name": "Python 3",
   "language": "python",
   "name": "python3"
  },
  "language_info": {
   "codemirror_mode": {
    "name": "ipython",
    "version": 3
   },
   "file_extension": ".py",
   "mimetype": "text/x-python",
   "name": "python",
   "nbconvert_exporter": "python",
   "pygments_lexer": "ipython3",
   "version": "3.7.6"
  },
  "papermill": {
   "duration": 19.186441,
   "end_time": "2020-11-29T17:07:03.922743",
   "environment_variables": {},
   "exception": null,
   "input_path": "__notebook__.ipynb",
   "output_path": "__notebook__.ipynb",
   "parameters": {},
   "start_time": "2020-11-29T17:06:44.736302",
   "version": "2.1.0"
  }
 },
 "nbformat": 4,
 "nbformat_minor": 4
}
