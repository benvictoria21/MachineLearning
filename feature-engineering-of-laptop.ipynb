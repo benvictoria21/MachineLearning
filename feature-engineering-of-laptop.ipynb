{
 "cells": [
  {
   "cell_type": "code",
   "execution_count": 1,
   "metadata": {
    "_cell_guid": "b1076dfc-b9ad-4769-8c92-a6c4dae69d19",
    "_uuid": "8f2839f25d086af736a60e9eeb907d3b93b6e0e5",
    "execution": {
     "iopub.execute_input": "2021-03-21T15:54:26.846865Z",
     "iopub.status.busy": "2021-03-21T15:54:26.846229Z",
     "iopub.status.idle": "2021-03-21T15:54:26.849128Z",
     "shell.execute_reply": "2021-03-21T15:54:26.848469Z"
    },
    "papermill": {
     "duration": 0.02147,
     "end_time": "2021-03-21T15:54:26.849315",
     "exception": false,
     "start_time": "2021-03-21T15:54:26.827845",
     "status": "completed"
    },
    "tags": []
   },
   "outputs": [],
   "source": [
    "import numpy as np \n",
    "import pandas as pd "
   ]
  },
  {
   "cell_type": "code",
   "execution_count": 2,
   "metadata": {
    "execution": {
     "iopub.execute_input": "2021-03-21T15:54:26.878031Z",
     "iopub.status.busy": "2021-03-21T15:54:26.877470Z",
     "iopub.status.idle": "2021-03-21T15:54:27.161713Z",
     "shell.execute_reply": "2021-03-21T15:54:27.162294Z"
    },
    "papermill": {
     "duration": 0.300065,
     "end_time": "2021-03-21T15:54:27.162470",
     "exception": false,
     "start_time": "2021-03-21T15:54:26.862405",
     "status": "completed"
    },
    "tags": []
   },
   "outputs": [],
   "source": [
    "df = pd.read_csv('https://raw.githubusercontent.com/benvictoria17/pandas/master/dataset/Laptop%20Prices/laptops.csv',encoding='latin-1')"
   ]
  },
  {
   "cell_type": "code",
   "execution_count": 3,
   "metadata": {
    "execution": {
     "iopub.execute_input": "2021-03-21T15:54:27.191535Z",
     "iopub.status.busy": "2021-03-21T15:54:27.190958Z",
     "iopub.status.idle": "2021-03-21T15:54:27.216856Z",
     "shell.execute_reply": "2021-03-21T15:54:27.217320Z"
    },
    "papermill": {
     "duration": 0.041993,
     "end_time": "2021-03-21T15:54:27.217477",
     "exception": false,
     "start_time": "2021-03-21T15:54:27.175484",
     "status": "completed"
    },
    "tags": []
   },
   "outputs": [
    {
     "data": {
      "text/html": [
       "<div>\n",
       "<style scoped>\n",
       "    .dataframe tbody tr th:only-of-type {\n",
       "        vertical-align: middle;\n",
       "    }\n",
       "\n",
       "    .dataframe tbody tr th {\n",
       "        vertical-align: top;\n",
       "    }\n",
       "\n",
       "    .dataframe thead th {\n",
       "        text-align: right;\n",
       "    }\n",
       "</style>\n",
       "<table border=\"1\" class=\"dataframe\">\n",
       "  <thead>\n",
       "    <tr style=\"text-align: right;\">\n",
       "      <th></th>\n",
       "      <th>Unnamed: 0</th>\n",
       "      <th>Inches</th>\n",
       "      <th>Price_euros</th>\n",
       "    </tr>\n",
       "  </thead>\n",
       "  <tbody>\n",
       "    <tr>\n",
       "      <th>Unnamed: 0</th>\n",
       "      <td>1.000000</td>\n",
       "      <td>-0.087796</td>\n",
       "      <td>0.067830</td>\n",
       "    </tr>\n",
       "    <tr>\n",
       "      <th>Inches</th>\n",
       "      <td>-0.087796</td>\n",
       "      <td>1.000000</td>\n",
       "      <td>0.068197</td>\n",
       "    </tr>\n",
       "    <tr>\n",
       "      <th>Price_euros</th>\n",
       "      <td>0.067830</td>\n",
       "      <td>0.068197</td>\n",
       "      <td>1.000000</td>\n",
       "    </tr>\n",
       "  </tbody>\n",
       "</table>\n",
       "</div>"
      ],
      "text/plain": [
       "             Unnamed: 0    Inches  Price_euros\n",
       "Unnamed: 0     1.000000 -0.087796     0.067830\n",
       "Inches        -0.087796  1.000000     0.068197\n",
       "Price_euros    0.067830  0.068197     1.000000"
      ]
     },
     "execution_count": 3,
     "metadata": {},
     "output_type": "execute_result"
    }
   ],
   "source": [
    "df.corr()"
   ]
  },
  {
   "cell_type": "code",
   "execution_count": 4,
   "metadata": {
    "execution": {
     "iopub.execute_input": "2021-03-21T15:54:27.252978Z",
     "iopub.status.busy": "2021-03-21T15:54:27.252364Z",
     "iopub.status.idle": "2021-03-21T15:54:27.265731Z",
     "shell.execute_reply": "2021-03-21T15:54:27.266516Z"
    },
    "papermill": {
     "duration": 0.034963,
     "end_time": "2021-03-21T15:54:27.266785",
     "exception": false,
     "start_time": "2021-03-21T15:54:27.231822",
     "status": "completed"
    },
    "tags": []
   },
   "outputs": [
    {
     "name": "stdout",
     "output_type": "stream",
     "text": [
      "<class 'pandas.core.frame.DataFrame'>\n",
      "RangeIndex: 1303 entries, 0 to 1302\n",
      "Data columns (total 13 columns):\n",
      " #   Column            Non-Null Count  Dtype  \n",
      "---  ------            --------------  -----  \n",
      " 0   Unnamed: 0        1303 non-null   int64  \n",
      " 1   Company           1303 non-null   object \n",
      " 2   Product           1303 non-null   object \n",
      " 3   TypeName          1303 non-null   object \n",
      " 4   Inches            1303 non-null   float64\n",
      " 5   ScreenResolution  1303 non-null   object \n",
      " 6   Cpu               1303 non-null   object \n",
      " 7   Ram               1303 non-null   object \n",
      " 8   Memory            1303 non-null   object \n",
      " 9   Gpu               1303 non-null   object \n",
      " 10  OpSys             1303 non-null   object \n",
      " 11  Weight            1303 non-null   object \n",
      " 12  Price_euros       1303 non-null   float64\n",
      "dtypes: float64(2), int64(1), object(10)\n",
      "memory usage: 132.5+ KB\n"
     ]
    }
   ],
   "source": [
    "df.info()"
   ]
  },
  {
   "cell_type": "code",
   "execution_count": 5,
   "metadata": {
    "execution": {
     "iopub.execute_input": "2021-03-21T15:54:27.298711Z",
     "iopub.status.busy": "2021-03-21T15:54:27.298060Z",
     "iopub.status.idle": "2021-03-21T15:54:27.312722Z",
     "shell.execute_reply": "2021-03-21T15:54:27.313152Z"
    },
    "papermill": {
     "duration": 0.031713,
     "end_time": "2021-03-21T15:54:27.313319",
     "exception": false,
     "start_time": "2021-03-21T15:54:27.281606",
     "status": "completed"
    },
    "tags": []
   },
   "outputs": [
    {
     "data": {
      "text/html": [
       "<div>\n",
       "<style scoped>\n",
       "    .dataframe tbody tr th:only-of-type {\n",
       "        vertical-align: middle;\n",
       "    }\n",
       "\n",
       "    .dataframe tbody tr th {\n",
       "        vertical-align: top;\n",
       "    }\n",
       "\n",
       "    .dataframe thead th {\n",
       "        text-align: right;\n",
       "    }\n",
       "</style>\n",
       "<table border=\"1\" class=\"dataframe\">\n",
       "  <thead>\n",
       "    <tr style=\"text-align: right;\">\n",
       "      <th></th>\n",
       "      <th>Product</th>\n",
       "      <th>Cpu</th>\n",
       "      <th>Ram</th>\n",
       "      <th>Memory</th>\n",
       "      <th>Gpu</th>\n",
       "      <th>OpSys</th>\n",
       "      <th>Price_euros</th>\n",
       "    </tr>\n",
       "  </thead>\n",
       "  <tbody>\n",
       "    <tr>\n",
       "      <th>0</th>\n",
       "      <td>MacBook Pro</td>\n",
       "      <td>Intel Core i5 2.3GHz</td>\n",
       "      <td>8GB</td>\n",
       "      <td>128GB SSD</td>\n",
       "      <td>Intel Iris Plus Graphics 640</td>\n",
       "      <td>macOS</td>\n",
       "      <td>1339.69</td>\n",
       "    </tr>\n",
       "    <tr>\n",
       "      <th>1</th>\n",
       "      <td>Macbook Air</td>\n",
       "      <td>Intel Core i5 1.8GHz</td>\n",
       "      <td>8GB</td>\n",
       "      <td>128GB Flash Storage</td>\n",
       "      <td>Intel HD Graphics 6000</td>\n",
       "      <td>macOS</td>\n",
       "      <td>898.94</td>\n",
       "    </tr>\n",
       "    <tr>\n",
       "      <th>2</th>\n",
       "      <td>250 G6</td>\n",
       "      <td>Intel Core i5 7200U 2.5GHz</td>\n",
       "      <td>8GB</td>\n",
       "      <td>256GB SSD</td>\n",
       "      <td>Intel HD Graphics 620</td>\n",
       "      <td>No OS</td>\n",
       "      <td>575.00</td>\n",
       "    </tr>\n",
       "    <tr>\n",
       "      <th>3</th>\n",
       "      <td>MacBook Pro</td>\n",
       "      <td>Intel Core i7 2.7GHz</td>\n",
       "      <td>16GB</td>\n",
       "      <td>512GB SSD</td>\n",
       "      <td>AMD Radeon Pro 455</td>\n",
       "      <td>macOS</td>\n",
       "      <td>2537.45</td>\n",
       "    </tr>\n",
       "    <tr>\n",
       "      <th>4</th>\n",
       "      <td>MacBook Pro</td>\n",
       "      <td>Intel Core i5 3.1GHz</td>\n",
       "      <td>8GB</td>\n",
       "      <td>256GB SSD</td>\n",
       "      <td>Intel Iris Plus Graphics 650</td>\n",
       "      <td>macOS</td>\n",
       "      <td>1803.60</td>\n",
       "    </tr>\n",
       "  </tbody>\n",
       "</table>\n",
       "</div>"
      ],
      "text/plain": [
       "       Product                         Cpu   Ram               Memory  \\\n",
       "0  MacBook Pro        Intel Core i5 2.3GHz   8GB            128GB SSD   \n",
       "1  Macbook Air        Intel Core i5 1.8GHz   8GB  128GB Flash Storage   \n",
       "2       250 G6  Intel Core i5 7200U 2.5GHz   8GB            256GB SSD   \n",
       "3  MacBook Pro        Intel Core i7 2.7GHz  16GB            512GB SSD   \n",
       "4  MacBook Pro        Intel Core i5 3.1GHz   8GB            256GB SSD   \n",
       "\n",
       "                            Gpu  OpSys  Price_euros  \n",
       "0  Intel Iris Plus Graphics 640  macOS      1339.69  \n",
       "1        Intel HD Graphics 6000  macOS       898.94  \n",
       "2         Intel HD Graphics 620  No OS       575.00  \n",
       "3            AMD Radeon Pro 455  macOS      2537.45  \n",
       "4  Intel Iris Plus Graphics 650  macOS      1803.60  "
      ]
     },
     "execution_count": 5,
     "metadata": {},
     "output_type": "execute_result"
    }
   ],
   "source": [
    "df.drop(columns=['Unnamed: 0','Company','Inches','ScreenResolution','TypeName','Weight'],inplace=True)\n",
    "df.head()"
   ]
  },
  {
   "cell_type": "code",
   "execution_count": 6,
   "metadata": {
    "execution": {
     "iopub.execute_input": "2021-03-21T15:54:27.347243Z",
     "iopub.status.busy": "2021-03-21T15:54:27.346670Z",
     "iopub.status.idle": "2021-03-21T15:54:27.349478Z",
     "shell.execute_reply": "2021-03-21T15:54:27.348967Z"
    },
    "papermill": {
     "duration": 0.02149,
     "end_time": "2021-03-21T15:54:27.349611",
     "exception": false,
     "start_time": "2021-03-21T15:54:27.328121",
     "status": "completed"
    },
    "tags": []
   },
   "outputs": [],
   "source": [
    "df.reset_index(drop=True, inplace=True)"
   ]
  },
  {
   "cell_type": "code",
   "execution_count": 7,
   "metadata": {
    "execution": {
     "iopub.execute_input": "2021-03-21T15:54:27.392060Z",
     "iopub.status.busy": "2021-03-21T15:54:27.391218Z",
     "iopub.status.idle": "2021-03-21T15:54:27.395439Z",
     "shell.execute_reply": "2021-03-21T15:54:27.394974Z"
    },
    "papermill": {
     "duration": 0.030989,
     "end_time": "2021-03-21T15:54:27.395578",
     "exception": false,
     "start_time": "2021-03-21T15:54:27.364589",
     "status": "completed"
    },
    "tags": []
   },
   "outputs": [
    {
     "name": "stdout",
     "output_type": "stream",
     "text": [
      "<class 'pandas.core.frame.DataFrame'>\n",
      "RangeIndex: 1303 entries, 0 to 1302\n",
      "Data columns (total 7 columns):\n",
      " #   Column       Non-Null Count  Dtype  \n",
      "---  ------       --------------  -----  \n",
      " 0   Product      1303 non-null   object \n",
      " 1   Cpu          1303 non-null   object \n",
      " 2   Ram          1303 non-null   object \n",
      " 3   Memory       1303 non-null   object \n",
      " 4   Gpu          1303 non-null   object \n",
      " 5   OpSys        1303 non-null   object \n",
      " 6   Price_euros  1303 non-null   float64\n",
      "dtypes: float64(1), object(6)\n",
      "memory usage: 71.4+ KB\n"
     ]
    }
   ],
   "source": [
    "df.info()"
   ]
  },
  {
   "cell_type": "code",
   "execution_count": 8,
   "metadata": {
    "execution": {
     "iopub.execute_input": "2021-03-21T15:54:27.431022Z",
     "iopub.status.busy": "2021-03-21T15:54:27.430426Z",
     "iopub.status.idle": "2021-03-21T15:54:27.433206Z",
     "shell.execute_reply": "2021-03-21T15:54:27.432583Z"
    },
    "papermill": {
     "duration": 0.022283,
     "end_time": "2021-03-21T15:54:27.433342",
     "exception": false,
     "start_time": "2021-03-21T15:54:27.411059",
     "status": "completed"
    },
    "tags": []
   },
   "outputs": [],
   "source": [
    "col = [feature for feature in df.columns if df[feature].dtype == 'O']"
   ]
  },
  {
   "cell_type": "code",
   "execution_count": 9,
   "metadata": {
    "execution": {
     "iopub.execute_input": "2021-03-21T15:54:27.470884Z",
     "iopub.status.busy": "2021-03-21T15:54:27.470277Z",
     "iopub.status.idle": "2021-03-21T15:54:27.485657Z",
     "shell.execute_reply": "2021-03-21T15:54:27.486137Z"
    },
    "papermill": {
     "duration": 0.037722,
     "end_time": "2021-03-21T15:54:27.486285",
     "exception": false,
     "start_time": "2021-03-21T15:54:27.448563",
     "status": "completed"
    },
    "tags": []
   },
   "outputs": [],
   "source": [
    "for feature in col:\n",
    "    labels_ordered= df.groupby([feature])['Price_euros'].mean().sort_values().index\n",
    "    labels_ordered={k:i for i,k in enumerate(labels_ordered,0)}\n",
    "    df[feature]=df[feature].map(labels_ordered)"
   ]
  },
  {
   "cell_type": "code",
   "execution_count": 10,
   "metadata": {
    "execution": {
     "iopub.execute_input": "2021-03-21T15:54:27.521003Z",
     "iopub.status.busy": "2021-03-21T15:54:27.520414Z",
     "iopub.status.idle": "2021-03-21T15:54:27.530385Z",
     "shell.execute_reply": "2021-03-21T15:54:27.530938Z"
    },
    "papermill": {
     "duration": 0.028168,
     "end_time": "2021-03-21T15:54:27.531086",
     "exception": false,
     "start_time": "2021-03-21T15:54:27.502918",
     "status": "completed"
    },
    "tags": []
   },
   "outputs": [
    {
     "data": {
      "text/html": [
       "<div>\n",
       "<style scoped>\n",
       "    .dataframe tbody tr th:only-of-type {\n",
       "        vertical-align: middle;\n",
       "    }\n",
       "\n",
       "    .dataframe tbody tr th {\n",
       "        vertical-align: top;\n",
       "    }\n",
       "\n",
       "    .dataframe thead th {\n",
       "        text-align: right;\n",
       "    }\n",
       "</style>\n",
       "<table border=\"1\" class=\"dataframe\">\n",
       "  <thead>\n",
       "    <tr style=\"text-align: right;\">\n",
       "      <th></th>\n",
       "      <th>Product</th>\n",
       "      <th>Cpu</th>\n",
       "      <th>Ram</th>\n",
       "      <th>Memory</th>\n",
       "      <th>Gpu</th>\n",
       "      <th>OpSys</th>\n",
       "      <th>Price_euros</th>\n",
       "    </tr>\n",
       "  </thead>\n",
       "  <tbody>\n",
       "    <tr>\n",
       "      <th>0</th>\n",
       "      <td>559</td>\n",
       "      <td>85</td>\n",
       "      <td>3</td>\n",
       "      <td>13</td>\n",
       "      <td>80</td>\n",
       "      <td>8</td>\n",
       "      <td>1339.69</td>\n",
       "    </tr>\n",
       "    <tr>\n",
       "      <th>1</th>\n",
       "      <td>333</td>\n",
       "      <td>64</td>\n",
       "      <td>3</td>\n",
       "      <td>14</td>\n",
       "      <td>45</td>\n",
       "      <td>8</td>\n",
       "      <td>898.94</td>\n",
       "    </tr>\n",
       "    <tr>\n",
       "      <th>2</th>\n",
       "      <td>107</td>\n",
       "      <td>58</td>\n",
       "      <td>3</td>\n",
       "      <td>20</td>\n",
       "      <td>54</td>\n",
       "      <td>2</td>\n",
       "      <td>575.00</td>\n",
       "    </tr>\n",
       "    <tr>\n",
       "      <th>3</th>\n",
       "      <td>559</td>\n",
       "      <td>111</td>\n",
       "      <td>5</td>\n",
       "      <td>30</td>\n",
       "      <td>95</td>\n",
       "      <td>8</td>\n",
       "      <td>2537.45</td>\n",
       "    </tr>\n",
       "    <tr>\n",
       "      <th>4</th>\n",
       "      <td>559</td>\n",
       "      <td>99</td>\n",
       "      <td>3</td>\n",
       "      <td>20</td>\n",
       "      <td>84</td>\n",
       "      <td>8</td>\n",
       "      <td>1803.60</td>\n",
       "    </tr>\n",
       "  </tbody>\n",
       "</table>\n",
       "</div>"
      ],
      "text/plain": [
       "   Product  Cpu  Ram  Memory  Gpu  OpSys  Price_euros\n",
       "0      559   85    3      13   80      8      1339.69\n",
       "1      333   64    3      14   45      8       898.94\n",
       "2      107   58    3      20   54      2       575.00\n",
       "3      559  111    5      30   95      8      2537.45\n",
       "4      559   99    3      20   84      8      1803.60"
      ]
     },
     "execution_count": 10,
     "metadata": {},
     "output_type": "execute_result"
    }
   ],
   "source": [
    "df.head()"
   ]
  },
  {
   "cell_type": "code",
   "execution_count": 11,
   "metadata": {
    "execution": {
     "iopub.execute_input": "2021-03-21T15:54:27.566468Z",
     "iopub.status.busy": "2021-03-21T15:54:27.565927Z",
     "iopub.status.idle": "2021-03-21T15:54:27.570788Z",
     "shell.execute_reply": "2021-03-21T15:54:27.571322Z"
    },
    "papermill": {
     "duration": 0.023941,
     "end_time": "2021-03-21T15:54:27.571463",
     "exception": false,
     "start_time": "2021-03-21T15:54:27.547522",
     "status": "completed"
    },
    "tags": []
   },
   "outputs": [],
   "source": [
    "y = df[\"Price_euros\"]\n",
    "X = df.drop(columns=\"Price_euros\")"
   ]
  },
  {
   "cell_type": "code",
   "execution_count": 12,
   "metadata": {
    "execution": {
     "iopub.execute_input": "2021-03-21T15:54:27.606549Z",
     "iopub.status.busy": "2021-03-21T15:54:27.606006Z",
     "iopub.status.idle": "2021-03-21T15:54:28.491810Z",
     "shell.execute_reply": "2021-03-21T15:54:28.490796Z"
    },
    "papermill": {
     "duration": 0.90418,
     "end_time": "2021-03-21T15:54:28.491960",
     "exception": false,
     "start_time": "2021-03-21T15:54:27.587780",
     "status": "completed"
    },
    "tags": []
   },
   "outputs": [],
   "source": [
    "from sklearn.preprocessing import StandardScaler\n",
    "scaler = StandardScaler() \n",
    "\n",
    "temp = scaler.fit_transform(X)\n",
    "X = pd.DataFrame(temp)"
   ]
  },
  {
   "cell_type": "code",
   "execution_count": 13,
   "metadata": {
    "execution": {
     "iopub.execute_input": "2021-03-21T15:54:28.529186Z",
     "iopub.status.busy": "2021-03-21T15:54:28.528656Z",
     "iopub.status.idle": "2021-03-21T15:54:28.591467Z",
     "shell.execute_reply": "2021-03-21T15:54:28.590944Z"
    },
    "papermill": {
     "duration": 0.08294,
     "end_time": "2021-03-21T15:54:28.591612",
     "exception": false,
     "start_time": "2021-03-21T15:54:28.508672",
     "status": "completed"
    },
    "tags": []
   },
   "outputs": [],
   "source": [
    "from sklearn.model_selection import train_test_split\n",
    "\n",
    "X_train, X_test, y_train, y_test = train_test_split(X, y, test_size=0.25, random_state=42,shuffle = True)"
   ]
  },
  {
   "cell_type": "code",
   "execution_count": 14,
   "metadata": {
    "execution": {
     "iopub.execute_input": "2021-03-21T15:54:28.630114Z",
     "iopub.status.busy": "2021-03-21T15:54:28.629474Z",
     "iopub.status.idle": "2021-03-21T15:54:28.746999Z",
     "shell.execute_reply": "2021-03-21T15:54:28.746451Z"
    },
    "papermill": {
     "duration": 0.137976,
     "end_time": "2021-03-21T15:54:28.747164",
     "exception": false,
     "start_time": "2021-03-21T15:54:28.609188",
     "status": "completed"
    },
    "tags": []
   },
   "outputs": [
    {
     "data": {
      "text/plain": [
       "LinearRegression()"
      ]
     },
     "execution_count": 14,
     "metadata": {},
     "output_type": "execute_result"
    }
   ],
   "source": [
    "from sklearn.linear_model import LinearRegression\n",
    "lr = LinearRegression() \n",
    "lr.fit(X_train,y_train)"
   ]
  },
  {
   "cell_type": "code",
   "execution_count": 15,
   "metadata": {
    "execution": {
     "iopub.execute_input": "2021-03-21T15:54:28.788689Z",
     "iopub.status.busy": "2021-03-21T15:54:28.787844Z",
     "iopub.status.idle": "2021-03-21T15:54:28.792022Z",
     "shell.execute_reply": "2021-03-21T15:54:28.791445Z"
    },
    "papermill": {
     "duration": 0.028092,
     "end_time": "2021-03-21T15:54:28.792143",
     "exception": false,
     "start_time": "2021-03-21T15:54:28.764051",
     "status": "completed"
    },
    "tags": []
   },
   "outputs": [
    {
     "data": {
      "text/plain": [
       "0.7847431032252344"
      ]
     },
     "execution_count": 15,
     "metadata": {},
     "output_type": "execute_result"
    }
   ],
   "source": [
    "lr.score(X_test,y_test)"
   ]
  },
  {
   "cell_type": "code",
   "execution_count": 16,
   "metadata": {
    "execution": {
     "iopub.execute_input": "2021-03-21T15:54:28.833717Z",
     "iopub.status.busy": "2021-03-21T15:54:28.832814Z",
     "iopub.status.idle": "2021-03-21T15:54:28.836062Z",
     "shell.execute_reply": "2021-03-21T15:54:28.835449Z"
    },
    "papermill": {
     "duration": 0.0262,
     "end_time": "2021-03-21T15:54:28.836200",
     "exception": false,
     "start_time": "2021-03-21T15:54:28.810000",
     "status": "completed"
    },
    "tags": []
   },
   "outputs": [],
   "source": [
    "y_pred_lr = lr.predict(X_test)"
   ]
  },
  {
   "cell_type": "code",
   "execution_count": 17,
   "metadata": {
    "execution": {
     "iopub.execute_input": "2021-03-21T15:54:28.876265Z",
     "iopub.status.busy": "2021-03-21T15:54:28.875571Z",
     "iopub.status.idle": "2021-03-21T15:54:29.414948Z",
     "shell.execute_reply": "2021-03-21T15:54:29.414430Z"
    },
    "papermill": {
     "duration": 0.561182,
     "end_time": "2021-03-21T15:54:29.415115",
     "exception": false,
     "start_time": "2021-03-21T15:54:28.853933",
     "status": "completed"
    },
    "tags": []
   },
   "outputs": [
    {
     "data": {
      "text/plain": [
       "RandomForestRegressor(random_state=1)"
      ]
     },
     "execution_count": 17,
     "metadata": {},
     "output_type": "execute_result"
    }
   ],
   "source": [
    "from sklearn.ensemble import RandomForestRegressor\n",
    "rfr = RandomForestRegressor(random_state=1)\n",
    "rfr.fit(X_train,y_train)"
   ]
  },
  {
   "cell_type": "code",
   "execution_count": 18,
   "metadata": {
    "execution": {
     "iopub.execute_input": "2021-03-21T15:54:29.457560Z",
     "iopub.status.busy": "2021-03-21T15:54:29.457005Z",
     "iopub.status.idle": "2021-03-21T15:54:29.483614Z",
     "shell.execute_reply": "2021-03-21T15:54:29.483141Z"
    },
    "papermill": {
     "duration": 0.050665,
     "end_time": "2021-03-21T15:54:29.483767",
     "exception": false,
     "start_time": "2021-03-21T15:54:29.433102",
     "status": "completed"
    },
    "tags": []
   },
   "outputs": [
    {
     "data": {
      "text/plain": [
       "0.9852196558985368"
      ]
     },
     "execution_count": 18,
     "metadata": {},
     "output_type": "execute_result"
    }
   ],
   "source": [
    "rfr.score(X_train,y_train)"
   ]
  },
  {
   "cell_type": "code",
   "execution_count": 19,
   "metadata": {
    "execution": {
     "iopub.execute_input": "2021-03-21T15:54:29.526223Z",
     "iopub.status.busy": "2021-03-21T15:54:29.525583Z",
     "iopub.status.idle": "2021-03-21T15:54:29.542375Z",
     "shell.execute_reply": "2021-03-21T15:54:29.542862Z"
    },
    "papermill": {
     "duration": 0.041138,
     "end_time": "2021-03-21T15:54:29.543026",
     "exception": false,
     "start_time": "2021-03-21T15:54:29.501888",
     "status": "completed"
    },
    "tags": []
   },
   "outputs": [
    {
     "data": {
      "text/plain": [
       "0.9333575624283379"
      ]
     },
     "execution_count": 19,
     "metadata": {},
     "output_type": "execute_result"
    }
   ],
   "source": [
    "rfr.score(X_test,y_test)"
   ]
  },
  {
   "cell_type": "code",
   "execution_count": 20,
   "metadata": {
    "execution": {
     "iopub.execute_input": "2021-03-21T15:54:29.582240Z",
     "iopub.status.busy": "2021-03-21T15:54:29.581675Z",
     "iopub.status.idle": "2021-03-21T15:54:29.600430Z",
     "shell.execute_reply": "2021-03-21T15:54:29.600904Z"
    },
    "papermill": {
     "duration": 0.039311,
     "end_time": "2021-03-21T15:54:29.601072",
     "exception": false,
     "start_time": "2021-03-21T15:54:29.561761",
     "status": "completed"
    },
    "tags": []
   },
   "outputs": [],
   "source": [
    "y_pred_rfr = rfr.predict(X_test) "
   ]
  },
  {
   "cell_type": "code",
   "execution_count": 21,
   "metadata": {
    "execution": {
     "iopub.execute_input": "2021-03-21T15:54:29.641447Z",
     "iopub.status.busy": "2021-03-21T15:54:29.640855Z",
     "iopub.status.idle": "2021-03-21T15:54:29.648993Z",
     "shell.execute_reply": "2021-03-21T15:54:29.650039Z"
    },
    "papermill": {
     "duration": 0.030413,
     "end_time": "2021-03-21T15:54:29.650279",
     "exception": false,
     "start_time": "2021-03-21T15:54:29.619866",
     "status": "completed"
    },
    "tags": []
   },
   "outputs": [
    {
     "data": {
      "text/plain": [
       "17.031282581337"
      ]
     },
     "execution_count": 21,
     "metadata": {},
     "output_type": "execute_result"
    }
   ],
   "source": [
    "from sklearn.metrics import mean_absolute_error\n",
    "mae = mean_absolute_error(y_pred_lr,y_test)\n",
    "mean = y_test.mean()\n",
    "percentage_mae = mae/mean*100\n",
    "percentage_mae"
   ]
  },
  {
   "cell_type": "code",
   "execution_count": 22,
   "metadata": {
    "execution": {
     "iopub.execute_input": "2021-03-21T15:54:29.699367Z",
     "iopub.status.busy": "2021-03-21T15:54:29.698789Z",
     "iopub.status.idle": "2021-03-21T15:54:29.701967Z",
     "shell.execute_reply": "2021-03-21T15:54:29.702509Z"
    },
    "papermill": {
     "duration": 0.028818,
     "end_time": "2021-03-21T15:54:29.702721",
     "exception": false,
     "start_time": "2021-03-21T15:54:29.673903",
     "status": "completed"
    },
    "tags": []
   },
   "outputs": [
    {
     "data": {
      "text/plain": [
       "8.96793987448028"
      ]
     },
     "execution_count": 22,
     "metadata": {},
     "output_type": "execute_result"
    }
   ],
   "source": [
    "mae = mean_absolute_error(y_pred_rfr,y_test)\n",
    "mean = y_test.mean()\n",
    "percentage_mae = mae/mean*100\n",
    "percentage_mae"
   ]
  },
  {
   "cell_type": "code",
   "execution_count": null,
   "metadata": {
    "papermill": {
     "duration": 0.019891,
     "end_time": "2021-03-21T15:54:29.741755",
     "exception": false,
     "start_time": "2021-03-21T15:54:29.721864",
     "status": "completed"
    },
    "tags": []
   },
   "outputs": [],
   "source": []
  }
 ],
 "metadata": {
  "kernelspec": {
   "display_name": "Python 3",
   "language": "python",
   "name": "python3"
  },
  "language_info": {
   "codemirror_mode": {
    "name": "ipython",
    "version": 3
   },
   "file_extension": ".py",
   "mimetype": "text/x-python",
   "name": "python",
   "nbconvert_exporter": "python",
   "pygments_lexer": "ipython3",
   "version": "3.7.9"
  },
  "papermill": {
   "default_parameters": {},
   "duration": 8.394582,
   "end_time": "2021-03-21T15:54:30.270353",
   "environment_variables": {},
   "exception": null,
   "input_path": "__notebook__.ipynb",
   "output_path": "__notebook__.ipynb",
   "parameters": {},
   "start_time": "2021-03-21T15:54:21.875771",
   "version": "2.2.2"
  }
 },
 "nbformat": 4,
 "nbformat_minor": 4
}
